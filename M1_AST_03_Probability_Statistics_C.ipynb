{
  "nbformat": 4,
  "nbformat_minor": 0,
  "metadata": {
    "colab": {
      "name": "Copy of M1_AST_03_Probability_Statistics_C.ipynb",
      "provenance": [],
      "collapsed_sections": [],
      "toc_visible": true,
      "include_colab_link": true
    },
    "kernelspec": {
      "name": "python3",
      "display_name": "Python 3"
    },
    "language_info": {
      "name": "python"
    }
  },
  "cells": [
    {
      "cell_type": "markdown",
      "metadata": {
        "id": "view-in-github",
        "colab_type": "text"
      },
      "source": [
        "<a href=\"https://colab.research.google.com/github/mnshcodie/IIScEx_2021/blob/main/M1_AST_03_Probability_Statistics_C.ipynb\" target=\"_parent\"><img src=\"https://colab.research.google.com/assets/colab-badge.svg\" alt=\"Open In Colab\"/></a>"
      ]
    },
    {
      "cell_type": "markdown",
      "metadata": {
        "id": "wFOxPmBEhsb6"
      },
      "source": [
        "# Advanced Certification Program in Deep Learning\n",
        "## A program by IISc and TalentSprint\n",
        "### Assignment 3: Probability and Statistics"
      ]
    },
    {
      "cell_type": "markdown",
      "metadata": {
        "id": "2ISbytm-hzTy"
      },
      "source": [
        "## Learning Objectives"
      ]
    },
    {
      "cell_type": "markdown",
      "metadata": {
        "id": "l7H9pjT_h1ko"
      },
      "source": [
        "At the end of the experiment, you will be able to\n",
        "\n",
        "* get a broad exposure of the random variables and the way to deal them.\n",
        "* understand the terms like experiment, outcome, sample space and event\n",
        "* understand the concepts of discrete, continuous random variables and distributions\n",
        "*   understand PMF, PDF and joint distributions\n",
        "* understand maximum likelihood estimates, priors, and conjugate priors\n",
        "* apply the concept of Bayesian Inference\n",
        "* understand the concepts of the exponential family and beta-binomial\n",
        "\n",
        "*   understand measure of variability\n",
        "*   understand marginal, conditional probability, and chain rule\n",
        "*   understand about independence and conditional independence\n",
        "*   understand Bayes Theorem\n"
      ]
    },
    {
      "cell_type": "markdown",
      "metadata": {
        "id": "BNLA8HiKxQhc"
      },
      "source": [
        "### Setup Steps:"
      ]
    },
    {
      "cell_type": "code",
      "metadata": {
        "id": "2YzfoPvJDiTX"
      },
      "source": [
        "#@title Please enter your registration id to start: { run: \"auto\", display-mode: \"form\" }\n",
        "Id = \"2200035\" #@param {type:\"string\"}"
      ],
      "execution_count": null,
      "outputs": []
    },
    {
      "cell_type": "code",
      "metadata": {
        "id": "rEzlYL4CDrmE"
      },
      "source": [
        "#@title Please enter your password (normally your phone number) to continue: { run: \"auto\", display-mode: \"form\" }\n",
        "password = \"8217689083\" #@param {type:\"string\"}"
      ],
      "execution_count": null,
      "outputs": []
    },
    {
      "cell_type": "code",
      "metadata": {
        "id": "WBPPuGmBlDIN",
        "cellView": "form",
        "colab": {
          "base_uri": "https://localhost:8080/",
          "height": 34
        },
        "outputId": "a6586692-8065-4f6b-ef4f-a07d607afa74"
      },
      "source": [
        "#@title Run this cell to complete the setup for this Notebook\n",
        "from IPython import get_ipython\n",
        "\n",
        "ipython = get_ipython()\n",
        "  \n",
        "notebook= \"M1_AST_03_Probability_Statistics_C\" #name of the notebook\n",
        "\n",
        "def setup():\n",
        "#  ipython.magic(\"sx pip3 install torch\")  \n",
        "    from IPython.display import HTML, display\n",
        "    display(HTML('<script src=\"https://dashboard.talentsprint.com/aiml/record_ip.html?traineeId={0}&recordId={1}\"></script>'.format(getId(),submission_id)))\n",
        "    print(\"Setup completed successfully\")\n",
        "    return\n",
        "\n",
        "def submit_notebook():\n",
        "    ipython.magic(\"notebook -e \"+ notebook + \".ipynb\")\n",
        "    \n",
        "    import requests, json, base64, datetime\n",
        "\n",
        "    url = \"https://dashboard.talentsprint.com/xp/app/save_notebook_attempts\"\n",
        "    if not submission_id:\n",
        "      data = {\"id\" : getId(), \"notebook\" : notebook, \"mobile\" : getPassword()}\n",
        "      r = requests.post(url, data = data)\n",
        "      r = json.loads(r.text)\n",
        "\n",
        "      if r[\"status\"] == \"Success\":\n",
        "          return r[\"record_id\"]\n",
        "      elif \"err\" in r:        \n",
        "        print(r[\"err\"])\n",
        "        return None        \n",
        "      else:\n",
        "        print (\"Something is wrong, the notebook will not be submitted for grading\")\n",
        "        return None\n",
        "    \n",
        "    elif getAnswer1() and getAnswer2() and getComplexity() and getAdditional() and getConcepts() and getComments() and getMentorSupport():\n",
        "      f = open(notebook + \".ipynb\", \"rb\")\n",
        "      file_hash = base64.b64encode(f.read())\n",
        "\n",
        "      data = {\"complexity\" : Complexity, \"additional\" :Additional, \n",
        "              \"concepts\" : Concepts, \"record_id\" : submission_id, \n",
        "              \"answer1\" : Answer1, \"answer2\" : Answer2, \"id\" : Id, \"file_hash\" : file_hash,\n",
        "              \"notebook\" : notebook,\n",
        "              \"feedback_experiments_input\" : Comments,\n",
        "              \"feedback_mentor_support\": Mentor_support}\n",
        "      r = requests.post(url, data = data)\n",
        "      r = json.loads(r.text)\n",
        "      if \"err\" in r:        \n",
        "        print(r[\"err\"])\n",
        "        return None   \n",
        "      else:\n",
        "        print(\"Your submission is successful.\")\n",
        "        print(\"Ref Id:\", submission_id)\n",
        "        print(\"Date of submission: \", r[\"date\"])\n",
        "        print(\"Time of submission: \", r[\"time\"])\n",
        "        print(\"View your submissions: https://dlfa.iisc.talentsprint.com/notebook_submissions\")\n",
        "        #print(\"For any queries/discrepancies, please connect with mentors through the chat icon in LMS dashboard.\")\n",
        "        return submission_id\n",
        "    else: submission_id\n",
        "    \n",
        "\n",
        "def getAdditional():\n",
        "  try:\n",
        "    if not Additional: \n",
        "      raise NameError\n",
        "    else:\n",
        "      return Additional  \n",
        "  except NameError:\n",
        "    print (\"Please answer Additional Question\")\n",
        "    return None\n",
        "\n",
        "def getComplexity():\n",
        "  try:\n",
        "    if not Complexity:\n",
        "      raise NameError\n",
        "    else:\n",
        "      return Complexity\n",
        "  except NameError:\n",
        "    print (\"Please answer Complexity Question\")\n",
        "    return None\n",
        "  \n",
        "def getConcepts():\n",
        "  try:\n",
        "    if not Concepts:\n",
        "      raise NameError\n",
        "    else:\n",
        "      return Concepts\n",
        "  except NameError:\n",
        "    print (\"Please answer Concepts Question\")\n",
        "    return None\n",
        "  \n",
        "  \n",
        "# def getWalkthrough():\n",
        "#   try:\n",
        "#     if not Walkthrough:\n",
        "#       raise NameError\n",
        "#     else:\n",
        "#       return Walkthrough\n",
        "#   except NameError:\n",
        "#     print (\"Please answer Walkthrough Question\")\n",
        "#     return None\n",
        "  \n",
        "def getComments():\n",
        "  try:\n",
        "    if not Comments:\n",
        "      raise NameError\n",
        "    else:\n",
        "      return Comments\n",
        "  except NameError:\n",
        "    print (\"Please answer Comments Question\")\n",
        "    return None\n",
        "  \n",
        "\n",
        "def getMentorSupport():\n",
        "  try:\n",
        "    if not Mentor_support:\n",
        "      raise NameError\n",
        "    else:\n",
        "      return Mentor_support\n",
        "  except NameError:\n",
        "    print (\"Please answer Mentor support Question\")\n",
        "    return None\n",
        "\n",
        "def getAnswer1():\n",
        "  try:\n",
        "    if not Answer1:\n",
        "      raise NameError \n",
        "    else: \n",
        "      return Answer1\n",
        "  except NameError:\n",
        "    print (\"Please answer Question 1\")\n",
        "    return None\n",
        "\n",
        "def getAnswer2():\n",
        "  try:\n",
        "    if not Answer2:\n",
        "      raise NameError \n",
        "    else: \n",
        "      return Answer2\n",
        "  except NameError:\n",
        "    print (\"Please answer Question 2\")\n",
        "    return None\n",
        "  \n",
        "\n",
        "def getId():\n",
        "  try: \n",
        "    return Id if Id else None\n",
        "  except NameError:\n",
        "    return None\n",
        "\n",
        "def getPassword():\n",
        "  try:\n",
        "    return password if password else None\n",
        "  except NameError:\n",
        "    return None\n",
        "\n",
        "submission_id = None\n",
        "### Setup \n",
        "if getPassword() and getId():\n",
        "  submission_id = submit_notebook()\n",
        "  if submission_id:\n",
        "    setup() \n",
        "else:\n",
        "  print (\"Please complete Id and Password cells before running setup\")\n",
        "\n"
      ],
      "execution_count": null,
      "outputs": [
        {
          "output_type": "display_data",
          "data": {
            "text/html": [
              "<script src=\"https://dashboard.talentsprint.com/aiml/record_ip.html?traineeId=2200035&recordId=539\"></script>"
            ],
            "text/plain": [
              "<IPython.core.display.HTML object>"
            ]
          },
          "metadata": {
            "tags": []
          }
        },
        {
          "output_type": "stream",
          "text": [
            "Setup completed successfully\n"
          ],
          "name": "stdout"
        }
      ]
    },
    {
      "cell_type": "markdown",
      "metadata": {
        "id": "IluFDCbC0VaS"
      },
      "source": [
        "#### Importing required packages"
      ]
    },
    {
      "cell_type": "code",
      "metadata": {
        "id": "cCz1hgPai1Wz"
      },
      "source": [
        "import numpy as np\n",
        "import pandas as pd\n",
        "import scipy                        # scientific computation library\n",
        "import scipy.stats as stats\n",
        "from scipy.stats import beta, norm\n",
        "from scipy.stats import binom\n",
        "from scipy.stats import expon\n",
        "from scipy.stats import multivariate_normal\n",
        "from scipy.stats import uniform\n",
        "from scipy.stats import bernoulli\n",
        "from math import factorial\n",
        "import matplotlib.pyplot as plt     # Visualization\n",
        "import seaborn as sns               # Advaced Visualization with high level interface\n",
        "from scipy import integrate         # several integration techniques\n",
        "sns.set_style('whitegrid')\n",
        "import warnings\n",
        "warnings.filterwarnings(\"ignore\")"
      ],
      "execution_count": null,
      "outputs": []
    },
    {
      "cell_type": "markdown",
      "metadata": {
        "id": "Qen2Rd3dshL9"
      },
      "source": [
        "### Random Variables"
      ]
    },
    {
      "cell_type": "markdown",
      "metadata": {
        "id": "MF6UPftAl97u"
      },
      "source": [
        "Random variable is basically a function which maps from the set of sample space to set of real numbers. The purpose is to get an idea about result of a particular situation where we are given probabilities of different outcomes.\n",
        "\n",
        "   Formal definition :   $ X: S -> R $\n",
        "\n",
        "where,  $X$ = random variable, $S$ = set of sample space, $R$ = set of real numbers\n",
        "   \n",
        "To know more about random variables click [here](http://www.stat.yale.edu/Courses/1997-98/101/ranvar.htm).\n",
        "   \n",
        "There are mainly two types of random variables: discrete and continuous as shown in figure below\n",
        "\n",
        "![image](https://cdn.iisc.talentsprint.com/CDS/Images/Random_variables.jpg)"
      ]
    },
    {
      "cell_type": "markdown",
      "metadata": {
        "id": "oQeldSlDmIa2"
      },
      "source": [
        "Constructing probability distributions for random variables"
      ]
    },
    {
      "cell_type": "markdown",
      "metadata": {
        "id": "CATXIJ0QmJYj"
      },
      "source": [
        "### Discrete Random Variable and PMF"
      ]
    },
    {
      "cell_type": "markdown",
      "metadata": {
        "id": "wnQ9FlZymOxA"
      },
      "source": [
        "A random variable $X$ is said to be discrete if it takes on finite number of values. The probability function associated with it is said to be probability mass function or PMF.\n",
        "$P(x_i)$ = Probability that $(X = x_i)$ = PMF of $X = p_i$.\n",
        "\n",
        "* $ 0 ≤ p_i ≤ 1 $\n",
        "* $ ∑p_i = 1 $ where the sum is taken over all possible values of X "
      ]
    },
    {
      "cell_type": "markdown",
      "metadata": {
        "id": "CrzDjmqCmRYn"
      },
      "source": [
        "**Exercise 1:** Let $S$ is the sample space given below and corresponding $P(X=x_i)$ is also given, where $X$ is a discrete random variable. Find the probability at $X=0$."
      ]
    },
    {
      "cell_type": "code",
      "metadata": {
        "id": "XO5tSsN_mVAC",
        "colab": {
          "base_uri": "https://localhost:8080/",
          "height": 80
        },
        "outputId": "70f07391-2fee-4151-c1ce-a16165a63ca6"
      },
      "source": [
        "df1 = pd.DataFrame({'X=0': '?', 'X=1':0.2, 'X=3': 0.3, 'X=4': 0.1}, index= ['P(X=xi)'])\n",
        "df1"
      ],
      "execution_count": null,
      "outputs": [
        {
          "output_type": "execute_result",
          "data": {
            "text/html": [
              "<div>\n",
              "<style scoped>\n",
              "    .dataframe tbody tr th:only-of-type {\n",
              "        vertical-align: middle;\n",
              "    }\n",
              "\n",
              "    .dataframe tbody tr th {\n",
              "        vertical-align: top;\n",
              "    }\n",
              "\n",
              "    .dataframe thead th {\n",
              "        text-align: right;\n",
              "    }\n",
              "</style>\n",
              "<table border=\"1\" class=\"dataframe\">\n",
              "  <thead>\n",
              "    <tr style=\"text-align: right;\">\n",
              "      <th></th>\n",
              "      <th>X=0</th>\n",
              "      <th>X=1</th>\n",
              "      <th>X=3</th>\n",
              "      <th>X=4</th>\n",
              "    </tr>\n",
              "  </thead>\n",
              "  <tbody>\n",
              "    <tr>\n",
              "      <th>P(X=xi)</th>\n",
              "      <td>?</td>\n",
              "      <td>0.2</td>\n",
              "      <td>0.3</td>\n",
              "      <td>0.1</td>\n",
              "    </tr>\n",
              "  </tbody>\n",
              "</table>\n",
              "</div>"
            ],
            "text/plain": [
              "        X=0  X=1  X=3  X=4\n",
              "P(X=xi)   ?  0.2  0.3  0.1"
            ]
          },
          "metadata": {
            "tags": []
          },
          "execution_count": 59
        }
      ]
    },
    {
      "cell_type": "code",
      "metadata": {
        "id": "ci0ZqXMnmXpC",
        "colab": {
          "base_uri": "https://localhost:8080/",
          "height": 80
        },
        "outputId": "2099b503-f48a-42f2-99b1-97d3680e77fd"
      },
      "source": [
        "# For a discrete random variable we know that sum of all P(X=xi) = 1,\n",
        "df1['X=0'] = 1 - sum(df1.iloc[0,1:])\n",
        "df1"
      ],
      "execution_count": null,
      "outputs": [
        {
          "output_type": "execute_result",
          "data": {
            "text/html": [
              "<div>\n",
              "<style scoped>\n",
              "    .dataframe tbody tr th:only-of-type {\n",
              "        vertical-align: middle;\n",
              "    }\n",
              "\n",
              "    .dataframe tbody tr th {\n",
              "        vertical-align: top;\n",
              "    }\n",
              "\n",
              "    .dataframe thead th {\n",
              "        text-align: right;\n",
              "    }\n",
              "</style>\n",
              "<table border=\"1\" class=\"dataframe\">\n",
              "  <thead>\n",
              "    <tr style=\"text-align: right;\">\n",
              "      <th></th>\n",
              "      <th>X=0</th>\n",
              "      <th>X=1</th>\n",
              "      <th>X=3</th>\n",
              "      <th>X=4</th>\n",
              "    </tr>\n",
              "  </thead>\n",
              "  <tbody>\n",
              "    <tr>\n",
              "      <th>P(X=xi)</th>\n",
              "      <td>0.4</td>\n",
              "      <td>0.2</td>\n",
              "      <td>0.3</td>\n",
              "      <td>0.1</td>\n",
              "    </tr>\n",
              "  </tbody>\n",
              "</table>\n",
              "</div>"
            ],
            "text/plain": [
              "         X=0  X=1  X=3  X=4\n",
              "P(X=xi)  0.4  0.2  0.3  0.1"
            ]
          },
          "metadata": {
            "tags": []
          },
          "execution_count": 60
        }
      ]
    },
    {
      "cell_type": "markdown",
      "metadata": {
        "id": "5nNun5SSmaex"
      },
      "source": [
        "**Exercise 2:** Plot the PMF of the discrete random variable X defined as total number of heads while tossing a coin thrice."
      ]
    },
    {
      "cell_type": "code",
      "metadata": {
        "id": "4MjPTMtTnxfD"
      },
      "source": [
        "# Our sample space would consist of {HHH, HHT,HTH, THH, TTH, THT, HTT, TTT}\n",
        "X = [0, 1, 2, 3]   # Number of heads we can get are\n",
        "\n",
        "P_X0 = 1/8   # P(X=0)     {TTT}\n",
        "P_X1 = 3/8   # P(X=1)     {HTT, THT, TTH}\n",
        "P_X2 = 3/8   # P(X=2)     {HHT, HTH, THH}\n",
        "P_X3 = 1/8   # P(X=3)     {HHH}\n",
        "P_Xi = [P_X0, P_X1, P_X2, P_X3]"
      ],
      "execution_count": null,
      "outputs": []
    },
    {
      "cell_type": "code",
      "metadata": {
        "id": "8rCTYlQ9nzz0",
        "colab": {
          "base_uri": "https://localhost:8080/",
          "height": 295
        },
        "outputId": "f0372a9d-4beb-4da9-f2c2-a4aab75dea2b"
      },
      "source": [
        "# Plotting PMF\n",
        "sns.barplot(x= X, y= P_Xi)\n",
        "plt.title('PMF'); plt.xlabel('Number of heads'); plt.ylabel('Probability')\n",
        "plt.show()"
      ],
      "execution_count": null,
      "outputs": [
        {
          "output_type": "display_data",
          "data": {
            "image/png": "[encoded data removed]",
            "text/plain": [
              "<Figure size 432x288 with 1 Axes>"
            ]
          },
          "metadata": {
            "tags": []
          }
        }
      ]
    },
    {
      "cell_type": "code",
      "metadata": {
        "id": "roolHZ0mn1yH",
        "colab": {
          "base_uri": "https://localhost:8080/",
          "height": 295
        },
        "outputId": "1edaf4cf-299f-4823-ae96-567d7725099d"
      },
      "source": [
        "# Plotting CDF or cumulative distribution function\n",
        "sns.barplot(x= X, y= np.array(P_Xi).cumsum())\n",
        "plt.title('Cumulative Distribution Function'); plt.xlabel('Number of heads'); plt.ylabel('Cumulative Probability')\n",
        "plt.show()"
      ],
      "execution_count": null,
      "outputs": [
        {
          "output_type": "display_data",
          "data": {
            "image/png": "[encoded data removed]",
            "text/plain": [
              "<Figure size 432x288 with 1 Axes>"
            ]
          },
          "metadata": {
            "tags": []
          }
        }
      ]
    },
    {
      "cell_type": "markdown",
      "metadata": {
        "id": "-81qffwsn_qW"
      },
      "source": [
        "For further reference [click here](https://numpy.org/doc/stable/reference/generated/numpy.cumsum.html)"
      ]
    },
    {
      "cell_type": "markdown",
      "metadata": {
        "id": "9pVMTz-1oL2h"
      },
      "source": [
        "From above plot it can be seen that $ ∑p_i = 1 $. "
      ]
    },
    {
      "cell_type": "markdown",
      "metadata": {
        "id": "U5Kpz9ALoOV1"
      },
      "source": [
        "### Continuous Random Variable and PDF"
      ]
    },
    {
      "cell_type": "markdown",
      "metadata": {
        "id": "eriwc_DVoQmN"
      },
      "source": [
        "A random variable $X$ is said to be continuous if it takes on the infinite number of values. The probability function associated with it is said to be PDF or probability density function.\n",
        "\n",
        "PDF: If $X$ is a continuous random variable.\n",
        "\n",
        "$ P (x < X < x + dx) = f(x).dx $\n",
        "\n",
        "* $ 0 ≤ f(x) ≤ 1; $ for all $x$\n",
        "* $ ∫ f(x) dx = 1  $ over all values of $x$\n",
        "\n",
        "Then $P (X)$ is said to be a PDF of the distribution.\n",
        "\n",
        "The probability distribution of a continuous random variable $X$ is an assignment of probabilities to intervals of decimal numbers using a function $f(x)$, called a density function, in the following way: the probability that $X$ assumes a value in the interval $(a,b)$ is equal to the area of the region that is bounded above by the graph of the equation $y=f(x)$, bounded below by the $x$-axis, and bounded on the left and right by the vertical lines through $a$ and $b$, as shown in the figure below\n",
        "![image](https://cdn.iisc.talentsprint.com/CDS/Images/prob_density_function.png)"
      ]
    },
    {
      "cell_type": "markdown",
      "metadata": {
        "id": "pEOpUq7soUyq"
      },
      "source": [
        "**Exercise 3:** Compute the value of $P (1 < X < 2)$.\n",
        "    Such that the density function is given by,\n",
        "    \n",
        "$$f(x)=\\begin{equation}\n",
        "\\left\\{ \n",
        "  \\begin{aligned}\n",
        "    &k.x^3&  for\\ \\  0 ≤ x ≤ 3\\\\ \n",
        "    &0&   \\  otherwise\\\\ \n",
        "  \\end{aligned}\n",
        "  \\right.\n",
        "\\end{equation}\n",
        "$$\n",
        "     \n",
        "Also, plot the PDF and CDF for random variable $X$."
      ]
    },
    {
      "cell_type": "code",
      "metadata": {
        "id": "CNI1IEAsoPlJ",
        "colab": {
          "base_uri": "https://localhost:8080/"
        },
        "outputId": "48d51648-6bb7-4856-ced5-79a91371c626"
      },
      "source": [
        "# ∫ f(x) dx = 1\n",
        "# Using the above property we find k,\n",
        "# ∫ (k*x**3)dx = 1\n",
        "# k = 1 / ∫ (x**3)dx\n",
        "k = 1 / (integrate.quad(lambda x: x**3, 0, 3)[0])        # integrate  x^3  w.r.t  x from 0 to 3\n",
        "print('k= ', round(k,4))"
      ],
      "execution_count": null,
      "outputs": [
        {
          "output_type": "stream",
          "text": [
            "k=  0.0494\n"
          ],
          "name": "stdout"
        }
      ]
    },
    {
      "cell_type": "code",
      "metadata": {
        "id": "yyq1b4P4odTt",
        "colab": {
          "base_uri": "https://localhost:8080/"
        },
        "outputId": "c0a667d3-6390-45e9-b14b-c06f24474a54"
      },
      "source": [
        "# Now the probability density for 1<X<2 is given by,\n",
        "P = integrate.quad(lambda x: k*x**3, 1,2)[0]\n",
        "print('P(1<X<2)= ', round(P, 4))"
      ],
      "execution_count": null,
      "outputs": [
        {
          "output_type": "stream",
          "text": [
            "P(1<X<2)=  0.1852\n"
          ],
          "name": "stdout"
        }
      ]
    },
    {
      "cell_type": "code",
      "metadata": {
        "id": "DZHvpxOVofcl",
        "colab": {
          "base_uri": "https://localhost:8080/",
          "height": 203
        },
        "outputId": "b8a49886-a3f8-464b-fdd6-25ff3f27ddc9"
      },
      "source": [
        "# Create 100 values within 0 to 3 in order to plot PDF and CDF\n",
        "x = np.linspace(0,3,100)\n",
        "df2 = pd.DataFrame({'X':[], 'PDF':[], 'CDF':[]})\n",
        "df2['X'] = x\n",
        "df2['PDF'] = df2['X'].apply(lambda v: k*v**3)\n",
        "df2['CDF'] = df2['X'].apply(lambda v: integrate.quad(lambda u: k*u**3, 0, v)[0])\n",
        "df2.head()"
      ],
      "execution_count": null,
      "outputs": [
        {
          "output_type": "execute_result",
          "data": {
            "text/html": [
              "<div>\n",
              "<style scoped>\n",
              "    .dataframe tbody tr th:only-of-type {\n",
              "        vertical-align: middle;\n",
              "    }\n",
              "\n",
              "    .dataframe tbody tr th {\n",
              "        vertical-align: top;\n",
              "    }\n",
              "\n",
              "    .dataframe thead th {\n",
              "        text-align: right;\n",
              "    }\n",
              "</style>\n",
              "<table border=\"1\" class=\"dataframe\">\n",
              "  <thead>\n",
              "    <tr style=\"text-align: right;\">\n",
              "      <th></th>\n",
              "      <th>X</th>\n",
              "      <th>PDF</th>\n",
              "      <th>CDF</th>\n",
              "    </tr>\n",
              "  </thead>\n",
              "  <tbody>\n",
              "    <tr>\n",
              "      <th>0</th>\n",
              "      <td>0.000000</td>\n",
              "      <td>0.000000</td>\n",
              "      <td>0.000000e+00</td>\n",
              "    </tr>\n",
              "    <tr>\n",
              "      <th>1</th>\n",
              "      <td>0.030303</td>\n",
              "      <td>0.000001</td>\n",
              "      <td>1.041020e-08</td>\n",
              "    </tr>\n",
              "    <tr>\n",
              "      <th>2</th>\n",
              "      <td>0.060606</td>\n",
              "      <td>0.000011</td>\n",
              "      <td>1.665633e-07</td>\n",
              "    </tr>\n",
              "    <tr>\n",
              "      <th>3</th>\n",
              "      <td>0.090909</td>\n",
              "      <td>0.000037</td>\n",
              "      <td>8.432265e-07</td>\n",
              "    </tr>\n",
              "    <tr>\n",
              "      <th>4</th>\n",
              "      <td>0.121212</td>\n",
              "      <td>0.000088</td>\n",
              "      <td>2.665012e-06</td>\n",
              "    </tr>\n",
              "  </tbody>\n",
              "</table>\n",
              "</div>"
            ],
            "text/plain": [
              "          X       PDF           CDF\n",
              "0  0.000000  0.000000  0.000000e+00\n",
              "1  0.030303  0.000001  1.041020e-08\n",
              "2  0.060606  0.000011  1.665633e-07\n",
              "3  0.090909  0.000037  8.432265e-07\n",
              "4  0.121212  0.000088  2.665012e-06"
            ]
          },
          "metadata": {
            "tags": []
          },
          "execution_count": 66
        }
      ]
    },
    {
      "cell_type": "code",
      "metadata": {
        "id": "5kXWmQzyohez",
        "colab": {
          "base_uri": "https://localhost:8080/",
          "height": 295
        },
        "outputId": "24f4ec19-e139-446f-c60a-cef12fd76091"
      },
      "source": [
        "# Plotting PDF\n",
        "sns.lineplot(x= 'X', y= 'PDF', data= df2)\n",
        "plt.title('PDF'); plt.xlabel('X'); plt.ylabel('Probability density')\n",
        "plt.show()"
      ],
      "execution_count": null,
      "outputs": [
        {
          "output_type": "display_data",
          "data": {
            "image/png": "[encoded data removed]",
            "text/plain": [
              "<Figure size 432x288 with 1 Axes>"
            ]
          },
          "metadata": {
            "tags": []
          }
        }
      ]
    },
    {
      "cell_type": "code",
      "metadata": {
        "id": "_Z62RWjsojd8",
        "colab": {
          "base_uri": "https://localhost:8080/",
          "height": 295
        },
        "outputId": "80a43131-6b34-43c9-e97b-e2433aa4dfa8"
      },
      "source": [
        "# Plotting CDF\n",
        "sns.lineplot(x= 'X', y= 'CDF', data= df2)\n",
        "plt.title('Cummulative distribution function'); plt.xlabel('X'); plt.ylabel('Probability density')\n",
        "plt.show()"
      ],
      "execution_count": null,
      "outputs": [
        {
          "output_type": "display_data",
          "data": {
            "image/png": "[encoded data removed]",
            "text/plain": [
              "<Figure size 432x288 with 1 Axes>"
            ]
          },
          "metadata": {
            "tags": []
          }
        }
      ]
    },
    {
      "cell_type": "markdown",
      "metadata": {
        "id": "kHP9_siNomA4"
      },
      "source": [
        "From above plot it can be seen that $ ∫f(x) dx = 1  $. "
      ]
    },
    {
      "cell_type": "markdown",
      "metadata": {
        "id": "liY-lmj_1NYy"
      },
      "source": [
        "### Constructing probability distributions for random variables and Expected value"
      ]
    },
    {
      "cell_type": "markdown",
      "metadata": {
        "id": "UVPChVM91QTY"
      },
      "source": [
        "**Constructing probability distributions for random variables:-**The probability distribution of a discrete random variable  $X$  is a list of each possible value of $X$  together with the probability that  $X$  takes that value in one trial of the experiment.\n",
        "\n",
        "The probabilities in the probability distribution of a random variable  X  must satisfy the following two conditions:\n",
        "\n",
        "Each probability  $P(x)$  must be between  0  and  1 :\n",
        "\n",
        "* $ 0 ≤ P_i ≤ 1 $\n",
        "\n",
        "The sum of all the possible probabilities is  1 :\n",
        "* $ ∑P_i = 1 $ \n",
        "\n",
        "\n"
      ]
    },
    {
      "cell_type": "markdown",
      "metadata": {
        "id": "77X4HPuFZiZS"
      },
      "source": [
        "**Expected value of a random variable:-**Let  X  be a numerically-valued discrete random variable with sample space  Ω  and distribution function  m(x) . The expected value  E(X)  is defined by provided this sum converges absolutely. It is represented as:\n",
        "\n",
        "$E(X)=\\sum_{x∈}Ωxm(x)$ ,\n",
        "\n"
      ]
    },
    {
      "cell_type": "markdown",
      "metadata": {
        "id": "AEfrf3Fs2XEp"
      },
      "source": [
        "**Exercise 4:** The random variable $X$ has a probability function:\n",
        "\\begin{equation}\n",
        "             \\nonumber P(X=x) = \\left\\{\n",
        "              \\begin{array}{l l}\n",
        "                k(x+4) & \\quad,  x= 0,1,2\\\\\n",
        "                k*x & \\quad  , x=3,4,5\n",
        "              \\end{array} \\right.\n",
        "            \\end{equation}\n",
        "Find the value of k, construct the probability distribution table and the expected value "
      ]
    },
    {
      "cell_type": "code",
      "metadata": {
        "id": "Swzjpu8P-xHM",
        "colab": {
          "base_uri": "https://localhost:8080/"
        },
        "outputId": "fd6b0506-501d-4e5d-f188-e0a88e08d5b8"
      },
      "source": [
        "#K(X+4) for x=0,1,2\n",
        "\n",
        "lis = []\n",
        "for i in range(6):\n",
        "    if  i<=2:\n",
        "       i+=4\n",
        "       lis.append(i) \n",
        "    else:\n",
        "      lis.append(i)\n",
        "\n",
        "k = 1/sum(lis)\n",
        "print(\"The value of K is:\", k)\n",
        "data  = {\n",
        "    \"values\": lis,\n",
        "    }\n",
        "df = pd.DataFrame(data)\n",
        "print (df)\n",
        "df[\"probability_distribution\"] = df[\"values\"] * k\n",
        "print (df[\"values\"])\n",
        "print(df[\"probability_distribution\"].sum())\n",
        "#creating a new column with the product of the columns of values and probability\n",
        "df['expected_value'] = df['values']*df['probability_distribution']\n",
        "#expected value \n",
        "print(\"The expected value is:\",df['expected_value'].sum())"
      ],
      "execution_count": null,
      "outputs": [
        {
          "output_type": "stream",
          "text": [
            "The value of K is: 0.037037037037037035\n",
            "   values\n",
            "0       4\n",
            "1       5\n",
            "2       6\n",
            "3       3\n",
            "4       4\n",
            "5       5\n",
            "0    4\n",
            "1    5\n",
            "2    6\n",
            "3    3\n",
            "4    4\n",
            "5    5\n",
            "Name: values, dtype: int64\n",
            "1.0\n",
            "The expected value is: 4.703703703703703\n"
          ],
          "name": "stdout"
        }
      ]
    },
    {
      "cell_type": "markdown",
      "metadata": {
        "id": "JeeOhd-lXzYL"
      },
      "source": [
        "### Expected value of a random variable"
      ]
    },
    {
      "cell_type": "markdown",
      "metadata": {
        "id": "MjE47_tF7jtN"
      },
      "source": [
        "**Expected value of a random variable:-**Let  X  be a numerically-valued discrete random variable with sample space  Ω  and distribution function  m(x) . The expected value  E(X)  is defined by provided this sum converges absolutely. It is represented as:\n",
        "\n",
        "$E(X)=\\sum_{x∈}Ωxm(x)$ ,\n",
        "\n"
      ]
    },
    {
      "cell_type": "markdown",
      "metadata": {
        "id": "N5wft9Gh9HGv"
      },
      "source": [
        "**Exercise 5:** Let $S$ is the sample space given below and corresponding $P(X=x_i)$ is also given, where $X$ is a discrete random variable. Find the Expected value."
      ]
    },
    {
      "cell_type": "code",
      "metadata": {
        "id": "CxgXnGcj84N0",
        "colab": {
          "base_uri": "https://localhost:8080/"
        },
        "outputId": "8d6c1f18-8c20-4c6d-e3b9-3377446dbf62"
      },
      "source": [
        "data = {\n",
        "  \"values\": [0, 1, 2,3,4,5],\n",
        "  \"probability_outcomes\": [0.15, 0.2, 0.15,0.25,0.15,0.1]\n",
        "}\n",
        "\n",
        "df = pd.DataFrame(data)#load data into a DataFrame object\n",
        "\n",
        "df['expected_value'] = df['values']*df['probability_outcomes']#creating a new column with the product of the columns of values and probability\n",
        "\n",
        "print(\"The expected value is:\",df['expected_value'].sum())#expected value "
      ],
      "execution_count": null,
      "outputs": [
        {
          "output_type": "stream",
          "text": [
            "The expected value is: 2.35\n"
          ],
          "name": "stdout"
        }
      ]
    },
    {
      "cell_type": "markdown",
      "metadata": {
        "id": "hhboyEyVi0Ka"
      },
      "source": [
        "### Probability Distributions"
      ]
    },
    {
      "cell_type": "markdown",
      "metadata": {
        "id": "tI8czPIjk_yy"
      },
      "source": [
        "**Probability distribution**:- It is a statistical function that describes all the possible values and likelihoods that a random variable can take within a given range.\n",
        "There are many types of Probability distribution,such as:-\n",
        "\n",
        "*   Bernoulli Distribution\n",
        "*   Uniform Distribution\n",
        "*   Binomial Distribution\n",
        "*   Normal Distribution\n",
        "*   Multivariate Normal Distributions\n",
        "*   Poisson Distribution\n",
        "*   Exponential Distribution\n"
      ]
    },
    {
      "cell_type": "markdown",
      "metadata": {
        "id": "RudTJq80nyxl"
      },
      "source": [
        "### Bernoulli Distribution"
      ]
    },
    {
      "cell_type": "markdown",
      "metadata": {
        "id": "lc-0orK-n7YD"
      },
      "source": [
        "**Bernoulli Distribution**:-It is a discrete distribution having two possible outcomes labeled by n=0 and n=1 in which n=1 (\"success\") occurs with probability p and n=0 (\"failure\") occurs with probability q=1-p, where 0<p<1. The outcome is either 0 or 1 always.\n",
        "\n",
        "Probability mass function of Bernoulli distribution is :-\n",
        "$ P(n)=p^{n}(1-p)^{(1-n)}$ \t\n",
        "\n",
        "\n",
        "To understand more click [here](https://docs.scipy.org/doc/scipy/reference/generated/scipy.stats.bernoulli.html)\n"
      ]
    },
    {
      "cell_type": "markdown",
      "metadata": {
        "id": "7-BPEXe4pWen"
      },
      "source": [
        "**Exercise 6:** Create a Bernoulli distributed discrete random variable plot a graph using the achieved data."
      ]
    },
    {
      "cell_type": "code",
      "metadata": {
        "id": "dXp_URtKn69t"
      },
      "source": [
        "# Creating a data of size 10000 and with the probability success as half i.e 0.2\n",
        "data_bernoulli = bernoulli.rvs(size=10000,p=0.2)"
      ],
      "execution_count": null,
      "outputs": []
    },
    {
      "cell_type": "code",
      "metadata": {
        "id": "MsmbVXE6seFi",
        "colab": {
          "base_uri": "https://localhost:8080/",
          "height": 296
        },
        "outputId": "73447b26-bdf6-4626-b97b-f85edc89cfc3"
      },
      "source": [
        "ax= sns.distplot(data_bernoulli,\n",
        "                 kde=False)\n",
        "ax.set(xlabel='Bernoulli Distribution', ylabel='Frequency')"
      ],
      "execution_count": null,
      "outputs": [
        {
          "output_type": "execute_result",
          "data": {
            "text/plain": [
              "[Text(0, 0.5, 'Frequency'), Text(0.5, 0, 'Bernoulli Distribution')]"
            ]
          },
          "metadata": {
            "tags": []
          },
          "execution_count": 72
        },
        {
          "output_type": "display_data",
          "data": {
            "image/png": "[encoded data removed]",
            "text/plain": [
              "<Figure size 432x288 with 1 Axes>"
            ]
          },
          "metadata": {
            "tags": []
          }
        }
      ]
    },
    {
      "cell_type": "markdown",
      "metadata": {
        "id": "_tINpPU5tStq"
      },
      "source": [
        "### Uniform Distribution"
      ]
    },
    {
      "cell_type": "markdown",
      "metadata": {
        "id": "KXzRdwI7tYyI"
      },
      "source": [
        "**Uniform Distribution**:- A continuous random variable X is said to have a Uniform distribution over the interval [a,b], shown as X∼Uniform (a,b). The probability distribution function of the continuous uniform distribution is:\n",
        "\\begin{equation}\n",
        "             \\nonumber f_X(x) = \\left\\{\n",
        "              \\begin{array}{l l}\n",
        "                \\frac{1}{b-a} & \\quad  a < x < b\\\\\n",
        "                0 & \\quad x < a \\textrm{ or } x > b\n",
        "              \\end{array} \\right.\n",
        "            \\end{equation}\n",
        "To understand more click [here](https://docs.scipy.org/doc/scipy/reference/generated/scipy.stats.uniform.html)"
      ]
    },
    {
      "cell_type": "markdown",
      "metadata": {
        "id": "DujrTJgezJfh"
      },
      "source": [
        "**Exercise 7:** Create a uniform distributed discrete random variable with lower bounds and upper bounds and plot it."
      ]
    },
    {
      "cell_type": "code",
      "metadata": {
        "id": "Kfe-V4Hl0F3_"
      },
      "source": [
        "# Random numbers from uniform distribution\n",
        "n = 10000\n",
        "data_uniform = uniform.rvs(size=(1000,6000))"
      ],
      "execution_count": null,
      "outputs": []
    },
    {
      "cell_type": "code",
      "metadata": {
        "id": "hVdLCwgF0NFO",
        "colab": {
          "base_uri": "https://localhost:8080/",
          "height": 296
        },
        "outputId": "c1ac0197-69b7-41a0-af2a-b75eca93628a"
      },
      "source": [
        "# Ploting the graph\n",
        "ax = sns.distplot(data_uniform,\n",
        "                  bins=100,\n",
        "                  kde=True,\n",
        "                  color='skyblue',\n",
        "                  hist =True)\n",
        "ax.set(xlabel='Uniform Distribution ', ylabel='Frequency')"
      ],
      "execution_count": null,
      "outputs": [
        {
          "output_type": "execute_result",
          "data": {
            "text/plain": [
              "[Text(0, 0.5, 'Frequency'), Text(0.5, 0, 'Uniform Distribution ')]"
            ]
          },
          "metadata": {
            "tags": []
          },
          "execution_count": 74
        },
        {
          "output_type": "display_data",
          "data": {
            "image/png": "[encoded data removed]",
            "text/plain": [
              "<Figure size 432x288 with 1 Axes>"
            ]
          },
          "metadata": {
            "tags": []
          }
        }
      ]
    },
    {
      "cell_type": "markdown",
      "metadata": {
        "id": "b4xdFCu40EXK"
      },
      "source": [
        "### Binomial Distribution"
      ]
    },
    {
      "cell_type": "markdown",
      "metadata": {
        "id": "98KYXjiH69XT"
      },
      "source": [
        "**Binomial Distribution**:- It is defined as when there is only one outcome for each trail, that each trail has the same probability of success, and that each trial is mutually exclusive or independent of the other.\n",
        "\n",
        " Its probability distribution function is given by :\n",
        " \n",
        "$f(k,n,p) = Pr(k;n,p) = Pr(X=k) =\\begin{pmatrix}\n",
        "n \\\\\n",
        "k \n",
        "\\end{pmatrix} p^k(1-p)^{n-k}$\n",
        "\n",
        "\n",
        "\n",
        "\n",
        "where :\n",
        "$\\binom{n}{k} = \\frac{n!}{k!(n-k)!}$\n",
        "To understand more click [here](https://docs.scipy.org/doc/scipy/reference/generated/scipy.stats.binom.html)\n"
      ]
    },
    {
      "cell_type": "markdown",
      "metadata": {
        "id": "OOtBKAed_A5X"
      },
      "source": [
        "**Exercise 8**:\n",
        "Generate a binominal distributed random data and plot it."
      ]
    },
    {
      "cell_type": "code",
      "metadata": {
        "id": "8wjlntYY9Km_",
        "colab": {
          "base_uri": "https://localhost:8080/",
          "height": 300
        },
        "outputId": "468ae936-8914-4b46-b28a-270cb74fbd9e"
      },
      "source": [
        "# Creating the binominal distribution data where n is the number of trails, p is the p probability size  is the  number of trials\n",
        "data_binom = binom.rvs(n=200,p=0.6,size=1000)\n",
        "# Ploting the graph\n",
        "ax = sns.distplot(data_binom,\n",
        "                  kde=True,\n",
        "                  color='skyblue',\n",
        "                  hist ={\"linewidth\": 25,'alpha':1})\n",
        "ax.set(xlabel='Binomial Distribution', ylabel='Frequency')"
      ],
      "execution_count": null,
      "outputs": [
        {
          "output_type": "execute_result",
          "data": {
            "text/plain": [
              "[Text(0, 0.5, 'Frequency'), Text(0.5, 0, 'Binomial Distribution')]"
            ]
          },
          "metadata": {
            "tags": []
          },
          "execution_count": 75
        },
        {
          "output_type": "display_data",
          "data": {
            "image/png": "[encoded data removed]",
            "text/plain": [
              "<Figure size 432x288 with 1 Axes>"
            ]
          },
          "metadata": {
            "tags": []
          }
        }
      ]
    },
    {
      "cell_type": "markdown",
      "metadata": {
        "id": "wSkJjlZqMgWV"
      },
      "source": [
        "### Normal Distribution"
      ]
    },
    {
      "cell_type": "markdown",
      "metadata": {
        "id": "YkIWNN7uMhsG"
      },
      "source": [
        "**Normal Distribution**:-\n",
        "A continuous random variable $Z$ is said to be a standard normal (standard Gaussian) random variable, shown as $Z∼N(0,1)$, if its PDF is given by \n",
        "\n",
        "\\begin{equation}\n",
        "             \\nonumber f_X(x) = \\frac{e^{-(x - \\mu)^{2}/(2\\sigma^{2}) }} {\\sigma\\sqrt{2\\pi}}.\n",
        "            \\end{equation}\n",
        "\n",
        "\n",
        "It is a probability distributionwhich is symmetric to the mean and showing that the data near the mean is more frequent occurrence when compared to other data. Normal distribution or Gaussian distribution is usually appeared as a bell curve.\n",
        "\n",
        "\n",
        "Where:- f(x) = probability, x = value of the variable, μ = mean, σ = standard deviation, σ2 = variance.\n",
        "To understand more click [here](https://docs.scipy.org/doc/scipy/reference/generated/scipy.stats.norm.html)"
      ]
    },
    {
      "cell_type": "markdown",
      "metadata": {
        "id": "L_9b7JrMOMML"
      },
      "source": [
        "**Exercise 9**:- Generate a normal distributed random data and plot it."
      ]
    },
    {
      "cell_type": "code",
      "metadata": {
        "id": "3Dl1QMESOalt"
      },
      "source": [
        "# Generate random \n",
        "data_normal = norm.rvs(size=10000,random_state = 2)"
      ],
      "execution_count": null,
      "outputs": []
    },
    {
      "cell_type": "code",
      "metadata": {
        "id": "-ci2r3E8Oh15",
        "colab": {
          "base_uri": "https://localhost:8080/",
          "height": 296
        },
        "outputId": "068c3b56-14a5-49f8-e6f2-20698b387e76"
      },
      "source": [
        "#ploting the graph\n",
        "ax = sns.distplot(data_normal,\n",
        "                  bins=100,\n",
        "                  kde=True,\n",
        "                  color='skyblue',\n",
        "                  hist= True)\n",
        "ax.set(xlabel='Normal Distribution', ylabel='Frequency')"
      ],
      "execution_count": null,
      "outputs": [
        {
          "output_type": "execute_result",
          "data": {
            "text/plain": [
              "[Text(0, 0.5, 'Frequency'), Text(0.5, 0, 'Normal Distribution')]"
            ]
          },
          "metadata": {
            "tags": []
          },
          "execution_count": 77
        },
        {
          "output_type": "display_data",
          "data": {
            "image/png": "[encoded data removed]",
            "text/plain": [
              "<Figure size 432x288 with 1 Axes>"
            ]
          },
          "metadata": {
            "tags": []
          }
        }
      ]
    },
    {
      "cell_type": "markdown",
      "metadata": {
        "id": "eEiL34epPdIq"
      },
      "source": [
        "### Poisson Distribution"
      ]
    },
    {
      "cell_type": "markdown",
      "metadata": {
        "id": "gkasrxKDPhBG"
      },
      "source": [
        "**Poisson Distribution**:- The Poisson distribution is used to model the number of events occurring within a given time interval. The formula for the Poisson probability mass function is.\n",
        "\n",
        "$P(x; μ) = (e^{-μ} * μ^{x}) / x!$\n",
        "\n",
        "To understand more click [here](https://docs.scipy.org/doc/scipy/reference/generated/scipy.stats.poisson.html)"
      ]
    },
    {
      "cell_type": "markdown",
      "metadata": {
        "id": "7VODgItpRb2d"
      },
      "source": [
        "**Exercise 10:-**Generate a Poisson random data and plot it."
      ]
    },
    {
      "cell_type": "code",
      "metadata": {
        "id": "416-P14YRAem"
      },
      "source": [
        "# Generate random normalised data\n",
        "data_normal = norm.rvs(size=10000)"
      ],
      "execution_count": null,
      "outputs": []
    },
    {
      "cell_type": "code",
      "metadata": {
        "id": "IGgI7z4aRPDp",
        "colab": {
          "base_uri": "https://localhost:8080/",
          "height": 296
        },
        "outputId": "a1b01d85-9cb7-4be9-c765-91c225192a80"
      },
      "source": [
        "# Ploting the graph\n",
        "ax = sns.distplot(data_normal,\n",
        "                  bins=100,\n",
        "                  kde=True,\n",
        "                  color='skyblue',\n",
        "                  hist= True)\n",
        "ax.set(xlabel='Normal Distribution', ylabel='Frequency')"
      ],
      "execution_count": null,
      "outputs": [
        {
          "output_type": "execute_result",
          "data": {
            "text/plain": [
              "[Text(0, 0.5, 'Frequency'), Text(0.5, 0, 'Normal Distribution')]"
            ]
          },
          "metadata": {
            "tags": []
          },
          "execution_count": 79
        },
        {
          "output_type": "display_data",
          "data": {
            "image/png": "[encoded data removed]",
            "text/plain": [
              "<Figure size 432x288 with 1 Axes>"
            ]
          },
          "metadata": {
            "tags": []
          }
        }
      ]
    },
    {
      "cell_type": "markdown",
      "metadata": {
        "id": "iZWE-hMeRpMJ"
      },
      "source": [
        "### Exponential Distribution"
      ]
    },
    {
      "cell_type": "markdown",
      "metadata": {
        "id": "aJflrxWsRrTr"
      },
      "source": [
        "**Exponential Distribution:-**A continuous random variable $X$ is said to have an exponential distribution with parameter $λ>0$, shown as $X∼Exponential(λ)$, if its PDF is given by \\begin{equation}\n",
        "             \\nonumber f_X(x) = \\left\\{\n",
        "              \\begin{array}{l l}\n",
        "                \\lambda e^{-\\lambda x} & \\quad  x > 0\\\\\n",
        "                0 & \\quad \\textrm{otherwise}\n",
        "              \\end{array} \\right.\n",
        "            \\end{equation}\n",
        "To understand more, click [here](https://docs.scipy.org/doc/scipy/reference/generated/scipy.stats.expon.html)."
      ]
    },
    {
      "cell_type": "markdown",
      "metadata": {
        "id": "q5Vijtd8TN8G"
      },
      "source": [
        "**Exercise 11:-**Generate Exponential random data and plot it."
      ]
    },
    {
      "cell_type": "code",
      "metadata": {
        "id": "mL5zD7eaTldp"
      },
      "source": [
        "# Generate random normalised data \n",
        "data_expon = expon.rvs(size=1000)"
      ],
      "execution_count": null,
      "outputs": []
    },
    {
      "cell_type": "code",
      "metadata": {
        "id": "3qDS-BMbTnsm",
        "colab": {
          "base_uri": "https://localhost:8080/",
          "height": 296
        },
        "outputId": "5b9de309-369b-4675-dbc3-18e0e201e50e"
      },
      "source": [
        "ax = sns.distplot(data_expon,\n",
        "                  kde=True,\n",
        "                  bins=100,\n",
        "                  color='skyblue',\n",
        "                  hist = True)\n",
        "ax.set(xlabel='Exponential Distribution', ylabel='Frequency')"
      ],
      "execution_count": null,
      "outputs": [
        {
          "output_type": "execute_result",
          "data": {
            "text/plain": [
              "[Text(0, 0.5, 'Frequency'), Text(0.5, 0, 'Exponential Distribution')]"
            ]
          },
          "metadata": {
            "tags": []
          },
          "execution_count": 81
        },
        {
          "output_type": "display_data",
          "data": {
            "image/png": "[encoded data removed]",
            "text/plain": [
              "<Figure size 432x288 with 1 Axes>"
            ]
          },
          "metadata": {
            "tags": []
          }
        }
      ]
    },
    {
      "cell_type": "markdown",
      "metadata": {
        "id": "7tcOY6WdfWwZ"
      },
      "source": [
        "### Multivariate Normal Distributions"
      ]
    },
    {
      "cell_type": "markdown",
      "metadata": {
        "id": "G4kaCH6xXhuD"
      },
      "source": [
        "A vector-valued random variable $X =[X1 · · · Xn]^{T}$ is said to have a multivariate normal (or Gaussian) distribution with mean $µ ∈ R^{n} $\n",
        "if its square of probability density function\n",
        "is given by\n",
        "\n",
        "$y=f(x,\\mu,\\sum) =  \\frac{1}{(\\sqrt(\\sum2 \\pi^d))} exp(-\\frac{1}{2}(x-\\mu)\\sum^{-1}(x-\\mu)^|)$\n",
        "\n",
        "We write this as $X ∼ N (\\mu, \\sum)$. \n",
        "\n",
        "To understand more, click [here](https://docs.scipy.org/doc/scipy/reference/generated/scipy.stats.multivariate_normal.html)."
      ]
    },
    {
      "cell_type": "markdown",
      "metadata": {
        "id": "ziXcZXHmfTgH"
      },
      "source": [
        "**Exercise 12:-**Generate Multivariate normal random data and plot it."
      ]
    },
    {
      "cell_type": "code",
      "metadata": {
        "id": "aL3wbIxigxWX"
      },
      "source": [
        "# Generate random normalised data\n",
        "data_multivariate_normal = multivariate_normal.rvs(size=1000)"
      ],
      "execution_count": null,
      "outputs": []
    },
    {
      "cell_type": "code",
      "metadata": {
        "id": "mRc2ojKEhBYQ",
        "colab": {
          "base_uri": "https://localhost:8080/",
          "height": 296
        },
        "outputId": "73faf194-ab55-432e-9c1b-2de431d66308"
      },
      "source": [
        "# Ploting the graph\n",
        "ax = sns.distplot(data_multivariate_normal,\n",
        "                  kde=True,\n",
        "                  bins=100,\n",
        "                  color='skyblue',\n",
        "                  hist = True)\n",
        "ax.set(xlabel='Multivariate Normal Distributions', ylabel='Frequency')"
      ],
      "execution_count": null,
      "outputs": [
        {
          "output_type": "execute_result",
          "data": {
            "text/plain": [
              "[Text(0, 0.5, 'Frequency'), Text(0.5, 0, 'Multivariate Normal Distributions')]"
            ]
          },
          "metadata": {
            "tags": []
          },
          "execution_count": 83
        },
        {
          "output_type": "display_data",
          "data": {
            "image/png": "[encoded data removed]",
            "text/plain": [
              "<Figure size 432x288 with 1 Axes>"
            ]
          },
          "metadata": {
            "tags": []
          }
        }
      ]
    },
    {
      "cell_type": "markdown",
      "metadata": {
        "id": "S16JC5SwI7bK"
      },
      "source": [
        "### Measure of Variability"
      ]
    },
    {
      "cell_type": "markdown",
      "metadata": {
        "id": "uVOtg6X8JMxf"
      },
      "source": [
        "### Variance\n",
        "\n",
        "The variance is a metric for determining how variable something is. To calculate variance we take the average of squared deviations from the mean.\n",
        "Furthermore, the degree of spread in your data set is measured by variance. The higher the variance in comparison to the mean, the more spread out the data is.\n",
        "\n",
        "Formula for calculating variance is as follows:\n",
        "\n",
        "$\\sigma^{2} = \\frac{\\sum (X-\\mu)^{2}}{N}$\n",
        "\n",
        "where \n",
        "\n",
        "$\\sigma^{2} = Variance$\n",
        "\n",
        "$\\sum = Sum$ \n",
        "\n",
        "$X = Value$\n",
        "\n",
        "$\\mu = Mean$\n",
        "\n",
        "$ N = Number \\hspace{0.1cm} of \\hspace{0.1cm}values\\hspace{0.1cm} in\\hspace{0.1cm} the\\hspace{0.1cm} dataset $\n",
        "\n"
      ]
    },
    {
      "cell_type": "markdown",
      "metadata": {
        "id": "jQWhqnRhkR7G"
      },
      "source": [
        "1. Find the variance of the given data of student marks.\n",
        "\n",
        "  Marks = [56,69,72,40,52,81]"
      ]
    },
    {
      "cell_type": "code",
      "metadata": {
        "id": "vq89tKM_kStg",
        "colab": {
          "base_uri": "https://localhost:8080/"
        },
        "outputId": "aeb16c8d-628c-4a80-96e7-eada50e0d03e"
      },
      "source": [
        "s_marks = [56,69,72,40,52,81]\n",
        "np.var(s_marks)"
      ],
      "execution_count": null,
      "outputs": [
        {
          "output_type": "execute_result",
          "data": {
            "text/plain": [
              "188.2222222222222"
            ]
          },
          "metadata": {
            "tags": []
          },
          "execution_count": 84
        }
      ]
    },
    {
      "cell_type": "markdown",
      "metadata": {
        "id": "K0LJ4j4giyD1"
      },
      "source": [
        "### Covariance\n",
        "\n",
        "Covariance is a measure of how much two random variables vary together. It is similar to variance.But variance tells you how a single variable varies and covariance tells you how two variables vary together.\n",
        "\n",
        "To calculate covariance we can use the formula as follows:\n",
        "\n",
        "$Cov(x,y) = \\frac{\\sum (x_{i}-x_{m})(y_{i}-y_{m})}{n-1}$"
      ]
    },
    {
      "cell_type": "markdown",
      "metadata": {
        "id": "z7n88lBoou69"
      },
      "source": [
        "1. A company has a data set for five-quarters that represents the following:\n",
        "\n",
        "  a.) x = Gross Domestic Product (GDP) growth of each quarter in percent\n",
        "  \n",
        "  b.) y = Advancement of the company's latest product in percent\n",
        "  \n",
        "  The five-quarters dataset for x and y is given below:\n",
        "\n",
        "  x = 2, y = 10\n",
        "\n",
        "  x = 3, y = 14\n",
        "\n",
        "  x = 2.7, y = 12\n",
        "\n",
        "  x = 3.2, y = 15\n",
        "\n",
        "  x = 4.1, y = 20\n",
        "\n",
        "  Find the covariance of x and y using the above dataset?"
      ]
    },
    {
      "cell_type": "code",
      "metadata": {
        "id": "okGBo6lkkUsX",
        "colab": {
          "base_uri": "https://localhost:8080/"
        },
        "outputId": "db7eebee-bedd-473c-8572-3c098b417b71"
      },
      "source": [
        "# Declaring the parameters x and y of the dataset to find the covariance\n",
        "x = [2,3,2.7,3.2,4.1]\n",
        "y = [10,14,12,15,20]\n",
        "# Covariance of x and y using cov() \n",
        "print(\"Variance of x:\",np.cov(x))\n",
        "print(\"Variance of y:\",np.cov(y))\n",
        "print(\"Covariance of x and y:\\n\",np.cov(x,y))"
      ],
      "execution_count": null,
      "outputs": [
        {
          "output_type": "stream",
          "text": [
            "Variance of x: 0.5849999999999997\n",
            "Variance of y: 14.2\n",
            "Covariance of x and y:\n",
            " [[ 0.585  2.85 ]\n",
            " [ 2.85  14.2  ]]\n"
          ],
          "name": "stdout"
        }
      ]
    },
    {
      "cell_type": "markdown",
      "metadata": {
        "id": "HQiHAi50uCLf"
      },
      "source": [
        "A positive value of covariance shows that new product's growth has a positive relationship with quaterly GDP growth. "
      ]
    },
    {
      "cell_type": "markdown",
      "metadata": {
        "id": "vcJauQrfi25x"
      },
      "source": [
        "### Standard Deviation"
      ]
    },
    {
      "cell_type": "markdown",
      "metadata": {
        "id": "rs1oYENMvI8O"
      },
      "source": [
        "A standard deviation in statistics calculates a dataset's dispersion from its mean. After calculating the standard deviation, we can determine the deviation of each point relative to the mean.\n",
        "\n",
        "Standard Deviation is calculated by the following formula:\n",
        "\n",
        "$Standard \\hspace{0.1cm}Deviation (\\sigma) = \\sqrt{\\frac{\\sum (x_{i}-\\bar{x})^{2}}{N-1}}$\n",
        "\n",
        "where \n",
        "\n",
        "$x_{i} = Value \\hspace{0.1cm} of \\hspace{0.1cm} ith \\hspace{0.1cm} point \\hspace{0.1cm} in \\hspace{0.1cm} the \\hspace{0.1cm} dataset$\n",
        "\n",
        "$\\bar{x} = Mean \\hspace{0.1cm}value\\hspace{0.1cm} of\\hspace{0.1cm} the \\hspace{0.1cm}dataset$\n",
        "\n",
        "$ N = Number \\hspace{0.1cm} of \\hspace{0.1cm}values\\hspace{0.1cm} in\\hspace{0.1cm} the\\hspace{0.1cm} dataset $\n",
        "\n",
        "Note: Standard Deviation is square root of variance."
      ]
    },
    {
      "cell_type": "markdown",
      "metadata": {
        "id": "ZbZlGCmAkV5j"
      },
      "source": [
        "1. Find the standard deviation for height of students (in cms) given below:\n",
        "\n",
        "  height = [165, 175, 170 160, 180, 185, 168, 176]"
      ]
    },
    {
      "cell_type": "code",
      "metadata": {
        "id": "5zLm26XKkW9F",
        "colab": {
          "base_uri": "https://localhost:8080/"
        },
        "outputId": "c0bca999-62e8-47b5-d8b8-b21b951d09ec"
      },
      "source": [
        "# Declaring the heights of students\n",
        "s_height = [165, 175, 170, 160, 180, 185, 160, 170]\n",
        "# Calculating Standard Deviation\n",
        "np.std(s_height)"
      ],
      "execution_count": null,
      "outputs": [
        {
          "output_type": "execute_result",
          "data": {
            "text/plain": [
              "8.454843286542927"
            ]
          },
          "metadata": {
            "tags": []
          },
          "execution_count": 86
        }
      ]
    },
    {
      "cell_type": "markdown",
      "metadata": {
        "id": "ltgZQsvW2CG7"
      },
      "source": [
        "This value shows the deviation of each point relative to the mean."
      ]
    },
    {
      "cell_type": "markdown",
      "metadata": {
        "id": "tkocYHo6urzd"
      },
      "source": [
        "### Marginal Probability"
      ]
    },
    {
      "cell_type": "markdown",
      "metadata": {
        "id": "i87ZB__5wcKH"
      },
      "source": [
        "The probability of an event that occurs irrespective of the outcome of another event is known as Marginal probability. It is used in the scenarios where we are interested in calculating the probability of an event for a random variable not taking into account the outcome of another random variable.\n",
        "\n",
        "For example, the probability of $X = E_{A}$ for total outcomes of Y.\n",
        "\n",
        "We can calculate the Marginal Probability as follows:\n",
        "\n",
        "$P(X=A) = \\sum  P(X=A, Y=y_{i})$ for all y.\n",
        "\n",
        "This denotes that for a given fixed event $A$, the marginal probability is simply the sum or union of all the probability of all events for the second variable $y$.\n"
      ]
    },
    {
      "cell_type": "markdown",
      "metadata": {
        "id": "Sp2x2DPnGQrl"
      },
      "source": [
        "1. There are three bags colored \"**black**\" \"**white**\" and \"**grey**\"containing \"**green**\" and \"**orange**\" balls in all three of them. The black bag contains 4 orange and 12 green balls. Next, the white bag contains 18 green and 6 orange balls. Further, the grey bag contains 8 orange and 24 green balls. Consider that the probability of picking up the balls from black, white, grey bag are 0.36, 0.28 and 0.44 respectively and you attempted 100 trials. Find the probability (Marginal Probability) of picking up an orange ball.\n",
        "\n",
        "  **Explanation**: The given probability of picking up the balls from the bags are 0.36, 0.28, and 0.44. This means that out of 100 trials, the number of times we will pick the balls from black, white, and grey bags are 36, 28, and 44."
      ]
    },
    {
      "cell_type": "code",
      "metadata": {
        "id": "Po55Qs_md-cY"
      },
      "source": [
        "# Number of orange and green balls in black bag\n",
        "o_black = 4\n",
        "g_black = 12\n",
        "\n",
        "# Number of orange and green balls in white bag\n",
        "o_white = 6\n",
        "g_white = 18\n",
        "\n",
        "# Number of orange and green balls in grey bag\n",
        "o_grey = 8\n",
        "g_grey = 24"
      ],
      "execution_count": null,
      "outputs": []
    },
    {
      "cell_type": "code",
      "metadata": {
        "id": "7NWCSXbQY38V",
        "colab": {
          "base_uri": "https://localhost:8080/"
        },
        "outputId": "51af7681-c535-4168-b097-5c8308c17c95"
      },
      "source": [
        "# Given probabilities of picking up the ball from black, white, and grey bags\n",
        "trials = 100\n",
        "p_black = 0.36\n",
        "p_white = 0.28\n",
        "p_grey = 0.44\n",
        "\n",
        "# Out of 100 trials, the number of instances where a ball is picked from black, white and grey bags\n",
        "n_black = p_black*trials\n",
        "n_white = p_white*trials\n",
        "n_grey = p_grey*trials\n",
        "\n",
        "print(n_black)\n",
        "print(n_white)\n",
        "print(n_grey)"
      ],
      "execution_count": null,
      "outputs": [
        {
          "output_type": "stream",
          "text": [
            "36.0\n",
            "28.000000000000004\n",
            "44.0\n"
          ],
          "name": "stdout"
        }
      ]
    },
    {
      "cell_type": "markdown",
      "metadata": {
        "id": "lxdpTvh7Y44j"
      },
      "source": [
        "Next, as we want to find the probability of picking up an orange ball, we will first calculate the number of instances where we picked an orange ball from black, white, and grey bags."
      ]
    },
    {
      "cell_type": "code",
      "metadata": {
        "id": "4ubDcj-5urI1",
        "colab": {
          "base_uri": "https://localhost:8080/"
        },
        "outputId": "2c3e5335-3948-4a89-88b9-adf429088787"
      },
      "source": [
        "ib_orange =  (o_black/(o_black+g_black))*n_black\n",
        "iw_orange = (o_white/(o_white+g_white))*n_white\n",
        "ig_orange = (o_grey/(o_grey+g_grey))*n_grey\n",
        "\n",
        "i_total = ib_orange + iw_orange + ig_orange\n",
        "\n",
        "print(\"No. of instances where we pick orange ball from black bag\\n\",ib_orange)\n",
        "print(\"No. of instances where we pick orange ball from white bag\\n\",iw_orange)\n",
        "print(\"No. of instances where we pick orange ball from grey bag\\n\",ig_orange)\n",
        "print(\"Total instances where we pick orange ball\\n\" ,i_total)"
      ],
      "execution_count": null,
      "outputs": [
        {
          "output_type": "stream",
          "text": [
            "No. of instances where we pick orange ball from black bag\n",
            " 9.0\n",
            "No. of instances where we pick orange ball from white bag\n",
            " 7.000000000000001\n",
            "No. of instances where we pick orange ball from grey bag\n",
            " 11.0\n",
            "Total instances where we pick orange ball\n",
            " 27.0\n"
          ],
          "name": "stdout"
        }
      ]
    },
    {
      "cell_type": "markdown",
      "metadata": {
        "id": "Vo0nRKP2YrX4"
      },
      "source": [
        "Now, the probability of picking up an orange ball is the sum of probabilities of all the instances where an orange ball is driven out from the bag over the total number of trials."
      ]
    },
    {
      "cell_type": "code",
      "metadata": {
        "id": "caGi04CyY7ii",
        "colab": {
          "base_uri": "https://localhost:8080/"
        },
        "outputId": "b4aabdf1-c1da-4391-821f-e5945a383ac2"
      },
      "source": [
        "marginal_probability = i_total/trials\n",
        "print(marginal_probability)"
      ],
      "execution_count": null,
      "outputs": [
        {
          "output_type": "stream",
          "text": [
            "0.27\n"
          ],
          "name": "stdout"
        }
      ]
    },
    {
      "cell_type": "markdown",
      "metadata": {
        "id": "gYmaR2DMuv21"
      },
      "source": [
        "### Conditional Probability"
      ]
    },
    {
      "cell_type": "markdown",
      "metadata": {
        "id": "mB7lR-PBwdD3"
      },
      "source": [
        "The probability of the occurence of an event A given a condition that event B occurs is known as conditional probability. \n",
        "\n",
        "This can be written as : P(A | B) or P(A given B)\n",
        "\n",
        "Furthermore, the conditional probability for events A given event B is calculated as follows:\n",
        "\n",
        "$P(A | B)$ = $\\frac{P(A \\cap B)}{P(B)}$ , where $P(B)\\neq0$\n",
        "\n",
        "**Special Cases of Conditional Probability**\n",
        "\n",
        "1. A and B are disjoint: Here $A \\cap B = \\Phi $, this denotes that A and B cannot occur at the same time.\n",
        "\n",
        "  $P(A|B) = \\frac{P(A \\cap B)} {P(B)}$\n",
        "\n",
        "  $P(A|B) = \\frac{P(B)} {P(B)} = 0$\n",
        "\n",
        "2. B is a subset of A: If B is a subset of A, then whenever B happens, definitely A must have happened too. Therefore, $A \\cap B = B$\n",
        "\n",
        "  $P(A|B) = \\frac{P(A \\cap B)} {P(B)}$\n",
        "\n",
        "  $P(A|B) = \\frac{P(B)} {P(B)} = 1$, since $A \\cap B = B$\n",
        "\n",
        "\n",
        "3. A is a subset of B: Here, $A \\cap B = A$\n",
        "\n",
        "  $P(A|B) = \\frac{P(A \\cap B)} {P(B)}$\n",
        "\n",
        "  $P(A|B) = \\frac{P(A)} {P(B)} = 1$, since $A \\cap B = B$\n"
      ]
    },
    {
      "cell_type": "markdown",
      "metadata": {
        "id": "qguVOVGIBpdB"
      },
      "source": [
        "1. A fair die is rolled. Assume, A is an event that the outcome is an even number, i.e., A={2,4,6}. Next, let B be the event where the outcome is greater than or equal to 4, i.e., B={4,5,6}. Find the following:\n",
        "\n",
        "  a. Probability of A \n",
        "  \n",
        "  b. Probability of A given B"
      ]
    },
    {
      "cell_type": "markdown",
      "metadata": {
        "id": "VR6l7m3t9dxy"
      },
      "source": [
        "  Calculating probability of occurence of event A i.e.$P(A)$"
      ]
    },
    {
      "cell_type": "code",
      "metadata": {
        "id": "aYNC4chFuyb-",
        "colab": {
          "base_uri": "https://localhost:8080/"
        },
        "outputId": "890bb1bb-3949-43e8-b5b6-bed005c24a58"
      },
      "source": [
        "# Total number of outcomes of a die is 6\n",
        "S = 6\n",
        "# Total number of outcomes of event A having even numbers i.e. A = {2, 4, 6} is 3. \n",
        "A = 3 \n",
        "# Probability of getting an even number when a die is rolled\n",
        "pa = A/S\n",
        "print(pa)"
      ],
      "execution_count": null,
      "outputs": [
        {
          "output_type": "stream",
          "text": [
            "0.5\n"
          ],
          "name": "stdout"
        }
      ]
    },
    {
      "cell_type": "markdown",
      "metadata": {
        "id": "8xZZRTON_Wxz"
      },
      "source": [
        "Calculating probability of event A given B i.e. $P(A|B)$\n",
        "\n",
        "To calculate conditional probability we can use the formula as $P(A | B)$ = $\\frac{\\left | A \\cap B \\right |}{\\left | B \\right |}$      \n",
        "\n",
        "Further, as event B has already occured, the outcome of B is {4,5,6}. Also, event A's outcome is {2,4,6}. Therefore, the outcome of the event A when B has already occured will be $A \\cap B$ which is {4,6}"
      ]
    },
    {
      "cell_type": "code",
      "metadata": {
        "id": "BfXeqKWY_XM6",
        "colab": {
          "base_uri": "https://localhost:8080/"
        },
        "outputId": "aaff15b8-cf9b-40f5-9fc0-441fae823214"
      },
      "source": [
        "# Declaring number of events of |A intersection B|=2 as A_B\n",
        "A_B = 2\n",
        "# Declaring number of events of |B| = 3\n",
        "B = 3\n",
        "# Probability of event A given B is calculated as follows\n",
        "P_AB = (A_B)/B\n",
        "print(P_AB) "
      ],
      "execution_count": null,
      "outputs": [
        {
          "output_type": "stream",
          "text": [
            "0.6666666666666666\n"
          ],
          "name": "stdout"
        }
      ]
    },
    {
      "cell_type": "markdown",
      "metadata": {
        "id": "MuSckHwquyxe"
      },
      "source": [
        "### Chain Rule of Conditional Probabilities"
      ]
    },
    {
      "cell_type": "markdown",
      "metadata": {
        "id": "PqtW6DAnwd-C"
      },
      "source": [
        "By now, we know about conditional probability. Further, what if we are interested in knowing the probability of intersections like $A \\cap B$ or $A_{1} \\cap A_{2} \\cap A_{3} \\cap,....,A_{n}$. For this, let us take the formula of conditional probability to derive \"**chain rule of conditional probability**\".\n",
        "\n",
        "Rewriting Conditional Probability in the below format:\n",
        "\n",
        "  $P(A \\cap B)=P(A)P(B|A)=P(B)P(A|B)$.........................(1)\n",
        "\n",
        "  Above formula for three events will be:\n",
        "\n",
        "  $P(A \\cap B \\cap C)= P(A \\cap (B \\cap C))= P(A)P(B \\cap C |A)$\n",
        "\n",
        "  Now, as we know $P(B \\cap C) = P(B)P(C|B)$  (from equation 1)\n",
        "\n",
        "  Apply the condition A on both the sides, we get\n",
        "\n",
        "  $P(B \\cap C|A)=P(B|A)P(C|A,B)$...............................(2)\n",
        "\n",
        "  From equation 1 and 2, we get\n",
        "\n",
        "  $P(A \\cap B \\cap C)=P(A)P(B|A)P(C|A,B)$\n",
        "\n",
        "\n",
        "\n"
      ]
    },
    {
      "cell_type": "markdown",
      "metadata": {
        "id": "DhI8I1mgbiAh"
      },
      "source": [
        "\n",
        "  Finally, the general formula for n events will be\n",
        "\n",
        "  $P(A_{1} \\cap A_{2} \\cap....\\cap A_{n}) = P(A_{1})P(A_{2}|A_{1})P(A_{3}|A_{2}A_{1}).....P(A_{n}|A_{n-1}A_{n-2}....A_{1})$\n"
      ]
    },
    {
      "cell_type": "markdown",
      "metadata": {
        "id": "6LrJ2QJ_DmdS"
      },
      "source": [
        "1. There is a tyre manufacturing factory that produces 250 units per month, 17 of which are defective. We pick 3 units out of 250 units at random. What is the probability that none of them are defective?\n",
        "\n",
        "  **Explanation**: Here, we are picking up 3 units at random. This can be considered as 3 events $A_{1}$, $A_{2}$, and $A_{3}$ of picking up non-defective units. Thus, we have to find the $P(A_{1} \\cap A_{2} \\cap A_{3})$."
      ]
    },
    {
      "cell_type": "markdown",
      "metadata": {
        "id": "F5Hl20t4efyJ"
      },
      "source": [
        "Let us first find the probability of event $A_{1}$"
      ]
    },
    {
      "cell_type": "code",
      "metadata": {
        "id": "oDY_27Gvu4gi",
        "colab": {
          "base_uri": "https://localhost:8080/"
        },
        "outputId": "7e469889-efda-4d46-ff28-2a7f03367342"
      },
      "source": [
        "# Declaring units of production, total number of non-defective units, and number of defective units\n",
        "total_units = 250\n",
        "defec_u = 17\n",
        "n_defec = total_units - defec_u # There are 233 not defective units\n",
        "# Probability of picking up the non-defective units for the first time (Event A1)  \n",
        "P1 = n_defec/total_units\n",
        "P1"
      ],
      "execution_count": null,
      "outputs": [
        {
          "output_type": "execute_result",
          "data": {
            "text/plain": [
              "0.932"
            ]
          },
          "metadata": {
            "tags": []
          },
          "execution_count": 93
        }
      ]
    },
    {
      "cell_type": "markdown",
      "metadata": {
        "id": "TcwlagAthg2Z"
      },
      "source": [
        "Now, the next item will be chosen from 232 not defective units and 17 defective units. This means we have to calculate $P(A_{2}|A_{1})$"
      ]
    },
    {
      "cell_type": "code",
      "metadata": {
        "id": "dJacbIOqifqG",
        "colab": {
          "base_uri": "https://localhost:8080/"
        },
        "outputId": "8212fb78-354c-470a-ccbe-25648164c600"
      },
      "source": [
        "# The non-defective units will be 1 less than the previous one as we have already picked up one unit\n",
        "n_defec_2 = n_defec - 1\n",
        "# Probability of picking up the non-defective units for the second time (Event A2)  \n",
        "P2 = n_defec_2 / (total_units-1)\n",
        "P2"
      ],
      "execution_count": null,
      "outputs": [
        {
          "output_type": "execute_result",
          "data": {
            "text/plain": [
              "0.9317269076305221"
            ]
          },
          "metadata": {
            "tags": []
          },
          "execution_count": 94
        }
      ]
    },
    {
      "cell_type": "markdown",
      "metadata": {
        "id": "vaHGjXNUj-xL"
      },
      "source": [
        "Further, given that $A_{1}$ and $A_{2}$ has occured, we have to find the probability of chosing the 3rd unit.\n",
        "\n",
        "The third unit will be chosen from 231 not defective units and 17 defective units."
      ]
    },
    {
      "cell_type": "code",
      "metadata": {
        "id": "oYZMMlZFTl2a",
        "colab": {
          "base_uri": "https://localhost:8080/"
        },
        "outputId": "5472ba7f-a337-4dc8-9fc2-fb9d4309dccc"
      },
      "source": [
        "# Again, the non-defective units will be 1 less than the previous one (Event A2)\n",
        "n_defec_3 = n_defec_2 - 1\n",
        "P3 = n_defec_3/(total_units-2)\n",
        "P3"
      ],
      "execution_count": null,
      "outputs": [
        {
          "output_type": "execute_result",
          "data": {
            "text/plain": [
              "0.9314516129032258"
            ]
          },
          "metadata": {
            "tags": []
          },
          "execution_count": 95
        }
      ]
    },
    {
      "cell_type": "markdown",
      "metadata": {
        "id": "Zmw4OLUYUoxW"
      },
      "source": [
        "The final probability will be calculated as per the below formula:\n",
        "\n",
        " $P(A_{1} \\cap A_{2} \\cap A_{3})$ = $P(A_{1})P(A_{2}|A_{1})P(A_{3}|A_{2},A_{1})$"
      ]
    },
    {
      "cell_type": "code",
      "metadata": {
        "id": "OZqjWbE5VaUG",
        "colab": {
          "base_uri": "https://localhost:8080/"
        },
        "outputId": "7c8f03ca-833f-4fad-8944-70de66afe069"
      },
      "source": [
        "# Final probability as per the condition\n",
        "p_final = P1*P2*P3\n",
        "p_final"
      ],
      "execution_count": null,
      "outputs": [
        {
          "output_type": "execute_result",
          "data": {
            "text/plain": [
              "0.8088441507967353"
            ]
          },
          "metadata": {
            "tags": []
          },
          "execution_count": 96
        }
      ]
    },
    {
      "cell_type": "markdown",
      "metadata": {
        "id": "VxhQB9k9u4-t"
      },
      "source": [
        "### Independence of Events"
      ]
    },
    {
      "cell_type": "markdown",
      "metadata": {
        "id": "lujS1t_qerPG"
      },
      "source": [
        "An independent event is one that has no effect on the possibility of another event occurring (or not occuring). Moreover, when two events are independent, one event does not influence the probability of another event.\n",
        "\n",
        "\n",
        "Two events A and B are independent if and only if $P(A \\cap B)=P(A)P(B)$."
      ]
    },
    {
      "cell_type": "markdown",
      "metadata": {
        "id": "PriLKT7Sfflq"
      },
      "source": [
        "1. Pick up a random number from the set {1, 2, 3,...,10}, and call it N. Assume that all outcomes are equally likely. \n",
        "\n",
        "  Let us consider two events A and B. Event A is such that N is less than 5, and let B be the event such that N is an odd number. Check whether A and B independent or not?\n",
        "\n",
        "  Hint: Event A = {1,2,3,4}, B = {1,3,5,7,9}, and $A \\cap B$ = {1,3} "
      ]
    },
    {
      "cell_type": "code",
      "metadata": {
        "id": "TUwHGW_2h1Z6"
      },
      "source": [
        "# Total number of events\n",
        "t_events = 10\n",
        "# Probability of event A{1,2,3,4} is |A|/t_events. Here, |A| is the number of events of A{1,2,3,4} i.e. 4\n",
        "A = 4\n",
        "p_A = A/t_events \n",
        "# Probability of event B{1,3,5,7,9} is |B|/t_events. Here, |B| is the number of events of B{1,3,5,7,9} i.e. 5\n",
        "B = 5\n",
        "p_B = B/t_events \n",
        "# Probability of event A intersection B. Here, A intersection B is {1,3} and |A intersection B| = 2. \n",
        "i_AB = 2\n",
        "p_AB = i_AB/t_events"
      ],
      "execution_count": null,
      "outputs": []
    },
    {
      "cell_type": "code",
      "metadata": {
        "id": "SHZ5aZ9CkqXq",
        "colab": {
          "base_uri": "https://localhost:8080/"
        },
        "outputId": "85dd327c-0259-442c-922d-96566c7343c2"
      },
      "source": [
        "# Checking the independence\n",
        "if p_A*p_B==p_AB:\n",
        "  print(\"A and B are independent events\")\n",
        "else:\n",
        "  print(\"A and B are not independent events\")"
      ],
      "execution_count": null,
      "outputs": [
        {
          "output_type": "stream",
          "text": [
            "A and B are independent events\n"
          ],
          "name": "stdout"
        }
      ]
    },
    {
      "cell_type": "markdown",
      "metadata": {
        "id": "gFWRWCYeDwTD"
      },
      "source": [
        "### Conditional Independence"
      ]
    },
    {
      "cell_type": "markdown",
      "metadata": {
        "id": "6D5sdKnVEqX-"
      },
      "source": [
        "Previously, we saw that two events A and B are independent if:\n",
        "\n",
        "$P(A\\cap B) = P(A)P(B)$\n",
        "\n",
        "Further, this can be extended using conditional probability as follows:\n",
        "\n",
        "Two events A and B are conditionally independent given an event C with P(C)>0 if\n",
        "\n",
        "$P(A\\cap B|C)=P(A|C)P(B|C)$"
      ]
    },
    {
      "cell_type": "markdown",
      "metadata": {
        "id": "-ImRnMjknK3c"
      },
      "source": [
        "1. A die is rolled thrice and following events were recorded:\n",
        "\n",
        "  A = {1,2}\n",
        "\n",
        "  B = {2,4,6}\n",
        "\n",
        "  C = {1,4}\n",
        "\n",
        "  Find whether A and B are conditionally independent given C?\n",
        "\n",
        "  Hint: For condition independence, the following should be true:\n",
        "\n",
        "  $P(A \\cap B|C) = P(A|C)P(B|C)$\n"
      ]
    },
    {
      "cell_type": "code",
      "metadata": {
        "id": "cYRs6t1zvBOG"
      },
      "source": [
        "# Total outcomes of a die, event A, event B, and event C\n",
        "t_outcome = 6\n",
        "A_outcome = 2\n",
        "B_outcome = 3\n",
        "C_outcome = 2\n",
        "# |A intersection C| = {1} = 1\n",
        "A_in_C = 1\n",
        "# Probability of event A given C\n",
        "P_AC = A_in_C/C_outcome\n",
        "# |B intersection C| = {4} = 1\n",
        "B_in_C = 1\n",
        "# Probability of event B given C \n",
        "P_BC = B_in_C/C_outcome"
      ],
      "execution_count": null,
      "outputs": []
    },
    {
      "cell_type": "markdown",
      "metadata": {
        "id": "UO2elAS2LGQn"
      },
      "source": [
        "Now, let us calculate $P(A\\cap B|C)$. Before this, we will do some prior calculation as follows:\n",
        "\n",
        "Given, A = {1,2} and B = {2,4,6}, let us condsider an event E.\n",
        "\n",
        "$E = A\\cap B$ = {2} \n",
        "\n",
        "Further, we will calculate $P(A\\cap B|C)$ rewritten as $P(E|C)$ as follows:"
      ]
    },
    {
      "cell_type": "code",
      "metadata": {
        "id": "KWgxgt_qLFTT"
      },
      "source": [
        "# |E intersection C| = {2} intersection {1,4} = 0\n",
        "E_in_C =  0\n",
        "# Probability of E intersection C i.e. E given C is \n",
        "P_EC = E_in_C/C_outcome"
      ],
      "execution_count": null,
      "outputs": []
    },
    {
      "cell_type": "code",
      "metadata": {
        "id": "KrCEpqkXRZsA",
        "colab": {
          "base_uri": "https://localhost:8080/"
        },
        "outputId": "162852e8-502d-4673-fd8f-c1305b99c198"
      },
      "source": [
        "# Checking the conditional independence\n",
        "if P_AC*P_BC==P_EC:\n",
        "  print(\"A and B are conditionally independent given C\")\n",
        "else:\n",
        "  print(\"A and B are not conditionally independent given C\")"
      ],
      "execution_count": null,
      "outputs": [
        {
          "output_type": "stream",
          "text": [
            "A and B are not conditionally independent given C\n"
          ],
          "name": "stdout"
        }
      ]
    },
    {
      "cell_type": "markdown",
      "metadata": {
        "id": "ycL6Vpz_vdxx"
      },
      "source": [
        "### Bayes Theorem"
      ]
    },
    {
      "cell_type": "markdown",
      "metadata": {
        "id": "IdYC5ueBwhJ3"
      },
      "source": [
        "By now, we already know about conditional probability and how to calculate it. Further, suppose that we know P(A|B), but we are interested in the probability P(B|A). We can calculate it using the below formula derived for Bayes Theorem:\n",
        "\n",
        "$P(B|A) = \\frac {P(A|B)P(B)}{P(A)}$ where $P(A)\\neq0$\n",
        "\n",
        "It can also be written as:\n",
        "\n",
        "$P(B_{j}|A) = \\frac {P(A|B_{j})P(B_{j})}{\\sum_{i} P(A|B_{i})P(B_{i})}$\n",
        "\n",
        "where $B_{1},B_{2},...,B_{n}$ form a partition of the sample space.\n",
        "\n"
      ]
    },
    {
      "cell_type": "markdown",
      "metadata": {
        "id": "-avfAxTbtm4L"
      },
      "source": [
        "1. Suppose there are three bags where each bag contains 100 marbles:\n",
        "\n",
        "  a). Bag 1 has 75 red and 25 blue marbles\n",
        "\n",
        "  b). Bag 2 has 60 red and 40 blue marbles\n",
        "\n",
        "  c). Bag 3 has 45 red and 55 blue marbles\n",
        "\n",
        "  We choose one of the bags at random and then pick a random marble from the chosen bag. Further, we observe that the chosen marble is red. What is the probability that the bag chosen was Bag 1?\n",
        "\n"
      ]
    },
    {
      "cell_type": "code",
      "metadata": {
        "id": "Aa2LAbC2vkdG",
        "colab": {
          "base_uri": "https://localhost:8080/"
        },
        "outputId": "a37075d5-cef4-42b3-bf10-d9da6250d421"
      },
      "source": [
        "# Probability of picking up the marbles from Bag 1, Bag 2, and Bag 3\n",
        "P_B1 = 1/3\n",
        "P_B2 = 1/3\n",
        "P_B3 = 1/3\n",
        "# Probability of picking up the red marbles from Bag 1, Bag 2, and Bag 3\n",
        "PR_B1 = 0.75\n",
        "PR_B2 = 0.60\n",
        "PR_B3 = 0.45\n",
        "\n",
        "# Probability of the event where chosen marble is red\n",
        "P_Red = PR_B1*P_B1 + PR_B2*P_B2 + PR_B3*P_B3\n",
        "P_Red"
      ],
      "execution_count": null,
      "outputs": [
        {
          "output_type": "execute_result",
          "data": {
            "text/plain": [
              "0.6"
            ]
          },
          "metadata": {
            "tags": []
          },
          "execution_count": 102
        }
      ]
    },
    {
      "cell_type": "markdown",
      "metadata": {
        "id": "hy2kJCyPxqlQ"
      },
      "source": [
        "Here, we know $P(R|B_{i})$, but, to calculate the probability that Bag 1 was chosen $P(B_{1}|R)$ we will follow the **Bayes rule**.\n",
        "\n",
        "$P(B_{1}|R) = \\frac{P(R|B_{1})P(B_{1})}{P(R)}$"
      ]
    },
    {
      "cell_type": "code",
      "metadata": {
        "id": "ZL1SL5TRwd6e",
        "colab": {
          "base_uri": "https://localhost:8080/"
        },
        "outputId": "715a1d15-1de3-4fe5-f4bc-3096779db300"
      },
      "source": [
        "# Probability that Bag 1 was chosen\n",
        "P_B1R = (PR_B1*P_B1)/P_Red\n",
        "P_B1R"
      ],
      "execution_count": null,
      "outputs": [
        {
          "output_type": "execute_result",
          "data": {
            "text/plain": [
              "0.4166666666666667"
            ]
          },
          "metadata": {
            "tags": []
          },
          "execution_count": 103
        }
      ]
    },
    {
      "cell_type": "markdown",
      "metadata": {
        "id": "VHfHdGCP_n6Y"
      },
      "source": [
        "### Please answer the questions below to complete the experiment:\n",
        "\n",
        "\n"
      ]
    },
    {
      "cell_type": "code",
      "metadata": {
        "id": "kmvdJ4aNmGjR"
      },
      "source": [
        "#@title Q.1. Mean and variance in uniform distribution are interpretable and we can get real intution. { run: \"auto\", form-width: \"500px\", display-mode: \"form\" }\n",
        "Answer1 = \"True\" #@param [\"\",\"True\", \"False\"]\n"
      ],
      "execution_count": null,
      "outputs": []
    },
    {
      "cell_type": "code",
      "metadata": {
        "colab": {
          "base_uri": "https://localhost:8080/"
        },
        "id": "OBNzmL1aJzuH",
        "outputId": "8faf50d1-09a1-4916-ac9e-b86070db895b"
      },
      "source": [
        "P_Blue = 6/23\n",
        "P_Red = 8/23\n",
        "P_Black = 9/23\n",
        "#numerator\n",
        "Pnum = (9*8*7*6*5*4)\n",
        "#denominator\n",
        "Pden = (23*22*21*20*19*18)\n",
        "Pnum/Pden"
      ],
      "execution_count": null,
      "outputs": [
        {
          "output_type": "execute_result",
          "data": {
            "text/plain": [
              "0.0008321198252548367"
            ]
          },
          "metadata": {
            "tags": []
          },
          "execution_count": 105
        }
      ]
    },
    {
      "cell_type": "code",
      "metadata": {
        "id": "UX24XAeIJ6Nf"
      },
      "source": [
        "#@title Q.2. A bucket contains 6 blue, 8 red and 9 black pens. If six pens are drawn one by one without replacement, find the probability of getting all black pens? { run: \"auto\", form-width: \"500px\", display-mode: \"form\" }\n",
        "Answer2 = \"4/4807\" #@param [\"\",\"8/213\", \"5/4807\", \"7/4328\", \"4/4807\"]\n"
      ],
      "execution_count": null,
      "outputs": []
    },
    {
      "cell_type": "code",
      "metadata": {
        "id": "NMzKSbLIgFzQ"
      },
      "source": [
        "#@title How was the experiment? { run: \"auto\", form-width: \"500px\", display-mode: \"form\" }\n",
        "Complexity = \"Good and Challenging for me\" #@param [\"\",\"Too Simple, I am wasting time\", \"Good, But Not Challenging for me\", \"Good and Challenging for me\", \"Was Tough, but I did it\", \"Too Difficult for me\"]\n"
      ],
      "execution_count": null,
      "outputs": []
    },
    {
      "cell_type": "code",
      "metadata": {
        "id": "DjcH1VWSFI2l"
      },
      "source": [
        "#@title If it was too easy, what more would you have liked to be added? If it was very difficult, what would you have liked to have been removed? { run: \"auto\", display-mode: \"form\" }\n",
        "Additional = \"Link problems together to reuse results\" #@param {type:\"string\"}\n"
      ],
      "execution_count": null,
      "outputs": []
    },
    {
      "cell_type": "code",
      "metadata": {
        "id": "4VBk_4VTAxCM"
      },
      "source": [
        "#@title Can you identify the concepts from the lecture which this experiment covered? { run: \"auto\", vertical-output: true, display-mode: \"form\" }\n",
        "Concepts = \"Yes\" #@param [\"\",\"Yes\", \"No\"]\n"
      ],
      "execution_count": null,
      "outputs": []
    },
    {
      "cell_type": "code",
      "metadata": {
        "id": "XH91cL1JWH7m"
      },
      "source": [
        "#@title  Text and image description/explanation and code comments within the experiment: { run: \"auto\", vertical-output: true, display-mode: \"form\" }\n",
        "Comments = \"Very Useful\" #@param [\"\",\"Very Useful\", \"Somewhat Useful\", \"Not Useful\", \"Didn't use\"]\n"
      ],
      "execution_count": null,
      "outputs": []
    },
    {
      "cell_type": "code",
      "metadata": {
        "id": "z8xLqj7VWIKW"
      },
      "source": [
        "#@title Mentor Support: { run: \"auto\", vertical-output: true, display-mode: \"form\" }\n",
        "Mentor_support = \"Very Useful\" #@param [\"\",\"Very Useful\", \"Somewhat Useful\", \"Not Useful\", \"Didn't use\"]\n"
      ],
      "execution_count": null,
      "outputs": []
    },
    {
      "cell_type": "code",
      "metadata": {
        "id": "FzAZHt1zw-Y-",
        "cellView": "form",
        "colab": {
          "base_uri": "https://localhost:8080/"
        },
        "outputId": "97f47bfb-9b70-4e3a-fe82-92676a1a5be6"
      },
      "source": [
        "#@title Run this cell to submit your notebook for grading { vertical-output: true }\n",
        "try:\n",
        "  if submission_id:\n",
        "      return_id = submit_notebook()\n",
        "      if return_id : submission_id = return_id\n",
        "  else:\n",
        "      print(\"Please complete the setup first.\")\n",
        "except NameError:\n",
        "  print (\"Please complete the setup first.\")"
      ],
      "execution_count": null,
      "outputs": [
        {
          "output_type": "stream",
          "text": [
            "Your submission is successful.\n",
            "Ref Id: 539\n",
            "Date of submission:  12 Jun 2021\n",
            "Time of submission:  22:39:45\n",
            "View your submissions: https://dlfa.iisc.talentsprint.com/notebook_submissions\n"
          ],
          "name": "stdout"
        }
      ]
    }
  ]
}