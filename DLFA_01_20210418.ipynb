{
  "nbformat": 4,
  "nbformat_minor": 0,
  "metadata": {
    "colab": {
      "name": "DLFA-01-20210418.ipynb",
      "private_outputs": true,
      "provenance": [],
      "include_colab_link": true
    },
    "kernelspec": {
      "name": "python3",
      "display_name": "Python 3"
    },
    "language_info": {
      "name": "python"
    }
  },
  "cells": [
    {
      "cell_type": "markdown",
      "metadata": {
        "id": "view-in-github",
        "colab_type": "text"
      },
      "source": [
        "<a href=\"https://colab.research.google.com/github/mnshcodie/IIScEx_2021/blob/main/DLFA_01_20210418.ipynb\" target=\"_parent\"><img src=\"https://colab.research.google.com/assets/colab-badge.svg\" alt=\"Open In Colab\"/></a>"
      ]
    },
    {
      "cell_type": "markdown",
      "metadata": {
        "id": "nhO3B5rPKFwg"
      },
      "source": [
        "# Welcome to Python\n",
        "## Arguably the most enjoyable language to code in\n",
        "## Definitely *the* language for scientific computing"
      ]
    },
    {
      "cell_type": "code",
      "metadata": {
        "id": "r2mtFSrgPmoy"
      },
      "source": [
        "!python --version"
      ],
      "execution_count": null,
      "outputs": []
    },
    {
      "cell_type": "markdown",
      "metadata": {
        "id": "S5Zl_BznRyEe"
      },
      "source": [
        "Find the sum of all the multiples of 3 or 5 below 1000"
      ]
    },
    {
      "cell_type": "code",
      "metadata": {
        "id": "_Uqb7sUJVOz2"
      },
      "source": [
        "LIMIT = 1000\n",
        "num, total = 1, 0\n",
        "while num < LIMIT:\n",
        "    if num % 3 == 0 or num % 5 == 0:\n",
        "        total += num\n",
        "    num += 1\n",
        "print(total)"
      ],
      "execution_count": null,
      "outputs": []
    },
    {
      "cell_type": "code",
      "metadata": {
        "id": "lZb6ztmOVtvn"
      },
      "source": [
        "LIMIT = 1000\n",
        "total = 0\n",
        "for num in range(LIMIT):\n",
        "    if num % 3 == 0 or num % 5 == 0:\n",
        "        total += num\n",
        "print(total)"
      ],
      "execution_count": null,
      "outputs": []
    },
    {
      "cell_type": "code",
      "metadata": {
        "id": "iaoMB73zXQvX"
      },
      "source": [
        "range?"
      ],
      "execution_count": null,
      "outputs": []
    },
    {
      "cell_type": "code",
      "metadata": {
        "id": "dzPkDdlzXez2"
      },
      "source": [
        "def select(n: int) -> bool:\n",
        "    return n % 3 == 0 or n % 5 == 0"
      ],
      "execution_count": null,
      "outputs": []
    },
    {
      "cell_type": "code",
      "metadata": {
        "id": "5rww78rjYUJm"
      },
      "source": [
        "LIMIT = 1000\n",
        "num, total = 1, 0\n",
        "while num < LIMIT:\n",
        "    if select(num):\n",
        "        total += num\n",
        "    num += 1\n",
        "print(total)"
      ],
      "execution_count": null,
      "outputs": []
    },
    {
      "cell_type": "code",
      "metadata": {
        "id": "r3l1XWHxYbPW"
      },
      "source": [
        "LIMIT = 1000\n",
        "total = 0\n",
        "for num in range(LIMIT):\n",
        "    if select(num):\n",
        "        total += num\n",
        "print(total)"
      ],
      "execution_count": null,
      "outputs": []
    },
    {
      "cell_type": "code",
      "metadata": {
        "id": "hOBU4-G7YiNm"
      },
      "source": [
        "range(7)"
      ],
      "execution_count": null,
      "outputs": []
    },
    {
      "cell_type": "code",
      "metadata": {
        "id": "d_imcTheaDem"
      },
      "source": [
        "list(range(7))"
      ],
      "execution_count": null,
      "outputs": []
    },
    {
      "cell_type": "code",
      "metadata": {
        "id": "cYyIbOzHbM8j"
      },
      "source": [
        "list(range(10, 18))"
      ],
      "execution_count": null,
      "outputs": []
    },
    {
      "cell_type": "code",
      "metadata": {
        "id": "uPosPOP1bRw5"
      },
      "source": [
        "list(range(45, 234, 19))"
      ],
      "execution_count": null,
      "outputs": []
    },
    {
      "cell_type": "code",
      "metadata": {
        "id": "2x_dmiV0aGPW"
      },
      "source": [
        "sum(range(3, LIMIT, 3)) + sum(range(5, LIMIT, 5)) - sum(range(15, LIMIT, 15))"
      ],
      "execution_count": null,
      "outputs": []
    },
    {
      "cell_type": "code",
      "metadata": {
        "id": "G3nC80H9cEXI"
      },
      "source": [
        "sum(set(range(3, LIMIT, 3)) | set(range(5, LIMIT, 5)))"
      ],
      "execution_count": null,
      "outputs": []
    },
    {
      "cell_type": "code",
      "metadata": {
        "id": "lHMzzdPlcZdl"
      },
      "source": [
        "sum([_ for _ in range(LIMIT) if select(_)])"
      ],
      "execution_count": null,
      "outputs": []
    },
    {
      "cell_type": "code",
      "metadata": {
        "id": "8Dvko58wd8MG"
      },
      "source": [
        "[x * 3 for x in range(12)]"
      ],
      "execution_count": null,
      "outputs": []
    },
    {
      "cell_type": "code",
      "metadata": {
        "id": "YldogJG9ewDG"
      },
      "source": [
        "[a * a - 2 for a in range(4, 22, 3)]"
      ],
      "execution_count": null,
      "outputs": []
    },
    {
      "cell_type": "markdown",
      "metadata": {
        "id": "LKzVoio7e2zF"
      },
      "source": [
        ""
      ]
    },
    {
      "cell_type": "code",
      "metadata": {
        "id": "rwxrfDIJfL-W"
      },
      "source": [
        "po = [1, 3.14159265, \"Hello\", [3, 4]]"
      ],
      "execution_count": null,
      "outputs": []
    },
    {
      "cell_type": "code",
      "metadata": {
        "id": "9U6m2AH6fmh1"
      },
      "source": [
        "po"
      ],
      "execution_count": null,
      "outputs": []
    },
    {
      "cell_type": "code",
      "metadata": {
        "id": "cDBia5fPiRHl"
      },
      "source": [
        ""
      ],
      "execution_count": null,
      "outputs": []
    },
    {
      "cell_type": "markdown",
      "metadata": {
        "id": "iyN341DBjrDm"
      },
      "source": [
        "$S' = \\{\\phi(x) | x \\in S, p(x)\\}$"
      ]
    },
    {
      "cell_type": "code",
      "metadata": {
        "id": "-zMNXkSSjyFn"
      },
      "source": [
        "S1 = [phi(x) for x in S if p(x)]"
      ],
      "execution_count": null,
      "outputs": []
    },
    {
      "cell_type": "code",
      "metadata": {
        "id": "qwPjI8r9kYOV"
      },
      "source": [
        "sum(filter(select, range(LIMIT)))"
      ],
      "execution_count": null,
      "outputs": []
    },
    {
      "cell_type": "code",
      "metadata": {
        "id": "WdaxyhZKks21"
      },
      "source": [
        "sum(filter(lambda x: x % 3 == 0 or x % 5 == 0, range(LIMIT)))"
      ],
      "execution_count": null,
      "outputs": []
    },
    {
      "cell_type": "markdown",
      "metadata": {
        "id": "_sjH9TV5k4TV"
      },
      "source": [
        "**filter(f, S)** = [x for x in S if f(x)]"
      ]
    },
    {
      "cell_type": "code",
      "metadata": {
        "id": "avEJFzkalXLm"
      },
      "source": [
        "type(select)"
      ],
      "execution_count": null,
      "outputs": []
    },
    {
      "cell_type": "code",
      "metadata": {
        "id": "1vr-zXH0l3UF"
      },
      "source": [
        "type([1, 3, 4])"
      ],
      "execution_count": null,
      "outputs": []
    },
    {
      "cell_type": "markdown",
      "metadata": {
        "id": "xld_ABSLl8oV"
      },
      "source": [
        "The prime factors of 13195 are 5, 7, 13 and 29.\n",
        "\n",
        "What is the largest prime factor of the number 600851475143 ?"
      ]
    },
    {
      "cell_type": "code",
      "metadata": {
        "id": "bjktJ_yGnnwF"
      },
      "source": [
        "test = 13195\n",
        "def factorize(n: int) -> [int]:\n",
        "    if n < 2:\n",
        "        return []\n",
        "    factors = []\n",
        "    while n % 2 == 0:\n",
        "        factors.append(2)\n",
        "        n //= 2 # same as n = n // 2\n",
        "\n",
        "    factor = 3\n",
        "    while n > 2:\n",
        "        while n % factor == 0:\n",
        "            factors.append(factor)\n",
        "            n //= factor\n",
        "        factor += 2\n",
        "    return factors\n",
        "factorize(12)"
      ],
      "execution_count": null,
      "outputs": []
    },
    {
      "cell_type": "markdown",
      "metadata": {
        "id": "dam6YABYnxMC"
      },
      "source": [
        "2520 is the smallest number that can be divided by each of the numbers from\n",
        "1 to 10 without any remainder.\n",
        "What is the smallest positive number that is evenly divisible by all of the\n",
        "numbers from 1 to 20?\n"
      ]
    },
    {
      "cell_type": "code",
      "metadata": {
        "id": "11h46iL8n08F"
      },
      "source": [
        "## BAD CODE\n",
        "START = 2520\n",
        "num, found = START, False\n",
        "while not found:\n",
        "    for factor in range(2, 21):\n",
        "        if num % factor != 0:\n",
        "            num += 1\n",
        "            break\n",
        "    else:\n",
        "        found = True"
      ],
      "execution_count": null,
      "outputs": []
    },
    {
      "cell_type": "code",
      "metadata": {
        "id": "CG9VpWKnqtm0"
      },
      "source": [
        "num"
      ],
      "execution_count": null,
      "outputs": []
    },
    {
      "cell_type": "code",
      "metadata": {
        "id": "hLHsscCVr6sF"
      },
      "source": [
        "def gcd(a: int, b: int) -> int:\n",
        "    if a % b == 0:\n",
        "        return b\n",
        "    return gcd(b, a % b)\n",
        "\n",
        "def lcm(a: int, b: int) -> int:\n",
        "    return (a * b) // gcd(a, b)"
      ],
      "execution_count": null,
      "outputs": []
    },
    {
      "cell_type": "code",
      "metadata": {
        "id": "1hT6qQGqsruG"
      },
      "source": [
        "lcm(16, 14)"
      ],
      "execution_count": null,
      "outputs": []
    },
    {
      "cell_type": "code",
      "metadata": {
        "id": "f7bM6jt-s1sk"
      },
      "source": [
        "def lcml(a: [int]) -> int:\n",
        "    if len(a) == 1:\n",
        "        return a[0]\n",
        "    if len(a) == 2:\n",
        "        return lcm(a[0], a[1])\n",
        "    return lcm(a[0], lcml(a[1:]))"
      ],
      "execution_count": null,
      "outputs": []
    },
    {
      "cell_type": "code",
      "metadata": {
        "id": "R7JDGFLxv0Vi"
      },
      "source": [
        "lcml(range(1, 11))"
      ],
      "execution_count": null,
      "outputs": []
    },
    {
      "cell_type": "code",
      "metadata": {
        "id": "vl0FETKWwQRC"
      },
      "source": [
        "lcml(range(1, 21))"
      ],
      "execution_count": null,
      "outputs": []
    },
    {
      "cell_type": "code",
      "metadata": {
        "id": "6lMmGqUDtKo1"
      },
      "source": [
        "7/3"
      ],
      "execution_count": null,
      "outputs": []
    },
    {
      "cell_type": "code",
      "metadata": {
        "id": "6L1UNp-hwPMk"
      },
      "source": [
        ""
      ],
      "execution_count": null,
      "outputs": []
    },
    {
      "cell_type": "code",
      "metadata": {
        "id": "USaRZz0WtLnI"
      },
      "source": [
        "7//3"
      ],
      "execution_count": null,
      "outputs": []
    },
    {
      "cell_type": "code",
      "metadata": {
        "id": "rFkWbCUAtMfV"
      },
      "source": [
        "f = [0, 1, 1, 2, 3, 5, 8]\n",
        "p = [2, 3, 4, 7, 11, 13, 17]"
      ],
      "execution_count": null,
      "outputs": []
    },
    {
      "cell_type": "code",
      "metadata": {
        "id": "VITqd6WouHmV"
      },
      "source": [
        "f[0], f[3], p[-1]"
      ],
      "execution_count": null,
      "outputs": []
    },
    {
      "cell_type": "code",
      "metadata": {
        "id": "oqz9VrGTuImF"
      },
      "source": [
        "f[10], p[-8]"
      ],
      "execution_count": null,
      "outputs": []
    },
    {
      "cell_type": "code",
      "metadata": {
        "id": "f-y-kyI-uP9F"
      },
      "source": [
        "f[1:4]"
      ],
      "execution_count": null,
      "outputs": []
    },
    {
      "cell_type": "code",
      "metadata": {
        "id": "nxz9J4oDuV-1"
      },
      "source": [
        "f[1:]"
      ],
      "execution_count": null,
      "outputs": []
    },
    {
      "cell_type": "code",
      "metadata": {
        "id": "VCTDubBQudi1"
      },
      "source": [
        "f[1:-1]"
      ],
      "execution_count": null,
      "outputs": []
    },
    {
      "cell_type": "code",
      "metadata": {
        "id": "Wcba3VN2ufvW"
      },
      "source": [
        "ff = [0, 1, 1, 2, 3, 5, 8, 13, 21, 34, 55, 89]"
      ],
      "execution_count": null,
      "outputs": []
    },
    {
      "cell_type": "code",
      "metadata": {
        "id": "QlidGjjGurTV"
      },
      "source": [
        "ff[::2]"
      ],
      "execution_count": null,
      "outputs": []
    },
    {
      "cell_type": "code",
      "metadata": {
        "id": "wGOxMrW9uuH2"
      },
      "source": [
        "ff[3:10:3]"
      ],
      "execution_count": null,
      "outputs": []
    },
    {
      "cell_type": "code",
      "metadata": {
        "id": "5oFHgn_4uyyV"
      },
      "source": [
        "ff[3:10]"
      ],
      "execution_count": null,
      "outputs": []
    },
    {
      "cell_type": "code",
      "metadata": {
        "id": "UkxJ934NvBh1"
      },
      "source": [
        "p[:4]"
      ],
      "execution_count": null,
      "outputs": []
    },
    {
      "cell_type": "code",
      "metadata": {
        "id": "DN45a1pwvJTl"
      },
      "source": [
        "p[3:]"
      ],
      "execution_count": null,
      "outputs": []
    },
    {
      "cell_type": "code",
      "metadata": {
        "id": "d_LdGI_avLw1"
      },
      "source": [
        "ff"
      ],
      "execution_count": null,
      "outputs": []
    },
    {
      "cell_type": "code",
      "metadata": {
        "id": "htxJ3fWjvebl"
      },
      "source": [
        "ff[::-1]"
      ],
      "execution_count": null,
      "outputs": []
    },
    {
      "cell_type": "code",
      "metadata": {
        "id": "gy25UmzAvgU0"
      },
      "source": [
        "ff[::-2]"
      ],
      "execution_count": null,
      "outputs": []
    },
    {
      "cell_type": "code",
      "metadata": {
        "id": "JRgG3CrPvk-1"
      },
      "source": [
        "a1 = [1, 6, -2, \"Hello\"]"
      ],
      "execution_count": null,
      "outputs": []
    },
    {
      "cell_type": "code",
      "metadata": {
        "id": "XFausN3-1mj9"
      },
      "source": [
        "a1.append(3.4)"
      ],
      "execution_count": null,
      "outputs": []
    },
    {
      "cell_type": "code",
      "metadata": {
        "id": "G2NYqJJT1opl"
      },
      "source": [
        "a1"
      ],
      "execution_count": null,
      "outputs": []
    },
    {
      "cell_type": "code",
      "metadata": {
        "id": "wEAleqwc1pTV"
      },
      "source": [
        "def is_perfect_square(n):\n",
        "    r = 0\n",
        "    while r * r < n:\n",
        "        r += 1\n",
        "    return r * r == n"
      ],
      "execution_count": null,
      "outputs": []
    },
    {
      "cell_type": "code",
      "metadata": {
        "id": "IaGMQejd3zrF"
      },
      "source": [
        "def is_power_of2(n: int) -> bool:\n",
        "    r = 0\n",
        "    while 2 ** r < n:\n",
        "        r += 1\n",
        "    return 2 ** r == n"
      ],
      "execution_count": null,
      "outputs": []
    },
    {
      "cell_type": "code",
      "metadata": {
        "id": "9CelE2t34Lx5"
      },
      "source": [
        "def are_all_digits_even(n):\n",
        "    while n > 0:\n",
        "        if n % 2 == 1:\n",
        "            return False\n",
        "        n //= 10\n",
        "    return True"
      ],
      "execution_count": null,
      "outputs": []
    },
    {
      "cell_type": "code",
      "metadata": {
        "id": "pRhqeab-4iEU"
      },
      "source": [
        "are_all_digits_even(2222)"
      ],
      "execution_count": null,
      "outputs": []
    },
    {
      "cell_type": "code",
      "metadata": {
        "id": "AHOmp5UQ54eV"
      },
      "source": [
        "176/10"
      ],
      "execution_count": null,
      "outputs": []
    },
    {
      "cell_type": "code",
      "metadata": {
        "id": "iuX5yWCJ6UoK"
      },
      "source": [
        "def all_even(n: int) -> bool:\n",
        "    return all(ch in \"02468\" for ch in str(n))"
      ],
      "execution_count": null,
      "outputs": []
    },
    {
      "cell_type": "code",
      "metadata": {
        "id": "MPbnFuF77hOE"
      },
      "source": [
        "all_even(244), all_even(126846)"
      ],
      "execution_count": null,
      "outputs": []
    },
    {
      "cell_type": "code",
      "metadata": {
        "id": "62H5udvV8bNF"
      },
      "source": [
        "all([_ in \"02468\" for _ in \"1768\"])"
      ],
      "execution_count": null,
      "outputs": []
    },
    {
      "cell_type": "code",
      "metadata": {
        "id": "HfhHQehk8jyF"
      },
      "source": [
        "any([_ in \"02468\" for _ in \"1768\"])"
      ],
      "execution_count": null,
      "outputs": []
    },
    {
      "cell_type": "code",
      "metadata": {
        "id": "hA3EUu_97i_l"
      },
      "source": [
        "def odd_even(n: int) -> str:\n",
        "    return \"Odd\" if n % 2 == 1 else \"Even\"\n",
        "\n",
        "def classify_digits(n: int) -> [str]:\n",
        "    return [odd_even(int(ch)) for ch in str(n)]"
      ],
      "execution_count": null,
      "outputs": []
    },
    {
      "cell_type": "code",
      "metadata": {
        "id": "4Z3YFpXl8utU"
      },
      "source": [
        "classify_digits(1729)"
      ],
      "execution_count": null,
      "outputs": []
    },
    {
      "cell_type": "code",
      "metadata": {
        "id": "RxMpKraX9hd0"
      },
      "source": [
        "from functools import reduce"
      ],
      "execution_count": null,
      "outputs": []
    },
    {
      "cell_type": "code",
      "metadata": {
        "id": "M1i0poKD94OE"
      },
      "source": [
        "reduce?"
      ],
      "execution_count": null,
      "outputs": []
    },
    {
      "cell_type": "code",
      "metadata": {
        "id": "Y4bXThUy99-1"
      },
      "source": [
        "reduce(lcm, range(1, 11), 1)"
      ],
      "execution_count": null,
      "outputs": []
    },
    {
      "cell_type": "markdown",
      "metadata": {
        "id": "ipkmYT8D-F-V"
      },
      "source": [
        "reduce(lcm, [1, 2, 3, 4, 5, 6])\n",
        "==> reduce(lcm, [lcm(1, 2), 3, 4, 5, 6])\n",
        "==> reduce(lcm, [2, 3, 4, 5, 6]\n",
        "==> reduce(lcm, [lcm(2, 3), 4, 5, 6])\n",
        "==> reduce(lcm"
      ]
    },
    {
      "cell_type": "code",
      "metadata": {
        "id": "eCvCGfot-LGk"
      },
      "source": [
        ""
      ],
      "execution_count": null,
      "outputs": []
    },
    {
      "cell_type": "markdown",
      "metadata": {
        "id": "r_-qEXTm-Sqa"
      },
      "source": [
        "reduce(f, a) -> reduce(f, [f(a[0], a[1]), a[2] ...])  "
      ]
    },
    {
      "cell_type": "code",
      "metadata": {
        "id": "kpkhQuB6-0eF"
      },
      "source": [
        "reduce(lcm, range(11, 21), 2520)"
      ],
      "execution_count": null,
      "outputs": []
    },
    {
      "cell_type": "markdown",
      "metadata": {
        "id": "8l0t0IhCAzKL"
      },
      "source": [
        "map(f, a) --> [f(a[0]), f(a[1]) ... f(a[-1])]"
      ]
    },
    {
      "cell_type": "markdown",
      "metadata": {
        "id": "QlAf9lIEDo5N"
      },
      "source": [
        "[f(x) for x in a]"
      ]
    },
    {
      "cell_type": "code",
      "metadata": {
        "id": "wdNsy7OODulV"
      },
      "source": [
        ""
      ],
      "execution_count": null,
      "outputs": []
    }
  ]
}