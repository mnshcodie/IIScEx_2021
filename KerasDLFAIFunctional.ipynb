{
  "nbformat": 4,
  "nbformat_minor": 0,
  "metadata": {
    "colab": {
      "name": "KerasDLFAIFunctional.ipynb",
      "provenance": [],
      "collapsed_sections": [],
      "include_colab_link": true
    },
    "kernelspec": {
      "name": "python3",
      "display_name": "Python 3"
    },
    "language_info": {
      "name": "python"
    }
  },
  "cells": [
    {
      "cell_type": "markdown",
      "metadata": {
        "id": "view-in-github",
        "colab_type": "text"
      },
      "source": [
        "<a href=\"https://colab.research.google.com/github/mnshcodie/IIScEx_2021/blob/main/KerasDLFAIFunctional.ipynb\" target=\"_parent\"><img src=\"https://colab.research.google.com/assets/colab-badge.svg\" alt=\"Open In Colab\"/></a>"
      ]
    },
    {
      "cell_type": "code",
      "metadata": {
        "colab": {
          "base_uri": "https://localhost:8080/"
        },
        "id": "GnyasnQLBm3t",
        "outputId": "2e5243bc-a6a3-4628-d3ca-0fd63f592c58"
      },
      "source": [
        "import tensorflow as tf\n",
        "print(tf.keras.__version__)"
      ],
      "execution_count": null,
      "outputs": [
        {
          "output_type": "stream",
          "text": [
            "2.6.0\n"
          ],
          "name": "stdout"
        }
      ]
    },
    {
      "cell_type": "code",
      "metadata": {
        "id": "7Nipfn6eJRqS"
      },
      "source": [
        "!wget https://cdn.talentsprint.com/aiml/Experiment_related_data/diabetes.csv"
      ],
      "execution_count": null,
      "outputs": []
    },
    {
      "cell_type": "code",
      "metadata": {
        "id": "ipTcvUfgJ1EU"
      },
      "source": [
        "import pandas as pd\n",
        "data = pd.read_csv('diabetes.csv')"
      ],
      "execution_count": null,
      "outputs": []
    },
    {
      "cell_type": "code",
      "metadata": {
        "id": "kP0u4NwVKEtr"
      },
      "source": [
        "X = data.iloc[:,0:8]\n",
        "y = data.iloc[:,8:]"
      ],
      "execution_count": null,
      "outputs": []
    },
    {
      "cell_type": "code",
      "metadata": {
        "id": "Lm-CLt0PKIwu"
      },
      "source": [
        "from sklearn.model_selection import train_test_split\n",
        "X_train,X_test,y_train,y_test = train_test_split(X,y,test_size = 0.3,random_state = 0)"
      ],
      "execution_count": null,
      "outputs": []
    },
    {
      "cell_type": "code",
      "metadata": {
        "id": "O_U_CUL5KMk6"
      },
      "source": [
        "from sklearn.preprocessing import StandardScaler\n",
        "scaler = StandardScaler().fit(X_train)\n",
        "X_train = scaler.transform(X_train)\n",
        "X_test = scaler.transform(X_test)"
      ],
      "execution_count": null,
      "outputs": []
    },
    {
      "cell_type": "code",
      "metadata": {
        "colab": {
          "base_uri": "https://localhost:8080/"
        },
        "id": "GwcQ2RmgKNwg",
        "outputId": "c191f476-1225-4779-dd8e-8917f0478da5"
      },
      "source": [
        "from keras.models import Model\n",
        "from keras.layers import Dense,Input\n",
        "inputs = Input(shape = (8,))\n",
        "x = Dense(8,activation = 'relu')(inputs)\n",
        "x = Dense(8,activation = 'relu')(x)\n",
        "predictions =Dense(1,activation = 'sigmoid')(x)\n",
        "model = Model(inputs = inputs,outputs = predictions)\n",
        "model.compile(optimizer = 'sgd',loss ='binary_crossentropy',metrics =['accuracy'])\n",
        "model.fit(X_train,y_train,epochs = 5 ,batch_size = 20 ,verbose = 0)\n",
        "#%timeit"
      ],
      "execution_count": null,
      "outputs": [
        {
          "output_type": "execute_result",
          "data": {
            "text/plain": [
              "<keras.callbacks.History at 0x7f75b0c8d150>"
            ]
          },
          "metadata": {},
          "execution_count": 6
        }
      ]
    },
    {
      "cell_type": "code",
      "metadata": {
        "colab": {
          "base_uri": "https://localhost:8080/"
        },
        "id": "ftotDJm0Mpga",
        "outputId": "06cfdfa0-c2f5-4ff2-d474-09bb70099512"
      },
      "source": [
        "y_pred = model.predict(X_test)\n",
        "loss ,score = model.evaluate(X_test,y_test,verbose = 0)\n",
        "print(score)"
      ],
      "execution_count": null,
      "outputs": [
        {
          "output_type": "stream",
          "text": [
            "0.6363636255264282\n"
          ],
          "name": "stdout"
        }
      ]
    }
  ]
}