{
  "nbformat": 4,
  "nbformat_minor": 0,
  "metadata": {
    "colab": {
      "name": "DLF-B1-20210508.ipynb",
      "private_outputs": true,
      "provenance": [],
      "include_colab_link": true
    },
    "kernelspec": {
      "name": "python3",
      "display_name": "Python 3"
    },
    "language_info": {
      "name": "python"
    }
  },
  "cells": [
    {
      "cell_type": "markdown",
      "metadata": {
        "id": "view-in-github",
        "colab_type": "text"
      },
      "source": [
        "<a href=\"https://colab.research.google.com/github/mnshcodie/IIScEx_2021/blob/main/DLF_B1_20210508.ipynb\" target=\"_parent\"><img src=\"https://colab.research.google.com/assets/colab-badge.svg\" alt=\"Open In Colab\"/></a>"
      ]
    },
    {
      "cell_type": "markdown",
      "metadata": {
        "id": "MUvPLInqnJDr"
      },
      "source": [
        "# Figures to words"
      ]
    },
    {
      "cell_type": "code",
      "metadata": {
        "id": "Oxd5ZCOTdLgP"
      },
      "source": [
        "# Indian system data\n",
        "in_denoms = {10000000: \"crore\", 100000: \"lakh\", 1000: \"thousand\", 100: \"hundred\", 1:\"\"}\n",
        "in_limit = 100 * 10000000"
      ],
      "execution_count": null,
      "outputs": []
    },
    {
      "cell_type": "code",
      "metadata": {
        "id": "ul6BQhOtdsUU"
      },
      "source": [
        "# Western system data\n",
        "us_denoms = {10**12 : \"trillion\", 10**9: \"billion\", 10**6: \"million\", 1000:\"thousand\", 1:\"\"}\n",
        "us_limit = 10 ** 15"
      ],
      "execution_count": null,
      "outputs": []
    },
    {
      "cell_type": "code",
      "metadata": {
        "id": "ePfQy61cfCmy"
      },
      "source": [
        "# Common data\n",
        "SPACE = \" \"\n",
        "HUN = \"hundred\"\n",
        "upto20 = [\"\", \"one\", \"two\", \"three\", \"four\", \"five\", \"six\", \"seven\", \"eight\", \"nine\", \"ten\", \"eleven\",\n",
        "              \"twelve\", \"thirteen\", \"fourteen\", \"fifteen\", \"sixteen\", \"seventeen\", \"eighteen\", \"ninteen\"]\n",
        "tens = [\"\",\"\", \"twenty\", \"thirty\", \"forty\", \"fifty\", \"sixty\", \"seventy\", \"eighty\", \"ninety\"]"
      ],
      "execution_count": null,
      "outputs": []
    },
    {
      "cell_type": "code",
      "metadata": {
        "id": "UZBueLs7ePkU"
      },
      "source": [
        "def convert2digits(a: int) -> str:\n",
        "    if a < 20:\n",
        "        return upto20[a]\n",
        "    return tens[a // 10] + SPACE + upto20[a % 10]"
      ],
      "execution_count": null,
      "outputs": []
    },
    {
      "cell_type": "code",
      "metadata": {
        "id": "6gvYPFtdfgrg"
      },
      "source": [
        "convert2digits(54)"
      ],
      "execution_count": null,
      "outputs": []
    },
    {
      "cell_type": "code",
      "metadata": {
        "id": "UxatcsH0fkTz"
      },
      "source": [
        "convert2digits(17)"
      ],
      "execution_count": null,
      "outputs": []
    },
    {
      "cell_type": "code",
      "metadata": {
        "id": "riB66VWZfrc3"
      },
      "source": [
        "def convert3digits(a: int) -> str:\n",
        "    h, tu = a // 100, a % 100\n",
        "    if h == 0:\n",
        "        return convert2digits(tu)\n",
        "    else:\n",
        "        if tu == 0:\n",
        "            glue = SPACE + HUN\n",
        "        else:\n",
        "            glue = SPACE + HUN + SPACE + \"and\" + SPACE\n",
        "        return convert2digits(h) + glue + convert2digits(tu)"
      ],
      "execution_count": null,
      "outputs": []
    },
    {
      "cell_type": "code",
      "metadata": {
        "id": "-78LyR_JgTbF"
      },
      "source": [
        "convert3digits(312)"
      ],
      "execution_count": null,
      "outputs": []
    },
    {
      "cell_type": "code",
      "metadata": {
        "id": "S656a9IFgsTr"
      },
      "source": [
        "convert3digits(79)"
      ],
      "execution_count": null,
      "outputs": []
    },
    {
      "cell_type": "code",
      "metadata": {
        "id": "aV0q2_IEg8-y"
      },
      "source": [
        "convert3digits(400)"
      ],
      "execution_count": null,
      "outputs": []
    },
    {
      "cell_type": "code",
      "metadata": {
        "id": "Ev2aAUucg_R7"
      },
      "source": [
        "def split_into_denoms(a, denoms):\n",
        "    pieces = []\n",
        "    for denom in denoms:\n",
        "        pieces.append((a // denom, denom))\n",
        "        a %= denom\n",
        "    return pieces"
      ],
      "execution_count": null,
      "outputs": []
    },
    {
      "cell_type": "code",
      "metadata": {
        "id": "GmepLyvihjik"
      },
      "source": [
        "split_into_denoms(87167834, in_denoms)"
      ],
      "execution_count": null,
      "outputs": []
    },
    {
      "cell_type": "code",
      "metadata": {
        "id": "dERu-lCThpB2"
      },
      "source": [
        "split_into_denoms(6697835674, us_denoms)"
      ],
      "execution_count": null,
      "outputs": []
    },
    {
      "cell_type": "code",
      "metadata": {
        "id": "5EbegLj3hwhU"
      },
      "source": [
        "def drop_zeros(pieces: [(int, int)]) -> [(int, int)]:\n",
        "    return [x for x in pieces if x[0] != 0]"
      ],
      "execution_count": null,
      "outputs": []
    },
    {
      "cell_type": "code",
      "metadata": {
        "id": "_LbbJXTUiLRN"
      },
      "source": [
        "drop_zeros(split_into_denoms(6697835674, us_denoms))"
      ],
      "execution_count": null,
      "outputs": []
    },
    {
      "cell_type": "code",
      "metadata": {
        "id": "6wTe_wBPiaTw"
      },
      "source": [
        "def convert_pieces(pieces, denoms) -> [str]:\n",
        "    return [convert3digits(x[0]) + SPACE + denoms[x[1]] for x in pieces]"
      ],
      "execution_count": null,
      "outputs": []
    },
    {
      "cell_type": "code",
      "metadata": {
        "id": "2Q2472tljXC6"
      },
      "source": [
        "convert_pieces(drop_zeros(split_into_denoms(6697835674, us_denoms)), us_denoms)"
      ],
      "execution_count": null,
      "outputs": []
    },
    {
      "cell_type": "code",
      "metadata": {
        "id": "ibSALyKrj0x1"
      },
      "source": [
        "convert_pieces(drop_zeros(split_into_denoms(697835674, in_denoms)), in_denoms)"
      ],
      "execution_count": null,
      "outputs": []
    },
    {
      "cell_type": "code",
      "metadata": {
        "id": "Z0m-ZB3LoV9v"
      },
      "source": [
        "def fix_and(s: str) -> str:\n",
        "    if HUN not in s:\n",
        "        return s\n",
        "    if s.endswith(HUN):\n",
        "        return s\n",
        "    return s.replace(HUN, HUN + SPACE + \"and\")"
      ],
      "execution_count": null,
      "outputs": []
    },
    {
      "cell_type": "code",
      "metadata": {
        "id": "e2EIeTKEkW12"
      },
      "source": [
        "def fig2words(a: int, method: str):\n",
        "    if method.upper().startswith(\"I\"):\n",
        "        denoms = in_denoms\n",
        "        limit = in_limit\n",
        "    else:\n",
        "        denoms = us_denoms\n",
        "        limit = us_limit\n",
        "    if a >= limit:\n",
        "        return f\"{a} is too large. Must be less than {limit}\"\n",
        "    pieces = split_into_denoms(a, denoms)\n",
        "    pieces = drop_zeros(pieces)\n",
        "    words = convert_pieces(pieces, denoms)\n",
        "    words = SPACE.join(words).capitalize()\n",
        "    if limit == in_limit:\n",
        "        return fix_and(words)\n",
        "    else:\n",
        "        return words"
      ],
      "execution_count": null,
      "outputs": []
    },
    {
      "cell_type": "code",
      "metadata": {
        "id": "G9T9Dnpclqln"
      },
      "source": [
        "fig2words(189756, \"IN\")"
      ],
      "execution_count": null,
      "outputs": []
    },
    {
      "cell_type": "code",
      "metadata": {
        "id": "0lIJDOT4pEno"
      },
      "source": [
        "fig2words(18975600, \"IN\")"
      ],
      "execution_count": null,
      "outputs": []
    },
    {
      "cell_type": "code",
      "metadata": {
        "id": "zRa8aLcrlvdo"
      },
      "source": [
        "fig2words(78654345, \"W\")"
      ],
      "execution_count": null,
      "outputs": []
    },
    {
      "cell_type": "code",
      "metadata": {
        "id": "zYFnxT9fmAt3"
      },
      "source": [
        "fig2words(1236576345, \"IN\")"
      ],
      "execution_count": null,
      "outputs": []
    },
    {
      "cell_type": "markdown",
      "metadata": {
        "id": "0TMw3IN_mIxv"
      },
      "source": [
        "# Odometer"
      ]
    },
    {
      "cell_type": "code",
      "metadata": {
        "id": "eAMIl4jknGVa"
      },
      "source": [
        "def is_ascending(n: int) -> bool:\n",
        "    if n < 10:\n",
        "        return True\n",
        "    if (n // 10) % 10 >= n % 10:\n",
        "        return False\n",
        "    return is_ascending(n // 10)"
      ],
      "execution_count": null,
      "outputs": []
    },
    {
      "cell_type": "code",
      "metadata": {
        "id": "0c_FIAqXpeOx"
      },
      "source": [
        "is_ascending(1234)"
      ],
      "execution_count": null,
      "outputs": []
    },
    {
      "cell_type": "code",
      "metadata": {
        "id": "T0cOMwXLpoqO"
      },
      "source": [
        "is_ascending(1233)"
      ],
      "execution_count": null,
      "outputs": []
    },
    {
      "cell_type": "code",
      "metadata": {
        "id": "6mbk3rg-iji8"
      },
      "source": [
        ""
      ],
      "execution_count": null,
      "outputs": []
    },
    {
      "cell_type": "code",
      "metadata": {
        "id": "KhWCJBhPp2VZ"
      },
      "source": [
        "DIGITS = \"123456789\"\n",
        "def limits(a: int) -> (int, int):\n",
        "    size = len(str(a))\n",
        "    return int(DIGITS[:size]), int(DIGITS[-size:])"
      ],
      "execution_count": null,
      "outputs": []
    },
    {
      "cell_type": "code",
      "metadata": {
        "id": "tlkLTbFnqa3H"
      },
      "source": [
        "limits(234)"
      ],
      "execution_count": null,
      "outputs": []
    },
    {
      "cell_type": "code",
      "metadata": {
        "id": "u0sJFp-_qvwh"
      },
      "source": [
        "limits(4444)"
      ],
      "execution_count": null,
      "outputs": []
    },
    {
      "cell_type": "code",
      "metadata": {
        "id": "OYCtqcORqyTU"
      },
      "source": [
        "def next_reading(r: int) -> int:\n",
        "    lo, hi = limits(r)\n",
        "    if r == hi:\n",
        "        return lo\n",
        "    r += 1\n",
        "    while not (is_ascending(r)):\n",
        "        r += 1\n",
        "    return r"
      ],
      "execution_count": null,
      "outputs": []
    },
    {
      "cell_type": "code",
      "metadata": {
        "id": "JaLqzrS-rW9F"
      },
      "source": [
        "next_reading(239)"
      ],
      "execution_count": null,
      "outputs": []
    },
    {
      "cell_type": "code",
      "metadata": {
        "id": "TODnLB0YrZ2P"
      },
      "source": [
        "next_reading(next_reading(next_reading(679)))"
      ],
      "execution_count": null,
      "outputs": []
    },
    {
      "cell_type": "code",
      "metadata": {
        "id": "cOhI3fpJr5M3"
      },
      "source": [
        "def prev_reading(r: int) -> int:\n",
        "    lo, hi = limits(r)\n",
        "    if r == lo:\n",
        "        return hi\n",
        "    r -= 1\n",
        "    while not (is_ascending(r)):\n",
        "        r -= 1\n",
        "    return r"
      ],
      "execution_count": null,
      "outputs": []
    },
    {
      "cell_type": "code",
      "metadata": {
        "id": "oPQ5az25sa6E"
      },
      "source": [
        "def next_by(r: int, step:int) -> int:\n",
        "    for _ in range(step):\n",
        "        r = next_reading(r)\n",
        "    return r"
      ],
      "execution_count": null,
      "outputs": []
    },
    {
      "cell_type": "code",
      "metadata": {
        "id": "0dnMVV5csyLn"
      },
      "source": [
        "next_by(679, 4)"
      ],
      "execution_count": null,
      "outputs": []
    },
    {
      "cell_type": "code",
      "metadata": {
        "id": "ONqM1PY_s2Ux"
      },
      "source": [
        "def prev_by(r: int, step:int) -> int:\n",
        "    for _ in range(step):\n",
        "        r = prev_reading(r)\n",
        "    return r"
      ],
      "execution_count": null,
      "outputs": []
    },
    {
      "cell_type": "code",
      "metadata": {
        "id": "ImKeJOycvYhw"
      },
      "source": [
        "def diff(r1: int, r2: int):\n",
        "    turns = 0\n",
        "    while r1 != r2:\n",
        "        turns += 1\n",
        "        r1 = next_reading(r1)\n",
        "    return turns"
      ],
      "execution_count": null,
      "outputs": []
    },
    {
      "cell_type": "markdown",
      "metadata": {
        "id": "I1fjfUEEvr7K"
      },
      "source": [
        "# OO Odometer"
      ]
    },
    {
      "cell_type": "code",
      "metadata": {
        "id": "w5yUZEeiv3tx"
      },
      "source": [
        "class Odometer:\n",
        "    DIGITS = \"123456789\"\n",
        "    def __init__(self, size):\n",
        "        self.SIZE = size\n",
        "        self.LO = int(Odometer.DIGITS[:size])\n",
        "        self.HI = int(Odometer.DIGITS[-size:])\n",
        "        self.reading = self.LO\n",
        "    \n",
        "    def __str__(self):\n",
        "        return str(self.reading)\n",
        "    \n",
        "    def __repr__(self):\n",
        "        return f\"{self.LO} <{self.reading}> {self.HI}\"\n",
        "    \n",
        "    def is_valid(self):\n",
        "        sr = str(self.reading)\n",
        "        return all([a < b for a, b in zip(sr, sr[1:])])\n",
        "    \n",
        "    def forward(self, by = 1):\n",
        "        for _ in range(by):\n",
        "            if self.reading == self.HI:\n",
        "                self.reading = self.LO\n",
        "            else:\n",
        "                self.reading += 1\n",
        "                while not self.is_valid():\n",
        "                    self.reading += 1\n",
        "\n",
        "    def backward(self, by = 1):\n",
        "        for _ in range(by):\n",
        "            if self.reading == self.LO:\n",
        "                self.reading = self.HI\n",
        "            else:\n",
        "                self.reading -= 1\n",
        "                while not self.is_valid():\n",
        "                    self.reading -= 1\n",
        "    \n",
        "    def diff(self, other):\n",
        "        this = Odometer(self.SIZE)\n",
        "        this.reading = self.reading\n",
        "        turns = 0\n",
        "        while this.reading != other.reading:\n",
        "            this.forward()\n",
        "            turns += 1\n",
        "        return turns\n",
        "        "
      ],
      "execution_count": null,
      "outputs": []
    },
    {
      "cell_type": "code",
      "metadata": {
        "id": "LFwxUQEcxnQl"
      },
      "source": [
        "o = Odometer(4)"
      ],
      "execution_count": null,
      "outputs": []
    },
    {
      "cell_type": "code",
      "metadata": {
        "id": "t7TsbN-Px1-0"
      },
      "source": [
        "o.forward(5)"
      ],
      "execution_count": null,
      "outputs": []
    },
    {
      "cell_type": "code",
      "metadata": {
        "id": "eXbr7tLVx4XY"
      },
      "source": [
        "print(o)"
      ],
      "execution_count": null,
      "outputs": []
    },
    {
      "cell_type": "code",
      "metadata": {
        "id": "yUSx-gVVx5qP"
      },
      "source": [
        "o"
      ],
      "execution_count": null,
      "outputs": []
    },
    {
      "cell_type": "code",
      "metadata": {
        "id": "KNVdWxL2yTjJ"
      },
      "source": [
        "p = Odometer(4)"
      ],
      "execution_count": null,
      "outputs": []
    },
    {
      "cell_type": "code",
      "metadata": {
        "id": "50-3eLqci4Ws"
      },
      "source": [
        "p.backward(7)"
      ],
      "execution_count": null,
      "outputs": []
    },
    {
      "cell_type": "code",
      "metadata": {
        "id": "wDSfUIaki66s"
      },
      "source": [
        "p"
      ],
      "execution_count": null,
      "outputs": []
    },
    {
      "cell_type": "code",
      "metadata": {
        "id": "xRSNAbV1i7iU"
      },
      "source": [
        "o"
      ],
      "execution_count": null,
      "outputs": []
    },
    {
      "cell_type": "markdown",
      "metadata": {
        "id": "kb7nbQlni-c5"
      },
      "source": [
        "# OO Odometer 2"
      ]
    },
    {
      "cell_type": "code",
      "metadata": {
        "id": "Ijs2lvMpsYhQ"
      },
      "source": [
        "twos = filter(is_ascending, range(11, 100))"
      ],
      "execution_count": null,
      "outputs": []
    },
    {
      "cell_type": "code",
      "metadata": {
        "id": "XiwK47LWthKk"
      },
      "source": [
        "len(list(twos))"
      ],
      "execution_count": null,
      "outputs": []
    },
    {
      "cell_type": "code",
      "metadata": {
        "id": "A3Q6DCEftvfm"
      },
      "source": [
        "threes = filter(is_ascending, range(100, 1000))"
      ],
      "execution_count": null,
      "outputs": []
    },
    {
      "cell_type": "code",
      "metadata": {
        "id": "cO2JdZ_Yt7jq"
      },
      "source": [
        "len(list(threes))"
      ],
      "execution_count": null,
      "outputs": []
    },
    {
      "cell_type": "code",
      "metadata": {
        "id": "1CjgOkwft9Ua"
      },
      "source": [
        "import itertools\n",
        "ncr = itertools.combinations"
      ],
      "execution_count": null,
      "outputs": []
    },
    {
      "cell_type": "code",
      "metadata": {
        "id": "nvG-WJLduLx5"
      },
      "source": [
        "[[''.join(x) for x in ncr(\"123456789\", i)] for i in range(2, 9)][4]"
      ],
      "execution_count": null,
      "outputs": []
    },
    {
      "cell_type": "code",
      "metadata": {
        "id": "1wBOHMGwuNwc"
      },
      "source": [
        "class Odometer2:\n",
        "    raw_data = [[int(''.join(x)) for x in ncr(\"123456789\", i)] for i in range(2, 9)]\n",
        "\n",
        "    def __init__(self, size):\n",
        "        self.readings = Odometer2.raw_data[size - 2]\n",
        "        self.pos = 0\n",
        "        self.SIZE = size\n",
        "        self.reading_count = len(self.readings)\n",
        "    \n",
        "    def forward(self, by = 1):\n",
        "        self.pos = (self.pos + by) % self.reading_count\n",
        "    \n",
        "    def backward(self, by = 1):\n",
        "        self.pos = (self.pos - by ) % self.reading_count\n",
        "\n",
        "    def diff(self, other):\n",
        "        return other.pos - self.pos  \n",
        "    \n",
        "    def __repr__(self):\n",
        "        return f'{self.readings[self.pos]} @ {self.pos}/{self.reading_count}'\n",
        "    \n",
        "    def __str__(self):\n",
        "        return str(self.readings[self.pos])\n"
      ],
      "execution_count": null,
      "outputs": []
    },
    {
      "cell_type": "code",
      "metadata": {
        "id": "HQ9M5AfwxRIo"
      },
      "source": [
        "a = Odometer2(5)"
      ],
      "execution_count": null,
      "outputs": []
    },
    {
      "cell_type": "code",
      "metadata": {
        "id": "Xeg9iZr90MWC"
      },
      "source": [
        "a.forward(7)"
      ],
      "execution_count": null,
      "outputs": []
    },
    {
      "cell_type": "code",
      "metadata": {
        "id": "B5sdwJUL0N6w"
      },
      "source": [
        "a"
      ],
      "execution_count": null,
      "outputs": []
    },
    {
      "cell_type": "code",
      "metadata": {
        "id": "9RYMte5u0O0U"
      },
      "source": [
        "print(a)"
      ],
      "execution_count": null,
      "outputs": []
    },
    {
      "cell_type": "code",
      "metadata": {
        "id": "ryVoaDiJ0cdU"
      },
      "source": [
        "print(7 + 8)"
      ],
      "execution_count": null,
      "outputs": []
    },
    {
      "cell_type": "code",
      "metadata": {
        "id": "LrGN2SO40t6l"
      },
      "source": [
        ""
      ],
      "execution_count": null,
      "outputs": []
    }
  ]
}