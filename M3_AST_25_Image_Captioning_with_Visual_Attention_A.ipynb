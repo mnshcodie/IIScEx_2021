{
  "nbformat": 4,
  "nbformat_minor": 0,
  "metadata": {
    "accelerator": "GPU",
    "colab": {
      "name": "M3_AST_25_Image_Captioning_with_Visual_Attention_A.ipynb",
      "provenance": [],
      "collapsed_sections": [],
      "include_colab_link": true
    },
    "kernelspec": {
      "display_name": "Python 3",
      "name": "python3"
    }
  },
  "cells": [
    {
      "cell_type": "markdown",
      "metadata": {
        "id": "view-in-github",
        "colab_type": "text"
      },
      "source": [
        "<a href=\"https://colab.research.google.com/github/mnshcodie/IIScEx_2021/blob/main/M3_AST_25_Image_Captioning_with_Visual_Attention_A.ipynb\" target=\"_parent\"><img src=\"https://colab.research.google.com/assets/colab-badge.svg\" alt=\"Open In Colab\"/></a>"
      ]
    },
    {
      "cell_type": "markdown",
      "metadata": {
        "id": "hNgLag1Euy3H"
      },
      "source": [
        "# Advanced Programme in Deep Learning (Foundations and Applications)\n",
        "## A Program by IISc and TalentSprint\n",
        "### Assignment 25 : Image Captioning with Visual Attention"
      ]
    },
    {
      "cell_type": "markdown",
      "metadata": {
        "id": "-tdtrlAhvIHY"
      },
      "source": [
        "## Learning Objectives\n",
        "\n",
        "   \n",
        "  At the end of the experiment, you will be able to :\n",
        "    \n",
        "  * use attention model to  describe an image with one or more natural language sentences\n",
        "  * integrates computer vision and natural language processing\n",
        "  * train a model capable of capturing and expressing their relationships in a natural language\n"
      ]
    },
    {
      "cell_type": "code",
      "metadata": {
        "id": "ihnAHONWeYF7"
      },
      "source": [
        "#@title Please enter your registration id to start: { run: \"auto\", display-mode: \"form\" }\n",
        "Id = \"\" #@param {type:\"string\"}"
      ],
      "execution_count": null,
      "outputs": []
    },
    {
      "cell_type": "code",
      "metadata": {
        "id": "ZD9XVrIteYF9"
      },
      "source": [
        "#@title Please enter your password (normally your phone number) to continue: { run: \"auto\", display-mode: \"form\" }\n",
        "password = \"\" #@param {type:\"string\"}"
      ],
      "execution_count": null,
      "outputs": []
    },
    {
      "cell_type": "code",
      "metadata": {
        "id": "gu2-lBGRLKAV",
        "cellView": "form"
      },
      "source": [
        "#@title Run this cell to complete the setup for this Notebook\n",
        "from IPython import get_ipython\n",
        "import warnings\n",
        "warnings.filterwarnings(\"ignore\")\n",
        "\n",
        "ipython = get_ipython()\n",
        "  \n",
        "notebook= \"M3_AST_25_Image_Captioning_with_Visual_Attention_A\" #name of the notebook\n",
        "\n",
        "def setup():\n",
        "    from IPython.display import HTML, display\n",
        "    display(HTML('<script src=\"https://dashboard.talentsprint.com/aiml/record_ip.html?traineeId={0}&recordId={1}\"></script>'.format(getId(),submission_id)))\n",
        "    print(\"Setup completed successfully\")\n",
        "    return\n",
        "\n",
        "def submit_notebook():\n",
        "    ipython.magic(\"notebook -e \"+ notebook + \".ipynb\")\n",
        "    \n",
        "    import requests, json, base64, datetime\n",
        "\n",
        "    url = \"https://dashboard.talentsprint.com/xp/app/save_notebook_attempts\"\n",
        "    if not submission_id:\n",
        "      data = {\"id\" : getId(), \"notebook\" : notebook, \"mobile\" : getPassword()}\n",
        "      r = requests.post(url, data = data)\n",
        "      r = json.loads(r.text)\n",
        "\n",
        "      if r[\"status\"] == \"Success\":\n",
        "          return r[\"record_id\"]\n",
        "      elif \"err\" in r:        \n",
        "        print(r[\"err\"])\n",
        "        return None        \n",
        "      else:\n",
        "        print (\"Something is wrong, the notebook will not be submitted for grading\")\n",
        "        return None\n",
        "    \n",
        "    elif getAnswer1() and getAnswer2() and getComplexity() and getAdditional() and getConcepts() and getComments() and getMentorSupport():\n",
        "      f = open(notebook + \".ipynb\", \"rb\")\n",
        "      file_hash = base64.b64encode(f.read())\n",
        "\n",
        "      data = {\"complexity\" : Complexity, \"additional\" :Additional, \n",
        "              \"concepts\" : Concepts, \"record_id\" : submission_id, \n",
        "              \"answer1\" : Answer1, \"answer2\" : Answer2, \"id\" : Id, \"file_hash\" : file_hash,\n",
        "              \"notebook\" : notebook,\n",
        "              \"feedback_experiments_input\" : Comments,\n",
        "              \"feedback_mentor_support\": Mentor_support}\n",
        "      r = requests.post(url, data = data)\n",
        "      r = json.loads(r.text)\n",
        "      if \"err\" in r:        \n",
        "        print(r[\"err\"])\n",
        "        return None   \n",
        "      else:\n",
        "        print(\"Your submission is successful.\")\n",
        "        print(\"Ref Id:\", submission_id)\n",
        "        print(\"Date of submission: \", r[\"date\"])\n",
        "        print(\"Time of submission: \", r[\"time\"])\n",
        "        print(\"View your submissions: https://dlfa.iisc.talentsprint.com/notebook_submissions\")\n",
        "        #print(\"For any queries/discrepancies, please connect with mentors through the chat icon in LMS dashboard.\")\n",
        "        return submission_id\n",
        "    else: submission_id\n",
        "    \n",
        "\n",
        "def getAdditional():\n",
        "  try:\n",
        "    if not Additional: \n",
        "      raise NameError\n",
        "    else:\n",
        "      return Additional  \n",
        "  except NameError:\n",
        "    print (\"Please answer Additional Question\")\n",
        "    return None\n",
        "\n",
        "def getComplexity():\n",
        "  try:\n",
        "    if not Complexity:\n",
        "      raise NameError\n",
        "    else:\n",
        "      return Complexity\n",
        "  except NameError:\n",
        "    print (\"Please answer Complexity Question\")\n",
        "    return None\n",
        "  \n",
        "def getConcepts():\n",
        "  try:\n",
        "    if not Concepts:\n",
        "      raise NameError\n",
        "    else:\n",
        "      return Concepts\n",
        "  except NameError:\n",
        "    print (\"Please answer Concepts Question\")\n",
        "    return None\n",
        "  \n",
        "  \n",
        "# def getWalkthrough():\n",
        "#   try:\n",
        "#     if not Walkthrough:\n",
        "#       raise NameError\n",
        "#     else:\n",
        "#       return Walkthrough\n",
        "#   except NameError:\n",
        "#     print (\"Please answer Walkthrough Question\")\n",
        "#     return None\n",
        "  \n",
        "def getComments():\n",
        "  try:\n",
        "    if not Comments:\n",
        "      raise NameError\n",
        "    else:\n",
        "      return Comments\n",
        "  except NameError:\n",
        "    print (\"Please answer Comments Question\")\n",
        "    return None\n",
        "  \n",
        "\n",
        "def getMentorSupport():\n",
        "  try:\n",
        "    if not Mentor_support:\n",
        "      raise NameError\n",
        "    else:\n",
        "      return Mentor_support\n",
        "  except NameError:\n",
        "    print (\"Please answer Mentor support Question\")\n",
        "    return None\n",
        "\n",
        "def getAnswer1():\n",
        "  try:\n",
        "    if not Answer1:\n",
        "      raise NameError \n",
        "    else: \n",
        "      return Answer1\n",
        "  except NameError:\n",
        "    print (\"Please answer Question 1\")\n",
        "    return None\n",
        "\n",
        "def getAnswer2():\n",
        "  try:\n",
        "    if not Answer2:\n",
        "      raise NameError \n",
        "    else: \n",
        "      return Answer2\n",
        "  except NameError:\n",
        "    print (\"Please answer Question 2\")\n",
        "    return None\n",
        "  \n",
        "\n",
        "def getId():\n",
        "  try: \n",
        "    return Id if Id else None\n",
        "  except NameError:\n",
        "    return None\n",
        "\n",
        "def getPassword():\n",
        "  try:\n",
        "    return password if password else None\n",
        "  except NameError:\n",
        "    return None\n",
        "\n",
        "submission_id = None\n",
        "### Setup \n",
        "if getPassword() and getId():\n",
        "  submission_id = submit_notebook()\n",
        "  if submission_id:\n",
        "    setup() \n",
        "else:\n",
        "  print (\"Please complete Id and Password cells before running setup\")\n",
        "\n"
      ],
      "execution_count": null,
      "outputs": []
    },
    {
      "cell_type": "markdown",
      "metadata": {
        "id": "K2s1A9eLRPEj"
      },
      "source": [
        "##### Copyright 2018 The TensorFlow Authors.\n"
      ]
    },
    {
      "cell_type": "code",
      "metadata": {
        "id": "VRLVEKiTEn04",
        "cellView": "form"
      },
      "source": [
        "#@title Licensed under the Apache License, Version 2.0 (the \"License\");\n",
        "# you may not use this file except in compliance with the License.\n",
        "# You may obtain a copy of the License at\n",
        "#\n",
        "# https://www.apache.org/licenses/LICENSE-2.0\n",
        "#\n",
        "# Unless required by applicable law or agreed to in writing, software\n",
        "# distributed under the License is distributed on an \"AS IS\" BASIS,\n",
        "# WITHOUT WARRANTIES OR CONDITIONS OF ANY KIND, either express or implied.\n",
        "# See the License for the specific language governing permissions and\n",
        "# limitations under the License."
      ],
      "execution_count": null,
      "outputs": []
    },
    {
      "cell_type": "markdown",
      "metadata": {
        "id": "Cffg2i257iMS"
      },
      "source": [
        "# Image captioning with visual attention\n",
        "\n",
        "<table class=\"tfo-notebook-buttons\" align=\"left\">\n",
        "  <td>\n",
        "    <a target=\"_blank\" href=\"https://www.tensorflow.org/tutorials/text/image_captioning\">\n",
        "    <img src=\"https://www.tensorflow.org/images/tf_logo_32px.png\" />\n",
        "    View on TensorFlow.org</a>\n",
        "  </td>\n",
        "  <td>\n",
        "    <a target=\"_blank\" href=\"https://colab.research.google.com/github/tensorflow/docs/blob/master/site/en/tutorials/text/image_captioning.ipynb\">\n",
        "    <img src=\"https://www.tensorflow.org/images/colab_logo_32px.png\" />\n",
        "    Run in Google Colab</a>\n",
        "  </td>\n",
        "  <td>\n",
        "    <a target=\"_blank\" href=\"https://github.com/tensorflow/docs/blob/master/site/en/tutorials/text/image_captioning.ipynb\">\n",
        "    <img src=\"https://www.tensorflow.org/images/GitHub-Mark-32px.png\" />\n",
        "    View source on GitHub</a>\n",
        "  </td>\n",
        "  <td>\n",
        "    <a href=\"https://storage.googleapis.com/tensorflow_docs/docs/site/en/tutorials/text/image_captioning.ipynb\"><img src=\"https://www.tensorflow.org/images/download_logo_32px.png\" />Download notebook</a>\n",
        "  </td>\n",
        "</table>"
      ]
    },
    {
      "cell_type": "markdown",
      "metadata": {
        "id": "QASbY_HGo4Lq"
      },
      "source": [
        "Given an image like the example below, your goal is to generate a caption such as \"a surfer riding on a wave\".\n",
        "\n",
        "![Man Surfing](https://tensorflow.org/images/surf.jpg)\n",
        "\n",
        "*[Image Source](https://commons.wikimedia.org/wiki/Surfing#/media/File:Surfing_in_Hawaii.jpg); License: Public Domain*\n",
        "\n",
        "To accomplish this, you'll use an attention-based model, which enables us to see what parts of the image the model focuses on as it generates a caption.\n",
        "\n",
        "![Prediction](https://tensorflow.org/images/imcap_prediction.png)\n",
        "\n",
        "The model architecture is similar to [Show, Attend and Tell: Neural Image Caption Generation with Visual Attention](https://arxiv.org/abs/1502.03044).\n",
        "\n",
        "This notebook is an end-to-end example. When you run the notebook, it downloads the [MS-COCO](http://cocodataset.org/#home) dataset, preprocesses and caches a subset of images using Inception V3, trains an encoder-decoder model, and generates captions on new images using the trained model.\n",
        "\n",
        "In this example, you will train a model on a relatively small amount of data—the first 30,000 captions  for about 20,000 images (because there are multiple captions per image in the dataset)."
      ]
    },
    {
      "cell_type": "code",
      "metadata": {
        "id": "U8l4RJ0XRPEm"
      },
      "source": [
        "import tensorflow as tf\n",
        "\n",
        "# You'll generate plots of attention in order to see which parts of an image\n",
        "# your model focuses on during captioning\n",
        "import matplotlib.pyplot as plt\n",
        "\n",
        "import collections\n",
        "import random\n",
        "import numpy as np\n",
        "import os\n",
        "import time\n",
        "import json\n",
        "from PIL import Image"
      ],
      "execution_count": null,
      "outputs": []
    },
    {
      "cell_type": "markdown",
      "metadata": {
        "id": "b6qbGw8MRPE5"
      },
      "source": [
        "## Download and prepare the MS-COCO dataset\n",
        "\n",
        "You will use the [MS-COCO dataset](http://cocodataset.org/#home) to train your model. The dataset contains over 82,000 images, each of which has at least 5 different caption annotations. The code below downloads and extracts the dataset automatically.\n",
        "\n",
        "**Caution: large download ahead**. You'll use the training set, which is a 13GB file."
      ]
    },
    {
      "cell_type": "code",
      "metadata": {
        "id": "lMbmjN9LPZ0q"
      },
      "source": [
        "os.path.dirname(annotation_zip)"
      ],
      "execution_count": null,
      "outputs": []
    },
    {
      "cell_type": "code",
      "metadata": {
        "id": "krQuPYTtRPE7"
      },
      "source": [
        "# Download caption annotation files\n",
        "annotation_folder = '/annotations/'\n",
        "if not os.path.exists(os.path.abspath('.') + annotation_folder):\n",
        "  annotation_zip = tf.keras.utils.get_file('captions.zip',\n",
        "                                           cache_subdir=os.path.abspath('.'),\n",
        "                                           origin='http://images.cocodataset.org/annotations/annotations_trainval2014.zip',\n",
        "                                           extract=True)\n",
        "  annotation_file = os.path.dirname(annotation_zip)+'/annotations/captions_train2014.json'\n",
        "  os.remove(annotation_zip)\n",
        "\n",
        "# Download image files\n",
        "image_folder = '/train2014/'\n",
        "if not os.path.exists(os.path.abspath('.') + image_folder):\n",
        "  image_zip = tf.keras.utils.get_file('train2014.zip',\n",
        "                                      cache_subdir=os.path.abspath('.'),\n",
        "                                      origin='http://images.cocodataset.org/zips/train2014.zip',\n",
        "                                      extract=True)\n",
        "  PATH = os.path.dirname(image_zip) + image_folder\n",
        "  os.remove(image_zip)\n",
        "else:\n",
        "  PATH = os.path.abspath('.') + image_folder"
      ],
      "execution_count": null,
      "outputs": []
    },
    {
      "cell_type": "markdown",
      "metadata": {
        "id": "aANEzb5WwSzg"
      },
      "source": [
        "## Optional: limit the size of the training set \n",
        "To speed up training for this tutorial, you'll use a subset of 30,000 captions and their corresponding images to train your model. Choosing to use more data would result in improved captioning quality."
      ]
    },
    {
      "cell_type": "code",
      "metadata": {
        "id": "m8iBJCyVB2ud"
      },
      "source": [
        "with open(annotation_file, 'r') as f:\n",
        "    annotations = json.load(f)"
      ],
      "execution_count": null,
      "outputs": []
    },
    {
      "cell_type": "code",
      "metadata": {
        "id": "miER7EHMB3Ge"
      },
      "source": [
        "# Group all captions together having the same image ID.\n",
        "image_path_to_caption = collections.defaultdict(list)\n",
        "for val in annotations['annotations']:\n",
        "  caption = f\"<start> {val['caption']} <end>\"\n",
        "  image_path = PATH + 'COCO_train2014_' + '%012d.jpg' % (val['image_id'])\n",
        "  image_path_to_caption[image_path].append(caption)"
      ],
      "execution_count": null,
      "outputs": []
    },
    {
      "cell_type": "code",
      "metadata": {
        "id": "7vvqkqYGMhvm"
      },
      "source": [
        "image_paths = list(image_path_to_caption.keys())\n",
        "random.shuffle(image_paths)\n",
        "\n",
        "# Select the first 6000 image_paths from the shuffled set.\n",
        "# Approximately each image id has 5 captions associated with it, so that will\n",
        "# lead to 30,000 examples.\n",
        "train_image_paths = image_paths[:6000]\n",
        "print(len(train_image_paths))"
      ],
      "execution_count": null,
      "outputs": []
    },
    {
      "cell_type": "code",
      "metadata": {
        "id": "hrmdtMX8Lnyh"
      },
      "source": [
        "train_captions = []\n",
        "img_name_vector = []\n",
        "\n",
        "for image_path in train_image_paths:\n",
        "  caption_list = image_path_to_caption[image_path]\n",
        "  train_captions.extend(caption_list)\n",
        "  img_name_vector.extend([image_path] * len(caption_list))"
      ],
      "execution_count": null,
      "outputs": []
    },
    {
      "cell_type": "code",
      "metadata": {
        "id": "RhCND0bCUP11"
      },
      "source": [
        "print(train_captions[1])\n",
        "Image.open(img_name_vector[0])"
      ],
      "execution_count": null,
      "outputs": []
    },
    {
      "cell_type": "markdown",
      "metadata": {
        "id": "8cSW4u-ORPFQ"
      },
      "source": [
        "## Preprocess the images using InceptionV3\n",
        "Next, you will use InceptionV3 (which is pretrained on Imagenet) to classify each image. You will extract features from the last convolutional layer.\n",
        "\n",
        "First, you will convert the images into InceptionV3's expected format by:\n",
        "* Resizing the image to 299px by 299px\n",
        "* [Preprocess the images](https://cloud.google.com/tpu/docs/inception-v3-advanced#preprocessing_stage) using the [preprocess_input](https://www.tensorflow.org/api_docs/python/tf/keras/applications/inception_v3/preprocess_input) method to normalize the image so that it contains pixels in the range of -1 to 1, which matches the format of the images used to train InceptionV3."
      ]
    },
    {
      "cell_type": "code",
      "metadata": {
        "id": "zXR0217aRPFR"
      },
      "source": [
        "def load_image(image_path):\n",
        "    img = tf.io.read_file(image_path)\n",
        "    img = tf.image.decode_jpeg(img, channels=3)\n",
        "    img = tf.image.resize(img, (299, 299))\n",
        "    img = tf.keras.applications.inception_v3.preprocess_input(img)\n",
        "    return img, image_path"
      ],
      "execution_count": null,
      "outputs": []
    },
    {
      "cell_type": "markdown",
      "metadata": {
        "id": "MDvIu4sXRPFV"
      },
      "source": [
        "## Initialize InceptionV3 and load the pretrained Imagenet weights\n",
        "\n",
        "Now you'll create a tf.keras model where the output layer is the last convolutional layer in the InceptionV3 architecture. The shape of the output of this layer is ```8x8x2048```. You use the last convolutional layer because you are using attention in this example. You don't perform this initialization during training because it could become a bottleneck.\n",
        "\n",
        "* You forward each image through the network and store the resulting vector in a dictionary (image_name --> feature_vector).\n",
        "* After all the images are passed through the network, you save the dictionary to disk.\n"
      ]
    },
    {
      "cell_type": "code",
      "metadata": {
        "id": "RD3vW4SsRPFW"
      },
      "source": [
        "image_model = tf.keras.applications.InceptionV3(include_top=False,\n",
        "                                                weights='imagenet')\n",
        "new_input = image_model.input\n",
        "hidden_layer = image_model.layers[-1].output\n",
        "\n",
        "image_features_extract_model = tf.keras.Model(new_input, hidden_layer)"
      ],
      "execution_count": null,
      "outputs": []
    },
    {
      "cell_type": "markdown",
      "metadata": {
        "id": "rERqlR3WRPGO"
      },
      "source": [
        "## Caching the features extracted from InceptionV3\n",
        "\n",
        "You will pre-process each image with InceptionV3 and cache the output to disk. Caching the output in RAM would be faster but also memory intensive, requiring 8 \\* 8 \\* 2048 floats per image. At the time of writing, this exceeds the memory limitations of Colab (currently 12GB of memory).\n",
        "\n",
        "Performance could be improved with a more sophisticated caching strategy (for example, by sharding the images to reduce random access disk I/O), but that would require more code.\n",
        "\n",
        "The caching will take about 10 minutes to run in Colab with a GPU. If you'd like to see a progress bar, you can: \n",
        "\n",
        "1. Install [tqdm](https://github.com/tqdm/tqdm):\n",
        "\n",
        "    `!pip install tqdm`\n",
        "\n",
        "2. Import tqdm:\n",
        "\n",
        "    `from tqdm import tqdm`\n",
        "\n",
        "3. Change the following line:\n",
        "\n",
        "    `for img, path in image_dataset:`\n",
        "\n",
        "    to:\n",
        "\n",
        "    `for img, path in tqdm(image_dataset):`\n"
      ]
    },
    {
      "cell_type": "code",
      "metadata": {
        "id": "Dx_fvbVgRPGQ"
      },
      "source": [
        "# Get unique images\n",
        "encode_train = sorted(set(img_name_vector))\n",
        "\n",
        "# Feel free to change batch_size according to your system configuration\n",
        "image_dataset = tf.data.Dataset.from_tensor_slices(encode_train)\n",
        "image_dataset = image_dataset.map(\n",
        "  load_image, num_parallel_calls=tf.data.AUTOTUNE).batch(16)\n",
        "\n",
        "for img, path in image_dataset:\n",
        "  batch_features = image_features_extract_model(img)\n",
        "  batch_features = tf.reshape(batch_features,\n",
        "                              (batch_features.shape[0], -1, batch_features.shape[3]))\n",
        "\n",
        "  for bf, p in zip(batch_features, path):\n",
        "    path_of_feature = p.numpy().decode(\"utf-8\")\n",
        "    np.save(path_of_feature, bf.numpy())"
      ],
      "execution_count": null,
      "outputs": []
    },
    {
      "cell_type": "markdown",
      "metadata": {
        "id": "nyqH3zFwRPFi"
      },
      "source": [
        "## Preprocess and tokenize the captions\n",
        "\n",
        "* First, you'll tokenize the captions (for example, by splitting on spaces). This gives us a  vocabulary of all of the unique words in the data (for example, \"surfing\", \"football\", and so on).\n",
        "* Next, you'll limit the vocabulary size to the top 5,000 words (to save memory). You'll replace all other words with the token \"UNK\" (unknown).\n",
        "* You then create word-to-index and index-to-word mappings.\n",
        "* Finally, you pad all sequences to be the same length as the longest one."
      ]
    },
    {
      "cell_type": "code",
      "metadata": {
        "id": "HZfK8RhQRPFj"
      },
      "source": [
        "# Find the maximum length of any caption in the dataset\n",
        "def calc_max_length(tensor):\n",
        "    return max(len(t) for t in tensor)"
      ],
      "execution_count": null,
      "outputs": []
    },
    {
      "cell_type": "code",
      "metadata": {
        "id": "oJGE34aiRPFo"
      },
      "source": [
        "# Choose the top 5000 words from the vocabulary\n",
        "\n",
        "#Tokenize the text and fit them to text\n",
        "#YOUR CODE HERE\n"
      ],
      "execution_count": null,
      "outputs": []
    },
    {
      "cell_type": "markdown",
      "metadata": {
        "id": "7er0iifRKOHq"
      },
      "source": [
        "#### Padding the sentences"
      ]
    },
    {
      "cell_type": "code",
      "metadata": {
        "id": "8Q44tNQVRPFt"
      },
      "source": [
        "tokenizer.word_index['<pad>'] = 0\n",
        "tokenizer.index_word[0] = '<pad>'"
      ],
      "execution_count": null,
      "outputs": []
    },
    {
      "cell_type": "code",
      "metadata": {
        "id": "0fpJb5ojRPFv"
      },
      "source": [
        "# Create the tokenized vectors\n",
        "#YOUR CODE HERE"
      ],
      "execution_count": null,
      "outputs": []
    },
    {
      "cell_type": "code",
      "metadata": {
        "id": "AidglIZVRPF4"
      },
      "source": [
        "# Pad each vector to the max_length of the captions\n",
        "# If you do not provide a max_length value, pad_sequences calculates it automatically\n",
        "\n",
        "#pad the text sequences\n",
        "#YOUR CODE HERE\n"
      ],
      "execution_count": null,
      "outputs": []
    },
    {
      "cell_type": "code",
      "metadata": {
        "id": "gL0wkttkRPGA"
      },
      "source": [
        "# Calculates the max_length, which is used to store the attention weights\n",
        "max_length = calc_max_length(train_seqs)"
      ],
      "execution_count": null,
      "outputs": []
    },
    {
      "cell_type": "markdown",
      "metadata": {
        "id": "M3CD75nDpvTI"
      },
      "source": [
        "## Split the data into training and testing"
      ]
    },
    {
      "cell_type": "code",
      "metadata": {
        "id": "iS7DDMszRPGF"
      },
      "source": [
        "img_to_cap_vector = collections.defaultdict(list)\n",
        "for img, cap in zip(img_name_vector, cap_vector):\n",
        "  img_to_cap_vector[img].append(cap)\n",
        "\n",
        "# Create training and validation sets using an 80-20 split randomly.\n",
        "img_keys = list(img_to_cap_vector.keys())\n",
        "random.shuffle(img_keys)\n",
        "\n",
        "slice_index = int(len(img_keys)*0.8)\n",
        "img_name_train_keys, img_name_val_keys = img_keys[:slice_index], img_keys[slice_index:]\n",
        "\n",
        "img_name_train = []\n",
        "cap_train = []\n",
        "for imgt in img_name_train_keys:\n",
        "  capt_len = len(img_to_cap_vector[imgt])\n",
        "  img_name_train.extend([imgt] * capt_len)\n",
        "  cap_train.extend(img_to_cap_vector[imgt])\n",
        "\n",
        "img_name_val = []\n",
        "cap_val = []\n",
        "for imgv in img_name_val_keys:\n",
        "  capv_len = len(img_to_cap_vector[imgv])\n",
        "  img_name_val.extend([imgv] * capv_len)\n",
        "  cap_val.extend(img_to_cap_vector[imgv])"
      ],
      "execution_count": null,
      "outputs": []
    },
    {
      "cell_type": "code",
      "metadata": {
        "id": "XmViPkRFRPGH"
      },
      "source": [
        "len(img_name_train), len(cap_train), len(img_name_val), len(cap_val)"
      ],
      "execution_count": null,
      "outputs": []
    },
    {
      "cell_type": "markdown",
      "metadata": {
        "id": "uEWM9xrYcg45"
      },
      "source": [
        "## Create a tf.data dataset for training\n"
      ]
    },
    {
      "cell_type": "markdown",
      "metadata": {
        "id": "horagNvhhZiy"
      },
      "source": [
        "Your images and captions are ready! Next, let's create a `tf.data` dataset to use for training your model."
      ]
    },
    {
      "cell_type": "code",
      "metadata": {
        "id": "Q3TnZ1ToRPGV"
      },
      "source": [
        "# Feel free to change these parameters according to your system's configuration\n",
        "\n",
        "BATCH_SIZE = 64\n",
        "BUFFER_SIZE = 1000\n",
        "embedding_dim = 256\n",
        "units = 512\n",
        "vocab_size = top_k + 1\n",
        "num_steps = len(img_name_train) // BATCH_SIZE\n",
        "# Shape of the vector extracted from InceptionV3 is (64, 2048)\n",
        "# These two variables represent that vector shape\n",
        "features_shape = 2048\n",
        "attention_features_shape = 64"
      ],
      "execution_count": null,
      "outputs": []
    },
    {
      "cell_type": "code",
      "metadata": {
        "id": "SmZS2N0bXG3T"
      },
      "source": [
        "# Load the numpy files\n",
        "def map_func(img_name, cap):\n",
        "  img_tensor = np.load(img_name.decode('utf-8')+'.npy')\n",
        "  return img_tensor, cap"
      ],
      "execution_count": null,
      "outputs": []
    },
    {
      "cell_type": "code",
      "metadata": {
        "id": "FDF_Nm3tRPGZ"
      },
      "source": [
        "dataset = tf.data.Dataset.from_tensor_slices((img_name_train, cap_train))\n",
        "\n",
        "# Use map to load the numpy files in parallel\n",
        "dataset = dataset.map(lambda item1, item2: tf.numpy_function(\n",
        "          map_func, [item1, item2], [tf.float32, tf.int32]),\n",
        "          num_parallel_calls=tf.data.AUTOTUNE)\n",
        "\n",
        "# Shuffle and batch\n",
        "dataset = dataset.shuffle(BUFFER_SIZE).batch(BATCH_SIZE)\n",
        "dataset = dataset.prefetch(buffer_size=tf.data.AUTOTUNE)"
      ],
      "execution_count": null,
      "outputs": []
    },
    {
      "cell_type": "markdown",
      "metadata": {
        "id": "nrvoDphgRPGd"
      },
      "source": [
        "## Model\n",
        "\n",
        "Fun fact: the decoder below is identical to the one in the example for [Neural Machine Translation with Attention](https://www.tensorflow.org/text/tutorials/nmt_with_attention).\n",
        "\n",
        "The model architecture is inspired by the [Show, Attend and Tell](https://arxiv.org/pdf/1502.03044.pdf) paper.\n",
        "\n",
        "* In this example, you extract the features from the lower convolutional layer of InceptionV3 giving us a vector of shape (8, 8, 2048).\n",
        "* You squash that to a shape of (64, 2048).\n",
        "* This vector is then passed through the CNN Encoder (which consists of a single Fully connected layer).\n",
        "* The RNN (here GRU) attends over the image to predict the next word.\n",
        "\n",
        "![The-image-captioning-network-ImageNet-weight-from-the-four-architectures-pre-trained.png](data:image/png;base64,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)"
      ]
    },
    {
      "cell_type": "code",
      "metadata": {
        "id": "ja2LFTMSdeV3"
      },
      "source": [
        "# Implementing RNN Decoder with Attention\n",
        "########### YOUR CODE HERE ###########\n",
        "# Attention Layer\n",
        "# __init__ Input: Number of hidden units\n",
        "# call input: feature embedding\n",
        "# call output: context_vector, attention_weights"
      ],
      "execution_count": null,
      "outputs": []
    },
    {
      "cell_type": "code",
      "metadata": {
        "id": "zPA-X15rQhwI"
      },
      "source": [
        "#############\n",
        "# Try changing the encoder by replacing it with an efficienet,\n",
        "# mobilenet, resnet, and VGG model as backbone for CNN Encoder.\n",
        "# Report your findings."
      ],
      "execution_count": null,
      "outputs": []
    },
    {
      "cell_type": "code",
      "metadata": {
        "id": "AZ7R1RxHRPGf"
      },
      "source": [
        "\n",
        "#create encoder to pass features to Fully connected layer\n",
        "#YOUR CODE HERE\n"
      ],
      "execution_count": null,
      "outputs": []
    },
    {
      "cell_type": "markdown",
      "metadata": {
        "id": "xJMLvMoFKZMy"
      },
      "source": [
        "### Attention Model"
      ]
    },
    {
      "cell_type": "code",
      "metadata": {
        "id": "QYxj-uNjc8sx"
      },
      "source": [
        "\n",
        "#Create attention layer return context vectors and attention weights\n",
        "#YOUR CODE HERE\n"
      ],
      "execution_count": null,
      "outputs": []
    },
    {
      "cell_type": "markdown",
      "metadata": {
        "id": "dKVJtcs3KenZ"
      },
      "source": [
        "### Decoder Module"
      ]
    },
    {
      "cell_type": "code",
      "metadata": {
        "id": "V9UbGQmERPGi"
      },
      "source": [
        "\n",
        "#Create RNN Decoder and return attention weights\n",
        "#YOUR CODE HERE\n"
      ],
      "execution_count": null,
      "outputs": []
    },
    {
      "cell_type": "code",
      "metadata": {
        "id": "Qs_Sr03wRPGk"
      },
      "source": [
        "#Instantiate Encoder and Decoder \n",
        "#YOUR CODE HERE\n"
      ],
      "execution_count": null,
      "outputs": []
    },
    {
      "cell_type": "markdown",
      "metadata": {
        "id": "1MRUA_kLKj8p"
      },
      "source": [
        "### Adam Optimizer and Loss function"
      ]
    },
    {
      "cell_type": "code",
      "metadata": {
        "id": "-bYN7xA0RPGl"
      },
      "source": [
        "optimizer = tf.keras.optimizers.Adam()\n",
        "loss_object = tf.keras.losses.SparseCategoricalCrossentropy(\n",
        "    from_logits=True, reduction='none')\n",
        "\n",
        "\n",
        "def loss_function(real, pred):\n",
        "  mask = tf.math.logical_not(tf.math.equal(real, 0))\n",
        "  loss_ = loss_object(real, pred)\n",
        "\n",
        "  mask = tf.cast(mask, dtype=loss_.dtype)\n",
        "  loss_ *= mask\n",
        "\n",
        "  return tf.reduce_mean(loss_)"
      ],
      "execution_count": null,
      "outputs": []
    },
    {
      "cell_type": "markdown",
      "metadata": {
        "id": "6A3Ni64joyab"
      },
      "source": [
        "## Checkpoint"
      ]
    },
    {
      "cell_type": "code",
      "metadata": {
        "id": "PpJAqPMWo0uE"
      },
      "source": [
        "checkpoint_path = \"./checkpoints/train\"\n",
        "ckpt = tf.train.Checkpoint(encoder=encoder,\n",
        "                           decoder=decoder,\n",
        "                           optimizer=optimizer)\n",
        "ckpt_manager = tf.train.CheckpointManager(ckpt, checkpoint_path, max_to_keep=5)"
      ],
      "execution_count": null,
      "outputs": []
    },
    {
      "cell_type": "code",
      "metadata": {
        "id": "fUkbqhc_uObw"
      },
      "source": [
        "start_epoch = 0\n",
        "if ckpt_manager.latest_checkpoint:\n",
        "  start_epoch = int(ckpt_manager.latest_checkpoint.split('-')[-1])\n",
        "  # restoring the latest checkpoint in checkpoint_path\n",
        "  ckpt.restore(ckpt_manager.latest_checkpoint)"
      ],
      "execution_count": null,
      "outputs": []
    },
    {
      "cell_type": "markdown",
      "metadata": {
        "id": "PHod7t72RPGn"
      },
      "source": [
        "## Training\n",
        "\n",
        "* You extract the features stored in the respective `.npy` files and then pass those features through the encoder.\n",
        "* The encoder output, hidden state(initialized to 0) and the decoder input (which is the start token) is passed to the decoder.\n",
        "* The decoder returns the predictions and the decoder hidden state.\n",
        "* The decoder hidden state is then passed back into the model and the predictions are used to calculate the loss.\n",
        "* Use teacher forcing to decide the next input to the decoder.\n",
        "* Teacher forcing is the technique where the target word is passed as the next input to the decoder.\n",
        "* The final step is to calculate the gradients and apply it to the optimizer and backpropagate.\n"
      ]
    },
    {
      "cell_type": "code",
      "metadata": {
        "id": "Vt4WZ5mhJE-E"
      },
      "source": [
        "# adding this in a separate cell because if you run the training cell\n",
        "# many times, the loss_plot array will be reset\n",
        "loss_plot = []"
      ],
      "execution_count": null,
      "outputs": []
    },
    {
      "cell_type": "code",
      "metadata": {
        "id": "sqgyz2ANKlpU"
      },
      "source": [
        "@tf.function\n",
        "def train_step(img_tensor, target):\n",
        "  loss = 0\n",
        "\n",
        "  # initializing the hidden state for each batch\n",
        "  # because the captions are not related from image to image\n",
        "  hidden = decoder.reset_state(batch_size=target.shape[0])\n",
        "\n",
        "  dec_input = tf.expand_dims([tokenizer.word_index['<start>']] * target.shape[0], 1)\n",
        "\n",
        "  with tf.GradientTape() as tape:\n",
        "      features = encoder(img_tensor)\n",
        "\n",
        "      for i in range(1, target.shape[1]):\n",
        "          # passing the features through the decoder\n",
        "          predictions, hidden, _ = decoder(dec_input, features, hidden)\n",
        "\n",
        "          loss += loss_function(target[:, i], predictions)\n",
        "\n",
        "          # using teacher forcing\n",
        "          dec_input = tf.expand_dims(target[:, i], 1)\n",
        "\n",
        "  total_loss = (loss / int(target.shape[1]))\n",
        "\n",
        "  trainable_variables = encoder.trainable_variables + decoder.trainable_variables\n",
        "\n",
        "  gradients = tape.gradient(loss, trainable_variables)\n",
        "\n",
        "  optimizer.apply_gradients(zip(gradients, trainable_variables))\n",
        "\n",
        "  return loss, total_loss"
      ],
      "execution_count": null,
      "outputs": []
    },
    {
      "cell_type": "code",
      "metadata": {
        "id": "UlA4VIQpRPGo"
      },
      "source": [
        "EPOCHS = 1\n",
        "\n",
        "for epoch in range(start_epoch, EPOCHS):\n",
        "    start = time.time()\n",
        "    total_loss = 0\n",
        "\n",
        "    for (batch, (img_tensor, target)) in enumerate(dataset):\n",
        "        batch_loss, t_loss = train_step(img_tensor, target)\n",
        "        total_loss += t_loss\n",
        "\n",
        "        if batch % 100 == 0:\n",
        "            average_batch_loss = batch_loss.numpy()/int(target.shape[1])\n",
        "            print(f'Epoch {epoch+1} Batch {batch} Loss {average_batch_loss:.4f}')\n",
        "    # storing the epoch end loss value to plot later\n",
        "    loss_plot.append(total_loss / num_steps)\n",
        "\n",
        "    if epoch % 5 == 0:\n",
        "      ckpt_manager.save()\n",
        "\n",
        "    print(f'Epoch {epoch+1} Loss {total_loss/num_steps:.6f}')\n",
        "    print(f'Time taken for 1 epoch {time.time()-start:.2f} sec\\n')"
      ],
      "execution_count": null,
      "outputs": []
    },
    {
      "cell_type": "markdown",
      "metadata": {
        "id": "GcImxiRpKwoa"
      },
      "source": [
        "### Plotting the training losses"
      ]
    },
    {
      "cell_type": "code",
      "metadata": {
        "id": "1Wm83G-ZBPcC"
      },
      "source": [
        "#Plot the training losses\n",
        "#YOUR CODE HERE"
      ],
      "execution_count": null,
      "outputs": []
    },
    {
      "cell_type": "markdown",
      "metadata": {
        "id": "xGvOcLQKghXN"
      },
      "source": [
        "## Caption!\n",
        "\n",
        "* The evaluate function is similar to the training loop, except you don't use teacher forcing here. The input to the decoder at each time step is its previous predictions along with the hidden state and the encoder output.\n",
        "* Stop predicting when the model predicts the end token.\n",
        "* And store the attention weights for every time step."
      ]
    },
    {
      "cell_type": "code",
      "metadata": {
        "id": "RCWpDtyNRPGs"
      },
      "source": [
        "def evaluate(image):\n",
        "    attention_plot = np.zeros((max_length, attention_features_shape))\n",
        "\n",
        "    hidden = decoder.reset_state(batch_size=1)\n",
        "\n",
        "    temp_input = tf.expand_dims(load_image(image)[0], 0)\n",
        "    img_tensor_val = image_features_extract_model(temp_input)\n",
        "    img_tensor_val = tf.reshape(img_tensor_val, (img_tensor_val.shape[0],\n",
        "                                                 -1,\n",
        "                                                 img_tensor_val.shape[3]))\n",
        "\n",
        "    features = encoder(img_tensor_val)\n",
        "\n",
        "    dec_input = tf.expand_dims([tokenizer.word_index['<start>']], 0)\n",
        "    result = []\n",
        "\n",
        "   #Evaluate on images and return plot of attention\n",
        "   #YOUR CODE HERE"
      ],
      "execution_count": null,
      "outputs": []
    },
    {
      "cell_type": "markdown",
      "metadata": {
        "id": "GOcoRwuELMjJ"
      },
      "source": [
        "Helper function for plotting visual attention"
      ]
    },
    {
      "cell_type": "code",
      "metadata": {
        "id": "fD_y7PD6RPGt"
      },
      "source": [
        "#Plot the visual attention on images\n",
        "#YOUR CODE HERE\n"
      ],
      "execution_count": null,
      "outputs": []
    },
    {
      "cell_type": "code",
      "metadata": {
        "id": "7x8RiPHe_4qI"
      },
      "source": [
        "# captions on the validation set\n",
        "rid = np.random.randint(0, len(img_name_val))\n",
        "image = img_name_val[rid]\n",
        "real_caption = ' '.join([tokenizer.index_word[i]\n",
        "                        for i in cap_val[rid] if i not in [0]])\n",
        "result, attention_plot = evaluate(image)\n",
        "\n",
        "print('Real Caption:', real_caption)\n",
        "print('Prediction Caption:', ' '.join(result))\n",
        "plot_attention(image, result, attention_plot)"
      ],
      "execution_count": null,
      "outputs": []
    },
    {
      "cell_type": "markdown",
      "metadata": {
        "id": "Rprk3HEvZuxb"
      },
      "source": [
        "## Try it on your own images\n",
        "\n",
        "For fun, below you're provided a method you can use to caption your own images with the model you've just trained. Keep in mind, it was trained on a relatively small amount of data, and your images may be different from the training data (so be prepared for weird results!)\n"
      ]
    },
    {
      "cell_type": "code",
      "metadata": {
        "id": "9Psd1quzaAWg"
      },
      "source": [
        "image_url = 'https://tensorflow.org/images/surf.jpg'\n",
        "image_extension = image_url[-4:]\n",
        "image_path = tf.keras.utils.get_file('image'+image_extension, origin=image_url)\n",
        "\n",
        "result, attention_plot = evaluate(image_path)\n",
        "print('Prediction Caption:', ' '.join(result))\n",
        "plot_attention(image_path, result, attention_plot)\n",
        "# opening the image\n",
        "Image.open(image_path)"
      ],
      "execution_count": null,
      "outputs": []
    },
    {
      "cell_type": "markdown",
      "metadata": {
        "id": "VJZXyJco6uLO"
      },
      "source": [
        "# Next steps\n",
        "\n",
        "Congrats! You've just trained an image captioning model with attention. Next, take a look at this example [Neural Machine Translation with Attention](https://www.tensorflow.org/text/tutorials/nmt_with_attention). It uses a similar architecture to translate between Spanish and English sentences. You can also experiment with training the code in this notebook on a different dataset."
      ]
    },
    {
      "cell_type": "markdown",
      "metadata": {
        "id": "VHfHdGCP_n6Y"
      },
      "source": [
        "### Please answer the questions below to complete the experiment:\n",
        "\n",
        "\n"
      ]
    },
    {
      "cell_type": "code",
      "metadata": {
        "id": "NHDYadgG-RHl",
        "cellView": "form"
      },
      "source": [
        "#@title Q1. Image captioning can be regarded as an end-to-end Sequence to Sequence problem, as it converts images, which is regarded as a sequence of pixels to a sequence of words ? ?\n",
        "Answer1 = \"\" #@param [\"\", \"True\", \"False\"]\n"
      ],
      "execution_count": null,
      "outputs": []
    },
    {
      "cell_type": "code",
      "metadata": {
        "id": "_F3RfGojqZDc",
        "cellView": "form"
      },
      "source": [
        "#@title Q2. In order to generate a caption for an image, we use an attention-based model, which enables us to see what parts of the image the model focuses on as it generates a caption ?\n",
        "Answer2 = \"\" #@param [\"\",\"True\",\"False\"]\n"
      ],
      "execution_count": null,
      "outputs": []
    },
    {
      "cell_type": "code",
      "metadata": {
        "id": "NMzKSbLIgFzQ"
      },
      "source": [
        "#@title How was the experiment? { run: \"auto\", form-width: \"500px\", display-mode: \"form\" }\n",
        "Complexity = \"\" #@param [\"\",\"Too Simple, I am wasting time\", \"Good, But Not Challenging for me\", \"Good and Challenging for me\", \"Was Tough, but I did it\", \"Too Difficult for me\"]\n"
      ],
      "execution_count": null,
      "outputs": []
    },
    {
      "cell_type": "code",
      "metadata": {
        "id": "DjcH1VWSFI2l"
      },
      "source": [
        "#@title If it was too easy, what more would you have liked to be added? If it was very difficult, what would you have liked to have been removed? { run: \"auto\", display-mode: \"form\" }\n",
        "Additional = \"\" #@param {type:\"string\"}\n"
      ],
      "execution_count": null,
      "outputs": []
    },
    {
      "cell_type": "code",
      "metadata": {
        "id": "4VBk_4VTAxCM"
      },
      "source": [
        "#@title Can you identify the concepts from the lecture which this experiment covered? { run: \"auto\", vertical-output: true, display-mode: \"form\" }\n",
        "Concepts = \"\" #@param [\"\",\"Yes\", \"No\"]\n"
      ],
      "execution_count": null,
      "outputs": []
    },
    {
      "cell_type": "code",
      "metadata": {
        "id": "XH91cL1JWH7m"
      },
      "source": [
        "#@title  Text and image description/explanation and code comments within the experiment: { run: \"auto\", vertical-output: true, display-mode: \"form\" }\n",
        "Comments = \"\" #@param [\"\",\"Very Useful\", \"Somewhat Useful\", \"Not Useful\", \"Didn't use\"]\n"
      ],
      "execution_count": null,
      "outputs": []
    },
    {
      "cell_type": "code",
      "metadata": {
        "id": "z8xLqj7VWIKW"
      },
      "source": [
        "#@title Mentor Support: { run: \"auto\", vertical-output: true, display-mode: \"form\" }\n",
        "Mentor_support = \"\" #@param [\"\",\"Very Useful\", \"Somewhat Useful\", \"Not Useful\", \"Didn't use\"]\n"
      ],
      "execution_count": null,
      "outputs": []
    },
    {
      "cell_type": "code",
      "metadata": {
        "id": "ajt02Jc-sJnc",
        "cellView": "form"
      },
      "source": [
        "#@title Run this cell to submit your notebook for grading { vertical-output: true }\n",
        "try:\n",
        "  if submission_id:\n",
        "      return_id = submit_notebook()\n",
        "      if return_id : submission_id = return_id\n",
        "  else:\n",
        "      print(\"Please complete the setup first.\")\n",
        "except NameError:\n",
        "  print (\"Please complete the setup first.\")"
      ],
      "execution_count": null,
      "outputs": []
    }
  ]
}