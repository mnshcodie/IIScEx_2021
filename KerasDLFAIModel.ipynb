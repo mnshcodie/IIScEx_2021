{
  "nbformat": 4,
  "nbformat_minor": 0,
  "metadata": {
    "colab": {
      "name": "KerasDLFAIModel.ipynb",
      "provenance": [],
      "collapsed_sections": [],
      "include_colab_link": true
    },
    "kernelspec": {
      "name": "python3",
      "display_name": "Python 3"
    },
    "language_info": {
      "name": "python"
    }
  },
  "cells": [
    {
      "cell_type": "markdown",
      "metadata": {
        "id": "view-in-github",
        "colab_type": "text"
      },
      "source": [
        "<a href=\"https://colab.research.google.com/github/mnshcodie/IIScEx_2021/blob/main/KerasDLFAIModel.ipynb\" target=\"_parent\"><img src=\"https://colab.research.google.com/assets/colab-badge.svg\" alt=\"Open In Colab\"/></a>"
      ]
    },
    {
      "cell_type": "code",
      "metadata": {
        "id": "jSuy7lFnM9Uy"
      },
      "source": [
        "!wget https://cdn.talentsprint.com/aiml/Experiment_related_data/diabetes.csv"
      ],
      "execution_count": null,
      "outputs": []
    },
    {
      "cell_type": "code",
      "metadata": {
        "id": "wCmvexAkNh4f"
      },
      "source": [
        "from kerassubclass import Mymodel\n",
        "md = Mymodel()"
      ],
      "execution_count": null,
      "outputs": []
    },
    {
      "cell_type": "code",
      "metadata": {
        "colab": {
          "base_uri": "https://localhost:8080/"
        },
        "id": "E4p_aVDGNqmZ",
        "outputId": "4211623d-1dca-42d0-9113-f099409fd217"
      },
      "source": [
        "from keras.layers import Input\n",
        "inputs = Input(shape =(8,))\n",
        "md.call(inputs)"
      ],
      "execution_count": null,
      "outputs": [
        {
          "output_type": "execute_result",
          "data": {
            "text/plain": [
              "<KerasTensor: shape=(None, 1) dtype=float32 (created by layer 'dense_2')>"
            ]
          },
          "metadata": {
            "tags": []
          },
          "execution_count": 4
        }
      ]
    },
    {
      "cell_type": "code",
      "metadata": {
        "id": "dOlu19DLNyax"
      },
      "source": [
        "import pandas as pd\n",
        "data = pd.read_csv('diabetes.csv')"
      ],
      "execution_count": null,
      "outputs": []
    },
    {
      "cell_type": "code",
      "metadata": {
        "id": "Qvq-x9mbN216"
      },
      "source": [
        "x = data.iloc[:,0:8]\n",
        "y = data.iloc[:,8:]"
      ],
      "execution_count": null,
      "outputs": []
    },
    {
      "cell_type": "code",
      "metadata": {
        "id": "g9xZ2L-UN4MY"
      },
      "source": [
        "from sklearn.model_selection import train_test_split\n",
        "x_train,x_test,y_train,y_test = train_test_split(x,y,test_size =0.2,random_state = 0)"
      ],
      "execution_count": null,
      "outputs": []
    },
    {
      "cell_type": "code",
      "metadata": {
        "id": "fGWfb2EAN9OG"
      },
      "source": [
        "from sklearn.preprocessing import StandardScaler\n",
        "scale = StandardScaler().fit(x_train)\n",
        "x_train = scale.transform(x_train)\n",
        "x_test = scale.transform(x_test)"
      ],
      "execution_count": null,
      "outputs": []
    },
    {
      "cell_type": "code",
      "metadata": {
        "id": "nCTahCv2OAaP"
      },
      "source": [
        "md.compile(optimizer='sgd',loss='binary_crossentropy',metrics=['accuracy'])"
      ],
      "execution_count": null,
      "outputs": []
    },
    {
      "cell_type": "code",
      "metadata": {
        "colab": {
          "base_uri": "https://localhost:8080/"
        },
        "id": "OjkGcDPQODot",
        "outputId": "f4e1f29a-28ee-4d29-b77e-b6f3d28beb60"
      },
      "source": [
        "md.fit(x_train,y_train,epochs =5,batch_size=2,verbose = 0,validation_split= 0.2)"
      ],
      "execution_count": null,
      "outputs": [
        {
          "output_type": "execute_result",
          "data": {
            "text/plain": [
              "<tensorflow.python.keras.callbacks.History at 0x7fb16c3c1190>"
            ]
          },
          "metadata": {
            "tags": []
          },
          "execution_count": 10
        }
      ]
    },
    {
      "cell_type": "code",
      "metadata": {
        "id": "EIxs86KBOHGe",
        "colab": {
          "base_uri": "https://localhost:8080/"
        },
        "outputId": "f8eacccb-5606-4dd1-b5c8-07423e5e9cd8"
      },
      "source": [
        "y_pred = md.predict(x_test)\n",
        "loss,score = md.evaluate(x_test,y_test,verbose = 0)\n",
        "print(score * 100)"
      ],
      "execution_count": null,
      "outputs": [
        {
          "output_type": "stream",
          "text": [
            "74.67532753944397\n"
          ],
          "name": "stdout"
        }
      ]
    }
  ]
}