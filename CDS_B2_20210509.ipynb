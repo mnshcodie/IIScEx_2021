{
  "nbformat": 4,
  "nbformat_minor": 0,
  "metadata": {
    "colab": {
      "name": "CDS-B2-20210509.ipynb",
      "private_outputs": true,
      "provenance": [],
      "include_colab_link": true
    },
    "kernelspec": {
      "name": "python3",
      "display_name": "Python 3"
    },
    "language_info": {
      "name": "python"
    }
  },
  "cells": [
    {
      "cell_type": "markdown",
      "metadata": {
        "id": "view-in-github",
        "colab_type": "text"
      },
      "source": [
        "<a href=\"https://colab.research.google.com/github/mnshcodie/IIScEx_2021/blob/main/CDS_B2_20210509.ipynb\" target=\"_parent\"><img src=\"https://colab.research.google.com/assets/colab-badge.svg\" alt=\"Open In Colab\"/></a>"
      ]
    },
    {
      "cell_type": "markdown",
      "metadata": {
        "id": "3mJ9T6OlTxIV"
      },
      "source": [
        "Find the sum of multiples of 3 or 5 below 1000"
      ]
    },
    {
      "cell_type": "code",
      "metadata": {
        "id": "N0g4z-OIT7Va"
      },
      "source": [
        "# Project Euler Problem 1\n",
        "LIMIT = 1000\n",
        "n, total = 1, 0\n",
        "while n < LIMIT:\n",
        "    if n % 3 == 0 or n % 5 == 0:\n",
        "        total += n\n",
        "    n += 1\n",
        "print(total)"
      ],
      "execution_count": null,
      "outputs": []
    },
    {
      "cell_type": "code",
      "metadata": {
        "id": "pjxS_Vu2VZMY"
      },
      "source": [
        "LIMIT = 1000\n",
        "total = 0\n",
        "for n in range(1, LIMIT):\n",
        "    if n % 3 == 0 or n % 5 == 0:\n",
        "        total += n\n",
        "print(total)"
      ],
      "execution_count": null,
      "outputs": []
    },
    {
      "cell_type": "code",
      "metadata": {
        "id": "dWL7RkeDWlMN"
      },
      "source": [
        "def select(n: int) -> bool:\n",
        "    return n % 3 == 0 or n % 5 == 0"
      ],
      "execution_count": null,
      "outputs": []
    },
    {
      "cell_type": "code",
      "metadata": {
        "id": "9VJTFEHJYA9B"
      },
      "source": [
        "LIMIT = 1000\n",
        "n, total = 1, 0\n",
        "while n < LIMIT:\n",
        "    if select(n):\n",
        "        total += n\n",
        "    n += 1\n",
        "print(total)"
      ],
      "execution_count": null,
      "outputs": []
    },
    {
      "cell_type": "code",
      "metadata": {
        "id": "2EGNHeziZMag"
      },
      "source": [
        "LIMIT = 1000\n",
        "total = 0\n",
        "for n in range(1, LIMIT):\n",
        "    if select(n):\n",
        "        total += n\n",
        "print(total)"
      ],
      "execution_count": null,
      "outputs": []
    },
    {
      "cell_type": "code",
      "metadata": {
        "id": "Zfi6NJyaZWQ3"
      },
      "source": [
        "LIMIT = 1000\n",
        "sum(range(3, LIMIT, 3)) + sum(range(5, LIMIT, 5)) - sum(range(15, LIMIT, 15))"
      ],
      "execution_count": null,
      "outputs": []
    },
    {
      "cell_type": "code",
      "metadata": {
        "id": "fcBQWhxdbbVR"
      },
      "source": [
        "range(10)"
      ],
      "execution_count": null,
      "outputs": []
    },
    {
      "cell_type": "code",
      "metadata": {
        "id": "xbpYMRVbbuj2"
      },
      "source": [
        "list(range(10))"
      ],
      "execution_count": null,
      "outputs": []
    },
    {
      "cell_type": "code",
      "metadata": {
        "id": "pIOV_lPQbw-Q"
      },
      "source": [
        "list(range(7, 20))"
      ],
      "execution_count": null,
      "outputs": []
    },
    {
      "cell_type": "code",
      "metadata": {
        "id": "UzMCXshRb3Ww"
      },
      "source": [
        "list(range(34, 100, 7))"
      ],
      "execution_count": null,
      "outputs": []
    },
    {
      "cell_type": "code",
      "metadata": {
        "id": "-nJ-a_2rb_V_"
      },
      "source": [
        "sum(set(range(3, LIMIT, 3)) | set(range(5, LIMIT, 5)))"
      ],
      "execution_count": null,
      "outputs": []
    },
    {
      "cell_type": "code",
      "metadata": {
        "id": "Jozq5Zc4c0d9"
      },
      "source": [
        "sum([x for x in range(1, LIMIT) if select(x)])"
      ],
      "execution_count": null,
      "outputs": []
    },
    {
      "cell_type": "code",
      "metadata": {
        "id": "h-_7Byu-d7lg"
      },
      "source": [
        "[x * x + 1 for x in range(10)]"
      ],
      "execution_count": null,
      "outputs": []
    },
    {
      "cell_type": "code",
      "metadata": {
        "id": "ewKuLIeffPFg"
      },
      "source": [
        "[y * y + 1 for y in range(10)]"
      ],
      "execution_count": null,
      "outputs": []
    },
    {
      "cell_type": "code",
      "metadata": {
        "id": "l-grKUk9fUo_"
      },
      "source": [
        "sum(filter(select, range(1, LIMIT)))"
      ],
      "execution_count": null,
      "outputs": []
    },
    {
      "cell_type": "code",
      "metadata": {
        "id": "IJ4xH503hMkQ"
      },
      "source": [
        "filter?"
      ],
      "execution_count": null,
      "outputs": []
    },
    {
      "cell_type": "code",
      "metadata": {
        "id": "7I2FLw7yiX6R"
      },
      "source": [
        "sum?"
      ],
      "execution_count": null,
      "outputs": []
    },
    {
      "cell_type": "code",
      "metadata": {
        "id": "SV6xgrCfivtj"
      },
      "source": [
        "print?"
      ],
      "execution_count": null,
      "outputs": []
    },
    {
      "cell_type": "code",
      "metadata": {
        "id": "yYgskiEtizse"
      },
      "source": [
        "def even(n: int) -> bool:\n",
        "    return n % 2 == 0"
      ],
      "execution_count": null,
      "outputs": []
    },
    {
      "cell_type": "code",
      "metadata": {
        "id": "eHISjwv0j236"
      },
      "source": [
        "list(filter(even, range(20)))"
      ],
      "execution_count": null,
      "outputs": []
    },
    {
      "cell_type": "code",
      "metadata": {
        "id": "BemvD7JVj7G8"
      },
      "source": [
        "sum(filter(even, range(20)))"
      ],
      "execution_count": null,
      "outputs": []
    },
    {
      "cell_type": "code",
      "metadata": {
        "id": "_pA1s8DSj-9A"
      },
      "source": [
        "even?"
      ],
      "execution_count": null,
      "outputs": []
    },
    {
      "cell_type": "code",
      "metadata": {
        "id": "wflrCtHmkMQm"
      },
      "source": [
        "even??"
      ],
      "execution_count": null,
      "outputs": []
    },
    {
      "cell_type": "markdown",
      "metadata": {
        "id": "qAIcg674kN3M"
      },
      "source": [
        "Find the sum of all primes below two million"
      ]
    },
    {
      "cell_type": "code",
      "metadata": {
        "id": "S8pU2aFouDc0"
      },
      "source": [
        "LIMIT = 2000000"
      ],
      "execution_count": null,
      "outputs": []
    },
    {
      "cell_type": "code",
      "metadata": {
        "id": "1Dad6vANuF4W"
      },
      "source": [
        "def is_prime(n: int) -> bool:\n",
        "    if n < 2:\n",
        "        return False\n",
        "    if n in [2, 3, 5, 7]:\n",
        "        return True\n",
        "    if n % 2 == 0:\n",
        "        return False\n",
        "    r = 3\n",
        "    while r * r <= n:\n",
        "        if n % r == 0:\n",
        "            return False\n",
        "        r += 2\n",
        "    return True\n"
      ],
      "execution_count": null,
      "outputs": []
    },
    {
      "cell_type": "code",
      "metadata": {
        "id": "J7Ubj0wzucPk"
      },
      "source": [
        "sum(filter(is_prime, range(LIMIT)))"
      ],
      "execution_count": null,
      "outputs": []
    },
    {
      "cell_type": "code",
      "metadata": {
        "id": "fSdJJxrrumgT"
      },
      "source": [
        "2 + sum(filter(is_prime, range(3, LIMIT, 2)))"
      ],
      "execution_count": null,
      "outputs": []
    },
    {
      "cell_type": "markdown",
      "metadata": {
        "id": "lzZCUxGTyBaV"
      },
      "source": [
        "The prime factors of 13195 are 5, 7 13 and 29\n",
        "\n",
        "What is the largest prime factor of 600851475143"
      ]
    },
    {
      "cell_type": "code",
      "metadata": {
        "id": "VAfag8t0zvOM"
      },
      "source": [
        "def factorize(n: int) -> [int]:\n",
        "    factors = []\n",
        "    while n % 2 == 0:\n",
        "        factors.append(2)\n",
        "        n //= 2\n",
        "    factor = 3\n",
        "    while n > 1:\n",
        "        while n % factor == 0:\n",
        "            factors.append(factor)\n",
        "            n //= factor\n",
        "        factor += 2\n",
        "    return factors \n"
      ],
      "execution_count": null,
      "outputs": []
    },
    {
      "cell_type": "code",
      "metadata": {
        "id": "87z9jM890UwR"
      },
      "source": [
        "factorize(13195)"
      ],
      "execution_count": null,
      "outputs": []
    },
    {
      "cell_type": "code",
      "metadata": {
        "id": "OmXLynmQ0XKA"
      },
      "source": [
        "factorize(600851475143)"
      ],
      "execution_count": null,
      "outputs": []
    },
    {
      "cell_type": "code",
      "metadata": {
        "id": "_XDZ_DPt0emo"
      },
      "source": [
        "max(factorize(600851475143))"
      ],
      "execution_count": null,
      "outputs": []
    },
    {
      "cell_type": "code",
      "metadata": {
        "id": "d4SQGFZs0hf8"
      },
      "source": [
        "list(filter(is_prime, range(50)))"
      ],
      "execution_count": null,
      "outputs": []
    },
    {
      "cell_type": "code",
      "metadata": {
        "id": "r6EsxCcC01jn"
      },
      "source": [
        "print(filter(is_prime, range(50)))"
      ],
      "execution_count": null,
      "outputs": []
    },
    {
      "cell_type": "code",
      "metadata": {
        "id": "k6OkoBsn1Dp7"
      },
      "source": [
        "def is_perfect_cube(n: int) -> bool:\n",
        "    r = 0\n",
        "    while r * r * r < n:\n",
        "        r += 1\n",
        "    return r * r * r == n"
      ],
      "execution_count": null,
      "outputs": []
    },
    {
      "cell_type": "code",
      "metadata": {
        "id": "a2w4IIYt5Ef1"
      },
      "source": [
        "is_perfect_cube(27)"
      ],
      "execution_count": null,
      "outputs": []
    },
    {
      "cell_type": "code",
      "metadata": {
        "id": "smETHD3m5ciJ"
      },
      "source": [
        "is_perfect_cube(1)"
      ],
      "execution_count": null,
      "outputs": []
    },
    {
      "cell_type": "code",
      "metadata": {
        "id": "VryT8xbZ5nz_"
      },
      "source": [
        "def is_power_of2(n: int) -> bool:\n",
        "    if n == 1:\n",
        "        return True\n",
        "    if n % 2 == 1:\n",
        "        return False\n",
        "    return is_power_of2(n // 2)"
      ],
      "execution_count": null,
      "outputs": []
    },
    {
      "cell_type": "code",
      "metadata": {
        "id": "bbaFinlJ6DN2"
      },
      "source": [
        "is_power_of2(64)"
      ],
      "execution_count": null,
      "outputs": []
    },
    {
      "cell_type": "code",
      "metadata": {
        "id": "Su2tOpWB66Ic"
      },
      "source": [
        "def hermione(how_many: int) -> [int]:\n",
        "    a, b = 0, 1\n",
        "    potter = []\n",
        "    for _ in range(how_many):\n",
        "        potter.append(a)\n",
        "        a, b = b, a + b\n",
        "    return potter"
      ],
      "execution_count": null,
      "outputs": []
    },
    {
      "cell_type": "code",
      "metadata": {
        "id": "L2Q5-x9m7fg3"
      },
      "source": [
        "hermione(7)"
      ],
      "execution_count": null,
      "outputs": []
    },
    {
      "cell_type": "code",
      "metadata": {
        "id": "-MJ9hwmY8SYi"
      },
      "source": [
        "def triangular(n):\n",
        "    def odd(n):\n",
        "        return n % 2 == 1\n",
        "    return sum(filter(odd, range(n)))"
      ],
      "execution_count": null,
      "outputs": []
    },
    {
      "cell_type": "code",
      "metadata": {
        "id": "W61VDeKA83if"
      },
      "source": [
        "triangular(10)"
      ],
      "execution_count": null,
      "outputs": []
    },
    {
      "cell_type": "code",
      "metadata": {
        "id": "aKY38Fq386Ef"
      },
      "source": [
        "odd(8)"
      ],
      "execution_count": null,
      "outputs": []
    },
    {
      "cell_type": "code",
      "metadata": {
        "id": "qvcZCe79_HrO"
      },
      "source": [
        "def weasely(n):\n",
        "    while n > 0:\n",
        "        if n % 2 == 1:\n",
        "            return False\n",
        "        n //= 10\n",
        "    return True"
      ],
      "execution_count": null,
      "outputs": []
    },
    {
      "cell_type": "code",
      "metadata": {
        "id": "mZeA5jy-_Tpf"
      },
      "source": [
        "def snapes(n):\n",
        "    s = []\n",
        "    while n > 0:\n",
        "        s.append(n % 10) # use s.insert(0, n  % 10)to get in right order\n",
        "        n //= 10\n",
        "    return s"
      ],
      "execution_count": null,
      "outputs": []
    },
    {
      "cell_type": "code",
      "metadata": {
        "id": "IAAP5aBl_uqv"
      },
      "source": [
        "t = [1, 2, 3]"
      ],
      "execution_count": null,
      "outputs": []
    },
    {
      "cell_type": "code",
      "metadata": {
        "id": "fKKN_Ls6B5X-"
      },
      "source": [
        "t.append(10)"
      ],
      "execution_count": null,
      "outputs": []
    },
    {
      "cell_type": "code",
      "metadata": {
        "id": "u9Tf4rR3B6as"
      },
      "source": [
        "t"
      ],
      "execution_count": null,
      "outputs": []
    },
    {
      "cell_type": "code",
      "metadata": {
        "id": "p0I7Bfe5B6z8"
      },
      "source": [
        "t.insert(1, 12)"
      ],
      "execution_count": null,
      "outputs": []
    },
    {
      "cell_type": "code",
      "metadata": {
        "id": "DO0gWe_SB88D"
      },
      "source": [
        "t"
      ],
      "execution_count": null,
      "outputs": []
    },
    {
      "cell_type": "code",
      "metadata": {
        "id": "EeET8xN-B-Dr"
      },
      "source": [
        "t.insert(0, -2)"
      ],
      "execution_count": null,
      "outputs": []
    },
    {
      "cell_type": "code",
      "metadata": {
        "id": "91MaBS_XCBBD"
      },
      "source": [
        "t"
      ],
      "execution_count": null,
      "outputs": []
    },
    {
      "cell_type": "code",
      "metadata": {
        "id": "fThhweiACBTp"
      },
      "source": [
        "[gauss(x) for x in np.arange(...)]"
      ],
      "execution_count": null,
      "outputs": []
    },
    {
      "cell_type": "markdown",
      "metadata": {
        "id": "M7HIZHDde9yQ"
      },
      "source": [
        "### List of useful add-ons\n",
        "$\\LaTeX$  for scientific publishing, writing papers and reports\n",
        "\n",
        "$\\LyX$ A WYSIWIG editor with LaTeX as the backend\n",
        "\n",
        "Overleaf -- an online site/editor for LaTeX"
      ]
    },
    {
      "cell_type": "markdown",
      "metadata": {
        "id": "2YyjWxU1fICv"
      },
      "source": [
        "### Libraries\n",
        "\n",
        "numpy -- for efficient arrays. COre infrastructure library; rarely used directly\n",
        "\n",
        "scipy -- for scientific computation, Linear Algebra, FFT, Stats, OPtimization, DE solving ....\n",
        "\n",
        "sympy -- for symbolic computation\n",
        "\n",
        "scikit learn -- for machine learning algorithms"
      ]
    },
    {
      "cell_type": "code",
      "metadata": {
        "id": "j-ZVTuufnc7P"
      },
      "source": [
        "def get_primes(k):\n",
        "    yield 2\n",
        "    yield 3\n",
        "    n = 5\n",
        "    count = 2\n",
        "    while count < k:\n",
        "        if is_prime(n):\n",
        "            yield n\n",
        "            count += 1\n",
        "        n += 2\n",
        "\n",
        "def is_prime(n: int) -> bool:\n",
        "    if n < 2:\n",
        "        return False\n",
        "    if n in [2, 3, 5, 7]:\n",
        "        return True\n",
        "    if n % 2 == 0:\n",
        "        return False\n",
        "    r = 3\n",
        "    while r * r <= n:\n",
        "        if n % r == 0:\n",
        "            return False\n",
        "        r += 2\n",
        "    return True"
      ],
      "execution_count": null,
      "outputs": []
    },
    {
      "cell_type": "code",
      "metadata": {
        "id": "8hoTh3M0sQGa"
      },
      "source": [
        "for n in get_primes(10):\n",
        "    print(n, end = \" \")"
      ],
      "execution_count": null,
      "outputs": []
    },
    {
      "cell_type": "code",
      "metadata": {
        "id": "8WqgElepsiN7"
      },
      "source": [
        "for n in get_primes(7):\n",
        "    print(n, end = \" \")"
      ],
      "execution_count": null,
      "outputs": []
    },
    {
      "cell_type": "code",
      "metadata": {
        "id": "-ICbsUYguSHP"
      },
      "source": [
        "a = get_primes(10)"
      ],
      "execution_count": null,
      "outputs": []
    },
    {
      "cell_type": "code",
      "metadata": {
        "id": "KvLCBRpauVA9"
      },
      "source": [
        "for i in a:\n",
        "    print(i)"
      ],
      "execution_count": null,
      "outputs": []
    },
    {
      "cell_type": "code",
      "metadata": {
        "id": "3VZNlKtKuX6m"
      },
      "source": [
        "for i in a:\n",
        "    print(i)"
      ],
      "execution_count": null,
      "outputs": []
    },
    {
      "cell_type": "code",
      "metadata": {
        "id": "VJBiw_zWuang"
      },
      "source": [
        "a = get_primes(20)"
      ],
      "execution_count": null,
      "outputs": []
    },
    {
      "cell_type": "code",
      "metadata": {
        "id": "cBCe_E_Puwto"
      },
      "source": [
        "for i, p in enumerate(a):\n",
        "    print(p, end = \" \")\n",
        "    if i > 9:\n",
        "        break"
      ],
      "execution_count": null,
      "outputs": []
    },
    {
      "cell_type": "code",
      "metadata": {
        "id": "KsM2S1H4u6Va"
      },
      "source": [
        "for k in a:\n",
        "    print(k, end = \" \")"
      ],
      "execution_count": null,
      "outputs": []
    },
    {
      "cell_type": "code",
      "metadata": {
        "id": "V8_b269ku_Qw"
      },
      "source": [
        "k = 0.45\n",
        "n = 7\n",
        "EPSILON = 0.000000001\n",
        "while abs(n - 16) > EPSILON:\n",
        "    n += k\n",
        "    print(n)\n"
      ],
      "execution_count": null,
      "outputs": []
    }
  ]
}