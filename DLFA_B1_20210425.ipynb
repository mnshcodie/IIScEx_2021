{
  "nbformat": 4,
  "nbformat_minor": 0,
  "metadata": {
    "colab": {
      "name": "DLFA-B1-20210425.ipynb",
      "private_outputs": true,
      "provenance": [],
      "include_colab_link": true
    },
    "kernelspec": {
      "name": "python3",
      "display_name": "Python 3"
    },
    "language_info": {
      "name": "python"
    }
  },
  "cells": [
    {
      "cell_type": "markdown",
      "metadata": {
        "id": "view-in-github",
        "colab_type": "text"
      },
      "source": [
        "<a href=\"https://colab.research.google.com/github/mnshcodie/IIScEx_2021/blob/main/DLFA_B1_20210425.ipynb\" target=\"_parent\"><img src=\"https://colab.research.google.com/assets/colab-badge.svg\" alt=\"Open In Colab\"/></a>"
      ]
    },
    {
      "cell_type": "code",
      "metadata": {
        "id": "rqw0JAfPTs4m"
      },
      "source": [
        "s = 'Single quoted'"
      ],
      "execution_count": null,
      "outputs": []
    },
    {
      "cell_type": "code",
      "metadata": {
        "id": "X-HTQs9XT367"
      },
      "source": [
        "t = \"Double quoted\""
      ],
      "execution_count": null,
      "outputs": []
    },
    {
      "cell_type": "code",
      "metadata": {
        "id": "0U9sg3cxT6Cc"
      },
      "source": [
        "greet = 'He said, \"Hello I am Adam\" in a loud voice'"
      ],
      "execution_count": null,
      "outputs": []
    },
    {
      "cell_type": "code",
      "metadata": {
        "id": "nv-BrjjCUFUc"
      },
      "source": [
        "another = \"He said, I'm Adam\""
      ],
      "execution_count": null,
      "outputs": []
    },
    {
      "cell_type": "code",
      "metadata": {
        "id": "kQ4aqDMVULP3"
      },
      "source": [
        "triple = \"\"\"A triple quoted string can span lines\n",
        "without any difficulty. But it is best used for \\\n",
        "doc strings\"\"\"\n"
      ],
      "execution_count": null,
      "outputs": []
    },
    {
      "cell_type": "code",
      "metadata": {
        "id": "juI6LlKOUbNW"
      },
      "source": [
        "print(triple)"
      ],
      "execution_count": null,
      "outputs": []
    },
    {
      "cell_type": "code",
      "metadata": {
        "id": "hbmVmeRSUc_W"
      },
      "source": [
        "def even(n: int) -> bool:\n",
        "    '''Checks whether the given number is even.\n",
        "    Preferred for the descriptive name as\n",
        "    opposed to using the expression'''\n",
        "    return n % 2 == 0"
      ],
      "execution_count": null,
      "outputs": []
    },
    {
      "cell_type": "code",
      "metadata": {
        "id": "l3Zwh4zxVIFN"
      },
      "source": [
        "even?"
      ],
      "execution_count": null,
      "outputs": []
    },
    {
      "cell_type": "code",
      "metadata": {
        "id": "o-K_vTAlVLMl"
      },
      "source": [
        "whole = \"Asokan 65 TN\""
      ],
      "execution_count": null,
      "outputs": []
    },
    {
      "cell_type": "code",
      "metadata": {
        "id": "q-XA1FNLVzLV"
      },
      "source": [
        "whole.split()"
      ],
      "execution_count": null,
      "outputs": []
    },
    {
      "cell_type": "code",
      "metadata": {
        "id": "Ir4FAzoMV053"
      },
      "source": [
        "whole2 = \"Asokan    \\n 65   \\t  TN\""
      ],
      "execution_count": null,
      "outputs": []
    },
    {
      "cell_type": "code",
      "metadata": {
        "id": "SmSeqxdbWEwl"
      },
      "source": [
        "whole2.split()"
      ],
      "execution_count": null,
      "outputs": []
    },
    {
      "cell_type": "code",
      "metadata": {
        "id": "PBQRig-VWGRG"
      },
      "source": [
        "whole.split?"
      ],
      "execution_count": null,
      "outputs": []
    },
    {
      "cell_type": "code",
      "metadata": {
        "id": "VJBumovXWK7X"
      },
      "source": [
        "whole2.split(' ')"
      ],
      "execution_count": null,
      "outputs": []
    },
    {
      "cell_type": "code",
      "metadata": {
        "id": "doddGqo8WXAA"
      },
      "source": [
        "whole2.split('n')"
      ],
      "execution_count": null,
      "outputs": []
    },
    {
      "cell_type": "code",
      "metadata": {
        "id": "H6m229vuWqgG"
      },
      "source": [
        "name = \"Asokan Pichai\"\n"
      ],
      "execution_count": null,
      "outputs": []
    },
    {
      "cell_type": "code",
      "metadata": {
        "id": "gx43CDUaXn0t"
      },
      "source": [
        "name[1]"
      ],
      "execution_count": null,
      "outputs": []
    },
    {
      "cell_type": "code",
      "metadata": {
        "id": "wci3Z2cDXsad"
      },
      "source": [
        "name[3:7]"
      ],
      "execution_count": null,
      "outputs": []
    },
    {
      "cell_type": "code",
      "metadata": {
        "id": "DJTH2n5IXyET"
      },
      "source": [
        "name[2:9:2]"
      ],
      "execution_count": null,
      "outputs": []
    },
    {
      "cell_type": "code",
      "metadata": {
        "id": "ST8j2tD9X0FO"
      },
      "source": [
        "name[::-1]"
      ],
      "execution_count": null,
      "outputs": []
    },
    {
      "cell_type": "code",
      "metadata": {
        "id": "ulwwSl54X2wA"
      },
      "source": [
        "name[5] = 'q'"
      ],
      "execution_count": null,
      "outputs": []
    },
    {
      "cell_type": "code",
      "metadata": {
        "id": "7RfWpGIdYCCw"
      },
      "source": [
        "name = \"Pichai Asokan\""
      ],
      "execution_count": null,
      "outputs": []
    },
    {
      "cell_type": "code",
      "metadata": {
        "id": "zkaFlEhZYGta"
      },
      "source": [
        "name = name + \" \""
      ],
      "execution_count": null,
      "outputs": []
    },
    {
      "cell_type": "code",
      "metadata": {
        "id": "p7leYTvLYZpX"
      },
      "source": [
        "name"
      ],
      "execution_count": null,
      "outputs": []
    },
    {
      "cell_type": "code",
      "metadata": {
        "id": "X4W9I05hYcLl"
      },
      "source": [
        "chr(0x3b1)"
      ],
      "execution_count": null,
      "outputs": []
    },
    {
      "cell_type": "code",
      "metadata": {
        "id": "bCCF5_i2ZbF_"
      },
      "source": [
        "ord('ε')"
      ],
      "execution_count": null,
      "outputs": []
    },
    {
      "cell_type": "code",
      "metadata": {
        "id": "z-rVp7ogZjUG"
      },
      "source": [
        "hex(949)"
      ],
      "execution_count": null,
      "outputs": []
    },
    {
      "cell_type": "code",
      "metadata": {
        "id": "YsuhPdUxZ0rW"
      },
      "source": [
        "அ = 78 "
      ],
      "execution_count": null,
      "outputs": []
    },
    {
      "cell_type": "markdown",
      "metadata": {
        "id": "jOzp8P-4aI5Z"
      },
      "source": [
        "[0..n] -> S, list\n"
      ]
    },
    {
      "cell_type": "code",
      "metadata": {
        "id": "cxVsAlKabScK"
      },
      "source": [
        "capital_cities = [\"Colombo\", \"London\", \"Dhaka\", \"Reykjavik\"]\n",
        "countries = [\"Sri Lanka\", \"UK\", \"Bangla Desh\", \"Iceland\"]"
      ],
      "execution_count": null,
      "outputs": []
    },
    {
      "cell_type": "code",
      "metadata": {
        "id": "XOqVQjJhbhQy"
      },
      "source": [
        "country = \"UK\""
      ],
      "execution_count": null,
      "outputs": []
    },
    {
      "cell_type": "code",
      "metadata": {
        "id": "C2g4YQHMbrgN"
      },
      "source": [
        "countries.index(\"UK\")"
      ],
      "execution_count": null,
      "outputs": []
    },
    {
      "cell_type": "code",
      "metadata": {
        "id": "lP_CVWB_b8l5"
      },
      "source": [
        "capital_cities[countries.index(\"UK\")]"
      ],
      "execution_count": null,
      "outputs": []
    },
    {
      "cell_type": "code",
      "metadata": {
        "id": "Zlb4vDKrcFvM"
      },
      "source": [
        "capitals = {\"Sri Lanka\":\"Colombo\", \"UK\":\"London\", \"Iceland\":\"Reykjavik\", \"Bangla Desh\": \"Dhaka\"}"
      ],
      "execution_count": null,
      "outputs": []
    },
    {
      "cell_type": "code",
      "metadata": {
        "id": "TrICRY29cktU"
      },
      "source": [
        "capitals[\"UK\"]"
      ],
      "execution_count": null,
      "outputs": []
    },
    {
      "cell_type": "code",
      "metadata": {
        "id": "LAVybQu7cnGs"
      },
      "source": [
        "capitals.get(\"UK\")"
      ],
      "execution_count": null,
      "outputs": []
    },
    {
      "cell_type": "code",
      "metadata": {
        "id": "5PBdztdpc0go"
      },
      "source": [
        "capitals.keys()"
      ],
      "execution_count": null,
      "outputs": []
    },
    {
      "cell_type": "code",
      "metadata": {
        "id": "XacYDgnic5WP"
      },
      "source": [
        "capitals.values()"
      ],
      "execution_count": null,
      "outputs": []
    },
    {
      "cell_type": "code",
      "metadata": {
        "id": "6gmPzOgEc8QU"
      },
      "source": [
        "capitals.items()"
      ],
      "execution_count": null,
      "outputs": []
    },
    {
      "cell_type": "code",
      "metadata": {
        "id": "XVHr4DL3c_oY"
      },
      "source": [
        "\"Sri Lanka\" in capitals"
      ],
      "execution_count": null,
      "outputs": []
    },
    {
      "cell_type": "code",
      "metadata": {
        "id": "U6PJM8_jdFl_"
      },
      "source": [
        "\"Colombo\" in capitals"
      ],
      "execution_count": null,
      "outputs": []
    },
    {
      "cell_type": "code",
      "metadata": {
        "id": "ey5kV0cldMhs"
      },
      "source": [
        "capitals[\"India\"] = \"Delhi\""
      ],
      "execution_count": null,
      "outputs": []
    },
    {
      "cell_type": "code",
      "metadata": {
        "id": "sbJeMNuIdR6u"
      },
      "source": [
        "capitals"
      ],
      "execution_count": null,
      "outputs": []
    },
    {
      "cell_type": "code",
      "metadata": {
        "id": "i2cHEErLdVR0"
      },
      "source": [
        "for key in sorted(capitals.keys()):\n",
        "    print(key, capitals[key])"
      ],
      "execution_count": null,
      "outputs": []
    },
    {
      "cell_type": "code",
      "metadata": {
        "id": "ic8EAtCTd2cX"
      },
      "source": [
        "capitals[\"India\"] = \"New Delhi\""
      ],
      "execution_count": null,
      "outputs": []
    },
    {
      "cell_type": "code",
      "metadata": {
        "id": "evLdAUE4d8y5"
      },
      "source": [
        "capitals"
      ],
      "execution_count": null,
      "outputs": []
    },
    {
      "cell_type": "code",
      "metadata": {
        "id": "pLYQ1IXcd-eS"
      },
      "source": [
        "capitals[\"Iceland\"] = None"
      ],
      "execution_count": null,
      "outputs": []
    },
    {
      "cell_type": "code",
      "metadata": {
        "id": "XmNdTKyrfXTF"
      },
      "source": [
        "capitals"
      ],
      "execution_count": null,
      "outputs": []
    },
    {
      "cell_type": "code",
      "metadata": {
        "id": "w8cxrAi9fYM8"
      },
      "source": [
        "capitals[\"Iceland\"] = \"Reykjavik\""
      ],
      "execution_count": null,
      "outputs": []
    },
    {
      "cell_type": "code",
      "metadata": {
        "id": "575Z9SzPff8S"
      },
      "source": [
        "sw = \"A long time ago, in a galaxy far far away ...\""
      ],
      "execution_count": null,
      "outputs": []
    },
    {
      "cell_type": "code",
      "metadata": {
        "id": "vOrCCkTPglSR"
      },
      "source": [
        "freq = {}"
      ],
      "execution_count": null,
      "outputs": []
    },
    {
      "cell_type": "code",
      "metadata": {
        "id": "wKuSF9sjhbwY"
      },
      "source": [
        "for ch in sw:\n",
        "    ch = ch.lower()\n",
        "    if ch in freq:\n",
        "        freq[ch] += 1\n",
        "    else:\n",
        "        freq[ch] = 1"
      ],
      "execution_count": null,
      "outputs": []
    },
    {
      "cell_type": "code",
      "metadata": {
        "id": "xKOsGN05htUy"
      },
      "source": [
        "for ch in sw:\n",
        "    ch = ch.lower()\n",
        "    if ch not in freq:\n",
        "        freq[ch] = 0\n",
        "    freq[ch] += 1"
      ],
      "execution_count": null,
      "outputs": []
    },
    {
      "cell_type": "code",
      "metadata": {
        "id": "qI_tJKEth8Ra"
      },
      "source": [
        "a = 78"
      ],
      "execution_count": null,
      "outputs": []
    },
    {
      "cell_type": "code",
      "metadata": {
        "id": "1-eU-MOYlfNf"
      },
      "source": [
        "a = b + 7"
      ],
      "execution_count": null,
      "outputs": []
    },
    {
      "cell_type": "code",
      "metadata": {
        "id": "VN7ODG5Jlg4O"
      },
      "source": [
        "import collections\n",
        "freq = collections.defaultdict(int)"
      ],
      "execution_count": null,
      "outputs": []
    },
    {
      "cell_type": "code",
      "metadata": {
        "id": "gXj9yL2ym3MX"
      },
      "source": [
        "for ch in sw:\n",
        "    freq[ch.lower()] += 1"
      ],
      "execution_count": null,
      "outputs": []
    },
    {
      "cell_type": "code",
      "metadata": {
        "id": "7xun6pChnHPU"
      },
      "source": [
        "freq"
      ],
      "execution_count": null,
      "outputs": []
    },
    {
      "cell_type": "code",
      "metadata": {
        "id": "KKiWut3dnI_L"
      },
      "source": [
        "freq = collections.Counter(sw)"
      ],
      "execution_count": null,
      "outputs": []
    },
    {
      "cell_type": "code",
      "metadata": {
        "id": "-gCRAFLAoCsn"
      },
      "source": [
        "freq.items()"
      ],
      "execution_count": null,
      "outputs": []
    },
    {
      "cell_type": "code",
      "metadata": {
        "id": "F_V8Q3rjoE_b"
      },
      "source": [
        "freq.most_common(5)"
      ],
      "execution_count": null,
      "outputs": []
    },
    {
      "cell_type": "code",
      "metadata": {
        "id": "EJefOxd0oVHZ"
      },
      "source": [
        "freq.elements?"
      ],
      "execution_count": null,
      "outputs": []
    },
    {
      "cell_type": "code",
      "metadata": {
        "id": "NZ9pi5RHpqeF"
      },
      "source": [
        "words = sw.lower().split()"
      ],
      "execution_count": null,
      "outputs": []
    },
    {
      "cell_type": "code",
      "metadata": {
        "id": "Uy2ZiseHpBUy"
      },
      "source": [
        "wfreq = collections.Counter(words)"
      ],
      "execution_count": null,
      "outputs": []
    },
    {
      "cell_type": "code",
      "metadata": {
        "id": "A0eH9mqAoKaG"
      },
      "source": [
        "wfreq"
      ],
      "execution_count": null,
      "outputs": []
    },
    {
      "cell_type": "code",
      "metadata": {
        "id": "oAX3dbyrpXaf"
      },
      "source": [
        "wfreq.items()"
      ],
      "execution_count": null,
      "outputs": []
    },
    {
      "cell_type": "code",
      "metadata": {
        "id": "nK2N-qmKpZba"
      },
      "source": [
        "def num2digits(n: int) -> [int]:\n",
        "    return [int(ch) for ch in str(n)]"
      ],
      "execution_count": null,
      "outputs": []
    },
    {
      "cell_type": "code",
      "metadata": {
        "id": "grjc88zczhF8"
      },
      "source": [
        "def digits2num(ds:[int]) -> int:\n",
        "    if len(ds) == 1:\n",
        "        return ds[-1]\n",
        "    return digits2num(ds[:-1]) * 10 + ds[-1]"
      ],
      "execution_count": null,
      "outputs": []
    },
    {
      "cell_type": "code",
      "metadata": {
        "id": "NoSb4zvyzs8c"
      },
      "source": [
        "num2digits(17689)"
      ],
      "execution_count": null,
      "outputs": []
    },
    {
      "cell_type": "code",
      "metadata": {
        "id": "rewmxSsxzxB7"
      },
      "source": [
        "digits2num(num2digits(17637))"
      ],
      "execution_count": null,
      "outputs": []
    },
    {
      "cell_type": "code",
      "metadata": {
        "id": "qgedoYXYz0li"
      },
      "source": [
        "def largest(n: int) -> int:\n",
        "    return digits2num(sorted(num2digits(n), reverse=True))\n",
        "def smallest(n: int) -> int:\n",
        "    return digits2num(sorted(num2digits(n)))\n",
        "def next_kap(n: int) -> int:\n",
        "    return largest(n) - smallest(n)"
      ],
      "execution_count": null,
      "outputs": []
    },
    {
      "cell_type": "code",
      "metadata": {
        "id": "2e1STx4v0N7U"
      },
      "source": [
        "next_kap(next_kap(1789))"
      ],
      "execution_count": null,
      "outputs": []
    },
    {
      "cell_type": "code",
      "metadata": {
        "id": "7ncHmx270RIl"
      },
      "source": [
        "def fixed_point(f, n: int) -> [int]:\n",
        "    if n == f(n):\n",
        "        return [n]\n",
        "    return [n] + fixed_point(f, f(n))"
      ],
      "execution_count": null,
      "outputs": []
    },
    {
      "cell_type": "code",
      "metadata": {
        "id": "78epVcNF0j2f"
      },
      "source": [
        "fixed_point(next_kap, 8793)"
      ],
      "execution_count": null,
      "outputs": []
    },
    {
      "cell_type": "code",
      "metadata": {
        "id": "P-G-XO-Z0nza"
      },
      "source": [
        "fixed_point(next_kap, 1000)"
      ],
      "execution_count": null,
      "outputs": []
    },
    {
      "cell_type": "code",
      "metadata": {
        "id": "mIdj1NPI3OgB"
      },
      "source": [
        "a = ['cloud', 'spare','could', 'pears', 'taste', 'state', 'pares', 'spear']"
      ],
      "execution_count": null,
      "outputs": []
    },
    {
      "cell_type": "code",
      "metadata": {
        "id": "jAScsyOn6Js0"
      },
      "source": [
        "o = [['cloud', 'could'], ['spare', 'spear', 'pares', 'pears'], ['taste', 'state']]"
      ],
      "execution_count": null,
      "outputs": []
    },
    {
      "cell_type": "code",
      "metadata": {
        "id": "OkJc0SHa9-Rz"
      },
      "source": [
        "anagrams = {}\n",
        "for word in a:\n",
        "    key = ''.join(sorted(word))\n",
        "    if key not in anagrams:\n",
        "        anagrams[key] = []\n",
        "    anagrams[key].append(word)\n"
      ],
      "execution_count": null,
      "outputs": []
    },
    {
      "cell_type": "code",
      "metadata": {
        "id": "jnBAieQ1-tvw"
      },
      "source": [
        "list(anagrams.values())"
      ],
      "execution_count": null,
      "outputs": []
    },
    {
      "cell_type": "code",
      "metadata": {
        "id": "LRsOrtHI-4mV"
      },
      "source": [
        "import collections\n",
        "anagrams = collections.defaultdict(list)\n",
        "for word in a:\n",
        "    key = ''.join(sorted(word))\n",
        "    anagrams[key].append(word)\n"
      ],
      "execution_count": null,
      "outputs": []
    },
    {
      "cell_type": "code",
      "metadata": {
        "id": "LG_qMOdI_q8r"
      },
      "source": [
        "[_ for _ in anagrams.values()]"
      ],
      "execution_count": null,
      "outputs": []
    },
    {
      "cell_type": "code",
      "metadata": {
        "id": "TE7bUMhk_6vZ"
      },
      "source": [
        "a"
      ],
      "execution_count": null,
      "outputs": []
    },
    {
      "cell_type": "code",
      "metadata": {
        "id": "fUGMcTIlCA3M"
      },
      "source": [
        "sorted(a, key=sorted)"
      ],
      "execution_count": null,
      "outputs": []
    },
    {
      "cell_type": "code",
      "metadata": {
        "id": "QgZXKXjRA1Qi"
      },
      "source": [
        "clusters = sorted(a, key=sorted)"
      ],
      "execution_count": null,
      "outputs": []
    },
    {
      "cell_type": "code",
      "metadata": {
        "id": "TDcNNK4xBhcA"
      },
      "source": [
        "import itertools"
      ],
      "execution_count": null,
      "outputs": []
    },
    {
      "cell_type": "code",
      "metadata": {
        "id": "rnyff5LFB7qD"
      },
      "source": [
        "list(itertools.groupby(clusters, sorted))"
      ],
      "execution_count": null,
      "outputs": []
    },
    {
      "cell_type": "code",
      "metadata": {
        "id": "0R00h3FDCL_L"
      },
      "source": [
        "for _, anags in itertools.groupby(clusters, sorted):\n",
        "    print(list(anags))"
      ],
      "execution_count": null,
      "outputs": []
    },
    {
      "cell_type": "code",
      "metadata": {
        "id": "8Xlel_deCZFw"
      },
      "source": [
        "aa = a + ['spears']"
      ],
      "execution_count": null,
      "outputs": []
    },
    {
      "cell_type": "code",
      "metadata": {
        "id": "WB5kMtDwCsdS"
      },
      "source": [
        "cluster2 = sorted(aa, key=sorted)"
      ],
      "execution_count": null,
      "outputs": []
    },
    {
      "cell_type": "code",
      "metadata": {
        "id": "h6I3Aoj1CzHF"
      },
      "source": [
        "for _, anags in itertools.groupby(cluster2, sorted):\n",
        "    print(list(anags))"
      ],
      "execution_count": null,
      "outputs": []
    },
    {
      "cell_type": "code",
      "metadata": {
        "id": "XMFmd_i9C9zC"
      },
      "source": [
        "sorted?\n"
      ],
      "execution_count": null,
      "outputs": []
    },
    {
      "cell_type": "code",
      "metadata": {
        "id": "1lWdMIyUDeUP"
      },
      "source": [
        "a = [\"a\", \"P\", 'b']"
      ],
      "execution_count": null,
      "outputs": []
    },
    {
      "cell_type": "code",
      "metadata": {
        "id": "4hX4j4xkDoHp"
      },
      "source": [
        "sorted(a)"
      ],
      "execution_count": null,
      "outputs": []
    },
    {
      "cell_type": "code",
      "metadata": {
        "id": "PZW9J-DCDqPd"
      },
      "source": [
        "sorted(a, key=lambda x: x.lower())"
      ],
      "execution_count": null,
      "outputs": []
    },
    {
      "cell_type": "code",
      "metadata": {
        "id": "QEmuOxJhD2fs"
      },
      "source": [
        ""
      ],
      "execution_count": null,
      "outputs": []
    }
  ]
}