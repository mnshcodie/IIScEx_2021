{
  "nbformat": 4,
  "nbformat_minor": 0,
  "metadata": {
    "colab": {
      "name": "Copy of M1_AST_02_Linear_Algebra_C.ipynb",
      "provenance": [],
      "collapsed_sections": [],
      "toc_visible": true,
      "include_colab_link": true
    },
    "kernelspec": {
      "name": "python3",
      "display_name": "Python 3"
    },
    "language_info": {
      "name": "python"
    }
  },
  "cells": [
    {
      "cell_type": "markdown",
      "metadata": {
        "id": "view-in-github",
        "colab_type": "text"
      },
      "source": [
        "<a href=\"https://colab.research.google.com/github/mnshcodie/IIScEx_2021/blob/main/M1_AST_02_Linear_Algebra_C.ipynb\" target=\"_parent\"><img src=\"https://colab.research.google.com/assets/colab-badge.svg\" alt=\"Open In Colab\"/></a>"
      ]
    },
    {
      "cell_type": "markdown",
      "metadata": {
        "id": "p4Nwm4FK3wgU"
      },
      "source": [
        "# Advanced Programme in Deep Learning (Foundations and Applications)\n",
        "## A Program by IISc and TalentSprint\n",
        "### Assignment 2: Linear Algebra"
      ]
    },
    {
      "cell_type": "markdown",
      "metadata": {
        "id": "dHj34EaN5oa5"
      },
      "source": [
        "## Learning Objectives"
      ]
    },
    {
      "cell_type": "markdown",
      "metadata": {
        "id": "-vPeurvKNAEz"
      },
      "source": [
        "At the end of the assignment, you will be able to\n",
        "\n",
        "*   understand rank of a matrix\n",
        "*   understand pseudo inverse of matrix\n",
        "*   understand vector and matrix norm\n",
        "* perform various matrix calculus operations using Python\n",
        "* implement SVD (Singular Value Decomposition) using Python\n",
        "\n"
      ]
    },
    {
      "cell_type": "markdown",
      "metadata": {
        "id": "BNLA8HiKxQhc"
      },
      "source": [
        "### Setup Steps:"
      ]
    },
    {
      "cell_type": "code",
      "metadata": {
        "id": "2YzfoPvJDiTX"
      },
      "source": [
        "#@title Please enter your registration id to start: { run: \"auto\", display-mode: \"form\" }\n",
        "Id = \"\" #@param {type:\"string\"}"
      ],
      "execution_count": null,
      "outputs": []
    },
    {
      "cell_type": "code",
      "metadata": {
        "id": "rEzlYL4CDrmE"
      },
      "source": [
        "#@title Please enter your password (normally your phone number) to continue: { run: \"auto\", display-mode: \"form\" }\n",
        "password = \"\" #@param {type:\"string\"}"
      ],
      "execution_count": null,
      "outputs": []
    },
    {
      "cell_type": "code",
      "metadata": {
        "id": "WBPPuGmBlDIN",
        "cellView": "form"
      },
      "source": [
        "#@title Run this cell to complete the setup for this Notebook\n",
        "from IPython import get_ipython\n",
        "\n",
        "ipython = get_ipython()\n",
        "  \n",
        "notebook= \"M1_AST_02_Linear_Algebra_C\" #name of the notebook\n",
        "\n",
        "def setup():\n",
        "#  ipython.magic(\"sx pip3 install torch\")  \n",
        "    from IPython.display import HTML, display\n",
        "    display(HTML('<script src=\"https://dashboard.talentsprint.com/aiml/record_ip.html?traineeId={0}&recordId={1}\"></script>'.format(getId(),submission_id)))\n",
        "    print(\"Setup completed successfully\")\n",
        "    return\n",
        "\n",
        "def submit_notebook():\n",
        "    ipython.magic(\"notebook -e \"+ notebook + \".ipynb\")\n",
        "    \n",
        "    import requests, json, base64, datetime\n",
        "\n",
        "    url = \"https://dashboard.talentsprint.com/xp/app/save_notebook_attempts\"\n",
        "    if not submission_id:\n",
        "      data = {\"id\" : getId(), \"notebook\" : notebook, \"mobile\" : getPassword()}\n",
        "      r = requests.post(url, data = data)\n",
        "      r = json.loads(r.text)\n",
        "\n",
        "      if r[\"status\"] == \"Success\":\n",
        "          return r[\"record_id\"]\n",
        "      elif \"err\" in r:        \n",
        "        print(r[\"err\"])\n",
        "        return None        \n",
        "      else:\n",
        "        print (\"Something is wrong, the notebook will not be submitted for grading\")\n",
        "        return None\n",
        "    \n",
        "    elif getAnswer1() and getAnswer2() and getComplexity() and getAdditional() and getConcepts() and getComments() and getMentorSupport():\n",
        "      f = open(notebook + \".ipynb\", \"rb\")\n",
        "      file_hash = base64.b64encode(f.read())\n",
        "\n",
        "      data = {\"complexity\" : Complexity, \"additional\" :Additional, \n",
        "              \"concepts\" : Concepts, \"record_id\" : submission_id, \n",
        "              \"answer1\" : Answer1, \"answer2\" : Answer2, \"id\" : Id, \"file_hash\" : file_hash,\n",
        "              \"notebook\" : notebook,\n",
        "              \"feedback_experiments_input\" : Comments,\n",
        "              \"feedback_mentor_support\": Mentor_support}\n",
        "      r = requests.post(url, data = data)\n",
        "      r = json.loads(r.text)\n",
        "      if \"err\" in r:        \n",
        "        print(r[\"err\"])\n",
        "        return None   \n",
        "      else:\n",
        "        print(\"Your submission is successful.\")\n",
        "        print(\"Ref Id:\", submission_id)\n",
        "        print(\"Date of submission: \", r[\"date\"])\n",
        "        print(\"Time of submission: \", r[\"time\"])\n",
        "        print(\"View your submissions: https://dlfa.iisc.talentsprint.com/notebook_submissions\")\n",
        "        #print(\"For any queries/discrepancies, please connect with mentors through the chat icon in LMS dashboard.\")\n",
        "        return submission_id\n",
        "    else: submission_id\n",
        "    \n",
        "\n",
        "def getAdditional():\n",
        "  try:\n",
        "    if not Additional: \n",
        "      raise NameError\n",
        "    else:\n",
        "      return Additional  \n",
        "  except NameError:\n",
        "    print (\"Please answer Additional Question\")\n",
        "    return None\n",
        "\n",
        "def getComplexity():\n",
        "  try:\n",
        "    if not Complexity:\n",
        "      raise NameError\n",
        "    else:\n",
        "      return Complexity\n",
        "  except NameError:\n",
        "    print (\"Please answer Complexity Question\")\n",
        "    return None\n",
        "  \n",
        "def getConcepts():\n",
        "  try:\n",
        "    if not Concepts:\n",
        "      raise NameError\n",
        "    else:\n",
        "      return Concepts\n",
        "  except NameError:\n",
        "    print (\"Please answer Concepts Question\")\n",
        "    return None\n",
        "  \n",
        "  \n",
        "# def getWalkthrough():\n",
        "#   try:\n",
        "#     if not Walkthrough:\n",
        "#       raise NameError\n",
        "#     else:\n",
        "#       return Walkthrough\n",
        "#   except NameError:\n",
        "#     print (\"Please answer Walkthrough Question\")\n",
        "#     return None\n",
        "  \n",
        "def getComments():\n",
        "  try:\n",
        "    if not Comments:\n",
        "      raise NameError\n",
        "    else:\n",
        "      return Comments\n",
        "  except NameError:\n",
        "    print (\"Please answer Comments Question\")\n",
        "    return None\n",
        "  \n",
        "\n",
        "def getMentorSupport():\n",
        "  try:\n",
        "    if not Mentor_support:\n",
        "      raise NameError\n",
        "    else:\n",
        "      return Mentor_support\n",
        "  except NameError:\n",
        "    print (\"Please answer Mentor support Question\")\n",
        "    return None\n",
        "\n",
        "def getAnswer1():\n",
        "  try:\n",
        "    if not Answer1:\n",
        "      raise NameError \n",
        "    else: \n",
        "      return Answer1\n",
        "  except NameError:\n",
        "    print (\"Please answer Question 1\")\n",
        "    return None\n",
        "\n",
        "def getAnswer2():\n",
        "  try:\n",
        "    if not Answer2:\n",
        "      raise NameError \n",
        "    else: \n",
        "      return Answer2\n",
        "  except NameError:\n",
        "    print (\"Please answer Question 2\")\n",
        "    return None\n",
        "  \n",
        "\n",
        "def getId():\n",
        "  try: \n",
        "    return Id if Id else None\n",
        "  except NameError:\n",
        "    return None\n",
        "\n",
        "def getPassword():\n",
        "  try:\n",
        "    return password if password else None\n",
        "  except NameError:\n",
        "    return None\n",
        "\n",
        "submission_id = None\n",
        "### Setup \n",
        "if getPassword() and getId():\n",
        "  submission_id = submit_notebook()\n",
        "  if submission_id:\n",
        "    setup() \n",
        "else:\n",
        "  print (\"Please complete Id and Password cells before running setup\")\n",
        "\n"
      ],
      "execution_count": null,
      "outputs": []
    },
    {
      "cell_type": "markdown",
      "metadata": {
        "id": "083wvqEfY2Xx"
      },
      "source": [
        "### Importing the required libraries"
      ]
    },
    {
      "cell_type": "code",
      "metadata": {
        "id": "UunDIGcdu8nX"
      },
      "source": [
        "import numpy as np\n",
        "import scipy\n",
        "import sympy as sym\n",
        "import matplotlib.pyplot as plt\n",
        "from sympy.abc import x, y,z\n",
        "from scipy import linalg"
      ],
      "execution_count": null,
      "outputs": []
    },
    {
      "cell_type": "markdown",
      "metadata": {
        "id": "0L6YTeFg96hT"
      },
      "source": [
        "### Rank of a Matrix\n"
      ]
    },
    {
      "cell_type": "markdown",
      "metadata": {
        "id": "nxQnd0Dg0nSQ"
      },
      "source": [
        "**Rank of a matrix**: - The rank of a matrix is defined as the maximum number of linearly independent column vectors in the matrix or the maximum number of linearly independent row vectors in the matrix.\n",
        "\n",
        "\n",
        "\n",
        "**Full Row Rank**:- If the rank of a matrix is equal to the number of row in the matrix, then matrix has a Full Row Rank.\n",
        "\n",
        "**Full Column Rank**:- If the rank of a matrix is equal to the number of columns in the matrix, then matrix has Full Column Rank.\n",
        "\n",
        "\n",
        "**Rank Deficient**:-When the rank of a matrix is less than the number of rows and columns in the matrix, then the matrix is Rank Deficient.\n",
        "\n",
        "**Uses**:-\n",
        "It is useful in understanding whether we have a chance of solving a system of linear equations or not. Further, if rank is equal to the number of variables we will be able to find a unique solution.\n"
      ]
    },
    {
      "cell_type": "markdown",
      "metadata": {
        "id": "lq90XH_07CQe"
      },
      "source": [
        "1. Create a random matrix and find the rank of it.\n",
        "\n"
      ]
    },
    {
      "cell_type": "code",
      "metadata": {
        "id": "vxQnZYWj8TwT"
      },
      "source": [
        "matrix_a = np.random.randint(10, size= (2, 4)) # creating a matrix\n",
        "rank_a = np.linalg.matrix_rank(matrix_a) # finding the rank of a matrix.\n",
        "print(\"The rank of the a matrix is :\",rank_a )"
      ],
      "execution_count": null,
      "outputs": []
    },
    {
      "cell_type": "markdown",
      "metadata": {
        "id": "_dSCC98Q_-2e"
      },
      "source": [
        "### Pseudo Inverse of Matrix\n"
      ]
    },
    {
      "cell_type": "markdown",
      "metadata": {
        "id": "K4Sq7GNvPYaq"
      },
      "source": [
        "**Pseudo Inverse of Matrix**:-Pseudo inverse is unique for all matrices whose entries are real or complex numbers.It is represented as $A^{+}$ of a matrix $A$.\n",
        "\n",
        "\n",
        "\n",
        "Let $A$ be a matrix of order m x n then the pseudo inverse of A is defined as \n",
        "*\tIf the rows are linearly independent then the pseudo inverse of A is:\n",
        "$A^{+}$  = $(A A^{T})^{-1}$. $A^{T}$ \n",
        "*\tIf the columns are linearly independent, then the pseudo inverse of A is:\n",
        "$A^{+}$ = $A^{+}$.$(A A^{+})^{-1}$\n",
        "*\tIf A is rank deficient, then the pseudo inverse of A is defined as \n",
        "$A^{+}$ = $(UΣV^{T})^{-1}=(V^{T})^{-1}Σ^{-1}U^{-1}=V^{-1}ΣU^{T}$\n"
      ]
    },
    {
      "cell_type": "markdown",
      "metadata": {
        "id": "xnY6JgUbSkq_"
      },
      "source": [
        "\n",
        "Pseudo inverse of a matrix is used:\n",
        "1.   To solve Linear Equations using the Moore-Penrose Pseudoinverse.\n",
        "2.   For overdetermined systems(where an equation has no perfect solution but by using this we can get approximate solution)\n",
        "3.   To find least square solution in the triangle center.\n",
        "4.   To rearrange the original data from the decomposed data.\n"
      ]
    },
    {
      "cell_type": "markdown",
      "metadata": {
        "id": "iKfw0UWl_Iyz"
      },
      "source": [
        "1. Solve the matrix ${A}=\\begin{bmatrix}\n",
        "    7 & 8\\\\\\\\\n",
        "    8 & 9\\\\\\\\\n",
        "    6 & 5\n",
        "\\end{bmatrix}$ by the pseudo inverse formula and verify the result.\n",
        "\n",
        "  To know more about pueudo inverse operations click [here](https://numpy.org/doc/stable/reference/generated/numpy.linalg.pinv.html)\n"
      ]
    },
    {
      "cell_type": "code",
      "metadata": {
        "id": "7_Oc3H7U-31J"
      },
      "source": [
        "A = np.array([[7, 8], [8, 9], [6, 5]]) # creating the matrix\n",
        "\n",
        "U, Sigma, V = np.linalg.svd(A) # implementing the singular vector decomposition\n",
        "\n",
        "Sigma_plus = np.zeros((A.shape[0], A.shape[1])).T # creating a matrix of shape transpose(matrix A)\n",
        "\n",
        "Sigma_plus[:Sigma.shape[0], :Sigma.shape[0]] = np.linalg.inv(np.diag(Sigma)) # Creating the inverse of matrix Sigma\n",
        "\n",
        "A_plus = V.T.dot(Sigma_plus).dot(U.T) # creating a pseudo inverse A \n",
        "print(\"The pseudo invers of matrix A by calculating through formula is\\n\",A_plus)\n",
        "print(\"The pseudo inverse of matrix A by function is \\n\",np.linalg.pinv(A))\n",
        "if np.all(np.linalg.pinv(A)) == np.all(A_plus): \n",
        "  print(\"Your procedure is correct to find the pseudo inverse matrix\")\n",
        "else:\n",
        "  print(\"Something went wrong in the calculation\")"
      ],
      "execution_count": null,
      "outputs": []
    },
    {
      "cell_type": "markdown",
      "metadata": {
        "id": "LGaGsjjIuAQD"
      },
      "source": [
        "2. Solve the following equation by using Pseudo inverse method:\n",
        "\n",
        "  2x + y =2 \n",
        "\n",
        "  4x - y = -8\n",
        "\n",
        "  x + y = 2\n",
        "\n",
        "  Hint: To solve the equation we need to follow the linear equation method i.e. $Ax=y$. \n",
        "  \n",
        "  According to the above equations our matrices would be:\n",
        "  \n",
        "  ${A}=  \\begin{bmatrix}\n",
        "    2 &  1 \\\\\\\\\n",
        "    4 & -1 \\\\\\\\\n",
        "    1 &  1\n",
        "\\end{bmatrix}  {x}=\n",
        "\\begin{bmatrix}\n",
        "    x_1 \\\\\\\\\n",
        "    x_2\n",
        "\\end{bmatrix}  {y}=\n",
        " \\begin{bmatrix}\n",
        "    2 \\\\\\\\\n",
        "  -8 \\\\\\\\\n",
        "    2\n",
        "\\end{bmatrix}$\n"
      ]
    },
    {
      "cell_type": "code",
      "metadata": {
        "id": "8YVsrBQptzWo"
      },
      "source": [
        "#plotting the equations \n",
        "x = np.linspace(-5, 5, 1000)\n",
        "y_1 = -2*x + 2 \n",
        "y_2 = 4*x + 8\n",
        "y_3 = -1*x + 2\n",
        "\n",
        "# plotting x and y\n",
        "plt.plot(x, y_1)\n",
        "plt.plot(x, y_2)\n",
        "plt.plot(x, y_3)\n",
        "plt.xlim(-2., 1)\n",
        "plt.ylim(1, 5)\n",
        "plt.show()"
      ],
      "execution_count": null,
      "outputs": []
    },
    {
      "cell_type": "markdown",
      "metadata": {
        "id": "mJLHIaHO4rJp"
      },
      "source": [
        "We can see that there are no solutions as the lines do not intersect with each other. Moreover, by using the pseudo-inverse method, we can get a pseudo solution. The solution obtained is an approximate solution but not an exact solution."
      ]
    },
    {
      "cell_type": "code",
      "metadata": {
        "id": "_DhY85kz40jJ"
      },
      "source": [
        "#defining a matrix\n",
        "A = np.array([[2, 1], [4, -1], [1, 1]]) \n",
        "#finding the pseudo inverse\n",
        "A_plus = np.linalg.pinv(A) \n",
        "A_plus "
      ],
      "execution_count": null,
      "outputs": []
    },
    {
      "cell_type": "code",
      "metadata": {
        "id": "dOs8b9re5Vdg"
      },
      "source": [
        "# creating the matrix b \n",
        "b = np.array([[2], [-8], [2]])\n",
        "# if we multiply pseudo inverse of A and b matrix we get a pseudo solution which might not be an exact solution \n",
        "result = A_plus.dot(b) \n",
        "result"
      ],
      "execution_count": null,
      "outputs": []
    },
    {
      "cell_type": "code",
      "metadata": {
        "id": "ziJhQBZy5hoS"
      },
      "source": [
        "# plotting the equation and the result\n",
        "plt.plot(x, y_1)\n",
        "plt.plot(x, y_2)\n",
        "plt.plot(x, y_3)\n",
        "plt.xlim(-2., 1)\n",
        "plt.ylim(1, 5)\n",
        "plt.scatter(result[0], result[1])\n",
        "plt.show()"
      ],
      "execution_count": null,
      "outputs": []
    },
    {
      "cell_type": "markdown",
      "metadata": {
        "id": "yH95wQtIwcwO"
      },
      "source": [
        "The point in the above plot is the resultant pseudo solution for the equations and we got it by using pseudo inverse method."
      ]
    },
    {
      "cell_type": "markdown",
      "metadata": {
        "id": "ifAcBflhWt6X"
      },
      "source": [
        "### Matrix and Vector Norms"
      ]
    },
    {
      "cell_type": "markdown",
      "metadata": {
        "id": "12caBznEWwx9"
      },
      "source": [
        "**Matrix Norm**: The norm of a matrix is a measure of how large its elements are. It is a way of determining the “size” of a matrix that is not necessarily related to how many rows or columns the matrix has.\n",
        "\n",
        "The norm of a square matrix A is a non-negative real number denoted $\\left \\| A \\right \\|$. There are several\n",
        "different ways of defining a matrix norm, but they all share the following properties:\n",
        "1. $\\left \\| A \\right \\|$ ≥ 0 for any square matrix A.\n",
        "2. $\\left \\| A \\right \\|$ = 0 if and only if the matrix A = 0.\n",
        "3. $\\left \\| kA \\right \\|$ = |k| $\\left \\| A \\right \\|$, for any scalar k.\n",
        "4. $\\left \\| A+B \\right \\|$ ≤ $\\left \\| A \\right \\|$ + $\\left \\| B \\right \\|$.\n",
        "5. $\\left \\| AB \\right \\|$ ≤ $\\left \\| A \\right \\|$ $\\left \\| B \\right \\|$.\n",
        "\n",
        "Below is the formula to calculate 1 norm of a matrix:\n",
        "\n",
        "$\\left \\| A \\right \\|_{1} = \\max_{1≤j≤n} (\\sum_{i}^{n} \\left | a_{ij} \\right |)$\n",
        "\n",
        "By using this formula we compute the sum of absolute values down each column\n",
        "and then take the largest number.\n",
        "\n"
      ]
    },
    {
      "cell_type": "markdown",
      "metadata": {
        "id": "6jRwosg2W0JJ"
      },
      "source": [
        "1. Calculate the 1-norm of a matrix $A =\\begin{pmatrix}\n",
        "    5 & -4 & 2\\\\\n",
        "    -1 & 2 & 3\\\\\n",
        "    -2 & 1 & 0\\\\\n",
        "   \\end{pmatrix}$. "
      ]
    },
    {
      "cell_type": "code",
      "metadata": {
        "id": "zZRixut5W1UR"
      },
      "source": [
        "# Declaring a matrix\n",
        "A = np.array([[ 5, -4, 2],\n",
        "\t\t\t[-1, 2, 3],\n",
        "      [-2,1,0]])\n",
        "# Norm of a matrix\n",
        "matrix_norm = np.linalg.norm(A)\n",
        "print(\"Norm of a Matrix A is:\",matrix_norm)"
      ],
      "execution_count": null,
      "outputs": []
    },
    {
      "cell_type": "markdown",
      "metadata": {
        "id": "2BG2YUhje5ML"
      },
      "source": [
        "**Vector Norm**: The norm of a vector in vector space is a real non-negative value representing intuitively the length, size, or magnitude of the vector.\n",
        "\n",
        "If $\\vec{u} ∈\\mathbb{R}^{n}$, then the Norm or Magnitude of $\\vec{u}$ denoted $\\left \\| u \\right \\|$ is defined as the length or magnitude of the vector and can be calculated using the formula: \n",
        "\n",
        "$\\left \\| u \\right \\|= \\sqrt{u_{1}^{2}+u_{2}^{2}+...+u_{n}^{2}}$."
      ]
    },
    {
      "cell_type": "markdown",
      "metadata": {
        "id": "x-AMuRwJY8NY"
      },
      "source": [
        "1. Compute the norm of a given vector $A = [5,12]$."
      ]
    },
    {
      "cell_type": "code",
      "metadata": {
        "id": "LOb6OM5_Y9JY"
      },
      "source": [
        "# Declaring a matrix\n",
        "vector = np.array([5,12])\n",
        "# Norm of a vector\n",
        "vector_norm = np.linalg.norm(vector)\n",
        "print(\"Vector norm:\",vector_norm)"
      ],
      "execution_count": null,
      "outputs": []
    },
    {
      "cell_type": "markdown",
      "metadata": {
        "id": "ufOQtLlEm0Ai"
      },
      "source": [
        "### Matrix Calculus\n",
        "\n"
      ]
    },
    {
      "cell_type": "markdown",
      "metadata": {
        "id": "5hqlLxHdyL8Q"
      },
      "source": [
        "### 1. Dervatives w.r.t. Scalar"
      ]
    },
    {
      "cell_type": "markdown",
      "metadata": {
        "id": "-PjTs_X1nEUK"
      },
      "source": [
        "#### Scalar w.r.t Scalar\n",
        "\n",
        "\n",
        "\n"
      ]
    },
    {
      "cell_type": "markdown",
      "metadata": {
        "id": "Yz4DE0pFeHCd"
      },
      "source": [
        "1. Differentiate the below given scalar function $f(x)$ w.r.t. to a scalar $x$.\n",
        "\n",
        "  $ f(x) = \\cos x + \\sin x + x^2 $"
      ]
    },
    {
      "cell_type": "code",
      "metadata": {
        "id": "2zzf-9PNlVu_"
      },
      "source": [
        "# Declaring symbols that can be used as variables in the function\n",
        "x = sym.Symbol('x')\n",
        "# Defining a function 'f'\n",
        "f = sym.Function('f')\n",
        "f = sym.cos(x) + sym.sin(x) + x*x\n",
        "# Derivative of the scalar function w.r.t. a scalar x using the 'diff' function of Sympy\n",
        "ss_result = sym.diff(f,x)\n",
        "ss_result"
      ],
      "execution_count": null,
      "outputs": []
    },
    {
      "cell_type": "markdown",
      "metadata": {
        "id": "55g8OVbanL3N"
      },
      "source": [
        "#### Vector w.r.t. Scalar"
      ]
    },
    {
      "cell_type": "markdown",
      "metadata": {
        "id": "vYgGRTb8lXko"
      },
      "source": [
        "2. Differentiate the given vector $\\vec{y}^{\\,} = \\begin{pmatrix}\n",
        "    x^2 + 2x \\\\\n",
        "    sinx \\\\\n",
        "    cosx \\\\\n",
        "   \\end{pmatrix}$ w.r.t. a scalar $x$.\n",
        "\n",
        "  Note: $Vector$ is a special case of $Matrix$\n",
        "\n",
        "\n"
      ]
    },
    {
      "cell_type": "code",
      "metadata": {
        "id": "nUookz0w9Dcl"
      },
      "source": [
        "# Create a vector using Matrix\n",
        "y_vector =  sym.Matrix([[x*x+2*x],[sym.sin(x)],[sym.cos(x)]]) \n",
        "# Differentiating y_vector w.r.t. a scalar x using diff() function\n",
        "vs_result = y_vector.diff(x)\n",
        "vs_result"
      ],
      "execution_count": null,
      "outputs": []
    },
    {
      "cell_type": "markdown",
      "metadata": {
        "id": "eaayllM0nWJC"
      },
      "source": [
        "#### Matrix w.r.t. Scalar"
      ]
    },
    {
      "cell_type": "markdown",
      "metadata": {
        "id": "azXztOk_t-yv"
      },
      "source": [
        "3. Find the derivative of the matrix $M = \\begin{pmatrix}\n",
        "    x^2 + 2x & cos(x)\\\\\n",
        "    sin(x) & x^3+2x\\\\\n",
        "   \\end{pmatrix}$ w.r.t. a scalar $x$.\n",
        "\n",
        "\n"
      ]
    },
    {
      "cell_type": "code",
      "metadata": {
        "id": "9rkw6hfeyBNX"
      },
      "source": [
        "# Defining a matrix with the given values\n",
        "M =  sym.Matrix([[x*x+2*x,sym.cos(x)],[sym.sin(x),x*x*x+2*x]])\n",
        "# Differentiate the matrix M w.r.t. a scalar x\n",
        "ms_result = M.diff(x)\n",
        "ms_result"
      ],
      "execution_count": null,
      "outputs": []
    },
    {
      "cell_type": "markdown",
      "metadata": {
        "id": "8eIkLrJQx-ei"
      },
      "source": [
        "Before moving ahead with more questions on derivatives w.r.t. vectors and matrices, you should have knowledge of \"Partial Derivatives\", \"Jacobian Matrix\" and \"Numerator Layout Notation\". "
      ]
    },
    {
      "cell_type": "markdown",
      "metadata": {
        "id": "n47lC4rO1QEd"
      },
      "source": [
        "### Partial Derivatives"
      ]
    },
    {
      "cell_type": "markdown",
      "metadata": {
        "id": "historical-optics"
      },
      "source": [
        "Let us consider a function $f(x,y) = x^2 + y^2$ We can take a derivative of the changes in the function with respect to either x or y. We call these derivatives with respect to one variable partial derivatives. Let's give this a try by taking the derivative of $f(x,y)$ with respect to x. We write this partial derivative as follows.\n",
        "\n",
        "$$\\frac{\\partial f(x,y)}{\\partial x} = \\frac{\\partial (x^2 + y^2)}{\\partial x}$$\n",
        "\n",
        "Since $f(x,y)$ is the sum of several simpler functions we need to take the partial derivative of each of these and sum the result. The first two parts are easy. $\\frac{\\partial x^2}{\\partial x} = 2x$\n",
        "Notice that we are following the usual rules of differentiation for any function of x here.\n",
        "\n",
        "Now we need to take the partial derivative of the last part of $f(x,y)$, which does not depend on x at all. In these case we get the following $\\frac{\\partial y^2}{\\partial x} = 0$\n",
        "Now we can add up the parts to get the complete partail derivative of $f(x,y)$.\n",
        "\n",
        "$$\\frac{\\partial f(x,y)}{\\partial x} = 2x + 0 = 2x$$\n",
        "We can also take the partial derivative of $f(x,y)$ with respect to y. The process proceeds in the following manner $\\frac{\\partial f(x,y)}{\\partial y} = 0 + 2y = 2y$"
      ]
    },
    {
      "cell_type": "markdown",
      "metadata": {
        "id": "accredited-jewel"
      },
      "source": [
        "### Jacobian Matrix"
      ]
    },
    {
      "cell_type": "markdown",
      "metadata": {
        "id": "adequate-retail"
      },
      "source": [
        "To test for functional dependence (both linear and non linear equations) between different equations we use Jacobian determinant shown by |j|. The Jacobian matrix is the first order derivatives of a vector valued function. Vector valued functions are defined as $f: \\mathbb{R}^n \\to \\mathbb{R}^m$.\n",
        "\n",
        "Given $x \\in \\mathbb{R}^n$ and $f_j : \\mathbb{R}^n \\to \\mathbb{R}$ we have\n",
        "\n",
        "$$f(x) = \\begin{bmatrix}\n",
        "    f_1(x) \\\\\n",
        "    f_2(x) \\\\\n",
        "    \\vdots \\\\\n",
        "    f_m(x)\n",
        "\\end{bmatrix}$$\n",
        " \n",
        " We could then define the jaccobian  as \n",
        " \n",
        " $$J(x) = \\begin{bmatrix}\n",
        "    \\frac{\\partial f_1}{\\partial x_1} & \\frac{\\partial f_1}{\\partial x_2}  & \\dots  & \\frac{\\partial f_1}{\\partial x_n} \\\\\n",
        "    \\frac{\\partial f_2}{\\partial x_1} & \\frac{\\partial f_2}{\\partial x_2}  & \\dots  & \\frac{\\partial f_2}{\\partial x_n}  \\\\\n",
        "    \\vdots & \\vdots & \\ddots & \\vdots \\\\\n",
        "    \\frac{\\partial f_m}{\\partial x_1} & \\frac{\\partial f_m}{\\partial x_2}  & \\dots  & \\frac{\\partial f_m}{\\partial x_n} \n",
        "\\end{bmatrix} $$\n",
        " \n",
        "Hence each row represents the derivative of a real valued function with input vectors. Note that using shape convention we must reshape that to have the same output as the vector input. \n",
        "\n",
        "Let's find the derviate of function $f(x, y) = x + sin(y) $ with respect to x and y"
      ]
    },
    {
      "cell_type": "code",
      "metadata": {
        "id": "micro-gazette"
      },
      "source": [
        "x, y = sym.symbols(\"x, y\") # declaring x and y as symbols\n",
        "f = x + sym.sin(y) # Defining the function f(x, y)\n",
        "print(f)"
      ],
      "execution_count": null,
      "outputs": []
    },
    {
      "cell_type": "code",
      "metadata": {
        "id": "protective-bosnia"
      },
      "source": [
        "fx = f.diff(x) # Derivate w.r.t to 'x'\n",
        "fy = f.diff(y) # Derivate w.r.t to 'y'"
      ],
      "execution_count": null,
      "outputs": []
    },
    {
      "cell_type": "markdown",
      "metadata": {
        "id": "liberal-shower"
      },
      "source": [
        "If we organize these partials into a horizontal vector, we get the gradient of f(x,y), or $\\Delta$ f(x,y):\n",
        "\n",
        "$ \\Delta f(x,y)  = [\\frac{\\partial f(x,y)}{\\partial x}, \\frac{\\partial f(x,y)}{\\partial y}] = [1, cos(y)] $"
      ]
    },
    {
      "cell_type": "code",
      "metadata": {
        "id": "meaning-puzzle"
      },
      "source": [
        "gradientfxy = [fx, fy]\n",
        "print(gradientfxy)"
      ],
      "execution_count": null,
      "outputs": []
    },
    {
      "cell_type": "markdown",
      "metadata": {
        "id": "fatty-courage"
      },
      "source": [
        "Now let's find the derviate of function $g(x, y) = sin(x) + y $ with respect to x and y"
      ]
    },
    {
      "cell_type": "code",
      "metadata": {
        "id": "noble-removal"
      },
      "source": [
        "g = sym.sin(x) + y # Defining the function g(x, y)\n",
        "print(g)"
      ],
      "execution_count": null,
      "outputs": []
    },
    {
      "cell_type": "code",
      "metadata": {
        "id": "shaped-integrity"
      },
      "source": [
        "gx = g.diff(x) # Derivate w.r.t to 'x'\n",
        "gy = g.diff(y) # Derivate w.r.t to 'y'"
      ],
      "execution_count": null,
      "outputs": []
    },
    {
      "cell_type": "markdown",
      "metadata": {
        "id": "knowing-engineering"
      },
      "source": [
        "If we organize these partials into a horizontal vector, we get the gradient of g(x,y), or  Δ  g(x,y):\n",
        "\n",
        "$ \\Delta g(x,y)  = [\\frac{\\partial g(x,y)}{\\partial x}, \\frac{\\partial g(x,y)}{\\partial y}] = [cos(x), 1] $"
      ]
    },
    {
      "cell_type": "code",
      "metadata": {
        "id": "framed-auckland"
      },
      "source": [
        "gradientgxy = [gx, gy]\n",
        "print(gradientgxy)"
      ],
      "execution_count": null,
      "outputs": []
    },
    {
      "cell_type": "markdown",
      "metadata": {
        "id": "spatial-bedroom"
      },
      "source": [
        "If we organize the gradients of *f(x, y) and g(x, y)* into a single matrix, we move from vector calculus into matrix calculus. This matrix, and organization of the gradients of multiple functions with multiple variables, is known as the Jacobian matrix.\n",
        "\n",
        "$ J = \\begin{bmatrix}\n",
        "\\Delta f(x,y) \\\\\n",
        "\\Delta g(x,y) \\end{bmatrix} =\\begin{bmatrix}\n",
        "\\frac{\\partial f(x,y)}{\\partial x} & \\frac{\\partial f(x,y)}{\\partial y}\\\\ \n",
        "\\frac{\\partial g(x,y)}{\\partial x} & \\frac{\\partial g(x,y)}{\\partial y}\n",
        "\\end{bmatrix} = \\begin{bmatrix}\n",
        "1 & cos(y) \\\\ \n",
        "cos(x) & 1\n",
        "\\end{bmatrix} $\n",
        "\n",
        "To know more about the Jacobian Matrix read [here](https://towardsdatascience.com/step-by-step-the-math-behind-neural-networks-d002440227fb)"
      ]
    },
    {
      "cell_type": "code",
      "metadata": {
        "id": "olive-basics"
      },
      "source": [
        "jacobianMatrix = sym.Matrix([gradientfxy, gradientgxy])\n",
        "print(jacobianMatrix) "
      ],
      "execution_count": null,
      "outputs": []
    },
    {
      "cell_type": "markdown",
      "metadata": {
        "id": "niFKRZSkAE7S"
      },
      "source": [
        "**Numerator Layout Notation**: This approach is used when we have to find the derivative w.r.t. a vector. Using Numerator Layout Notation, we find the partial derivative of a scalar, matrix, or a vector w.r.t. each element of the vector.\n",
        "<br>Suppose, there is a vector $\\vec{x}^{\\,}$ = ($x_{1}$, $x_{2}$, $x_{3}$,.... $x_{n}$) w.r.t. which we have to find the derivative of a scalar function or a matrix.\n",
        "<br>For this, we will take the partial derivative of the scalar function or a matrix w.r.t. each element of the vector as shown below:\n",
        "\n",
        "$\\frac{\\partial}{\\partial_x}$ = $\\left (\\frac{\\partial}{\\partial_(x_{1})}, \\frac{\\partial}{\\partial_(x_{2})}, \\frac{\\partial}{\\partial_(x_{3})}  \\right )$\n",
        "\n",
        "Now, let us jump on the questions to thoroughly understand derivatives w.r.t. vector \n"
      ]
    },
    {
      "cell_type": "markdown",
      "metadata": {
        "id": "TfYClyOtySLc"
      },
      "source": [
        "### 2. Dervatives w.r.t. Vector"
      ]
    },
    {
      "cell_type": "markdown",
      "metadata": {
        "id": "NTim7j2VnIrA"
      },
      "source": [
        "#### Scalar by Vector"
      ]
    },
    {
      "cell_type": "markdown",
      "metadata": {
        "id": "8fju3uJzzGmc"
      },
      "source": [
        "1. Given a scalar function $y = \\tan(x^2+yz)$. Find the derivative of $y$ w.r.t. the below vector:\n",
        "\n",
        "  $\\vec{v}^{\\,}(x,y,z)$ = $xyz$\n",
        "\n",
        "  Hint: Apply numerator layout notation where we take derivative of the function w.r.t. every element of the vector. \n",
        "\n"
      ]
    },
    {
      "cell_type": "code",
      "metadata": {
        "id": "05nU8gCjzH7j"
      },
      "source": [
        "# Declaring symbols that will be used as variables in the function\n",
        "z = sym.Symbol('z')\n",
        "# Defining a scalar function using the symbols x,y, and z\n",
        "scalar_f = sym.tan(x*x+y*z)\n",
        "# Differentiating the scalar function w.r.t. each element of the vector i.e. x, y, and z\n",
        "px, py, pz = scalar_f.diff(x),scalar_f.diff(y),scalar_f.diff(z) \n",
        "px,py,pz"
      ],
      "execution_count": null,
      "outputs": []
    },
    {
      "cell_type": "markdown",
      "metadata": {
        "id": "XyZVHDPunhhQ"
      },
      "source": [
        "#### Matrix by Vector"
      ]
    },
    {
      "cell_type": "markdown",
      "metadata": {
        "id": "ffY9qWFIzJEY"
      },
      "source": [
        "2. Find the derivative of the below matrix $M$ w.r.t. vector $\\vec{v}^{\\,}$ = $ xyz$:\n",
        "\n",
        "\\begin{pmatrix}\n",
        "    x+x^2z & cosx\\\\\n",
        "    xyz & 3y+x^2\\\\\n",
        "   \\end{pmatrix}\n",
        "\n"
      ]
    },
    {
      "cell_type": "code",
      "metadata": {
        "id": "iCFXzLKrzJ-d"
      },
      "source": [
        "# Defining matrix M\n",
        "M =  sym.Matrix([[x+x*x*z,sym.cos(x)],[x*y*z,3*y+x*x]])\n",
        "# Differentiating matrix M w.r.t. each element of the vector v that are x, y, z\n",
        "mx = M.diff(x)\n",
        "my = M.diff(y)\n",
        "mz = M.diff(z)\n",
        "# Result -> Organizing the result of partial derivatives into a single matrix\n",
        "diff_result = sym.Matrix([mx,my,mz])\n",
        "print(diff_result)"
      ],
      "execution_count": null,
      "outputs": []
    },
    {
      "cell_type": "markdown",
      "metadata": {
        "id": "jAih-GWknPiE"
      },
      "source": [
        "#### Vector by Vector"
      ]
    },
    {
      "cell_type": "markdown",
      "metadata": {
        "id": "5CYv3FVszLHq"
      },
      "source": [
        "3. Find the derivative of vector $\\vec{v}^{\\,}$ = $\\begin{pmatrix}\n",
        "   cosx+x\\\\\n",
        "    x^2+y^2\\\\\n",
        "    3x^3-z^2y\\\\\n",
        "   \\end{pmatrix}$ w.r.t. a vector $\\vec{k}^{\\,}$ = $xyz$"
      ]
    },
    {
      "cell_type": "code",
      "metadata": {
        "id": "5ArxdoYzLwtR"
      },
      "source": [
        "# Defining vector v \n",
        "v =  sym.Matrix([[sym.cos(x)+x],[x*x+y*y],[3*x*x*x-z*z*y]])\n",
        "# Vector k = xyz indicates that we have to differentiate vector v w.r.t. x, y, and z\n",
        "vx = v.diff(x)\n",
        "vy = v.diff(y)\n",
        "vz = v.diff(z) \n",
        "vx,vy,vz\n",
        "# Result -> Organizing the result of partial derivatives into a single matrix\n",
        "v_result = sym.Matrix([vx,vy,vz])\n",
        "print(v_result)"
      ],
      "execution_count": null,
      "outputs": []
    },
    {
      "cell_type": "markdown",
      "metadata": {
        "id": "0JZ2Kts5yXE7"
      },
      "source": [
        "### 3. Dervatives w.r.t. Matrix"
      ]
    },
    {
      "cell_type": "markdown",
      "metadata": {
        "id": "2J4TdZv5nTx2"
      },
      "source": [
        "#### Scalar by Matrix\n",
        "To find the derivative of a scalar w.r.t. a matrix, we have to find the derivative of the scalar function w.r.t. every element of the matrix to get the final result.\n",
        "<br> Further, let us understand with th help of a question."
      ]
    },
    {
      "cell_type": "markdown",
      "metadata": {
        "id": "f2ZFps1MzOjc"
      },
      "source": [
        "1. Find the derivative of a scalar $y = (sinx_{1}+2x_{2}+x_{3}^2+7x_{4})$ w.r.t. a matrix $M = \\begin{pmatrix}\n",
        "   x_{1} & x_{2}\\\\\n",
        "    x_{3} & x_{4}\\\\\n",
        "   \\end{pmatrix}$."
      ]
    },
    {
      "cell_type": "code",
      "metadata": {
        "id": "meVwc7hJzPdy"
      },
      "source": [
        "# Declaring the symbols for the matrix M\n",
        "x1 = sym.Symbol('x1')\n",
        "x2 = sym.Symbol('x2')\n",
        "x3 = sym.Symbol('x3')\n",
        "x4 = sym.Symbol('x4')\n",
        "# Defining a scalar function using the symbols declared above which are used as variables\n",
        "y = sym.sin(x1) + 2*x2 + x3*x3 + 7*x4\n",
        "# Defining a matrix\n",
        "M =  sym.Matrix([[x1,x2],[x3,x4]])\n",
        "# Differentiation of scalar function w.r.t. every element of the matrix \n",
        "dx1 = y.diff(x1)\n",
        "dx2 = y.diff(x2)\n",
        "dx3 = y.diff(x3)\n",
        "dx4 = y.diff(x4)\n",
        "# Organizing the result of partial derivatives into a single matrix\n",
        "d_result = sym.Matrix([[dx1,dx2],[dx3,dx4]])\n",
        "d_result"
      ],
      "execution_count": null,
      "outputs": []
    },
    {
      "cell_type": "markdown",
      "metadata": {
        "id": "873EcFKOnYYH"
      },
      "source": [
        "#### Matrix by Matrix\n",
        "Here, we have to find the derivative of the given matrix w.r.t. each element of the matrix by which we have to differentiate.\n",
        "<br> Let us solve a question to understand derivative of a matrix wr.r.t. a matrix."
      ]
    },
    {
      "cell_type": "markdown",
      "metadata": {
        "id": "vYOXCqCxzQWT"
      },
      "source": [
        "2. Find the derivative of a matrix $A$ = $\\begin{pmatrix}\n",
        "   x_{1}^2+x_{2}^2+x_{2} & x_{2}^2+x_{4}^2\\\\\n",
        "    sinx_{2}+x_{3}^2 & x_{1}+x_{3}+x_{4}\\\\\n",
        "   \\end{pmatrix}$  w.r.t. a matrix $M = \\begin{pmatrix}\n",
        "   x_{1} & x_{2}\\\\\n",
        "    x_{3} & x_{4}\\\\\n",
        "   \\end{pmatrix}$."
      ]
    },
    {
      "cell_type": "code",
      "metadata": {
        "id": "0Sd4Ct_bzREZ"
      },
      "source": [
        "# Defining matrix A\n",
        "A =  sym.Matrix([[x1*x1+x2*x2+x2,x2*x2+x4*x4],[sym.sin(x2)+x3*x3,x1+x3+x4]])\n",
        "# Defining matrix M\n",
        "M = sym.Matrix([[x1,x2],[x3,x4]])\n",
        "# Differentiating matrix A w.r.t. each element of matrix M\n",
        "dx1 = A.diff(x1)\n",
        "dx2 = A.diff(x2)\n",
        "dx3 = A.diff(x3)\n",
        "dx4 = A.diff(x4)\n",
        "# Organizing the result of partial derivatives into a single matrix\n",
        "mm_result = sym.Matrix([[dx1,dx2],[dx3,dx4]])\n",
        "mm_result"
      ],
      "execution_count": null,
      "outputs": []
    },
    {
      "cell_type": "markdown",
      "metadata": {
        "id": "me104IsQncbv"
      },
      "source": [
        "#### Vector by Matrix\n",
        "As vector is a special case of matrix, so, we will consider the vector as a matrix while finding the derivative using Python. "
      ]
    },
    {
      "cell_type": "markdown",
      "metadata": {
        "id": "c30Ux9TvzSTI"
      },
      "source": [
        "3. Find the derivative of vector $\\vec{m}^{\\,}$ = $\\begin{pmatrix}\n",
        "   sinx_{1}+x_{2}\\\\\n",
        "    x_{3}^2+x_{2}^2\\\\\n",
        "    2x_{2}+x_{4}\\\\\n",
        "   \\end{pmatrix}$ w.r.t. the matrix $M = \\begin{pmatrix}\n",
        "   x_{1} & x_{2}\\\\\n",
        "    x_{3} & x_{4}\\\\\n",
        "   \\end{pmatrix}$."
      ]
    },
    {
      "cell_type": "code",
      "metadata": {
        "id": "i-ih6uvHzTN4"
      },
      "source": [
        "# Defining vector v_new\n",
        "v_new =  sym.Matrix([sym.sin(x1)+x2,x3*x3+x2*x2,2*x2+x4])\n",
        "# Defining matrix M_new\n",
        "M_new = sym.Matrix([[x1,x2],[x3,x4]])\n",
        "# Differentiating vector v_new w.r.t. each element of matrix M_new\n",
        "dx1 = v_new.diff(x1)\n",
        "dx2 = v_new.diff(x2)\n",
        "dx3 = v_new.diff(x3)\n",
        "dx4 = v_new.diff(x4)\n",
        "# Organizing the result of partial derivatives into a single matrix\n",
        "vm_result = sym.Matrix([[dx1,dx2],[dx3,dx4]])\n",
        "vm_result"
      ],
      "execution_count": null,
      "outputs": []
    },
    {
      "cell_type": "markdown",
      "metadata": {
        "id": "2Ff9gSeCbS5t"
      },
      "source": [
        "### Singular Value Decomposition"
      ]
    },
    {
      "cell_type": "markdown",
      "metadata": {
        "id": "HDeITEKS5klR"
      },
      "source": [
        "Singular value decomposition (SVD) is a technique for splitting a structure(matrix) into a collection of linearly independent components that is both."
      ]
    },
    {
      "cell_type": "markdown",
      "metadata": {
        "id": "luVmsXlfbaKz"
      },
      "source": [
        "Steps to follow for Singular Value Decomposition\n",
        "\n",
        "  A. Factorize a matrix using SVD \n",
        "\n",
        "  B. Reconstruct the original matrix"
      ]
    },
    {
      "cell_type": "markdown",
      "metadata": {
        "id": "l4Wv5rDZbZ0_"
      },
      "source": [
        "1. Create an array of 2x3 matrix and apply singular value decompostition on it."
      ]
    },
    {
      "cell_type": "code",
      "metadata": {
        "id": "cglhs8lrbYic",
        "colab": {
          "base_uri": "https://localhost:8080/"
        },
        "outputId": "788d3155-16b0-4839-b181-f54cb37948e1"
      },
      "source": [
        "# define a matrix\n",
        "A = np.array([[3, 1, 1], [-1, 3, 1]])\n",
        "print(\"Array A:\\n\",A)\n",
        "\n",
        "# Singular-value decomposition\n",
        "U, s, VT = np.linalg.svd(A)\n",
        "\n",
        "# create m x n matrix called sigma\n",
        "sigma = np.zeros((A.shape[0], A.shape[1]))\n",
        "\n",
        "# populate sigma with n x n diagonal matrix\n",
        "sigma[:A.shape[0], :A.shape[0]] = np.diag(s)\n",
        "print(\"Matrix Sigma:\\n\",sigma)\n",
        "\n",
        "# reconstruct the original matrix\n",
        "B = U.dot(sigma.dot(VT))\n",
        "\n",
        "print(\"Matrix U\\n\",U)\n",
        "print(\"Matrix s\\n\",s)\n",
        "print(\"Matrix VT\\n\",VT)\n",
        "print(\"Reconstructed Matrix B\\n\",B)"
      ],
      "execution_count": null,
      "outputs": [
        {
          "output_type": "stream",
          "text": [
            "Array A:\n",
            " [[ 3  1  1]\n",
            " [-1  3  1]]\n",
            "Matrix Sigma:\n",
            " [[3.46410162 0.         0.        ]\n",
            " [0.         3.16227766 0.        ]]\n",
            "Matrix U\n",
            " [[-0.70710678 -0.70710678]\n",
            " [-0.70710678  0.70710678]]\n",
            "Matrix s\n",
            " [3.46410162 3.16227766]\n",
            "Matrix VT\n",
            " [[-4.08248290e-01 -8.16496581e-01 -4.08248290e-01]\n",
            " [-8.94427191e-01  4.47213595e-01  5.26260748e-16]\n",
            " [-1.82574186e-01 -3.65148372e-01  9.12870929e-01]]\n",
            "Reconstructed Matrix B\n",
            " [[ 3.  1.  1.]\n",
            " [-1.  3.  1.]]\n"
          ],
          "name": "stdout"
        }
      ]
    },
    {
      "cell_type": "markdown",
      "metadata": {
        "id": "vk-Aqn1jqZfp"
      },
      "source": [
        "### Question for practice (Ungraded)"
      ]
    },
    {
      "cell_type": "markdown",
      "metadata": {
        "id": "Qii_ZcPbaLV7"
      },
      "source": [
        "Q. The derivative of a matrix $A = \\begin{pmatrix}\n",
        "    x^4 & x^2+2x\\\\\n",
        "    xyz & cos(x)\\\\\n",
        "   \\end{pmatrix}$ w.r.t. a scalar $x$."
      ]
    },
    {
      "cell_type": "markdown",
      "metadata": {
        "id": "PzCTAYAHejug"
      },
      "source": [
        "a) $\\begin{pmatrix} 4x^2 & 2\\\\ 1 & sin(x)\\\\ \\end{pmatrix} $"
      ]
    },
    {
      "cell_type": "markdown",
      "metadata": {
        "id": "Fv-i8mlTeh6B"
      },
      "source": [
        "b) $\\begin{pmatrix}\n",
        "    x^3 & x^2+2x\\\\\n",
        "    xyz & cos(x)\\\\\n",
        "   \\end{pmatrix}$"
      ]
    },
    {
      "cell_type": "markdown",
      "metadata": {
        "id": "lBDKH4IEejTE"
      },
      "source": [
        "c) $\\begin{pmatrix}\n",
        "    4x^3 & 2x+2\\\\\n",
        "    yz & -sin(x)\\\\\n",
        "   \\end{pmatrix}$"
      ]
    },
    {
      "cell_type": "markdown",
      "metadata": {
        "id": "Qyy_gbxRekII"
      },
      "source": [
        "d) $\\begin{pmatrix}\n",
        "    4x^3 & x\\\\\n",
        "    1 & -cos(x)\\\\\n",
        "   \\end{pmatrix}$"
      ]
    },
    {
      "cell_type": "markdown",
      "metadata": {
        "id": "EFFZkxbpfn0a"
      },
      "source": [
        "Ans) c."
      ]
    },
    {
      "cell_type": "markdown",
      "metadata": {
        "id": "VHfHdGCP_n6Y"
      },
      "source": [
        "### Please answer the questions below to complete the experiment:\n",
        "\n",
        "\n"
      ]
    },
    {
      "cell_type": "code",
      "metadata": {
        "id": "2lcnCroResHW"
      },
      "source": [
        "from sympy.abc import x\n",
        "dx1  = sym.diff(sym.sin(x),x)\n",
        "print(dx1)\n",
        "dx2  = sym.diff(sym.cos(x),x)\n",
        "print(dx2)\n",
        "dx3  = sym.diff(sym.tan(x),x)\n",
        "print(dx3)\n",
        "dx4  = sym.diff(sym.sin(x),x)\n",
        "print(dx4)\n",
        "\n",
        "M = sym.Matrix([[dx1,dx2],[dx3,dx4]])\n",
        "M"
      ],
      "execution_count": null,
      "outputs": []
    },
    {
      "cell_type": "code",
      "metadata": {
        "id": "kmvdJ4aNmGjR"
      },
      "source": [
        "#@title Q.1. Find the derivative of the matrix M = [ [sin(x) , cos(x) ] , [ tan(x) , sin(x) ] ] ? { run: \"auto\", form-width: \"500px\", display-mode: \"form\" }\n",
        "Answer1 = \"[[cos(x),-sin(x)] , [tan(x)*tan(x)+1,cos(x)]]\" #@param [\"\",\"[[cos(x),-sin(x)] , [tan(x)*tan(x)+1,cos(x)]]\", \"[[cos(x),sin(x)] , [tan(x)*tan(x)+1,-cos(x)]]\", \"[[cos(x),-sin(x)] , [tan(x)*tan(x)-1,cos(x)]]\", \"[[cos(x),-sin(x)] , [tan(x)*tan(x)-1,-cos(x)]]\"]\n"
      ],
      "execution_count": null,
      "outputs": []
    },
    {
      "cell_type": "code",
      "metadata": {
        "id": "507yQNkle1XB"
      },
      "source": [
        "x = np.pi\n",
        "M = sym.Matrix([[sym.sin(x),sym.cos(x)],[sym.tan(x),sym.sin(x)]])\n",
        "eg = M.det()\n",
        "int(eg)"
      ],
      "execution_count": null,
      "outputs": []
    },
    {
      "cell_type": "code",
      "metadata": {
        "id": "UX24XAeIJ6Nf"
      },
      "source": [
        "#@title Q.2.Find the determinant of the matrix M used in Q1 at x = pi  ? { run: \"auto\", form-width: \"500px\", display-mode: \"form\" }\n",
        "Answer2 = \"0\" #@param [\"\",\"1\", \"0\", \"2\", \"-1\"]\n"
      ],
      "execution_count": null,
      "outputs": []
    },
    {
      "cell_type": "code",
      "metadata": {
        "id": "NMzKSbLIgFzQ"
      },
      "source": [
        "#@title How was the experiment? { run: \"auto\", form-width: \"500px\", display-mode: \"form\" }\n",
        "Complexity = \"\" #@param [\"\",\"Too Simple, I am wasting time\", \"Good, But Not Challenging for me\", \"Good and Challenging for me\", \"Was Tough, but I did it\", \"Too Difficult for me\"]\n"
      ],
      "execution_count": null,
      "outputs": []
    },
    {
      "cell_type": "code",
      "metadata": {
        "id": "DjcH1VWSFI2l"
      },
      "source": [
        "#@title If it was too easy, what more would you have liked to be added? If it was very difficult, what would you have liked to have been removed? { run: \"auto\", display-mode: \"form\" }\n",
        "Additional = \"\" #@param {type:\"string\"}\n"
      ],
      "execution_count": null,
      "outputs": []
    },
    {
      "cell_type": "code",
      "metadata": {
        "id": "4VBk_4VTAxCM"
      },
      "source": [
        "#@title Can you identify the concepts from the lecture which this experiment covered? { run: \"auto\", vertical-output: true, display-mode: \"form\" }\n",
        "Concepts = \"\" #@param [\"\",\"Yes\", \"No\"]\n"
      ],
      "execution_count": null,
      "outputs": []
    },
    {
      "cell_type": "code",
      "metadata": {
        "id": "XH91cL1JWH7m"
      },
      "source": [
        "#@title  Text and image description/explanation and code comments within the experiment: { run: \"auto\", vertical-output: true, display-mode: \"form\" }\n",
        "Comments = \"\" #@param [\"\",\"Very Useful\", \"Somewhat Useful\", \"Not Useful\", \"Didn't use\"]\n"
      ],
      "execution_count": null,
      "outputs": []
    },
    {
      "cell_type": "code",
      "metadata": {
        "id": "z8xLqj7VWIKW"
      },
      "source": [
        "#@title Mentor Support: { run: \"auto\", vertical-output: true, display-mode: \"form\" }\n",
        "Mentor_support = \"\" #@param [\"\",\"Very Useful\", \"Somewhat Useful\", \"Not Useful\", \"Didn't use\"]\n"
      ],
      "execution_count": null,
      "outputs": []
    },
    {
      "cell_type": "code",
      "metadata": {
        "id": "FzAZHt1zw-Y-",
        "cellView": "form"
      },
      "source": [
        "#@title Run this cell to submit your notebook for grading { vertical-output: true }\n",
        "try:\n",
        "  if submission_id:\n",
        "      return_id = submit_notebook()\n",
        "      if return_id : submission_id = return_id\n",
        "  else:\n",
        "      print(\"Please complete the setup first.\")\n",
        "except NameError:\n",
        "  print (\"Please complete the setup first.\")"
      ],
      "execution_count": null,
      "outputs": []
    }
  ]
}