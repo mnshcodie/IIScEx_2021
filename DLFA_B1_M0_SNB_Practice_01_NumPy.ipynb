{
  "nbformat": 4,
  "nbformat_minor": 0,
  "metadata": {
    "colab": {
      "name": "Copy of DLFA_B1_M0_SNB_Practice_01_NumPy.ipynb",
      "provenance": [],
      "collapsed_sections": [],
      "include_colab_link": true
    },
    "kernelspec": {
      "display_name": "Python 3",
      "language": "python",
      "name": "python3"
    },
    "language_info": {
      "codemirror_mode": {
        "name": "ipython",
        "version": 3
      },
      "file_extension": ".py",
      "mimetype": "text/x-python",
      "name": "python",
      "nbconvert_exporter": "python",
      "pygments_lexer": "ipython3",
      "version": "3.5.2"
    }
  },
  "cells": [
    {
      "cell_type": "markdown",
      "metadata": {
        "id": "view-in-github",
        "colab_type": "text"
      },
      "source": [
        "<a href=\"https://colab.research.google.com/github/mnshcodie/IIScEx_2021/blob/main/DLFA_B1_M0_SNB_Practice_01_NumPy.ipynb\" target=\"_parent\"><img src=\"https://colab.research.google.com/assets/colab-badge.svg\" alt=\"Open In Colab\"/></a>"
      ]
    },
    {
      "cell_type": "markdown",
      "metadata": {
        "id": "aUUu9l_JfJ92"
      },
      "source": [
        "# Advanced Certification Program in DLFA\n",
        "##  A program by IISc and TalentSprint\n",
        "\n",
        "### Practice Notebook 1: Introduction to NumPy(Ungraded)\n"
      ]
    },
    {
      "cell_type": "markdown",
      "metadata": {
        "id": "nljJR6CwfZN_"
      },
      "source": [
        "## Learning Objectives\n",
        "\n",
        "At the end of the experiment, you will be able to :\n",
        "\n",
        "* understand the basics of NumPy including its functional objects\n",
        "* describe the key characteristics of numpy arrays\n",
        "* understand the difference between Python list and NumPy arrays\n",
        "* use indexing to slice/select data from NumPy arrays\n",
        "\n"
      ]
    },
    {
      "cell_type": "markdown",
      "metadata": {
        "id": "G9gCJqk-lyIM"
      },
      "source": [
        "## Information"
      ]
    },
    {
      "cell_type": "markdown",
      "metadata": {
        "id": "qKSeNSXIqa1_"
      },
      "source": [
        "#### NumPy\n",
        "\n",
        "* NumPy stands for 'Numerical Python'\n",
        "* It is a package for data analysis and scientific computing with Python\n",
        "* At the heart of NumPy is a basic data type, called the NumPy array. A NumPy array may have a number of dimensions, thus allowing it to represent quantities such as vectors (1D), matrices (2D), or higher dimensional arrays such as tensors.\n",
        "* It offers ndarray data structure for storing and ufuncs for efficiently processing the (homogeneous) data. Some of the important functionalities include: basic slicing, advanced or fancy indexing, broadcasting, etc.\n",
        "\n",
        "**To know more about Numpy click [here](https://numpy.org/doc/stable/user/whatisnumpy.html)**\n"
      ]
    },
    {
      "cell_type": "markdown",
      "metadata": {
        "id": "uDJsG5abr4lH"
      },
      "source": [
        "#### Difference Between Python list and NumPy array\n",
        "\n",
        "* Python lists are very general. They can contain any kind of object. They are dynamically typed.\n",
        "* They do not support mathematical functions such as matrix and dot multiplications, etc. Implementing such functions for Python lists would not be very efficient because of the dynamic typing.\n",
        "* Numpy arrays are statically typed and homogeneous. The type of the elements is determined when the array is created.\n",
        "* Numpy arrays are memory efficient.\n",
        "* Because of the static typing, fast implementation of mathematical functions such as multiplication and addition of numpy arrays can be implemented in a compiled language (C and Fortran is used).\n",
        "\n",
        "**To know more about the differece between Python list and NumPy arrays click [here](https://webcourses.ucf.edu/courses/1249560/pages/python-lists-vs-numpy-arrays-what-is-the-difference#:~:text=A%20numpy%20array%20is%20a,a%20tuple%20of%20nonnegative%20integers.&text=A%20list%20is%20the%20Python,contain%20elements%20of%20different%20types.)**"
      ]
    },
    {
      "cell_type": "markdown",
      "metadata": {
        "id": "Jx6xyCCOtTPt"
      },
      "source": [
        "## Expected time to complete the experiment : 20 mins"
      ]
    },
    {
      "cell_type": "markdown",
      "metadata": {
        "id": "JSo_rLBatnNQ"
      },
      "source": [
        "#### Exercise 1: Import the numpy package under the name np"
      ]
    },
    {
      "cell_type": "code",
      "metadata": {
        "id": "INYyCl2wfG20"
      },
      "source": [
        "# Your code here\n",
        "import numpy as np"
      ],
      "execution_count": null,
      "outputs": []
    },
    {
      "cell_type": "markdown",
      "metadata": {
        "id": "Ulp2XpddvbXB"
      },
      "source": [
        "#### Exercise 2: Create a one-dimensional array"
      ]
    },
    {
      "cell_type": "code",
      "metadata": {
        "id": "-bpW1Oacvyn6",
        "colab": {
          "base_uri": "https://localhost:8080/"
        },
        "outputId": "f2a617e4-2d40-485f-ea63-49c6d4fd6680"
      },
      "source": [
        "# Your code here\n",
        "A  = np.arange(10)\n",
        "a  = [1, 2, 3]\n",
        "np.array(a)\n",
        "A.shape"
      ],
      "execution_count": null,
      "outputs": [
        {
          "output_type": "execute_result",
          "data": {
            "text/plain": [
              "(10,)"
            ]
          },
          "metadata": {
            "tags": []
          },
          "execution_count": 2
        }
      ]
    },
    {
      "cell_type": "markdown",
      "metadata": {
        "id": "aTNS3fbswAFx"
      },
      "source": [
        "#### Exercise 3: Create a two-dimensional array"
      ]
    },
    {
      "cell_type": "code",
      "metadata": {
        "id": "Cc1OAX2swDp0",
        "colab": {
          "base_uri": "https://localhost:8080/"
        },
        "outputId": "96404282-594b-461d-f408-995e7ea0d0cb"
      },
      "source": [
        "# Your code here\n",
        "np.array([[1, 2], [3, 4]])\n",
        "np.arange(24).reshape(4,6)"
      ],
      "execution_count": null,
      "outputs": [
        {
          "output_type": "execute_result",
          "data": {
            "text/plain": [
              "array([[ 0,  1,  2,  3,  4,  5],\n",
              "       [ 6,  7,  8,  9, 10, 11],\n",
              "       [12, 13, 14, 15, 16, 17],\n",
              "       [18, 19, 20, 21, 22, 23]])"
            ]
          },
          "metadata": {
            "tags": []
          },
          "execution_count": 3
        }
      ]
    },
    {
      "cell_type": "markdown",
      "metadata": {
        "id": "WYHvBRZxwLkW"
      },
      "source": [
        "#### Exercise 4: Create an array of 10 fives"
      ]
    },
    {
      "cell_type": "code",
      "metadata": {
        "id": "HB3lvMc-wHZu",
        "colab": {
          "base_uri": "https://localhost:8080/"
        },
        "outputId": "7a112077-e663-4577-9d72-4102c608eb52"
      },
      "source": [
        "# Your code here\n",
        "np.ones(10) * 5\n",
        "np.full(10, 5)"
      ],
      "execution_count": null,
      "outputs": [
        {
          "output_type": "execute_result",
          "data": {
            "text/plain": [
              "array([5, 5, 5, 5, 5, 5, 5, 5, 5, 5])"
            ]
          },
          "metadata": {
            "tags": []
          },
          "execution_count": 4
        }
      ]
    },
    {
      "cell_type": "markdown",
      "metadata": {
        "id": "ZML4eoAiwjWZ"
      },
      "source": [
        "#### Exercise 5: Create an array of 30 zeros\n"
      ]
    },
    {
      "cell_type": "code",
      "metadata": {
        "id": "l4UsKAp6wcAO",
        "colab": {
          "base_uri": "https://localhost:8080/"
        },
        "outputId": "3195109a-cc3f-45c3-df18-e97e479060ac"
      },
      "source": [
        "# Your code here\n",
        "np.zeros(30).shape"
      ],
      "execution_count": null,
      "outputs": [
        {
          "output_type": "execute_result",
          "data": {
            "text/plain": [
              "(30,)"
            ]
          },
          "metadata": {
            "tags": []
          },
          "execution_count": 5
        }
      ]
    },
    {
      "cell_type": "markdown",
      "metadata": {
        "id": "O77D0lTmw47v"
      },
      "source": [
        "#### Exercise 6: Create an array of odd integers from 20 to 40"
      ]
    },
    {
      "cell_type": "code",
      "metadata": {
        "id": "8HqgMPJ1w3fv",
        "colab": {
          "base_uri": "https://localhost:8080/"
        },
        "outputId": "2d339868-8792-4326-dbf9-6d911b84189d"
      },
      "source": [
        " # Your code here\n",
        " arr = np.arange(20, 41)\n",
        " arr[(arr % 2) != 0]\n",
        " \n",
        " #np.arange(21, 40, 2)"
      ],
      "execution_count": null,
      "outputs": [
        {
          "output_type": "execute_result",
          "data": {
            "text/plain": [
              "array([21, 23, 25, 27, 29, 31, 33, 35, 37, 39])"
            ]
          },
          "metadata": {
            "tags": []
          },
          "execution_count": 6
        }
      ]
    },
    {
      "cell_type": "markdown",
      "metadata": {
        "id": "0jIz5To9xe20"
      },
      "source": [
        "#### Exercise 7: Create a 5 * 5 identity matrix"
      ]
    },
    {
      "cell_type": "code",
      "metadata": {
        "id": "oWNNi94gxFfh",
        "colab": {
          "base_uri": "https://localhost:8080/"
        },
        "outputId": "e9cdb285-3c74-459f-95b3-ec4042788058"
      },
      "source": [
        "# Your code here\n",
        "np.identity(5)\n",
        "np.eye(5, )"
      ],
      "execution_count": null,
      "outputs": [
        {
          "output_type": "execute_result",
          "data": {
            "text/plain": [
              "array([[1., 0., 0., 0., 0.],\n",
              "       [0., 1., 0., 0., 0.],\n",
              "       [0., 0., 1., 0., 0.],\n",
              "       [0., 0., 0., 1., 0.],\n",
              "       [0., 0., 0., 0., 1.]])"
            ]
          },
          "metadata": {
            "tags": []
          },
          "execution_count": 7
        }
      ]
    },
    {
      "cell_type": "markdown",
      "metadata": {
        "id": "ax-e0ucgxp6x"
      },
      "source": [
        "#### Exercise 8: Generate an array of 20 random numbers sampled from a standard normal distribution"
      ]
    },
    {
      "cell_type": "code",
      "metadata": {
        "id": "1j41Ng3SxkbW",
        "colab": {
          "base_uri": "https://localhost:8080/"
        },
        "outputId": "00615f2a-8298-40e6-ca35-d4a38118d7d3"
      },
      "source": [
        "# Your code here\n",
        "np.random.standard_normal(20)"
      ],
      "execution_count": null,
      "outputs": [
        {
          "output_type": "execute_result",
          "data": {
            "text/plain": [
              "array([-1.44653843, -1.47139334,  3.02876697, -0.26921717, -0.90233466,\n",
              "       -2.07985259, -0.19279923,  1.20597938, -0.01596788, -0.57052936,\n",
              "       -0.1353644 , -0.91333457,  2.18218633,  1.24894567,  0.51775548,\n",
              "       -0.41196929,  0.30980538, -0.09641228,  0.87068036, -0.41720052])"
            ]
          },
          "metadata": {
            "tags": []
          },
          "execution_count": 8
        }
      ]
    },
    {
      "cell_type": "markdown",
      "metadata": {
        "id": "zSbk_DNWyB0v"
      },
      "source": [
        "#### Exercise 9: Create a numpy array from a List"
      ]
    },
    {
      "cell_type": "code",
      "metadata": {
        "id": "lUw42XSpxvfr",
        "colab": {
          "base_uri": "https://localhost:8080/"
        },
        "outputId": "fd6671dd-bcea-4c7b-a704-42253e4e0e92"
      },
      "source": [
        "# Your code here\n",
        "l = [1, 2, 3]\n",
        "np.array(l)\n",
        "np.array(list(range(20)))"
      ],
      "execution_count": null,
      "outputs": [
        {
          "output_type": "execute_result",
          "data": {
            "text/plain": [
              "array([ 0,  1,  2,  3,  4,  5,  6,  7,  8,  9, 10, 11, 12, 13, 14, 15, 16,\n",
              "       17, 18, 19])"
            ]
          },
          "metadata": {
            "tags": []
          },
          "execution_count": 9
        }
      ]
    },
    {
      "cell_type": "markdown",
      "metadata": {
        "id": "s2SyGGhUyLce"
      },
      "source": [
        "#### Exercise 10:  Create a 4 * 4 * 4 array with random values"
      ]
    },
    {
      "cell_type": "code",
      "metadata": {
        "id": "qjGljrhvyKxI",
        "colab": {
          "base_uri": "https://localhost:8080/"
        },
        "outputId": "d6e6eaf5-ef7e-4455-fa10-d3844da05566"
      },
      "source": [
        "# Your code here\n",
        "np.random.random((4,4,4))\n",
        "np.random.rand(4,4,4)"
      ],
      "execution_count": null,
      "outputs": [
        {
          "output_type": "execute_result",
          "data": {
            "text/plain": [
              "array([[[0.66785512, 0.35818052, 0.77138371, 0.1575922 ],\n",
              "        [0.54330586, 0.38077079, 0.39248595, 0.19699866],\n",
              "        [0.05783533, 0.16467414, 0.63396561, 0.51325051],\n",
              "        [0.96521294, 0.62622136, 0.5420164 , 0.22912889]],\n",
              "\n",
              "       [[0.88891335, 0.15634009, 0.91390192, 0.24002649],\n",
              "        [0.22259186, 0.64018628, 0.50952844, 0.32740368],\n",
              "        [0.45846245, 0.86285327, 0.81507448, 0.54449967],\n",
              "        [0.9693062 , 0.7849179 , 0.93812063, 0.82169925]],\n",
              "\n",
              "       [[0.69633459, 0.98379458, 0.4998435 , 0.1397118 ],\n",
              "        [0.14826619, 0.89516384, 0.65508584, 0.12358123],\n",
              "        [0.78668765, 0.02472477, 0.92330332, 0.84893442],\n",
              "        [0.10434823, 0.21581432, 0.8379515 , 0.68028506]],\n",
              "\n",
              "       [[0.21952807, 0.0372761 , 0.9941896 , 0.62771541],\n",
              "        [0.52571948, 0.898466  , 0.30058408, 0.43569783],\n",
              "        [0.76811338, 0.54980703, 0.01324103, 0.40797367],\n",
              "        [0.50795748, 0.64897523, 0.13313631, 0.17373278]]])"
            ]
          },
          "metadata": {
            "tags": []
          },
          "execution_count": 10
        }
      ]
    },
    {
      "cell_type": "markdown",
      "metadata": {
        "id": "vhsfUjihyanN"
      },
      "source": [
        "#### Exercise 11: Create a 10 * 10 array with random values and find the minimum and maximum values "
      ]
    },
    {
      "cell_type": "code",
      "metadata": {
        "id": "kVP6JO1fyZxl",
        "colab": {
          "base_uri": "https://localhost:8080/"
        },
        "outputId": "b4c557cd-fea4-4b44-8146-4f57131b8c35"
      },
      "source": [
        "# Your code here\n",
        "\n",
        "b = np.random.rand(10,10)\n",
        "b.max(), np.max(b), b.min()\n"
      ],
      "execution_count": null,
      "outputs": [
        {
          "output_type": "execute_result",
          "data": {
            "text/plain": [
              "(0.9930969835439335, 0.9930969835439335, 0.0011869484295707888)"
            ]
          },
          "metadata": {
            "tags": []
          },
          "execution_count": 11
        }
      ]
    },
    {
      "cell_type": "markdown",
      "metadata": {
        "id": "PH_ZDIGJzA9v"
      },
      "source": [
        "#### Exercise 12: Create a checkerboard 8 * 8 matrix using the tile function"
      ]
    },
    {
      "cell_type": "code",
      "metadata": {
        "id": "UtH-qxy0y5VB",
        "colab": {
          "base_uri": "https://localhost:8080/"
        },
        "outputId": "0d99b4c0-e8c1-4a62-f38f-21145afde86a"
      },
      "source": [
        "# Your code here\n",
        "np.tile([[1, 0],[0,1]], (8,8))"
      ],
      "execution_count": null,
      "outputs": [
        {
          "output_type": "execute_result",
          "data": {
            "text/plain": [
              "array([[1, 0, 1, 0, 1, 0, 1, 0, 1, 0, 1, 0, 1, 0, 1, 0],\n",
              "       [0, 1, 0, 1, 0, 1, 0, 1, 0, 1, 0, 1, 0, 1, 0, 1],\n",
              "       [1, 0, 1, 0, 1, 0, 1, 0, 1, 0, 1, 0, 1, 0, 1, 0],\n",
              "       [0, 1, 0, 1, 0, 1, 0, 1, 0, 1, 0, 1, 0, 1, 0, 1],\n",
              "       [1, 0, 1, 0, 1, 0, 1, 0, 1, 0, 1, 0, 1, 0, 1, 0],\n",
              "       [0, 1, 0, 1, 0, 1, 0, 1, 0, 1, 0, 1, 0, 1, 0, 1],\n",
              "       [1, 0, 1, 0, 1, 0, 1, 0, 1, 0, 1, 0, 1, 0, 1, 0],\n",
              "       [0, 1, 0, 1, 0, 1, 0, 1, 0, 1, 0, 1, 0, 1, 0, 1],\n",
              "       [1, 0, 1, 0, 1, 0, 1, 0, 1, 0, 1, 0, 1, 0, 1, 0],\n",
              "       [0, 1, 0, 1, 0, 1, 0, 1, 0, 1, 0, 1, 0, 1, 0, 1],\n",
              "       [1, 0, 1, 0, 1, 0, 1, 0, 1, 0, 1, 0, 1, 0, 1, 0],\n",
              "       [0, 1, 0, 1, 0, 1, 0, 1, 0, 1, 0, 1, 0, 1, 0, 1],\n",
              "       [1, 0, 1, 0, 1, 0, 1, 0, 1, 0, 1, 0, 1, 0, 1, 0],\n",
              "       [0, 1, 0, 1, 0, 1, 0, 1, 0, 1, 0, 1, 0, 1, 0, 1],\n",
              "       [1, 0, 1, 0, 1, 0, 1, 0, 1, 0, 1, 0, 1, 0, 1, 0],\n",
              "       [0, 1, 0, 1, 0, 1, 0, 1, 0, 1, 0, 1, 0, 1, 0, 1]])"
            ]
          },
          "metadata": {
            "tags": []
          },
          "execution_count": 12
        }
      ]
    },
    {
      "cell_type": "markdown",
      "metadata": {
        "id": "1D4LM_rQzGEY"
      },
      "source": [
        "#### Exercise 13: Given two arrays *A* and *B*, perform the below operations:\n",
        "\n",
        "* A + B\n",
        "* A - B\n",
        "* A * B\n",
        "* A / B\n",
        "* A ** 3\n",
        "\n",
        "A = np.arange(1,6)\n",
        "\n",
        "B = np.arange(6, 15, 2)"
      ]
    },
    {
      "cell_type": "code",
      "metadata": {
        "id": "F8LurmSJzFF4",
        "colab": {
          "base_uri": "https://localhost:8080/"
        },
        "outputId": "34b78723-98cd-4a2e-c79c-1bc7d155517a"
      },
      "source": [
        "# Your code here\n",
        "A = np.arange(1,6)\n",
        "B = np.arange(6, 15, 2)\n",
        "print(A, B)\n",
        "\n",
        "A + B\n",
        "A - B\n",
        "A * B\n",
        "A/B\n",
        "A ** 3"
      ],
      "execution_count": null,
      "outputs": [
        {
          "output_type": "stream",
          "text": [
            "[1 2 3 4 5] [ 6  8 10 12 14]\n"
          ],
          "name": "stdout"
        },
        {
          "output_type": "execute_result",
          "data": {
            "text/plain": [
              "array([  1,   8,  27,  64, 125])"
            ]
          },
          "metadata": {
            "tags": []
          },
          "execution_count": 13
        }
      ]
    },
    {
      "cell_type": "markdown",
      "metadata": {
        "id": "2UunBRTGzjT7"
      },
      "source": [
        "#### Exercise 14: Given an array *X*. Calculate sine, cosine, and tangent of *X*, element-wise.\n",
        "\n",
        "X = np.array([1, 45, 60, 90])"
      ]
    },
    {
      "cell_type": "code",
      "metadata": {
        "id": "_GePAqckzdqM",
        "colab": {
          "base_uri": "https://localhost:8080/"
        },
        "outputId": "0f2c4b79-bdad-4a9d-8b8e-44ceb1424de8"
      },
      "source": [
        "# Your code here\n",
        "X = np.array([1, 45, 60, 90])\n",
        "print(np.sin(X[0]))\n",
        "# print(np.cos(X))\n",
        "# np.tan(X)\n",
        "\n",
        "X[0]"
      ],
      "execution_count": null,
      "outputs": [
        {
          "output_type": "stream",
          "text": [
            "0.8414709848078965\n"
          ],
          "name": "stdout"
        },
        {
          "output_type": "execute_result",
          "data": {
            "text/plain": [
              "1"
            ]
          },
          "metadata": {
            "tags": []
          },
          "execution_count": 14
        }
      ]
    },
    {
      "cell_type": "markdown",
      "metadata": {
        "id": "dljFTM1_z25y"
      },
      "source": [
        "#### Exercise 15: Given an array *X*. Convert angles from degrees to radians.\n",
        "\n",
        "X = np.array([-180.,  -90.,   90.,  180.])"
      ]
    },
    {
      "cell_type": "code",
      "metadata": {
        "id": "bk2ZdhYtzy9p",
        "colab": {
          "base_uri": "https://localhost:8080/"
        },
        "outputId": "ae30efda-d8bf-46c3-d43d-8c52ff2f2360"
      },
      "source": [
        "# Your code here\n",
        "X = np.array([1, 45, 60, 90])\n",
        "np.deg2rad(X)"
      ],
      "execution_count": null,
      "outputs": [
        {
          "output_type": "execute_result",
          "data": {
            "text/plain": [
              "array([0.01745329, 0.78539816, 1.04719755, 1.57079633])"
            ]
          },
          "metadata": {
            "tags": []
          },
          "execution_count": 15
        }
      ]
    },
    {
      "cell_type": "markdown",
      "metadata": {
        "id": "Nu0UneAKz_kY"
      },
      "source": [
        "#### Exercise 16: Given an array *X*. Calculate the round, ceil, floor of *X*, element-wise\n",
        "\n",
        "X = np.array([4.1, 2.5, 44.5, 25.9, -1.1, -9.5, -6.9])"
      ]
    },
    {
      "cell_type": "code",
      "metadata": {
        "id": "wvjbRcEEz-LR",
        "colab": {
          "base_uri": "https://localhost:8080/"
        },
        "outputId": "3365049b-099b-4231-9b59-a884b62f4e04"
      },
      "source": [
        "# Your code here\n",
        "X = np.array([4.1, 2.5, 44.5, 25.9, -1.1, -9.5, -6.9])\n",
        "np.round(X), np.ceil(X), np.floor(X)\n",
        "# np.round?"
      ],
      "execution_count": null,
      "outputs": [
        {
          "output_type": "execute_result",
          "data": {
            "text/plain": [
              "(array([  4.,   2.,  44.,  26.,  -1., -10.,  -7.]),\n",
              " array([ 5.,  3., 45., 26., -1., -9., -6.]),\n",
              " array([  4.,   2.,  44.,  25.,  -2., -10.,  -7.]))"
            ]
          },
          "metadata": {
            "tags": []
          },
          "execution_count": 16
        }
      ]
    },
    {
      "cell_type": "markdown",
      "metadata": {
        "id": "-60ajk5z0IHq"
      },
      "source": [
        "#### Exercise 17: Given two arrays *X* and *Y*. Divide *X* by *Y* element-wise using divide, true_divide, floor_divide functions.\n",
        "\n",
        "X = np.array([1, 2, 3])\n",
        "\n",
        "Y = np.array([4, 5, 6])"
      ]
    },
    {
      "cell_type": "code",
      "metadata": {
        "id": "4Or_DXdT0HSq",
        "colab": {
          "base_uri": "https://localhost:8080/"
        },
        "outputId": "33457820-6b09-4ab7-81a7-67fdf0299510"
      },
      "source": [
        "# Your code here\n",
        "X = np.array([1, 2, 3])\n",
        "\n",
        "Y = np.array([4, 5, 6])\n",
        "\n",
        "np.divide(X, Y)\n",
        "np.true_divide(X, Y)\n",
        "np.floor_divide(X, Y)"
      ],
      "execution_count": null,
      "outputs": [
        {
          "output_type": "execute_result",
          "data": {
            "text/plain": [
              "array([0, 0, 0])"
            ]
          },
          "metadata": {
            "tags": []
          },
          "execution_count": 17
        }
      ]
    },
    {
      "cell_type": "markdown",
      "metadata": {
        "id": "mEMzMg1c0dhd"
      },
      "source": [
        "#### Exercise 18: Given two arrays *X* and *Y*. Compute $X^Y$, element-wise.\n",
        "\n",
        "X = np.array([1, 2, 3])\n",
        "\n",
        "Y = np.array([4, 5, 6])"
      ]
    },
    {
      "cell_type": "code",
      "metadata": {
        "id": "96MpGOOn0iAA",
        "colab": {
          "base_uri": "https://localhost:8080/"
        },
        "outputId": "8ccab397-6096-4394-a83c-ba2e9aab44ab"
      },
      "source": [
        "# Your code here\n",
        "\n",
        "X = np.array([1, 2, 3])\n",
        "\n",
        "Y = np.array([4, 5, 6])\n",
        "\n",
        "X ** Y\n",
        "\n",
        "np.power(X , Y)"
      ],
      "execution_count": null,
      "outputs": [
        {
          "output_type": "execute_result",
          "data": {
            "text/plain": [
              "array([  1,  32, 729])"
            ]
          },
          "metadata": {
            "tags": []
          },
          "execution_count": 18
        }
      ]
    },
    {
      "cell_type": "markdown",
      "metadata": {
        "id": "4mneQbO60kT-"
      },
      "source": [
        "#### Exercise 19:  Given an array *X*. If an element of *X* is smaller than 5, replace it with 4. And if an element of *X* is bigger than 9, replace it with 8.\n",
        "\n",
        "X = np.array([8, 4, 22, 3, 66, 12, 1, 5])"
      ]
    },
    {
      "cell_type": "code",
      "metadata": {
        "id": "ewRP5aj50ro-",
        "colab": {
          "base_uri": "https://localhost:8080/"
        },
        "outputId": "8c75f18a-ca80-433b-8fdf-8fb715985104"
      },
      "source": [
        "# Your code here\n",
        "X = np.array([8, 4, 6, 3, 66, 12, 1, 5])\n",
        "np.clip(X, 4, 8)"
      ],
      "execution_count": null,
      "outputs": [
        {
          "output_type": "execute_result",
          "data": {
            "text/plain": [
              "array([8, 4, 6, 4, 8, 8, 4, 5])"
            ]
          },
          "metadata": {
            "tags": []
          },
          "execution_count": 19
        }
      ]
    },
    {
      "cell_type": "markdown",
      "metadata": {
        "id": "KYW-0pO00xcL"
      },
      "source": [
        "#### Exercise 20: Use the functions len(), numpy.shape() on array *X*. How do they relate to each other? And to the ndim attribute of the arrays?\n",
        "\n",
        "X = np.array([8, 4, 22, 3, 66, 12, 1, 5])"
      ]
    },
    {
      "cell_type": "code",
      "metadata": {
        "id": "BxYWGEUg0tJn",
        "colab": {
          "base_uri": "https://localhost:8080/"
        },
        "outputId": "c5a35903-9574-42a7-bd8c-47d0283fc64e"
      },
      "source": [
        "# Your code here\n",
        "X = np.array([8, 4, 22, 3, 66, 12, 1, 5])\n",
        "len(X), X.ndim, X.shape"
      ],
      "execution_count": null,
      "outputs": [
        {
          "output_type": "execute_result",
          "data": {
            "text/plain": [
              "(8, 1, (8,))"
            ]
          },
          "metadata": {
            "tags": []
          },
          "execution_count": 20
        }
      ]
    },
    {
      "cell_type": "markdown",
      "metadata": {
        "id": "3oC2YKlFIfRf"
      },
      "source": [
        "#### Exercise 21: Create a 2-D array called X, ranging from -1 to 14 using arange() with step size 0.25. Split this array row wise into 3 equal parts and print the result."
      ]
    },
    {
      "cell_type": "code",
      "metadata": {
        "id": "DMA94dj12rMD",
        "colab": {
          "base_uri": "https://localhost:8080/"
        },
        "outputId": "eec7ad5e-5f09-49a5-ba94-0f0e9080f844"
      },
      "source": [
        "# Your code here\n",
        "X = np.arange(-1, 14, 0.25)\n",
        "X1 = X.reshape(3, 20)\n",
        "X1"
      ],
      "execution_count": null,
      "outputs": [
        {
          "output_type": "execute_result",
          "data": {
            "text/plain": [
              "array([[-1.  , -0.75, -0.5 , -0.25,  0.  ,  0.25,  0.5 ,  0.75,  1.  ,\n",
              "         1.25,  1.5 ,  1.75,  2.  ,  2.25,  2.5 ,  2.75,  3.  ,  3.25,\n",
              "         3.5 ,  3.75],\n",
              "       [ 4.  ,  4.25,  4.5 ,  4.75,  5.  ,  5.25,  5.5 ,  5.75,  6.  ,\n",
              "         6.25,  6.5 ,  6.75,  7.  ,  7.25,  7.5 ,  7.75,  8.  ,  8.25,\n",
              "         8.5 ,  8.75],\n",
              "       [ 9.  ,  9.25,  9.5 ,  9.75, 10.  , 10.25, 10.5 , 10.75, 11.  ,\n",
              "        11.25, 11.5 , 11.75, 12.  , 12.25, 12.5 , 12.75, 13.  , 13.25,\n",
              "        13.5 , 13.75]])"
            ]
          },
          "metadata": {
            "tags": []
          },
          "execution_count": 21
        }
      ]
    },
    {
      "cell_type": "markdown",
      "metadata": {
        "id": "c0CMOS5d1Exe"
      },
      "source": [
        "#### Exercise 22: Use the array X created above and write the commands for the following: \n",
        "\n",
        "* Find the sum of all elements\n",
        "* Find the sum of all elements row wise\n",
        "* Find the sum of all elements column wise\n",
        "* Find the max of all elements\n",
        "* Find the min of all elements in each row\n",
        "* Find the mean of all elements in each row\n",
        "* Find the standard deviation column wise"
      ]
    },
    {
      "cell_type": "code",
      "metadata": {
        "id": "SO7mwhaV2TpV",
        "colab": {
          "base_uri": "https://localhost:8080/"
        },
        "outputId": "b470a6f0-6dfb-45e9-dcd2-88bf53b9d164"
      },
      "source": [
        "# Your code here\n",
        "print(\"sum is\",np.sum(X1))\n",
        "print(\"\\nsum of all elements row wise\\n\",np.sum(X1, axis=0))\n",
        "print(\"\\nsum of all elements col wise\\n\",np.sum(X1, axis=1))\n",
        "print(\"\\nmax and min\",X1.max(), X1.min())\n",
        "print(\"\\n min row wise\",np.min(X1, axis=0))\n",
        "print(\"\\n mean row wise\",np.mean(X1, axis=0))\n",
        "print(\"\\n standard deviation col wise\",np.std(X1, axis=1))"
      ],
      "execution_count": null,
      "outputs": [
        {
          "output_type": "stream",
          "text": [
            "sum is 382.5\n",
            "\n",
            "sum of all elements row wise\n",
            " [12.   12.75 13.5  14.25 15.   15.75 16.5  17.25 18.   18.75 19.5  20.25\n",
            " 21.   21.75 22.5  23.25 24.   24.75 25.5  26.25]\n",
            "\n",
            "sum of all elements col wise\n",
            " [ 27.5 127.5 227.5]\n",
            "\n",
            "max and min 13.75 -1.0\n",
            "\n",
            " min row wise [-1.   -0.75 -0.5  -0.25  0.    0.25  0.5   0.75  1.    1.25  1.5   1.75\n",
            "  2.    2.25  2.5   2.75  3.    3.25  3.5   3.75]\n",
            "\n",
            " mean row wise [4.   4.25 4.5  4.75 5.   5.25 5.5  5.75 6.   6.25 6.5  6.75 7.   7.25\n",
            " 7.5  7.75 8.   8.25 8.5  8.75]\n",
            "\n",
            " standard deviation col wise [1.44157032 1.44157032 1.44157032]\n"
          ],
          "name": "stdout"
        }
      ]
    }
  ]
}