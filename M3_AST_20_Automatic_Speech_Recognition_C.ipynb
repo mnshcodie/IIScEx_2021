{
  "nbformat": 4,
  "nbformat_minor": 0,
  "metadata": {
    "accelerator": "GPU",
    "colab": {
      "name": "M3_AST_20_Automatic_Speech_Recognition_C.ipynb",
      "provenance": [],
      "collapsed_sections": [],
      "include_colab_link": true
    },
    "kernelspec": {
      "display_name": "Python 3",
      "name": "python3"
    },
    "language_info": {
      "name": "python"
    },
    "widgets": {
      "application/vnd.jupyter.widget-state+json": {
        "2af61e5bef51456697e059025150e52a": {
          "model_module": "@jupyter-widgets/controls",
          "model_name": "HBoxModel",
          "model_module_version": "1.5.0",
          "state": {
            "_view_name": "HBoxView",
            "_dom_classes": [],
            "_model_name": "HBoxModel",
            "_view_module": "@jupyter-widgets/controls",
            "_model_module_version": "1.5.0",
            "_view_count": null,
            "_view_module_version": "1.5.0",
            "box_style": "",
            "layout": "IPY_MODEL_0ee491144940486abf08d5a27063469b",
            "_model_module": "@jupyter-widgets/controls",
            "children": [
              "IPY_MODEL_52965450bcaa4eb98aeec95629d7d322",
              "IPY_MODEL_bbf3f2c766e24471a10640e3a50fb036",
              "IPY_MODEL_e40cf6b216e14dc9bf972b061e5c1d4b"
            ]
          }
        },
        "0ee491144940486abf08d5a27063469b": {
          "model_module": "@jupyter-widgets/base",
          "model_name": "LayoutModel",
          "model_module_version": "1.2.0",
          "state": {
            "_view_name": "LayoutView",
            "grid_template_rows": null,
            "right": null,
            "justify_content": null,
            "_view_module": "@jupyter-widgets/base",
            "overflow": null,
            "_model_module_version": "1.2.0",
            "_view_count": null,
            "flex_flow": null,
            "width": null,
            "min_width": null,
            "border": null,
            "align_items": null,
            "bottom": null,
            "_model_module": "@jupyter-widgets/base",
            "top": null,
            "grid_column": null,
            "overflow_y": null,
            "overflow_x": null,
            "grid_auto_flow": null,
            "grid_area": null,
            "grid_template_columns": null,
            "flex": null,
            "_model_name": "LayoutModel",
            "justify_items": null,
            "grid_row": null,
            "max_height": null,
            "align_content": null,
            "visibility": null,
            "align_self": null,
            "height": null,
            "min_height": null,
            "padding": null,
            "grid_auto_rows": null,
            "grid_gap": null,
            "max_width": null,
            "order": null,
            "_view_module_version": "1.2.0",
            "grid_template_areas": null,
            "object_position": null,
            "object_fit": null,
            "grid_auto_columns": null,
            "margin": null,
            "display": null,
            "left": null
          }
        },
        "52965450bcaa4eb98aeec95629d7d322": {
          "model_module": "@jupyter-widgets/controls",
          "model_name": "HTMLModel",
          "model_module_version": "1.5.0",
          "state": {
            "_view_name": "HTMLView",
            "style": "IPY_MODEL_5beeec94bd3642bca5e199bbc5f904c4",
            "_dom_classes": [],
            "description": "",
            "_model_name": "HTMLModel",
            "placeholder": "​",
            "_view_module": "@jupyter-widgets/controls",
            "_model_module_version": "1.5.0",
            "value": "Downloading: 100%",
            "_view_count": null,
            "_view_module_version": "1.5.0",
            "description_tooltip": null,
            "_model_module": "@jupyter-widgets/controls",
            "layout": "IPY_MODEL_890fe35e3b354aaeac29288fb2a2c3e3"
          }
        },
        "bbf3f2c766e24471a10640e3a50fb036": {
          "model_module": "@jupyter-widgets/controls",
          "model_name": "FloatProgressModel",
          "model_module_version": "1.5.0",
          "state": {
            "_view_name": "ProgressView",
            "style": "IPY_MODEL_282e758326de43c5ab854104f73fc85b",
            "_dom_classes": [],
            "description": "",
            "_model_name": "FloatProgressModel",
            "bar_style": "success",
            "max": 4494,
            "_view_module": "@jupyter-widgets/controls",
            "_model_module_version": "1.5.0",
            "value": 4494,
            "_view_count": null,
            "_view_module_version": "1.5.0",
            "orientation": "horizontal",
            "min": 0,
            "description_tooltip": null,
            "_model_module": "@jupyter-widgets/controls",
            "layout": "IPY_MODEL_e64edaeedcad47afa86fa225685ea7ee"
          }
        },
        "e40cf6b216e14dc9bf972b061e5c1d4b": {
          "model_module": "@jupyter-widgets/controls",
          "model_name": "HTMLModel",
          "model_module_version": "1.5.0",
          "state": {
            "_view_name": "HTMLView",
            "style": "IPY_MODEL_42f28a3cf727419f8e4bce1deeda512b",
            "_dom_classes": [],
            "description": "",
            "_model_name": "HTMLModel",
            "placeholder": "​",
            "_view_module": "@jupyter-widgets/controls",
            "_model_module_version": "1.5.0",
            "value": " 4.49k/4.49k [00:00&lt;00:00, 95.5kB/s]",
            "_view_count": null,
            "_view_module_version": "1.5.0",
            "description_tooltip": null,
            "_model_module": "@jupyter-widgets/controls",
            "layout": "IPY_MODEL_cbcdc587bcf245da979ab267f956939d"
          }
        },
        "5beeec94bd3642bca5e199bbc5f904c4": {
          "model_module": "@jupyter-widgets/controls",
          "model_name": "DescriptionStyleModel",
          "model_module_version": "1.5.0",
          "state": {
            "_view_name": "StyleView",
            "_model_name": "DescriptionStyleModel",
            "description_width": "",
            "_view_module": "@jupyter-widgets/base",
            "_model_module_version": "1.5.0",
            "_view_count": null,
            "_view_module_version": "1.2.0",
            "_model_module": "@jupyter-widgets/controls"
          }
        },
        "890fe35e3b354aaeac29288fb2a2c3e3": {
          "model_module": "@jupyter-widgets/base",
          "model_name": "LayoutModel",
          "model_module_version": "1.2.0",
          "state": {
            "_view_name": "LayoutView",
            "grid_template_rows": null,
            "right": null,
            "justify_content": null,
            "_view_module": "@jupyter-widgets/base",
            "overflow": null,
            "_model_module_version": "1.2.0",
            "_view_count": null,
            "flex_flow": null,
            "width": null,
            "min_width": null,
            "border": null,
            "align_items": null,
            "bottom": null,
            "_model_module": "@jupyter-widgets/base",
            "top": null,
            "grid_column": null,
            "overflow_y": null,
            "overflow_x": null,
            "grid_auto_flow": null,
            "grid_area": null,
            "grid_template_columns": null,
            "flex": null,
            "_model_name": "LayoutModel",
            "justify_items": null,
            "grid_row": null,
            "max_height": null,
            "align_content": null,
            "visibility": null,
            "align_self": null,
            "height": null,
            "min_height": null,
            "padding": null,
            "grid_auto_rows": null,
            "grid_gap": null,
            "max_width": null,
            "order": null,
            "_view_module_version": "1.2.0",
            "grid_template_areas": null,
            "object_position": null,
            "object_fit": null,
            "grid_auto_columns": null,
            "margin": null,
            "display": null,
            "left": null
          }
        },
        "282e758326de43c5ab854104f73fc85b": {
          "model_module": "@jupyter-widgets/controls",
          "model_name": "ProgressStyleModel",
          "model_module_version": "1.5.0",
          "state": {
            "_view_name": "StyleView",
            "_model_name": "ProgressStyleModel",
            "description_width": "",
            "_view_module": "@jupyter-widgets/base",
            "_model_module_version": "1.5.0",
            "_view_count": null,
            "_view_module_version": "1.2.0",
            "bar_color": null,
            "_model_module": "@jupyter-widgets/controls"
          }
        },
        "e64edaeedcad47afa86fa225685ea7ee": {
          "model_module": "@jupyter-widgets/base",
          "model_name": "LayoutModel",
          "model_module_version": "1.2.0",
          "state": {
            "_view_name": "LayoutView",
            "grid_template_rows": null,
            "right": null,
            "justify_content": null,
            "_view_module": "@jupyter-widgets/base",
            "overflow": null,
            "_model_module_version": "1.2.0",
            "_view_count": null,
            "flex_flow": null,
            "width": null,
            "min_width": null,
            "border": null,
            "align_items": null,
            "bottom": null,
            "_model_module": "@jupyter-widgets/base",
            "top": null,
            "grid_column": null,
            "overflow_y": null,
            "overflow_x": null,
            "grid_auto_flow": null,
            "grid_area": null,
            "grid_template_columns": null,
            "flex": null,
            "_model_name": "LayoutModel",
            "justify_items": null,
            "grid_row": null,
            "max_height": null,
            "align_content": null,
            "visibility": null,
            "align_self": null,
            "height": null,
            "min_height": null,
            "padding": null,
            "grid_auto_rows": null,
            "grid_gap": null,
            "max_width": null,
            "order": null,
            "_view_module_version": "1.2.0",
            "grid_template_areas": null,
            "object_position": null,
            "object_fit": null,
            "grid_auto_columns": null,
            "margin": null,
            "display": null,
            "left": null
          }
        },
        "42f28a3cf727419f8e4bce1deeda512b": {
          "model_module": "@jupyter-widgets/controls",
          "model_name": "DescriptionStyleModel",
          "model_module_version": "1.5.0",
          "state": {
            "_view_name": "StyleView",
            "_model_name": "DescriptionStyleModel",
            "description_width": "",
            "_view_module": "@jupyter-widgets/base",
            "_model_module_version": "1.5.0",
            "_view_count": null,
            "_view_module_version": "1.2.0",
            "_model_module": "@jupyter-widgets/controls"
          }
        },
        "cbcdc587bcf245da979ab267f956939d": {
          "model_module": "@jupyter-widgets/base",
          "model_name": "LayoutModel",
          "model_module_version": "1.2.0",
          "state": {
            "_view_name": "LayoutView",
            "grid_template_rows": null,
            "right": null,
            "justify_content": null,
            "_view_module": "@jupyter-widgets/base",
            "overflow": null,
            "_model_module_version": "1.2.0",
            "_view_count": null,
            "flex_flow": null,
            "width": null,
            "min_width": null,
            "border": null,
            "align_items": null,
            "bottom": null,
            "_model_module": "@jupyter-widgets/base",
            "top": null,
            "grid_column": null,
            "overflow_y": null,
            "overflow_x": null,
            "grid_auto_flow": null,
            "grid_area": null,
            "grid_template_columns": null,
            "flex": null,
            "_model_name": "LayoutModel",
            "justify_items": null,
            "grid_row": null,
            "max_height": null,
            "align_content": null,
            "visibility": null,
            "align_self": null,
            "height": null,
            "min_height": null,
            "padding": null,
            "grid_auto_rows": null,
            "grid_gap": null,
            "max_width": null,
            "order": null,
            "_view_module_version": "1.2.0",
            "grid_template_areas": null,
            "object_position": null,
            "object_fit": null,
            "grid_auto_columns": null,
            "margin": null,
            "display": null,
            "left": null
          }
        },
        "fd5d9298f26d4f3eb12c6882d4433a46": {
          "model_module": "@jupyter-widgets/controls",
          "model_name": "HBoxModel",
          "model_module_version": "1.5.0",
          "state": {
            "_view_name": "HBoxView",
            "_dom_classes": [],
            "_model_name": "HBoxModel",
            "_view_module": "@jupyter-widgets/controls",
            "_model_module_version": "1.5.0",
            "_view_count": null,
            "_view_module_version": "1.5.0",
            "box_style": "",
            "layout": "IPY_MODEL_90b1053636954df7b88b1829c94705a4",
            "_model_module": "@jupyter-widgets/controls",
            "children": [
              "IPY_MODEL_8795de2db7d742b4ab5a5d7310e1d5bd",
              "IPY_MODEL_3680402ba95f4629a6339e8251fe0768",
              "IPY_MODEL_1a0eca3a930c4913beb163736b26dff3"
            ]
          }
        },
        "90b1053636954df7b88b1829c94705a4": {
          "model_module": "@jupyter-widgets/base",
          "model_name": "LayoutModel",
          "model_module_version": "1.2.0",
          "state": {
            "_view_name": "LayoutView",
            "grid_template_rows": null,
            "right": null,
            "justify_content": null,
            "_view_module": "@jupyter-widgets/base",
            "overflow": null,
            "_model_module_version": "1.2.0",
            "_view_count": null,
            "flex_flow": null,
            "width": null,
            "min_width": null,
            "border": null,
            "align_items": null,
            "bottom": null,
            "_model_module": "@jupyter-widgets/base",
            "top": null,
            "grid_column": null,
            "overflow_y": null,
            "overflow_x": null,
            "grid_auto_flow": null,
            "grid_area": null,
            "grid_template_columns": null,
            "flex": null,
            "_model_name": "LayoutModel",
            "justify_items": null,
            "grid_row": null,
            "max_height": null,
            "align_content": null,
            "visibility": null,
            "align_self": null,
            "height": null,
            "min_height": null,
            "padding": null,
            "grid_auto_rows": null,
            "grid_gap": null,
            "max_width": null,
            "order": null,
            "_view_module_version": "1.2.0",
            "grid_template_areas": null,
            "object_position": null,
            "object_fit": null,
            "grid_auto_columns": null,
            "margin": null,
            "display": null,
            "left": null
          }
        },
        "8795de2db7d742b4ab5a5d7310e1d5bd": {
          "model_module": "@jupyter-widgets/controls",
          "model_name": "HTMLModel",
          "model_module_version": "1.5.0",
          "state": {
            "_view_name": "HTMLView",
            "style": "IPY_MODEL_daa0f069cf944d8c8b67fe8fe0ab2087",
            "_dom_classes": [],
            "description": "",
            "_model_name": "HTMLModel",
            "placeholder": "​",
            "_view_module": "@jupyter-widgets/controls",
            "_model_module_version": "1.5.0",
            "value": "Downloading: 100%",
            "_view_count": null,
            "_view_module_version": "1.5.0",
            "description_tooltip": null,
            "_model_module": "@jupyter-widgets/controls",
            "layout": "IPY_MODEL_8da1991da08c47c397c721b1831e4a03"
          }
        },
        "3680402ba95f4629a6339e8251fe0768": {
          "model_module": "@jupyter-widgets/controls",
          "model_name": "FloatProgressModel",
          "model_module_version": "1.5.0",
          "state": {
            "_view_name": "ProgressView",
            "style": "IPY_MODEL_6ca5dad0c1f9461cb06cb88be608fdb5",
            "_dom_classes": [],
            "description": "",
            "_model_name": "FloatProgressModel",
            "bar_style": "success",
            "max": 1409,
            "_view_module": "@jupyter-widgets/controls",
            "_model_module_version": "1.5.0",
            "value": 1409,
            "_view_count": null,
            "_view_module_version": "1.5.0",
            "orientation": "horizontal",
            "min": 0,
            "description_tooltip": null,
            "_model_module": "@jupyter-widgets/controls",
            "layout": "IPY_MODEL_35f6c263174b4beab0c75457f87c9987"
          }
        },
        "1a0eca3a930c4913beb163736b26dff3": {
          "model_module": "@jupyter-widgets/controls",
          "model_name": "HTMLModel",
          "model_module_version": "1.5.0",
          "state": {
            "_view_name": "HTMLView",
            "style": "IPY_MODEL_1dac1c6b31914c14babd8d24666b03f1",
            "_dom_classes": [],
            "description": "",
            "_model_name": "HTMLModel",
            "placeholder": "​",
            "_view_module": "@jupyter-widgets/controls",
            "_model_module_version": "1.5.0",
            "value": " 1.41k/1.41k [00:00&lt;00:00, 30.5kB/s]",
            "_view_count": null,
            "_view_module_version": "1.5.0",
            "description_tooltip": null,
            "_model_module": "@jupyter-widgets/controls",
            "layout": "IPY_MODEL_cc12b7c211544904af9e5d3518a6def0"
          }
        },
        "daa0f069cf944d8c8b67fe8fe0ab2087": {
          "model_module": "@jupyter-widgets/controls",
          "model_name": "DescriptionStyleModel",
          "model_module_version": "1.5.0",
          "state": {
            "_view_name": "StyleView",
            "_model_name": "DescriptionStyleModel",
            "description_width": "",
            "_view_module": "@jupyter-widgets/base",
            "_model_module_version": "1.5.0",
            "_view_count": null,
            "_view_module_version": "1.2.0",
            "_model_module": "@jupyter-widgets/controls"
          }
        },
        "8da1991da08c47c397c721b1831e4a03": {
          "model_module": "@jupyter-widgets/base",
          "model_name": "LayoutModel",
          "model_module_version": "1.2.0",
          "state": {
            "_view_name": "LayoutView",
            "grid_template_rows": null,
            "right": null,
            "justify_content": null,
            "_view_module": "@jupyter-widgets/base",
            "overflow": null,
            "_model_module_version": "1.2.0",
            "_view_count": null,
            "flex_flow": null,
            "width": null,
            "min_width": null,
            "border": null,
            "align_items": null,
            "bottom": null,
            "_model_module": "@jupyter-widgets/base",
            "top": null,
            "grid_column": null,
            "overflow_y": null,
            "overflow_x": null,
            "grid_auto_flow": null,
            "grid_area": null,
            "grid_template_columns": null,
            "flex": null,
            "_model_name": "LayoutModel",
            "justify_items": null,
            "grid_row": null,
            "max_height": null,
            "align_content": null,
            "visibility": null,
            "align_self": null,
            "height": null,
            "min_height": null,
            "padding": null,
            "grid_auto_rows": null,
            "grid_gap": null,
            "max_width": null,
            "order": null,
            "_view_module_version": "1.2.0",
            "grid_template_areas": null,
            "object_position": null,
            "object_fit": null,
            "grid_auto_columns": null,
            "margin": null,
            "display": null,
            "left": null
          }
        },
        "6ca5dad0c1f9461cb06cb88be608fdb5": {
          "model_module": "@jupyter-widgets/controls",
          "model_name": "ProgressStyleModel",
          "model_module_version": "1.5.0",
          "state": {
            "_view_name": "StyleView",
            "_model_name": "ProgressStyleModel",
            "description_width": "",
            "_view_module": "@jupyter-widgets/base",
            "_model_module_version": "1.5.0",
            "_view_count": null,
            "_view_module_version": "1.2.0",
            "bar_color": null,
            "_model_module": "@jupyter-widgets/controls"
          }
        },
        "35f6c263174b4beab0c75457f87c9987": {
          "model_module": "@jupyter-widgets/base",
          "model_name": "LayoutModel",
          "model_module_version": "1.2.0",
          "state": {
            "_view_name": "LayoutView",
            "grid_template_rows": null,
            "right": null,
            "justify_content": null,
            "_view_module": "@jupyter-widgets/base",
            "overflow": null,
            "_model_module_version": "1.2.0",
            "_view_count": null,
            "flex_flow": null,
            "width": null,
            "min_width": null,
            "border": null,
            "align_items": null,
            "bottom": null,
            "_model_module": "@jupyter-widgets/base",
            "top": null,
            "grid_column": null,
            "overflow_y": null,
            "overflow_x": null,
            "grid_auto_flow": null,
            "grid_area": null,
            "grid_template_columns": null,
            "flex": null,
            "_model_name": "LayoutModel",
            "justify_items": null,
            "grid_row": null,
            "max_height": null,
            "align_content": null,
            "visibility": null,
            "align_self": null,
            "height": null,
            "min_height": null,
            "padding": null,
            "grid_auto_rows": null,
            "grid_gap": null,
            "max_width": null,
            "order": null,
            "_view_module_version": "1.2.0",
            "grid_template_areas": null,
            "object_position": null,
            "object_fit": null,
            "grid_auto_columns": null,
            "margin": null,
            "display": null,
            "left": null
          }
        },
        "1dac1c6b31914c14babd8d24666b03f1": {
          "model_module": "@jupyter-widgets/controls",
          "model_name": "DescriptionStyleModel",
          "model_module_version": "1.5.0",
          "state": {
            "_view_name": "StyleView",
            "_model_name": "DescriptionStyleModel",
            "description_width": "",
            "_view_module": "@jupyter-widgets/base",
            "_model_module_version": "1.5.0",
            "_view_count": null,
            "_view_module_version": "1.2.0",
            "_model_module": "@jupyter-widgets/controls"
          }
        },
        "cc12b7c211544904af9e5d3518a6def0": {
          "model_module": "@jupyter-widgets/base",
          "model_name": "LayoutModel",
          "model_module_version": "1.2.0",
          "state": {
            "_view_name": "LayoutView",
            "grid_template_rows": null,
            "right": null,
            "justify_content": null,
            "_view_module": "@jupyter-widgets/base",
            "overflow": null,
            "_model_module_version": "1.2.0",
            "_view_count": null,
            "flex_flow": null,
            "width": null,
            "min_width": null,
            "border": null,
            "align_items": null,
            "bottom": null,
            "_model_module": "@jupyter-widgets/base",
            "top": null,
            "grid_column": null,
            "overflow_y": null,
            "overflow_x": null,
            "grid_auto_flow": null,
            "grid_area": null,
            "grid_template_columns": null,
            "flex": null,
            "_model_name": "LayoutModel",
            "justify_items": null,
            "grid_row": null,
            "max_height": null,
            "align_content": null,
            "visibility": null,
            "align_self": null,
            "height": null,
            "min_height": null,
            "padding": null,
            "grid_auto_rows": null,
            "grid_gap": null,
            "max_width": null,
            "order": null,
            "_view_module_version": "1.2.0",
            "grid_template_areas": null,
            "object_position": null,
            "object_fit": null,
            "grid_auto_columns": null,
            "margin": null,
            "display": null,
            "left": null
          }
        },
        "23597cdd49564d8eb7d9b6b9cd46ea2e": {
          "model_module": "@jupyter-widgets/controls",
          "model_name": "HBoxModel",
          "model_module_version": "1.5.0",
          "state": {
            "_view_name": "HBoxView",
            "_dom_classes": [],
            "_model_name": "HBoxModel",
            "_view_module": "@jupyter-widgets/controls",
            "_model_module_version": "1.5.0",
            "_view_count": null,
            "_view_module_version": "1.5.0",
            "box_style": "",
            "layout": "IPY_MODEL_319559e1d54943d08164837e95e950a9",
            "_model_module": "@jupyter-widgets/controls",
            "children": [
              "IPY_MODEL_83ef39bd10114cc38311288d433aa706",
              "IPY_MODEL_e0e19da2dfe9425390b85b77485ad19b",
              "IPY_MODEL_ea191379ff0946ebada352cdda21c29d"
            ]
          }
        },
        "319559e1d54943d08164837e95e950a9": {
          "model_module": "@jupyter-widgets/base",
          "model_name": "LayoutModel",
          "model_module_version": "1.2.0",
          "state": {
            "_view_name": "LayoutView",
            "grid_template_rows": null,
            "right": null,
            "justify_content": null,
            "_view_module": "@jupyter-widgets/base",
            "overflow": null,
            "_model_module_version": "1.2.0",
            "_view_count": null,
            "flex_flow": null,
            "width": null,
            "min_width": null,
            "border": null,
            "align_items": null,
            "bottom": null,
            "_model_module": "@jupyter-widgets/base",
            "top": null,
            "grid_column": null,
            "overflow_y": null,
            "overflow_x": null,
            "grid_auto_flow": null,
            "grid_area": null,
            "grid_template_columns": null,
            "flex": null,
            "_model_name": "LayoutModel",
            "justify_items": null,
            "grid_row": null,
            "max_height": null,
            "align_content": null,
            "visibility": null,
            "align_self": null,
            "height": null,
            "min_height": null,
            "padding": null,
            "grid_auto_rows": null,
            "grid_gap": null,
            "max_width": null,
            "order": null,
            "_view_module_version": "1.2.0",
            "grid_template_areas": null,
            "object_position": null,
            "object_fit": null,
            "grid_auto_columns": null,
            "margin": null,
            "display": null,
            "left": null
          }
        },
        "83ef39bd10114cc38311288d433aa706": {
          "model_module": "@jupyter-widgets/controls",
          "model_name": "HTMLModel",
          "model_module_version": "1.5.0",
          "state": {
            "_view_name": "HTMLView",
            "style": "IPY_MODEL_6740610ca222482e851c902b889d1f2d",
            "_dom_classes": [],
            "description": "",
            "_model_name": "HTMLModel",
            "placeholder": "​",
            "_view_module": "@jupyter-widgets/controls",
            "_model_module_version": "1.5.0",
            "value": "Downloading: 100%",
            "_view_count": null,
            "_view_module_version": "1.5.0",
            "description_tooltip": null,
            "_model_module": "@jupyter-widgets/controls",
            "layout": "IPY_MODEL_861a5ad2962049dc992c131761f33633"
          }
        },
        "e0e19da2dfe9425390b85b77485ad19b": {
          "model_module": "@jupyter-widgets/controls",
          "model_name": "FloatProgressModel",
          "model_module_version": "1.5.0",
          "state": {
            "_view_name": "ProgressView",
            "style": "IPY_MODEL_9666771d909d4af3a0544bef35579416",
            "_dom_classes": [],
            "description": "",
            "_model_name": "FloatProgressModel",
            "bar_style": "success",
            "max": 479555971,
            "_view_module": "@jupyter-widgets/controls",
            "_model_module_version": "1.5.0",
            "value": 479555971,
            "_view_count": null,
            "_view_module_version": "1.5.0",
            "orientation": "horizontal",
            "min": 0,
            "description_tooltip": null,
            "_model_module": "@jupyter-widgets/controls",
            "layout": "IPY_MODEL_2e36f5ffb4774e25a690b0481312b25c"
          }
        },
        "ea191379ff0946ebada352cdda21c29d": {
          "model_module": "@jupyter-widgets/controls",
          "model_name": "HTMLModel",
          "model_module_version": "1.5.0",
          "state": {
            "_view_name": "HTMLView",
            "style": "IPY_MODEL_247fff7e833842bf9504b1be5913f002",
            "_dom_classes": [],
            "description": "",
            "_model_name": "HTMLModel",
            "placeholder": "​",
            "_view_module": "@jupyter-widgets/controls",
            "_model_module_version": "1.5.0",
            "value": " 480M/480M [00:16&lt;00:00, 30.5MB/s]",
            "_view_count": null,
            "_view_module_version": "1.5.0",
            "description_tooltip": null,
            "_model_module": "@jupyter-widgets/controls",
            "layout": "IPY_MODEL_7a86d5936fa947d09ee91fed2f303da6"
          }
        },
        "6740610ca222482e851c902b889d1f2d": {
          "model_module": "@jupyter-widgets/controls",
          "model_name": "DescriptionStyleModel",
          "model_module_version": "1.5.0",
          "state": {
            "_view_name": "StyleView",
            "_model_name": "DescriptionStyleModel",
            "description_width": "",
            "_view_module": "@jupyter-widgets/base",
            "_model_module_version": "1.5.0",
            "_view_count": null,
            "_view_module_version": "1.2.0",
            "_model_module": "@jupyter-widgets/controls"
          }
        },
        "861a5ad2962049dc992c131761f33633": {
          "model_module": "@jupyter-widgets/base",
          "model_name": "LayoutModel",
          "model_module_version": "1.2.0",
          "state": {
            "_view_name": "LayoutView",
            "grid_template_rows": null,
            "right": null,
            "justify_content": null,
            "_view_module": "@jupyter-widgets/base",
            "overflow": null,
            "_model_module_version": "1.2.0",
            "_view_count": null,
            "flex_flow": null,
            "width": null,
            "min_width": null,
            "border": null,
            "align_items": null,
            "bottom": null,
            "_model_module": "@jupyter-widgets/base",
            "top": null,
            "grid_column": null,
            "overflow_y": null,
            "overflow_x": null,
            "grid_auto_flow": null,
            "grid_area": null,
            "grid_template_columns": null,
            "flex": null,
            "_model_name": "LayoutModel",
            "justify_items": null,
            "grid_row": null,
            "max_height": null,
            "align_content": null,
            "visibility": null,
            "align_self": null,
            "height": null,
            "min_height": null,
            "padding": null,
            "grid_auto_rows": null,
            "grid_gap": null,
            "max_width": null,
            "order": null,
            "_view_module_version": "1.2.0",
            "grid_template_areas": null,
            "object_position": null,
            "object_fit": null,
            "grid_auto_columns": null,
            "margin": null,
            "display": null,
            "left": null
          }
        },
        "9666771d909d4af3a0544bef35579416": {
          "model_module": "@jupyter-widgets/controls",
          "model_name": "ProgressStyleModel",
          "model_module_version": "1.5.0",
          "state": {
            "_view_name": "StyleView",
            "_model_name": "ProgressStyleModel",
            "description_width": "",
            "_view_module": "@jupyter-widgets/base",
            "_model_module_version": "1.5.0",
            "_view_count": null,
            "_view_module_version": "1.2.0",
            "bar_color": null,
            "_model_module": "@jupyter-widgets/controls"
          }
        },
        "2e36f5ffb4774e25a690b0481312b25c": {
          "model_module": "@jupyter-widgets/base",
          "model_name": "LayoutModel",
          "model_module_version": "1.2.0",
          "state": {
            "_view_name": "LayoutView",
            "grid_template_rows": null,
            "right": null,
            "justify_content": null,
            "_view_module": "@jupyter-widgets/base",
            "overflow": null,
            "_model_module_version": "1.2.0",
            "_view_count": null,
            "flex_flow": null,
            "width": null,
            "min_width": null,
            "border": null,
            "align_items": null,
            "bottom": null,
            "_model_module": "@jupyter-widgets/base",
            "top": null,
            "grid_column": null,
            "overflow_y": null,
            "overflow_x": null,
            "grid_auto_flow": null,
            "grid_area": null,
            "grid_template_columns": null,
            "flex": null,
            "_model_name": "LayoutModel",
            "justify_items": null,
            "grid_row": null,
            "max_height": null,
            "align_content": null,
            "visibility": null,
            "align_self": null,
            "height": null,
            "min_height": null,
            "padding": null,
            "grid_auto_rows": null,
            "grid_gap": null,
            "max_width": null,
            "order": null,
            "_view_module_version": "1.2.0",
            "grid_template_areas": null,
            "object_position": null,
            "object_fit": null,
            "grid_auto_columns": null,
            "margin": null,
            "display": null,
            "left": null
          }
        },
        "247fff7e833842bf9504b1be5913f002": {
          "model_module": "@jupyter-widgets/controls",
          "model_name": "DescriptionStyleModel",
          "model_module_version": "1.5.0",
          "state": {
            "_view_name": "StyleView",
            "_model_name": "DescriptionStyleModel",
            "description_width": "",
            "_view_module": "@jupyter-widgets/base",
            "_model_module_version": "1.5.0",
            "_view_count": null,
            "_view_module_version": "1.2.0",
            "_model_module": "@jupyter-widgets/controls"
          }
        },
        "7a86d5936fa947d09ee91fed2f303da6": {
          "model_module": "@jupyter-widgets/base",
          "model_name": "LayoutModel",
          "model_module_version": "1.2.0",
          "state": {
            "_view_name": "LayoutView",
            "grid_template_rows": null,
            "right": null,
            "justify_content": null,
            "_view_module": "@jupyter-widgets/base",
            "overflow": null,
            "_model_module_version": "1.2.0",
            "_view_count": null,
            "flex_flow": null,
            "width": null,
            "min_width": null,
            "border": null,
            "align_items": null,
            "bottom": null,
            "_model_module": "@jupyter-widgets/base",
            "top": null,
            "grid_column": null,
            "overflow_y": null,
            "overflow_x": null,
            "grid_auto_flow": null,
            "grid_area": null,
            "grid_template_columns": null,
            "flex": null,
            "_model_name": "LayoutModel",
            "justify_items": null,
            "grid_row": null,
            "max_height": null,
            "align_content": null,
            "visibility": null,
            "align_self": null,
            "height": null,
            "min_height": null,
            "padding": null,
            "grid_auto_rows": null,
            "grid_gap": null,
            "max_width": null,
            "order": null,
            "_view_module_version": "1.2.0",
            "grid_template_areas": null,
            "object_position": null,
            "object_fit": null,
            "grid_auto_columns": null,
            "margin": null,
            "display": null,
            "left": null
          }
        },
        "de92342f05354b0987763b6495d37d98": {
          "model_module": "@jupyter-widgets/controls",
          "model_name": "HBoxModel",
          "model_module_version": "1.5.0",
          "state": {
            "_view_name": "HBoxView",
            "_dom_classes": [],
            "_model_name": "HBoxModel",
            "_view_module": "@jupyter-widgets/controls",
            "_model_module_version": "1.5.0",
            "_view_count": null,
            "_view_module_version": "1.5.0",
            "box_style": "",
            "layout": "IPY_MODEL_cea0b40d994640c1aa3acab63ffaaa66",
            "_model_module": "@jupyter-widgets/controls",
            "children": [
              "IPY_MODEL_83769461eea24c0b92c55bdc0d6711d0",
              "IPY_MODEL_109f1e1b47fd44bbb3757d5305cd6977",
              "IPY_MODEL_63d156705ffa4948ac07e8fcdb21f1e2"
            ]
          }
        },
        "cea0b40d994640c1aa3acab63ffaaa66": {
          "model_module": "@jupyter-widgets/base",
          "model_name": "LayoutModel",
          "model_module_version": "1.2.0",
          "state": {
            "_view_name": "LayoutView",
            "grid_template_rows": null,
            "right": null,
            "justify_content": null,
            "_view_module": "@jupyter-widgets/base",
            "overflow": null,
            "_model_module_version": "1.2.0",
            "_view_count": null,
            "flex_flow": null,
            "width": null,
            "min_width": null,
            "border": null,
            "align_items": null,
            "bottom": null,
            "_model_module": "@jupyter-widgets/base",
            "top": null,
            "grid_column": null,
            "overflow_y": null,
            "overflow_x": null,
            "grid_auto_flow": null,
            "grid_area": null,
            "grid_template_columns": null,
            "flex": null,
            "_model_name": "LayoutModel",
            "justify_items": null,
            "grid_row": null,
            "max_height": null,
            "align_content": null,
            "visibility": null,
            "align_self": null,
            "height": null,
            "min_height": null,
            "padding": null,
            "grid_auto_rows": null,
            "grid_gap": null,
            "max_width": null,
            "order": null,
            "_view_module_version": "1.2.0",
            "grid_template_areas": null,
            "object_position": null,
            "object_fit": null,
            "grid_auto_columns": null,
            "margin": null,
            "display": null,
            "left": null
          }
        },
        "83769461eea24c0b92c55bdc0d6711d0": {
          "model_module": "@jupyter-widgets/controls",
          "model_name": "HTMLModel",
          "model_module_version": "1.5.0",
          "state": {
            "_view_name": "HTMLView",
            "style": "IPY_MODEL_735c9d252edb4dd0b67c5ac580fdb0fd",
            "_dom_classes": [],
            "description": "",
            "_model_name": "HTMLModel",
            "placeholder": "​",
            "_view_module": "@jupyter-widgets/controls",
            "_model_module_version": "1.5.0",
            "value": "Downloading: 100%",
            "_view_count": null,
            "_view_module_version": "1.5.0",
            "description_tooltip": null,
            "_model_module": "@jupyter-widgets/controls",
            "layout": "IPY_MODEL_492c4271109249af80e06ba90d9b9bd1"
          }
        },
        "109f1e1b47fd44bbb3757d5305cd6977": {
          "model_module": "@jupyter-widgets/controls",
          "model_name": "FloatProgressModel",
          "model_module_version": "1.5.0",
          "state": {
            "_view_name": "ProgressView",
            "style": "IPY_MODEL_7bdfb9465a1d449bbb39198a667dd8a6",
            "_dom_classes": [],
            "description": "",
            "_model_name": "FloatProgressModel",
            "bar_style": "success",
            "max": 212420087,
            "_view_module": "@jupyter-widgets/controls",
            "_model_module_version": "1.5.0",
            "value": 212420087,
            "_view_count": null,
            "_view_module_version": "1.5.0",
            "orientation": "horizontal",
            "min": 0,
            "description_tooltip": null,
            "_model_module": "@jupyter-widgets/controls",
            "layout": "IPY_MODEL_6d8974372808491184b7ba63f7b1d409"
          }
        },
        "63d156705ffa4948ac07e8fcdb21f1e2": {
          "model_module": "@jupyter-widgets/controls",
          "model_name": "HTMLModel",
          "model_module_version": "1.5.0",
          "state": {
            "_view_name": "HTMLView",
            "style": "IPY_MODEL_e6868fe1cc1b480b90913e9ad1d27608",
            "_dom_classes": [],
            "description": "",
            "_model_name": "HTMLModel",
            "placeholder": "​",
            "_view_module": "@jupyter-widgets/controls",
            "_model_module_version": "1.5.0",
            "value": " 212M/212M [00:07&lt;00:00, 28.1MB/s]",
            "_view_count": null,
            "_view_module_version": "1.5.0",
            "description_tooltip": null,
            "_model_module": "@jupyter-widgets/controls",
            "layout": "IPY_MODEL_e8fd7f4a367d466ca2f94519f7796b43"
          }
        },
        "735c9d252edb4dd0b67c5ac580fdb0fd": {
          "model_module": "@jupyter-widgets/controls",
          "model_name": "DescriptionStyleModel",
          "model_module_version": "1.5.0",
          "state": {
            "_view_name": "StyleView",
            "_model_name": "DescriptionStyleModel",
            "description_width": "",
            "_view_module": "@jupyter-widgets/base",
            "_model_module_version": "1.5.0",
            "_view_count": null,
            "_view_module_version": "1.2.0",
            "_model_module": "@jupyter-widgets/controls"
          }
        },
        "492c4271109249af80e06ba90d9b9bd1": {
          "model_module": "@jupyter-widgets/base",
          "model_name": "LayoutModel",
          "model_module_version": "1.2.0",
          "state": {
            "_view_name": "LayoutView",
            "grid_template_rows": null,
            "right": null,
            "justify_content": null,
            "_view_module": "@jupyter-widgets/base",
            "overflow": null,
            "_model_module_version": "1.2.0",
            "_view_count": null,
            "flex_flow": null,
            "width": null,
            "min_width": null,
            "border": null,
            "align_items": null,
            "bottom": null,
            "_model_module": "@jupyter-widgets/base",
            "top": null,
            "grid_column": null,
            "overflow_y": null,
            "overflow_x": null,
            "grid_auto_flow": null,
            "grid_area": null,
            "grid_template_columns": null,
            "flex": null,
            "_model_name": "LayoutModel",
            "justify_items": null,
            "grid_row": null,
            "max_height": null,
            "align_content": null,
            "visibility": null,
            "align_self": null,
            "height": null,
            "min_height": null,
            "padding": null,
            "grid_auto_rows": null,
            "grid_gap": null,
            "max_width": null,
            "order": null,
            "_view_module_version": "1.2.0",
            "grid_template_areas": null,
            "object_position": null,
            "object_fit": null,
            "grid_auto_columns": null,
            "margin": null,
            "display": null,
            "left": null
          }
        },
        "7bdfb9465a1d449bbb39198a667dd8a6": {
          "model_module": "@jupyter-widgets/controls",
          "model_name": "ProgressStyleModel",
          "model_module_version": "1.5.0",
          "state": {
            "_view_name": "StyleView",
            "_model_name": "ProgressStyleModel",
            "description_width": "",
            "_view_module": "@jupyter-widgets/base",
            "_model_module_version": "1.5.0",
            "_view_count": null,
            "_view_module_version": "1.2.0",
            "bar_color": null,
            "_model_module": "@jupyter-widgets/controls"
          }
        },
        "6d8974372808491184b7ba63f7b1d409": {
          "model_module": "@jupyter-widgets/base",
          "model_name": "LayoutModel",
          "model_module_version": "1.2.0",
          "state": {
            "_view_name": "LayoutView",
            "grid_template_rows": null,
            "right": null,
            "justify_content": null,
            "_view_module": "@jupyter-widgets/base",
            "overflow": null,
            "_model_module_version": "1.2.0",
            "_view_count": null,
            "flex_flow": null,
            "width": null,
            "min_width": null,
            "border": null,
            "align_items": null,
            "bottom": null,
            "_model_module": "@jupyter-widgets/base",
            "top": null,
            "grid_column": null,
            "overflow_y": null,
            "overflow_x": null,
            "grid_auto_flow": null,
            "grid_area": null,
            "grid_template_columns": null,
            "flex": null,
            "_model_name": "LayoutModel",
            "justify_items": null,
            "grid_row": null,
            "max_height": null,
            "align_content": null,
            "visibility": null,
            "align_self": null,
            "height": null,
            "min_height": null,
            "padding": null,
            "grid_auto_rows": null,
            "grid_gap": null,
            "max_width": null,
            "order": null,
            "_view_module_version": "1.2.0",
            "grid_template_areas": null,
            "object_position": null,
            "object_fit": null,
            "grid_auto_columns": null,
            "margin": null,
            "display": null,
            "left": null
          }
        },
        "e6868fe1cc1b480b90913e9ad1d27608": {
          "model_module": "@jupyter-widgets/controls",
          "model_name": "DescriptionStyleModel",
          "model_module_version": "1.5.0",
          "state": {
            "_view_name": "StyleView",
            "_model_name": "DescriptionStyleModel",
            "description_width": "",
            "_view_module": "@jupyter-widgets/base",
            "_model_module_version": "1.5.0",
            "_view_count": null,
            "_view_module_version": "1.2.0",
            "_model_module": "@jupyter-widgets/controls"
          }
        },
        "e8fd7f4a367d466ca2f94519f7796b43": {
          "model_module": "@jupyter-widgets/base",
          "model_name": "LayoutModel",
          "model_module_version": "1.2.0",
          "state": {
            "_view_name": "LayoutView",
            "grid_template_rows": null,
            "right": null,
            "justify_content": null,
            "_view_module": "@jupyter-widgets/base",
            "overflow": null,
            "_model_module_version": "1.2.0",
            "_view_count": null,
            "flex_flow": null,
            "width": null,
            "min_width": null,
            "border": null,
            "align_items": null,
            "bottom": null,
            "_model_module": "@jupyter-widgets/base",
            "top": null,
            "grid_column": null,
            "overflow_y": null,
            "overflow_x": null,
            "grid_auto_flow": null,
            "grid_area": null,
            "grid_template_columns": null,
            "flex": null,
            "_model_name": "LayoutModel",
            "justify_items": null,
            "grid_row": null,
            "max_height": null,
            "align_content": null,
            "visibility": null,
            "align_self": null,
            "height": null,
            "min_height": null,
            "padding": null,
            "grid_auto_rows": null,
            "grid_gap": null,
            "max_width": null,
            "order": null,
            "_view_module_version": "1.2.0",
            "grid_template_areas": null,
            "object_position": null,
            "object_fit": null,
            "grid_auto_columns": null,
            "margin": null,
            "display": null,
            "left": null
          }
        },
        "7c24c85e827b48e0b41058f2a397adc9": {
          "model_module": "@jupyter-widgets/controls",
          "model_name": "HBoxModel",
          "model_module_version": "1.5.0",
          "state": {
            "_view_name": "HBoxView",
            "_dom_classes": [],
            "_model_name": "HBoxModel",
            "_view_module": "@jupyter-widgets/controls",
            "_model_module_version": "1.5.0",
            "_view_count": null,
            "_view_module_version": "1.5.0",
            "box_style": "",
            "layout": "IPY_MODEL_3f22c65e6c5f4fbfbbc43f6f3b8e17c3",
            "_model_module": "@jupyter-widgets/controls",
            "children": [
              "IPY_MODEL_228231dcd6594da8a434623b58ac52f4",
              "IPY_MODEL_dce5cbe28e7e4e4eb51a627e2c56aa1d",
              "IPY_MODEL_d4483e7eaaab43978419261714d030fc"
            ]
          }
        },
        "3f22c65e6c5f4fbfbbc43f6f3b8e17c3": {
          "model_module": "@jupyter-widgets/base",
          "model_name": "LayoutModel",
          "model_module_version": "1.2.0",
          "state": {
            "_view_name": "LayoutView",
            "grid_template_rows": null,
            "right": null,
            "justify_content": null,
            "_view_module": "@jupyter-widgets/base",
            "overflow": null,
            "_model_module_version": "1.2.0",
            "_view_count": null,
            "flex_flow": null,
            "width": null,
            "min_width": null,
            "border": null,
            "align_items": null,
            "bottom": null,
            "_model_module": "@jupyter-widgets/base",
            "top": null,
            "grid_column": null,
            "overflow_y": null,
            "overflow_x": null,
            "grid_auto_flow": null,
            "grid_area": null,
            "grid_template_columns": null,
            "flex": null,
            "_model_name": "LayoutModel",
            "justify_items": null,
            "grid_row": null,
            "max_height": null,
            "align_content": null,
            "visibility": null,
            "align_self": null,
            "height": null,
            "min_height": null,
            "padding": null,
            "grid_auto_rows": null,
            "grid_gap": null,
            "max_width": null,
            "order": null,
            "_view_module_version": "1.2.0",
            "grid_template_areas": null,
            "object_position": null,
            "object_fit": null,
            "grid_auto_columns": null,
            "margin": null,
            "display": null,
            "left": null
          }
        },
        "228231dcd6594da8a434623b58ac52f4": {
          "model_module": "@jupyter-widgets/controls",
          "model_name": "HTMLModel",
          "model_module_version": "1.5.0",
          "state": {
            "_view_name": "HTMLView",
            "style": "IPY_MODEL_f2916d2247054037b5b12d1c06c4a2b4",
            "_dom_classes": [],
            "description": "",
            "_model_name": "HTMLModel",
            "placeholder": "​",
            "_view_module": "@jupyter-widgets/controls",
            "_model_module_version": "1.5.0",
            "value": "Downloading: 100%",
            "_view_count": null,
            "_view_module_version": "1.5.0",
            "description_tooltip": null,
            "_model_module": "@jupyter-widgets/controls",
            "layout": "IPY_MODEL_6e218e29d58c4cb8bb06ce47ccdd03de"
          }
        },
        "dce5cbe28e7e4e4eb51a627e2c56aa1d": {
          "model_module": "@jupyter-widgets/controls",
          "model_name": "FloatProgressModel",
          "model_module_version": "1.5.0",
          "state": {
            "_view_name": "ProgressView",
            "style": "IPY_MODEL_fb4b2c9c4ca9480ea0c16533cd582222",
            "_dom_classes": [],
            "description": "",
            "_model_name": "FloatProgressModel",
            "bar_style": "success",
            "max": 253217,
            "_view_module": "@jupyter-widgets/controls",
            "_model_module_version": "1.5.0",
            "value": 253217,
            "_view_count": null,
            "_view_module_version": "1.5.0",
            "orientation": "horizontal",
            "min": 0,
            "description_tooltip": null,
            "_model_module": "@jupyter-widgets/controls",
            "layout": "IPY_MODEL_fca5e273c4c64b05ad4a6da7e5d05efa"
          }
        },
        "d4483e7eaaab43978419261714d030fc": {
          "model_module": "@jupyter-widgets/controls",
          "model_name": "HTMLModel",
          "model_module_version": "1.5.0",
          "state": {
            "_view_name": "HTMLView",
            "style": "IPY_MODEL_f577fe7d593246059f2bc0f183b055cd",
            "_dom_classes": [],
            "description": "",
            "_model_name": "HTMLModel",
            "placeholder": "​",
            "_view_module": "@jupyter-widgets/controls",
            "_model_module_version": "1.5.0",
            "value": " 253k/253k [00:00&lt;00:00, 2.65MB/s]",
            "_view_count": null,
            "_view_module_version": "1.5.0",
            "description_tooltip": null,
            "_model_module": "@jupyter-widgets/controls",
            "layout": "IPY_MODEL_85674777bd7b42b489321bba90507209"
          }
        },
        "f2916d2247054037b5b12d1c06c4a2b4": {
          "model_module": "@jupyter-widgets/controls",
          "model_name": "DescriptionStyleModel",
          "model_module_version": "1.5.0",
          "state": {
            "_view_name": "StyleView",
            "_model_name": "DescriptionStyleModel",
            "description_width": "",
            "_view_module": "@jupyter-widgets/base",
            "_model_module_version": "1.5.0",
            "_view_count": null,
            "_view_module_version": "1.2.0",
            "_model_module": "@jupyter-widgets/controls"
          }
        },
        "6e218e29d58c4cb8bb06ce47ccdd03de": {
          "model_module": "@jupyter-widgets/base",
          "model_name": "LayoutModel",
          "model_module_version": "1.2.0",
          "state": {
            "_view_name": "LayoutView",
            "grid_template_rows": null,
            "right": null,
            "justify_content": null,
            "_view_module": "@jupyter-widgets/base",
            "overflow": null,
            "_model_module_version": "1.2.0",
            "_view_count": null,
            "flex_flow": null,
            "width": null,
            "min_width": null,
            "border": null,
            "align_items": null,
            "bottom": null,
            "_model_module": "@jupyter-widgets/base",
            "top": null,
            "grid_column": null,
            "overflow_y": null,
            "overflow_x": null,
            "grid_auto_flow": null,
            "grid_area": null,
            "grid_template_columns": null,
            "flex": null,
            "_model_name": "LayoutModel",
            "justify_items": null,
            "grid_row": null,
            "max_height": null,
            "align_content": null,
            "visibility": null,
            "align_self": null,
            "height": null,
            "min_height": null,
            "padding": null,
            "grid_auto_rows": null,
            "grid_gap": null,
            "max_width": null,
            "order": null,
            "_view_module_version": "1.2.0",
            "grid_template_areas": null,
            "object_position": null,
            "object_fit": null,
            "grid_auto_columns": null,
            "margin": null,
            "display": null,
            "left": null
          }
        },
        "fb4b2c9c4ca9480ea0c16533cd582222": {
          "model_module": "@jupyter-widgets/controls",
          "model_name": "ProgressStyleModel",
          "model_module_version": "1.5.0",
          "state": {
            "_view_name": "StyleView",
            "_model_name": "ProgressStyleModel",
            "description_width": "",
            "_view_module": "@jupyter-widgets/base",
            "_model_module_version": "1.5.0",
            "_view_count": null,
            "_view_module_version": "1.2.0",
            "bar_color": null,
            "_model_module": "@jupyter-widgets/controls"
          }
        },
        "fca5e273c4c64b05ad4a6da7e5d05efa": {
          "model_module": "@jupyter-widgets/base",
          "model_name": "LayoutModel",
          "model_module_version": "1.2.0",
          "state": {
            "_view_name": "LayoutView",
            "grid_template_rows": null,
            "right": null,
            "justify_content": null,
            "_view_module": "@jupyter-widgets/base",
            "overflow": null,
            "_model_module_version": "1.2.0",
            "_view_count": null,
            "flex_flow": null,
            "width": null,
            "min_width": null,
            "border": null,
            "align_items": null,
            "bottom": null,
            "_model_module": "@jupyter-widgets/base",
            "top": null,
            "grid_column": null,
            "overflow_y": null,
            "overflow_x": null,
            "grid_auto_flow": null,
            "grid_area": null,
            "grid_template_columns": null,
            "flex": null,
            "_model_name": "LayoutModel",
            "justify_items": null,
            "grid_row": null,
            "max_height": null,
            "align_content": null,
            "visibility": null,
            "align_self": null,
            "height": null,
            "min_height": null,
            "padding": null,
            "grid_auto_rows": null,
            "grid_gap": null,
            "max_width": null,
            "order": null,
            "_view_module_version": "1.2.0",
            "grid_template_areas": null,
            "object_position": null,
            "object_fit": null,
            "grid_auto_columns": null,
            "margin": null,
            "display": null,
            "left": null
          }
        },
        "f577fe7d593246059f2bc0f183b055cd": {
          "model_module": "@jupyter-widgets/controls",
          "model_name": "DescriptionStyleModel",
          "model_module_version": "1.5.0",
          "state": {
            "_view_name": "StyleView",
            "_model_name": "DescriptionStyleModel",
            "description_width": "",
            "_view_module": "@jupyter-widgets/base",
            "_model_module_version": "1.5.0",
            "_view_count": null,
            "_view_module_version": "1.2.0",
            "_model_module": "@jupyter-widgets/controls"
          }
        },
        "85674777bd7b42b489321bba90507209": {
          "model_module": "@jupyter-widgets/base",
          "model_name": "LayoutModel",
          "model_module_version": "1.2.0",
          "state": {
            "_view_name": "LayoutView",
            "grid_template_rows": null,
            "right": null,
            "justify_content": null,
            "_view_module": "@jupyter-widgets/base",
            "overflow": null,
            "_model_module_version": "1.2.0",
            "_view_count": null,
            "flex_flow": null,
            "width": null,
            "min_width": null,
            "border": null,
            "align_items": null,
            "bottom": null,
            "_model_module": "@jupyter-widgets/base",
            "top": null,
            "grid_column": null,
            "overflow_y": null,
            "overflow_x": null,
            "grid_auto_flow": null,
            "grid_area": null,
            "grid_template_columns": null,
            "flex": null,
            "_model_name": "LayoutModel",
            "justify_items": null,
            "grid_row": null,
            "max_height": null,
            "align_content": null,
            "visibility": null,
            "align_self": null,
            "height": null,
            "min_height": null,
            "padding": null,
            "grid_auto_rows": null,
            "grid_gap": null,
            "max_width": null,
            "order": null,
            "_view_module_version": "1.2.0",
            "grid_template_areas": null,
            "object_position": null,
            "object_fit": null,
            "grid_auto_columns": null,
            "margin": null,
            "display": null,
            "left": null
          }
        }
      }
    }
  },
  "cells": [
    {
      "cell_type": "markdown",
      "metadata": {
        "id": "view-in-github",
        "colab_type": "text"
      },
      "source": [
        "<a href=\"https://colab.research.google.com/github/mnshcodie/IIScEx_2021/blob/main/M3_AST_20_Automatic_Speech_Recognition_C.ipynb\" target=\"_parent\"><img src=\"https://colab.research.google.com/assets/colab-badge.svg\" alt=\"Open In Colab\"/></a>"
      ]
    },
    {
      "cell_type": "markdown",
      "metadata": {
        "id": "hNgLag1Euy3H"
      },
      "source": [
        "# Advanced Programme in Deep Learning (Foundations and Applications)\n",
        "## A Program by IISc and TalentSprint\n",
        "### Assignment 20 : Implementation of Automatic Speech Recognition (ASR) Model"
      ]
    },
    {
      "cell_type": "markdown",
      "metadata": {
        "id": "-tdtrlAhvIHY"
      },
      "source": [
        "## Learning Objectives\n",
        "\n",
        "At the end of the experiment, you will be able to\n",
        "\n",
        "* understand SpeechBrain - A Pytorch based speech toolkit \n",
        "* use pretrained Encoder-Decoder ASR model from SpeechBrain\n",
        "* evaluate the different ASR models \n",
        "* understand the performance of ASR models using Word Error Rate (WER) and Character Error Rate (CER)\n",
        "* Finetune the EncoderDecoderASR model and evaluate on the commonvoice dataset\n",
        " \n"
      ]
    },
    {
      "cell_type": "markdown",
      "metadata": {
        "id": "AdonhbE2xWt4"
      },
      "source": [
        "### Dataset Description\n",
        "\n",
        "LibriSpeech is a corpus of approximately 1000 hours of read English speech with sampling rate of 16 kHz, prepared by Vassil Panayotov with the assistance of Daniel Povey. The data is derived from read audiobooks from the LibriVox project, and has been carefully segmented and aligned. Various databases with text from audiobooks, conversations, and talks have been recorded.\n",
        "\n",
        "The datasets can be downloaded from the following [link](https://www.openslr.org/12)"
      ]
    },
    {
      "cell_type": "markdown",
      "metadata": {
        "id": "uhdMHT-qRiqs"
      },
      "source": [
        "#### About DataSet:\n",
        "\n",
        "OpenSLR(Open speech and language resources) has 93 SLRs in the domain of software, audio, music, speech, and text dataset open for download. The Librispeech dataset is SLR12 which is the audio recording of reading English speech. The file format of data is in the form of FLAC(Free Lossless Audio Codec) without any loss in quality or loss of any original audio data.\n",
        "\n",
        "The audio is in English. There are two configurations: `clean` and `other`. The speakers in the corpus were ranked according to the WER (Word Error Rate) of the transcripts of a model trained on a different dataset, and were divided roughly in the middle, with the lower-WER speakers designated as \"clean\" and the higher WER speakers designated as \"other\".\n",
        "\n",
        "The **Common Voice Corpus** is Mozilla’s initiative to create a free database for speech recognition software. The project is supported by volunteers who record sample sentences with a microphone and review recordings of other users. The website clearly informs the volunteers of the purpose of recordings. The text is derived from different open-source text sources, including user-submitted blog posts, old books, movies and other public speech corpora. As of May 2021, the dataset contains 7.3k hours of transcribed and validated speech in 60 languages. Common Voice is challenging due to significant accented speech, hesitations, presence of foreign words, noise, reverberation, and other recording artifacts. it's in the format of .mp3\n",
        "\n",
        "**Whisper-spire** is the data collected from the SPIRE (Signal Processing Interpretation and Representation Laboratory) from Indian Institute of Science, Bangalore. The data is in the format of .wav files."
      ]
    },
    {
      "cell_type": "markdown",
      "metadata": {
        "id": "p8Onl8YF9mR9"
      },
      "source": [
        "### Setup Steps:"
      ]
    },
    {
      "cell_type": "code",
      "metadata": {
        "id": "xWMVQWk58aXm"
      },
      "source": [
        "#@title Please enter your registration id to start: { run: \"auto\", display-mode: \"form\" }\n",
        "Id = \"P21L01E_test\" #@param {type:\"string\"}"
      ],
      "execution_count": null,
      "outputs": []
    },
    {
      "cell_type": "code",
      "metadata": {
        "id": "cwqosl928dBA"
      },
      "source": [
        "#@title Please enter your password (normally your phone number) to continue: { run: \"auto\", display-mode: \"form\" }\n",
        "password = \"9809876540\" #@param {type:\"string\"}"
      ],
      "execution_count": null,
      "outputs": []
    },
    {
      "cell_type": "code",
      "metadata": {
        "id": "exG368oL8jv2",
        "cellView": "form",
        "colab": {
          "base_uri": "https://localhost:8080/",
          "height": 34
        },
        "outputId": "8d614d0e-073c-4b64-da52-30a96dd4f437"
      },
      "source": [
        "#@title Run this cell to complete the setup for this Notebook\n",
        "from IPython import get_ipython\n",
        "import warnings\n",
        "warnings.filterwarnings(\"ignore\")\n",
        "\n",
        "ipython = get_ipython()\n",
        "  \n",
        "notebook= \"M3_AST_20_Automatic_Speech_Recognition_C\" #name of the notebook\n",
        "\n",
        "def setup():\n",
        "    ipython.magic(\"sx pip install speechbrain\")\n",
        "    ipython.magic(\"sx pip install git+https://github.com/Talent-sprint/ASR_TTS.git\")\n",
        "    ipython.magic(\"sx wget https://cdn.iisc.talentsprint.com/DLFA/Experiment_related_data/ASR_datasets.zip\")\n",
        "    ipython.magic(\"sx unzip ASR_datasets.zip\")\n",
        "    ipython.magic(\"sx git clone https://github.com/Talent-sprint/ASR_TTS\")\n",
        "    ipython.magic(\"sx wget https://cdn.iisc.talentsprint.com/DLFA/Experiment_related_data/Levenshtein_Distance_algorithm.py\")\n",
        "    \n",
        "    from IPython.display import HTML, display\n",
        "    display(HTML('<script src=\"https://dashboard.talentsprint.com/aiml/record_ip.html?traineeId={0}&recordId={1}\"></script>'.format(getId(),submission_id)))\n",
        "    print(\"Setup completed successfully\")\n",
        "    return\n",
        "\n",
        "def submit_notebook():\n",
        "    ipython.magic(\"notebook -e \"+ notebook + \".ipynb\")\n",
        "    \n",
        "    import requests, json, base64, datetime\n",
        "\n",
        "    url = \"https://dashboard.talentsprint.com/xp/app/save_notebook_attempts\"\n",
        "    if not submission_id:\n",
        "      data = {\"id\" : getId(), \"notebook\" : notebook, \"mobile\" : getPassword()}\n",
        "      r = requests.post(url, data = data)\n",
        "      r = json.loads(r.text)\n",
        "\n",
        "      if r[\"status\"] == \"Success\":\n",
        "          return r[\"record_id\"]\n",
        "      elif \"err\" in r:        \n",
        "        print(r[\"err\"])\n",
        "        return None        \n",
        "      else:\n",
        "        print (\"Something is wrong, the notebook will not be submitted for grading\")\n",
        "        return None\n",
        "    \n",
        "    elif getAnswer1() and getAnswer2() and getComplexity() and getAdditional() and getConcepts() and getComments() and getMentorSupport():\n",
        "      f = open(notebook + \".ipynb\", \"rb\")\n",
        "      file_hash = base64.b64encode(f.read())\n",
        "\n",
        "      data = {\"complexity\" : Complexity, \"additional\" :Additional, \n",
        "              \"concepts\" : Concepts, \"record_id\" : submission_id, \n",
        "              \"answer1\" : Answer1, \"answer2\" : Answer2, \"id\" : Id, \"file_hash\" : file_hash,\n",
        "              \"notebook\" : notebook,\n",
        "              \"feedback_experiments_input\" : Comments,\n",
        "              \"feedback_mentor_support\": Mentor_support}\n",
        "      r = requests.post(url, data = data)\n",
        "      r = json.loads(r.text)\n",
        "      if \"err\" in r:        \n",
        "        print(r[\"err\"])\n",
        "        return None   \n",
        "      else:\n",
        "        print(\"Your submission is successful.\")\n",
        "        print(\"Ref Id:\", submission_id)\n",
        "        print(\"Date of submission: \", r[\"date\"])\n",
        "        print(\"Time of submission: \", r[\"time\"])\n",
        "        print(\"View your submissions: https://dlfa.iisc.talentsprint.com/notebook_submissions\")\n",
        "        #print(\"For any queries/discrepancies, please connect with mentors through the chat icon in LMS dashboard.\")\n",
        "        return submission_id\n",
        "    else: submission_id\n",
        "    \n",
        "\n",
        "def getAdditional():\n",
        "  try:\n",
        "    if not Additional: \n",
        "      raise NameError\n",
        "    else:\n",
        "      return Additional  \n",
        "  except NameError:\n",
        "    print (\"Please answer Additional Question\")\n",
        "    return None\n",
        "\n",
        "def getComplexity():\n",
        "  try:\n",
        "    if not Complexity:\n",
        "      raise NameError\n",
        "    else:\n",
        "      return Complexity\n",
        "  except NameError:\n",
        "    print (\"Please answer Complexity Question\")\n",
        "    return None\n",
        "  \n",
        "def getConcepts():\n",
        "  try:\n",
        "    if not Concepts:\n",
        "      raise NameError\n",
        "    else:\n",
        "      return Concepts\n",
        "  except NameError:\n",
        "    print (\"Please answer Concepts Question\")\n",
        "    return None\n",
        "  \n",
        "  \n",
        "# def getWalkthrough():\n",
        "#   try:\n",
        "#     if not Walkthrough:\n",
        "#       raise NameError\n",
        "#     else:\n",
        "#       return Walkthrough\n",
        "#   except NameError:\n",
        "#     print (\"Please answer Walkthrough Question\")\n",
        "#     return None\n",
        "  \n",
        "def getComments():\n",
        "  try:\n",
        "    if not Comments:\n",
        "      raise NameError\n",
        "    else:\n",
        "      return Comments\n",
        "  except NameError:\n",
        "    print (\"Please answer Comments Question\")\n",
        "    return None\n",
        "  \n",
        "\n",
        "def getMentorSupport():\n",
        "  try:\n",
        "    if not Mentor_support:\n",
        "      raise NameError\n",
        "    else:\n",
        "      return Mentor_support\n",
        "  except NameError:\n",
        "    print (\"Please answer Mentor support Question\")\n",
        "    return None\n",
        "\n",
        "def getAnswer1():\n",
        "  try:\n",
        "    if not Answer1:\n",
        "      raise NameError \n",
        "    else: \n",
        "      return Answer1\n",
        "  except NameError:\n",
        "    print (\"Please answer Question 1\")\n",
        "    return None\n",
        "\n",
        "def getAnswer2():\n",
        "  try:\n",
        "    if not Answer2:\n",
        "      raise NameError \n",
        "    else: \n",
        "      return Answer2\n",
        "  except NameError:\n",
        "    print (\"Please answer Question 2\")\n",
        "    return None\n",
        "  \n",
        "\n",
        "def getId():\n",
        "  try: \n",
        "    return Id if Id else None\n",
        "  except NameError:\n",
        "    return None\n",
        "\n",
        "def getPassword():\n",
        "  try:\n",
        "    return password if password else None\n",
        "  except NameError:\n",
        "    return None\n",
        "\n",
        "submission_id = None\n",
        "### Setup \n",
        "if getPassword() and getId():\n",
        "  submission_id = submit_notebook()\n",
        "  if submission_id:\n",
        "    setup() \n",
        "else:\n",
        "  print (\"Please complete Id and Password cells before running setup\")\n",
        "\n"
      ],
      "execution_count": null,
      "outputs": [
        {
          "output_type": "display_data",
          "data": {
            "text/html": [
              "<script src=\"https://dashboard.talentsprint.com/aiml/record_ip.html?traineeId=P21L01E_test&recordId=2385\"></script>"
            ],
            "text/plain": [
              "<IPython.core.display.HTML object>"
            ]
          },
          "metadata": {}
        },
        {
          "output_type": "stream",
          "name": "stdout",
          "text": [
            "Setup completed successfully\n"
          ]
        }
      ]
    },
    {
      "cell_type": "markdown",
      "metadata": {
        "id": "us6NdsRFi6_Q"
      },
      "source": [
        "### Importing required packages"
      ]
    },
    {
      "cell_type": "code",
      "metadata": {
        "id": "kCRBT4-hqhS8"
      },
      "source": [
        "# The asr and utils contains the paths to the dataset and the pretrained model used\n",
        "from ASR_TTS import asr, utils \n",
        "# The torchaudio package consists of I/O, popular datasets and common audio transformations.\n",
        "import torchaudio\n",
        "import torch\n",
        "from Levenshtein_Distance_algorithm import levenshtein, find_wer_and_cer\n",
        "# Pad a list of variable length Tensors with padding_value\n",
        "from torch.nn.utils.rnn import pad_sequence\n",
        "from tqdm import tqdm"
      ],
      "execution_count": null,
      "outputs": []
    },
    {
      "cell_type": "markdown",
      "metadata": {
        "id": "Wp_F9DWO379S"
      },
      "source": [
        "**SpeechBrain** is an open-source and all-in-one speech toolkit. It is designed to be simple, extremely flexible, and user-friendly. Also, for various domains we obtain a competitive or state-of-the-art performance using SpeechBrain.\n",
        "\n"
      ]
    },
    {
      "cell_type": "markdown",
      "metadata": {
        "id": "dmf1KHEN6g32"
      },
      "source": [
        "#### What can we do with SpeechBrain?\n",
        "\n",
        "You can use SpeechBrain for the following types of problems:\n",
        "\n",
        "- **Speech classification** (many-to-one, e.g. speaker-id)\n",
        "- **Speech regression** (speech-to-speech mapping, e.g, speech enhancement)\n",
        "- **Sequence-to-sequence** (speech to speech mapping, e.g., speech recognition)\n",
        "\n",
        "![SpeechBrain-Page-4.png](data:image/png;base64,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)"
      ]
    },
    {
      "cell_type": "markdown",
      "metadata": {
        "id": "sKem2vASoBYd"
      },
      "source": [
        "More precisely, SpeechBrain supports the following tasks:\n",
        "- **Speech Recognition**: Speech-to-text ([see this tutorial](https://colab.research.google.com/drive/1aFgzrUv3udM_gNJNUoLaHIm78QHtxdIz?usp=sharing))\n",
        "- **Speaker Recognition**: Speaker verification/ID ([see this tutorial](https://colab.research.google.com/drive/1UwisnAjr8nQF3UnrkIJ4abBMAWzVwBMh?usp=sharing)).\n",
        "- **Speaker Diarization**: Detect who spoke when.\n",
        "- **Speech Enhancement**: Noisy to clean speech ([see this tutorial](https://colab.research.google.com/drive/18RyiuKupAhwWX7fh3LCatwQGU5eIS3TR?usp=sharing)).\n",
        "- **Speech Separation**: Separate overlapped speech ([see this tutorial](https://colab.research.google.com/drive/1YxsMW1KNqP1YihNUcfrjy0zUp7FhNNhN?usp=sharing)). \n",
        "- **Spoken Language Understanding**: Speech to intent/slots. \n",
        "- **Multi-microphone processing**: Combining input signals ([see this tutorial](https://colab.research.google.com/drive/1UVoYDUiIrwMpBTghQPbA6rC1mc9IBzi6?usp=sharing)). \n",
        "\n",
        "**Note:** Refer the following [link](https://speechbrain.github.io/) to know more details about SpeechBrain"
      ]
    },
    {
      "cell_type": "code",
      "metadata": {
        "id": "0nHAAcVTxWHH",
        "colab": {
          "base_uri": "https://localhost:8080/"
        },
        "outputId": "d7c5428c-0ec3-465f-d508-60ccc02dc170"
      },
      "source": [
        "# Evaluate ASR model with different datasets\n",
        "asr.list_datasets()"
      ],
      "execution_count": null,
      "outputs": [
        {
          "output_type": "stream",
          "name": "stdout",
          "text": [
            "+------------+--------------+---------+-----------+----------------------------+\n",
            "|  dataset   | num speakers | num sen | duration  |            link            |\n",
            "|            |              | tences  |           |                            |\n",
            "+------------+--------------+---------+-----------+----------------------------+\n",
            "| librispeec |      40      |  2620   | 5.4 hours | https://www.openslr.org/12 |\n",
            "|  h-clean   |              |         |           |                            |\n",
            "+------------+--------------+---------+-----------+----------------------------+\n",
            "| librispeec |      33      |  2939   | 5.1 hours | https://www.openslr.org/12 |\n",
            "|  h-other   |              |         |           |                            |\n",
            "+------------+--------------+---------+-----------+----------------------------+\n",
            "| commonvoic |      38      |  3995   | 4.9 hours | https://commonvoice.mozill |\n",
            "|  e-clean   |              |         |           |     a.org/en/datasets      |\n",
            "+------------+--------------+---------+-----------+----------------------------+\n",
            "| whisper-sp |      88      |  4396   | 3.8 hours |             -              |\n",
            "|    ire     |              |         |           |                            |\n",
            "+------------+--------------+---------+-----------+----------------------------+\n"
          ]
        }
      ]
    },
    {
      "cell_type": "markdown",
      "metadata": {
        "id": "ub1yDGZh5DQx"
      },
      "source": [
        "From the above table observe, that the \n",
        "\n",
        "**librispeech-clean:** refers to the following dataset path `ASR_datasets/test_sets/test-clean.tar.gz`\n",
        "\n",
        "**librispeech-other:** refers to the following dataset path `ASR_datasets/test_sets/test-other.tar.gz`\n",
        "\n",
        "**commonvoice-clean:** refers to the following dataset path `ASR_datasets/test_sets/cv-test.zip`\n",
        "\n",
        "**whisper-spire:**  refers to the following dataset path `ASR_datasets/test_sets/WSpire-test.zip`\n"
      ]
    },
    {
      "cell_type": "markdown",
      "metadata": {
        "id": "8uJChjiMaLpA"
      },
      "source": [
        "#### Dataset Structure\n",
        "\n",
        "**Data Instances**\n",
        "\n",
        "A typical data point comprises the path to the audio **file**, usually called file and its transcription, called **text**. Some additional information about the speaker and the passage is provided which contains the transcription.\n",
        "\n",
        "**Librispeech Data Fields**\n",
        "\n",
        "For one of the speech sample in the testset\n",
        "\n",
        "    {'chapter_id': 5040,\n",
        "    'file':'/content/librispeech-other/LibriSpeech/test-other/3080/5040/3080-5040-0005.flac'',\n",
        "    'id': '3080-5040-0005',\n",
        "    'speaker_id': 3080,\n",
        "    'text': 'THE TRUTH IS I COULD NOT ENDURE TO BE MISSUS BRIDE IN A PUBLIC WEDDING TO BE MADE THE HAPPIEST PERSON ON EARTH'}\n",
        "\n",
        "    file: A path to the downloaded audio file in .flac format which includes the Unique id of the speaker\n",
        "\n",
        "    text: The transcription of the audio file.\n",
        "\n",
        "    id: Unique id of the data sample.\n",
        "\n",
        "    speaker_id: Unique id of the speaker. The same speaker id can be found for multiple data samples.\n",
        "\n",
        "    chapter_id: Id of the audiobook chapter which includes the transcription.\n",
        "\n",
        "\n",
        "The **commonvoice-clean**  dataset is in format of .mp3 files and the corresponding transcriptions are present in `transcripts.csv` file.\n",
        "\n",
        "**Commonvoice-clean Data Fields**\n",
        "\n",
        "The `transcripts.csv` contains following fields\n",
        "\n",
        "    filename: A path to the downloaded audio file in .mp3 format which includes the Unique id of the speaker\n",
        "    text: The transcription of the audio file.\n",
        "\n"
      ]
    },
    {
      "cell_type": "code",
      "metadata": {
        "id": "80SR58121B0w",
        "colab": {
          "base_uri": "https://localhost:8080/"
        },
        "outputId": "dc586327-40e2-49da-da2b-7395a154a8eb"
      },
      "source": [
        "# Select the dataset name to be tested\n",
        "dataset_name = 'librispeech-other'\n",
        "unpacked_path = utils.unpack_from_drive(dataset_name)\n",
        "print(unpacked_path)"
      ],
      "execution_count": null,
      "outputs": [
        {
          "output_type": "stream",
          "name": "stdout",
          "text": [
            "librispeech-other\n"
          ]
        }
      ]
    },
    {
      "cell_type": "code",
      "metadata": {
        "id": "vLhtcI7-pJu6",
        "colab": {
          "base_uri": "https://localhost:8080/"
        },
        "outputId": "bff845de-d830-42be-af42-d3d1fa19c8bb"
      },
      "source": [
        "# The selected test set contains the below files related to the audio books\n",
        "!ls $unpacked_path/*"
      ],
      "execution_count": null,
      "outputs": [
        {
          "output_type": "stream",
          "name": "stdout",
          "text": [
            "BOOKS.TXT  CHAPTERS.TXT  LICENSE.TXT  README.TXT  SPEAKERS.TXT\ttest-other\n"
          ]
        }
      ]
    },
    {
      "cell_type": "code",
      "metadata": {
        "id": "C8K-6ckUpJ0I"
      },
      "source": [
        "# Get the audio and corresponding text files from the dataset\n",
        "audio_text_dict = utils.parse_files(unpacked_path)"
      ],
      "execution_count": null,
      "outputs": []
    },
    {
      "cell_type": "code",
      "metadata": {
        "id": "AWSyuESN512k",
        "colab": {
          "base_uri": "https://localhost:8080/"
        },
        "outputId": "4fa4cc2f-5015-4dc5-813e-19965e7668fd"
      },
      "source": [
        "# Print the dictionary (key:value)\n",
        "# key: audio file and value: transcription\n",
        "print(audio_text_dict)"
      ],
      "execution_count": null,
      "outputs": [
        {
          "output_type": "stream",
          "name": "stdout",
          "text": [
            "{'/content/librispeech-other/LibriSpeech/test-other/533/131562/533-131562-0016.flac': 'I TRY TO LOOK TO HIM AND RAISE MY HEART TO HEAVEN BUT IT WILL CLEAVE TO THE DUST', '/content/librispeech-other/LibriSpeech/test-other/533/131562/533-131562-0002.flac': 'THE KEY OF MY DESK IN FACT WAS AT THAT MOMENT IN THE LOCK AND THE OTHERS WERE ATTACHED TO IT', '/content/librispeech-other/LibriSpeech/test-other/533/131562/533-131562-0000.flac': \"IT SEEMS VERY INTERESTING LOVE SAID HE LIFTING HIS HEAD AND TURNING TO WHERE I STOOD WRINGING MY HANDS IN SILENT RAGE AND ANGUISH BUT IT'S RATHER LONG I'LL LOOK AT IT SOME OTHER TIME AND MEANWHILE I'LL TROUBLE YOU FOR YOUR KEYS MY DEAR WHAT KEYS\", '/content/librispeech-other/LibriSpeech/test-other/533/131562/533-131562-0001.flac': 'THE KEYS OF YOUR CABINET DESK DRAWERS AND WHATEVER ELSE YOU POSSESS SAID HE RISING AND HOLDING OUT HIS HAND', '/content/librispeech-other/LibriSpeech/test-other/533/131562/533-131562-0006.flac': 'MISTER HUNTINGDON THEN WENT UP STAIRS', '/content/librispeech-other/LibriSpeech/test-other/533/131562/533-131562-0003.flac': 'NOW THEN SNEERED HE WE MUST HAVE A CONFISCATION OF PROPERTY', '/content/librispeech-other/LibriSpeech/test-other/533/131562/533-131562-0010.flac': 'AND AS FOR THE HOUSEHOLD MATTERS MISSUS GREAVES MUST BE VERY PARTICULAR IN KEEPING HER ACCOUNTS WE MUST GO UPON AN ENTIRELY NEW PLAN', '/content/librispeech-other/LibriSpeech/test-other/533/131562/533-131562-0004.flac': 'AND PUTTING THE KEYS INTO HIS POCKET HE WALKED INTO THE LIBRARY', '/content/librispeech-other/LibriSpeech/test-other/533/131562/533-131562-0011.flac': 'WHAT GREAT DISCOVERY HAVE YOU MADE NOW MISTER HUNTINGDON', '/content/librispeech-other/LibriSpeech/test-other/533/131562/533-131562-0013.flac': \"NOT IN MONEY MATTERS EXACTLY IT SEEMS BUT IT'S BEST TO KEEP OUT OF THE WAY OF TEMPTATION\", '/content/librispeech-other/LibriSpeech/test-other/533/131562/533-131562-0007.flac': \"MUTTERED HE STARTING BACK SHE'S THE VERY DEVIL FOR SPITE\", '/content/librispeech-other/LibriSpeech/test-other/533/131562/533-131562-0015.flac': 'I KNOW THAT DAY AFTER DAY SUCH FEELINGS WILL RETURN UPON ME', '/content/librispeech-other/LibriSpeech/test-other/533/131562/533-131562-0014.flac': 'HERE BENSON ENTERED WITH THE CANDLES AND THERE FOLLOWED A BRIEF INTERVAL OF SILENCE I SITTING STILL IN MY CHAIR AND HE STANDING WITH HIS BACK TO THE FIRE SILENTLY TRIUMPHING IN MY DESPAIR', '/content/librispeech-other/LibriSpeech/test-other/533/131562/533-131562-0008.flac': \"I DIDN'T SAY I'D BROKEN IT DID I RETURNED HE\", '/content/librispeech-other/LibriSpeech/test-other/533/131562/533-131562-0009.flac': \"I SHALL PUT YOU UPON A SMALL MONTHLY ALLOWANCE IN FUTURE FOR YOUR OWN PRIVATE EXPENSES AND YOU NEEDN'T TROUBLE YOURSELF ANY MORE ABOUT MY CONCERNS I SHALL LOOK OUT FOR A STEWARD MY DEAR I WON'T EXPOSE YOU TO THE TEMPTATION\", '/content/librispeech-other/LibriSpeech/test-other/533/131562/533-131562-0012.flac': 'HAVE I ATTEMPTED TO DEFRAUD YOU', '/content/librispeech-other/LibriSpeech/test-other/533/131562/533-131562-0005.flac': 'THAT AND ALL REPLIED THE MASTER AND THE THINGS WERE CLEARED AWAY', '/content/librispeech-other/LibriSpeech/test-other/533/131564/533-131564-0006.flac': \"NO I'D RATHER BE LIKE MYSELF BAD AS I AM\", '/content/librispeech-other/LibriSpeech/test-other/533/131564/533-131564-0020.flac': \"IF YOU INTEND TO REFORM INVOKE GOD'S BLESSING HIS MERCY AND HIS AID NOT HIS CURSE\", '/content/librispeech-other/LibriSpeech/test-other/533/131564/533-131564-0018.flac': \"THE FORMER WAS FULL OF TROUBLE AND ANGUISH NOT ACCUSING HIM BUT DEEPLY REGRETTING HIS CONNECTION WITH HIS PROFLIGATE COMPANIONS ABUSING MISTER GRIMSBY AND OTHERS INSINUATING BITTER THINGS AGAINST MISTER HUNTINGDON AND MOST INGENIOUSLY THROWING THE BLAME OF HER HUSBAND'S MISCONDUCT ON TO OTHER MEN'S SHOULDERS\", '/content/librispeech-other/LibriSpeech/test-other/533/131564/533-131564-0002.flac': 'NO UNLESS YOU CAN TELL ME WHEN TO EXPECT HIM HOME', '/content/librispeech-other/LibriSpeech/test-other/533/131564/533-131564-0023.flac': 'NAY NOT I SAID HE TURNING HER ROUND AND PUSHING HER TOWARDS ME', '/content/librispeech-other/LibriSpeech/test-other/533/131564/533-131564-0008.flac': 'BUT TELL ME SHOULD YOU WISH YOUR SONS TO BE LIKE MISTER HUNTINGDON OR EVEN LIKE YOURSELF', '/content/librispeech-other/LibriSpeech/test-other/533/131564/533-131564-0013.flac': \"NOT YEARS FOR SHE'S ONLY FIVE AND TWENTY\", '/content/librispeech-other/LibriSpeech/test-other/533/131564/533-131564-0017.flac': \"I SOUGHT OUT AND PUT INTO HIS HANDS TWO OF MILICENT'S LETTERS ONE DATED FROM LONDON AND WRITTEN DURING ONE OF HIS WILDEST SEASONS OF RECKLESS DISSIPATION THE OTHER IN THE COUNTRY DURING A LUCID INTERVAL\", '/content/librispeech-other/LibriSpeech/test-other/533/131564/533-131564-0027.flac': 'AFTER THAT THEY WILL REPAIR TO THEIR COUNTRY HOME', '/content/librispeech-other/LibriSpeech/test-other/533/131564/533-131564-0009.flac': \"OH NO I COULDN'T STAND THAT\", '/content/librispeech-other/LibriSpeech/test-other/533/131564/533-131564-0012.flac': \"BUT HANG IT THAT'S NOT MY FAULT\", '/content/librispeech-other/LibriSpeech/test-other/533/131564/533-131564-0026.flac': 'YOU NEVER TRIED ME MILLY SAID HE', '/content/librispeech-other/LibriSpeech/test-other/533/131564/533-131564-0007.flac': 'NEVER MIND MY PLAIN SPEAKING SAID I IT IS FROM THE BEST OF MOTIVES', '/content/librispeech-other/LibriSpeech/test-other/533/131564/533-131564-0015.flac': 'I KNOW THEY ARE BLESS THEM', '/content/librispeech-other/LibriSpeech/test-other/533/131564/533-131564-0001.flac': 'MISTER AND MISSUS HATTERSLEY HAVE BEEN STAYING AT THE GROVE A FORTNIGHT AND AS MISTER HARGRAVE IS STILL ABSENT AND THE WEATHER WAS REMARKABLY FINE I NEVER PASSED A DAY WITHOUT SEEING MY TWO FRIENDS MILICENT AND ESTHER EITHER THERE OR HERE', '/content/librispeech-other/LibriSpeech/test-other/533/131564/533-131564-0019.flac': \"I'VE BEEN A CURSED RASCAL GOD KNOWS SAID HE AS HE GAVE IT A HEARTY SQUEEZE BUT YOU SEE IF I DON'T MAKE AMENDS FOR IT D N ME IF I DON'T\", '/content/librispeech-other/LibriSpeech/test-other/533/131564/533-131564-0022.flac': \"WHERE'S MILICENT\", '/content/librispeech-other/LibriSpeech/test-other/533/131564/533-131564-0025.flac': \"CRIED SHE I COULDN'T HAVE INFLUENCED HIM I'M SURE BY ANYTHING THAT I COULD HAVE SAID\", '/content/librispeech-other/LibriSpeech/test-other/533/131564/533-131564-0016.flac': 'HE FOLLOWED ME INTO THE LIBRARY', '/content/librispeech-other/LibriSpeech/test-other/533/131564/533-131564-0024.flac': 'MILICENT FLEW TO THANK ME OVERFLOWING WITH GRATITUDE', '/content/librispeech-other/LibriSpeech/test-other/533/131564/533-131564-0003.flac': \"I CAN'T YOU DON'T WANT HIM DO YOU\", '/content/librispeech-other/LibriSpeech/test-other/533/131564/533-131564-0011.flac': \"NOW DON'T BURST INTO A TEMPEST AT THAT\", '/content/librispeech-other/LibriSpeech/test-other/533/131564/533-131564-0010.flac': 'FIRE AND FURY', '/content/librispeech-other/LibriSpeech/test-other/533/131564/533-131564-0004.flac': 'IT IS A RESOLUTION YOU OUGHT TO HAVE FORMED LONG AGO', '/content/librispeech-other/LibriSpeech/test-other/533/131564/533-131564-0005.flac': \"WE ALL HAVE A BIT OF A LIKING FOR HIM AT THE BOTTOM OF OUR HEARTS THOUGH WE CAN'T RESPECT HIM\", '/content/librispeech-other/LibriSpeech/test-other/533/131564/533-131564-0021.flac': \"GOD HELP ME THEN FOR I'M SURE I NEED IT\", '/content/librispeech-other/LibriSpeech/test-other/533/131564/533-131564-0000.flac': 'VAIN HOPE I FEAR', '/content/librispeech-other/LibriSpeech/test-other/533/131564/533-131564-0014.flac': 'WHAT WOULD YOU MAKE OF ME AND THE CHILDREN TO BE SURE THAT WORRY HER TO DEATH BETWEEN THEM', '/content/librispeech-other/LibriSpeech/test-other/533/131556/533-131556-0023.flac': 'I WOULD NOT FOR MUCH THAT SHE SHOULD KNOW THE INFAMY AND DISGRACE OF HER RELATION', '/content/librispeech-other/LibriSpeech/test-other/533/131556/533-131556-0012.flac': 'I ENJOY A MOONLIGHT RAMBLE AS WELL AS YOU I ANSWERED STEADILY FIXING MY EYES UPON HER AND THE SHRUBBERY HAPPENS TO BE ONE OF MY FAVOURITE RESORTS', '/content/librispeech-other/LibriSpeech/test-other/533/131556/533-131556-0000.flac': 'BUT HOW AM I TO GET OVER THE TEN OR TWELVE DAYS THAT MUST YET ELAPSE BEFORE THEY GO', '/content/librispeech-other/LibriSpeech/test-other/533/131556/533-131556-0003.flac': 'I SOMETIMES THINK I OUGHT TO GIVE HIM CREDIT FOR THE GOOD FEELING HE SIMULATES SO WELL AND THEN AGAIN I THINK IT IS MY DUTY TO SUSPECT HIM UNDER THE PECULIAR CIRCUMSTANCES IN WHICH I AM PLACED', '/content/librispeech-other/LibriSpeech/test-other/533/131556/533-131556-0017.flac': 'SHE PAUSED IN EVIDENT DISCONCERTION AND PERPLEXITY MINGLED WITH ANGER SHE DARED NOT SHOW', '/content/librispeech-other/LibriSpeech/test-other/533/131556/533-131556-0022.flac': 'AND MILICENT WILL YOU TELL HER', '/content/librispeech-other/LibriSpeech/test-other/533/131556/533-131556-0004.flac': 'I HAVE DONE WELL TO RECORD THEM SO MINUTELY', '/content/librispeech-other/LibriSpeech/test-other/533/131556/533-131556-0005.flac': 'THEY HAD BETAKEN THEMSELVES TO THEIR WORK I LESS TO DIVERT MY MIND THAN TO DEPRECATE CONVERSATION HAD PROVIDED MYSELF WITH A BOOK', '/content/librispeech-other/LibriSpeech/test-other/533/131556/533-131556-0014.flac': 'I WATCHED HER A FEW MOMENTS WITH A FEELING OF MALEVOLENT GRATIFICATION THEN MOVING TOWARDS THE DOOR I CALMLY ASKED IF SHE HAD ANYTHING MORE TO SAY', '/content/librispeech-other/LibriSpeech/test-other/533/131556/533-131556-0019.flac': 'IF YOU ARE GENEROUS HERE IS A FITTING OPPORTUNITY FOR THE EXERCISE OF YOUR MAGNANIMITY IF YOU ARE PROUD HERE AM I YOUR RIVAL READY TO ACKNOWLEDGE MYSELF YOUR DEBTOR FOR AN ACT OF THE MOST NOBLE FORBEARANCE', '/content/librispeech-other/LibriSpeech/test-other/533/131556/533-131556-0024.flac': 'YOU USE HARD WORDS MISSUS HUNTINGDON BUT I CAN PARDON YOU', '/content/librispeech-other/LibriSpeech/test-other/533/131556/533-131556-0006.flac': 'I AM TOO WELL ACQUAINTED WITH YOUR CHARACTER AND CONDUCT TO FEEL ANY REAL FRIENDSHIP FOR YOU AND AS I AM WITHOUT YOUR TALENT FOR DISSIMULATION I CANNOT ASSUME THE APPEARANCE OF IT', '/content/librispeech-other/LibriSpeech/test-other/533/131556/533-131556-0002.flac': 'THE WORD STARES ME IN THE FACE LIKE A GUILTY CONFESSION BUT IT IS TRUE I HATE HIM I HATE HIM', '/content/librispeech-other/LibriSpeech/test-other/533/131556/533-131556-0015.flac': 'YES YES', '/content/librispeech-other/LibriSpeech/test-other/533/131556/533-131556-0025.flac': 'HOW DARE YOU MENTION HIS NAME TO ME', '/content/librispeech-other/LibriSpeech/test-other/533/131556/533-131556-0009.flac': 'WILL YOU OBLIGE ME HELEN CONTINUED SHE', '/content/librispeech-other/LibriSpeech/test-other/533/131556/533-131556-0007.flac': 'UPON PERUSING THIS SHE TURNED SCARLET AND BIT HER LIP', '/content/librispeech-other/LibriSpeech/test-other/533/131556/533-131556-0008.flac': \"YOU MAY GO MILICENT AND SHE'LL FOLLOW IN A WHILE MILICENT WENT\", '/content/librispeech-other/LibriSpeech/test-other/533/131556/533-131556-0016.flac': 'SUPPOSE I DO', '/content/librispeech-other/LibriSpeech/test-other/533/131556/533-131556-0010.flac': 'AH YOU ARE SUSPICIOUS', '/content/librispeech-other/LibriSpeech/test-other/533/131556/533-131556-0011.flac': 'IF I WERE SUSPICIOUS I REPLIED I SHOULD HAVE DISCOVERED YOUR INFAMY LONG BEFORE', '/content/librispeech-other/LibriSpeech/test-other/533/131556/533-131556-0013.flac': 'SHE COLOURED AGAIN EXCESSIVELY AND REMAINED SILENT PRESSING HER FINGER AGAINST HER TEETH AND GAZING INTO THE FIRE', '/content/librispeech-other/LibriSpeech/test-other/533/131556/533-131556-0021.flac': 'GIVE ME NO THANKS IT IS NOT FOR YOUR SAKE THAT I REFRAIN', '/content/librispeech-other/LibriSpeech/test-other/533/131556/533-131556-0018.flac': 'I CANNOT RENOUNCE WHAT IS DEARER THAN LIFE SHE MUTTERED IN A LOW HURRIED TONE', '/content/librispeech-other/LibriSpeech/test-other/533/131556/533-131556-0001.flac': 'FOR NONE COULD INJURE ME AS HE HAS DONE OH', '/content/librispeech-other/LibriSpeech/test-other/533/131556/533-131556-0020.flac': 'I SHALL NOT TELL HIM', '/content/librispeech-other/LibriSpeech/test-other/533/1066/533-1066-0016.flac': 'I HARDLY KNOW WHAT I EXPECTED', '/content/librispeech-other/LibriSpeech/test-other/533/1066/533-1066-0008.flac': 'THE MOST UNUSUAL THING I CAN THINK OF WOULD BE A PEACEFUL NIGHT', '/content/librispeech-other/LibriSpeech/test-other/533/1066/533-1066-0015.flac': 'ONCE ONLY SOMEBODY SPOKE AND THEN IT WAS AN EMPHATIC BIT OF PROFANITY FROM DOCTOR STEWART WHEN HE RAN INTO A WIRE FENCE', '/content/librispeech-other/LibriSpeech/test-other/533/1066/533-1066-0010.flac': 'PUT ON HEAVY SHOES AND SOME OLD DARK CLOTHES AND MAKE UP YOUR MIND NOT TO BE SURPRISED AT ANYTHING', '/content/librispeech-other/LibriSpeech/test-other/533/1066/533-1066-0003.flac': 'FORTUNATELY WARNER AND THE DETECTIVES WERE KEEPING BACHELOR HALL IN THE LODGE', '/content/librispeech-other/LibriSpeech/test-other/533/1066/533-1066-0020.flac': 'IT WAS ALEX ARMED WITH TWO LONG HANDLED SPADES', '/content/librispeech-other/LibriSpeech/test-other/533/1066/533-1066-0011.flac': 'LIDDY WAS SLEEPING THE SLEEP OF THE JUST WHEN I WENT UP STAIRS AND I HUNTED OUT MY THINGS CAUTIOUSLY', '/content/librispeech-other/LibriSpeech/test-other/533/1066/533-1066-0022.flac': \"THERE'S ONE THING SURE I'LL NOT BE SUSPECTED OF COMPLICITY\", '/content/librispeech-other/LibriSpeech/test-other/533/1066/533-1066-0007.flac': 'I MEAN HE PERSISTED DO YOU FEEL AS THOUGH YOU COULD GO THROUGH WITH SOMETHING RATHER UNUSUAL', '/content/librispeech-other/LibriSpeech/test-other/533/1066/533-1066-0024.flac': 'I HELD ON TO HIM FRANTICALLY AND SOMEHOW I GOT THERE AND LOOKED DOWN', '/content/librispeech-other/LibriSpeech/test-other/533/1066/533-1066-0004.flac': 'OUT OF DEFERENCE TO LIDDY THEY WASHED THEIR DISHES ONCE A DAY AND THEY CONCOCTED QUEER MESSES ACCORDING TO THEIR SEVERAL ABILITIES', '/content/librispeech-other/LibriSpeech/test-other/533/1066/533-1066-0009.flac': 'SOMETHING IS GOING TO OCCUR HE SAID', '/content/librispeech-other/LibriSpeech/test-other/533/1066/533-1066-0006.flac': 'I HAVE NONE I SAID HAPPILY', '/content/librispeech-other/LibriSpeech/test-other/533/1066/533-1066-0012.flac': 'THEY WERE TALKING CONFIDENTIALLY TOGETHER BUT WHEN I CAME DOWN THEY CEASED', '/content/librispeech-other/LibriSpeech/test-other/533/1066/533-1066-0023.flac': 'A DOCTOR IS GENERALLY SUPPOSED TO BE HANDIER AT BURYING FOLKS THAN AT DIGGING THEM UP', '/content/librispeech-other/LibriSpeech/test-other/533/1066/533-1066-0002.flac': 'I AM SURE I KISSED LIDDY AND I HAVE HAD TERRIBLE MOMENTS SINCE WHEN I SEEM TO REMEMBER KISSING MISTER JAMIESON TOO IN THE EXCITEMENT', '/content/librispeech-other/LibriSpeech/test-other/533/1066/533-1066-0018.flac': 'I CONFESS THAT JUST AT THAT MINUTE EVEN SUNNYSIDE SEEMED A CHEERFUL SPOT', '/content/librispeech-other/LibriSpeech/test-other/533/1066/533-1066-0000.flac': 'WHEN CHURCHYARDS YAWN', '/content/librispeech-other/LibriSpeech/test-other/533/1066/533-1066-0013.flac': 'THERE WERE A FEW PREPARATIONS TO BE MADE THE LOCKS TO BE GONE OVER WINTERS TO BE INSTRUCTED AS TO RENEWED VIGILANCE AND THEN AFTER EXTINGUISHING THE HALL LIGHT WE CREPT IN THE DARKNESS THROUGH THE FRONT DOOR AND INTO THE NIGHT', '/content/librispeech-other/LibriSpeech/test-other/533/1066/533-1066-0014.flac': 'I ASKED NO QUESTIONS', '/content/librispeech-other/LibriSpeech/test-other/533/1066/533-1066-0005.flac': 'MISS INNES HE SAID STOPPING ME AS I WAS ABOUT TO GO TO MY ROOM UP STAIRS HOW ARE YOUR NERVES TONIGHT', '/content/librispeech-other/LibriSpeech/test-other/533/1066/533-1066-0001.flac': 'I KNEW WELL ENOUGH THAT HE MIGHT BE CARRIED THOUSANDS OF MILES IN THE BOX CAR LOCKED IN PERHAPS WITHOUT WATER OR FOOD', '/content/librispeech-other/LibriSpeech/test-other/533/1066/533-1066-0021.flac': 'THE DOCTOR KEPT A KEEN LOOKOUT BUT NO ONE APPEARED', '/content/librispeech-other/LibriSpeech/test-other/533/1066/533-1066-0017.flac': 'THE DOCTOR WAS PUFFING SOMEWHAT WHEN WE FINALLY CAME TO A HALT', '/content/librispeech-other/LibriSpeech/test-other/533/1066/533-1066-0019.flac': 'IN SPITE OF MYSELF I DREW MY BREATH IN SHARPLY', '/content/librispeech-other/LibriSpeech/test-other/7018/75788/7018-75788-0009.flac': 'WHEN IT WAS THE FIVE HUNDRED AND FIFTY NINTH NIGHT', '/content/librispeech-other/LibriSpeech/test-other/7018/75788/7018-75788-0005.flac': 'THEN HE CARRIED ME TO THE BEACH WHERE I FILLED MY BAG WITH PEBBLES LARGE AND SMALL AND PRESENTLY WE SAW A COMPANY OF FOLK ISSUE FROM THE TOWN EACH BEARING A BAG LIKE MINE FILLED WITH PEBBLES', '/content/librispeech-other/LibriSpeech/test-other/7018/75788/7018-75788-0017.flac': 'BUT IT BURNETH IN THEIR BELLIES SO THEY CAST IT UP AGAIN AND IT CONGEALETH ON THE SURFACE OF THE WATER WHEREBY ITS COLOR AND QUANTITIES ARE CHANGED AND AT LAST THE WAVES CAST IT ASHORE AND THE TRAVELLERS AND MERCHANTS WHO KNOW IT COLLECT IT AND SELL IT', '/content/librispeech-other/LibriSpeech/test-other/7018/75788/7018-75788-0003.flac': 'UPON THIS HE BROUGHT ME A COTTON BAG AND GIVING IT TO ME SAID TAKE THIS BAG AND FILL IT WITH PEBBLES FROM THE BEACH AND GO FORTH WITH A COMPANY OF THE TOWNSFOLK TO WHOM I WILL GIVE A CHARGE RESPECTING THEE', '/content/librispeech-other/LibriSpeech/test-other/7018/75788/7018-75788-0001.flac': 'BEHOLD A SHIP WAS MAKING FOR THE ISLAND THROUGH THE DASHING SEA AND CLASHING WAVES', '/content/librispeech-other/LibriSpeech/test-other/7018/75788/7018-75788-0006.flac': 'TO THESE HE COMMITTED ME COMMENDING ME TO THEIR CARE AND SAYING THIS MAN IS A STRANGER SO TAKE HIM WITH YOU AND TEACH HIM HOW TO GATHER THAT HE MAY GET HIS DAILY BREAD AND YOU WILL EARN YOUR REWARD AND RECOMPENSE IN HEAVEN', '/content/librispeech-other/LibriSpeech/test-other/7018/75788/7018-75788-0008.flac': 'WE WEIGHED ANCHOR AND SHAHRAZAD PERCEIVED THE DAWN OF DAY AND CEASED SAYING HER PERMITTED SAY', '/content/librispeech-other/LibriSpeech/test-other/7018/75788/7018-75788-0007.flac': 'NOW SLEEPING UNDER THESE TREES WERE MANY APES WHICH WHEN THEY SAW US ROSE AND FLED FROM US AND SWARMED UP AMONG THE BRANCHES WHEREUPON MY COMPANIONS BEGAN TO PELT THEM WITH WHAT THEY HAD IN THEIR BAGS AND THE APES FELL TO PLUCKING OF THE FRUIT OF THE TREES AND CASTING THEM AT THE FOLK', '/content/librispeech-other/LibriSpeech/test-other/7018/75788/7018-75788-0014.flac': 'HERE I FOUND A GREAT SHIP READY FOR SEA AND FULL OF MERCHANTS AND NOTABLES WHO HAD WITH THEM GOODS OF PRICE SO I EMBARKED MY BALES THEREIN', '/content/librispeech-other/LibriSpeech/test-other/7018/75788/7018-75788-0012.flac': 'AFTER WHICH I RETURNED TO MY OLD MERRY WAY OF LIFE AND FORGOT ALL I HAD SUFFERED IN THE GREAT PROFIT AND GAIN I HAD MADE', '/content/librispeech-other/LibriSpeech/test-other/7018/75788/7018-75788-0010.flac': 'AND CEASED NOT SAILING TILL WE ARRIVED SAFELY AT BASSORAH', '/content/librispeech-other/LibriSpeech/test-other/7018/75788/7018-75788-0016.flac': 'PRESENTLY THE SHIP STRUCK THE MOUNTAIN AND BROKE UP AND ALL AND EVERYTHING ON BOARD OF HER WERE PLUNGED INTO THE SEA', '/content/librispeech-other/LibriSpeech/test-other/7018/75788/7018-75788-0000.flac': 'THEN I TOOK UP A GREAT STONE FROM AMONG THE TREES AND COMING UP TO HIM SMOTE HIM THEREWITH ON THE HEAD WITH ALL MY MIGHT AND CRUSHED IN HIS SKULL AS HE LAY DEAD DRUNK', '/content/librispeech-other/LibriSpeech/test-other/7018/75788/7018-75788-0015.flac': 'HAPLY AMONGST YOU IS ONE RIGHTEOUS WHOSE PRAYERS THE LORD WILL ACCEPT', '/content/librispeech-other/LibriSpeech/test-other/7018/75788/7018-75788-0013.flac': 'NEXT MORNING AS SOON AS IT WAS LIGHT HE PRAYED THE DAWN PRAYER AND AFTER BLESSING MOHAMMED THE CREAM OF ALL CREATURES BETOOK HIMSELF TO THE HOUSE OF SINDBAD THE SEAMAN AND WISHED HIM A GOOD DAY', '/content/librispeech-other/LibriSpeech/test-other/7018/75788/7018-75788-0011.flac': 'THERE I ABODE A LITTLE AND THEN WENT ON TO BAGHDAD WHERE I ENTERED MY QUARTER AND FOUND MY HOUSE AND FOREGATHERED WITH MY FAMILY AND SALUTED MY FRIENDS WHO GAVE ME JOY OF MY SAFE RETURN AND I LAID UP ALL MY GOODS AND VALUABLES IN MY STOREHOUSES', '/content/librispeech-other/LibriSpeech/test-other/7018/75788/7018-75788-0004.flac': 'DO AS THEY DO AND BELIKE THOU SHALT GAIN WHAT MAY FURTHER THY RETURN VOYAGE TO THY NATIVE LAND', '/content/librispeech-other/LibriSpeech/test-other/7018/75788/7018-75788-0002.flac': 'HEARING THIS I WAS SORE TROUBLED REMEMBERING WHAT I HAD BEFORE SUFFERED FROM THE APE KIND', '/content/librispeech-other/LibriSpeech/test-other/7018/75788/7018-75788-0019.flac': 'BUT THERE IS MAJESTY AND THERE IS NO MIGHT SAVE IN ALLAH THE GLORIOUS THE GREAT', '/content/librispeech-other/LibriSpeech/test-other/7018/75788/7018-75788-0018.flac': 'EACH THAT DIED WE WASHED AND SHROUDED IN SOME OF THE CLOTHES AND LINEN CAST ASHORE BY THE TIDES AND AFTER A LITTLE THE REST OF MY FELLOWS PERISHED ONE BY ONE TILL I HAD BURIED THE LAST OF THE PARTY AND ABODE ALONE ON THE ISLAND WITH BUT A LITTLE PROVISION LEFT I WHO WAS WONT TO HAVE SO MUCH', '/content/librispeech-other/LibriSpeech/test-other/7018/75789/7018-75789-0028.flac': 'BUT THE CAPTAIN AROSE AND TIGHTENING HIS GIRDLE TUCKED UP HIS SKIRTS AND AFTER TAKING REFUGE WITH ALLAH FROM SATAN THE STONED CLOMB TO THE MAST HEAD WHENCE HE LOOKED OUT RIGHT AND LEFT AND GAZING AT THE PASSENGERS AND CREW FELL TO BUFFETING HIS FACE AND PLUCKING OUT HIS BEARD', '/content/librispeech-other/LibriSpeech/test-other/7018/75789/7018-75789-0011.flac': 'SHE SAID IT HATH REACHED ME O AUSPICIOUS KING THAT SINDBAD THE SEAMAN CONTINUED WHEN I LANDED AND FOUND MYSELF AMONGST THE INDIANS AND ABYSSINIANS AND HAD TAKEN SOME REST THEY CONSULTED AMONG THEMSELVES AND SAID TO ONE ANOTHER THERE IS NO HELP FOR IT BUT WE CARRY HIM WITH US AND PRESENT HIM TO OUR KING THAT HE MAY ACQUAINT HIM WITH HIS ADVENTURES', '/content/librispeech-other/LibriSpeech/test-other/7018/75789/7018-75789-0018.flac': 'FOR STATE PROCESSIONS A THRONE IS SET FOR HIM UPON A HUGE ELEPHANT ELEVEN CUBITS HIGH AND UPON THIS HE SITTETH HAVING HIS GREAT LORDS AND OFFICERS AND GUESTS STANDING IN TWO RANKS ON HIS RIGHT HAND AND ON HIS LEFT', '/content/librispeech-other/LibriSpeech/test-other/7018/75789/7018-75789-0012.flac': 'SO I CONSORTED WITH THE CHIEF OF THE ISLANDERS AND THEY PAID ME THE UTMOST RESPECT', '/content/librispeech-other/LibriSpeech/test-other/7018/75789/7018-75789-0007.flac': 'WHEN THEY SAW I UNDERSTOOD THEM NOT AND MADE THEM NO ANSWER ONE OF THEM CAME FORWARD AND SAID TO ME IN ARABIC PEACE BE WITH THEE O MY BROTHER', '/content/librispeech-other/LibriSpeech/test-other/7018/75789/7018-75789-0026.flac': 'KNOW O COMPANY THAT AFTER MY RETURN FROM MY SIXTH VOYAGE WHICH BROUGHT ME ABUNDANT PROFIT I RESUMED MY FORMER LIFE IN ALL POSSIBLE JOYANCE AND ENJOYMENT AND MIRTH AND MAKING MERRY DAY AND NIGHT AND I TARRIED SOME TIME IN THIS SOLACE AND SATISFACTION TILL MY SOUL BEGAN ONCE MORE TO LONG TO SAIL THE SEAS AND SEE FOREIGN COUNTRIES AND COMPANY WITH MERCHANTS AND HEAR NEW THINGS', '/content/librispeech-other/LibriSpeech/test-other/7018/75789/7018-75789-0016.flac': 'THEN I TOOK LEAVE OF HIM AND OF ALL MY INTIMATES AND ACQUAINTANCES IN THE ISLAND AND EMBARKED WITH THE MERCHANTS AFORESAID', '/content/librispeech-other/LibriSpeech/test-other/7018/75789/7018-75789-0000.flac': 'WHEN IT WAS THE FIVE HUNDRED AND SIXTY FIRST NIGHT', '/content/librispeech-other/LibriSpeech/test-other/7018/75789/7018-75789-0023.flac': 'WHEN IT WAS THE FIVE HUNDRED AND SIXTY THIRD NIGHT', '/content/librispeech-other/LibriSpeech/test-other/7018/75789/7018-75789-0001.flac': 'THEN SIGHING FOR MYSELF I SET TO WORK COLLECTING A NUMBER OF PIECES OF CHINESE AND COMORIN ALOES WOOD AND I BOUND THEM TOGETHER WITH ROPES FROM THE WRECKAGE THEN I CHOSE OUT FROM THE BROKEN UP SHIPS STRAIGHT PLANKS OF EVEN SIZE AND FIXED THEM FIRMLY UPON THE ALOES WOOD MAKING ME A BOAT RAFT A LITTLE NARROWER THAN THE CHANNEL OF THE STREAM AND I TIED IT TIGHTLY AND FIRMLY AS THOUGH IT WERE NAILED', '/content/librispeech-other/LibriSpeech/test-other/7018/75789/7018-75789-0029.flac': 'THIS HE SET IN A SAUCER WETTED WITH A LITTLE WATER AND AFTER WAITING A SHORT TIME SMELT AND TASTED IT AND THEN HE TOOK OUT OF THE CHEST A BOOKLET WHEREIN HE READ AWHILE AND SAID WEEPING KNOW O YE PASSENGERS THAT IN THIS BOOK IS A MARVELLOUS MATTER DENOTING THAT WHOSO COMETH HITHER SHALL SURELY DIE WITHOUT HOPE OF ESCAPE FOR THAT THIS OCEAN IS CALLED THE SEA OF THE CLIME OF THE KING WHEREIN IS THE SEPULCHRE OF OUR LORD SOLOMON SON OF DAVID ON BOTH BE PEACE', '/content/librispeech-other/LibriSpeech/test-other/7018/75789/7018-75789-0009.flac': \"I ANSWERED FOR ALLAH'S SAKE O MY LORD ERE I SPEAK GIVE ME SOMEWHAT TO EAT FOR I AM STARVING AND AFTER ASK ME WHAT THOU WILT\", '/content/librispeech-other/LibriSpeech/test-other/7018/75789/7018-75789-0025.flac': 'THE SEVENTH VOYAGE OF SINDBAD THE SEAMAN', '/content/librispeech-other/LibriSpeech/test-other/7018/75789/7018-75789-0005.flac': 'WHEN I AWOKE AT LAST I FOUND MYSELF IN THE LIGHT OF HEAVEN AND OPENING MY EYES I SAW MYSELF IN A BROAD STREAM AND THE RAFT MOORED TO AN ISLAND IN THE MIDST OF A NUMBER OF INDIANS AND ABYSSINIANS', '/content/librispeech-other/LibriSpeech/test-other/7018/75789/7018-75789-0002.flac': 'LAND AFTER LAND SHALT THOU SEEK AND FIND BUT NO OTHER LIFE ON THY WISH SHALL WAIT FRET NOT THY SOUL IN THY THOUGHTS O NIGHT ALL WOES SHALL END OR SOONER OR LATE', '/content/librispeech-other/LibriSpeech/test-other/7018/75789/7018-75789-0020.flac': 'PRESENTLY MY FRIENDS CAME TO ME AND I DISTRIBUTED PRESENTS AMONG MY FAMILY AND GAVE ALMS AND LARGESSE AFTER WHICH I YIELDED MYSELF TO JOYANCE AND ENJOYMENT MIRTH AND MERRY MAKING AND FORGOT ALL THAT I HAD SUFFERED', '/content/librispeech-other/LibriSpeech/test-other/7018/75789/7018-75789-0010.flac': 'WHEN IT WAS THE FIVE HUNDRED AND SIXTY SECOND NIGHT', '/content/librispeech-other/LibriSpeech/test-other/7018/75789/7018-75789-0003.flac': 'I ROWED MY CONVEYANCE INTO THE PLACE WHICH WAS INTENSELY DARK AND THE CURRENT CARRIED THE RAFT WITH IT DOWN THE UNDERGROUND CHANNEL', '/content/librispeech-other/LibriSpeech/test-other/7018/75789/7018-75789-0006.flac': 'BUT I WAS DELIGHTED AT MY ESCAPE FROM THE RIVER', '/content/librispeech-other/LibriSpeech/test-other/7018/75789/7018-75789-0017.flac': 'HE ASKED ME WHENCE THEY CAME AND I SAID TO HIM BY ALLAH O COMMANDER OF THE FAITHFUL I KNOW NOT THE NAME OF THE CITY NOR THE WAY THITHER', '/content/librispeech-other/LibriSpeech/test-other/7018/75789/7018-75789-0013.flac': \"SO I ROSE WITHOUT STAY OR DELAY AND KISSED THE KING'S HAND AND ACQUAINTED HIM WITH MY LONGING TO SET OUT WITH THE MERCHANTS FOR THAT I PINED AFTER MY PEOPLE AND MINE OWN LAND\", '/content/librispeech-other/LibriSpeech/test-other/7018/75789/7018-75789-0024.flac': 'SHE SAID IT HATH REACHED ME O AUSPICIOUS KING THAT WHEN SINDBAD THE SEAMAN HAD RELATED THE HISTORY OF WHAT BEFEL HIM IN HIS SIXTH VOYAGE AND ALL THE COMPANY HAD DISPERSED SINDBAD THE LANDSMAN WENT HOME AND SLEPT AS OF WONT', '/content/librispeech-other/LibriSpeech/test-other/7018/75789/7018-75789-0021.flac': 'SUCH THEN O MY BROTHERS IS THE HISTORY OF WHAT BEFEL ME IN MY SIXTH VOYAGE AND TO MORROW INSHALLAH', '/content/librispeech-other/LibriSpeech/test-other/7018/75789/7018-75789-0015.flac': 'BY ALLAH O MY LORD ANSWERED I THOU HAST INDEED OVERWHELMED ME WITH THY FAVOURS AND WELL DOINGS BUT I WEARY FOR A SIGHT OF MY FRIENDS AND FAMILY AND NATIVE COUNTRY', '/content/librispeech-other/LibriSpeech/test-other/7018/75789/7018-75789-0031.flac': 'WHEN SUDDENLY A VIOLENT SQUALL OF WIND AROSE AND SMOTE THE SHIP WHICH ROSE OUT OF THE WATER AND SETTLED UPON A GREAT REEF THE HAUNT OF SEA MONSTERS WHERE IT BROKE UP AND FELL ASUNDER INTO PLANKS AND ALL AND EVERYTHING ON BOARD WERE PLUNGED INTO THE SEA', '/content/librispeech-other/LibriSpeech/test-other/7018/75789/7018-75789-0019.flac': 'HIS LETTER HATH SHOWN ME THIS AND AS FOR THE MIGHTINESS OF HIS DOMINION THOU HAST TOLD US WHAT THOU HAST EYE WITNESSED', '/content/librispeech-other/LibriSpeech/test-other/7018/75789/7018-75789-0030.flac': 'A SECOND FISH MADE ITS APPEARANCE THAN WHICH WE HAD SEEN NAUGHT MORE MONSTROUS', '/content/librispeech-other/LibriSpeech/test-other/7018/75789/7018-75789-0022.flac': 'I WILL TELL YOU THE STORY OF MY SEVENTH AND LAST VOYAGE WHICH IS STILL MORE WONDROUS AND MARVELLOUS THAN THAT OF THE FIRST SIX', '/content/librispeech-other/LibriSpeech/test-other/7018/75789/7018-75789-0004.flac': 'AND I THREW MYSELF DOWN UPON MY FACE ON THE RAFT BY REASON OF THE NARROWNESS OF THE CHANNEL WHILST THE STREAM CEASED NOT TO CARRY ME ALONG KNOWING NOT NIGHT FROM DAY FOR THE EXCESS OF THE GLOOM WHICH ENCOMPASSED ME ABOUT AND MY TERROR AND CONCERN FOR MYSELF LEST I SHOULD PERISH', '/content/librispeech-other/LibriSpeech/test-other/7018/75789/7018-75789-0008.flac': 'O MY BROTHER ANSWERED HE WE ARE HUSBANDMEN AND TILLERS OF THE SOIL WHO CAME OUT TO WATER OUR FIELDS AND PLANTATIONS AND FINDING THEE ASLEEP ON THIS RAFT LAID HOLD OF IT AND MADE IT FAST BY US AGAINST THOU SHOULDST AWAKE AT THY LEISURE', '/content/librispeech-other/LibriSpeech/test-other/7018/75789/7018-75789-0027.flac': 'SO HAVING MADE UP MY MIND I PACKED UP IN BALES A QUANTITY OF PRECIOUS STUFFS SUITED FOR SEA TRADE AND REPAIRED WITH THEM FROM BAGHDAD CITY TO BASSORAH TOWN WHERE I FOUND A SHIP READY FOR SEA AND IN HER A COMPANY OF CONSIDERABLE MERCHANTS', '/content/librispeech-other/LibriSpeech/test-other/7018/75789/7018-75789-0014.flac': 'QUOTH HE THOU ART THINE OWN MASTER YET IF IT BE THY WILL TO ABIDE WITH US ON OUR HEAD AND EYES BE IT FOR THOU GLADDENEST US WITH THY COMPANY', '/content/librispeech-other/LibriSpeech/test-other/1688/142285/1688-142285-0070.flac': 'BUT YOU WILL BE THERE FATHER YOU SHALL OH MY HEART', '/content/librispeech-other/LibriSpeech/test-other/1688/142285/1688-142285-0038.flac': 'BETTER AND NOT BETTER IF YO KNOW WHAT THAT MEANS', '/content/librispeech-other/LibriSpeech/test-other/1688/142285/1688-142285-0005.flac': 'YOU WHO WERE ALWAYS ACCUSING PEOPLE OF BEING SHOPPY AT HELSTONE', '/content/librispeech-other/LibriSpeech/test-other/1688/142285/1688-142285-0060.flac': 'BUT SURELY SAID MARGARET FACING ROUND YOU BELIEVE IN WHAT I SAID THAT GOD GAVE HER LIFE AND ORDERED WHAT KIND OF LIFE IT WAS TO BE', '/content/librispeech-other/LibriSpeech/test-other/1688/142285/1688-142285-0057.flac': \"MARGARET BENT OVER AND SAID BESSY DON'T BE IMPATIENT WITH YOUR LIFE WHATEVER IT IS OR MAY HAVE BEEN\", '/content/librispeech-other/LibriSpeech/test-other/1688/142285/1688-142285-0006.flac': \"I DON'T THINK MISTER HALE YOU HAVE DONE QUITE RIGHT IN INTRODUCING SUCH A PERSON TO US WITHOUT TELLING US WHAT HE HAD BEEN\", '/content/librispeech-other/LibriSpeech/test-other/1688/142285/1688-142285-0014.flac': 'SO THEY LEFT MILTON', '/content/librispeech-other/LibriSpeech/test-other/1688/142285/1688-142285-0072.flac': 'MARGARET HELD HER IN HER ARMS AND PUT THE WEARY HEAD TO REST UPON HER BOSOM', '/content/librispeech-other/LibriSpeech/test-other/1688/142285/1688-142285-0022.flac': 'JUST AS SHE WAS LEAVING THE ROOM SHE HESITATED SHE WAS INCLINED TO MAKE AN ACKNOWLEDGMENT WHICH SHE THOUGHT WOULD PLEASE HER FATHER BUT WHICH TO BE FULL AND TRUE MUST INCLUDE A LITTLE ANNOYANCE', '/content/librispeech-other/LibriSpeech/test-other/1688/142285/1688-142285-0078.flac': 'HAVE YOU MET WITH A SERVANT DEAR', '/content/librispeech-other/LibriSpeech/test-other/1688/142285/1688-142285-0075.flac': 'I WILL COME TO MORROW SAID MARGARET', '/content/librispeech-other/LibriSpeech/test-other/1688/142285/1688-142285-0034.flac': 'A SERVANT TO GIVE DIXON PERMANENT ASSISTANCE SHOULD BE GOT IF SHE GAVE UP HER WHOLE TIME TO THE SEARCH AND THEN AT ANY RATE HER MOTHER MIGHT HAVE ALL THE PERSONAL ATTENTION SHE REQUIRED AND HAD BEEN ACCUSTOMED TO HER WHOLE LIFE', '/content/librispeech-other/LibriSpeech/test-other/1688/142285/1688-142285-0052.flac': 'AS THEY TURNED UP INTO A SMALL COURT OPENING OUT OF A SQUALID STREET BESSY SAID', '/content/librispeech-other/LibriSpeech/test-other/1688/142285/1688-142285-0021.flac': \"MARGARET WAS COLLECTING HER MOTHER'S WORKING MATERIALS AND PREPARING TO GO TO BED\", '/content/librispeech-other/LibriSpeech/test-other/1688/142285/1688-142285-0032.flac': \"BUT THOUGH SHE RECEIVED CARESSES AND FOND WORDS BACK AGAIN IN SUCH PROFUSION AS WOULD HAVE GLADDENED HER FORMERLY YET SHE FELT THAT THERE WAS A SECRET WITHHELD FROM HER AND SHE BELIEVED IT BORE SERIOUS REFERENCE TO HER MOTHER'S HEALTH\", '/content/librispeech-other/LibriSpeech/test-other/1688/142285/1688-142285-0036.flac': 'ONE AFTERNOON SHE MET BESSY HIGGINS IN THE STREET AND STOPPED TO SPEAK TO HER', '/content/librispeech-other/LibriSpeech/test-other/1688/142285/1688-142285-0062.flac': \"THAT'S WHAT I BELIEVE YOUNG WOMAN\", '/content/librispeech-other/LibriSpeech/test-other/1688/142285/1688-142285-0089.flac': 'PERHAPS SHE MAY HAVE A RELATION WHO MIGHT SUIT US AND BE GLAD OF OUR PLACE', '/content/librispeech-other/LibriSpeech/test-other/1688/142285/1688-142285-0087.flac': 'MISSUS THORNTON THE ONLY MOTHER HE HAS I BELIEVE SAID MISTER HALE QUIETLY', '/content/librispeech-other/LibriSpeech/test-other/1688/142285/1688-142285-0061.flac': 'I BELIEVE WHAT I SEE AND NO MORE', '/content/librispeech-other/LibriSpeech/test-other/1688/142285/1688-142285-0047.flac': 'BUT WHAT WAS IT', '/content/librispeech-other/LibriSpeech/test-other/1688/142285/1688-142285-0092.flac': 'I AM SURE AT ANY RATE SHE WOULD NOT LIKE STRANGERS TO KNOW ANYTHING ABOUT IT', '/content/librispeech-other/LibriSpeech/test-other/1688/142285/1688-142285-0023.flac': 'HOWEVER OUT IT CAME', '/content/librispeech-other/LibriSpeech/test-other/1688/142285/1688-142285-0095.flac': 'THEY CARED TOO LITTLE TO ASK IN WHAT MANNER HER SON HAD SPOKEN ABOUT HER', '/content/librispeech-other/LibriSpeech/test-other/1688/142285/1688-142285-0037.flac': 'WELL BESSY HOW ARE YOU', '/content/librispeech-other/LibriSpeech/test-other/1688/142285/1688-142285-0054.flac': 'BUT NICHOLAS WAS NOT AT HOME WHEN THEY ENTERED', '/content/librispeech-other/LibriSpeech/test-other/1688/142285/1688-142285-0094.flac': \"I DON'T KNOW POSITIVELY THAT IT IS HERS EITHER BUT FROM LITTLE THINGS I HAVE GATHERED FROM HIM I FANCY SO\", '/content/librispeech-other/LibriSpeech/test-other/1688/142285/1688-142285-0077.flac': 'SHE WAS LATE FOR TEA AT HOME', '/content/librispeech-other/LibriSpeech/test-other/1688/142285/1688-142285-0024.flac': \"PAPA I DO THINK MISTER THORNTON A VERY REMARKABLE MAN BUT PERSONALLY I DON'T LIKE HIM AT ALL\", '/content/librispeech-other/LibriSpeech/test-other/1688/142285/1688-142285-0050.flac': 'I SHOULD HAVE THOUGHT OF IT AGAIN WHEN I WAS LESS BUSY MAY I GO WITH YOU NOW', '/content/librispeech-other/LibriSpeech/test-other/1688/142285/1688-142285-0086.flac': 'THE MOTHER OF WHOM HE SPOKE TO US SAID MARGARET', '/content/librispeech-other/LibriSpeech/test-other/1688/142285/1688-142285-0016.flac': 'OH PAPA BY THAT TESTING EVERYTHING BY THE STANDARD OF WEALTH', '/content/librispeech-other/LibriSpeech/test-other/1688/142285/1688-142285-0071.flac': 'SHE PUT HER HAND TO IT AND BECAME GHASTLY PALE', '/content/librispeech-other/LibriSpeech/test-other/1688/142285/1688-142285-0003.flac': 'I REALLY LIKED THAT ACCOUNT OF HIMSELF BETTER THAN ANYTHING ELSE HE SAID', '/content/librispeech-other/LibriSpeech/test-other/1688/142285/1688-142285-0042.flac': 'BUT FOR A MINUTE OR TWO SHE DID NOT SPEAK', '/content/librispeech-other/LibriSpeech/test-other/1688/142285/1688-142285-0053.flac': \"YO'LL NOT BE DAUNTED IF FATHER'S AT HOME AND SPEAKS A BIT GRUFFISH AT FIRST\", '/content/librispeech-other/LibriSpeech/test-other/1688/142285/1688-142285-0065.flac': \"IT'S SIMPLE AND NOT FAR TO FETCH NOR HARD TO WORK\", '/content/librispeech-other/LibriSpeech/test-other/1688/142285/1688-142285-0020.flac': 'IMPROVIDENT AND SELF INDULGENT WERE HIS WORDS', '/content/librispeech-other/LibriSpeech/test-other/1688/142285/1688-142285-0073.flac': 'PRESENTLY THE SPASM THAT FORESHADOWED DEATH HAD PASSED AWAY AND BESSY ROUSED HERSELF AND SAID', '/content/librispeech-other/LibriSpeech/test-other/1688/142285/1688-142285-0031.flac': 'ONCE MARGARET HAD GONE INTO THE CHAMBER SOON AFTER DIXON LEFT IT AND FOUND HER MOTHER ON HER KNEES AND AS MARGARET STOLE OUT SHE CAUGHT A FEW WORDS WHICH WERE EVIDENTLY A PRAYER FOR STRENGTH AND PATIENCE TO ENDURE SEVERE BODILY SUFFERING', '/content/librispeech-other/LibriSpeech/test-other/1688/142285/1688-142285-0030.flac': 'SHE AND DIXON HELD MYSTERIOUS CONSULTATIONS IN HER BEDROOM FROM WHICH DIXON WOULD COME OUT CRYING AND CROSS AS WAS HER CUSTOM WHEN ANY DISTRESS OF HER MISTRESS CALLED UPON HER SYMPATHY', '/content/librispeech-other/LibriSpeech/test-other/1688/142285/1688-142285-0093.flac': \"TAKE NOTICE THAT IS NOT MY KIND OF HAUGHTINESS PAPA IF I HAVE ANY AT ALL WHICH I DON'T AGREE TO THOUGH YOU'RE ALWAYS ACCUSING ME OF IT\", '/content/librispeech-other/LibriSpeech/test-other/1688/142285/1688-142285-0056.flac': 'BESSY TOOK A LONG AND FEVERISH DRAUGHT AND THEN FELL BACK AND SHUT HER EYES', '/content/librispeech-other/LibriSpeech/test-other/1688/142285/1688-142285-0048.flac': \"YOU KNOW I'M A STRANGER HERE SO PERHAPS I'M NOT SO QUICK AT UNDERSTANDING WHAT YOU MEAN AS IF I'D LIVED ALL MY LIFE AT MILTON\", '/content/librispeech-other/LibriSpeech/test-other/1688/142285/1688-142285-0063.flac': \"I DON'T BELIEVE ALL I HEAR NO NOT BY A BIG DEAL\", '/content/librispeech-other/LibriSpeech/test-other/1688/142285/1688-142285-0033.flac': 'SHE LAY AWAKE VERY LONG THIS NIGHT PLANNING HOW TO LESSEN THE EVIL INFLUENCE OF THEIR MILTON LIFE ON HER MOTHER', '/content/librispeech-other/LibriSpeech/test-other/1688/142285/1688-142285-0049.flac': 'I HAD FORGOTTEN WHAT I SAID FOR THE TIME CONTINUED MARGARET QUIETLY', '/content/librispeech-other/LibriSpeech/test-other/1688/142285/1688-142285-0058.flac': 'REMEMBER WHO GAVE IT YOU AND MADE IT WHAT IT IS', '/content/librispeech-other/LibriSpeech/test-other/1688/142285/1688-142285-0080.flac': 'SUPPOSE I TRY SAID MISTER HALE', '/content/librispeech-other/LibriSpeech/test-other/1688/142285/1688-142285-0000.flac': \"THERE'S IRON THEY SAY IN ALL OUR BLOOD AND A GRAIN OR TWO PERHAPS IS GOOD BUT HIS HE MAKES ME HARSHLY FEEL HAS GOT A LITTLE TOO MUCH OF STEEL ANON\", '/content/librispeech-other/LibriSpeech/test-other/1688/142285/1688-142285-0018.flac': 'AND THE POOR MEN AROUND HIM THEY WERE POOR BECAUSE THEY WERE VICIOUS OUT OF THE PALE OF HIS SYMPATHIES BECAUSE THEY HAD NOT HIS IRON NATURE AND THE CAPABILITIES THAT IT GIVES HIM FOR BEING RICH', '/content/librispeech-other/LibriSpeech/test-other/1688/142285/1688-142285-0088.flac': 'I SHALL LIKE TO SEE HER SHE MUST BE AN UNCOMMON PERSON HER MOTHER ADDED', '/content/librispeech-other/LibriSpeech/test-other/1688/142285/1688-142285-0040.flac': \"I'M BETTER IN NOT BEING TORN TO PIECES BY COUGHING O'NIGHTS BUT I'M WEARY AND TIRED O MILTON AND LONGING TO GET AWAY TO THE LAND O BEULAH AND WHEN I THINK I'M FARTHER AND FARTHER OFF MY HEART SINKS AND I'M NO BETTER I'M WORSE\", '/content/librispeech-other/LibriSpeech/test-other/1688/142285/1688-142285-0079.flac': 'NO MAMMA THAT ANNE BUCKLEY WOULD NEVER HAVE DONE', '/content/librispeech-other/LibriSpeech/test-other/1688/142285/1688-142285-0090.flac': 'SHE SOUNDED TO BE SUCH A CAREFUL ECONOMICAL PERSON THAT I SHOULD LIKE ANY ONE OUT OF THE SAME FAMILY', '/content/librispeech-other/LibriSpeech/test-other/1688/142285/1688-142285-0076.flac': 'MARGARET WENT AWAY VERY SAD AND THOUGHTFUL', '/content/librispeech-other/LibriSpeech/test-other/1688/142285/1688-142285-0013.flac': 'AT LEAST NO FRIEND CAME FORWARDS IMMEDIATELY AND MISSUS THORNTON IS NOT ONE I FANCY TO WAIT TILL TARDY KINDNESS COMES TO FIND HER OUT', '/content/librispeech-other/LibriSpeech/test-other/1688/142285/1688-142285-0055.flac': 'GASPED BESSY AT LAST', '/content/librispeech-other/LibriSpeech/test-other/1688/142285/1688-142285-0081.flac': 'EVERYBODY ELSE HAS HAD THEIR TURN AT THIS GREAT DIFFICULTY NOW LET ME TRY', '/content/librispeech-other/LibriSpeech/test-other/1688/142285/1688-142285-0029.flac': 'THERE WERE SEVERAL OTHER SIGNS OF SOMETHING WRONG ABOUT MISSUS HALE', '/content/librispeech-other/LibriSpeech/test-other/1688/142285/1688-142285-0017.flac': 'WHEN HE SPOKE OF THE MECHANICAL POWERS HE EVIDENTLY LOOKED UPON THEM ONLY AS NEW WAYS OF EXTENDING TRADE AND MAKING MONEY', '/content/librispeech-other/LibriSpeech/test-other/1688/142285/1688-142285-0028.flac': 'BUT GOOD NIGHT CHILD', '/content/librispeech-other/LibriSpeech/test-other/1688/142285/1688-142285-0004.flac': 'HIS STATEMENT OF HAVING BEEN A SHOP BOY WAS THE THING I LIKED BEST OF ALL', '/content/librispeech-other/LibriSpeech/test-other/1688/142285/1688-142285-0001.flac': 'MARGARET SAID MISTER HALE AS HE RETURNED FROM SHOWING HIS GUEST DOWNSTAIRS I COULD NOT HELP WATCHING YOUR FACE WITH SOME ANXIETY WHEN MISTER THORNTON MADE HIS CONFESSION OF HAVING BEEN A SHOP BOY', '/content/librispeech-other/LibriSpeech/test-other/1688/142285/1688-142285-0027.flac': \"I DON'T SET HIM UP FOR A HERO OR ANYTHING OF THAT KIND\", '/content/librispeech-other/LibriSpeech/test-other/1688/142285/1688-142285-0069.flac': 'THE FEVERISH COLOUR CAME INTO HER CHEEK AND THE FEVERISH FLAME INTO HER EYE', '/content/librispeech-other/LibriSpeech/test-other/1688/142285/1688-142285-0035.flac': \"VISITING REGISTER OFFICES SEEING ALL MANNER OF UNLIKELY PEOPLE AND VERY FEW IN THE LEAST LIKELY ABSORBED MARGARET'S TIME AND THOUGHTS FOR SEVERAL DAYS\", '/content/librispeech-other/LibriSpeech/test-other/1688/142285/1688-142285-0002.flac': \"YOU DON'T MEAN THAT YOU THOUGHT ME SO SILLY\", '/content/librispeech-other/LibriSpeech/test-other/1688/142285/1688-142285-0012.flac': 'NO ONE CAME FORWARDS TO HELP THE MOTHER AND THIS BOY', '/content/librispeech-other/LibriSpeech/test-other/1688/142285/1688-142285-0010.flac': 'HIS FATHER SPECULATED WILDLY FAILED AND THEN KILLED HIMSELF BECAUSE HE COULD NOT BEAR THE DISGRACE', '/content/librispeech-other/LibriSpeech/test-other/1688/142285/1688-142285-0082.flac': 'I MAY BE THE CINDERELLA TO PUT ON THE SLIPPER AFTER ALL', '/content/librispeech-other/LibriSpeech/test-other/1688/142285/1688-142285-0083.flac': 'WHAT WOULD YOU DO PAPA HOW WOULD YOU SET ABOUT IT', '/content/librispeech-other/LibriSpeech/test-other/1688/142285/1688-142285-0011.flac': \"ALL HIS FORMER FRIENDS SHRUNK FROM THE DISCLOSURES THAT HAD TO BE MADE OF HIS DISHONEST GAMBLING WILD HOPELESS STRUGGLES MADE WITH OTHER PEOPLE'S MONEY TO REGAIN HIS OWN MODERATE PORTION OF WEALTH\", '/content/librispeech-other/LibriSpeech/test-other/1688/142285/1688-142285-0091.flac': \"MY DEAR SAID MISTER HALE ALARMED PRAY DON'T GO OFF ON THAT IDEA\", '/content/librispeech-other/LibriSpeech/test-other/1688/142285/1688-142285-0074.flac': \"I'LL GO TO BED IT'S BEST PLACE BUT CATCHING AT MARGARET'S GOWN YO'LL COME AGAIN I KNOW YO WILL BUT JUST SAY IT\", '/content/librispeech-other/LibriSpeech/test-other/1688/142285/1688-142285-0067.flac': \"DON'T THINK HARDLY ON HIM HE'S A GOOD MAN HE IS\", '/content/librispeech-other/LibriSpeech/test-other/1688/142285/1688-142285-0019.flac': 'NOT VICIOUS HE NEVER SAID THAT', '/content/librispeech-other/LibriSpeech/test-other/1688/142285/1688-142285-0043.flac': 'AT LAST SHE SAID IN A LOW VOICE', '/content/librispeech-other/LibriSpeech/test-other/1688/142285/1688-142285-0084.flac': 'WHY I WOULD APPLY TO SOME GOOD HOUSE MOTHER TO RECOMMEND ME ONE KNOWN TO HERSELF OR HER SERVANTS', '/content/librispeech-other/LibriSpeech/test-other/1688/142285/1688-142285-0044.flac': 'BESSY DO YOU WISH TO DIE', '/content/librispeech-other/LibriSpeech/test-other/1688/142285/1688-142285-0025.flac': 'AND I DO SAID HER FATHER LAUGHING', '/content/librispeech-other/LibriSpeech/test-other/1688/142285/1688-142285-0039.flac': 'NOT EXACTLY REPLIED MARGARET SMILING', '/content/librispeech-other/LibriSpeech/test-other/1688/142285/1688-142285-0045.flac': 'BESSY WAS SILENT IN HER TURN FOR A MINUTE OR TWO THEN SHE REPLIED', '/content/librispeech-other/LibriSpeech/test-other/1688/142285/1688-142285-0009.flac': 'WHY IT MIGHT HAVE BEEN IN THE WORKHOUSE', '/content/librispeech-other/LibriSpeech/test-other/1688/142285/1688-142285-0008.flac': 'HIS FATHER DYING IN MISERABLE CIRCUMSTANCES', '/content/librispeech-other/LibriSpeech/test-other/1688/142285/1688-142285-0007.flac': 'I REALLY WAS VERY MUCH AFRAID OF SHOWING HIM HOW MUCH SHOCKED I WAS AT SOME PARTS OF WHAT HE SAID', '/content/librispeech-other/LibriSpeech/test-other/1688/142285/1688-142285-0046.flac': 'NOUGHT WORSE THAN MANY OTHERS I RECKON', '/content/librispeech-other/LibriSpeech/test-other/1688/142285/1688-142285-0015.flac': 'HOW TAINTED ASKED HER FATHER', '/content/librispeech-other/LibriSpeech/test-other/1688/142285/1688-142285-0051.flac': \"THE SHARPNESS IN HER EYE TURNED TO A WISTFUL LONGING AS SHE MET MARGARET'S SOFT AND FRIENDLY GAZE\", '/content/librispeech-other/LibriSpeech/test-other/1688/142285/1688-142285-0066.flac': 'BUT THE GIRL ONLY PLEADED THE MORE WITH MARGARET', '/content/librispeech-other/LibriSpeech/test-other/1688/142285/1688-142285-0064.flac': \"BUT HOO'S COME AT LAST AND HOO'S WELCOME AS LONG AS HOO'LL KEEP FROM PREACHING ON WHAT HOO KNOWS NOUGHT ABOUT\", '/content/librispeech-other/LibriSpeech/test-other/1688/142285/1688-142285-0085.flac': 'VERY GOOD BUT WE MUST FIRST CATCH OUR HOUSE MOTHER', '/content/librispeech-other/LibriSpeech/test-other/1688/142285/1688-142285-0059.flac': \"NOW I'LL NOT HAVE MY WENCH PREACHED TO\", '/content/librispeech-other/LibriSpeech/test-other/1688/142285/1688-142285-0041.flac': 'MARGARET TURNED ROUND TO WALK ALONGSIDE OF THE GIRL IN HER FEEBLE PROGRESS HOMEWARD', '/content/librispeech-other/LibriSpeech/test-other/1688/142285/1688-142285-0068.flac': 'I SOMETIMES THINK I SHALL BE MOPED WI SORROW EVEN IN THE CITY OF GOD IF FATHER IS NOT THERE', '/content/librispeech-other/LibriSpeech/test-other/1688/142285/1688-142285-0026.flac': 'PERSONALLY AS YOU CALL IT AND ALL', '/content/librispeech-other/LibriSpeech/test-other/6938/70848/6938-70848-0030.flac': 'I GREET YOU WITH THE CHRISTENING OF A NEW RUSSIAN LIFE AND FREEDOM', '/content/librispeech-other/LibriSpeech/test-other/6938/70848/6938-70848-0010.flac': 'THESE MEN ESPECIALLY WELCOMED THE CALL TO A CONGRESS OF PEASANTS', '/content/librispeech-other/LibriSpeech/test-other/6938/70848/6938-70848-0014.flac': 'FEARFUL TUMULT CRIES DOWN WITH THE BOLSHEVIKI', '/content/librispeech-other/LibriSpeech/test-other/6938/70848/6938-70848-0005.flac': 'WHO ARE YOU TO DESTROY THE LEGAL GOVERNMENT WHO IS LENIN A GERMAN', '/content/librispeech-other/LibriSpeech/test-other/6938/70848/6938-70848-0018.flac': 'BUT THIS WORKED BOTH WAYS THE LEFT SOCIALIST REVOLUTIONISTS DECIDED THAT IF THE CONGRESS HAD NO POWER OVER THE EXECUTIVE COMMITTEE THEN THE EXECUTIVE COMMITTEE HAD NO POWER OVER THE CONGRESS', '/content/librispeech-other/LibriSpeech/test-other/6938/70848/6938-70848-0028.flac': 'THE WILL OF MILLIONS OF WORKERS IS NOW CONCENTRATED IN THIS HALL', '/content/librispeech-other/LibriSpeech/test-other/6938/70848/6938-70848-0008.flac': 'THE PEASANTS ARE THE PEOPLE OF RUSSIA WAIT UNTIL THE PEASANTS', '/content/librispeech-other/LibriSpeech/test-other/6938/70848/6938-70848-0017.flac': 'BY DECLARING THE ASSEMBLY EXTRAORDINARY CONFERENCE IT HAD BEEN PLANNED TO BLOCK THE REELECTION OF THE EXECUTIVE COMMITTEE', '/content/librispeech-other/LibriSpeech/test-other/6938/70848/6938-70848-0009.flac': \"WE KNOW WHAT THE PEASANTS WILL SAY AREN'T THEY WORKINGMEN LIKE OURSELVES\", '/content/librispeech-other/LibriSpeech/test-other/6938/70848/6938-70848-0004.flac': \"HAVEN'T I GOT SOMETHING TO REMEMBER THEM BY THE DEVILS\", '/content/librispeech-other/LibriSpeech/test-other/6938/70848/6938-70848-0013.flac': 'DOWN WITH HIM THEY SHRIEKED', '/content/librispeech-other/LibriSpeech/test-other/6938/70848/6938-70848-0006.flac': 'WHO ARE YOU A COUNTER REVOLUTIONIST A PROVOCATOR THEY BELLOWED AT HIM', '/content/librispeech-other/LibriSpeech/test-other/6938/70848/6938-70848-0025.flac': 'HE SPOKE TO THE RUMP CONVENTION', '/content/librispeech-other/LibriSpeech/test-other/6938/70848/6938-70848-0011.flac': 'THESE LAST WERE THE YOUNG GENERATION WHO HAD BEEN SERVING IN THE ARMY', '/content/librispeech-other/LibriSpeech/test-other/6938/70848/6938-70848-0015.flac': \"UPON MY RETURN I VISITED SMOLNY NO SUCH ACCUSATION WAS MADE AGAINST ME THERE AFTER A BRIEF CONVERSATION I LEFT AND THAT'S ALL LET ANY ONE PRESENT MAKE SUCH AN ACCUSATION\", '/content/librispeech-other/LibriSpeech/test-other/6938/70848/6938-70848-0012.flac': 'WHEREUPON THE OLD EXECUTIVE COMMITTEE LEFT THE HALL', '/content/librispeech-other/LibriSpeech/test-other/6938/70848/6938-70848-0003.flac': \"WELL DIDN'T THEY SHOOT US ONE MAN EXHIBITED HIS ARM IN A SLING\", '/content/librispeech-other/LibriSpeech/test-other/6938/70848/6938-70848-0016.flac': 'MEANWHILE THE QUESTION OF THE STATUS OF THE EXECUTIVE COMMITTEE WAS AGITATING ALL MINDS', '/content/librispeech-other/LibriSpeech/test-other/6938/70848/6938-70848-0019.flac': 'ON THE TWENTY SEVENTH OCCURRED THE DEBATE ON THE LAND QUESTION WHICH REVEALED THE DIFFERENCES BETWEEN THE AGRARIAN PROGRAMME OF THE BOLSHEVIKI AND THE LEFT SOCIALIST REVOLUTIONARIES', '/content/librispeech-other/LibriSpeech/test-other/6938/70848/6938-70848-0000.flac': 'EVEN THE SUN CAME OUT PALE AND WATERY AT NOON', '/content/librispeech-other/LibriSpeech/test-other/6938/70848/6938-70848-0029.flac': 'A NEW HUMANITY WILL BE BORN OF THIS WAR', '/content/librispeech-other/LibriSpeech/test-other/6938/70848/6938-70848-0027.flac': 'BUT THE PRESENT MOVEMENT IS INTERNATIONAL AND THAT IS WHY IT IS INVINCIBLE', '/content/librispeech-other/LibriSpeech/test-other/6938/70848/6938-70848-0026.flac': 'THE VILLAGES WILL SAVE US IN THE END', '/content/librispeech-other/LibriSpeech/test-other/6938/70848/6938-70848-0007.flac': \"YOU CALL YOURSELVES THE PEOPLE OF RUSSIA BUT YOU'RE NOT THE PEOPLE OF RUSSIA\", '/content/librispeech-other/LibriSpeech/test-other/6938/70848/6938-70848-0023.flac': 'THE DUMAS AND ZEMSTVOS WERE DROPPED', '/content/librispeech-other/LibriSpeech/test-other/6938/70848/6938-70848-0022.flac': 'THE FIRST STAGE WAS THE CRUSHING OF AUTOCRACY AND THE CRUSHING OF THE POWER OF THE INDUSTRIAL CAPITALISTS AND LAND OWNERS WHOSE INTERESTS ARE CLOSELY RELATED', '/content/librispeech-other/LibriSpeech/test-other/6938/70848/6938-70848-0002.flac': 'ASKED A WORKER LAST SUNDAY YOU DID IT WHEN THE YUNKERS', '/content/librispeech-other/LibriSpeech/test-other/6938/70848/6938-70848-0021.flac': 'FOLLOWED HIM LENIN LISTENED TO NOW WITH ABSORBING INTENSITY', '/content/librispeech-other/LibriSpeech/test-other/6938/70848/6938-70848-0020.flac': 'THE CONSTITUENT ASSEMBLY WILL NOT DARE TO BREAK WITH THE WILL OF THE PEOPLE', '/content/librispeech-other/LibriSpeech/test-other/6938/70848/6938-70848-0024.flac': 'HE KNEW THAT AN AGREEMENT WITH THE BOLSHEVIKI WAS BEING DISCUSSED BUT HE DID NOT KNOW THAT IT HAD BEEN CONCLUDED', '/content/librispeech-other/LibriSpeech/test-other/6938/70848/6938-70848-0001.flac': 'THE COLDS AND RHEUMATISM OF THE RAINY MONTHS VANISHED', '/content/librispeech-other/LibriSpeech/test-other/3080/5032/3080-5032-0000.flac': 'BUT I AM HUGELY PLEASED THAT YOU HAVE SEEN MY LADY', '/content/librispeech-other/LibriSpeech/test-other/3080/5032/3080-5032-0009.flac': 'MISTER FISH IS THE SQUIRE OF DAMES AND HAS SO MANY MISTRESSES THAT ANYBODY MAY PRETEND A SHARE IN HIM AND BE BELIEVED BUT THOUGH I HAVE THE HONOUR TO BE HIS NEAR NEIGHBOUR TO SPEAK FREELY I CANNOT BRAG MUCH THAT HE MAKES ANY COURT TO ME AND I KNOW NO YOUNG WOMAN IN THE COUNTRY THAT HE DOES NOT VISIT OFTEN', '/content/librispeech-other/LibriSpeech/test-other/3080/5032/3080-5032-0016.flac': 'YOU WILL THINK HIM ALTERED AND IF IT BE POSSIBLE MORE MELANCHOLY THAN HE WAS', '/content/librispeech-other/LibriSpeech/test-other/3080/5032/3080-5032-0023.flac': 'WE HAVE HAD ANOTHER DEBATE BUT MUCH MORE CALMLY', '/content/librispeech-other/LibriSpeech/test-other/3080/5032/3080-5032-0005.flac': 'IN EARNEST WE HAVE HAD SUCH A SKIRMISH AND UPON SO FOOLISH AN OCCASION AS I CANNOT TELL WHICH IS STRANGEST', '/content/librispeech-other/LibriSpeech/test-other/3080/5032/3080-5032-0003.flac': 'WHY DID YOU NOT SEND ME THAT NEWS AND A GARLAND', '/content/librispeech-other/LibriSpeech/test-other/3080/5032/3080-5032-0010.flac': 'I THINK MY YOUNGEST BROTHER COMES DOWN WITH HIM', '/content/librispeech-other/LibriSpeech/test-other/3080/5032/3080-5032-0014.flac': 'BUT BESIDES I CAN GIVE YOU OTHERS', '/content/librispeech-other/LibriSpeech/test-other/3080/5032/3080-5032-0008.flac': \"TIS A STRANGE CHANGE AND I AM VERY SORRY FOR IT BUT I'LL SWEAR I KNOW NOT HOW TO HELP IT\", '/content/librispeech-other/LibriSpeech/test-other/3080/5032/3080-5032-0017.flac': 'IF MARRIAGE AGREES NO BETTER WITH OTHER PEOPLE THAN IT DOES WITH HIM I SHALL PRAY THAT ALL MY FRIENDS MAY SCAPE IT', '/content/librispeech-other/LibriSpeech/test-other/3080/5032/3080-5032-0012.flac': 'BUT IT SEEMS THIS GENTLEMAN IS NOT SO EASY ACCESS BUT YOU MAY ACKNOWLEDGE SOMETHING DUE TO ME IF I INCLINE HIM TO LOOK GRACIOUSLY UPON YOU AND THEREFORE THERE IS NOT MUCH HARM DONE', '/content/librispeech-other/LibriSpeech/test-other/3080/5032/3080-5032-0018.flac': 'WELL IN EARNEST IF I WERE A PRINCE THAT LADY SHOULD BE MY MISTRESS BUT I CAN GIVE NO RULE TO ANY ONE ELSE AND PERHAPS THOSE THAT ARE IN NO DANGER OF LOSING THEIR HEARTS TO HER MAY BE INFINITELY TAKEN WITH ONE I SHOULD NOT VALUE AT ALL FOR SO SAYS THE JUSTINIAN WISE PROVIDENCE HAS ORDAINED IT THAT BY THEIR DIFFERENT HUMOURS EVERYBODY MIGHT FIND SOMETHING TO PLEASE THEMSELVES WITHAL WITHOUT ENVYING THEIR NEIGHBOURS', '/content/librispeech-other/LibriSpeech/test-other/3080/5032/3080-5032-0019.flac': \"THE MATTER IS NOT GREAT FOR I CONFESS I DO NATURALLY HATE THE NOISE AND TALK OF THE WORLD AND SHOULD BE BEST PLEASED NEVER TO BE KNOWN IN'T UPON ANY OCCASION WHATSOEVER YET SINCE IT CAN NEVER BE WHOLLY AVOIDED ONE MUST SATISFY ONESELF BY DOING NOTHING THAT ONE NEED CARE WHO KNOWS\", '/content/librispeech-other/LibriSpeech/test-other/3080/5032/3080-5032-0020.flac': 'IF I HAD A PICTURE THAT WERE FIT FOR YOU YOU SHOULD HAVE IT', '/content/librispeech-other/LibriSpeech/test-other/3080/5032/3080-5032-0007.flac': 'MY BEST QUALITIES IF I HAVE ANY THAT ARE GOOD SERVED BUT FOR AGGRAVATIONS OF MY FAULT AND I WAS ALLOWED TO HAVE WIT AND UNDERSTANDING AND DISCRETION IN OTHER THINGS THAT IT MIGHT APPEAR I HAD NONE IN THIS', '/content/librispeech-other/LibriSpeech/test-other/3080/5032/3080-5032-0001.flac': 'I KNEW YOU COULD NOT CHOOSE BUT LIKE HER BUT YET LET ME TELL YOU YOU HAVE SEEN BUT THE WORST OF HER', '/content/librispeech-other/LibriSpeech/test-other/3080/5032/3080-5032-0002.flac': 'HER CONVERSATION HAS MORE CHARMS THAN CAN BE IN MERE BEAUTY AND HER HUMOUR AND DISPOSITION WOULD MAKE A DEFORMED PERSON APPEAR LOVELY', '/content/librispeech-other/LibriSpeech/test-other/3080/5032/3080-5032-0024.flac': 'AND BESIDES THERE WAS A TIME WHEN WE OURSELVES WERE INDIFFERENT TO ONE ANOTHER DID I DO SO THEN OR HAVE I LEARNED IT SINCE', '/content/librispeech-other/LibriSpeech/test-other/3080/5032/3080-5032-0015.flac': \"I AM HERE MUCH MORE OUT OF PEOPLE'S WAY THAN IN TOWN WHERE MY AUNT AND SUCH AS PRETEND AN INTEREST IN ME AND A POWER OVER ME DO SO PERSECUTE ME WITH THEIR GOOD NATURE AND TAKE IT SO ILL THAT THEY ARE NOT ACCEPTED AS I WOULD LIVE IN A HOLLOW TREE TO AVOID THEM\", '/content/librispeech-other/LibriSpeech/test-other/3080/5032/3080-5032-0011.flac': 'I CAN NO SOONER GIVE YOU SOME LITTLE HINTS WHEREABOUTS THEY LIVE BUT YOU KNOW THEM PRESENTLY AND I MEANT YOU SHOULD BE BEHOLDING TO ME FOR YOUR ACQUAINTANCE', '/content/librispeech-other/LibriSpeech/test-other/3080/5032/3080-5032-0021.flac': 'HOW CAN YOU TALK OF DEFYING FORTUNE NOBODY LIVES WITHOUT IT AND THEREFORE WHY SHOULD YOU IMAGINE YOU COULD', '/content/librispeech-other/LibriSpeech/test-other/3080/5032/3080-5032-0026.flac': \"HOW KINDLY DO I TAKE THESE CIVILITIES OF YOUR FATHER'S IN EARNEST YOU CANNOT IMAGINE HOW HIS LETTER PLEASED ME\", '/content/librispeech-other/LibriSpeech/test-other/3080/5032/3080-5032-0022.flac': 'I KNOW NOT HOW MY BROTHER COMES TO BE SO WELL INFORMED AS YOU SAY BUT I AM CERTAIN HE KNOWS THE UTMOST OF THE INJURIES YOU HAVE RECEIVED FROM HER', '/content/librispeech-other/LibriSpeech/test-other/3080/5032/3080-5032-0004.flac': \"WELL THE BEST ON'T IS I HAVE A SQUIRE NOW THAT IS AS GOOD AS A KNIGHT\", '/content/librispeech-other/LibriSpeech/test-other/3080/5032/3080-5032-0006.flac': 'ALL THE PEOPLE THAT I HAD EVER IN MY LIFE REFUSED WERE BROUGHT AGAIN UPON THE STAGE LIKE RICHARD THE THREE S GHOSTS TO REPROACH ME WITHAL AND ALL THE KINDNESS HIS DISCOVERIES COULD MAKE I HAD FOR YOU WAS LAID TO MY CHARGE', '/content/librispeech-other/LibriSpeech/test-other/3080/5032/3080-5032-0013.flac': 'I HAVE MISSED FOUR FITS AND HAD BUT FIVE AND HAVE RECOVERED SO MUCH STRENGTH AS MADE ME VENTURE TO MEET YOUR LETTER ON WEDNESDAY A MILE FROM HOME', '/content/librispeech-other/LibriSpeech/test-other/3080/5032/3080-5032-0025.flac': 'I HAVE BEEN STUDYING HOW TOM CHEEKE MIGHT COME BY HIS INTELLIGENCE AND I VERILY BELIEVE HE HAS IT FROM MY COUSIN PETERS', '/content/librispeech-other/LibriSpeech/test-other/3080/5040/3080-5040-0005.flac': 'THE TRUTH IS I COULD NOT ENDURE TO BE MISSUS BRIDE IN A PUBLIC WEDDING TO BE MADE THE HAPPIEST PERSON ON EARTH', '/content/librispeech-other/LibriSpeech/test-other/3080/5040/3080-5040-0015.flac': 'BECAUSE YOU FIND FAULT WITH MY OTHER LETTERS THIS IS LIKE TO BE SHORTER THAN THEY I DID NOT INTEND IT SO THOUGH I CAN ASSURE YOU', '/content/librispeech-other/LibriSpeech/test-other/3080/5040/3080-5040-0009.flac': 'YOU SEE I GIVE YOU FAIR WARNING', '/content/librispeech-other/LibriSpeech/test-other/3080/5040/3080-5040-0031.flac': 'NOT TO KNOW WHEN YOU WOULD COME HOME I CAN ASSURE YOU NOR FOR ANY OTHER OCCASION OF MY OWN BUT WITH A COUSIN OF MINE THAT HAD LONG DESIGNED TO MAKE HERSELF SPORT WITH HIM AND DID NOT MISS OF HER AIM', '/content/librispeech-other/LibriSpeech/test-other/3080/5040/3080-5040-0020.flac': \"WE DARE NOT LET OUR TONGUES LIE MORE ON ONE SIDE OF OUR MOUTHS THAN T'OTHER FOR FEAR OF OVERTURNING IT\", '/content/librispeech-other/LibriSpeech/test-other/3080/5040/3080-5040-0014.flac': 'INDEED I LIKE HIM EXTREMELY AND HE IS COMMENDED TO ME BY PEOPLE THAT KNOW HIM VERY WELL AND ARE ABLE TO JUDGE FOR A MOST EXCELLENT SERVANT AND FAITHFUL AS POSSIBLE', '/content/librispeech-other/LibriSpeech/test-other/3080/5040/3080-5040-0016.flac': 'I DO NOT FIND IT THOUGH I AM TOLD I WAS SO EXTREMELY WHEN I BELIEVED YOU LOVED ME', '/content/librispeech-other/LibriSpeech/test-other/3080/5040/3080-5040-0025.flac': 'THEY LAUGH TO HEAR ME SAY THAT ONE UNKIND WORD WOULD DESTROY ALL THE SATISFACTION OF MY LIFE AND THAT I SHOULD EXPECT OUR KINDNESS SHOULD INCREASE EVERY DAY IF IT WERE POSSIBLE BUT NEVER LESSEN', '/content/librispeech-other/LibriSpeech/test-other/3080/5040/3080-5040-0027.flac': 'WELL IN SOBER EARNEST NOW I WOULD NOT LIVE THUS A TWELVEMONTH TO GAIN ALL THAT THE KING HAS LOST UNLESS IT WERE TO GIVE IT HIM AGAIN', '/content/librispeech-other/LibriSpeech/test-other/3080/5040/3080-5040-0013.flac': 'IF I DROWN BY THE WAY THIS WILL BE MY LAST LETTER AND LIKE A WILL I BEQUEATH ALL MY KINDNESS TO YOU IN IT WITH A CHARGE NEVER TO BESTOW IT ALL UPON ANOTHER MISTRESS LEST MY GHOST RISE AGAIN AND HAUNT YOU', '/content/librispeech-other/LibriSpeech/test-other/3080/5040/3080-5040-0033.flac': \"EVER SINCE THIS ADVENTURE I HAVE HAD SO GREAT A BELIEF IN ALL THINGS OF THIS NATURE THAT I COULD NOT FORBEAR LAYING A PEAS COD WITH NINE PEAS IN'T UNDER MY DOOR YESTERDAY AND WAS INFORMED BY IT THAT MY HUSBAND'S NAME SHOULD BE THOMAS HOW DO YOU LIKE THAT\", '/content/librispeech-other/LibriSpeech/test-other/3080/5040/3080-5040-0006.flac': 'DO NOT TAKE IT ILL FOR I WOULD ENDURE IT IF I COULD RATHER THAN FAIL BUT IN EARNEST I DO NOT THINK IT WERE POSSIBLE FOR ME', '/content/librispeech-other/LibriSpeech/test-other/3080/5040/3080-5040-0002.flac': 'SHE HAS TOLD NOW ALL THAT WAS TOLD HER BUT VOWS SHE WILL NEVER SAY FROM WHENCE SHE HAD IT WE SHALL SEE WHETHER HER RESOLUTIONS ARE AS UNALTERABLE AS THOSE OF MY LADY TALMASH', '/content/librispeech-other/LibriSpeech/test-other/3080/5040/3080-5040-0023.flac': 'HOW WELCOME YOU WILL BE BUT ALAS', '/content/librispeech-other/LibriSpeech/test-other/3080/5040/3080-5040-0011.flac': \"HERE ARE SOME VERSES OF COWLEY'S TELL ME HOW YOU LIKE THEM\", '/content/librispeech-other/LibriSpeech/test-other/3080/5040/3080-5040-0022.flac': 'BUT I AM TROUBLED MUCH YOU SHOULD MAKE SO ILL A JOURNEY TO SO LITTLE PURPOSE INDEED I WRIT BY THE FIRST POST AFTER MY ARRIVAL HERE AND CANNOT IMAGINE HOW YOU CAME TO MISS OF MY LETTERS', '/content/librispeech-other/LibriSpeech/test-other/3080/5040/3080-5040-0028.flac': 'WILL YOU BE SO GOOD NATURED', '/content/librispeech-other/LibriSpeech/test-other/3080/5040/3080-5040-0001.flac': 'MY POOR LADY VAVASOUR IS CARRIED TO THE TOWER AND HER GREAT BELLY COULD NOT EXCUSE HER BECAUSE SHE WAS ACQUAINTED BY SOMEBODY THAT THERE WAS A PLOT AGAINST THE PROTECTOR AND DID NOT DISCOVER IT', '/content/librispeech-other/LibriSpeech/test-other/3080/5040/3080-5040-0029.flac': \"HE HAS ONE SON AND TIS THE FINEST BOY THAT E'ER YOU SAW AND HAS A NOBLE SPIRIT BUT YET STANDS IN THAT AWE OF HIS FATHER THAT ONE WORD FROM HIM IS AS MUCH AS TWENTY WHIPPINGS\", '/content/librispeech-other/LibriSpeech/test-other/3080/5040/3080-5040-0012.flac': 'I TOLD YOU IN MY LAST THAT MY SUFFOLK JOURNEY WAS LAID ASIDE AND THAT INTO KENT HASTENED', '/content/librispeech-other/LibriSpeech/test-other/3080/5040/3080-5040-0010.flac': 'BY THE NEXT I SHALL BE GONE INTO KENT AND MY OTHER JOURNEY IS LAID ASIDE WHICH I AM NOT DISPLEASED AT BECAUSE IT WOULD HAVE BROKEN OUR INTERCOURSE VERY MUCH', '/content/librispeech-other/LibriSpeech/test-other/3080/5040/3080-5040-0026.flac': 'WE GO ABROAD ALL DAY AND PLAY ALL NIGHT AND SAY OUR PRAYERS WHEN WE HAVE TIME', '/content/librispeech-other/LibriSpeech/test-other/3080/5040/3080-5040-0032.flac': 'IN MY LIFE I NEVER HEARD SO RIDICULOUS A DISCOURSE AS HE MADE US AND NO OLD WOMAN WHO PASSES FOR A WITCH COULD HAVE BEEN MORE PUZZLED TO SEEK WHAT TO SAY TO REASONABLE PEOPLE THAN HE WAS', '/content/librispeech-other/LibriSpeech/test-other/3080/5040/3080-5040-0018.flac': 'DIRECTED FOR YOUR MASTER', '/content/librispeech-other/LibriSpeech/test-other/3080/5040/3080-5040-0008.flac': 'MY AUNT TOLD ME NO LONGER AGONE THAN YESTERDAY THAT I WAS THE MOST WILFUL WOMAN THAT EVER SHE KNEW AND HAD AN OBSTINACY OF SPIRIT NOTHING COULD OVERCOME TAKE HEED', '/content/librispeech-other/LibriSpeech/test-other/3080/5040/3080-5040-0019.flac': 'I SEE YOU CAN CHIDE WHEN YOU PLEASE AND WITH AUTHORITY BUT I DESERVE IT I CONFESS AND ALL I CAN SAY FOR MYSELF IS THAT MY FAULT PROCEEDED FROM A VERY GOOD PRINCIPLE IN ME', '/content/librispeech-other/LibriSpeech/test-other/3080/5040/3080-5040-0000.flac': 'WOULD IT WOULD LEAVE ME AND THEN I COULD BELIEVE I SHALL NOT ALWAYS HAVE OCCASION FOR IT', '/content/librispeech-other/LibriSpeech/test-other/3080/5040/3080-5040-0024.flac': 'FOR MY LIFE I CANNOT BEAT INTO THEIR HEADS A PASSION THAT MUST BE SUBJECT TO NO DECAY AN EVEN PERFECT KINDNESS THAT MUST LAST PERPETUALLY WITHOUT THE LEAST INTERMISSION', '/content/librispeech-other/LibriSpeech/test-other/3080/5040/3080-5040-0007.flac': 'YET IN EARNEST YOUR FATHER WILL NOT FIND MY BROTHER PEYTON WANTING IN CIVILITY THOUGH HE IS NOT A MAN OF MUCH COMPLIMENT UNLESS IT BE IN HIS LETTERS TO ME NOR AN UNREASONABLE PERSON IN ANYTHING SO HE WILL ALLOW HIM OUT OF HIS KINDNESS TO HIS WIFE TO SET A HIGHER VALUE UPON HER SISTER THAN SHE DESERVES', '/content/librispeech-other/LibriSpeech/test-other/3080/5040/3080-5040-0030.flac': 'YOU MUST GIVE ME LEAVE TO ENTERTAIN YOU THUS WITH DISCOURSES OF THE FAMILY FOR I CAN TELL YOU NOTHING ELSE FROM HENCE', '/content/librispeech-other/LibriSpeech/test-other/3080/5040/3080-5040-0021.flac': 'YOU ARE SATISFIED I HOPE ERE THIS THAT I SCAPED DROWNING', '/content/librispeech-other/LibriSpeech/test-other/3080/5040/3080-5040-0003.flac': 'I WONDER HOW SHE BEHAVED HERSELF WHEN SHE WAS MARRIED', '/content/librispeech-other/LibriSpeech/test-other/3080/5040/3080-5040-0017.flac': 'BUT I AM CALLED UPON', '/content/librispeech-other/LibriSpeech/test-other/3080/5040/3080-5040-0004.flac': \"I NEVER SAW ANY ONE YET THAT DID NOT LOOK SIMPLY AND OUT OF COUNTENANCE NOR EVER KNEW A WEDDING WELL DESIGNED BUT ONE AND THAT WAS OF TWO PERSONS WHO HAD TIME ENOUGH I CONFESS TO CONTRIVE IT AND NOBODY TO PLEASE IN'T BUT THEMSELVES\", '/content/librispeech-other/LibriSpeech/test-other/8280/266249/8280-266249-0039.flac': 'THAT FELLOW NICK WARD IS A NOTED BLACKLEG AND RUFFIAN HAD HIS NOSE BROKEN IN A FIGHT AND IS SENSITIVE ON THE SUBJECT WAS CHEATING OF COURSE', '/content/librispeech-other/LibriSpeech/test-other/8280/266249/8280-266249-0018.flac': 'THAT THE FRENCH POLYTECHNIC INSTITUTE HAD TO PROHIBIT ITS USE ON ACCOUNT OF ITS EFFECTS ON THE MIND', '/content/librispeech-other/LibriSpeech/test-other/8280/266249/8280-266249-0021.flac': 'AND THEN SUCH POWERFUL ACIDS PRODUCE INTENSE IRRITATION AND THIRST THIRST WHICH WATER DOES NOT QUENCH', '/content/librispeech-other/LibriSpeech/test-other/8280/266249/8280-266249-0003.flac': 'AT LENGTH THE LAND HAD QUITE DISAPPEARED NOTHING COULD BE SEEN BUT THE SKY OVERHEAD AND A VAST EXPANSE OF WATER ALL AROUND AND THE PASSENGERS FOUND LEISURE TO TURN THEIR ATTENTION UPON EACH OTHER', '/content/librispeech-other/LibriSpeech/test-other/8280/266249/8280-266249-0038.flac': \"I WONDER WHICH OF US IT IS REMARKED THE FIRST LOOKING HARD AT OUR PARTY I DON'T KNOW BUT COME ON\", '/content/librispeech-other/LibriSpeech/test-other/8280/266249/8280-266249-0016.flac': 'THE HALF DOZEN CIGARS WHICH MOST SMOKERS USE A DAY CONTAIN SIX OR SEVEN GRAINS ENOUGH IF CONCENTRATED AND ABSORBED TO KILL THREE MEN AND A POUND OF TOBACCO ACCORDING TO ITS QUALITY CONTAINS FROM ONE QUARTER TO ONE AND A QUARTER OUNCES', '/content/librispeech-other/LibriSpeech/test-other/8280/266249/8280-266249-0049.flac': 'THEN MISTER LILBURN WAKING FROM HIS FIRST SLEEP IN A STATEROOM NEAR BY THOUGHT HE WOULD BREAK IT UP ONCE MORE', '/content/librispeech-other/LibriSpeech/test-other/8280/266249/8280-266249-0028.flac': 'NO DOUBT NO DOUBT RETURNED MISTER LILBURN BUT IF THY RIGHT EYE OFFEND THEE PLUCK IT OUT AND CAST IT FROM THEE FOR IT IS PROFITABLE FOR THEE THAT ONE OF THY MEMBERS SHOULD PERISH AND NOT THAT THY WHOLE BODY SHOULD BE CAST INTO HELL', '/content/librispeech-other/LibriSpeech/test-other/8280/266249/8280-266249-0043.flac': 'LET ME GO YELLED WARD MAKING A DESPERATE EFFORT TO FREE HIS ARMS', '/content/librispeech-other/LibriSpeech/test-other/8280/266249/8280-266249-0008.flac': 'DO YOU SON WAS THE SMILING REJOINDER', '/content/librispeech-other/LibriSpeech/test-other/8280/266249/8280-266249-0034.flac': 'NOW THE VOICE CAME FROM THE SKYLIGHT OVERHEAD APPARENTLY AND WITH A FIERCE IMPRECATION THE IRATE GAMESTER RUSHED UPON DECK AND RAN HITHER AND THITHER IN SEARCH OF HIS TORMENTOR', '/content/librispeech-other/LibriSpeech/test-other/8280/266249/8280-266249-0060.flac': 'OH HOW KIND HOW VERY KIND MISSUS DALY SAID WITH TEARS OF JOY AND GRATITUDE WE HAVE HARDLY KNOWN HOW WE SHOULD MEET THE MOST NECESSARY EXPENSES OF THIS TRIP BUT HAVE BEEN TRYING TO CAST OUR CARE UPON THE LORD ASKING HIM TO PROVIDE', '/content/librispeech-other/LibriSpeech/test-other/8280/266249/8280-266249-0063.flac': 'YE ARE ALL THE CHILDREN OF GOD BY FAITH IN CHRIST JESUS', '/content/librispeech-other/LibriSpeech/test-other/8280/266249/8280-266249-0013.flac': \"WITH ALL MY HEART IF YOU WILL STEP INTO THE GENTLEMEN'S CABIN WHERE THERE'S A LIGHT\", '/content/librispeech-other/LibriSpeech/test-other/8280/266249/8280-266249-0058.flac': 'THE CAPTAIN COMING IN SHORTLY AFTER THE SUDDEN FLIGHT OF THE GAMBLERS TOOK CHARGE OF THE MONEY AND THE NEXT DAY RESTORED IT TO THE OWNERS', '/content/librispeech-other/LibriSpeech/test-other/8280/266249/8280-266249-0025.flac': 'WE CERTAINLY HAVE NO RIGHT TO INJURE OUR BODIES EITHER BY NEGLECT OR SELF INDULGENCE', '/content/librispeech-other/LibriSpeech/test-other/8280/266249/8280-266249-0048.flac': 'THEY KEPT IT UP TILL AFTER MIDNIGHT', '/content/librispeech-other/LibriSpeech/test-other/8280/266249/8280-266249-0050.flac': 'AN INTENSE VOICELESS EXCITEMENT POSSESSED THE PLAYERS FOR THE GAME WAS A CLOSE ONE AND THE STAKES WERE VERY HEAVY', '/content/librispeech-other/LibriSpeech/test-other/8280/266249/8280-266249-0045.flac': 'THE GERMAN RELEASED HIS PRISONER AND THE LATTER SLUNK AWAY WITH MUTTERED THREATS AND IMPRECATIONS UPON THE HEAD OF HIS TORMENTOR', '/content/librispeech-other/LibriSpeech/test-other/8280/266249/8280-266249-0027.flac': 'IT MUST REQUIRE A GOOD DEAL OF RESOLUTION FOR ONE WHO HAS BECOME FOND OF THE INDULGENCE TO GIVE IT UP REMARKED MISTER DALY', '/content/librispeech-other/LibriSpeech/test-other/8280/266249/8280-266249-0055.flac': 'WHAT CAN IT HAVE BEEN THEY ASKED EACH OTHER', '/content/librispeech-other/LibriSpeech/test-other/8280/266249/8280-266249-0012.flac': 'DOUBTLESS THAT IS THE CASE REMARKED MISTER DINSMORE', '/content/librispeech-other/LibriSpeech/test-other/8280/266249/8280-266249-0020.flac': 'IN A SMALL COUNTRY TOWN SEVEN OF THESE MYSTERIOUS PROVIDENCES OCCURRED WITHIN THE CIRCUIT OF A MILE ALL DIRECTLY TRACEABLE TO TOBACCO AND ANY PHYSICIAN ON A FEW MOMENTS REFLECTION CAN MATCH THIS FACT BY HIS OWN OBSERVATION', '/content/librispeech-other/LibriSpeech/test-other/8280/266249/8280-266249-0010.flac': 'SUPPOSE YOU AND HE SHAKE HANDS FRANK', '/content/librispeech-other/LibriSpeech/test-other/8280/266249/8280-266249-0001.flac': 'AS THEY WERE IN NO HASTE AND THE CONFINEMENT OF A RAILROAD CAR WOULD BE VERY IRKSOME TO THE YOUNGER CHILDREN IT HAD BEEN DECIDED TO MAKE THE JOURNEY BY WATER', '/content/librispeech-other/LibriSpeech/test-other/8280/266249/8280-266249-0023.flac': 'NO SIR WHAT KNOW YE NOT THAT YOUR BODY IS THE TEMPLE OF THE HOLY GHOST WHICH IS IN YOU WHICH YE HAVE OF GOD AND YE ARE NOT YOUR OWN', '/content/librispeech-other/LibriSpeech/test-other/8280/266249/8280-266249-0026.flac': 'AND AGAIN I BESEECH YOU THEREFORE BRETHREN BY THE MERCIES OF GOD THAT YE PRESENT YOUR BODIES A LIVING SACRIFICE HOLY ACCEPTABLE UNTO GOD WHICH IS YOUR REASONABLE SERVICE', '/content/librispeech-other/LibriSpeech/test-other/8280/266249/8280-266249-0037.flac': \"A VENTRILOQUIST ABOARD OF COURSE RETURNED ANOTHER LET'S FOLLOW AND SEE THE FUN\", '/content/librispeech-other/LibriSpeech/test-other/8280/266249/8280-266249-0033.flac': 'AND THE DOOR WAS SLAMMED VIOLENTLY TO', '/content/librispeech-other/LibriSpeech/test-other/8280/266249/8280-266249-0000.flac': 'OLD MISTER DINSMORE HAD ACCEPTED A PRESSING INVITATION FROM HIS GRANDDAUGHTER AND HER HUSBAND TO JOIN THE PARTY AND WITH THE ADDITION OF SERVANTS IT WAS A LARGE ONE', '/content/librispeech-other/LibriSpeech/test-other/8280/266249/8280-266249-0059.flac': \"TO ELSIE'S OBSERVANT EYES IT PRESENTLY BECAME EVIDENT THAT THE DALYS WERE IN VERY STRAITENED CIRCUMSTANCES\", '/content/librispeech-other/LibriSpeech/test-other/8280/266249/8280-266249-0064.flac': 'YE ARE ALL ONE IN CHRIST JESUS', '/content/librispeech-other/LibriSpeech/test-other/8280/266249/8280-266249-0052.flac': 'A DEEP GROAN STARTLED THEM AND THEY SPRANG TO THEIR FEET PALE AND TREMBLING WITH SUDDEN TERROR EACH HOLDING HIS BREATH AND STRAINING HIS EAR TO CATCH A REPETITION OF THE DREAD SOUND', '/content/librispeech-other/LibriSpeech/test-other/8280/266249/8280-266249-0032.flac': 'NO SIR HE IS NOT HERE', '/content/librispeech-other/LibriSpeech/test-other/8280/266249/8280-266249-0014.flac': 'HE LED THE WAY THE OTHERS ALL FOLLOWING AND TAKING OUT A SLIP OF PAPER READ FROM IT IN A DISTINCT TONE LOUD ENOUGH TO BE HEARD BY THOSE ABOUT HIM WITHOUT DISTURBING THE OTHER PASSENGERS', '/content/librispeech-other/LibriSpeech/test-other/8280/266249/8280-266249-0031.flac': 'THE EYES OF THE WHOLE PARTY WERE AT ONCE TURNED IN THAT DIRECTION', '/content/librispeech-other/LibriSpeech/test-other/8280/266249/8280-266249-0040.flac': \"WHO ASKED THE MATE I'VE SEEN NONE UP HERE THOUGH THERE ARE SOME IN THE STEERAGE\", '/content/librispeech-other/LibriSpeech/test-other/8280/266249/8280-266249-0056.flac': 'OH NONSENSE WHAT FOOLS WE ARE', '/content/librispeech-other/LibriSpeech/test-other/8280/266249/8280-266249-0030.flac': \"THEY ARE GAMBLING YONDER AND I'M AFRAID THAT YOUNG FELLOW IS BEING BADLY FLEECED BY THAT MIDDLE AGED MAN OPPOSITE\", '/content/librispeech-other/LibriSpeech/test-other/8280/266249/8280-266249-0007.flac': 'AND WHAT A DEAR LITTLE FELLOW HE IS JUST ABOUT THE AGE OF OUR HAROLD I SHOULD JUDGE', '/content/librispeech-other/LibriSpeech/test-other/8280/266249/8280-266249-0009.flac': 'HE CERTAINLY LOOKS LIKE A VERY NICE LITTLE BOY', '/content/librispeech-other/LibriSpeech/test-other/8280/266249/8280-266249-0062.flac': 'ELSIE ANSWERED PRESSING HER HAND AFFECTIONATELY ART WE NOT SISTERS IN CHRIST', '/content/librispeech-other/LibriSpeech/test-other/8280/266249/8280-266249-0051.flac': \"THEY BENT EAGERLY OVER THE BOARD EACH WATCHING WITH FEVERISH ANXIETY HIS COMPANION'S MOVEMENTS EACH CASTING NOW AND AGAIN A GLOATING EYE UPON THE HEAP OF GOLD AND GREENBACKS THAT LAY BETWEEN THEM AND AT TIMES HALF STRETCHING OUT HIS HAND TO CLUTCH IT\", '/content/librispeech-other/LibriSpeech/test-other/8280/266249/8280-266249-0035.flac': 'HIS VICTIM WHO HAD BEEN LOOKING ON DURING THE LITTLE SCENE AND LISTENING TO THE MYSTERIOUS VOICE IN SILENT WIDE EYED WONDER AND FEAR NOW ROSE HASTILY HIS FACE DEATHLY PALE WITH TREMBLING HANDS GATHERED UP THE MONEY HE HAD STAKED AND HURRYING INTO HIS STATE ROOM LOCKED HIMSELF IN', '/content/librispeech-other/LibriSpeech/test-other/8280/266249/8280-266249-0017.flac': 'IS IT STRANGE THEN THAT SMOKERS AND CHEWERS HAVE A THOUSAND AILMENTS', '/content/librispeech-other/LibriSpeech/test-other/8280/266249/8280-266249-0044.flac': 'I DINKS NO I DINKS I DEACH YOU VON LESSON RETURNED HIS CAPTOR NOT RELAXING HIS GRASP IN THE LEAST', '/content/librispeech-other/LibriSpeech/test-other/8280/266249/8280-266249-0041.flac': 'THEY HEARD HIM IN SILENCE WITH A COOL PHLEGMATIC INDIFFERENCE MOST EXASPERATING TO ONE IN HIS PRESENT MOOD', '/content/librispeech-other/LibriSpeech/test-other/8280/266249/8280-266249-0065.flac': 'WE FEEL MY HUSBAND AND I THAT WE ARE ONLY THE STEWARDS OF HIS BOUNTY AND THAT BECAUSE HE HAS SAID INASMUCH AS YE HAVE DONE IT UNTO ONE OF THE LEAST OF THESE MY BRETHREN YE HAVE DONE IT UNTO ME IT IS THE GREATEST PRIVILEGE AND DELIGHT TO DO ANYTHING FOR HIS PEOPLE', '/content/librispeech-other/LibriSpeech/test-other/8280/266249/8280-266249-0047.flac': 'YET THERE WAS GAMBLING AGAIN THE SECOND NIGHT BETWEEN WARD AND SEVERAL OTHERS OF HIS PROFESSION', '/content/librispeech-other/LibriSpeech/test-other/8280/266249/8280-266249-0022.flac': 'HENCE A RESORT TO CIDER AND BEER', '/content/librispeech-other/LibriSpeech/test-other/8280/266249/8280-266249-0015.flac': \"ONE DROP OF NICOTINE EXTRACT OF TOBACCO PLACED ON THE TONGUE OF A DOG WILL KILL HIM IN A MINUTE THE HUNDREDTH PART OF A GRAIN PICKED UNDER THE SKIN OF A MAN'S ARM WILL PRODUCE NAUSEA AND FAINTING\", '/content/librispeech-other/LibriSpeech/test-other/8280/266249/8280-266249-0042.flac': 'A MAN OF GIANT SIZE AND HERCULEAN STRENGTH HAD LAID ASIDE HIS PIPE AND SLOWLY RISING TO HIS FEET SEIZED THE SCOUNDREL IN HIS POWERFUL GRASP', '/content/librispeech-other/LibriSpeech/test-other/8280/266249/8280-266249-0054.flac': \"IT CAME FROM UNDER THE TABLE GASPED WARD LOOK WHAT'S THERE LOOK YOURSELF\", '/content/librispeech-other/LibriSpeech/test-other/8280/266249/8280-266249-0019.flac': 'NOTICE THE MULTITUDE OF SUDDEN DEATHS AND SEE HOW MANY ARE SMOKERS AND CHEWERS', '/content/librispeech-other/LibriSpeech/test-other/8280/266249/8280-266249-0006.flac': 'YES SHE ANSWERED THAT LITTLE GROUP YONDER A YOUNG MINISTER AND HIS WIFE AND CHILD I SUPPOSE', '/content/librispeech-other/LibriSpeech/test-other/8280/266249/8280-266249-0046.flac': \"MISTER LILBURN AND MISTER DALY EACH AT A DIFFERENT TIME SOUGHT OUT THE YOUNG MAN WARD'S INTENDED VICTIM AND TRIED TO INFLUENCE HIM FOR GOOD\", '/content/librispeech-other/LibriSpeech/test-other/8280/266249/8280-266249-0024.flac': \"FOR YE ARE BOUGHT WITH A PRICE THEREFORE GLORIFY GOD IN YOUR BODY AND IN YOUR SPIRIT WHICH ARE GOD'S\", '/content/librispeech-other/LibriSpeech/test-other/8280/266249/8280-266249-0005.flac': 'BESIDE OURSELVES ADDED COUSIN RONALD LAUGHING', '/content/librispeech-other/LibriSpeech/test-other/8280/266249/8280-266249-0002.flac': 'THERE WERE NO SAD LEAVE TAKINGS TO MAR THEIR PLEASURE THE CHILDREN WERE IN WILD SPIRITS AND ALL SEEMED CHEERFUL AND HAPPY AS THEY SAT OR STOOD UPON THE DECK WATCHING THE RECEDING SHORE AS THE VESSEL STEAMED OUT OF THE HARBOR', '/content/librispeech-other/LibriSpeech/test-other/8280/266249/8280-266249-0004.flac': 'THERE ARE SOME NICE LOOKING PEOPLE ON BOARD REMARKED MISTER TRAVILLA IN AN UNDERTONE TO HIS WIFE', '/content/librispeech-other/LibriSpeech/test-other/8280/266249/8280-266249-0053.flac': 'BUT ALL WAS SILENT AND AFTER A MOMENT OF ANXIOUS WAITING THEY SAT DOWN TO THEIR GAME AGAIN TRYING TO CONCEAL AND SHAKE OFF THEIR FEARS WITH A FORCED UNNATURAL LAUGH', '/content/librispeech-other/LibriSpeech/test-other/8280/266249/8280-266249-0011.flac': 'I DO INDEED THOUGH PROBABLY COMPARATIVELY FEW ARE AWARE THAT TOBACCO IS THE CAUSE OF THEIR AILMENTS', '/content/librispeech-other/LibriSpeech/test-other/8280/266249/8280-266249-0036.flac': 'WHAT DOES IT MEAN CRIED ONE', '/content/librispeech-other/LibriSpeech/test-other/8280/266249/8280-266249-0061.flac': 'AND HOW WONDERFULLY HE HAS ANSWERED OUR PETITIONS', '/content/librispeech-other/LibriSpeech/test-other/8280/266249/8280-266249-0057.flac': 'IT WAS THE LAST GAME OF CARDS FOR THAT TRIP', '/content/librispeech-other/LibriSpeech/test-other/8280/266249/8280-266249-0029.flac': 'THERE WAS A PAUSE BROKEN BY YOUNG HORACE WHO HAD BEEN WATCHING A GROUP OF MEN GATHERED ABOUT A TABLE AT THE FURTHER END OF THE ROOM', '/content/librispeech-other/LibriSpeech/test-other/7975/280085/7975-280085-0001.flac': 'FRIDAY WE MOVED TOWARD WATERVILLE AND FRIDAY NIGHT WE CAMPED BETWEEN ELYSIAN AND GERMAN LAKE', '/content/librispeech-other/LibriSpeech/test-other/7975/280085/7975-280085-0016.flac': \"SHERIFF GLISPIN OF WATONWAN COUNTY WHO WAS TAKING BOB'S PISTOL FROM HIM WAS ALSO SHOUTING TO THE FELLOW\", '/content/librispeech-other/LibriSpeech/test-other/7975/280085/7975-280085-0009.flac': 'WE WERE IN SIGHT OF OUR LONG SOUGHT HORSES WHEN THEY CUT US OFF FROM THE ANIMALS AND OUR LAST HOPE WAS GONE', '/content/librispeech-other/LibriSpeech/test-other/7975/280085/7975-280085-0010.flac': 'SIX STEPPED TO THE FRONT SHERIFF GLISPIN COLONEL T L VOUGHT B M RICE G A BRADFORD C A POMEROY AND S J SEVERSON', '/content/librispeech-other/LibriSpeech/test-other/7975/280085/7975-280085-0002.flac': \"BOB'S SHATTERED ELBOW WAS REQUIRING FREQUENT ATTENTION AND THAT NIGHT WE MADE ONLY NINE MILES AND MONDAY MONDAY NIGHT AND TUESDAY WE SPENT IN A DESERTED FARM HOUSE CLOSE TO MANKATO\", '/content/librispeech-other/LibriSpeech/test-other/7975/280085/7975-280085-0011.flac': 'FORMING IN LINE FOUR PACES APART HE ORDERED THEM TO ADVANCE RAPIDLY AND CONCENTRATE THE FIRE OF THE WHOLE LINE THE INSTANT THE ROBBERS WERE DISCOVERED', '/content/librispeech-other/LibriSpeech/test-other/7975/280085/7975-280085-0006.flac': 'THE WHISTLE ON THE OIL MILL BLEW AND WE FEARED THAT IT WAS A SIGNAL THAT HAD BEEN AGREED UPON TO ALARM THE TOWN IN CASE WE WERE OBSERVED BUT WE WERE NOT MOLESTED', '/content/librispeech-other/LibriSpeech/test-other/7975/280085/7975-280085-0004.flac': 'FINALLY WE ADMINISTERED TO HIM AN OATH NOT TO BETRAY OUR WHEREABOUTS UNTIL WE HAD TIME TO MAKE OUR ESCAPE AND HE AGREED NOT TO', '/content/librispeech-other/LibriSpeech/test-other/7975/280085/7975-280085-0008.flac': 'BUT THEY SOON AFTER GOT CLOSE ENOUGH SO THAT ONE OF THEM BROKE MY WALKING STICK WITH A SHOT', '/content/librispeech-other/LibriSpeech/test-other/7975/280085/7975-280085-0015.flac': 'ONE OF THE FELLOWS IN THE OUTER LINE NOT BRAVE ENOUGH HIMSELF TO JOIN THE VOLUNTEERS WHO HAD COME IN TO BEAT US OUT WAS NOT DISPOSED TO BELIEVE IN THE SURRENDER AND HAD HIS GUN LEVELLED ON BOB IN SPITE OF THE HANDKERCHIEF WHICH WAS WAVING AS A FLAG OF TRUCE', '/content/librispeech-other/LibriSpeech/test-other/7975/280085/7975-280085-0018.flac': \"AND SHERIFF GLISPIN'S ORDER NOT TO SHOOT WAS THE BEGINNING OF THE PROTECTORATE THAT MINNESOTA PEOPLE ESTABLISHED OVER US\", '/content/librispeech-other/LibriSpeech/test-other/7975/280085/7975-280085-0012.flac': 'MAKE FOR THE HORSES I SAID EVERY MAN FOR HIMSELF', '/content/librispeech-other/LibriSpeech/test-other/7975/280085/7975-280085-0003.flac': 'THAT DAY A MAN NAMED DUNNING DISCOVERED US AND WE TOOK HIM PRISONER', '/content/librispeech-other/LibriSpeech/test-other/7975/280085/7975-280085-0007.flac': 'HE HAD TO SLEEP WITH IT PILLOWED ON MY BREAST JIM BEING ALSO CRIPPLED WITH A WOUND IN HIS SHOULDER AND WE COULD NOT GET MUCH SLEEP', '/content/librispeech-other/LibriSpeech/test-other/7975/280085/7975-280085-0013.flac': \"THERE IS NO USE STOPPING TO PICK UP A COMRADE HERE FOR WE CAN'T GET HIM THROUGH THE LINE JUST CHARGE THEM AND MAKE IT IF WE CAN\", '/content/librispeech-other/LibriSpeech/test-other/7975/280085/7975-280085-0017.flac': 'INCLUDING THOSE RECEIVED IN AND ON THE WAY FROM NORTHFIELD I HAD ELEVEN WOUNDS', '/content/librispeech-other/LibriSpeech/test-other/7975/280085/7975-280085-0005.flac': 'NO SOONER HOWEVER WAS HE RELEASED THAN HE MADE POSTHASTE INTO MANKATO TO ANNOUNCE OUR PRESENCE AND IN A FEW MINUTES ANOTHER POSSE WAS LOOKING FOR US', '/content/librispeech-other/LibriSpeech/test-other/7975/280085/7975-280085-0014.flac': 'I GOT UP AS THE SIGNAL FOR THE CHARGE AND WE FIRED ONE VOLLEY', '/content/librispeech-other/LibriSpeech/test-other/7975/280085/7975-280085-0000.flac': 'THAT NIGHT IT STARTED TO RAIN AND WE WORE OUT OUR HORSES', '/content/librispeech-other/LibriSpeech/test-other/7975/280084/7975-280084-0013.flac': 'WHAT KEPT YOU SO LONG I ASKED PITTS', '/content/librispeech-other/LibriSpeech/test-other/7975/280084/7975-280084-0007.flac': 'CHADWELL WOODS AND JIM RODE UP AND JOINED US SHOUTING TO PEOPLE IN THE STREET TO GET INSIDE AND FIRING THEIR PISTOLS TO EMPHASIZE THEIR COMMANDS', '/content/librispeech-other/LibriSpeech/test-other/7975/280084/7975-280084-0002.flac': 'WHEN WE CAME UP I TOLD MILLER TO SHUT THE BANK DOOR WHICH THEY HAD LEFT OPEN IN THEIR HURRY', '/content/librispeech-other/LibriSpeech/test-other/7975/280084/7975-280084-0003.flac': 'J S ALLEN WHOSE HARDWARE STORE WAS NEAR TRIED TO GO INTO THE BANK BUT MILLER ORDERED HIM AWAY AND HE RAN AROUND THE CORNER SHOUTING', '/content/librispeech-other/LibriSpeech/test-other/7975/280084/7975-280084-0010.flac': 'EVERY TIME I SAW ANY ONE WITH A BEAD ON ME I WOULD DROP OFF MY HORSE AND TRY TO DRIVE THE SHOOTER INSIDE BUT I COULD NOT SEE IN EVERY DIRECTION', '/content/librispeech-other/LibriSpeech/test-other/7975/280084/7975-280084-0009.flac': 'MEANTIME THE STREET WAS GETTING UNCOMFORTABLY HOT', '/content/librispeech-other/LibriSpeech/test-other/7975/280084/7975-280084-0014.flac': 'AS TO THE REST OF THE AFFAIR INSIDE THE BANK I TAKE THE ACCOUNT OF A NORTHFIELD NARRATOR', '/content/librispeech-other/LibriSpeech/test-other/7975/280084/7975-280084-0001.flac': 'WHEN MILLER AND I CROSSED THE BRIDGE THE THREE WERE ON SOME DRY GOODS BOXES AT THE CORNER NEAR THE BANK AND AS SOON AS THEY SAW US WENT RIGHT INTO THE BANK INSTEAD OF WAITING FOR US TO GET THERE', '/content/librispeech-other/LibriSpeech/test-other/7975/280084/7975-280084-0005.flac': 'AND I CALLED TO HIM TO GET INSIDE AT THE SAME TIME FIRING A PISTOL SHOT IN THE AIR AS A SIGNAL TO THE THREE BOYS AT THE BRIDGE THAT WE HAD BEEN DISCOVERED', '/content/librispeech-other/LibriSpeech/test-other/7975/280084/7975-280084-0017.flac': 'THE FIRST ONE MISSED HIM BUT THE SECOND WENT THROUGH HIS RIGHT SHOULDER', '/content/librispeech-other/LibriSpeech/test-other/7975/280084/7975-280084-0012.flac': \"CHANGING HIS PISTOL TO HIS LEFT HAND BOB RAN OUT AND MOUNTED MILLER'S MARE\", '/content/librispeech-other/LibriSpeech/test-other/7975/280084/7975-280084-0004.flac': \"GET YOUR GUNS BOYS THEY'RE ROBBING THE BANK\", '/content/librispeech-other/LibriSpeech/test-other/7975/280084/7975-280084-0011.flac': 'DOCTOR WHEELER WHO HAD GONE UPSTAIRS IN THE HOTEL SHOT MILLER AND HE LAY DYING IN THE STREET', '/content/librispeech-other/LibriSpeech/test-other/7975/280084/7975-280084-0015.flac': \"WHERE'S THE MONEY OUTSIDE THE SAFE BOB ASKED\", '/content/librispeech-other/LibriSpeech/test-other/7975/280084/7975-280084-0008.flac': 'IF ANY OF OUR PARTY SHOT HIM IT MUST HAVE BEEN WOODS', '/content/librispeech-other/LibriSpeech/test-other/7975/280084/7975-280084-0006.flac': 'ALMOST AT THIS INSTANT I HEARD A PISTOL SHOT IN THE BANK', '/content/librispeech-other/LibriSpeech/test-other/7975/280084/7975-280084-0016.flac': \"THE SHUTTERS WERE CLOSED AND THIS CAUSED BUNKER AN INSTANT'S DELAY THAT WAS ALMOST FATAL PITTS CHASED HIM WITH A BULLET\", '/content/librispeech-other/LibriSpeech/test-other/7975/280084/7975-280084-0000.flac': 'I URGED ON THE BOYS THAT WHATEVER HAPPENED WE SHOULD NOT SHOOT ANY ONE', '/content/librispeech-other/LibriSpeech/test-other/7975/280076/7975-280076-0004.flac': 'JUNE THIRD EIGHTEEN SEVENTY ONE OBOCOCK BROTHERS BANK AT CORYDON IOWA WAS ROBBED OF FORTY THOUSAND DOLLARS BY SEVEN MEN IN BROAD DAYLIGHT', '/content/librispeech-other/LibriSpeech/test-other/7975/280076/7975-280076-0014.flac': 'DURING THE SUMMER I WAS EITHER IN SAINT CLAIR JACKSON OR KANSAS BUT AS THERE WAS NO ROBBERY COMMITTED THAT SUMMER IT MAKES NO DIFFERENCE WHERE I WAS', '/content/librispeech-other/LibriSpeech/test-other/7975/280076/7975-280076-0024.flac': 'HELVIN FICKLE AND WIFE OF GREENTON VALLEY WERE ATTENDING THE SPRINGS AT THAT TIME AND EITHER OF THEM WILL TESTIFY TO THE ABOVE FOR JOHN AND I SAT IN FRONT OF MISTER SMITH WHILE HE WAS PREACHING AND WAS IN HIS COMPANY FOR A FEW MOMENTS TOGETHER WITH HIS WIFE AND MISTER AND MISSUS FICKLE AFTER SERVICE', '/content/librispeech-other/LibriSpeech/test-other/7975/280076/7975-280076-0006.flac': 'THE PARTS OF THIS LETTER NOW RELEVANT ARE AS FOLLOWS', '/content/librispeech-other/LibriSpeech/test-other/7975/280076/7975-280076-0016.flac': \"THERE I TOOK DINNER AND THEN WENT TO DOCTOR L W TWYMAN'S\", '/content/librispeech-other/LibriSpeech/test-other/7975/280076/7975-280076-0002.flac': 'THIS RAID WAS ACCOMPANIED BY BLOODSHED JUDGE MC LAIN THE BANKER BEING SHOT THOUGH NOT FATALLY', '/content/librispeech-other/LibriSpeech/test-other/7975/280076/7975-280076-0010.flac': 'THIS CAN BE PROVED BY BOTH OF THEM ALSO BY SHERIFF BARKLEY AND FIFTY OTHER RESPECTABLE MEN OF THAT COUNTY', '/content/librispeech-other/LibriSpeech/test-other/7975/280076/7975-280076-0018.flac': 'WE CROSSED ON THE BRIDGE STAYED IN THE CITY ALL NIGHT AND THE NEXT MORNING WE RODE UP THROUGH THE CITY', '/content/librispeech-other/LibriSpeech/test-other/7975/280076/7975-280076-0026.flac': 'I STAYED THERE UNTIL THE EIGHTH OF FEBRUARY EIGHTEEN SEVENTY FOUR', '/content/librispeech-other/LibriSpeech/test-other/7975/280076/7975-280076-0028.flac': 'IT WAS IMMEDIATELY FOLLOWING THE ROCK ISLAND ROBBERY AT ADAIR IOWA THAT THERE FIRST APPEARED A DELIBERATE ENLISTMENT OF SOME LOCAL PAPERS IN MISSOURI TO CONNECT US WITH THIS ROBBERY', '/content/librispeech-other/LibriSpeech/test-other/7975/280076/7975-280076-0001.flac': 'IT WAS CLAIMED BY PEOPLE OF LIBERTY THAT THEY POSITIVELY RECOGNIZED AMONG THE ROBBERS OLL SHEPHERD RED MONKERS AND BUD PENCE WHO HAD SEEN SERVICE WITH QUANTRELL', '/content/librispeech-other/LibriSpeech/test-other/7975/280076/7975-280076-0020.flac': 'WE WERE NOT ON GOOD TERMS AT THE TIME NOR HAVE WE BEEN FOR SEVERAL YEARS', '/content/librispeech-other/LibriSpeech/test-other/7975/280076/7975-280076-0021.flac': 'POOR JOHN HE HAS BEEN HUNTED DOWN AND SHOT LIKE A WILD BEAST AND NEVER WAS A BOY MORE INNOCENT', '/content/librispeech-other/LibriSpeech/test-other/7975/280076/7975-280076-0012.flac': 'I THEN WENT TO ARKANSAS AND RETURNED TO SAINT CLAIR COUNTY ABOUT THE FIRST OF MAY', '/content/librispeech-other/LibriSpeech/test-other/7975/280076/7975-280076-0013.flac': \"I WENT TO KANSAS WHERE OUR CATTLE WERE IN WOODSON COUNTY AT COLONEL RIDGE'S\", '/content/librispeech-other/LibriSpeech/test-other/7975/280076/7975-280076-0000.flac': 'ALTHOUGH EVERY BOOK PURPORTING TO NARRATE THE LIVES OF THE YOUNGER BROTHERS HAS TOLD OF THE LIBERTY ROBBERY AND IMPLIED THAT WE HAD A PART IN IT THE YOUNGERS WERE NOT SUSPECTED AT THAT TIME NOR FOR A LONG TIME AFTERWARD', '/content/librispeech-other/LibriSpeech/test-other/7975/280076/7975-280076-0007.flac': 'YOU MAY USE THIS LETTER IN YOUR OWN WAY', '/content/librispeech-other/LibriSpeech/test-other/7975/280076/7975-280076-0009.flac': 'AT THE TIME OF THE GALLATIN BANK ROBBERY I WAS GATHERING CATTLE IN ELLIS COUNTY TEXAS CATTLE THAT I BOUGHT FROM PLEAS TAYLOR AND RECTOR', '/content/librispeech-other/LibriSpeech/test-other/7975/280076/7975-280076-0011.flac': 'I BROUGHT THE CATTLE TO KANSAS THAT FALL AND REMAINED IN SAINT CLAIR COUNTY UNTIL FEBRUARY', '/content/librispeech-other/LibriSpeech/test-other/7975/280076/7975-280076-0022.flac': 'DOCTOR L LEWIS WAS HIS PHYSICIAN', '/content/librispeech-other/LibriSpeech/test-other/7975/280076/7975-280076-0025.flac': 'ABOUT THE LAST OF DECEMBER EIGHTEEN SEVENTY THREE I ARRIVED IN CARROLL PARISH LOUISIANA', '/content/librispeech-other/LibriSpeech/test-other/7975/280076/7975-280076-0017.flac': 'OUR BUSINESS THERE WAS TO SEE E P WEST HE WAS NOT AT HOME BUT THE FAMILY WILL REMEMBER THAT WE WERE THERE', '/content/librispeech-other/LibriSpeech/test-other/7975/280076/7975-280076-0005.flac': \"IT WAS CHARGED THAT ARTHUR MC COY OR A C MC COY AND MYSELF HAD BEEN PARTICIPANTS IN THE GAD'S HILL AFFAIR AND THE TWO STAGE ROBBERIES\", '/content/librispeech-other/LibriSpeech/test-other/7975/280076/7975-280076-0027.flac': 'I HAD NOT HEARD OF THAT WHEN I WROTE THE LETTER OF EIGHTEEN SEVENTY FOUR AND TO CORRECT ANY MISAPPREHENSION THAT MIGHT BE CREATED BY OMITTING IT I WILL SAY THAT AT THAT TIME I WAS AT NEOSHO KANSAS WITH A DROVE OF CATTLE WHICH I SOLD TO MAJOR RAY', '/content/librispeech-other/LibriSpeech/test-other/7975/280076/7975-280076-0019.flac': 'I MET SEVERAL OF MY FRIENDS AMONG THEM WAS BOB HUDSPETH', '/content/librispeech-other/LibriSpeech/test-other/7975/280076/7975-280076-0008.flac': 'I WILL GIVE YOU THIS OUTLINE AND SKETCH OF MY WHEREABOUTS AND ACTIONS AT THE TIME OF CERTAIN ROBBERIES WITH WHICH I AM CHARGED', '/content/librispeech-other/LibriSpeech/test-other/7975/280076/7975-280076-0023.flac': 'THERE WERE FIFTY OR A HUNDRED PERSONS THERE WHO WILL TESTIFY IN ANY COURT THAT JOHN AND I WERE THERE', '/content/librispeech-other/LibriSpeech/test-other/7975/280076/7975-280076-0003.flac': 'NO WARRANT WAS ISSUED FOR THE YOUNGERS BUT SUBSEQUENT HISTORIANS HAVE INFERENTIALLY AT LEAST ACCUSED US OF TAKING PART BUT AS I SAID BEFORE THERE IS NO TRUTH IN THE ACCUSATION', '/content/librispeech-other/LibriSpeech/test-other/7975/280076/7975-280076-0015.flac': \"I WENT THROUGH INDEPENDENCE AND FROM THERE TO ACE WEBB'S\", '/content/librispeech-other/LibriSpeech/test-other/7975/280057/7975-280057-0003.flac': 'I CANNOT REMEMBER WHEN I DID NOT KNOW HOW TO SHOOT', '/content/librispeech-other/LibriSpeech/test-other/7975/280057/7975-280057-0014.flac': 'BUT SHE FAILED TO FIND THE COMFORT SHE SOUGHT FOR ANNOYANCES CONTINUED IN A MORE AGGRAVATED FORM', '/content/librispeech-other/LibriSpeech/test-other/7975/280057/7975-280057-0019.flac': 'ONE OF MY OLD SCHOOL TEACHERS WHOM I HAVE NEVER SEEN SINCE THE SPRING OR SUMMER OF EIGHTEEN SIXTY TWO IS STEPHEN B ELKINS SENATOR FROM WEST VIRGINIA', '/content/librispeech-other/LibriSpeech/test-other/7975/280057/7975-280057-0015.flac': 'TWO MONTHS AFTER THIS INCIDENT THE SAME PERSECUTORS AGAIN ENTERED OUR HOME IN THE DEAD OF THE NIGHT AND AT THE POINT OF A PISTOL TRIED TO FORCE MY MOTHER TO SET FIRE TO HER OWN HOME', '/content/librispeech-other/LibriSpeech/test-other/7975/280057/7975-280057-0000.flac': 'THESE HATREDS WERE SOON TO MAKE TROUBLE FOR ME OF WHICH I HAD NEVER DREAMED', '/content/librispeech-other/LibriSpeech/test-other/7975/280057/7975-280057-0017.flac': 'FROM HARRISONVILLE SHE WENT TO WAVERLY WHERE SHE WAS HOUNDED CONTINUALLY', '/content/librispeech-other/LibriSpeech/test-other/7975/280057/7975-280057-0001.flac': 'HENRY WASHINGTON YOUNGER MY FATHER REPRESENTED JACKSON COUNTY THREE TIMES IN THE LEGISLATURE AND WAS ALSO JUDGE OF THE COUNTY COURT', '/content/librispeech-other/LibriSpeech/test-other/7975/280057/7975-280057-0009.flac': 'MISSUS WELLS STAYED TO GUARD THE REMAINS WHILE HER SON CARRIED THE NEWS OF THE MURDER TO COLONEL PEABODY OF THE FEDERAL COMMAND WHO WAS THEN IN CAMP AT KANSAS CITY', '/content/librispeech-other/LibriSpeech/test-other/7975/280057/7975-280057-0002.flac': \"MY MOTHER WHO WAS BURSHEBA FRISTOE OF INDEPENDENCE WAS THE DAUGHTER OF RICHARD FRISTOE WHO FOUGHT UNDER GENERAL ANDREW JACKSON AT NEW ORLEANS JACKSON COUNTY HAVING BEEN SO NAMED AT MY GRANDFATHER FRISTOE'S INSISTENCE\", '/content/librispeech-other/LibriSpeech/test-other/7975/280057/7975-280057-0011.flac': 'AS THE RAIDERS LEFT ONE OF THEM SHOUTED', '/content/librispeech-other/LibriSpeech/test-other/7975/280057/7975-280057-0004.flac': 'MY BROTHER JAMES WAS BORN JANUARY FIFTEENTH EIGHTEEN FORTY EIGHT JOHN IN EIGHTEEN FIFTY ONE AND ROBERT IN DECEMBER EIGHTEEN FIFTY THREE', '/content/librispeech-other/LibriSpeech/test-other/7975/280057/7975-280057-0005.flac': 'MY ELDEST BROTHER RICHARD DIED IN EIGHTEEN SIXTY', '/content/librispeech-other/LibriSpeech/test-other/7975/280057/7975-280057-0018.flac': 'ONE OF THE CONDITIONS UPON WHICH HER LIFE WAS SPARED WAS THAT SHE WOULD REPORT AT LEXINGTON WEEKLY', '/content/librispeech-other/LibriSpeech/test-other/7975/280057/7975-280057-0012.flac': \"NOW OLD LADY CALL ON YOUR PROTECTORS WHY DON'T YOU CALL ON COLE YOUNGER NOW\", '/content/librispeech-other/LibriSpeech/test-other/7975/280057/7975-280057-0020.flac': 'WHEN I WAS TAKEN PRISONER I EXPECTED TO BE SHOT WITHOUT CEREMONY', '/content/librispeech-other/LibriSpeech/test-other/7975/280057/7975-280057-0006.flac': 'MY FATHER WAS IN THE EMPLOY OF THE UNITED STATES GOVERNMENT AND HAD THE MAIL CONTRACT FOR FIVE HUNDRED MILES', '/content/librispeech-other/LibriSpeech/test-other/7975/280057/7975-280057-0016.flac': 'I HAVE ALWAYS FELT THAT THE EXPOSURE TO WHICH SHE WAS SUBJECTED ON THIS CRUEL JOURNEY TOO HARD EVEN FOR A MAN TO TAKE WAS THE DIRECT CAUSE OF HER DEATH', '/content/librispeech-other/LibriSpeech/test-other/7975/280057/7975-280057-0008.flac': \"MISSUS WASHINGTON WELLS AND HER SON SAMUEL ON THE ROAD HOME FROM KANSAS CITY TO LEE'S SUMMIT RECOGNIZED THE BODY AS THAT OF MY FATHER\", '/content/librispeech-other/LibriSpeech/test-other/7975/280057/7975-280057-0010.flac': 'MISSUS MC CORKLE JUMPED FROM THE WINDOW OF THE HOUSE AND ESCAPED', '/content/librispeech-other/LibriSpeech/test-other/7975/280057/7975-280057-0007.flac': 'HE HAD STARTED BACK TO HARRISONVILLE IN A BUGGY BUT WAS WAYLAID ONE MILE SOUTH OF WESTPORT A SUBURB OF KANSAS CITY AND BRUTALLY MURDERED FALLING OUT OF HIS BUGGY INTO THE ROAD WITH THREE MORTAL BULLET WOUNDS', '/content/librispeech-other/LibriSpeech/test-other/7975/280057/7975-280057-0013.flac': 'EVERY KNOT REPRESENTED A HUMAN LIFE', '/content/librispeech-other/LibriSpeech/test-other/7975/280063/7975-280063-0007.flac': 'WE WERE OUT OF AMMUNITION AND WERE HELPLESS HAD THE FIGHT BEEN PRESSED', '/content/librispeech-other/LibriSpeech/test-other/7975/280063/7975-280063-0004.flac': 'COME IN COLONEL HAYS EXCLAIMED COLONEL COCKRELL', '/content/librispeech-other/LibriSpeech/test-other/7975/280063/7975-280063-0012.flac': 'THE WOUNDED OF BOTH FORCES WERE GATHERED UP AND WERE PLACED IN HOUSES', '/content/librispeech-other/LibriSpeech/test-other/7975/280063/7975-280063-0000.flac': \"WE TOOK THE OATH PERHAPS THREE HUNDRED OF US DOWN ON LUTHER MASON'S FARM A FEW MILES FROM WHERE I NOW WRITE WHERE COLONEL HAYS HAD ENCAMPED AFTER INDEPENDENCE\", '/content/librispeech-other/LibriSpeech/test-other/7975/280063/7975-280063-0006.flac': 'JACKMAN WITH A PARTY OF THIRTY SEASONED MEN CHARGED THE INDIANA GUNS AND CAPTURED THEM BUT MAJOR FOSTER LED A GALLANT CHARGE AGAINST THE INVADERS AND RECAPTURED THE PIECES', '/content/librispeech-other/LibriSpeech/test-other/7975/280063/7975-280063-0009.flac': 'MAJOR FOSTER IN A LETTER TO JUDGE GEORGE M BENNETT OF MINNEAPOLIS SAID', '/content/librispeech-other/LibriSpeech/test-other/7975/280063/7975-280063-0001.flac': 'BOONE MUIR AND MYSELF MET COFFEE AND THE REST BELOW ROSE HILL ON GRAND RIVER', '/content/librispeech-other/LibriSpeech/test-other/7975/280063/7975-280063-0011.flac': 'ABOUT NINE THIRTY A M I WAS SHOT DOWN', '/content/librispeech-other/LibriSpeech/test-other/7975/280063/7975-280063-0002.flac': 'ACCORDINGLY I WAS SHORTLY AWAKENED TO ACCOMPANY HIM TO LONE JACK WHERE HE WOULD PERSONALLY MAKE KNOWN THE SITUATION TO THE OTHER COLONELS', '/content/librispeech-other/LibriSpeech/test-other/7975/280063/7975-280063-0005.flac': \"I THINK HE'LL BE RATHER TOUGH MEAT FOR BREAKFAST I REPLIED HE MIGHT BE ALL RIGHT FOR DINNER\", '/content/librispeech-other/LibriSpeech/test-other/7975/280063/7975-280063-0003.flac': \"FOSTER HAD NEARLY ONE THOUSAND CAVALRYMEN AND TWO PIECES OF RABB'S INDIANA BATTERY THAT HAD ALREADY MADE FOR ITSELF A NAME FOR HARD FIGHTING\", '/content/librispeech-other/LibriSpeech/test-other/7975/280063/7975-280063-0008.flac': 'THEY DID MARK MY CLOTHES IN ONE OR TWO PLACES HOWEVER', '/content/librispeech-other/LibriSpeech/test-other/7975/280063/7975-280063-0010.flac': 'I WAS TOLD BY SOME OF OUR MEN FROM THE WESTERN BORDER OF THE STATE THAT THEY RECOGNIZED THE DARING YOUNG RIDER AS COLE YOUNGER', '/content/librispeech-other/LibriSpeech/test-other/4294/9934/4294-9934-0018.flac': 'DO YOU KNOW GERMAN NO', '/content/librispeech-other/LibriSpeech/test-other/4294/9934/4294-9934-0023.flac': 'HELLO I HAD FORGOTTEN THAT SAID MARIUS', '/content/librispeech-other/LibriSpeech/test-other/4294/9934/4294-9934-0000.flac': 'HE FELT WHAT THE EARTH MAY POSSIBLY FEEL AT THE MOMENT WHEN IT IS TORN OPEN WITH THE IRON IN ORDER THAT GRAIN MAY BE DEPOSITED WITHIN IT IT FEELS ONLY THE WOUND THE QUIVER OF THE GERM AND THE JOY OF THE FRUIT ONLY ARRIVE LATER', '/content/librispeech-other/LibriSpeech/test-other/4294/9934/4294-9934-0009.flac': 'IN THE TROUBLED STATE OF HIS CONSCIENCE HE NO LONGER THOUGHT OF CERTAIN SERIOUS SIDES OF EXISTENCE', '/content/librispeech-other/LibriSpeech/test-other/4294/9934/4294-9934-0016.flac': 'THAT WILL BE ENOUGH', '/content/librispeech-other/LibriSpeech/test-other/4294/9934/4294-9934-0001.flac': 'HE HAD BUT JUST ACQUIRED A FAITH MUST HE THEN REJECT IT ALREADY', '/content/librispeech-other/LibriSpeech/test-other/4294/9934/4294-9934-0017.flac': 'NO IT IS NOT GOOD WHAT WILL YOU DO AFTER THAT', '/content/librispeech-other/LibriSpeech/test-other/4294/9934/4294-9934-0025.flac': 'I HAVE TEN FRANCS LEFT SAID MARIUS', '/content/librispeech-other/LibriSpeech/test-other/4294/9934/4294-9934-0027.flac': 'ONE MORNING ON HIS RETURN FROM THE LAW SCHOOL MARIUS FOUND A LETTER FROM HIS AUNT AND THE SIXTY PISTOLES THAT IS TO SAY SIX HUNDRED FRANCS IN GOLD IN A SEALED BOX', '/content/librispeech-other/LibriSpeech/test-other/4294/9934/4294-9934-0012.flac': 'WHAT IS TO BECOME OF YOU SAID COURFEYRAC', '/content/librispeech-other/LibriSpeech/test-other/4294/9934/4294-9934-0021.flac': \"HE PAID TWENTY FRANCS FOR THE CAST OFF GARMENTS THEY WENT TO THE WATCHMAKER'S\", '/content/librispeech-other/LibriSpeech/test-other/4294/9934/4294-9934-0002.flac': 'HE AFFIRMED TO HIMSELF THAT HE WOULD NOT HE DECLARED TO HIMSELF THAT HE WOULD NOT DOUBT AND HE BEGAN TO DOUBT IN SPITE OF HIMSELF', '/content/librispeech-other/LibriSpeech/test-other/4294/9934/4294-9934-0006.flac': 'WHATEVER MAY HAVE BEEN HIS DESIRE TO REMAIN WHERE HE WAS HE COULD NOT HALT THERE HE WAS IRRESISTIBLY CONSTRAINED TO CONTINUE TO ADVANCE TO EXAMINE TO THINK TO MARCH FURTHER', '/content/librispeech-other/LibriSpeech/test-other/4294/9934/4294-9934-0024.flac': 'THE LANDLORD PRESENTED HIS BILL WHICH HAD TO BE PAID ON THE SPOT', '/content/librispeech-other/LibriSpeech/test-other/4294/9934/4294-9934-0007.flac': 'HE FEARED AFTER HAVING TAKEN SO MANY STEPS WHICH HAD BROUGHT HIM NEARER TO HIS FATHER TO NOW TAKE A STEP WHICH SHOULD ESTRANGE HIM FROM THAT FATHER', '/content/librispeech-other/LibriSpeech/test-other/4294/9934/4294-9934-0010.flac': 'THEY SOON ELBOWED HIM ABRUPTLY', '/content/librispeech-other/LibriSpeech/test-other/4294/9934/4294-9934-0011.flac': 'REQUEST COURFEYRAC TO COME AND TALK WITH ME SAID MARIUS', '/content/librispeech-other/LibriSpeech/test-other/4294/9934/4294-9934-0008.flac': 'HIS DISCOMFORT WAS AUGMENTED BY ALL THE REFLECTIONS WHICH OCCURRED TO HIM', '/content/librispeech-other/LibriSpeech/test-other/4294/9934/4294-9934-0029.flac': 'AT THAT MOMENT HE HAD THREE FRANCS LEFT', '/content/librispeech-other/LibriSpeech/test-other/4294/9934/4294-9934-0014.flac': 'SILVER GOLD HERE IT IS', '/content/librispeech-other/LibriSpeech/test-other/4294/9934/4294-9934-0028.flac': 'MARIUS SENT BACK THE THIRTY LOUIS TO HIS AUNT WITH A RESPECTFUL LETTER IN WHICH HE STATED THAT HE HAD SUFFICIENT MEANS OF SUBSISTENCE AND THAT HE SHOULD BE ABLE THENCEFORTH TO SUPPLY ALL HIS NEEDS', '/content/librispeech-other/LibriSpeech/test-other/4294/9934/4294-9934-0019.flac': 'IT IS BADLY PAID WORK BUT ONE CAN LIVE BY IT', '/content/librispeech-other/LibriSpeech/test-other/4294/9934/4294-9934-0020.flac': 'THE CLOTHES DEALER WAS SENT FOR', '/content/librispeech-other/LibriSpeech/test-other/4294/9934/4294-9934-0004.flac': 'MARIUS WAS CLEAR EYED AND HE REQUIRED THE TRUE LIGHT', '/content/librispeech-other/LibriSpeech/test-other/4294/9934/4294-9934-0013.flac': 'WHAT ARE YOU GOING TO DO I DO NOT KNOW', '/content/librispeech-other/LibriSpeech/test-other/4294/9934/4294-9934-0022.flac': 'HE BOUGHT THE WATCH FOR FORTY FIVE FRANCS', '/content/librispeech-other/LibriSpeech/test-other/4294/9934/4294-9934-0026.flac': 'THAT WILL BE SWALLOWING A TONGUE VERY FAST OR A HUNDRED SOUS VERY SLOWLY', '/content/librispeech-other/LibriSpeech/test-other/4294/9934/4294-9934-0003.flac': 'TO STAND BETWEEN TWO RELIGIONS FROM ONE OF WHICH YOU HAVE NOT AS YET EMERGED AND ANOTHER INTO WHICH YOU HAVE NOT YET ENTERED IS INTOLERABLE AND TWILIGHT IS PLEASING ONLY TO BAT LIKE SOULS', '/content/librispeech-other/LibriSpeech/test-other/4294/9934/4294-9934-0015.flac': 'YOU WILL THEN HAVE ONLY A PAIR OF TROUSERS A WAISTCOAT A HAT AND A COAT AND MY BOOTS', '/content/librispeech-other/LibriSpeech/test-other/4294/9934/4294-9934-0005.flac': 'THE HALF LIGHTS OF DOUBT PAINED HIM', '/content/librispeech-other/LibriSpeech/test-other/4294/14317/4294-14317-0011.flac': 'I HOPE TO PROVE ON WHAT ACCOUNT THAT SCOUNDREL TRIES TO BRING ME INTO DISGRACE', '/content/librispeech-other/LibriSpeech/test-other/4294/14317/4294-14317-0002.flac': 'IT WAS AN EXTREMELY DIFFICULT TASK AND I WAS ANXIOUS TO OBSERVE ALL THE NICETIES OF ART WHICH I HAD LEARNED SO AS NOT TO LAPSE INTO SOME ERROR', '/content/librispeech-other/LibriSpeech/test-other/4294/14317/4294-14317-0007.flac': 'I HAD BETTER LOOK TO MY CONDUCT FOR IT HAD COME TO HIS EARS THAT I RELIED UPON HIS FAVOUR TO TAKE IN FIRST ONE MAN AND THEN ANOTHER', '/content/librispeech-other/LibriSpeech/test-other/4294/14317/4294-14317-0016.flac': 'AMONG ARTISTS CERTAIN ENRAGED SCULPTORS LAUGHED AT ME AND CALLED ME THE NEW SCULPTOR', '/content/librispeech-other/LibriSpeech/test-other/4294/14317/4294-14317-0018.flac': 'HAVING THIS EXCELLENT RESOLVE IN HEART I REACHED MY HOME', '/content/librispeech-other/LibriSpeech/test-other/4294/14317/4294-14317-0006.flac': 'THEN I THANKED HIM AND SAID I HAD NO GREATER DESIRE THAN TO SHOW THOSE ENVIOUS FOLK THAT I HAD IT IN ME TO EXECUTE THE PROMISED WORK', '/content/librispeech-other/LibriSpeech/test-other/4294/14317/4294-14317-0017.flac': 'NOW I HOPE TO SHOW THEM THAT I AM AN OLD SCULPTOR IF GOD SHALL GRANT ME THE BOON OF FINISHING MY PERSEUS FOR THAT NOBLE PIAZZA OF HIS MOST ILLUSTRIOUS EXCELLENCY', '/content/librispeech-other/LibriSpeech/test-other/4294/14317/4294-14317-0010.flac': 'GIORGIO CAME FOR THEM HIMSELF', '/content/librispeech-other/LibriSpeech/test-other/4294/14317/4294-14317-0000.flac': 'AS I THOUGHT THAT THIS WAS DUE TO SOME FAULT IN THE EARTH I WANTED TO MAKE THESE FIRST EXPERIMENTS BEFORE I UNDERTOOK MY PERSEUS', '/content/librispeech-other/LibriSpeech/test-other/4294/14317/4294-14317-0001.flac': 'WHEN I SAW THAT THIS BUST CAME OUT SHARP AND CLEAN I SET AT ONCE TO CONSTRUCT A LITTLE FURNACE IN THE WORKSHOP ERECTED FOR ME BY THE DUKE AFTER MY OWN PLANS AND DESIGN IN THE HOUSE WHICH THE DUKE HAD GIVEN ME', '/content/librispeech-other/LibriSpeech/test-other/4294/14317/4294-14317-0014.flac': 'I AM WILLING TO ENTER INTO COMPETITION WITH THE ANCIENTS AND FEEL ABLE TO SURPASS THEM FOR SINCE THOSE EARLY DAYS IN WHICH I MADE THE MEDALS OF POPE CLEMENT I HAVE LEARNED SO MUCH THAT I CAN NOW PRODUCE FAR BETTER PIECES OF THE KIND I THINK I CAN ALSO OUTDO THE COINS I STRUCK FOR DUKE ALESSANDRO WHICH ARE STILL HELD IN HIGH ESTEEM IN LIKE MANNER I COULD MAKE FOR YOU LARGE PIECES OF GOLD AND SILVER PLATE AS I DID SO OFTEN FOR THAT NOBLE MONARCH KING FRANCIS OF FRANCE THANKS TO THE GREAT CONVENIENCES HE ALLOWED ME WITHOUT EVER LOSING TIME FOR THE EXECUTION OF COLOSSAL STATUES OR OTHER WORKS OF THE SCULPTORS CRAFT', '/content/librispeech-other/LibriSpeech/test-other/4294/14317/4294-14317-0009.flac': 'I SAID MY LORD I THANK YOU AND BEG YOU TO CONDESCEND SO FAR AS TO LISTEN TO FOUR WORDS IT IS TRUE THAT HE LENT ME A PAIR OF OLD SCALES TWO ANVILS AND THREE LITTLE HAMMERS WHICH ARTICLES I BEGGED HIS WORKMAN GIORGIO DA CORTONA FIFTEEN DAYS AGO TO FETCH BACK', '/content/librispeech-other/LibriSpeech/test-other/4294/14317/4294-14317-0008.flac': 'I BEGGED HIS MOST ILLUSTRIOUS EXCELLENCY TO NAME A SINGLE PERSON WHOM I HAD EVER TAKEN IN', '/content/librispeech-other/LibriSpeech/test-other/4294/14317/4294-14317-0013.flac': 'YOU HAD BETTER PUT THIS TO THE PROOF AND I WILL GO AT ONCE TO THE BARGELLO', '/content/librispeech-other/LibriSpeech/test-other/4294/14317/4294-14317-0012.flac': 'WHEN HE HAD HEARD THIS SPEECH THE DUKE ROSE UP IN ANGER AND SENT FOR BERNARDONE WHO WAS FORCED TO TAKE FLIGHT AS FAR AS VENICE HE AND ANTONIO LANDI WITH HIM', '/content/librispeech-other/LibriSpeech/test-other/4294/14317/4294-14317-0005.flac': 'I ASK NO FURTHER REWARD FOR MY LABOURS UP TO THIS TIME THAN THE GRACIOUS FAVOUR OF YOUR MOST ILLUSTRIOUS EXCELLENCY', '/content/librispeech-other/LibriSpeech/test-other/4294/14317/4294-14317-0003.flac': 'I IN MY TURN FEEL THE SAME DESIRE AND HOPE TO PLAY MY PART LIKE THEM THEREFORE MY LORD GIVE ME THE LEAVE TO GO', '/content/librispeech-other/LibriSpeech/test-other/4294/14317/4294-14317-0004.flac': 'BUT BEWARE OF LETTING BANDINELLO QUIT YOU RATHER BESTOW UPON HIM ALWAYS MORE THAN HE DEMANDS FOR IF HE GOES INTO FOREIGN PARTS HIS IGNORANCE IS SO PRESUMPTUOUS THAT HE IS JUST THE MAN TO DISGRACE OUR MOST ILLUSTRIOUS SCHOOL', '/content/librispeech-other/LibriSpeech/test-other/4294/14317/4294-14317-0015.flac': 'AFTER SEVERAL MONTHS WERE WASTED AND PIERO WOULD NEITHER WORK NOR PUT MEN TO WORK UPON THE PIECE I MADE HIM GIVE IT BACK', '/content/librispeech-other/LibriSpeech/test-other/4294/32859/4294-32859-0001.flac': 'IT WAS HIS FANCY I SUPPOSE TO REVIVE CERTAIN SENTIMENTAL RELATIONS WHICH HAD IT MAY BE ONCE EXISTED BETWEEN HIM AND MISS LAKE AND HE WAS A PERSON OF THAT COMBATIVE TEMPERAMENT THAT MAGNIFIES AN OBJECT IN PROPORTION AS ITS PURSUIT IS THWARTED', '/content/librispeech-other/LibriSpeech/test-other/4294/32859/4294-32859-0002.flac': \"THE STORY OF FRIDOLIN AND RETZCH'S PRETTY OUTLINES\", '/content/librispeech-other/LibriSpeech/test-other/4294/32859/4294-32859-0004.flac': 'HE ASSISTED AT IT BUT TOOK NO PART AND IN FACT WAS LISTENING TO THAT OTHER CONVERSATION WHICH SOUNDED WITH ITS PLEASANT GABBLE AND LAUGHTER LIKE A LITTLE MUSICAL TINKLE OF BELLS IN THE DISTANCE', '/content/librispeech-other/LibriSpeech/test-other/4294/32859/4294-32859-0003.flac': \"SIT DOWN BESIDE ME AND I'LL TELL YOU THE STORY\", '/content/librispeech-other/LibriSpeech/test-other/4294/32859/4294-32859-0000.flac': 'WYLDER WAS RATHER SURLY AFTER THE LADIES HAD FLOATED AWAY FROM THE SCENE AND HE DRANK HIS LIQUOR DOGGEDLY', '/content/librispeech-other/LibriSpeech/test-other/4294/32859/4294-32859-0005.flac': 'BUT HONEST MARK FORGOT THAT YOUNG LADIES DO NOT ALWAYS COME OUT QUITE ALONE AND JUMP UNASSISTED INTO THEIR VEHICLES', '/content/librispeech-other/LibriSpeech/test-other/4294/35475/4294-35475-0021.flac': 'MY GRAIN MUST FALL AND ROT IN THE FIELD FROM OVERRIPENESS BECAUSE I HAVE NOT THE STRENGTH TO RISE AND HARVEST IT THEN INDEED MUST WE ALL STARVE', '/content/librispeech-other/LibriSpeech/test-other/4294/35475/4294-35475-0022.flac': \"THE GRANDAME WHOM HE SUPPLIED WITH FAGOTS THE MERCHANT WHOM HE RESCUED FROM ROBBERS THE KING'S COUNCILLOR TO WHOM HE GAVE AID ALL BECAME HIS FRIENDS UP AND DOWN THE LAND TO BEGGAR OR LORD HOMELESS WANDERER OR HIGH BORN DAME HE GLADLY GAVE UNSELFISH SERVICE ALL UNSOUGHT AND SUCH AS HE HELPED STRAIGHTWAY BECAME HIS FRIENDS\", '/content/librispeech-other/LibriSpeech/test-other/4294/35475/4294-35475-0003.flac': 'IN SOOTH THOU SHALT HAVE ONE BUT IT SHALL BE ONE BEFITTING THY MAIDEN SIZE AND COURAGE IF SO SMALL A WEAPON CAN BE FOUND IN ALL MY KINGDOM', '/content/librispeech-other/LibriSpeech/test-other/4294/35475/4294-35475-0024.flac': \"AMONG THOSE WHO DREW BACK WERE ETHELRIED'S BROTHERS THE THREE THAT WERE DARK AND THE THREE THAT WERE FAIR\", '/content/librispeech-other/LibriSpeech/test-other/4294/35475/4294-35475-0026.flac': 'SO THEY ALL CRIED OUT LONG AND LOUD LONG LIVE THE PRINCE PRINCE CISEAUX', '/content/librispeech-other/LibriSpeech/test-other/4294/35475/4294-35475-0013.flac': 'THOU SHALT NOT BE LEFT A PRISONER IN THIS DISMAL SPOT WHILE I HAVE THE POWER TO HELP THEE', '/content/librispeech-other/LibriSpeech/test-other/4294/35475/4294-35475-0006.flac': 'ONE NIGHT AS HE LAY IN A DEEP FOREST TOO UNHAPPY TO SLEEP HE HEARD A NOISE NEAR AT HAND IN THE BUSHES', '/content/librispeech-other/LibriSpeech/test-other/4294/35475/4294-35475-0015.flac': 'A FAINT GLIMMER OF LIGHT ON THE OPPOSITE WALL SHOWS ME THE KEYHOLE', '/content/librispeech-other/LibriSpeech/test-other/4294/35475/4294-35475-0005.flac': \"I DID BUT LAUGH TO THINK THE SWORD OF ETHELRIED HAD BEEN SO QUICKLY FOUND RESPONDED THE JESTER AND HE POINTED TO THE SCISSORS HANGING FROM THE TAILOR'S GIRDLE\", '/content/librispeech-other/LibriSpeech/test-other/4294/35475/4294-35475-0016.flac': 'THE PRINCE SPENT ALL THE FOLLOWING TIME UNTIL MIDNIGHT TRYING TO THINK OF A SUITABLE VERSE TO SAY TO THE SCISSORS', '/content/librispeech-other/LibriSpeech/test-other/4294/35475/4294-35475-0023.flac': \"TO HIM WHO COULD BRING HER BACK TO HER FATHER'S CASTLE SHOULD BE GIVEN THE THRONE AND KINGDOM AS WELL AS THE PRINCESS HERSELF SO FROM FAR AND NEAR INDEED FROM ALMOST EVERY COUNTRY UNDER THE SUN CAME KNIGHTS AND PRINCES TO FIGHT THE OGRE\", '/content/librispeech-other/LibriSpeech/test-other/4294/35475/4294-35475-0000.flac': 'BUT THE MIDDLE SON WAS LITTLE AND LORN HE WAS NEITHER DARK NOR FAIR HE WAS NEITHER HANDSOME NOR STRONG', '/content/librispeech-other/LibriSpeech/test-other/4294/35475/4294-35475-0018.flac': 'IN A VERY SHORT TIME THE PRINCE HAD CRAWLED THROUGH THE OPENING', '/content/librispeech-other/LibriSpeech/test-other/4294/35475/4294-35475-0010.flac': \"SCISSORS GROW A GIANT'S HEIGHT AND SAVE US FROM THE OGRE'S MIGHT\", '/content/librispeech-other/LibriSpeech/test-other/4294/35475/4294-35475-0020.flac': 'WHAT IS TO BECOME OF ME CRIED THE POOR PEASANT', '/content/librispeech-other/LibriSpeech/test-other/4294/35475/4294-35475-0014.flac': 'HE LIFTED THE SCISSORS AND WITH ONE STROKE DESTROYED THE WEB AND GAVE THE FLY ITS FREEDOM', '/content/librispeech-other/LibriSpeech/test-other/4294/35475/4294-35475-0002.flac': 'BUT THE KING LAUGHED HIM TO SCORN THOU A SWORD HE QUOTH', '/content/librispeech-other/LibriSpeech/test-other/4294/35475/4294-35475-0012.flac': 'THE SIGHT WAS SO TERRIBLE THAT HE TURNED ON HIS HEEL AND FLED AWAY AS FAST AS HIS FEET COULD CARRY HIM', '/content/librispeech-other/LibriSpeech/test-other/4294/35475/4294-35475-0009.flac': 'AT THIS MOMENT THERE WAS A DISTANT RUMBLING AS OF THUNDER TIS THE OGRE CRIED THE FAIRY WE MUST HASTEN', '/content/librispeech-other/LibriSpeech/test-other/4294/35475/4294-35475-0004.flac': 'FORTHWITH THE GRINNING JESTER BEGAN SHRIEKING WITH LAUGHTER SO THAT THE BELLS UPON HIS MOTLEY CAP WERE ALL SET A JANGLING', '/content/librispeech-other/LibriSpeech/test-other/4294/35475/4294-35475-0001.flac': 'THROWING HIMSELF ON HIS KNEES BEFORE THE KING HE CRIED OH ROYAL SIRE BESTOW UPON ME ALSO A SWORD AND A STEED THAT I MAY UP AND AWAY TO FOLLOW MY BRETHREN', '/content/librispeech-other/LibriSpeech/test-other/4294/35475/4294-35475-0025.flac': 'BUT ETHELRIED HEEDED NOT THEIR TAUNTS', '/content/librispeech-other/LibriSpeech/test-other/4294/35475/4294-35475-0011.flac': 'HE COULD SEE THE OGRE STANDING POWERLESS TO HURT HIM ON THE OTHER SIDE OF THE CHASM AND GNASHING HIS TEETH EACH ONE OF WHICH WAS AS BIG AS A MILLSTON', '/content/librispeech-other/LibriSpeech/test-other/4294/35475/4294-35475-0017.flac': 'AS HE UTTERED THE WORDS THE SCISSORS LEAPED OUT OF HIS HAND AND BEGAN TO CUT THROUGH THE WOODEN SHUTTERS AS EASILY AS THROUGH A CHEESE', '/content/librispeech-other/LibriSpeech/test-other/4294/35475/4294-35475-0008.flac': 'IT HAD SUDDENLY DISAPPEARED AND IN ITS PLACE STOOD A BEAUTIFUL FAIRY WITH FILMY WINGS WHICH SHONE LIKE RAINBOWS IN THE MOONLIGHT', '/content/librispeech-other/LibriSpeech/test-other/4294/35475/4294-35475-0007.flac': 'THOU SHALT HAVE THY LIBERTY HE CRIED EVEN THOUGH THOU SHOULDST REND ME IN PIECES THE MOMENT THOU ART FREE', '/content/librispeech-other/LibriSpeech/test-other/4294/35475/4294-35475-0019.flac': \"WHILE HE STOOD LOOKING AROUND HIM IN BEWILDERMENT A FIREFLY ALIGHTED ON HIS ARM FLASHING ITS LITTLE LANTERN IN THE PRINCE'S FACE IT CRIED THIS WAY MY FRIEND THE FLY SENT ME TO GUIDE YOU TO A PLACE OF SAFETY\", '/content/librispeech-other/LibriSpeech/test-other/8461/278226/8461-278226-0007.flac': 'BUT SHE FIXED UPON A PICTURE WHICH SHE SAID SHE PREFERRED TO ANYTHING SHE HAD SEEN IN THE GALLERY', '/content/librispeech-other/LibriSpeech/test-other/8461/278226/8461-278226-0004.flac': 'I REMEMBER ALL THE RUBENSES AT THE LOUVRE FOR I SAW THEM THREE YEARS AGO WHEN I WAS STAYING IN PARIS WITH GRANDPAPA', '/content/librispeech-other/LibriSpeech/test-other/8461/278226/8461-278226-0013.flac': 'BUT THERE ARE SOME OTHERS WHO SAY THAT HIS MEMORY HAS NOT ALTOGETHER FAILED AND THAT HE IS STILL ENOUGH HARSHLY CRITICAL TOWARDS THE WORKS OF OTHERS', '/content/librispeech-other/LibriSpeech/test-other/8461/278226/8461-278226-0010.flac': \"I SHOULD SO LIKE ONE TO HANG IN MY MORNING ROOM AT JOCELYN'S ROCK\", '/content/librispeech-other/LibriSpeech/test-other/8461/278226/8461-278226-0002.flac': 'ONE MORNING LAURA TOLD HER HUSBAND WITH A GAY LAUGH THAT SHE WAS GOING TO VICTIMIZE HIM BUT HE WAS TO PROMISE TO BE PATIENT AND BEAR WITH HER FOR ONCE IN A WAY', '/content/librispeech-other/LibriSpeech/test-other/8461/278226/8461-278226-0008.flac': 'PHILIP JOCELYN WAS EXAMINING SOME PICTURES ON THE OTHER SIDE OF THE ROOM WHEN HIS WIFE MADE THIS DISCOVERY', '/content/librispeech-other/LibriSpeech/test-other/8461/278226/8461-278226-0015.flac': \"YOU WILL BE DOING ME SUCH A FAVOUR PHILIP IF YOU'LL SAY YES\", '/content/librispeech-other/LibriSpeech/test-other/8461/278226/8461-278226-0011.flac': 'SHE TURNED TO THE FRENCH ARTIST PRESENTLY AND ASKED HIM WHERE THE ELDER MISTER KERSTALL LIVED AND IF THERE WAS ANY POSSIBILITY OF SEEING HIM', '/content/librispeech-other/LibriSpeech/test-other/8461/278226/8461-278226-0014.flac': \"I DON'T THINK YOU WILL HAVE ANY DIFFICULTY IN FINDING THE HOUSE\", '/content/librispeech-other/LibriSpeech/test-other/8461/278226/8461-278226-0003.flac': 'I WANT TO SEE ALL THE PICTURES THE MODERN PICTURES ESPECIALLY', '/content/librispeech-other/LibriSpeech/test-other/8461/278226/8461-278226-0012.flac': 'THEY HAVE SAID THAT HE IS EVEN A LITTLE IMBECILE THAT HE DOES NOT REMEMBER HIMSELF OF THE MOST COMMON EVENTS OF HIS LIFE', '/content/librispeech-other/LibriSpeech/test-other/8461/278226/8461-278226-0009.flac': 'HOW I WISH YOU COULD GET ME A COPY OF THAT PICTURE PHILIP LAURA SAID ENTREATINGLY', '/content/librispeech-other/LibriSpeech/test-other/8461/278226/8461-278226-0005.flac': 'SHE RETURNED IN A LITTLE MORE THAN TEN MINUTES IN THE FRESHEST TOILETTE ALL PALE SHIMMERING BLUE LIKE THE SPRING SKY WITH PEARL GREY GLOVES AND BOOTS AND PARASOL AND A BONNET THAT SEEMED MADE OF AZURE BUTTERFLIES', '/content/librispeech-other/LibriSpeech/test-other/8461/278226/8461-278226-0001.flac': \"SHE MEANT TO BE SCRUPULOUSLY CONSCIENTIOUS IN THE ADMINISTRATION OF HER TALENTS AND SOMETIMES AT CHURCH ON A SUNDAY WHEN THE SERMON WAS PARTICULARLY AWAKENING SHE MENTALLY DEBATED THE SERIOUS QUESTION AS TO WHETHER NEW BONNETS AND A PAIR OF JOUVIN'S GLOVES DAILY WERE NOT SINFUL BUT I THINK SHE DECIDED THAT THE NEW BONNETS AND GLOVES WERE ON THE WHOLE A PARDONABLE WEAKNESS AS BEING GOOD FOR TRADE\", '/content/librispeech-other/LibriSpeech/test-other/8461/278226/8461-278226-0000.flac': 'AND LAURA HAD HER OWN PET PLANS', '/content/librispeech-other/LibriSpeech/test-other/8461/278226/8461-278226-0006.flac': 'IT WAS DRAWING TOWARDS THE CLOSE OF THIS DELIGHTFUL HONEYMOON TOUR AND IT WAS A BRIGHT SUNSHINY MORNING EARLY IN FEBRUARY BUT FEBRUARY IN PARIS IS SOMETIMES BETTER THAN APRIL IN LONDON', '/content/librispeech-other/LibriSpeech/test-other/8461/281231/8461-281231-0030.flac': \"THE TEMPLAR IS FLED SAID DE BRACY IN ANSWER TO THE PRINCE'S EAGER QUESTIONS FRONT DE BOEUF YOU WILL NEVER SEE MORE AND HE ADDED IN A LOW AND EMPHATIC TONE RICHARD IS IN ENGLAND I HAVE SEEN HIM AND SPOKEN WITH HIM\", '/content/librispeech-other/LibriSpeech/test-other/8461/281231/8461-281231-0027.flac': 'SO SAYING HE MOUNTED HIS STRONG WAR HORSE AND RODE OFF THROUGH THE FOREST', '/content/librispeech-other/LibriSpeech/test-other/8461/281231/8461-281231-0016.flac': 'EXCLAIMED THE BLACK KNIGHT PRISONER AND PERISH', '/content/librispeech-other/LibriSpeech/test-other/8461/281231/8461-281231-0018.flac': 'RAISING THE WOUNDED MAN WITH EASE THE BLACK KNIGHT RUSHED WITH HIM TO THE POSTERN GATE AND HAVING THERE DELIVERED HIS BURDEN TO THE CARE OF TWO YEOMEN HE AGAIN ENTERED THE CASTLE TO ASSIST IN THE RESCUE OF THE OTHER PRISONERS', '/content/librispeech-other/LibriSpeech/test-other/8461/281231/8461-281231-0028.flac': 'DURING ALL THIS TIME ISAAC OF YORK SAT MOURNFULLY APART GRIEVING FOR THE LOSS OF HIS DEARLY LOVED DAUGHTER REBECCA', '/content/librispeech-other/LibriSpeech/test-other/8461/281231/8461-281231-0034.flac': 'POOR ISAAC WAS HURRIED OFF ACCORDINGLY AND EXPELLED FROM THE PRECEPTORY ALL HIS ENTREATIES AND EVEN HIS OFFERS UNHEARD AND DISREGARDED', '/content/librispeech-other/LibriSpeech/test-other/8461/281231/8461-281231-0020.flac': 'AS THE FIRE COMMENCED TO SPREAD RAPIDLY THROUGH ALL PARTS OF THE CASTLE ULRICA APPEARED ON ONE OF THE TURRETS', '/content/librispeech-other/LibriSpeech/test-other/8461/281231/8461-281231-0006.flac': 'REMEMBEREST THOU THE MAGAZINE OF FUEL THAT IS STORED BENEATH THESE APARTMENTS WOMAN', '/content/librispeech-other/LibriSpeech/test-other/8461/281231/8461-281231-0015.flac': 'YET FIRST LET ME SAY SAID DE BRACY WHAT IT IMPORTS THEE TO KNOW', '/content/librispeech-other/LibriSpeech/test-other/8461/281231/8461-281231-0010.flac': 'THE BLACK KNIGHT WITH PORTENTOUS STRENGTH FORCED HIS WAY INWARD IN DESPITE OF DE BRACY AND HIS FOLLOWERS', '/content/librispeech-other/LibriSpeech/test-other/8461/281231/8461-281231-0037.flac': 'AT HIS FEET WAS PLACED A TABLE OCCUPIED BY TWO SCRIBES WHOSE DUTY IT WAS TO RECORD THE PROCEEDINGS OF THE DAY', '/content/librispeech-other/LibriSpeech/test-other/8461/281231/8461-281231-0029.flac': \"AND WITH THIS EPISTLE THE UNHAPPY OLD MAN SET OUT TO PROCURE HIS DAUGHTER'S LIBERATION\", '/content/librispeech-other/LibriSpeech/test-other/8461/281231/8461-281231-0002.flac': 'AS HE LAY UPON HIS BED RACKED WITH PAIN AND MENTAL AGONY AND FILLED WITH THE FEAR OF RAPIDLY APPROACHING DEATH HE HEARD A VOICE ADDRESS HIM', '/content/librispeech-other/LibriSpeech/test-other/8461/281231/8461-281231-0008.flac': 'MEANWHILE THE BLACK KNIGHT HAD LED HIS FORCES AGAIN TO THE ATTACK AND SO VIGOROUS WAS THEIR ASSAULT THAT BEFORE LONG THE GATE OF THE CASTLE ALONE SEPARATED THEM FROM THOSE WITHIN', '/content/librispeech-other/LibriSpeech/test-other/8461/281231/8461-281231-0019.flac': 'BUT IN OTHER PARTS THE BESIEGERS PURSUED THE DEFENDERS OF THE CASTLE FROM CHAMBER TO CHAMBER AND SATIATED IN THEIR BLOOD THE VENGEANCE WHICH HAD LONG ANIMATED THEM AGAINST THE SOLDIERS OF THE TYRANT FRONT DE BOEUF', '/content/librispeech-other/LibriSpeech/test-other/8461/281231/8461-281231-0023.flac': 'WHEN THE OUTLAWS HAD DIVIDED THE SPOILS WHICH THEY HAD TAKEN FROM THE CASTLE OF TORQUILSTONE CEDRIC PREPARED TO TAKE HIS DEPARTURE', '/content/librispeech-other/LibriSpeech/test-other/8461/281231/8461-281231-0005.flac': 'EXCLAIMED THE NORMAN HO', '/content/librispeech-other/LibriSpeech/test-other/8461/281231/8461-281231-0009.flac': 'THE DEFENDERS FINDING THE CASTLE TO BE ON FIRE NOW DETERMINED TO SELL THEIR LIVES AS DEARLY AS THEY COULD AND HEADED BY DE BRACY THEY THREW OPEN THE GATE AND WERE AT ONCE INVOLVED IN A TERRIFIC CONFLICT WITH THOSE OUTSIDE', '/content/librispeech-other/LibriSpeech/test-other/8461/281231/8461-281231-0032.flac': 'BEFORE REACHING HIS DESTINATION HE WAS TOLD THAT LUCAS DE BEAUMANOIR THE GRAND MASTER OF THE ORDER OF THE TEMPLARS WAS THEN ON VISIT TO THE PRECEPTORY', '/content/librispeech-other/LibriSpeech/test-other/8461/281231/8461-281231-0031.flac': \"HE APPEALED TO DE BRACY TO ASSIST HIM IN THIS PROJECT AND BECAME AT ONCE DEEPLY SUSPICIOUS OF THE KNIGHT'S LOYALTY TOWARDS HIM WHEN HE DECLINED TO LIFT HAND AGAINST THE MAN WHO HAD SPARED HIS OWN LIFE\", '/content/librispeech-other/LibriSpeech/test-other/8461/281231/8461-281231-0036.flac': 'SHE GAZED ACCORDINGLY UPON A SCENE WHICH MIGHT WELL HAVE STRUCK TERROR INTO A BOLDER HEART THAN HERS', '/content/librispeech-other/LibriSpeech/test-other/8461/281231/8461-281231-0001.flac': 'IT WAS ON THEIR JOURNEY TO THAT TOWN THAT THEY WERE OVERTAKEN ON THE ROAD BY CEDRIC AND HIS PARTY IN WHOSE COMPANY THEY WERE AFTERWARDS CARRIED CAPTIVE TO THE CASTLE OF TORQUILSTONE', '/content/librispeech-other/LibriSpeech/test-other/8461/281231/8461-281231-0012.flac': 'THE BLACK KNIGHT WAS SOON ENGAGED IN DESPERATE COMBAT WITH THE NORMAN CHIEF AND THE VAULTED ROOF OF THE HALL RUNG WITH THEIR FURIOUS BLOWS', '/content/librispeech-other/LibriSpeech/test-other/8461/281231/8461-281231-0022.flac': 'AT LENGTH WITH A TERRIFIC CRASH THE WHOLE TURRET GAVE WAY AND SHE PERISHED IN THE FLAMES WHICH HAD CONSUMED HER TYRANT', '/content/librispeech-other/LibriSpeech/test-other/8461/281231/8461-281231-0025.flac': 'DE BRACY BOWED LOW AND IN SILENCE THREW HIMSELF UPON A HORSE AND GALLOPED OFF THROUGH THE WOOD', '/content/librispeech-other/LibriSpeech/test-other/8461/281231/8461-281231-0021.flac': 'BEFORE LONG THE TOWERING FLAMES HAD SURMOUNTED EVERY OBSTRUCTION AND ROSE TO THE EVENING SKIES ONE HUGE AND BURNING BEACON SEEN FAR AND WIDE THROUGH THE ADJACENT COUNTRY TOWER AFTER TOWER CRASHED DOWN WITH BLAZING ROOF AND RAFTER', '/content/librispeech-other/LibriSpeech/test-other/8461/281231/8461-281231-0033.flac': 'HE HAD NOT UNTIL THEN BEEN INFORMED OF THE PRESENCE OF THE JEWISH MAIDEN IN THE ABODE OF THE TEMPLARS AND GREAT WAS HIS FURY AND INDIGNATION ON LEARNING THAT SHE WAS AMONGST THEM', '/content/librispeech-other/LibriSpeech/test-other/8461/281231/8461-281231-0014.flac': 'TELL ME THY NAME OR WORK THY PLEASURE ON ME', '/content/librispeech-other/LibriSpeech/test-other/8461/281231/8461-281231-0024.flac': 'HE LEFT THE GALLANT BAND OF FORESTERS SORROWING DEEPLY FOR HIS LOST FRIEND THE LORD OF CONINGSBURGH AND HE AND HIS FOLLOWERS HAD SCARCE DEPARTED WHEN A PROCESSION MOVED SLOWLY FROM UNDER THE GREENWOOD BRANCHES IN THE DIRECTION WHICH HE HAD TAKEN IN THE CENTRE OF WHICH WAS THE CAR IN WHICH THE BODY OF ATHELSTANE WAS LAID', '/content/librispeech-other/LibriSpeech/test-other/8461/281231/8461-281231-0003.flac': 'WHAT ART THOU HE EXCLAIMED IN TERROR', '/content/librispeech-other/LibriSpeech/test-other/8461/281231/8461-281231-0026.flac': 'HERE IS A BUGLE WHICH AN ENGLISH YEOMAN HAS ONCE WORN I PRAY YOU TO KEEP IT AS A MEMORIAL OF YOUR GALLANT BEARING', '/content/librispeech-other/LibriSpeech/test-other/8461/281231/8461-281231-0013.flac': 'AT LENGTH DE BRACY FELL', '/content/librispeech-other/LibriSpeech/test-other/8461/281231/8461-281231-0007.flac': 'THEY ARE FAST RISING AT LEAST SAID ULRICA AND A SIGNAL SHALL SOON WAVE TO WARN THE BESIEGERS TO PRESS HARD UPON THOSE WHO WOULD EXTINGUISH THEM', '/content/librispeech-other/LibriSpeech/test-other/8461/281231/8461-281231-0011.flac': 'TWO OF THE FOREMOST INSTANTLY FELL AND THE REST GAVE WAY NOTWITHSTANDING ALL THEIR LEADERS EFFORTS TO STOP THEM', '/content/librispeech-other/LibriSpeech/test-other/8461/281231/8461-281231-0000.flac': 'HIS FOLLOWERS RUSHED FORWARD TO WHERE HE LAY AND THEIR UNITED FORCE COMPELLING THE BLACK KNIGHT TO PAUSE THEY DRAGGED THEIR WOUNDED LEADER WITHIN THE WALLS', '/content/librispeech-other/LibriSpeech/test-other/8461/281231/8461-281231-0035.flac': 'THE ASSURANCE THAT SHE POSSESSED SOME FRIEND IN THIS AWFUL ASSEMBLY GAVE HER COURAGE TO LOOK AROUND AND TO MARK INTO WHOSE PRESENCE SHE HAD BEEN CONDUCTED', '/content/librispeech-other/LibriSpeech/test-other/8461/281231/8461-281231-0038.flac': 'THE PRECEPTORS OF WHOM THERE WERE FOUR PRESENT OCCUPIED SEATS BEHIND THEIR SUPERIORS AND BEHIND THEM STOOD THE ESQUIRES OF THE ORDER ROBED IN WHITE', '/content/librispeech-other/LibriSpeech/test-other/8461/281231/8461-281231-0004.flac': 'LEAVE ME AND SEEK THE SAXON WITCH ULRICA WHO WAS MY TEMPTRESS LET HER AS WELL AS I TASTE THE TORTURES WHICH ANTICIPATE HELL', '/content/librispeech-other/LibriSpeech/test-other/8461/281231/8461-281231-0017.flac': 'THE LIFE OF EVERY MAN IN THE CASTLE SHALL ANSWER IT IF A HAIR OF HIS HEAD BE SINGED SHOW ME HIS CHAMBER', '/content/librispeech-other/LibriSpeech/test-other/8461/258277/8461-258277-0002.flac': 'THE KNOCKER REPLIED KAMAR DAUGHTER OF AZARIAH THE JEW SAY ME IS ALI OF CAIRO WITH YOU', '/content/librispeech-other/LibriSpeech/test-other/8461/258277/8461-258277-0011.flac': 'KNOWEST THOU WHITHER HE WENT', '/content/librispeech-other/LibriSpeech/test-other/8461/258277/8461-258277-0015.flac': 'SO ALI RELATED TO HIM ALL THAT HAD PASSED FROM FIRST TO LAST AND THE CALIPH SAID I HAD NOT THOUGHT THOU WOULDST KILL HIM FOR THAT HE WAS A SORCERER', '/content/librispeech-other/LibriSpeech/test-other/8461/258277/8461-258277-0006.flac': 'NOW THE CAUSE OF HER SLAYING HER SIRE WAS AS FOLLOWS', '/content/librispeech-other/LibriSpeech/test-other/8461/258277/8461-258277-0010.flac': 'SO HE TOLD HIM WHAT HAD BEFALLEN HIM AND ADDED IF I KNOW WHITHER THE RASCAL IS GONE AND WHERE TO FIND THE KNAVE I WOULD PAY HIM OUT', '/content/librispeech-other/LibriSpeech/test-other/8461/258277/8461-258277-0003.flac': \"REPLIED THE BROKER'S DAUGHTER O THOU DAUGHTER OF A DOG\", '/content/librispeech-other/LibriSpeech/test-other/8461/258277/8461-258277-0012.flac': 'ANSWERED HASAN I KNOW WHERE HE IS AND OPENING THE DOOR OF THE CLOSET SHOWED HIM THE SWEETMEAT SELLER WITHIN DRUGGED AND SENSELESS', '/content/librispeech-other/LibriSpeech/test-other/8461/258277/8461-258277-0016.flac': 'HE REPLIED I HAVE FORTY LADS BUT THEY ARE IN CAIRO', '/content/librispeech-other/LibriSpeech/test-other/8461/258277/8461-258277-0009.flac': 'PRESENTLY HASAN SHUMAN CAME OUT OF A CLOSET AND SAID TO HIM HAST THOU GOTTEN THE GEAR O ALI', '/content/librispeech-other/LibriSpeech/test-other/8461/258277/8461-258277-0000.flac': 'WHEN IT WAS THE SEVEN HUNDRED AND EIGHTEENTH NIGHT', '/content/librispeech-other/LibriSpeech/test-other/8461/258277/8461-258277-0014.flac': 'QUOTH AL RASHID WHOSE HEAD IS THIS', '/content/librispeech-other/LibriSpeech/test-other/8461/258277/8461-258277-0008.flac': 'SO HE ATE AND FELL DOWN SENSELESS FOR THE SWEETMEATS WERE DRUGGED WITH BHANG WHEREUPON THE KAZI BUNDLED HIM INTO THE SACK AND MADE OFF WITH HIM CHARGER AND CHEST AND ALL TO THE BARRACK OF THE FORTY', '/content/librispeech-other/LibriSpeech/test-other/8461/258277/8461-258277-0004.flac': 'AND HAVING THUS ISLAMISED SHE ASKED HIM DO MEN IN THE FAITH OF AL ISLAM GIVE MARRIAGE PORTIONS TO WOMEN OR DO WOMEN DOWER MEN', '/content/librispeech-other/LibriSpeech/test-other/8461/258277/8461-258277-0007.flac': 'THEN HE SET OUT REJOICING TO RETURN TO THE BARRACK OF THE FORTY', '/content/librispeech-other/LibriSpeech/test-other/8461/258277/8461-258277-0013.flac': 'SO I WENT ROUND ABOUT THE HIGHWAYS OF THE CITY TILL I MET A SWEETMEAT SELLER AND BUYING HIS CLOTHES AND STOCK IN TRADE AND GEAR FOR TEN DINARS DID WHAT WAS DONE', '/content/librispeech-other/LibriSpeech/test-other/8461/258277/8461-258277-0001.flac': 'BUT HE ANSWERED NEEDS MUST I HAVE ZAYNAB ALSO NOW SUDDENLY THERE CAME A RAP AT THE DOOR AND THE MAID SAID WHO IS AT THE DOOR', '/content/librispeech-other/LibriSpeech/test-other/8461/258277/8461-258277-0005.flac': \"AND SHE THREW DOWN THE JEW'S HEAD BEFORE HIM\", '/content/librispeech-other/LibriSpeech/test-other/3528/168656/3528-168656-0003.flac': 'AND THE SCHOOL GIRLS WOULD BEGIN TO LAUGH NOT IN THEIR SLEEVES BUT UNDER THEIR VEILS CHARMING LITTLE STIFLED LAUGHS WHICH MADE THE VOCAL MOTHERS FROWN', '/content/librispeech-other/LibriSpeech/test-other/3528/168656/3528-168656-0011.flac': 'HE IS RESISTING FLUTTERING HIS TINY WINGS AND STILL MAKING AN EFFORT TO FLY BUT THE DANCER IS LAUGHING WITH A SATANICAL AIR', '/content/librispeech-other/LibriSpeech/test-other/3528/168656/3528-168656-0007.flac': 'THUS IT FURNISHED A SUBJECT OF COMMENT FOR ALL THOSE WHO WERE UNOCCUPIED OR BORED IN THE CONVENT', '/content/librispeech-other/LibriSpeech/test-other/3528/168656/3528-168656-0009.flac': 'THEY LOST THEMSELVES IN CONJECTURES', '/content/librispeech-other/LibriSpeech/test-other/3528/168656/3528-168656-0010.flac': 'WHEN THE POOR OLD WOMAN DIED THEY RUSHED TO HER CUPBOARD MORE HASTILY THAN WAS FITTING PERHAPS AND OPENED IT', '/content/librispeech-other/LibriSpeech/test-other/3528/168656/3528-168656-0004.flac': 'IT WAS A CENTURY WHICH SPOKE THROUGH HER BUT IT WAS THE EIGHTEENTH CENTURY', '/content/librispeech-other/LibriSpeech/test-other/3528/168656/3528-168656-0001.flac': 'IT WAS HER PLEASURE AND HER VANITY TO DRAG IN THESE NAMES ON EVERY PRETEXT', '/content/librispeech-other/LibriSpeech/test-other/3528/168656/3528-168656-0002.flac': 'EVERY YEAR SHE SOLEMNLY RENEWED HER VOWS AND AT THE MOMENT OF TAKING THE OATH SHE SAID TO THE PRIEST MONSEIGNEUR SAINT FRANCOIS GAVE IT TO MONSEIGNEUR SAINT JULIEN MONSEIGNEUR SAINT JULIEN GAVE IT TO MONSEIGNEUR SAINT EUSEBIUS MONSEIGNEUR SAINT EUSEBIUS GAVE IT TO MONSEIGNEUR SAINT PROCOPIUS ET CETERA ET CETERA', '/content/librispeech-other/LibriSpeech/test-other/3528/168656/3528-168656-0000.flac': 'SHE HAD EVEN BEEN IN SOCIETY BEFORE THE REVOLUTION', '/content/librispeech-other/LibriSpeech/test-other/3528/168656/3528-168656-0012.flac': 'MORAL LOVE CONQUERED BY THE COLIC', '/content/librispeech-other/LibriSpeech/test-other/3528/168656/3528-168656-0008.flac': 'SOME UNIQUE CHAPLET SOME AUTHENTIC RELIC', '/content/librispeech-other/LibriSpeech/test-other/3528/168656/3528-168656-0005.flac': 'THE RULE OF FONTEVRAULT DID NOT FORBID THIS', '/content/librispeech-other/LibriSpeech/test-other/3528/168656/3528-168656-0006.flac': 'SHE WOULD NOT SHOW THIS OBJECT TO ANYONE', '/content/librispeech-other/LibriSpeech/test-other/3528/168669/3528-168669-0089.flac': 'AND THEN RELIGION IS ATTACKED WHY', '/content/librispeech-other/LibriSpeech/test-other/3528/168669/3528-168669-0071.flac': 'OH I AM A STONE IN YOUR WALLS', '/content/librispeech-other/LibriSpeech/test-other/3528/168669/3528-168669-0078.flac': 'MARTIN THE ELEVENTH GENERAL OF THE CARTHUSIANS GAVE TO HIS ORDER THIS DEVICE STAT CRUX DUM VOLVITUR ORBIS', '/content/librispeech-other/LibriSpeech/test-other/3528/168669/3528-168669-0099.flac': 'YOU WILL CLOSE THE COFFIN THE SISTERS WILL CARRY IT TO THE CHAPEL', '/content/librispeech-other/LibriSpeech/test-other/3528/168669/3528-168669-0103.flac': 'A PAUSE ENSUED', '/content/librispeech-other/LibriSpeech/test-other/3528/168669/3528-168669-0116.flac': 'EVERYTHING MUST HAVE BEEN COMPLETED A GOOD QUARTER OF AN HOUR BEFORE THAT', '/content/librispeech-other/LibriSpeech/test-other/3528/168669/3528-168669-0056.flac': 'FOR THAT MATTER NO REVEREND MOTHER', '/content/librispeech-other/LibriSpeech/test-other/3528/168669/3528-168669-0076.flac': 'CHONODEMAIRE ONE OF THE SEVEN GERMAN KINGS WHO ENTERED AMONG THE GAULS UNDER THE EMPIRE OF CONSTANTIUS EXPRESSLY RECOGNIZED THE RIGHT OF NUNS TO BE BURIED IN RELIGION THAT IS TO SAY BENEATH THE ALTAR', '/content/librispeech-other/LibriSpeech/test-other/3528/168669/3528-168669-0112.flac': 'REVEREND MOTHER WHAT', '/content/librispeech-other/LibriSpeech/test-other/3528/168669/3528-168669-0121.flac': 'AFTER WHICH THERE WILL BE NO TRACE OF ANYTHING', '/content/librispeech-other/LibriSpeech/test-other/3528/168669/3528-168669-0024.flac': 'FATHER FAUVENT REVEREND MOTHER', '/content/librispeech-other/LibriSpeech/test-other/3528/168669/3528-168669-0052.flac': 'SHE CONTINUED FATHER FAUVENT', '/content/librispeech-other/LibriSpeech/test-other/3528/168669/3528-168669-0093.flac': 'THE MOST FEROCIOUS BEASTS ARE BEASTS WHICH ARE BLIND', '/content/librispeech-other/LibriSpeech/test-other/3528/168669/3528-168669-0083.flac': 'ON ONE SIDE SAINT BERNARD ON THE OTHER THE AGENT OF THE SANITARY DEPARTMENT', '/content/librispeech-other/LibriSpeech/test-other/3528/168669/3528-168669-0021.flac': 'AND TO HOLD YOUR PEACE ABOUT EVERYTHING YES REVEREND MOTHER', '/content/librispeech-other/LibriSpeech/test-other/3528/168669/3528-168669-0091.flac': 'THEY PERSECUTE THE SAINTS', '/content/librispeech-other/LibriSpeech/test-other/3528/168669/3528-168669-0005.flac': 'THERE IS A STONE TO BE RAISED HEAVY', '/content/librispeech-other/LibriSpeech/test-other/3528/168669/3528-168669-0105.flac': 'HAS THE DOCTOR FOR THE DEAD PAID HIS VISIT', '/content/librispeech-other/LibriSpeech/test-other/3528/168669/3528-168669-0016.flac': 'THAT IS GOOD REVEREND MOTHER I WILL OPEN THE VAULT', '/content/librispeech-other/LibriSpeech/test-other/3528/168669/3528-168669-0129.flac': 'I WILL PUT EARTH IN THE COFFIN REVEREND MOTHER THAT WILL PRODUCE THE EFFECT OF A CORPSE', '/content/librispeech-other/LibriSpeech/test-other/3528/168669/3528-168669-0125.flac': 'IT WILL BE GIVEN TO THE EARTH EMPTY', '/content/librispeech-other/LibriSpeech/test-other/3528/168669/3528-168669-0117.flac': 'I WILL DO ANYTHING TO PROVE MY ZEAL TOWARDS THE COMMUNITY THESE ARE MY ORDERS I AM TO NAIL UP THE COFFIN', '/content/librispeech-other/LibriSpeech/test-other/3528/168669/3528-168669-0124.flac': 'WHAT IS TO BE DONE WITH THAT COFFIN FATHER FAUVENT', '/content/librispeech-other/LibriSpeech/test-other/3528/168669/3528-168669-0030.flac': 'THREE YEARS AGO MADAME DE BETHUNE A JANSENIST TURNED ORTHODOX MERELY FROM HAVING SEEN MOTHER CRUCIFIXION AT PRAYER AH', '/content/librispeech-other/LibriSpeech/test-other/3528/168669/3528-168669-0126.flac': 'AH THE DE EXCLAIMED FAUCHELEVENT', '/content/librispeech-other/LibriSpeech/test-other/3528/168669/3528-168669-0085.flac': 'NO ONE DOUBTS THE RIGHT OF THE MONASTERY TO SEPULTURE', '/content/librispeech-other/LibriSpeech/test-other/3528/168669/3528-168669-0092.flac': 'THEY SHUT THEIR EYES TO THE TRUTH DARKNESS IS THE RULE', '/content/librispeech-other/LibriSpeech/test-other/3528/168669/3528-168669-0008.flac': 'IT WOULD BE A GOOD THING TO HAVE TWO MEN FOR IT', '/content/librispeech-other/LibriSpeech/test-other/3528/168669/3528-168669-0046.flac': 'IF YOU HAD A LITTLE MORE FAITH AND IF YOU COULD HAVE BEEN IN HER CELL SHE WOULD HAVE CURED YOUR LEG MERELY BY TOUCHING IT SHE SMILED', '/content/librispeech-other/LibriSpeech/test-other/3528/168669/3528-168669-0002.flac': 'FATHER FAUVENT', '/content/librispeech-other/LibriSpeech/test-other/3528/168669/3528-168669-0074.flac': 'BUT REVEREND MOTHER IF THE AGENT OF THE SANITARY COMMISSION', '/content/librispeech-other/LibriSpeech/test-other/3528/168669/3528-168669-0128.flac': 'HE MADE HASTE TO IMPROVISE AN EXPEDIENT TO MAKE HER FORGET THE OATH', '/content/librispeech-other/LibriSpeech/test-other/3528/168669/3528-168669-0013.flac': 'AND CAN YOU GET A LEVER', '/content/librispeech-other/LibriSpeech/test-other/3528/168669/3528-168669-0011.flac': \"MERIT CONSISTS IN WORKING ACCORDING TO ONE'S STRENGTH A CLOISTER IS NOT A DOCK YARD\", '/content/librispeech-other/LibriSpeech/test-other/3528/168669/3528-168669-0000.flac': 'THE PRIORESS RETURNED AND SEATED HERSELF ONCE MORE ON HER CHAIR', '/content/librispeech-other/LibriSpeech/test-other/3528/168669/3528-168669-0069.flac': 'SHE ASKED IT OF US THAT IS TO SAY COMMANDED US', '/content/librispeech-other/LibriSpeech/test-other/3528/168669/3528-168669-0026.flac': 'NO DID YOU NOT HEAR THE BELL', '/content/librispeech-other/LibriSpeech/test-other/3528/168669/3528-168669-0064.flac': 'FAUCHELEVENT STARTED THE VAULT UNDER THE ALTAR', '/content/librispeech-other/LibriSpeech/test-other/3528/168669/3528-168669-0120.flac': 'HOWEVER NEVER MIND I SHALL HAVE MY LEVER', '/content/librispeech-other/LibriSpeech/test-other/3528/168669/3528-168669-0082.flac': 'HIS ORDER HAS PRODUCED FORTY POPES TWO HUNDRED CARDINALS FIFTY PATRIARCHS SIXTEEN HUNDRED ARCHBISHOPS FOUR THOUSAND SIX HUNDRED BISHOPS FOUR EMPERORS TWELVE EMPRESSES FORTY SIX KINGS FORTY ONE QUEENS THREE THOUSAND SIX HUNDRED CANONIZED SAINTS AND HAS BEEN IN EXISTENCE FOR FOURTEEN HUNDRED YEARS', '/content/librispeech-other/LibriSpeech/test-other/3528/168669/3528-168669-0072.flac': 'THINK FATHER FAUVENT IF SHE WERE TO WORK MIRACLES HERE', '/content/librispeech-other/LibriSpeech/test-other/3528/168669/3528-168669-0096.flac': 'ONE NO LONGER KNOWS WHAT IS DUE TO THE LIVING OR TO THE DEAD A HOLY DEATH IS PROHIBITED', '/content/librispeech-other/LibriSpeech/test-other/3528/168669/3528-168669-0058.flac': 'IT IS A CONTINUATION OF HER SLUMBER', '/content/librispeech-other/LibriSpeech/test-other/3528/168669/3528-168669-0044.flac': 'SHE RETAINED HER CONSCIOUSNESS TO THE VERY LAST MOMENT', '/content/librispeech-other/LibriSpeech/test-other/3528/168669/3528-168669-0043.flac': 'FATHER FAUVENT THE COMMUNITY HAS BEEN BLESSED IN MOTHER CRUCIFIXION', '/content/librispeech-other/LibriSpeech/test-other/3528/168669/3528-168669-0055.flac': 'THE DEAD MUST BE OBEYED SO BE IT', '/content/librispeech-other/LibriSpeech/test-other/3528/168669/3528-168669-0073.flac': 'WHAT A GLORY OF GOD FOR THE COMMUNITY AND MIRACLES ISSUE FROM TOMBS', '/content/librispeech-other/LibriSpeech/test-other/3528/168669/3528-168669-0053.flac': 'YES REVEREND MOTHER', '/content/librispeech-other/LibriSpeech/test-other/3528/168669/3528-168669-0039.flac': \"AT NINE O'CLOCK IN THE MORNING AND AT ALL HOURS PRAISED AND ADORED BE THE MOST HOLY SACRAMENT OF THE ALTAR SAID THE PRIORESS\", '/content/librispeech-other/LibriSpeech/test-other/3528/168669/3528-168669-0068.flac': 'THE DEAD MUST BE OBEYED TO BE BURIED IN THE VAULT UNDER THE ALTAR OF THE CHAPEL NOT TO GO TO PROFANE EARTH TO REMAIN THERE IN DEATH WHERE SHE PRAYED WHILE LIVING SUCH WAS THE LAST WISH OF MOTHER CRUCIFIXION', '/content/librispeech-other/LibriSpeech/test-other/3528/168669/3528-168669-0049.flac': 'FAUCHELEVENT HELD HIS PEACE SHE WENT ON', '/content/librispeech-other/LibriSpeech/test-other/3528/168669/3528-168669-0102.flac': 'BESIDES WHAT THE CLOISTER KNOWS THE WORLD LEARNS NOT', '/content/librispeech-other/LibriSpeech/test-other/3528/168669/3528-168669-0062.flac': 'NO IN LOWERING THE COFFIN', '/content/librispeech-other/LibriSpeech/test-other/3528/168669/3528-168669-0090.flac': 'BECAUSE THERE HAVE BEEN BAD PRIESTS BECAUSE SAGITTAIRE BISHOP OF GAP WAS THE BROTHER OF SALONE BISHOP OF EMBRUN AND BECAUSE BOTH OF THEM FOLLOWED MOMMOL', '/content/librispeech-other/LibriSpeech/test-other/3528/168669/3528-168669-0098.flac': 'THE PRIORESS TOOK BREATH THEN TURNED TO FAUCHELEVENT', '/content/librispeech-other/LibriSpeech/test-other/3528/168669/3528-168669-0045.flac': 'SHE GAVE US HER LAST COMMANDS', '/content/librispeech-other/LibriSpeech/test-other/3528/168669/3528-168669-0097.flac': 'GAUTHIER BISHOP OF CHALONS HELD HIS OWN IN THIS MATTER AGAINST OTHO DUKE OF BURGUNDY', '/content/librispeech-other/LibriSpeech/test-other/3528/168669/3528-168669-0070.flac': 'BUT IT IS FORBIDDEN', '/content/librispeech-other/LibriSpeech/test-other/3528/168669/3528-168669-0130.flac': 'I WILL MAKE THAT MY SPECIAL BUSINESS', '/content/librispeech-other/LibriSpeech/test-other/3528/168669/3528-168669-0057.flac': 'FATHER FAUVENT MOTHER CRUCIFIXION WILL BE INTERRED IN THE COFFIN IN WHICH SHE HAS SLEPT FOR THE LAST TWENTY YEARS THAT IS JUST', '/content/librispeech-other/LibriSpeech/test-other/3528/168669/3528-168669-0027.flac': 'NOTHING CAN BE HEARD AT THE BOTTOM OF THE GARDEN REALLY', '/content/librispeech-other/LibriSpeech/test-other/3528/168669/3528-168669-0047.flac': 'THERE WAS SOMETHING OF PARADISE IN THAT DEATH', '/content/librispeech-other/LibriSpeech/test-other/3528/168669/3528-168669-0080.flac': 'I HAVE ON MY RIGHT BENOIT AND ON MY LEFT BERNARD WHO WAS BERNARD', '/content/librispeech-other/LibriSpeech/test-other/3528/168669/3528-168669-0025.flac': 'YOU KNOW THAT A MOTHER DIED THIS MORNING', '/content/librispeech-other/LibriSpeech/test-other/3528/168669/3528-168669-0037.flac': 'BUT I DID NOT SAY MORE OFTEN', '/content/librispeech-other/LibriSpeech/test-other/3528/168669/3528-168669-0054.flac': 'SAINT TERENTIUS BISHOP OF PORT WHERE THE MOUTH OF THE TIBER EMPTIES INTO THE SEA REQUESTED THAT ON HIS TOMB MIGHT BE ENGRAVED THE SIGN WHICH WAS PLACED ON THE GRAVES OF PARRICIDES IN THE HOPE THAT PASSERS BY WOULD SPIT ON HIS TOMB THIS WAS DONE', '/content/librispeech-other/LibriSpeech/test-other/3528/168669/3528-168669-0051.flac': 'FORTUNATELY THE PRIORESS COMPLETELY ABSORBED IN HER OWN THOUGHTS DID NOT HEAR IT', '/content/librispeech-other/LibriSpeech/test-other/3528/168669/3528-168669-0107.flac': 'THE PEAL WHICH ORDERS THE DOCTOR FOR THE DEAD TO BE SUMMONED HAS ALREADY BEEN RUNG', '/content/librispeech-other/LibriSpeech/test-other/3528/168669/3528-168669-0113.flac': 'IF YOU WERE EVER TO HAVE ANY OTHER JOBS OF THIS SORT MY BROTHER IS THE STRONG MAN FOR YOU A PERFECT TURK', '/content/librispeech-other/LibriSpeech/test-other/3528/168669/3528-168669-0119.flac': 'MOTHER ASCENSION WILL BE THERE TWO MEN WOULD BE BETTER', '/content/librispeech-other/LibriSpeech/test-other/3528/168669/3528-168669-0038.flac': \"AT THAT MOMENT NINE O'CLOCK STRUCK\", '/content/librispeech-other/LibriSpeech/test-other/3528/168669/3528-168669-0040.flac': 'IT CUT MORE OFTEN SHORT', '/content/librispeech-other/LibriSpeech/test-other/3528/168669/3528-168669-0104.flac': 'YOU WILL REMOVE YOUR BELL', '/content/librispeech-other/LibriSpeech/test-other/3528/168669/3528-168669-0022.flac': 'WHEN THE VAULT IS OPEN I WILL CLOSE IT AGAIN', '/content/librispeech-other/LibriSpeech/test-other/3528/168669/3528-168669-0127.flac': 'THE VIL STUCK FAST IN HIS THROAT', '/content/librispeech-other/LibriSpeech/test-other/3528/168669/3528-168669-0086.flac': 'ONLY FANATICS AND THOSE IN ERROR DENY IT', '/content/librispeech-other/LibriSpeech/test-other/3528/168669/3528-168669-0035.flac': 'I SAY MORE OFTEN MORE OFTEN THAN WHAT', '/content/librispeech-other/LibriSpeech/test-other/3528/168669/3528-168669-0031.flac': 'THE MOTHERS HAVE TAKEN HER TO THE DEAD ROOM WHICH OPENS ON THE CHURCH I KNOW', '/content/librispeech-other/LibriSpeech/test-other/3528/168669/3528-168669-0032.flac': 'A FINE SIGHT IT WOULD BE TO SEE A MAN ENTER THE DEAD ROOM MORE OFTEN', '/content/librispeech-other/LibriSpeech/test-other/3528/168669/3528-168669-0087.flac': 'WE LIVE IN TIMES OF TERRIBLE CONFUSION', '/content/librispeech-other/LibriSpeech/test-other/3528/168669/3528-168669-0100.flac': 'THE OFFICE FOR THE DEAD WILL THEN BE SAID', '/content/librispeech-other/LibriSpeech/test-other/3528/168669/3528-168669-0123.flac': 'THE EMPTY COFFIN REMAINS THIS PRODUCED A PAUSE', '/content/librispeech-other/LibriSpeech/test-other/3528/168669/3528-168669-0094.flac': 'OH HOW WICKED PEOPLE ARE', '/content/librispeech-other/LibriSpeech/test-other/3528/168669/3528-168669-0015.flac': 'I WILL PUT THE LEVER THROUGH IT', '/content/librispeech-other/LibriSpeech/test-other/3528/168669/3528-168669-0106.flac': \"HE WILL PAY IT AT FOUR O'CLOCK TO DAY\", '/content/librispeech-other/LibriSpeech/test-other/3528/168669/3528-168669-0041.flac': 'FAUCHELEVENT MOPPED HIS FOREHEAD', '/content/librispeech-other/LibriSpeech/test-other/3528/168669/3528-168669-0060.flac': 'I AM AT THE ORDERS OF THE VERY REVEREND COMMUNITY', '/content/librispeech-other/LibriSpeech/test-other/3528/168669/3528-168669-0122.flac': 'THE GOVERNMENT WILL HAVE NO SUSPICION', '/content/librispeech-other/LibriSpeech/test-other/3528/168669/3528-168669-0012.flac': 'AND A WOMAN IS NOT A MAN BUT MY BROTHER IS THE STRONG ONE THOUGH', '/content/librispeech-other/LibriSpeech/test-other/3528/168669/3528-168669-0111.flac': 'I HAVE MY HEAP OF OLD IRON AT THE BOTTOM OF THE GARDEN', '/content/librispeech-other/LibriSpeech/test-other/3528/168669/3528-168669-0033.flac': 'HEY MORE OFTEN', '/content/librispeech-other/LibriSpeech/test-other/3528/168669/3528-168669-0009.flac': 'A WOMAN IS NEVER A MAN', '/content/librispeech-other/LibriSpeech/test-other/3528/168669/3528-168669-0115.flac': 'I CANNOT WORK VERY FAST I AM INFIRM THAT IS WHY I REQUIRE AN ASSISTANT I LIMP', '/content/librispeech-other/LibriSpeech/test-other/3528/168669/3528-168669-0108.flac': 'BUT YOU DO NOT UNDERSTAND ANY OF THE PEALS', '/content/librispeech-other/LibriSpeech/test-other/3528/168669/3528-168669-0034.flac': 'WHAT DO YOU SAY', '/content/librispeech-other/LibriSpeech/test-other/3528/168669/3528-168669-0042.flac': 'IN HER LIFETIME MOTHER CRUCIFIXION MADE CONVERTS AFTER HER DEATH SHE WILL PERFORM MIRACLES SHE WILL', '/content/librispeech-other/LibriSpeech/test-other/3528/168669/3528-168669-0075.flac': 'BUT THE COMMISSARY OF POLICE', '/content/librispeech-other/LibriSpeech/test-other/3528/168669/3528-168669-0006.flac': 'THE SLAB OF THE PAVEMENT WHICH IS AT THE SIDE OF THE ALTAR', '/content/librispeech-other/LibriSpeech/test-other/3528/168669/3528-168669-0066.flac': 'YOU WILL HAVE AN IRON BAR YES BUT', '/content/librispeech-other/LibriSpeech/test-other/3528/168669/3528-168669-0018.flac': 'GIVE ME YOUR ORDERS VERY REVEREND MOTHER', '/content/librispeech-other/LibriSpeech/test-other/3528/168669/3528-168669-0110.flac': 'WHERE WILL YOU OBTAIN IT', '/content/librispeech-other/LibriSpeech/test-other/3528/168669/3528-168669-0001.flac': 'WE WILL PRESENT A STENOGRAPHIC REPORT OF THE DIALOGUE WHICH THEN ENSUED TO THE BEST OF OUR ABILITY', '/content/librispeech-other/LibriSpeech/test-other/3528/168669/3528-168669-0079.flac': 'THE PRIORESS WHO WAS USUALLY SUBJECTED TO THE BARRIER OF SILENCE AND WHOSE RESERVOIR WAS OVERFULL ROSE AND EXCLAIMED WITH THE LOQUACITY OF A DAM WHICH HAS BROKEN AWAY', '/content/librispeech-other/LibriSpeech/test-other/3528/168669/3528-168669-0048.flac': 'FAUCHELEVENT THOUGHT THAT IT WAS AN ORISON WHICH SHE WAS FINISHING', '/content/librispeech-other/LibriSpeech/test-other/3528/168669/3528-168669-0101.flac': 'BUT SHE WILL HEAR SHE WILL NOT LISTEN', '/content/librispeech-other/LibriSpeech/test-other/3528/168669/3528-168669-0023.flac': 'BUT BEFORE THAT WHAT REVEREND MOTHER', '/content/librispeech-other/LibriSpeech/test-other/3528/168669/3528-168669-0084.flac': 'GOD SUBORDINATED TO THE COMMISSARY OF POLICE SUCH IS THE AGE SILENCE FAUVENT', '/content/librispeech-other/LibriSpeech/test-other/3528/168669/3528-168669-0020.flac': 'I AM HERE TO DO ANYTHING YOU WISH', '/content/librispeech-other/LibriSpeech/test-other/3528/168669/3528-168669-0010.flac': 'BECAUSE DOM MABILLON GIVES FOUR HUNDRED AND SEVENTEEN EPISTLES OF SAINT BERNARD WHILE MERLONUS HORSTIUS ONLY GIVES THREE HUNDRED AND SIXTY SEVEN I DO NOT DESPISE MERLONUS HORSTIUS NEITHER DO I', '/content/librispeech-other/LibriSpeech/test-other/3528/168669/3528-168669-0059.flac': 'SO I SHALL HAVE TO NAIL UP THAT COFFIN YES', '/content/librispeech-other/LibriSpeech/test-other/3528/168669/3528-168669-0036.flac': 'REVEREND MOTHER I DID NOT SAY MORE OFTEN THAN WHAT I SAID MORE OFTEN', '/content/librispeech-other/LibriSpeech/test-other/3528/168669/3528-168669-0017.flac': 'WILL THAT BE ALL NO', '/content/librispeech-other/LibriSpeech/test-other/3528/168669/3528-168669-0067.flac': 'YOU WILL RAISE THE STONE WITH THE BAR BY MEANS OF THE RING BUT', '/content/librispeech-other/LibriSpeech/test-other/3528/168669/3528-168669-0065.flac': 'UNDER THE ALTAR BUT', '/content/librispeech-other/LibriSpeech/test-other/3528/168669/3528-168669-0050.flac': 'I HAVE CONSULTED UPON THIS POINT MANY ECCLESIASTICS LABORING IN OUR LORD WHO OCCUPY THEMSELVES IN THE EXERCISES OF THE CLERICAL LIFE AND WHO BEAR WONDERFUL FRUIT', '/content/librispeech-other/LibriSpeech/test-other/3528/168669/3528-168669-0063.flac': 'WHERE INTO THE VAULT', '/content/librispeech-other/LibriSpeech/test-other/3528/168669/3528-168669-0118.flac': \"AT ELEVEN O'CLOCK EXACTLY I AM TO BE IN THE CHAPEL\", '/content/librispeech-other/LibriSpeech/test-other/3528/168669/3528-168669-0095.flac': 'BY ORDER OF THE KING SIGNIFIES TO DAY BY ORDER OF THE REVOLUTION', '/content/librispeech-other/LibriSpeech/test-other/3528/168669/3528-168669-0028.flac': 'AND THEN THE WIND IS NOT BLOWING IN MY DIRECTION THIS MORNING', '/content/librispeech-other/LibriSpeech/test-other/3528/168669/3528-168669-0061.flac': 'THE FOUR MOTHER PRECENTORS WILL ASSIST YOU', '/content/librispeech-other/LibriSpeech/test-other/3528/168669/3528-168669-0088.flac': 'WE ARE IGNORANT AND IMPIOUS', '/content/librispeech-other/LibriSpeech/test-other/3528/168669/3528-168669-0109.flac': 'THAT IS WELL FATHER FAUVENT', '/content/librispeech-other/LibriSpeech/test-other/3528/168669/3528-168669-0029.flac': 'IT WAS MOTHER CRUCIFIXION', '/content/librispeech-other/LibriSpeech/test-other/3528/168669/3528-168669-0019.flac': 'FAUVENT WE HAVE CONFIDENCE IN YOU', '/content/librispeech-other/LibriSpeech/test-other/3528/168669/3528-168669-0081.flac': 'THE FIRST ABBOT OF CLAIRVAUX', '/content/librispeech-other/LibriSpeech/test-other/3528/168669/3528-168669-0007.flac': 'THE SLAB WHICH CLOSES THE VAULT YES', '/content/librispeech-other/LibriSpeech/test-other/3528/168669/3528-168669-0077.flac': 'THE WORLD IS NOTHING IN THE PRESENCE OF THE CROSS', '/content/librispeech-other/LibriSpeech/test-other/3528/168669/3528-168669-0004.flac': 'AND YOU HAVE BEEN IN THE CHOIR IN PURSUANCE OF YOUR DUTIES TWO OR THREE TIMES', '/content/librispeech-other/LibriSpeech/test-other/3528/168669/3528-168669-0014.flac': 'THERE IS A RING IN THE STONE', '/content/librispeech-other/LibriSpeech/test-other/3528/168669/3528-168669-0003.flac': 'REVEREND MOTHER DO YOU KNOW THE CHAPEL', '/content/librispeech-other/LibriSpeech/test-other/3528/168669/3528-168669-0114.flac': 'YOU WILL DO IT AS SPEEDILY AS POSSIBLE', '/content/librispeech-other/LibriSpeech/test-other/4198/12259/4198-12259-0040.flac': 'MY PRENTICESHIP IS OUT I AM A FREE MAN AT THIS TRADE', '/content/librispeech-other/LibriSpeech/test-other/4198/12259/4198-12259-0004.flac': \"BY THE BELLY OF SANCT BUFF LET US TALK OF OUR DRINK I NEVER DRINK BUT AT MY HOURS LIKE THE POPE'S MULE\", '/content/librispeech-other/LibriSpeech/test-other/4198/12259/4198-12259-0043.flac': 'CLEAR OFF NEAT SUPERNACULUM', '/content/librispeech-other/LibriSpeech/test-other/4198/12259/4198-12259-0022.flac': 'A LITTLE RAIN ALLAYS A GREAT DEAL OF WIND LONG TIPPLING BREAKS THE THUNDER', '/content/librispeech-other/LibriSpeech/test-other/4198/12259/4198-12259-0034.flac': 'APPETITE COMES WITH EATING SAYS ANGESTON BUT THE THIRST GOES AWAY WITH DRINKING', '/content/librispeech-other/LibriSpeech/test-other/4198/12259/4198-12259-0014.flac': 'WELL CACKED WELL SUNG', '/content/librispeech-other/LibriSpeech/test-other/4198/12259/4198-12259-0025.flac': 'I APPEAL FROM THIRST AND DISCLAIM ITS JURISDICTION', '/content/librispeech-other/LibriSpeech/test-other/4198/12259/4198-12259-0017.flac': 'I DRINK LIKE A TEMPLAR KNIGHT', '/content/librispeech-other/LibriSpeech/test-other/4198/12259/4198-12259-0010.flac': 'IT IS ENOUGH TO BREAK BOTH GIRDS AND PETREL', '/content/librispeech-other/LibriSpeech/test-other/4198/12259/4198-12259-0039.flac': 'THERE IS NO ENCHANTMENT NOR CHARM THERE EVERY ONE OF YOU HATH SEEN IT', '/content/librispeech-other/LibriSpeech/test-other/4198/12259/4198-12259-0035.flac': 'I HAVE A REMEDY AGAINST THIRST QUITE CONTRARY TO THAT WHICH IS GOOD AGAINST THE BITING OF A MAD DOG', '/content/librispeech-other/LibriSpeech/test-other/4198/12259/4198-12259-0005.flac': 'WHICH WAS FIRST THIRST OR DRINKING', '/content/librispeech-other/LibriSpeech/test-other/4198/12259/4198-12259-0015.flac': 'COME LET US DRINK WILL YOU SEND NOTHING TO THE RIVER', '/content/librispeech-other/LibriSpeech/test-other/4198/12259/4198-12259-0023.flac': 'BUT IF THERE CAME SUCH LIQUOR FROM MY BALLOCK WOULD YOU NOT WILLINGLY THEREAFTER SUCK THE UDDER WHENCE IT ISSUED', '/content/librispeech-other/LibriSpeech/test-other/4198/12259/4198-12259-0016.flac': 'I DRINK NO MORE THAN A SPONGE', '/content/librispeech-other/LibriSpeech/test-other/4198/12259/4198-12259-0038.flac': \"I'FAITH PURE GREEK GREEK O THE FINE WHITE WINE\", '/content/librispeech-other/LibriSpeech/test-other/4198/12259/4198-12259-0037.flac': 'O LACHRYMA CHRISTI IT IS OF THE BEST GRAPE', '/content/librispeech-other/LibriSpeech/test-other/4198/12259/4198-12259-0033.flac': 'THE GREAT GOD MADE THE PLANETS AND WE MAKE THE PLATTERS NEAT', '/content/librispeech-other/LibriSpeech/test-other/4198/12259/4198-12259-0028.flac': \"O FOR GOD'S SAKE LET US LASH THEM SOUNDLY YET THRIFTILY\", '/content/librispeech-other/LibriSpeech/test-other/4198/12259/4198-12259-0041.flac': 'I SHOULD SAY MASTER PAST', '/content/librispeech-other/LibriSpeech/test-other/4198/12259/4198-12259-0000.flac': 'DRAW REACH FILL MIX GIVE IT ME WITHOUT WATER', '/content/librispeech-other/LibriSpeech/test-other/4198/12259/4198-12259-0009.flac': 'HE DRINKS IN VAIN THAT FEELS NOT THE PLEASURE OF IT', '/content/librispeech-other/LibriSpeech/test-other/4198/12259/4198-12259-0012.flac': 'BRAVELY AND WELL PLAYED UPON THE WORDS', '/content/librispeech-other/LibriSpeech/test-other/4198/12259/4198-12259-0042.flac': 'O THE DRINKERS THOSE THAT ARE A DRY O POOR THIRSTY SOULS', '/content/librispeech-other/LibriSpeech/test-other/4198/12259/4198-12259-0031.flac': 'BUT THIS SHALL BANISH IT UTTERLY', '/content/librispeech-other/LibriSpeech/test-other/4198/12259/4198-12259-0026.flac': 'I WAS WONT HERETOFORE TO DRINK OUT ALL BUT NOW I LEAVE NOTHING', '/content/librispeech-other/LibriSpeech/test-other/4198/12259/4198-12259-0027.flac': 'HEYDAY HERE ARE TRIPES FIT FOR OUR SPORT AND IN EARNEST EXCELLENT GODEBILLIOS OF THE DUN OX YOU KNOW WITH THE BLACK STREAK', '/content/librispeech-other/LibriSpeech/test-other/4198/12259/4198-12259-0030.flac': 'HO THIS WILL BANG IT SOUNDLY', '/content/librispeech-other/LibriSpeech/test-other/4198/12259/4198-12259-0020.flac': 'GIVE ME A SYNONYMON FOR A GAMMON OF BACON', '/content/librispeech-other/LibriSpeech/test-other/4198/12259/4198-12259-0018.flac': 'AND I TANQUAM SPONSUS', '/content/librispeech-other/LibriSpeech/test-other/4198/12259/4198-12259-0002.flac': 'A CESSATION AND TRUCE WITH THIRST', '/content/librispeech-other/LibriSpeech/test-other/4198/12259/4198-12259-0024.flac': 'HERE PAGE FILL', '/content/librispeech-other/LibriSpeech/test-other/4198/12259/4198-12259-0001.flac': 'SO MY FRIEND SO WHIP ME OFF THIS GLASS NEATLY BRING ME HITHER SOME CLARET A FULL WEEPING GLASS TILL IT RUN OVER', '/content/librispeech-other/LibriSpeech/test-other/4198/12259/4198-12259-0029.flac': 'SPARROWS WILL NOT EAT UNLESS YOU BOB THEM ON THE TAIL NOR CAN I DRINK IF I BE NOT FAIRLY SPOKE TO', '/content/librispeech-other/LibriSpeech/test-other/4198/12259/4198-12259-0019.flac': 'AND I SICUT TERRA SINE AQUA', '/content/librispeech-other/LibriSpeech/test-other/4198/12259/4198-12259-0021.flac': 'IT IS THE COMPULSORY OF DRINKERS IT IS A PULLEY', '/content/librispeech-other/LibriSpeech/test-other/4198/12259/4198-12259-0013.flac': 'OUR FATHERS DRANK LUSTILY AND EMPTIED THEIR CANS', '/content/librispeech-other/LibriSpeech/test-other/4198/12259/4198-12259-0032.flac': 'LET US WIND OUR HORNS BY THE SOUND OF FLAGONS AND BOTTLES AND CRY ALOUD THAT WHOEVER HATH LOST HIS THIRST COME NOT HITHER TO SEEK IT', '/content/librispeech-other/LibriSpeech/test-other/4198/12259/4198-12259-0036.flac': 'WHITE WINE HERE WINE BOYS', '/content/librispeech-other/LibriSpeech/test-other/4198/12259/4198-12259-0003.flac': 'YOU HAVE CATCHED A COLD GAMMER YEA FORSOOTH SIR', '/content/librispeech-other/LibriSpeech/test-other/4198/12259/4198-12259-0007.flac': 'DRINK ALWAYS AND YOU SHALL NEVER DIE', '/content/librispeech-other/LibriSpeech/test-other/4198/12259/4198-12259-0006.flac': 'WHAT IT SEEMS I DO NOT DRINK BUT BY AN ATTORNEY', '/content/librispeech-other/LibriSpeech/test-other/4198/12259/4198-12259-0008.flac': 'IF I DRINK NOT I AM A GROUND DRY GRAVELLED AND SPENT I AM STARK DEAD WITHOUT DRINK AND MY SOUL READY TO FLY INTO SOME MARSH AMONGST FROGS THE SOUL NEVER DWELLS IN A DRY PLACE DROUTH KILLS IT', '/content/librispeech-other/LibriSpeech/test-other/4198/12259/4198-12259-0011.flac': 'WHAT DIFFERENCE IS THERE BETWEEN A BOTTLE AND A FLAGON', '/content/librispeech-other/LibriSpeech/test-other/4198/12281/4198-12281-0001.flac': 'I BESEECH YOU THINK UPON IT', '/content/librispeech-other/LibriSpeech/test-other/4198/12281/4198-12281-0006.flac': 'LET HIM BE CARRIED TO PRISON FOR TROUBLING THE DIVINE SERVICE', '/content/librispeech-other/LibriSpeech/test-other/4198/12281/4198-12281-0010.flac': 'TO SOME WITH A SMART SOUSE ON THE EPIGASTER HE WOULD MAKE THEIR MIDRIFF SWAG THEN REDOUBLING THE BLOW GAVE THEM SUCH A HOMEPUSH ON THE NAVEL THAT HE MADE THEIR PUDDINGS TO GUSH OUT', '/content/librispeech-other/LibriSpeech/test-other/4198/12281/4198-12281-0004.flac': 'BY THE BELLY OF SANCT JAMES WHAT SHALL WE POOR DEVILS DRINK THE WHILE', '/content/librispeech-other/LibriSpeech/test-other/4198/12281/4198-12281-0015.flac': 'IN THE MEANTIME FRIAR JOHN WITH HIS FORMIDABLE BATON OF THE CROSS GOT TO THE BREACH WHICH THE ENEMIES HAD MADE AND THERE STOOD TO SNATCH UP THOSE THAT ENDEAVOURED TO ESCAPE', '/content/librispeech-other/LibriSpeech/test-other/4198/12281/4198-12281-0014.flac': 'CAN YOU TELL WITH WHAT INSTRUMENTS THEY DID IT', '/content/librispeech-other/LibriSpeech/test-other/4198/12281/4198-12281-0000.flac': 'ALTHOUGH THE PLAGUE WAS THERE IN THE MOST PART OF ALL THE HOUSES THEY NEVERTHELESS ENTERED EVERYWHERE THEN PLUNDERED AND CARRIED AWAY ALL THAT WAS WITHIN AND YET FOR ALL THIS NOT ONE OF THEM TOOK ANY HURT WHICH IS A MOST WONDERFUL CASE', '/content/librispeech-other/LibriSpeech/test-other/4198/12281/4198-12281-0008.flac': \"HARK YOU MY MASTERS YOU THAT LOVE THE WINE COP'S BODY FOLLOW ME FOR SANCT ANTHONY BURN ME AS FREELY AS A FAGGOT IF THEY GET LEAVE TO TASTE ONE DROP OF THE LIQUOR THAT WILL NOT NOW COME AND FIGHT FOR RELIEF OF THE VINE\", '/content/librispeech-other/LibriSpeech/test-other/4198/12281/4198-12281-0002.flac': 'NEVERTHELESS AT ALL ADVENTURES THEY RANG THE BELLS AD CAPITULUM CAPITULANTES', '/content/librispeech-other/LibriSpeech/test-other/4198/12281/4198-12281-0003.flac': 'BY THE VIRTUE OF GOD WHY DO NOT YOU SING PANNIERS FAREWELL VINTAGE IS DONE', '/content/librispeech-other/LibriSpeech/test-other/4198/12281/4198-12281-0009.flac': 'TO OTHERS AGAIN HE UNJOINTED THE SPONDYLES OR KNUCKLES OF THE NECK DISFIGURED THEIR CHAPS GASHED THEIR FACES MADE THEIR CHEEKS HANG FLAPPING ON THEIR CHIN AND SO SWINGED AND BALAMMED THEM THAT THEY FELL DOWN BEFORE HIM LIKE HAY BEFORE A MOWER', '/content/librispeech-other/LibriSpeech/test-other/4198/12281/4198-12281-0012.flac': 'O THE HOLY LADY NYTOUCH SAID ONE THE GOOD SANCTESS O OUR LADY OF SUCCOURS SAID ANOTHER HELP HELP', '/content/librispeech-other/LibriSpeech/test-other/4198/12281/4198-12281-0007.flac': 'WHEREFORE IS IT THAT OUR DEVOTIONS WERE INSTITUTED TO BE SHORT IN THE TIME OF HARVEST AND VINTAGE AND LONG IN THE ADVENT AND ALL THE WINTER', '/content/librispeech-other/LibriSpeech/test-other/4198/12281/4198-12281-0005.flac': 'LORD GOD DA MIHI POTUM', '/content/librispeech-other/LibriSpeech/test-other/4198/12281/4198-12281-0011.flac': 'BELIEVE THAT IT WAS THE MOST HORRIBLE SPECTACLE THAT EVER ONE SAW', '/content/librispeech-other/LibriSpeech/test-other/4198/12281/4198-12281-0013.flac': 'SOME DIED WITHOUT SPEAKING OTHERS SPOKE WITHOUT DYING SOME DIED IN SPEAKING OTHERS SPOKE IN DYING', '/content/librispeech-other/LibriSpeech/test-other/4198/61336/4198-61336-0009.flac': 'FOR THREE YEARS HE CONDUCTED VIGOROUS CAMPAIGNS IN THE WESTERN LAND WHERE HE MET WITH VIGOROUS RESISTANCE', '/content/librispeech-other/LibriSpeech/test-other/4198/61336/4198-61336-0016.flac': 'NO RESISTANCE WAS POSSIBLE ON THE PART OF MENAHEM THE USURPER WHO WAS PROBABLY READY TO WELCOME THE ASSYRIAN CONQUEROR SO THAT BY ARRANGING AN ALLIANCE HE MIGHT SECURE HIS OWN POSITION', '/content/librispeech-other/LibriSpeech/test-other/4198/61336/4198-61336-0006.flac': 'DESPITE THE BLOW DEALT AGAINST URARTU ASSYRIA DID NOT IMMEDIATELY REGAIN POSSESSION OF NORTH SYRIA', '/content/librispeech-other/LibriSpeech/test-other/4198/61336/4198-61336-0004.flac': 'A FIERCE BATTLE ENSUED AND ONE OF ITS DRAMATIC INCIDENTS WAS A SINGLE COMBAT BETWEEN THE RIVAL KINGS', '/content/librispeech-other/LibriSpeech/test-other/4198/61336/4198-61336-0013.flac': 'JEHOASH THE GRANDSON OF JEHU HAD ACHIEVED SUCCESSES IN CONFLICT WITH DAMASCUS', '/content/librispeech-other/LibriSpeech/test-other/4198/61336/4198-61336-0025.flac': 'THE REMNANT OF THE PHILISTINES SHALL PERISH', '/content/librispeech-other/LibriSpeech/test-other/4198/61336/4198-61336-0022.flac': 'JUDAH HAD TAKEN ADVANTAGE OF THE DISTURBED CONDITIONS IN ISRAEL TO ASSERT ITS INDEPENDENCE', '/content/librispeech-other/LibriSpeech/test-other/4198/61336/4198-61336-0028.flac': 'THE PHILISTINES AND THE ARABIANS OF THE DESERT WERE ALSO SUBDUED', '/content/librispeech-other/LibriSpeech/test-other/4198/61336/4198-61336-0024.flac': 'FOR THUS SAITH THE LORD UNTO THE HOUSE OF ISRAEL SEEK YE ME AND YE SHALL LIVE HAVE YE OFFERED UNTO ME SACRIFICES AND OFFERINGS IN THE WILDERNESS FORTY YEARS O HOUSE OF ISRAEL', '/content/librispeech-other/LibriSpeech/test-other/4198/61336/4198-61336-0020.flac': 'IN THE FOLLOWING YEAR TIGLATH PILESER RETURNED TO SYRIA', '/content/librispeech-other/LibriSpeech/test-other/4198/61336/4198-61336-0011.flac': 'ONCE AGAIN THE HEBREWS CAME INTO CONTACT WITH ASSYRIA', '/content/librispeech-other/LibriSpeech/test-other/4198/61336/4198-61336-0019.flac': 'THUS WAS URARTU CRIPPLED AND HUMILIATED IT NEVER REGAINED ITS FORMER PRESTIGE AMONG THE NORTHERN STATES', '/content/librispeech-other/LibriSpeech/test-other/4198/61336/4198-61336-0023.flac': 'HE CONDEMNED ISRAEL FOR ITS IDOLATRIES AND CRIED', '/content/librispeech-other/LibriSpeech/test-other/4198/61336/4198-61336-0017.flac': 'TIGLATH PILESER NEXT OPERATED AGAINST THE MEDIAN AND OTHER HILL TRIBES IN THE NORTH EAST', '/content/librispeech-other/LibriSpeech/test-other/4198/61336/4198-61336-0012.flac': 'ITS FALL MAY NOT HAVE BEEN UNCONNECTED WITH THE TREND OF EVENTS IN ASSYRIA DURING THE CLOSING YEARS OF THE MIDDLE EMPIRE', '/content/librispeech-other/LibriSpeech/test-other/4198/61336/4198-61336-0003.flac': 'TIGLATH PILESER HOWEVER CROSSED THE EUPHRATES AND MOVING NORTHWARD DELIVERED AN UNEXPECTED ATTACK ON THE URARTIAN ARMY IN QUMMUKH', '/content/librispeech-other/LibriSpeech/test-other/4198/61336/4198-61336-0030.flac': 'UKINZER TOOK REFUGE IN HIS CAPITAL SHAPIA WHICH HELD OUT SUCCESSFULLY ALTHOUGH THE SURROUNDING COUNTRY WAS RAVAGED AND DESPOILED', '/content/librispeech-other/LibriSpeech/test-other/4198/61336/4198-61336-0018.flac': 'HE OVERTHREW BUILDINGS DESTROYED ORCHARDS AND TRANSPORTED TO NINEVEH THOSE OF THE INHABITANTS HE HAD NOT PUT TO THE SWORD WITH ALL THE LIVE STOCK HE COULD LAY HANDS ON', '/content/librispeech-other/LibriSpeech/test-other/4198/61336/4198-61336-0021.flac': 'MENAHEM KING OF ISRAEL HAD DIED AND WAS SUCCEEDED BY HIS SON PEKAHIAH', '/content/librispeech-other/LibriSpeech/test-other/4198/61336/4198-61336-0007.flac': 'THE SHIFTY MATI ILU EITHER CHERISHED THE HOPE THAT SHARDURIS WOULD RECOVER STRENGTH AND AGAIN INVADE NORTH SYRIA OR THAT HE MIGHT HIMSELF ESTABLISH AN EMPIRE IN THAT REGION', '/content/librispeech-other/LibriSpeech/test-other/4198/61336/4198-61336-0027.flac': 'HE SWEPT THROUGH ISRAEL LIKE A HURRICANE', '/content/librispeech-other/LibriSpeech/test-other/4198/61336/4198-61336-0010.flac': 'ARPAD WAS CAPTURED AND MATI ILU DEPOSED AND PROBABLY PUT TO DEATH', '/content/librispeech-other/LibriSpeech/test-other/4198/61336/4198-61336-0005.flac': 'AN ATTEMPT WAS MADE TO CAPTURE KING SHARDURIS WHO LEAPT FROM HIS CHARIOT AND MADE HASTY ESCAPE ON HORSEBACK HOTLY PURSUED IN THE GATHERING DARKNESS BY AN ASSYRIAN CONTINGENT OF CAVALRY', '/content/librispeech-other/LibriSpeech/test-other/4198/61336/4198-61336-0000.flac': 'IT IS SIGNIFICANT TO NOTE IN THIS CONNECTION THAT THE NEW KING WAS AN UNSWERVING ADHERENT OF THE CULT OF ASHUR BY THE ADHERENTS OF WHICH HE WAS PROBABLY STRONGLY SUPPORTED', '/content/librispeech-other/LibriSpeech/test-other/4198/61336/4198-61336-0029.flac': 'HE INVADED BABYLONIA', '/content/librispeech-other/LibriSpeech/test-other/4198/61336/4198-61336-0014.flac': 'SIX MONTHS AFTERWARDS HE WAS ASSASSINATED BY SHALLUM', '/content/librispeech-other/LibriSpeech/test-other/4198/61336/4198-61336-0008.flac': 'TIGLATH PILESER HAD THEREFORE TO MARCH WESTWARD AGAIN', '/content/librispeech-other/LibriSpeech/test-other/4198/61336/4198-61336-0026.flac': 'ISRAEL WAS ALSO DEALT WITH', '/content/librispeech-other/LibriSpeech/test-other/4198/61336/4198-61336-0002.flac': 'WELL MIGHT SHARDURIS EXCLAIM IN THE WORDS OF THE PROPHET WHERE IS THE KING OF ARPAD', '/content/librispeech-other/LibriSpeech/test-other/4198/61336/4198-61336-0015.flac': 'THIS USURPER HELD SWAY AT SAMARIA FOR ONLY A MONTH', '/content/librispeech-other/LibriSpeech/test-other/4198/61336/4198-61336-0001.flac': 'AT THE BEGINNING OF HIS REIGN THERE WAS MUCH SOCIAL DISCONTENT AND SUFFERING', '/content/librispeech-other/LibriSpeech/test-other/4350/10919/4350-10919-0023.flac': 'WHEN THE DOCTOR CAME IN SHE FLUSHED CRIMSON AND HER EYES FILLED WITH TEARS', '/content/librispeech-other/LibriSpeech/test-other/4350/10919/4350-10919-0019.flac': \"OH TIME'S UP ALREADY AND HE WENT TO THE DOOR\", '/content/librispeech-other/LibriSpeech/test-other/4350/10919/4350-10919-0015.flac': 'THE FAMILY DOCTOR LISTENED ATTENTIVELY AND RESPECTFULLY', '/content/librispeech-other/LibriSpeech/test-other/4350/10919/4350-10919-0025.flac': 'EXCUSE ME DOCTOR BUT THERE IS REALLY NO OBJECT IN THIS', '/content/librispeech-other/LibriSpeech/test-other/4350/10919/4350-10919-0032.flac': 'IT SEEMED AS THOUGH SOME PIECE OF GOOD FORTUNE HAD COME TO PASS AFTER THE DOCTOR HAD GONE', '/content/librispeech-other/LibriSpeech/test-other/4350/10919/4350-10919-0027.flac': 'THE CELEBRATED DOCTOR DID NOT TAKE OFFENSE', '/content/librispeech-other/LibriSpeech/test-other/4350/10919/4350-10919-0022.flac': 'AND THE MOTHER ACCOMPANIED BY THE DOCTOR WENT INTO THE DRAWING ROOM TO KITTY', '/content/librispeech-other/LibriSpeech/test-other/4350/10919/4350-10919-0013.flac': 'AND HOW ABOUT A TOUR ABROAD ASKED THE FAMILY DOCTOR', '/content/librispeech-other/LibriSpeech/test-other/4350/10919/4350-10919-0011.flac': 'HE ASKED AH IT IS', '/content/librispeech-other/LibriSpeech/test-other/4350/10919/4350-10919-0009.flac': \"YES THAT'S AN UNDERSTOOD THING RESPONDED THE CELEBRATED PHYSICIAN AGAIN GLANCING AT HIS WATCH\", '/content/librispeech-other/LibriSpeech/test-other/4350/10919/4350-10919-0031.flac': 'FINALLY HIS DECISION WAS PRONOUNCED THEY WERE TO GO ABROAD BUT TO PUT NO FAITH IN FOREIGN QUACKS AND TO APPLY TO HIM IN ANY NEED', '/content/librispeech-other/LibriSpeech/test-other/4350/10919/4350-10919-0001.flac': 'BEFORE HER HE DECIDED TO SCATTER HIS PEARLS', '/content/librispeech-other/LibriSpeech/test-other/4350/10919/4350-10919-0008.flac': 'THE QUESTION STANDS THUS IN PRESENCE OF INDICATIONS OF TUBERCULOUS PROCESS WHAT IS TO BE DONE TO MAINTAIN NUTRITION', '/content/librispeech-other/LibriSpeech/test-other/4350/10919/4350-10919-0020.flac': 'THE CELEBRATED DOCTOR ANNOUNCED TO THE PRINCESS A FEELING OF WHAT WAS DUE FROM HIM DICTATED HIS DOING SO THAT HE OUGHT TO SEE THE PATIENT ONCE MORE', '/content/librispeech-other/LibriSpeech/test-other/4350/10919/4350-10919-0030.flac': 'AT THE QUESTION SHOULD THEY GO ABROAD THE DOCTOR PLUNGED INTO DEEP MEDITATION AS THOUGH RESOLVING A WEIGHTY PROBLEM', '/content/librispeech-other/LibriSpeech/test-other/4350/10919/4350-10919-0000.flac': 'HE PERCEIVED THAT IT WAS NO GOOD TALKING TO THE OLD MAN AND THAT THE PRINCIPAL PERSON IN THE HOUSE WAS THE MOTHER', '/content/librispeech-other/LibriSpeech/test-other/4350/10919/4350-10919-0003.flac': 'WELL DOCTOR DECIDE OUR FATE SAID THE PRINCESS TELL ME EVERYTHING', '/content/librispeech-other/LibriSpeech/test-other/4350/10919/4350-10919-0007.flac': 'AND THERE ARE INDICATIONS MALNUTRITION NERVOUS EXCITABILITY AND SO ON', '/content/librispeech-other/LibriSpeech/test-other/4350/10919/4350-10919-0024.flac': 'SHE ANSWERED HIM AND ALL AT ONCE GOT UP FURIOUS', '/content/librispeech-other/LibriSpeech/test-other/4350/10919/4350-10919-0004.flac': 'IS THERE HOPE SHE MEANT TO SAY BUT HER LIPS QUIVERED AND SHE COULD NOT UTTER THE QUESTION WELL DOCTOR', '/content/librispeech-other/LibriSpeech/test-other/4350/10919/4350-10919-0002.flac': 'THE PRINCESS WAS DISTRACTED AND DID NOT KNOW WHAT TO DO SHE FELT SHE HAD SINNED AGAINST KITTY', '/content/librispeech-other/LibriSpeech/test-other/4350/10919/4350-10919-0006.flac': 'THE FAMILY DOCTOR RESPECTFULLY CEASED IN THE MIDDLE OF HIS OBSERVATIONS', '/content/librispeech-other/LibriSpeech/test-other/4350/10919/4350-10919-0028.flac': 'NERVOUS IRRITABILITY HE SAID TO THE PRINCESS WHEN KITTY HAD LEFT THE ROOM HOWEVER I HAD FINISHED', '/content/librispeech-other/LibriSpeech/test-other/4350/10919/4350-10919-0014.flac': 'WHAT IS WANTED IS MEANS OF IMPROVING NUTRITION AND NOT FOR LOWERING IT', '/content/librispeech-other/LibriSpeech/test-other/4350/10919/4350-10919-0018.flac': 'AH WELL IN THAT CASE TO BE SURE LET THEM GO ONLY THOSE GERMAN QUACKS ARE MISCHIEVOUS', '/content/librispeech-other/LibriSpeech/test-other/4350/10919/4350-10919-0021.flac': 'OH NO ONLY A FEW DETAILS PRINCESS COME THIS WAY', '/content/librispeech-other/LibriSpeech/test-other/4350/10919/4350-10919-0017.flac': 'AND THEN THE MOTHER WISHES IT HE ADDED', '/content/librispeech-other/LibriSpeech/test-other/4350/10919/4350-10919-0033.flac': 'THE MOTHER WAS MUCH MORE CHEERFUL WHEN SHE WENT BACK TO HER DAUGHTER AND KITTY PRETENDED TO BE MORE CHEERFUL', '/content/librispeech-other/LibriSpeech/test-other/4350/10919/4350-10919-0012.flac': 'OH WELL THEN I CAN DO IT IN TWENTY MINUTES', '/content/librispeech-other/LibriSpeech/test-other/4350/10919/4350-10919-0026.flac': \"THIS IS THE THIRD TIME YOU'VE ASKED ME THE SAME THING\", '/content/librispeech-other/LibriSpeech/test-other/4350/10919/4350-10919-0029.flac': 'AND THE DOCTOR BEGAN SCIENTIFICALLY EXPLAINING TO THE PRINCESS AS AN EXCEPTIONALLY INTELLIGENT WOMAN THE CONDITION OF THE YOUNG PRINCESS AND CONCLUDED BY INSISTING ON THE DRINKING OF THE WATERS WHICH WERE CERTAINLY HARMLESS', '/content/librispeech-other/LibriSpeech/test-other/4350/10919/4350-10919-0005.flac': 'AS YOU PLEASE THE PRINCESS WENT OUT WITH A SIGH', '/content/librispeech-other/LibriSpeech/test-other/4350/10919/4350-10919-0010.flac': 'BEG PARDON IS THE YAUSKY BRIDGE DONE YET OR SHALL I HAVE TO DRIVE AROUND', '/content/librispeech-other/LibriSpeech/test-other/4350/10919/4350-10919-0016.flac': 'BUT IN FAVOR OF FOREIGN TRAVEL I WOULD URGE THE CHANGE OF HABITS THE REMOVAL FROM CONDITIONS CALLING UP REMINISCENCES', '/content/librispeech-other/LibriSpeech/test-other/4350/9170/4350-9170-0058.flac': 'TO RESIST WOULD NEED INDEPENDENT THOUGHT AND EFFORT OF WHICH EVERY MAN IS NOT CAPABLE', '/content/librispeech-other/LibriSpeech/test-other/4350/9170/4350-9170-0048.flac': 'SO THAT THE JUSTIFICATION OF STATE VIOLENCE ON THE GROUND OF THE PROTECTION IT GIVES US FROM EVIL DISPOSED PERSONS EVEN IF IT HAD SOME FOUNDATION THREE OR FOUR CENTURIES AGO HAS NONE WHATEVER NOW', '/content/librispeech-other/LibriSpeech/test-other/4350/9170/4350-9170-0044.flac': 'AND FOR THE SAKE OF WHAT AM I MAKING THEM', '/content/librispeech-other/LibriSpeech/test-other/4350/9170/4350-9170-0027.flac': 'AND THIS ABNORMAL ORDER OF THINGS IS MAINTAINED BY THE ARMY', '/content/librispeech-other/LibriSpeech/test-other/4350/9170/4350-9170-0032.flac': 'THE DESPOTISM OF A GOVERNMENT ALWAYS INCREASES WITH THE STRENGTH OF THE ARMY AND ITS EXTERNAL SUCCESSES AND THE AGGRESSIVENESS OF A GOVERNMENT INCREASES WITH ITS INTERNAL DESPOTISM', '/content/librispeech-other/LibriSpeech/test-other/4350/9170/4350-9170-0019.flac': 'GOVERNMENT AUTHORITY EVEN IF IT DOES SUPPRESS PRIVATE VIOLENCE ALWAYS INTRODUCES INTO THE LIFE OF MEN FRESH FORMS OF VIOLENCE WHICH TEND TO BECOME GREATER AND GREATER IN PROPORTION TO THE DURATION AND STRENGTH OF THE GOVERNMENT', '/content/librispeech-other/LibriSpeech/test-other/4350/9170/4350-9170-0050.flac': 'WITHOUT THE STATE MEN WOULD NOT HAVE BEEN ABLE TO FORM THE SOCIAL INSTITUTIONS NEEDED FOR DOING ANY THING', '/content/librispeech-other/LibriSpeech/test-other/4350/9170/4350-9170-0007.flac': 'THESE BANDS OF ARMED MEN SUBMISSIVE TO A SINGLE WILL ARE WHAT CONSTITUTE THE ARMY', '/content/librispeech-other/LibriSpeech/test-other/4350/9170/4350-9170-0053.flac': 'WITHOUT GOVERNMENTS NATIONS WOULD BE ENSLAVED BY THEIR NEIGHBORS', '/content/librispeech-other/LibriSpeech/test-other/4350/9170/4350-9170-0055.flac': 'AND IF DEFENSE AGAINST BARBAROUS NATIONS IS MEANT ONE THOUSANDTH PART OF THE TROOPS NOW UNDER ARMS WOULD BE AMPLY SUFFICIENT FOR THAT PURPOSE', '/content/librispeech-other/LibriSpeech/test-other/4350/9170/4350-9170-0014.flac': 'BETWEEN THE MEMBERS OF ONE STATE SUBJECT TO A SINGLE AUTHORITY THE STRIFE BETWEEN INDIVIDUALS SEEMS STILL LESS AND THE LIFE OF THE STATE SEEMS EVEN MORE SECURE', '/content/librispeech-other/LibriSpeech/test-other/4350/9170/4350-9170-0017.flac': 'BUT THIS JUSTIFICATION IS NEVER MORE THAN TEMPORARY', '/content/librispeech-other/LibriSpeech/test-other/4350/9170/4350-9170-0001.flac': 'THIS IS ABSOLUTELY INCORRECT', '/content/librispeech-other/LibriSpeech/test-other/4350/9170/4350-9170-0000.flac': 'EDUCATED PEOPLE OF THE UPPER CLASSES ARE TRYING TO STIFLE THE EVER GROWING SENSE OF THE NECESSITY OF TRANSFORMING THE EXISTING SOCIAL ORDER', '/content/librispeech-other/LibriSpeech/test-other/4350/9170/4350-9170-0035.flac': 'THIS INCONSISTENCY HAS BECOME OBVIOUS IN UNIVERSAL MILITARY SERVICE', '/content/librispeech-other/LibriSpeech/test-other/4350/9170/4350-9170-0004.flac': 'THE MAN WHO IS CONTROLLED BY MORAL INFLUENCE ACTS IN ACCORDANCE WITH HIS OWN DESIRES', '/content/librispeech-other/LibriSpeech/test-other/4350/9170/4350-9170-0020.flac': 'AND THEREFORE THE OPPRESSION OF THE OPPRESSED ALWAYS GOES ON GROWING UP TO THE FURTHEST LIMIT BEYOND WHICH IT CANNOT GO WITHOUT KILLING THE GOOSE WITH THE GOLDEN EGGS', '/content/librispeech-other/LibriSpeech/test-other/4350/9170/4350-9170-0046.flac': 'EXCEPT FOR THE STATE THEY SAY WE SHOULD BE EXPOSED TO THE ATTACKS OF EVIL DISPOSED PERSONS IN OUR OWN COUNTRY', '/content/librispeech-other/LibriSpeech/test-other/4350/9170/4350-9170-0037.flac': 'BUT WITH UNIVERSAL MILITARY SERVICE IT COMES TO PASS THAT MEN AFTER MAKING EVERY SACRIFICE TO GET RID OF THE CRUELTY OF STRIFE AND THE INSECURITY OF EXISTENCE ARE CALLED UPON TO FACE ALL THE PERILS THEY HAD MEANT TO AVOID', '/content/librispeech-other/LibriSpeech/test-other/4350/9170/4350-9170-0051.flac': 'THIS ARGUMENT TOO WAS WELL FOUNDED ONLY SOME CENTURIES AGO', '/content/librispeech-other/LibriSpeech/test-other/4350/9170/4350-9170-0013.flac': 'EVEN IF THERE WAS ONCE A TIME WHEN OWING TO THE LOW STANDARD OF MORALS AND THE DISPOSITION OF MEN TO VIOLENCE THE EXISTENCE OF AN AUTHORITY TO RESTRAIN SUCH VIOLENCE WAS AN ADVANTAGE BECAUSE THE VIOLENCE OF GOVERNMENT WAS LESS THAN THE VIOLENCE OF INDIVIDUALS ONE CANNOT BUT SEE THAT THIS ADVANTAGE COULD NOT BE LASTING', '/content/librispeech-other/LibriSpeech/test-other/4350/9170/4350-9170-0008.flac': 'THE ARMY HAS ALWAYS BEEN AND STILL IS THE BASIS OF POWER', '/content/librispeech-other/LibriSpeech/test-other/4350/9170/4350-9170-0012.flac': 'BUT SINCE THIS IS NOT THE CASE AND ON THE CONTRARY MEN IN POWER ARE ALWAYS FAR FROM BEING SAINTS THROUGH THE VERY FACT OF THEIR POSSESSION OF POWER THE SOCIAL ORGANIZATION BASED ON POWER HAS NO JUSTIFICATION', '/content/librispeech-other/LibriSpeech/test-other/4350/9170/4350-9170-0024.flac': \"THE UPPER CLASSES KNOW THAT AN ARMY OF FIFTY THOUSAND WILL SOON BE INSUFFICIENT AND NO LONGER RELYING ON PINKERTON'S MEN THEY FEEL THAT THE SECURITY OF THEIR POSITION DEPENDS ON THE INCREASED STRENGTH OF THE ARMY\", '/content/librispeech-other/LibriSpeech/test-other/4350/9170/4350-9170-0039.flac': 'THE TAXES RAISED FROM THE PEOPLE FOR WAR PREPARATIONS ABSORB THE GREATER PART OF THE PRODUCE OF LABOR WHICH THE ARMY OUGHT TO DEFEND', '/content/librispeech-other/LibriSpeech/test-other/4350/9170/4350-9170-0021.flac': 'THE MOST CONVINCING EXAMPLE OF THIS IS TO BE FOUND IN THE CONDITION OF THE WORKING CLASSES OF OUR EPOCH WHO ARE IN REALITY NO BETTER THAN THE SLAVES OF ANCIENT TIMES SUBDUED BY CONQUEST', '/content/librispeech-other/LibriSpeech/test-other/4350/9170/4350-9170-0029.flac': 'AND SO EVERY GOVERNMENT NEEDS AN ARMY ALSO TO PROTECT ITS BOOTY FROM ITS NEIGHBOR BRIGANDS', '/content/librispeech-other/LibriSpeech/test-other/4350/9170/4350-9170-0022.flac': 'SO IT HAS ALWAYS BEEN', '/content/librispeech-other/LibriSpeech/test-other/4350/9170/4350-9170-0047.flac': 'WE KNOW NOW THAT THREATS AND PUNISHMENTS CANNOT DIMINISH THEIR NUMBER THAT THAT CAN ONLY BE DONE BY CHANGE OF ENVIRONMENT AND MORAL INFLUENCE', '/content/librispeech-other/LibriSpeech/test-other/4350/9170/4350-9170-0005.flac': 'THE BASIS OF AUTHORITY IS BODILY VIOLENCE', '/content/librispeech-other/LibriSpeech/test-other/4350/9170/4350-9170-0011.flac': 'ONLY UNDER THOSE CONDITIONS COULD THE SOCIAL ORGANIZATION BE JUSTIFIED', '/content/librispeech-other/LibriSpeech/test-other/4350/9170/4350-9170-0034.flac': 'AND BY THIS MEANS ALL CITIZENS ARE UNDER ARMS TO SUPPORT THE INIQUITIES PRACTICED UPON THEM ALL CITIZENS HAVE BECOME THEIR OWN OPPRESSORS', '/content/librispeech-other/LibriSpeech/test-other/4350/9170/4350-9170-0025.flac': 'THE REASON TO WHICH HE GAVE EXPRESSION IS ESSENTIALLY THE SAME AS THAT WHICH MADE THE FRENCH KINGS AND THE POPES ENGAGE SWISS AND SCOTCH GUARDS AND MAKES THE RUSSIAN AUTHORITIES OF TO DAY SO CAREFULLY DISTRIBUTE THE RECRUITS SO THAT THE REGIMENTS FROM THE FRONTIERS ARE STATIONED IN CENTRAL DISTRICTS AND THE REGIMENTS FROM THE CENTER ARE STATIONED ON THE FRONTIERS', '/content/librispeech-other/LibriSpeech/test-other/4350/9170/4350-9170-0033.flac': 'THE RIVALRY OF THE EUROPEAN STATES IN CONSTANTLY INCREASING THEIR FORCES HAS REDUCED THEM TO THE NECESSITY OF HAVING RECOURSE TO UNIVERSAL MILITARY SERVICE SINCE BY THAT MEANS THE GREATEST POSSIBLE NUMBER OF SOLDIERS IS OBTAINED AT THE LEAST POSSIBLE EXPENSE', '/content/librispeech-other/LibriSpeech/test-other/4350/9170/4350-9170-0018.flac': 'INTERNAL DISSENSIONS DISAPPEAR ONLY IN PROPORTION TO THE DEGREE OF OPPRESSION EXERTED BY THE AUTHORITY OVER THE DISSENTIENT INDIVIDUALS', '/content/librispeech-other/LibriSpeech/test-other/4350/9170/4350-9170-0026.flac': \"THE MEANING OF CAPRIVI'S SPEECH PUT INTO PLAIN LANGUAGE IS THAT FUNDS ARE NEEDED NOT TO RESIST FOREIGN FOES BUT TO BUY UNDER OFFICERS TO BE READY TO ACT AGAINST THE ENSLAVED TOILING MASSES\", '/content/librispeech-other/LibriSpeech/test-other/4350/9170/4350-9170-0015.flac': 'IT WAS PRODUCED ON ONE HAND BY THE NATURAL GROWTH OF POPULATION AND ON THE OTHER BY STRUGGLE AND CONQUEST', '/content/librispeech-other/LibriSpeech/test-other/4350/9170/4350-9170-0054.flac': 'THE GOVERNMENT THEY TELL US WITH ITS ARMY IS NECESSARY TO DEFEND US FROM NEIGHBORING STATES WHO MIGHT ENSLAVE US', '/content/librispeech-other/LibriSpeech/test-other/4350/9170/4350-9170-0010.flac': 'INDEED IT COULD NOT BE OTHERWISE', '/content/librispeech-other/LibriSpeech/test-other/4350/9170/4350-9170-0023.flac': 'FOOTNOTE THE FACT THAT IN AMERICA THE ABUSES OF AUTHORITY EXIST IN SPITE OF THE SMALL NUMBER OF THEIR TROOPS NOT ONLY FAILS TO DISPROVE THIS POSITION BUT POSITIVELY CONFIRMS IT', '/content/librispeech-other/LibriSpeech/test-other/4350/9170/4350-9170-0009.flac': 'POWER IS ALWAYS IN THE HANDS OF THOSE WHO CONTROL THE ARMY AND ALL MEN IN POWER FROM THE ROMAN CAESARS TO THE RUSSIAN AND GERMAN EMPERORS TAKE MORE INTEREST IN THEIR ARMY THAN IN ANYTHING AND COURT POPULARITY IN THE ARMY KNOWING THAT IF THAT IS ON THEIR SIDE THEIR POWER IS SECURE', '/content/librispeech-other/LibriSpeech/test-other/4350/9170/4350-9170-0057.flac': 'EVEN LOOKING AT IT PRACTICALLY WEIGHING THAT IS TO SAY ALL THE BURDENS LAID ON HIM BY THE STATE NO MAN CAN FAIL TO SEE THAT FOR HIM PERSONALLY TO COMPLY WITH STATE DEMANDS AND SERVE IN THE ARMY WOULD IN THE MAJORITY OF CASES BE MORE DISADVANTAGEOUS THAN TO REFUSE TO DO SO', '/content/librispeech-other/LibriSpeech/test-other/4350/9170/4350-9170-0030.flac': 'THIS INCREASE IS CONTAGIOUS AS MONTESQUIEU POINTED OUT ONE HUNDRED FIFTY YEARS AGO', '/content/librispeech-other/LibriSpeech/test-other/4350/9170/4350-9170-0060.flac': 'FOR A MAN OF THE POOR WORKING CLASS THE ADVANTAGES AND DISADVANTAGES WILL BE THE SAME BUT WITH A GREAT INCREASE OF DISADVANTAGES', '/content/librispeech-other/LibriSpeech/test-other/4350/9170/4350-9170-0040.flac': 'THE DANGER OF WAR EVER READY TO BREAK OUT RENDERS ALL REFORMS OF LIFE SOCIAL LIFE VAIN AND FRUITLESS', '/content/librispeech-other/LibriSpeech/test-other/4350/9170/4350-9170-0006.flac': 'THE POSSIBILITY OF APPLYING BODILY VIOLENCE TO PEOPLE IS PROVIDED ABOVE ALL BY AN ORGANIZATION OF ARMED MEN TRAINED TO ACT IN UNISON IN SUBMISSION TO ONE WILL', '/content/librispeech-other/LibriSpeech/test-other/4350/9170/4350-9170-0052.flac': 'THE GREAT EXTENSION OF MEANS OF COMMUNICATION AND INTERCHANGE OF IDEAS HAS MADE MEN COMPLETELY ABLE TO DISPENSE WITH STATE AID IN FORMING SOCIETIES ASSOCIATIONS CORPORATIONS AND CONGRESSES FOR SCIENTIFIC ECONOMIC AND POLITICAL OBJECTS', '/content/librispeech-other/LibriSpeech/test-other/4350/9170/4350-9170-0016.flac': 'AFTER CONQUEST THE POWER OF THE EMPEROR PUTS AN END TO INTERNAL DISSENSIONS AND SO THE STATE CONCEPTION OF LIFE JUSTIFIES ITSELF', '/content/librispeech-other/LibriSpeech/test-other/4350/9170/4350-9170-0056.flac': 'THE POWER OF THE STATE FAR FROM BEING A SECURITY AGAINST THE ATTACKS OF OUR NEIGHBORS EXPOSES US ON THE CONTRARY TO MUCH GREATER DANGER OF SUCH ATTACKS', '/content/librispeech-other/LibriSpeech/test-other/4350/9170/4350-9170-0059.flac': 'SO MUCH FOR THE ADVANTAGES AND DISADVANTAGES OF BOTH LINES OF CONDUCT FOR A MAN OF THE WEALTHY CLASSES AN OPPRESSOR', '/content/librispeech-other/LibriSpeech/test-other/4350/9170/4350-9170-0042.flac': 'GOVERNMENTS ASSERT THAT ARMIES ARE NEEDED ABOVE ALL FOR EXTERNAL DEFENSE BUT THAT IS NOT TRUE', '/content/librispeech-other/LibriSpeech/test-other/4350/9170/4350-9170-0038.flac': 'BUT INSTEAD OF DOING THAT THEY EXPOSE THE INDIVIDUALS TO THE SAME NECESSITY OF STRIFE SUBSTITUTING STRIFE WITH INDIVIDUALS OF OTHER STATES FOR STRIFE WITH NEIGHBORS', '/content/librispeech-other/LibriSpeech/test-other/4350/9170/4350-9170-0002.flac': 'IN THE SOCIAL CONCEPTION OF LIFE IT IS SUPPOSED THAT SINCE THE AIM OF LIFE IS FOUND IN GROUPS OF INDIVIDUALS INDIVIDUALS WILL VOLUNTARILY SACRIFICE THEIR OWN INTERESTS FOR THE INTERESTS OF THE GROUP', '/content/librispeech-other/LibriSpeech/test-other/4350/9170/4350-9170-0041.flac': 'BUT THE FATAL SIGNIFICANCE OF UNIVERSAL MILITARY SERVICE AS THE MANIFESTATION OF THE CONTRADICTION INHERENT IN THE SOCIAL CONCEPTION OF LIFE IS NOT ONLY APPARENT IN THAT', '/content/librispeech-other/LibriSpeech/test-other/4350/9170/4350-9170-0049.flac': 'EXCEPT FOR THE STATE THEY TELL US WE SHOULD NOT HAVE ANY RELIGION EDUCATION CULTURE MEANS OF COMMUNICATION AND SO ON', '/content/librispeech-other/LibriSpeech/test-other/4350/9170/4350-9170-0028.flac': 'BUT THERE IS NOT ONLY ONE GOVERNMENT THERE ARE OTHER GOVERNMENTS EXPLOITING THEIR SUBJECTS BY VIOLENCE IN THE SAME WAY AND ALWAYS READY TO POUNCE DOWN ON ANY OTHER GOVERNMENT AND CARRY OFF THE FRUITS OF THE TOIL OF ITS ENSLAVED SUBJECTS', '/content/librispeech-other/LibriSpeech/test-other/4350/9170/4350-9170-0043.flac': 'THEY ARE NEEDED PRINCIPALLY AGAINST THEIR SUBJECTS AND EVERY MAN UNDER UNIVERSAL MILITARY SERVICE BECOMES AN ACCOMPLICE IN ALL THE ACTS OF VIOLENCE OF THE GOVERNMENT AGAINST THE CITIZENS WITHOUT ANY CHOICE OF HIS OWN', '/content/librispeech-other/LibriSpeech/test-other/4350/9170/4350-9170-0036.flac': \"IN FACT THE WHOLE SIGNIFICANCE OF THE SOCIAL CONCEPTION OF LIFE CONSISTS IN MAN'S RECOGNITION OF THE BARBARITY OF STRIFE BETWEEN INDIVIDUALS AND THE TRANSITORINESS OF PERSONAL LIFE ITSELF AND THE TRANSFERENCE OF THE AIM OF LIFE TO GROUPS OF PERSONS\", '/content/librispeech-other/LibriSpeech/test-other/4350/9170/4350-9170-0045.flac': 'I AM EXPECTED FOR THE SAKE OF THE STATE TO MAKE THESE SACRIFICES TO RENOUNCE EVERYTHING THAT CAN BE PRECIOUS TO MAN PEACE FAMILY SECURITY AND HUMAN DIGNITY', '/content/librispeech-other/LibriSpeech/test-other/4350/9170/4350-9170-0003.flac': 'THE CHAMPIONS OF THE SOCIAL CONCEPTION OF LIFE USUALLY TRY TO CONNECT THE IDEA OF AUTHORITY THAT IS OF VIOLENCE WITH THE IDEA OF MORAL INFLUENCE BUT THIS CONNECTION IS QUITE IMPOSSIBLE', '/content/librispeech-other/LibriSpeech/test-other/4350/9170/4350-9170-0031.flac': 'EVERY INCREASE IN THE ARMY OF ONE STATE WITH THE AIM OF SELF DEFENSE AGAINST ITS SUBJECTS BECOMES A SOURCE OF DANGER FOR NEIGHBORING STATES AND CALLS FOR A SIMILAR INCREASE IN THEIR ARMIES', '/content/librispeech-other/LibriSpeech/test-other/3764/168671/3764-168671-0052.flac': 'FAUCHELEVENT WHATEVER HIS ANGUISH OFFERED A DRINK BUT HE DID NOT EXPLAIN HIMSELF ON ONE POINT WHO WAS TO PAY', '/content/librispeech-other/LibriSpeech/test-other/3764/168671/3764-168671-0011.flac': 'THE NUNS HAD COMMITTED IT NOT ONLY WITHOUT DIFFICULTY BUT EVEN WITH THE APPLAUSE OF THEIR OWN CONSCIENCES', '/content/librispeech-other/LibriSpeech/test-other/3764/168671/3764-168671-0021.flac': 'HE WAS A SORT OF LABORING MAN WHO WORE A WAISTCOAT WITH LARGE POCKETS AND CARRIED A MATTOCK UNDER HIS ARM', '/content/librispeech-other/LibriSpeech/test-other/3764/168671/3764-168671-0033.flac': 'THE MAN REPLIED', '/content/librispeech-other/LibriSpeech/test-other/3764/168671/3764-168671-0027.flac': 'IT IS TRUE NEVERTHELESS THAT GRAVE DIGGERS DO DIE THEMSELVES', '/content/librispeech-other/LibriSpeech/test-other/3764/168671/3764-168671-0028.flac': 'HE HAD HARDLY THE STRENGTH TO STAMMER', '/content/librispeech-other/LibriSpeech/test-other/3764/168671/3764-168671-0009.flac': 'THE INTERMENT OF MOTHER CRUCIFIXION IN THE VAULT UNDER THE ALTAR THE EXIT OF COSETTE THE INTRODUCTION OF JEAN VALJEAN TO THE DEAD ROOM ALL HAD BEEN EXECUTED WITHOUT DIFFICULTY AND THERE HAD BEEN NO HITCH LET US REMARK IN PASSING THAT THE BURIAL OF MOTHER CRUCIFIXION UNDER THE ALTAR OF THE CONVENT IS A PERFECTLY VENIAL OFFENCE IN OUR SIGHT', '/content/librispeech-other/LibriSpeech/test-other/3764/168671/3764-168671-0022.flac': 'THE MAN REPLIED THE GRAVE DIGGER', '/content/librispeech-other/LibriSpeech/test-other/3764/168671/3764-168671-0001.flac': 'THIS HEARSE CONTAINED A COFFIN COVERED WITH A WHITE CLOTH OVER WHICH SPREAD A LARGE BLACK CROSS LIKE A HUGE CORPSE WITH DROOPING ARMS', '/content/librispeech-other/LibriSpeech/test-other/3764/168671/3764-168671-0019.flac': 'HE DID WHAT HE LIKED WITH HIM HE MADE HIM DANCE ACCORDING TO HIS WHIM', '/content/librispeech-other/LibriSpeech/test-other/3764/168671/3764-168671-0013.flac': 'MAKE AS MANY LAWS AS YOU PLEASE MEN BUT KEEP THEM FOR YOURSELVES', '/content/librispeech-other/LibriSpeech/test-other/3764/168671/3764-168671-0026.flac': 'FAUCHELEVENT HAD EXPECTED ANYTHING BUT THIS THAT A GRAVE DIGGER COULD DIE', '/content/librispeech-other/LibriSpeech/test-other/3764/168671/3764-168671-0043.flac': 'FAUCHELEVENT THOUGHT I AM LOST', '/content/librispeech-other/LibriSpeech/test-other/3764/168671/3764-168671-0006.flac': 'DAMPNESS WAS INVADING IT THE FLOWERS WERE DESERTING IT', '/content/librispeech-other/LibriSpeech/test-other/3764/168671/3764-168671-0049.flac': 'SO YOU ARE NOT A GRAVE DIGGER THEN', '/content/librispeech-other/LibriSpeech/test-other/3764/168671/3764-168671-0015.flac': 'FAUCHELEVENT LIMPED ALONG BEHIND THE HEARSE IN A VERY CONTENTED FRAME OF MIND', '/content/librispeech-other/LibriSpeech/test-other/3764/168671/3764-168671-0010.flac': 'IT IS ONE OF THE FAULTS WHICH RESEMBLE A DUTY', '/content/librispeech-other/LibriSpeech/test-other/3764/168671/3764-168671-0016.flac': \"JEAN VALJEAN'S COMPOSURE WAS ONE OF THOSE POWERFUL TRANQUILLITIES WHICH ARE CONTAGIOUS\", '/content/librispeech-other/LibriSpeech/test-other/3764/168671/3764-168671-0002.flac': 'A MOURNING COACH IN WHICH COULD BE SEEN A PRIEST IN HIS SURPLICE AND A CHOIR BOY IN HIS RED CAP FOLLOWED', '/content/librispeech-other/LibriSpeech/test-other/3764/168671/3764-168671-0046.flac': 'FORTUNATELY THE SOIL WHICH WAS LIGHT AND WET WITH THE WINTER RAINS CLOGGED THE WHEELS AND RETARDED ITS SPEED', '/content/librispeech-other/LibriSpeech/test-other/3764/168671/3764-168671-0014.flac': 'A PRINCE IS NOTHING IN THE PRESENCE OF A PRINCIPLE', '/content/librispeech-other/LibriSpeech/test-other/3764/168671/3764-168671-0053.flac': 'THE GRAVE DIGGER WENT ON WITH A SUPERIOR SMILE', '/content/librispeech-other/LibriSpeech/test-other/3764/168671/3764-168671-0037.flac': 'FAUCHELEVENT WHO WAS ILLITERATE BUT VERY SHARP UNDERSTOOD THAT HE HAD TO DEAL WITH A FORMIDABLE SPECIES OF MAN WITH A FINE TALKER HE MUTTERED', '/content/librispeech-other/LibriSpeech/test-other/3764/168671/3764-168671-0007.flac': 'THE BOURGEOIS DID NOT CARE MUCH ABOUT BEING BURIED IN THE VAUGIRARD IT HINTED AT POVERTY PERE LACHAISE IF YOU PLEASE', '/content/librispeech-other/LibriSpeech/test-other/3764/168671/3764-168671-0023.flac': 'THE GRAVE DIGGER YES', '/content/librispeech-other/LibriSpeech/test-other/3764/168671/3764-168671-0034.flac': 'HE LIMPED MORE OUT OF ANXIETY THAN FROM INFIRMITY', '/content/librispeech-other/LibriSpeech/test-other/3764/168671/3764-168671-0041.flac': 'STAMMERED FAUCHELEVENT IT IS MADE', '/content/librispeech-other/LibriSpeech/test-other/3764/168671/3764-168671-0048.flac': 'BUT HE HAD REVERSES HE HAD LOSSES ON CHANGE I WAS OBLIGED TO RENOUNCE THE PROFESSION OF AUTHOR BUT I AM STILL A PUBLIC WRITER', '/content/librispeech-other/LibriSpeech/test-other/3764/168671/3764-168671-0051.flac': 'HERE A REMARK BECOMES NECESSARY', '/content/librispeech-other/LibriSpeech/test-other/3764/168671/3764-168671-0004.flac': 'THE GRAVE DIGGERS BEING THUS BOUND TO SERVICE IN THE EVENING IN SUMMER AND AT NIGHT IN WINTER IN THIS CEMETERY THEY WERE SUBJECTED TO A SPECIAL DISCIPLINE', '/content/librispeech-other/LibriSpeech/test-other/3764/168671/3764-168671-0029.flac': 'BUT HE PERSISTED FEEBLY FATHER MESTIENNE IS THE GRAVE DIGGER', '/content/librispeech-other/LibriSpeech/test-other/3764/168671/3764-168671-0050.flac': 'RETURNED FAUCHELEVENT CLUTCHING AT THIS BRANCH FEEBLE AS IT WAS', '/content/librispeech-other/LibriSpeech/test-other/3764/168671/3764-168671-0030.flac': 'DO YOU KNOW WHO LITTLE FATHER LENOIR IS HE IS A JUG OF RED WINE', '/content/librispeech-other/LibriSpeech/test-other/3764/168671/3764-168671-0018.flac': 'HE PLAYED WITH FATHER MESTIENNE', '/content/librispeech-other/LibriSpeech/test-other/3764/168671/3764-168671-0003.flac': 'BEHIND IT CAME AN OLD MAN IN THE GARMENTS OF A LABORER WHO LIMPED ALONG', '/content/librispeech-other/LibriSpeech/test-other/3764/168671/3764-168671-0047.flac': 'MY FATHER WAS A PORTER AT THE PRYTANEUM TOWN HALL', '/content/librispeech-other/LibriSpeech/test-other/3764/168671/3764-168671-0020.flac': 'THE PERMISSION FOR INTERMENT MUST BE EXHIBITED', '/content/librispeech-other/LibriSpeech/test-other/3764/168671/3764-168671-0008.flac': 'TO BE BURIED IN PERE LACHAISE IS EQUIVALENT TO HAVING FURNITURE OF MAHOGANY IT IS RECOGNIZED AS ELEGANT', '/content/librispeech-other/LibriSpeech/test-other/3764/168671/3764-168671-0045.flac': 'AND HE ADDED WITH THE SATISFACTION OF A SERIOUS MAN WHO IS TURNING A PHRASE WELL', '/content/librispeech-other/LibriSpeech/test-other/3764/168671/3764-168671-0042.flac': 'YOU ARE A PEASANT I AM A PARISIAN', '/content/librispeech-other/LibriSpeech/test-other/3764/168671/3764-168671-0054.flac': 'ONE MUST EAT', '/content/librispeech-other/LibriSpeech/test-other/3764/168671/3764-168671-0017.flac': 'WHAT REMAINED TO BE DONE WAS A MERE NOTHING', '/content/librispeech-other/LibriSpeech/test-other/3764/168671/3764-168671-0005.flac': 'THESE GATES THEREFORE SWUNG INEXORABLY ON THEIR HINGES AT THE INSTANT WHEN THE SUN DISAPPEARED BEHIND THE DOME OF THE INVALIDES', '/content/librispeech-other/LibriSpeech/test-other/3764/168671/3764-168671-0032.flac': \"ARE YOU NOT COMRADE WE'LL GO AND HAVE A DRINK TOGETHER PRESENTLY\", '/content/librispeech-other/LibriSpeech/test-other/3764/168671/3764-168671-0044.flac': 'THEY WERE ONLY A FEW TURNS OF THE WHEEL DISTANT FROM THE SMALL ALLEY LEADING TO THE NUNS CORNER', '/content/librispeech-other/LibriSpeech/test-other/3764/168671/3764-168671-0035.flac': 'THE GRAVE DIGGER WALKED ON IN FRONT OF HIM', '/content/librispeech-other/LibriSpeech/test-other/3764/168671/3764-168671-0012.flac': 'IN THE CLOISTER WHAT IS CALLED THE GOVERNMENT IS ONLY AN INTERMEDDLING WITH AUTHORITY AN INTERFERENCE WHICH IS ALWAYS QUESTIONABLE', '/content/librispeech-other/LibriSpeech/test-other/3764/168671/3764-168671-0025.flac': 'FATHER MESTIENNE IS THE GRAVE DIGGER HE WAS', '/content/librispeech-other/LibriSpeech/test-other/3764/168671/3764-168671-0024.flac': 'YOU I', '/content/librispeech-other/LibriSpeech/test-other/3764/168671/3764-168671-0039.flac': 'THE MAN REPLIED COMPLETELY', '/content/librispeech-other/LibriSpeech/test-other/3764/168671/3764-168671-0038.flac': 'SO FATHER MESTIENNE IS DEAD', '/content/librispeech-other/LibriSpeech/test-other/3764/168671/3764-168671-0040.flac': \"THE GOOD GOD CONSULTED HIS NOTE BOOK WHICH SHOWS WHEN THE TIME IS UP IT WAS FATHER MESTIENNE'S TURN FATHER MESTIENNE DIED\", '/content/librispeech-other/LibriSpeech/test-other/3764/168671/3764-168671-0031.flac': 'BUT YOU ARE A JOLLY FELLOW TOO', '/content/librispeech-other/LibriSpeech/test-other/3764/168671/3764-168671-0036.flac': 'FAUCHELEVENT PASSED THE UNEXPECTED GRIBIER ONCE MORE IN REVIEW', '/content/librispeech-other/LibriSpeech/test-other/3764/168671/3764-168671-0000.flac': 'ON THE FOLLOWING DAY AS THE SUN WAS DECLINING THE VERY RARE PASSERS BY ON THE BOULEVARD DU MAINE PULLED OFF THEIR HATS TO AN OLD FASHIONED HEARSE ORNAMENTED WITH SKULLS CROSS BONES AND TEARS', '/content/librispeech-other/LibriSpeech/test-other/3764/168670/3764-168670-0015.flac': 'THAT THE NUN WHO HAD DIED THAT MORNING HAD REQUESTED TO BE BURIED IN THE COFFIN WHICH HAD SERVED HER FOR A BED AND INTERRED IN THE VAULT UNDER THE ALTAR OF THE CHAPEL', '/content/librispeech-other/LibriSpeech/test-other/3764/168670/3764-168670-0051.flac': 'IF YOU ARE SURE OF COMING OUT OF THE COFFIN ALL RIGHT I AM SURE OF GETTING YOU OUT OF THE GRAVE', '/content/librispeech-other/LibriSpeech/test-other/3764/168670/3764-168670-0031.flac': 'NO I HAVE THE KEY TO THE DOOR WHICH COMMUNICATES WITH THE CONVENT THE PORTER HAS THE KEY TO THE DOOR WHICH COMMUNICATES WITH THE CHURCH', '/content/librispeech-other/LibriSpeech/test-other/3764/168670/3764-168670-0057.flac': 'THAT IS SETTLED FATHER FAUCHELEVENT ALL WILL GO WELL', '/content/librispeech-other/LibriSpeech/test-other/3764/168670/3764-168670-0035.flac': 'NOT ANOTHER MAN EXCEPT THE POLICE DOCTOR CAN ENTER THE DEAD ROOM THAT IS EVEN WRITTEN ON THE WALL', '/content/librispeech-other/LibriSpeech/test-other/3764/168670/3764-168670-0034.flac': 'WHO SPREADS THE PALL OVER IT', '/content/librispeech-other/LibriSpeech/test-other/3764/168670/3764-168670-0012.flac': 'FAUCHELEVENT WENT ON', '/content/librispeech-other/LibriSpeech/test-other/3764/168670/3764-168670-0004.flac': 'EVERYTHING IS ARRANGED AND NOTHING IS SAID FAUCHELEVENT', '/content/librispeech-other/LibriSpeech/test-other/3764/168670/3764-168670-0043.flac': 'ANY MAN WHO HAS BEEN A PRISONER UNDERSTANDS HOW TO CONTRACT HIMSELF TO FIT THE DIAMETER OF THE ESCAPE', '/content/librispeech-other/LibriSpeech/test-other/3764/168670/3764-168670-0023.flac': 'YOU KNOW FAUCHELEVENT WHAT YOU HAVE SAID MOTHER CRUCIFIXION IS DEAD', '/content/librispeech-other/LibriSpeech/test-other/3764/168670/3764-168670-0040.flac': 'FAUCHELEVENT RECOILED AND CRACKED HIS FINGER JOINTS BUT THAT IS IMPOSSIBLE', '/content/librispeech-other/LibriSpeech/test-other/3764/168670/3764-168670-0054.flac': \"THE HEARSE HALTS THE UNDERTAKER'S MEN KNOT A ROPE AROUND YOUR COFFIN AND LOWER YOU DOWN\", '/content/librispeech-other/LibriSpeech/test-other/3764/168670/3764-168670-0016.flac': 'THAT THE PRIORESS AND THE VOCAL MOTHERS INTENDED TO FULFIL THE WISH OF THE DECEASED', '/content/librispeech-other/LibriSpeech/test-other/3764/168670/3764-168670-0046.flac': 'YOU SURELY MUST HAVE A GIMLET YOU WILL MAKE A FEW HOLES HERE AND THERE AROUND MY MOUTH AND YOU WILL NAIL THE TOP PLANK ON LOOSELY GOOD AND WHAT IF YOU SHOULD HAPPEN TO COUGH OR TO SNEEZE', '/content/librispeech-other/LibriSpeech/test-other/3764/168670/3764-168670-0032.flac': \"ONLY TO ALLOW THE UNDERTAKER'S MEN TO ENTER WHEN THEY COME TO GET THE COFFIN\", '/content/librispeech-other/LibriSpeech/test-other/3764/168670/3764-168670-0044.flac': 'WHAT DOES NOT A MAN UNDERGO FOR THE SAKE OF A CURE', '/content/librispeech-other/LibriSpeech/test-other/3764/168670/3764-168670-0010.flac': 'YOU UNDERSTAND FATHER MADELEINE THE GOVERNMENT WILL NOTICE IT', '/content/librispeech-other/LibriSpeech/test-other/3764/168670/3764-168670-0027.flac': 'HOW LONG IS THE COFFIN SIX FEET', '/content/librispeech-other/LibriSpeech/test-other/3764/168670/3764-168670-0056.flac': 'ONE OF TWO THINGS WILL HAPPEN HE WILL EITHER BE SOBER OR HE WILL NOT BE SOBER', '/content/librispeech-other/LibriSpeech/test-other/3764/168670/3764-168670-0005.flac': 'I HAVE PERMISSION TO BRING YOU IN BUT BEFORE BRINGING YOU IN YOU MUST BE GOT OUT', '/content/librispeech-other/LibriSpeech/test-other/3764/168670/3764-168670-0045.flac': \"TO HAVE HIMSELF NAILED UP IN A CASE AND CARRIED OFF LIKE A BALE OF GOODS TO LIVE FOR A LONG TIME IN A BOX TO FIND AIR WHERE THERE IS NONE TO ECONOMIZE HIS BREATH FOR HOURS TO KNOW HOW TO STIFLE WITHOUT DYING THIS WAS ONE OF JEAN VALJEAN'S GLOOMY TALENTS\", '/content/librispeech-other/LibriSpeech/test-other/3764/168670/3764-168670-0022.flac': 'FAUCHELEVENT WHO WAS SEATED SPRANG UP AS THOUGH A BOMB HAD BURST UNDER HIS CHAIR YOU', '/content/librispeech-other/LibriSpeech/test-other/3764/168670/3764-168670-0039.flac': \"YOU CAN COME AND NAIL ME UP IN THE COFFIN AT TWO O'CLOCK\", '/content/librispeech-other/LibriSpeech/test-other/3764/168670/3764-168670-0019.flac': 'WHAT IS THAT EMPTY COFFIN', '/content/librispeech-other/LibriSpeech/test-other/3764/168670/3764-168670-0020.flac': 'ASKED JEAN VALJEAN FAUCHELEVENT REPLIED', '/content/librispeech-other/LibriSpeech/test-other/3764/168670/3764-168670-0021.flac': 'WHAT COFFIN WHAT ADMINISTRATION', '/content/librispeech-other/LibriSpeech/test-other/3764/168670/3764-168670-0009.flac': 'FAUCHELEVENT GRUMBLED MORE TO HIMSELF THAN TO JEAN VALJEAN', '/content/librispeech-other/LibriSpeech/test-other/3764/168670/3764-168670-0017.flac': 'THAT HE FAUCHELEVENT WAS TO NAIL UP THE COFFIN IN THE CELL RAISE THE STONE IN THE CHAPEL AND LOWER THE CORPSE INTO THE VAULT', '/content/librispeech-other/LibriSpeech/test-other/3764/168670/3764-168670-0029.flac': 'THE CHURCH IN THE STREET THE CHURCH WHICH ANY ONE CAN ENTER', '/content/librispeech-other/LibriSpeech/test-other/3764/168670/3764-168670-0011.flac': 'JEAN VALJEAN STARED HIM STRAIGHT IN THE EYE AND THOUGHT THAT HE WAS RAVING', '/content/librispeech-other/LibriSpeech/test-other/3764/168670/3764-168670-0008.flac': 'AND SHE WILL HOLD HER TONGUE I ANSWER FOR THAT', '/content/librispeech-other/LibriSpeech/test-other/3764/168670/3764-168670-0047.flac': 'A MAN WHO IS MAKING HIS ESCAPE DOES NOT COUGH OR SNEEZE', '/content/librispeech-other/LibriSpeech/test-other/3764/168670/3764-168670-0053.flac': 'I SHALL FOLLOW THAT IS MY BUSINESS', '/content/librispeech-other/LibriSpeech/test-other/3764/168670/3764-168670-0042.flac': 'JEAN VALJEAN HAD BEEN IN WORSE STRAITS THAN THIS', '/content/librispeech-other/LibriSpeech/test-other/3764/168670/3764-168670-0038.flac': 'I SHALL BE HUNGRY I WILL BRING YOU SOMETHING', '/content/librispeech-other/LibriSpeech/test-other/3764/168670/3764-168670-0037.flac': \"ABOUT THREE O'CLOCK IN THE AFTERNOON\", '/content/librispeech-other/LibriSpeech/test-other/3764/168670/3764-168670-0030.flac': 'HAVE YOU THE KEYS TO THOSE TWO DOORS', '/content/librispeech-other/LibriSpeech/test-other/3764/168670/3764-168670-0036.flac': 'COULD YOU HIDE ME IN THAT ROOM TO NIGHT WHEN EVERY ONE IS ASLEEP', '/content/librispeech-other/LibriSpeech/test-other/3764/168670/3764-168670-0000.flac': 'THE STRIDES OF A LAME MAN ARE LIKE THE OGLING GLANCES OF A ONE EYED MAN THEY DO NOT REACH THEIR GOAL VERY PROMPTLY', '/content/librispeech-other/LibriSpeech/test-other/3764/168670/3764-168670-0013.flac': 'IT IS TO MORROW THAT I AM TO BRING YOU IN THE PRIORESS EXPECTS YOU', '/content/librispeech-other/LibriSpeech/test-other/3764/168670/3764-168670-0014.flac': 'THEN HE EXPLAINED TO JEAN VALJEAN THAT THIS WAS HIS RECOMPENSE FOR A SERVICE WHICH HE FAUCHELEVENT WAS TO RENDER TO THE COMMUNITY', '/content/librispeech-other/LibriSpeech/test-other/3764/168670/3764-168670-0048.flac': 'WHO IS THERE WHO HAS NOT SAID TO A CAT DO COME IN', '/content/librispeech-other/LibriSpeech/test-other/3764/168670/3764-168670-0002.flac': 'JEAN VALJEAN HAD PLACED HER NEAR THE FIRE', '/content/librispeech-other/LibriSpeech/test-other/3764/168670/3764-168670-0028.flac': 'IT IS A CHAMBER ON THE GROUND FLOOR WHICH HAS A GRATED WINDOW OPENING ON THE GARDEN WHICH IS CLOSED ON THE OUTSIDE BY A SHUTTER AND TWO DOORS ONE LEADS INTO THE CONVENT THE OTHER INTO THE CHURCH WHAT CHURCH', '/content/librispeech-other/LibriSpeech/test-other/3764/168670/3764-168670-0025.flac': 'YOU ARE NOT LIKE OTHER MEN FATHER MADELEINE', '/content/librispeech-other/LibriSpeech/test-other/3764/168670/3764-168670-0049.flac': 'THE OVER PRUDENT CATS AS THEY ARE AND BECAUSE THEY ARE CATS SOMETIMES INCUR MORE DANGER THAN THE AUDACIOUS', '/content/librispeech-other/LibriSpeech/test-other/3764/168670/3764-168670-0006.flac': \"THAT'S WHERE THE DIFFICULTY LIES\", '/content/librispeech-other/LibriSpeech/test-other/3764/168670/3764-168670-0050.flac': \"BUT JEAN VALJEAN'S COOLNESS PREVAILED OVER HIM IN SPITE OF HIMSELF HE GRUMBLED\", '/content/librispeech-other/LibriSpeech/test-other/3764/168670/3764-168670-0052.flac': 'AN OLD FELLOW OF THE OLD SCHOOL THE GRAVE DIGGER PUTS THE CORPSES IN THE GRAVE AND I PUT THE GRAVE DIGGER IN MY POCKET', '/content/librispeech-other/LibriSpeech/test-other/3764/168670/3764-168670-0041.flac': 'BAH IMPOSSIBLE TO TAKE A HAMMER AND DRIVE SOME NAILS IN A PLANK', '/content/librispeech-other/LibriSpeech/test-other/3764/168670/3764-168670-0033.flac': 'WHO NAILS UP THE COFFIN I DO', '/content/librispeech-other/LibriSpeech/test-other/3764/168670/3764-168670-0018.flac': 'AND THEN THAT THERE WAS ANOTHER THE EMPTY COFFIN', '/content/librispeech-other/LibriSpeech/test-other/3764/168670/3764-168670-0055.flac': 'THE PRIEST SAYS THE PRAYERS MAKES THE SIGN OF THE CROSS SPRINKLES THE HOLY WATER AND TAKES HIS DEPARTURE', '/content/librispeech-other/LibriSpeech/test-other/3764/168670/3764-168670-0001.flac': 'COSETTE HAD WAKED UP', '/content/librispeech-other/LibriSpeech/test-other/3764/168670/3764-168670-0024.flac': 'AND I ADD AND FATHER MADELEINE IS BURIED AH', '/content/librispeech-other/LibriSpeech/test-other/3764/168670/3764-168670-0026.flac': 'THIS OFFERS THE MEANS BUT GIVE ME SOME INFORMATION IN THE FIRST PLACE', '/content/librispeech-other/LibriSpeech/test-other/3764/168670/3764-168670-0007.flac': 'IT IS EASY ENOUGH WITH THE CHILD YOU WILL CARRY HER OUT', '/content/librispeech-other/LibriSpeech/test-other/3764/168670/3764-168670-0003.flac': \"YOU WILL WAIT FOR ME AT A LADY'S HOUSE I SHALL COME TO FETCH YOU\", '/content/librispeech-other/LibriSpeech/test-other/367/130732/367-130732-0020.flac': 'SERVE IN A CHAFING DISH WITH TOASTED CRACKERS OR THIN SLICES OF TOASTED BREAD', '/content/librispeech-other/LibriSpeech/test-other/367/130732/367-130732-0022.flac': 'SO FAR IT HAS BEEN USED MOSTLY FOR GARNISHMENT OF OTHER DISHES AND IT IS ONLY RECENTLY THAT THE HOF BRAU HAS BEEN MAKING A SPECIALTY OF THEM', '/content/librispeech-other/LibriSpeech/test-other/367/130732/367-130732-0019.flac': 'HEAT THIS IN A STEWPAN AND WHEN SIMMERING ADD THE SHERRY AND CRAB MEAT AND LET ALL COOK TOGETHER WITH A SLOW FIRE FOR EIGHT MINUTES', '/content/librispeech-other/LibriSpeech/test-other/367/130732/367-130732-0030.flac': 'PICK OUT THE CRAWFISH AND STRAIN THE BROTH THROUGH A NAPKIN BY PRESSURE INTO A BASIN IN ORDER TO EXTRACT ALL THE ESSENCE FROM THE VEGETABLES', '/content/librispeech-other/LibriSpeech/test-other/367/130732/367-130732-0031.flac': 'PICK THE SHELLS OFF TWENTY FIVE OF THE CRAWFISH TAILS TRIM THEM NEATLY AND SET THEM ASIDE UNTIL WANTED', '/content/librispeech-other/LibriSpeech/test-other/367/130732/367-130732-0001.flac': 'WHEN IS A LOBSTER NOT A LOBSTER WHEN IT IS A CRAYFISH', '/content/librispeech-other/LibriSpeech/test-other/367/130732/367-130732-0023.flac': 'ALL OF THE BETTER CLASS RESTAURANTS HOWEVER WILL SERVE THEM IF YOU ORDER THEM', '/content/librispeech-other/LibriSpeech/test-other/367/130732/367-130732-0010.flac': 'KING OF SHELL FISH', '/content/librispeech-other/LibriSpeech/test-other/367/130732/367-130732-0005.flac': 'IT WAS HERE THAT MOST MAGNIFICENT DINNERS WERE ARRANGED IT WAS HERE THAT EXTRAORDINARY DISHES WERE CONCOCTED BY CHEFS OF WORLD WIDE FAME IT WAS HERE THAT LOBSTER A LA NEWBERG REACHED ITS HIGHEST PERFECTION AND THIS IS THE RECIPE THAT WAS FOLLOWED WHEN IT WAS PREPARED IN THE DELMONICO', '/content/librispeech-other/LibriSpeech/test-other/367/130732/367-130732-0028.flac': 'PUT THESE INGREDIENTS INTO A STEWPAN AND FRY THEM TEN MINUTES THEN THROW IN THE CRAWFISH AND POUR ON THEM HALF A BOTTLE OF FRENCH WHITE WINE', '/content/librispeech-other/LibriSpeech/test-other/367/130732/367-130732-0012.flac': 'I SAY COME TO SAN FRANCISCO ADVISEDLY FOR WHILE THE CRAB IS FOUND ALL ALONG THE COAST IT IS PREPARED NOWHERE SO DELICIOUSLY AS IN SAN FRANCISCO', '/content/librispeech-other/LibriSpeech/test-other/367/130732/367-130732-0021.flac': 'LOBSTER IN MINIATURE', '/content/librispeech-other/LibriSpeech/test-other/367/130732/367-130732-0018.flac': 'CHOP FINE THE ONION SWEET PEPPER AND TOMATO WITH THE ROSEMARY', '/content/librispeech-other/LibriSpeech/test-other/367/130732/367-130732-0016.flac': 'TAKE THE MEAT OF ONE LARGE CRAB SCRAPING OUT ALL OF THE FAT FROM THE SHELL', '/content/librispeech-other/LibriSpeech/test-other/367/130732/367-130732-0000.flac': 'LOBSTERS AND LOBSTERS', '/content/librispeech-other/LibriSpeech/test-other/367/130732/367-130732-0011.flac': 'ONE HAS TO COME TO SAN FRANCISCO TO PARTAKE OF THE KING OF SHELL FISH THE MAMMOTH PACIFIC CRAB', '/content/librispeech-other/LibriSpeech/test-other/367/130732/367-130732-0032.flac': 'RESERVE SOME OF THE SPAWN ALSO HALF OF THE BODY SHELLS WITH WHICH TO MAKE THE CRAWFISH BUTTER TO FINISH THE SOUP', '/content/librispeech-other/LibriSpeech/test-other/367/130732/367-130732-0008.flac': 'PUT THIS IN A DOUBLE BOILER AND LET COOK UNTIL THICK STIRRING CONSTANTLY', '/content/librispeech-other/LibriSpeech/test-other/367/130732/367-130732-0007.flac': 'ONE POUND OF LOBSTER MEAT ONE TEASPOONFUL OF BUTTER ONE HALF PINT OF CREAM YOLKS OF FOUR EGGS ONE WINE GLASS OF SHERRY LOBSTER FAT', '/content/librispeech-other/LibriSpeech/test-other/367/130732/367-130732-0013.flac': \"GOBEY'S PASSED WITH THE FIRE AND THE LITTLE RESTAURANT BEARING HIS NAME AND IN CHARGE OF HIS WIDOW IN UNION SQUARE AVENUE HAS NOT ATTAINED THE FAME OF THE OLD PLACE\", '/content/librispeech-other/LibriSpeech/test-other/367/130732/367-130732-0006.flac': 'LOBSTER A LA NEWBERG', '/content/librispeech-other/LibriSpeech/test-other/367/130732/367-130732-0027.flac': 'MINCE OR CUT INTO SMALL DICE A CARROT AN ONION ONE HEAD OF CELERY AND A FEW PARSLEY ROOTS AND TO THESE ADD A BAY LEAF A SPRIG OF THYME A LITTLE MINIONETTE PEPPER AND TWO OUNCES OF BUTTER', '/content/librispeech-other/LibriSpeech/test-other/367/130732/367-130732-0033.flac': 'THIS BUTTER IS MADE AS FOLLOWS PLACE THE SHELLS ON A BAKING SHEET IN THE OVEN TO DRY LET THE SHELLS COOL AND THEN POUND THEM IN A MORTAR WITH A LITTLE LOBSTER CORAL AND FOUR OUNCES OF FRESH BUTTER THOROUGHLY BRUISING THE WHOLE TOGETHER SO AS TO MAKE A FINE PASTE', '/content/librispeech-other/LibriSpeech/test-other/367/130732/367-130732-0002.flac': 'THIS QUESTION AND ANSWER MIGHT WELL GO INTO THE PRIMER OF INFORMATION FOR THOSE WHO COME TO SAN FRANCISCO FROM THE EAST FOR WHAT IS CALLED A LOBSTER IN SAN FRANCISCO IS NOT A LOBSTER AT ALL BUT A CRAYFISH', '/content/librispeech-other/LibriSpeech/test-other/367/130732/367-130732-0025.flac': 'BISQUE OF CRAWFISH', '/content/librispeech-other/LibriSpeech/test-other/367/130732/367-130732-0026.flac': 'TAKE THIRTY CRAWFISH FROM WHICH REMOVE THE GUT CONTAINING THE GALL IN THE FOLLOWING MANNER TAKE FIRM HOLD OF THE CRAWFISH WITH THE LEFT HAND SO AS TO AVOID BEING PINCHED BY ITS CLAWS WITH THE THUMB AND FOREFINGER OF THE RIGHT HAND PINCH THE EXTREME END OF THE CENTRAL FIN OF THE TAIL AND WITH A SUDDEN JERK THE GUT WILL BE WITHDRAWN', '/content/librispeech-other/LibriSpeech/test-other/367/130732/367-130732-0009.flac': 'SERVE IN A CHAFING DISH WITH THIN SLICES OF DRY TOAST', '/content/librispeech-other/LibriSpeech/test-other/367/130732/367-130732-0017.flac': 'SOAK THE CRAB MEAT IN THE SHERRY TWO HOURS BEFORE COOKING', '/content/librispeech-other/LibriSpeech/test-other/367/130732/367-130732-0003.flac': 'THE PACIFIC CRAYFISH HOWEVER SERVES EVERY PURPOSE AND WHILE MANY CONTEND THAT ITS MEAT IS NOT SO DELICATE IN FLAVOR AS THAT OF ITS EASTERN COUSIN THE CALIFORNIAN WILL AS STRENUOUSLY INSIST THAT IT IS BETTER BUT OF COURSE SOMETHING MUST ALWAYS BE ALLOWED FOR THE PATRIOTISM OF THE CALIFORNIAN', '/content/librispeech-other/LibriSpeech/test-other/367/130732/367-130732-0015.flac': \"GOBEY'S CRAB STEW\", '/content/librispeech-other/LibriSpeech/test-other/367/130732/367-130732-0004.flac': 'A BOOK COULD BE WRITTEN ABOUT THIS RESTAURANT AND THEN ALL WOULD NOT BE TOLD FOR ALL ITS SECRETS CAN NEVER BE KNOWN', '/content/librispeech-other/LibriSpeech/test-other/367/130732/367-130732-0029.flac': 'ALLOW THIS TO BOIL AND THEN ADD A QUART OF STRONG CONSOMME AND LET ALL CONTINUE BOILING FOR HALF AN HOUR', '/content/librispeech-other/LibriSpeech/test-other/367/130732/367-130732-0024.flac': 'THIS IS THE RECIPE FOR EIGHT PEOPLE AND IT IS WELL WORTH TRYING IF YOU ARE GIVING A DINNER OF IMPORTANCE', '/content/librispeech-other/LibriSpeech/test-other/367/130732/367-130732-0014.flac': \"IT IS POSSIBLE THAT SHE KNOWS THE SECRET OF PREPARING CRAB AS IT WAS PREPARED IN THE GOBEY'S OF BEFORE THE FIRE BUT HIS PRESTIGE DID NOT DESCEND TO HER\", '/content/librispeech-other/LibriSpeech/test-other/367/293981/367-293981-0006.flac': 'IT CANNOT BE THE MOOR ANSWERED DON QUIXOTE FOR THOSE UNDER ENCHANTMENT DO NOT LET THEMSELVES BE SEEN BY ANYONE', '/content/librispeech-other/LibriSpeech/test-other/367/293981/367-293981-0008.flac': 'MINE COULD SPEAK TOO SAID DON QUIXOTE BUT THAT IS NOT A SUFFICIENT REASON FOR BELIEVING THAT WHAT WE SEE IS THE ENCHANTED MOOR', '/content/librispeech-other/LibriSpeech/test-other/367/293981/367-293981-0005.flac': \"DIDN'T I SAY SO WORSE LUCK TO MY LINE SAID SANCHO\", '/content/librispeech-other/LibriSpeech/test-other/367/293981/367-293981-0020.flac': 'SANCHO TOOK IT AND AS HE WAS RAISING IT TO HIS MOUTH HE WAS STOPPED BY THE CRIES OF HIS MASTER EXCLAIMING SANCHO MY SON DRINK NOT WATER DRINK IT NOT MY SON FOR IT WILL KILL THEE SEE HERE I HAVE THE BLESSED BALSAM AND HE HELD UP THE FLASK OF LIQUOR AND WITH DRINKING TWO DROPS OF IT THOU WILT CERTAINLY BE RESTORED', '/content/librispeech-other/LibriSpeech/test-other/367/293981/367-293981-0000.flac': 'I SWEAR IT ANSWERED SANCHO', '/content/librispeech-other/LibriSpeech/test-other/367/293981/367-293981-0014.flac': 'IF YOUR WORSHIP KNEW THAT RETURNED SANCHO WOE BETIDE ME AND ALL MY KINDRED WHY DID YOU LET ME TASTE IT', '/content/librispeech-other/LibriSpeech/test-other/367/293981/367-293981-0003.flac': 'THOUGH YOUR WORSHIP WAS NOT SO BADLY OFF HAVING IN YOUR ARMS THAT INCOMPARABLE BEAUTY YOU SPOKE OF BUT I WHAT DID I HAVE EXCEPT THE HEAVIEST WHACKS I THINK I HAD IN ALL MY LIFE', '/content/librispeech-other/LibriSpeech/test-other/367/293981/367-293981-0004.flac': 'UNLUCKY ME AND THE MOTHER THAT BORE ME', '/content/librispeech-other/LibriSpeech/test-other/367/293981/367-293981-0009.flac': 'THE OFFICER TURNED TO HIM AND SAID WELL HOW GOES IT GOOD MAN', '/content/librispeech-other/LibriSpeech/test-other/367/293981/367-293981-0011.flac': 'TO BE BRIEF HE TOOK THE MATERIALS OF WHICH HE MADE A COMPOUND MIXING THEM ALL AND BOILING THEM A GOOD WHILE UNTIL IT SEEMED TO HIM THEY HAD COME TO PERFECTION', '/content/librispeech-other/LibriSpeech/test-other/367/293981/367-293981-0016.flac': 'THEN THIS IS AN INN SAID DON QUIXOTE', '/content/librispeech-other/LibriSpeech/test-other/367/293981/367-293981-0019.flac': 'HE SAW HIM RISING AND FALLING IN THE AIR WITH SUCH GRACE AND NIMBLENESS THAT HAD HIS RAGE ALLOWED HIM IT IS MY BELIEF HE WOULD HAVE LAUGHED', '/content/librispeech-other/LibriSpeech/test-other/367/293981/367-293981-0015.flac': 'SEARCH YOUR MEMORY AND IF YOU FIND ANYTHING OF THIS KIND YOU NEED ONLY TELL ME OF IT AND I PROMISE YOU BY THE ORDER OF KNIGHTHOOD WHICH I HAVE RECEIVED TO PROCURE YOU SATISFACTION AND REPARATION TO THE UTMOST OF YOUR DESIRE', '/content/librispeech-other/LibriSpeech/test-other/367/293981/367-293981-0018.flac': 'THE CRIES OF THE POOR BLANKETED WRETCH WERE SO LOUD THAT THEY REACHED THE EARS OF HIS MASTER WHO HALTING TO LISTEN ATTENTIVELY WAS PERSUADED THAT SOME NEW ADVENTURE WAS COMING UNTIL HE CLEARLY PERCEIVED THAT IT WAS HIS SQUIRE WHO UTTERED THEM', '/content/librispeech-other/LibriSpeech/test-other/367/293981/367-293981-0017.flac': 'AND A VERY RESPECTABLE ONE SAID THE INNKEEPER', '/content/librispeech-other/LibriSpeech/test-other/367/293981/367-293981-0010.flac': 'SANCHO GOT UP WITH PAIN ENOUGH IN HIS BONES AND WENT AFTER THE INNKEEPER IN THE DARK AND MEETING THE OFFICER WHO WAS LOOKING TO SEE WHAT HAD BECOME OF HIS ENEMY HE SAID TO HIM SENOR WHOEVER YOU ARE DO US THE FAVOUR AND KINDNESS TO GIVE US A LITTLE ROSEMARY OIL SALT AND WINE FOR IT IS WANTED TO CURE ONE OF THE BEST KNIGHTS ERRANT ON EARTH WHO LIES ON YONDER BED WOUNDED BY THE HANDS OF THE ENCHANTED MOOR THAT IS IN THIS INN', '/content/librispeech-other/LibriSpeech/test-other/367/293981/367-293981-0012.flac': 'SANCHO PANZA WHO ALSO REGARDED THE AMENDMENT OF HIS MASTER AS MIRACULOUS BEGGED HIM TO GIVE HIM WHAT WAS LEFT IN THE PIGSKIN WHICH WAS NO SMALL QUANTITY', '/content/librispeech-other/LibriSpeech/test-other/367/293981/367-293981-0001.flac': \"I SAY SO CONTINUED DON QUIXOTE BECAUSE I HATE TAKING AWAY ANYONE'S GOOD NAME\", '/content/librispeech-other/LibriSpeech/test-other/367/293981/367-293981-0002.flac': \"I SAY REPLIED SANCHO THAT I SWEAR TO HOLD MY TONGUE ABOUT IT TILL THE END OF YOUR WORSHIP'S DAYS AND GOD GRANT I MAY BE ABLE TO LET IT OUT TOMORROW\", '/content/librispeech-other/LibriSpeech/test-other/367/293981/367-293981-0007.flac': \"IF THEY DON'T LET THEMSELVES BE SEEN THEY LET THEMSELVES BE FELT SAID SANCHO IF NOT LET MY SHOULDERS SPEAK TO THE POINT\", '/content/librispeech-other/LibriSpeech/test-other/367/293981/367-293981-0013.flac': 'DON QUIXOTE CONSENTED AND HE TAKING IT WITH BOTH HANDS IN GOOD FAITH AND WITH A BETTER WILL GULPED DOWN AND DRAINED OFF VERY LITTLE LESS THAN HIS MASTER', '/content/librispeech-other/LibriSpeech/test-other/3005/163390/3005-163390-0016.flac': 'MY YOU OUGHT TO SEEN OLD HENRY THE EIGHT WHEN HE WAS IN BLOOM HE WAS A BLOSSOM', '/content/librispeech-other/LibriSpeech/test-other/3005/163390/3005-163390-0021.flac': \"TAKE THEM ALL AROUND THEY'RE A MIGHTY ORNERY LOT IT'S THE WAY THEY'RE RAISED\", '/content/librispeech-other/LibriSpeech/test-other/3005/163390/3005-163390-0008.flac': 'YOU BET IT IS THE JEDGE IS RIGHT EVERYBODY SINGS OUT', '/content/librispeech-other/LibriSpeech/test-other/3005/163390/3005-163390-0009.flac': 'WE STRUCK THE RAFT AT THE SAME TIME AND IN LESS THAN TWO SECONDS WE WAS GLIDING DOWN STREAM ALL DARK AND STILL AND EDGING TOWARDS THE MIDDLE OF THE RIVER NOBODY SAYING A WORD', '/content/librispeech-other/LibriSpeech/test-other/3005/163390/3005-163390-0025.flac': 'WHEN I WAKED UP JUST AT DAYBREAK HE WAS SITTING THERE WITH HIS HEAD DOWN BETWIXT HIS KNEES MOANING AND MOURNING TO HIMSELF', '/content/librispeech-other/LibriSpeech/test-other/3005/163390/3005-163390-0023.flac': \"NOW DE DUKE HE'S A TOLERBLE LIKELY MAN IN SOME WAYS\", '/content/librispeech-other/LibriSpeech/test-other/3005/163390/3005-163390-0000.flac': 'ANDBUT NEVER MIND THE REST OF HIS OUTFIT IT WAS JUST WILD BUT IT WAS AWFUL FUNNY', '/content/librispeech-other/LibriSpeech/test-other/3005/163390/3005-163390-0006.flac': 'JUST A WORD GENTLEMEN THEY STOPPED TO LISTEN', '/content/librispeech-other/LibriSpeech/test-other/3005/163390/3005-163390-0003.flac': 'THE DUKE SAYS YES', '/content/librispeech-other/LibriSpeech/test-other/3005/163390/3005-163390-0026.flac': \"IT DON'T SEEM NATURAL BUT I RECKON IT'S SO\", '/content/librispeech-other/LibriSpeech/test-other/3005/163390/3005-163390-0004.flac': 'EVERYBODY SINGS OUT SOLD', '/content/librispeech-other/LibriSpeech/test-other/3005/163390/3005-163390-0014.flac': \"WELL THAT'S WHAT I'M A SAYING ALL KINGS IS MOSTLY RAPSCALLIONS AS FUR AS I CAN MAKE OUT IS DAT SO\", '/content/librispeech-other/LibriSpeech/test-other/3005/163390/3005-163390-0018.flac': 'WELL HENRY HE TAKES A NOTION HE WANTS TO GET UP SOME TROUBLE WITH THIS COUNTRY', '/content/librispeech-other/LibriSpeech/test-other/3005/163390/3005-163390-0011.flac': 'GREENHORNS FLATHEADS', '/content/librispeech-other/LibriSpeech/test-other/3005/163390/3005-163390-0022.flac': 'WELL THEY ALL DO JIM', '/content/librispeech-other/LibriSpeech/test-other/3005/163390/3005-163390-0030.flac': 'JIS AS LOUD AS I COULD YELL', '/content/librispeech-other/LibriSpeech/test-other/3005/163390/3005-163390-0024.flac': \"THIS ONE'S A MIDDLING HARD LOT FOR A DUKE\", '/content/librispeech-other/LibriSpeech/test-other/3005/163390/3005-163390-0012.flac': \"NO I SAYS IT DON'T\", '/content/librispeech-other/LibriSpeech/test-other/3005/163390/3005-163390-0029.flac': 'I LAY I MAKE YOU MINE', '/content/librispeech-other/LibriSpeech/test-other/3005/163390/3005-163390-0027.flac': 'HE WAS OFTEN MOANING AND MOURNING THAT WAY NIGHTS WHEN HE JUDGED I WAS ASLEEP AND SAYING PO LITTLE LIZABETH', '/content/librispeech-other/LibriSpeech/test-other/3005/163390/3005-163390-0005.flac': 'BUT A BIG FINE LOOKING MAN JUMPS UP ON A BENCH AND SHOUTS HOLD ON', '/content/librispeech-other/LibriSpeech/test-other/3005/163390/3005-163390-0007.flac': 'WHAT WE WANT IS TO GO OUT OF HERE QUIET AND TALK THIS SHOW UP AND SELL THE REST OF THE TOWN', '/content/librispeech-other/LibriSpeech/test-other/3005/163390/3005-163390-0013.flac': \"WELL IT DON'T BECAUSE IT'S IN THE BREED I RECKON THEY'RE ALL ALIKE\", '/content/librispeech-other/LibriSpeech/test-other/3005/163390/3005-163390-0020.flac': 'ALL I SAY IS KINGS IS KINGS AND YOU GOT TO MAKE ALLOWANCES', '/content/librispeech-other/LibriSpeech/test-other/3005/163390/3005-163390-0002.flac': 'TWENTY PEOPLE SINGS OUT', '/content/librispeech-other/LibriSpeech/test-other/3005/163390/3005-163390-0019.flac': \"S'POSE HE OPENED HIS MOUTHWHAT THEN\", '/content/librispeech-other/LibriSpeech/test-other/3005/163390/3005-163390-0015.flac': 'AND LOOK AT CHARLES SECOND AND LOUIS FOURTEEN AND LOUIS FIFTEEN AND JAMES SECOND AND EDWARD SECOND AND RICHARD THIRD AND FORTY MORE BESIDES ALL THEM SAXON HEPTARCHIES THAT USED TO RIP AROUND SO IN OLD TIMES AND RAISE CAIN', '/content/librispeech-other/LibriSpeech/test-other/3005/163390/3005-163390-0001.flac': 'THE PEOPLE MOST KILLED THEMSELVES LAUGHING AND WHEN THE KING GOT DONE CAPERING AND CAPERED OFF BEHIND THE SCENES THEY ROARED AND CLAPPED AND STORMED AND HAW HAWED TILL HE COME BACK AND DONE IT OVER AGAIN AND AFTER THAT THEY MADE HIM DO IT ANOTHER TIME', '/content/librispeech-other/LibriSpeech/test-other/3005/163390/3005-163390-0010.flac': 'WE NEVER SHOWED A LIGHT TILL WE WAS ABOUT TEN MILE BELOW THE VILLAGE', '/content/librispeech-other/LibriSpeech/test-other/3005/163390/3005-163390-0028.flac': 'DOAN YOU HEAR ME SHET DE DO', '/content/librispeech-other/LibriSpeech/test-other/3005/163390/3005-163390-0017.flac': 'RING UP FAIR ROSAMUN', '/content/librispeech-other/LibriSpeech/test-other/3005/163399/3005-163399-0003.flac': 'SO THEN SHE STARTED FOR THE HOUSE LEADING ME BY THE HAND AND THE CHILDREN TAGGING AFTER', '/content/librispeech-other/LibriSpeech/test-other/3005/163399/3005-163399-0019.flac': 'MISSUS PHELPS SHE JUMPS FOR HIM AND SAYS', '/content/librispeech-other/LibriSpeech/test-other/3005/163399/3005-163399-0016.flac': 'I OPENED MY MOUTH TO BEGIN BUT SHE GRABBED ME AND HUSTLED ME IN BEHIND THE BED AND SAYS HERE HE COMES', '/content/librispeech-other/LibriSpeech/test-other/3005/163399/3005-163399-0009.flac': \"YOU MUST A MET HIM ON THE ROAD DIDN'T YOU OLDISH MAN WITH A\", '/content/librispeech-other/LibriSpeech/test-other/3005/163399/3005-163399-0004.flac': 'WHEN WE GOT THERE SHE SET ME DOWN IN A SPLIT BOTTOMED CHAIR AND SET HERSELF DOWN ON A LITTLE LOW STOOL IN FRONT OF ME HOLDING BOTH OF MY HANDS AND SAYS', '/content/librispeech-other/LibriSpeech/test-other/3005/163399/3005-163399-0011.flac': 'IT WAS KINDER THIN ICE BUT I SAYS', '/content/librispeech-other/LibriSpeech/test-other/3005/163399/3005-163399-0021.flac': \"I CAN'T IMAGINE SAYS THE OLD GENTLEMAN AND I MUST SAY IT MAKES ME DREADFUL UNEASY\", '/content/librispeech-other/LibriSpeech/test-other/3005/163399/3005-163399-0018.flac': 'I SEE I WAS IN A FIX NOW', '/content/librispeech-other/LibriSpeech/test-other/3005/163399/3005-163399-0012.flac': 'I HAD MY MIND ON THE CHILDREN ALL THE TIME I WANTED TO GET THEM OUT TO ONE SIDE AND PUMP THEM A LITTLE AND FIND OUT WHO I WAS', '/content/librispeech-other/LibriSpeech/test-other/3005/163399/3005-163399-0023.flac': \"HE MUST A COME AND YOU'VE MISSED HIM ALONG THE ROAD\", '/content/librispeech-other/LibriSpeech/test-other/3005/163399/3005-163399-0027.flac': \"I HAIN'T NO IDEA WHO IS IT\", '/content/librispeech-other/LibriSpeech/test-other/3005/163399/3005-163399-0026.flac': 'THE OLD GENTLEMAN STARED AND SAYS', '/content/librispeech-other/LibriSpeech/test-other/3005/163399/3005-163399-0000.flac': 'PHELPS WAS ONE OF THESE LITTLE ONE HORSE COTTON PLANTATIONS AND THEY ALL LOOK ALIKE', '/content/librispeech-other/LibriSpeech/test-other/3005/163399/3005-163399-0014.flac': \"I SEE IT WARN'T A BIT OF USE TO TRY TO GO AHEAD I'D GOT TO THROW UP MY HAND\", '/content/librispeech-other/LibriSpeech/test-other/3005/163399/3005-163399-0029.flac': 'BEING TOM SAWYER WAS EASY AND COMFORTABLE AND IT STAYED EASY AND COMFORTABLE TILL BY AND BY I HEAR A STEAMBOAT COUGHING ALONG DOWN THE RIVER', '/content/librispeech-other/LibriSpeech/test-other/3005/163399/3005-163399-0013.flac': 'PRETTY SOON SHE MADE THE COLD CHILLS STREAK ALL DOWN MY BACK BECAUSE SHE SAYS', '/content/librispeech-other/LibriSpeech/test-other/3005/163399/3005-163399-0005.flac': \"WELL IT'S LUCKY BECAUSE SOMETIMES PEOPLE DO GET HURT\", '/content/librispeech-other/LibriSpeech/test-other/3005/163399/3005-163399-0001.flac': 'I WENT AROUND AND CLUMB OVER THE BACK STILE BY THE ASH HOPPER AND STARTED FOR THE KITCHEN', '/content/librispeech-other/LibriSpeech/test-other/3005/163399/3005-163399-0007.flac': 'YES IT WAS MORTIFICATIONTHAT WAS IT', '/content/librispeech-other/LibriSpeech/test-other/3005/163399/3005-163399-0010.flac': 'WHY CHILD IT LL BE STOLE', '/content/librispeech-other/LibriSpeech/test-other/3005/163399/3005-163399-0017.flac': \"CHILDREN DON'T YOU SAY A WORD\", '/content/librispeech-other/LibriSpeech/test-other/3005/163399/3005-163399-0006.flac': 'AND I THINK HE DIED AFTERWARDS HE WAS A BAPTIST', '/content/librispeech-other/LibriSpeech/test-other/3005/163399/3005-163399-0025.flac': \"WHY SILAS LOOK YONDER UP THE ROAD AIN'T THAT SOMEBODY COMING\", '/content/librispeech-other/LibriSpeech/test-other/3005/163399/3005-163399-0015.flac': \"SO I SAYS TO MYSELF HERE'S ANOTHER PLACE WHERE I GOT TO RESK THE TRUTH\", '/content/librispeech-other/LibriSpeech/test-other/3005/163399/3005-163399-0008.flac': \"YOUR UNCLE'S BEEN UP TO THE TOWN EVERY DAY TO FETCH YOU\", '/content/librispeech-other/LibriSpeech/test-other/3005/163399/3005-163399-0022.flac': \"UNEASY SHE SAYS I'M READY TO GO DISTRACTED\", '/content/librispeech-other/LibriSpeech/test-other/3005/163399/3005-163399-0024.flac': \"OH DON'T DISTRESS ME ANY MORE'N I'M ALREADY DISTRESSED\", '/content/librispeech-other/LibriSpeech/test-other/3005/163399/3005-163399-0002.flac': \"I OUT WITH A YES'M BEFORE I THOUGHT\", '/content/librispeech-other/LibriSpeech/test-other/3005/163399/3005-163399-0020.flac': 'HAS HE COME NO SAYS HER HUSBAND', '/content/librispeech-other/LibriSpeech/test-other/3005/163399/3005-163399-0028.flac': \"IT'S TOM SAWYER\", '/content/librispeech-other/LibriSpeech/test-other/3005/163399/3005-163399-0030.flac': \"THEN I SAYS TO MYSELF S'POSE TOM SAWYER COMES DOWN ON THAT BOAT\", '/content/librispeech-other/LibriSpeech/test-other/3005/163389/3005-163389-0003.flac': \"SHERBURN RUN HIS EYE SLOW ALONG THE CROWD AND WHEREVER IT STRUCK THE PEOPLE TRIED A LITTLE TO OUT GAZE HIM BUT THEY COULDN'T THEY DROPPED THEIR EYES AND LOOKED SNEAKY\", '/content/librispeech-other/LibriSpeech/test-other/3005/163389/3005-163389-0013.flac': 'AND ONE OR TWO WOMEN BEGUN TO SCREAM', '/content/librispeech-other/LibriSpeech/test-other/3005/163389/3005-163389-0008.flac': 'BUT A MOB WITHOUT ANY MAN AT THE HEAD OF IT IS BENEATH PITIFULNESS', '/content/librispeech-other/LibriSpeech/test-other/3005/163389/3005-163389-0010.flac': 'THE CROWD WASHED BACK SUDDEN AND THEN BROKE ALL APART AND WENT TEARING OFF EVERY WHICH WAY AND BUCK HARKNESS HE HEELED IT AFTER THEM LOOKING TOLERABLE CHEAP', '/content/librispeech-other/LibriSpeech/test-other/3005/163389/3005-163389-0011.flac': \"YOU CAN'T BE TOO CAREFUL\", '/content/librispeech-other/LibriSpeech/test-other/3005/163389/3005-163389-0017.flac': 'HE SHED THEM SO THICK THEY KIND OF CLOGGED UP THE AIR AND ALTOGETHER HE SHED SEVENTEEN SUITS', '/content/librispeech-other/LibriSpeech/test-other/3005/163389/3005-163389-0014.flac': \"SO THEN THE RINGMASTER HE MADE A LITTLE SPEECH AND SAID HE HOPED THERE WOULDN'T BE NO DISTURBANCE AND IF THE MAN WOULD PROMISE HE WOULDN'T MAKE NO MORE TROUBLE HE WOULD LET HIM RIDE IF HE THOUGHT HE COULD STAY ON THE HORSE\", '/content/librispeech-other/LibriSpeech/test-other/3005/163389/3005-163389-0004.flac': \"THE AVERAGE MAN'S A COWARD\", '/content/librispeech-other/LibriSpeech/test-other/3005/163389/3005-163389-0007.flac': \"YOU DIDN'T WANT TO COME\", '/content/librispeech-other/LibriSpeech/test-other/3005/163389/3005-163389-0018.flac': 'WHY IT WAS ONE OF HIS OWN MEN', '/content/librispeech-other/LibriSpeech/test-other/3005/163389/3005-163389-0006.flac': 'SO THEY ALWAYS ACQUIT AND THEN A MAN GOES IN THE NIGHT WITH A HUNDRED MASKED COWARDS AT HIS BACK AND LYNCHES THE RASCAL', '/content/librispeech-other/LibriSpeech/test-other/3005/163389/3005-163389-0005.flac': \"BECAUSE THEY'RE AFRAID THE MAN'S FRIENDS WILL SHOOT THEM IN THE BACK IN THE DARKAND IT'S JUST WHAT THEY WOULD DO\", '/content/librispeech-other/LibriSpeech/test-other/3005/163389/3005-163389-0009.flac': 'NOW LEAVE AND TAKE YOUR HALF A MAN WITH YOU TOSSING HIS GUN UP ACROSS HIS LEFT ARM AND COCKING IT WHEN HE SAYS THIS', '/content/librispeech-other/LibriSpeech/test-other/3005/163389/3005-163389-0012.flac': \"THEY ARGUED AND TRIED TO KEEP HIM OUT BUT HE WOULDN'T LISTEN AND THE WHOLE SHOW COME TO A STANDSTILL\", '/content/librispeech-other/LibriSpeech/test-other/3005/163389/3005-163389-0016.flac': 'AND THE HORSE A GOING LIKE A HOUSE AFIRE TOO', '/content/librispeech-other/LibriSpeech/test-other/3005/163389/3005-163389-0002.flac': 'THE STILLNESS WAS AWFUL CREEPY AND UNCOMFORTABLE', '/content/librispeech-other/LibriSpeech/test-other/3005/163389/3005-163389-0000.flac': \"THEY SWARMED UP IN FRONT OF SHERBURN'S PALINGS AS THICK AS THEY COULD JAM TOGETHER AND YOU COULDN'T HEAR YOURSELF THINK FOR THE NOISE\", '/content/librispeech-other/LibriSpeech/test-other/3005/163389/3005-163389-0001.flac': 'SOME SUNG OUT TEAR DOWN THE FENCE TEAR DOWN THE FENCE', '/content/librispeech-other/LibriSpeech/test-other/3005/163389/3005-163389-0015.flac': \"IT WARN'T FUNNY TO ME THOUGH I WAS ALL OF A TREMBLE TO SEE HIS DANGER\", '/content/librispeech-other/LibriSpeech/test-other/3005/163391/3005-163391-0004.flac': 'WHER YOU BOUND FOR YOUNG MAN', '/content/librispeech-other/LibriSpeech/test-other/3005/163391/3005-163391-0023.flac': 'SO THEN THEY WAITED FOR A STEAMBOAT', '/content/librispeech-other/LibriSpeech/test-other/3005/163391/3005-163391-0014.flac': \"BUT IT'LL BE LOVELY WISHT I WAS A GOING\", '/content/librispeech-other/LibriSpeech/test-other/3005/163391/3005-163391-0001.flac': \"THE KING'S DUDS WAS ALL BLACK AND HE DID LOOK REAL SWELL AND STARCHY\", '/content/librispeech-other/LibriSpeech/test-other/3005/163391/3005-163391-0019.flac': \"WHEN THEY'RE DEEP THEY WON'T STOP FOR A HAIL\", '/content/librispeech-other/LibriSpeech/test-other/3005/163391/3005-163391-0009.flac': \"BUT THEN I SAYS AGAIN NO I RECKON IT AIN'T HIM OR ELSE HE WOULDN'T BE PADDLING UP THE RIVER YOU AIN'T HIM ARE YOU\", '/content/librispeech-other/LibriSpeech/test-other/3005/163391/3005-163391-0002.flac': \"WHY BEFORE HE LOOKED LIKE THE ORNERIEST OLD RIP THAT EVER WAS BUT NOW WHEN HE'D TAKE OFF HIS NEW WHITE BEAVER AND MAKE A BOW AND DO A SMILE HE LOOKED THAT GRAND AND GOOD AND PIOUS THAT YOU'D SAY HE HAD WALKED RIGHT OUT OF THE ARK AND MAYBE WAS OLD LEVITICUS HIMSELF\", '/content/librispeech-other/LibriSpeech/test-other/3005/163391/3005-163391-0013.flac': \"I'M GOING IN A SHIP NEXT WEDNESDAY FOR RYO JANEERO WHERE MY UNCLE LIVES\", '/content/librispeech-other/LibriSpeech/test-other/3005/163391/3005-163391-0000.flac': \"WHICH WAS SOUND ENOUGH JUDGMENT BUT YOU TAKE THE AVERAGE MAN AND HE WOULDN'T WAIT FOR HIM TO HOWL\", '/content/librispeech-other/LibriSpeech/test-other/3005/163391/3005-163391-0010.flac': \"NO MY NAME'S BLODGETT ELEXANDER BLODGETT REVEREND ELEXANDER BLODGETT I S'POSE I MUST SAY AS I'M ONE O THE LORD'S POOR SERVANTS\", '/content/librispeech-other/LibriSpeech/test-other/3005/163391/3005-163391-0016.flac': 'WELL THEY COULD BE WORSE OFF', '/content/librispeech-other/LibriSpeech/test-other/3005/163391/3005-163391-0026.flac': 'THEN ONE OF THEM SAYS KIND OF SOFT AND GENTLE', '/content/librispeech-other/LibriSpeech/test-other/3005/163391/3005-163391-0005.flac': 'GIT ABOARD SAYS THE KING', '/content/librispeech-other/LibriSpeech/test-other/3005/163391/3005-163391-0012.flac': \"TOO BAD TOO BAD HE COULDN'T A LIVED TO SEE HIS BROTHERS POOR SOUL\", '/content/librispeech-other/LibriSpeech/test-other/3005/163391/3005-163391-0003.flac': 'JIM CLEANED UP THE CANOE AND I GOT MY PADDLE READY', '/content/librispeech-other/LibriSpeech/test-other/3005/163391/3005-163391-0022.flac': 'NOW HUSTLE BACK RIGHT OFF AND FETCH THE DUKE UP HERE AND THE NEW CARPET BAGS', '/content/librispeech-other/LibriSpeech/test-other/3005/163391/3005-163391-0008.flac': \"HE ASKED THE KING WHERE HE WAS GOING AND THE KING TOLD HIM HE'D COME DOWN THE RIVER AND LANDED AT THE OTHER VILLAGE THIS MORNING AND NOW HE WAS GOING UP A FEW MILE TO SEE AN OLD FRIEND ON A FARM UP THERE THE YOUNG FELLOW SAYS\", '/content/librispeech-other/LibriSpeech/test-other/3005/163391/3005-163391-0015.flac': \"MARY JANE'S NINETEEN SUSAN'S FIFTEEN AND JOANNA'S ABOUT FOURTEENTHAT'S THE ONE THAT GIVES HERSELF TO GOOD WORKS AND HAS A HARE LIP POOR THINGS\", '/content/librispeech-other/LibriSpeech/test-other/3005/163391/3005-163391-0017.flac': \"OLD PETER HAD FRIENDS AND THEY AIN'T GOING TO LET THEM COME TO NO HARM\", '/content/librispeech-other/LibriSpeech/test-other/3005/163391/3005-163391-0024.flac': \"BUT THE KING WAS CA'M HE SAYS\", '/content/librispeech-other/LibriSpeech/test-other/3005/163391/3005-163391-0018.flac': \"BLAMED IF HE DIDN'T INQUIRE ABOUT EVERYBODY AND EVERYTHING IN THAT BLESSED TOWN AND ALL ABOUT THE WILKSES AND ABOUT PETER'S BUSINESSWHICH WAS A TANNER AND ABOUT GEORGE'SWHICH WAS A CARPENTER AND ABOUT HARVEY'SWHICH WAS A DISSENTERING MINISTER AND SO ON AND SO ON THEN HE SAYS\", '/content/librispeech-other/LibriSpeech/test-other/3005/163391/3005-163391-0020.flac': 'WAS PETER WILKS WELL OFF', '/content/librispeech-other/LibriSpeech/test-other/3005/163391/3005-163391-0025.flac': 'THEY GIVE A GLANCE AT ONE ANOTHER AND NODDED THEIR HEADS AS MUCH AS TO SAY WHAT D I TELL YOU', '/content/librispeech-other/LibriSpeech/test-other/3005/163391/3005-163391-0007.flac': 'THE YOUNG CHAP WAS MIGHTY THANKFUL SAID IT WAS TOUGH WORK TOTING HIS BAGGAGE SUCH WEATHER', '/content/librispeech-other/LibriSpeech/test-other/3005/163391/3005-163391-0011.flac': \"YOU SEE HE WAS PRETTY OLD AND GEORGE'S G'YIRLS WAS TOO YOUNG TO BE MUCH COMPANY FOR HIM EXCEPT MARY JANE THE RED HEADED ONE AND SO HE WAS KINDER LONESOME AFTER GEORGE AND HIS WIFE DIED AND DIDN'T SEEM TO CARE MUCH TO LIVE\", '/content/librispeech-other/LibriSpeech/test-other/3005/163391/3005-163391-0021.flac': 'WHEN WE STRUCK THE BOAT SHE WAS ABOUT DONE LOADING AND PRETTY SOON SHE GOT OFF', '/content/librispeech-other/LibriSpeech/test-other/3005/163391/3005-163391-0006.flac': 'I DONE SO AND THEN WE ALL THREE STARTED ON AGAIN', '/content/librispeech-other/LibriSpeech/test-other/3331/159605/3331-159605-0019.flac': 'AT A STREET CORNER A BLACK EYED SCHOOL BOY WAS PARTING FROM A ROSY FACED SCHOOL GIRL WHOSE MUSIC ROLL HE WAS RELUCTANTLY SURRENDERING', '/content/librispeech-other/LibriSpeech/test-other/3331/159605/3331-159605-0045.flac': 'BUT POLLY IT WOULD HAVE BEEN A GRAND THING FOR YOU', '/content/librispeech-other/LibriSpeech/test-other/3331/159605/3331-159605-0046.flac': 'I M ODD YOU KNOW AND PREFER TO BE AN INDEPENDENT SPINSTER AND TEACH MUSIC ALL MY DAYS', '/content/librispeech-other/LibriSpeech/test-other/3331/159605/3331-159605-0006.flac': 'LET ME SEE HOW CAN I BEGIN', '/content/librispeech-other/LibriSpeech/test-other/3331/159605/3331-159605-0004.flac': 'WHAT A SPITEFUL THING I AM', '/content/librispeech-other/LibriSpeech/test-other/3331/159605/3331-159605-0034.flac': 'PERHAPS SHE LL JILT HIM', '/content/librispeech-other/LibriSpeech/test-other/3331/159605/3331-159605-0030.flac': 'SHE THOUGHT SHE HAD A GOOD DEAL OF THE COQUETTE IN HER AND I VE NO DOUBT THAT WITH TIME AND TRAINING SHE WOULD HAVE BECOME A VERY DANGEROUS LITTLE PERSON BUT NOW SHE WAS FAR TOO TRANSPARENT AND STRAIGHTFORWARD BY NATURE EVEN TO TELL A WHITE LIE CLEVERLY', '/content/librispeech-other/LibriSpeech/test-other/3331/159605/3331-159605-0031.flac': 'HE WAS GONE BEFORE SHE COULD DO ANYTHING BUT LOOK UP AT HIM WITH A REMORSEFUL FACE AND SHE WALKED ON FEELING THAT THE FIRST AND PERHAPS THE ONLY LOVER SHE WOULD EVER HAVE HAD READ HIS ANSWER AND ACCEPTED IT IN SILENCE', '/content/librispeech-other/LibriSpeech/test-other/3331/159605/3331-159605-0036.flac': 'MINNIE SAID THE OTHER DAY SHE WISHED SHE WAS A PIGEON SO SHE COULD PADDLE IN THE PUDDLES AND NOT FUSS ABOUT RUBBERS', '/content/librispeech-other/LibriSpeech/test-other/3331/159605/3331-159605-0003.flac': 'JUST SUPPOSE IT IS TRUE THAT HE DOES ASK ME AND I SAY YES', '/content/librispeech-other/LibriSpeech/test-other/3331/159605/3331-159605-0002.flac': \"I VE TRIED IT AND LIKED IT AND MAYBE THIS IS THE CONSEQUENCE OF THAT NIGHT'S FUN\", '/content/librispeech-other/LibriSpeech/test-other/3331/159605/3331-159605-0024.flac': \"BUT I KNOW HER BETTER AND I ASSURE YOU THAT SHE DOES IMPROVE SHE TRIES TO MEND HER FAULTS THOUGH SHE WON'T OWN IT AND WILL SURPRISE YOU SOME DAY BY THE AMOUNT OF HEART AND SENSE AND GOODNESS SHE HAS GOT\", '/content/librispeech-other/LibriSpeech/test-other/3331/159605/3331-159605-0033.flac': \"WAGGING TO AND FRO AS USUAL WHAT'S THE NEWS WITH YOU\", '/content/librispeech-other/LibriSpeech/test-other/3331/159605/3331-159605-0014.flac': 'POLLY FELT A VERY CORDIAL FRIENDSHIP FOR MISTER SYDNEY BUT NOT ONE PARTICLE OF THE LOVE WHICH IS THE ONLY COIN IN WHICH LOVE CAN BE TRULY PAID', '/content/librispeech-other/LibriSpeech/test-other/3331/159605/3331-159605-0043.flac': \"HE MEANT TO GO AWAY BEFORE THAT SO DON'T THINK HIS HEART IS BROKEN OR MIND WHAT SILLY TATTLERS SAY\", '/content/librispeech-other/LibriSpeech/test-other/3331/159605/3331-159605-0028.flac': \"HE WAS QUICKER TO TAKE A HINT THAN SHE HAD EXPECTED AND BEING BOTH PROUD AND GENEROUS RESOLVED TO SETTLE THE MATTER AT ONCE FOR POLLY'S SAKE AS WELL AS HIS OWN\", '/content/librispeech-other/LibriSpeech/test-other/3331/159605/3331-159605-0038.flac': \"DON'T YOU THINK HE MEANS TO\", '/content/librispeech-other/LibriSpeech/test-other/3331/159605/3331-159605-0035.flac': 'UTTERLY DONE WITH AND LAID UPON THE SHELF', '/content/librispeech-other/LibriSpeech/test-other/3331/159605/3331-159605-0039.flac': 'TRULY TRULY FAN', '/content/librispeech-other/LibriSpeech/test-other/3331/159605/3331-159605-0010.flac': 'IT WAS THAT INDESCRIBABLE SOMETHING WHICH WOMEN ARE QUICK TO SEE AND FEEL IN MEN WHO HAVE BEEN BLESSED WITH WISE AND GOOD MOTHERS', '/content/librispeech-other/LibriSpeech/test-other/3331/159605/3331-159605-0026.flac': 'HOW LOVELY THE PARK LOOKS SHE SAID IN GREAT CONFUSION', '/content/librispeech-other/LibriSpeech/test-other/3331/159605/3331-159605-0032.flac': 'POLLY DID NOT RETURN TO HER FAVORITE WALK TILL SHE LEARNED FROM MINNIE THAT UNCLE HAD REALLY LEFT TOWN AND THEN SHE FOUND THAT HIS FRIENDLY COMPANY AND CONVERSATION WAS WHAT HAD MADE THE WAY SO PLEASANT AFTER ALL', '/content/librispeech-other/LibriSpeech/test-other/3331/159605/3331-159605-0015.flac': \"THIS FINISHED POLLY'S INDECISION AND AFTER THAT NIGHT SHE NEVER ALLOWED HERSELF TO DWELL UPON THE PLEASANT TEMPTATION WHICH CAME IN A GUISE PARTICULARLY ATTRACTIVE TO A YOUNG GIRL WITH A SPICE OF THE OLD EVE IN HER COMPOSITION\", '/content/librispeech-other/LibriSpeech/test-other/3331/159605/3331-159605-0007.flac': 'HE HAS KNOWN HER ALL HER LIFE AND HAS A GOOD INFLUENCE OVER HER', '/content/librispeech-other/LibriSpeech/test-other/3331/159605/3331-159605-0016.flac': \"WHEN SATURDAY CAME POLLY STARTED AS USUAL FOR A VISIT TO BECKY AND BESS BUT COULD N'T RESIST STOPPING AT THE SHAWS TO LEAVE A LITTLE PARCEL FOR FAN THOUGH IT WAS CALLING TIME\", '/content/librispeech-other/LibriSpeech/test-other/3331/159605/3331-159605-0023.flac': 'SHE DID NOT MEAN TO TELL BUT HIS FRANKNESS WAS SO AGREEABLE SHE FORGOT HERSELF', '/content/librispeech-other/LibriSpeech/test-other/3331/159605/3331-159605-0020.flac': \"HOW HE GOT THERE WAS NEVER VERY CLEAR TO POLLY BUT THERE HE WAS FLUSHED AND A LITTLE OUT OF BREATH BUT LOOKING SO GLAD TO SEE HER THAT SHE HAD N'T THE HEART TO BE STIFF AND COOL AS SHE HAD FULLY INTENDED TO BE WHEN THEY MET\", '/content/librispeech-other/LibriSpeech/test-other/3331/159605/3331-159605-0025.flac': 'THANK YOU NO', '/content/librispeech-other/LibriSpeech/test-other/3331/159605/3331-159605-0029.flac': 'SO WHEN SHE MADE HER LAST BRILLIANT REMARK HE SAID QUIETLY WATCHING HER FACE KEENLY ALL THE WHILE I THOUGHT SO WELL I M GOING OUT OF TOWN ON BUSINESS FOR SEVERAL WEEKS SO YOU CAN ENJOY YOUR LITTLE BIT OF COUNTRY WITHOUT BEING ANNOYED BY ME ANNOYED', '/content/librispeech-other/LibriSpeech/test-other/3331/159605/3331-159605-0001.flac': 'THE MORE PROPOSALS THE MORE CREDIT', '/content/librispeech-other/LibriSpeech/test-other/3331/159605/3331-159605-0011.flac': 'THIS HAD AN ESPECIAL CHARM TO POLLY FOR SHE SOON FOUND THAT THIS SIDE OF HIS CHARACTER WAS NOT SHOWN TO EVERY ONE', '/content/librispeech-other/LibriSpeech/test-other/3331/159605/3331-159605-0008.flac': 'NOW AS POLLY WAS BY NO MEANS A PERFECT CREATURE I AM FREE TO CONFESS THAT THE OLD TEMPTATION ASSAILED HER MORE THAN ONCE THAT WEEK FOR WHEN THE FIRST EXCITEMENT OF THE DODGING REFORM HAD SUBSIDED SHE MISSED THE PLEASANT LITTLE INTERVIEWS THAT USED TO PUT A CERTAIN FLAVOR OF ROMANCE INTO HER DULL HARD WORKING DAYS', '/content/librispeech-other/LibriSpeech/test-other/3331/159605/3331-159605-0005.flac': 'I COULD DO SO MUCH FOR ALL AT HOME HOW I SHOULD ENJOY THAT', '/content/librispeech-other/LibriSpeech/test-other/3331/159605/3331-159605-0013.flac': \"AT FIRST SHE TRIED TO THINK SHE COULD BUT UNFORTUNATELY HEARTS ARE SO CONTRARY THAT THEY WON'T BE OBEDIENT TO REASON WILL OR EVEN GRATITUDE\", '/content/librispeech-other/LibriSpeech/test-other/3331/159605/3331-159605-0000.flac': 'SHE PULLED HER HAIR DOWN TURNED HER SKIRT BACK PUT HER FEET ON THE FENDER AND TOOK PUTTEL INTO HER LAP ALL OF WHICH ARRANGEMENTS SIGNIFIED THAT SOMETHING VERY IMPORTANT HAD GOT TO BE THOUGHT OVER AND SETTLED', '/content/librispeech-other/LibriSpeech/test-other/3331/159605/3331-159605-0017.flac': 'A FOOLISH LITTLE SPEECH TO MAKE TO A DOG BUT YOU SEE POLLY WAS ONLY A TENDER HEARTED GIRL TRYING TO DO HER DUTY', '/content/librispeech-other/LibriSpeech/test-other/3331/159605/3331-159605-0040.flac': \"I DON'T MEAN TO BE PRYING BUT I REALLY THOUGHT HE DID\", '/content/librispeech-other/LibriSpeech/test-other/3331/159605/3331-159605-0037.flac': \"NOW DON'T BE AFFECTED POLLY BUT JUST TELL ME LIKE A DEAR HAS N'T HE PROPOSED\", '/content/librispeech-other/LibriSpeech/test-other/3331/159605/3331-159605-0042.flac': 'I JUST GAVE HIM A HINT AND HE TOOK IT', '/content/librispeech-other/LibriSpeech/test-other/3331/159605/3331-159605-0027.flac': 'ASKED THE ARTFUL YOUNG MAN LAYING A TRAP INTO WHICH POLLY IMMEDIATELY FELL', '/content/librispeech-other/LibriSpeech/test-other/3331/159605/3331-159605-0018.flac': \"TAKE HOLD OF MASTER CHARLEY'S HAND MISS MAMIE AND WALK PRETTY LIKE WILLY AND FLOSSY SAID THE MAID\", '/content/librispeech-other/LibriSpeech/test-other/3331/159605/3331-159605-0009.flac': \"I DON'T THINK IT WAS HIS WEALTH ACCOMPLISHMENTS OR POSITION THAT MOST ATTRACTED POLLY THOUGH THESE DOUBTLESS POSSESSED A GREATER INFLUENCE THAN SHE SUSPECTED\", '/content/librispeech-other/LibriSpeech/test-other/3331/159605/3331-159605-0044.flac': 'HE UNDERSTOOD AND BEING A GENTLEMAN MADE NO FUSS', '/content/librispeech-other/LibriSpeech/test-other/3331/159605/3331-159605-0012.flac': 'LATELY THIS HAD CHANGED ESPECIALLY TOWARDS POLLY AND IT FLATTERED HER MORE THAN SHE WOULD CONFESS EVEN TO HERSELF', '/content/librispeech-other/LibriSpeech/test-other/3331/159605/3331-159605-0021.flac': \"SHE REALLY COULD N'T HELP IT IT WAS SO PLEASANT TO SEE HIM AGAIN JUST WHEN SHE WAS FEELING SO LONELY\", '/content/librispeech-other/LibriSpeech/test-other/3331/159605/3331-159605-0041.flac': 'WELL I ALWAYS MEANT TO TRY IT IF I GOT A CHANCE AND I HAVE', '/content/librispeech-other/LibriSpeech/test-other/3331/159605/3331-159605-0022.flac': 'THAT IS THE WAY I GET TO THE ROTHS ANSWERED POLLY', '/content/librispeech-other/LibriSpeech/test-other/3331/159609/3331-159609-0020.flac': 'IF FANNY WANTED TO SHOW HIM WHAT SHE COULD DO TOWARD MAKING A PLEASANT HOME SHE CERTAINLY SUCCEEDED BETTER THAN SHE SUSPECTED FOR IN SPITE OF MANY FAILURES AND DISCOURAGEMENTS BEHIND THE SCENES THE LITTLE HOUSE BECAME A MOST ATTRACTIVE PLACE TO MISTER SYDNEY AT LEAST FOR HE WAS MORE THE HOUSE FRIEND THAN EVER AND SEEMED DETERMINED TO PROVE THAT CHANGE OF FORTUNE MADE NO DIFFERENCE TO HIM', '/content/librispeech-other/LibriSpeech/test-other/3331/159609/3331-159609-0000.flac': 'NEVER MIND WHAT THE BUSINESS WAS IT SUFFICES TO SAY THAT IT WAS A GOOD BEGINNING FOR A YOUNG MAN LIKE TOM WHO HAVING BEEN BORN AND BRED IN THE MOST CONSERVATIVE CLASS OF THE MOST CONCEITED CITY IN NEW ENGLAND NEEDED JUST THE HEALTHY HEARTY SOCIAL INFLUENCES OF THE WEST TO WIDEN HIS VIEWS AND MAKE A MAN OF HIM', '/content/librispeech-other/LibriSpeech/test-other/3331/159609/3331-159609-0024.flac': 'FANNY CAME WALKING IN UPON HER ONE DAY LOOKING AS IF SHE BROUGHT TIDINGS OF SUCH GREAT JOY THAT SHE HARDLY KNEW HOW TO TELL THEM', '/content/librispeech-other/LibriSpeech/test-other/3331/159609/3331-159609-0011.flac': 'NONE WERE NEEDED HER TELLTALE FACE ANSWERED FOR HER AS WELL AS THE IMPULSE WHICH MADE HER HIDE HER HEAD IN THE SOFA CUSHION LIKE A FOOLISH OSTRICH WHEN THE HUNTERS ARE AFTER IT', '/content/librispeech-other/LibriSpeech/test-other/3331/159609/3331-159609-0019.flac': 'IT WAS A VERY DIFFERENT WINTER FROM THE LAST FOR BOTH THE GIRLS', '/content/librispeech-other/LibriSpeech/test-other/3331/159609/3331-159609-0004.flac': 'TOM WROTE ONCE A WEEK TO HIS MOTHER BUT THE LETTERS WERE SHORT AND NOT VERY SATISFACTORY FOR MEN NEVER DO TELL THE INTERESTING LITTLE THINGS THAT WOMEN BEST LIKE TO HEAR', '/content/librispeech-other/LibriSpeech/test-other/3331/159609/3331-159609-0017.flac': 'SUPPOSE I SAY A WORD TO TOM JUST INQUIRE AFTER HIS HEART IN A GENERAL WAY YOU KNOW AND GIVE HIM A CHANCE TO TELL ME IF THERE IS ANYTHING TO TELL', '/content/librispeech-other/LibriSpeech/test-other/3331/159609/3331-159609-0022.flac': 'POLLY WAS NOT AT ALL LIKE HERSELF THAT WINTER AND THOSE NEAREST TO HER SAW AND WONDERED AT IT MOST', '/content/librispeech-other/LibriSpeech/test-other/3331/159609/3331-159609-0021.flac': \"SHE KEPT MUCH AT HOME WHEN THE DAY'S WORK WAS DONE FINDING IT PLEASANTER TO SIT DREAMING OVER BOOK OR SEWING ALONE THAN TO EXERT HERSELF EVEN TO GO TO THE SHAWS\", '/content/librispeech-other/LibriSpeech/test-other/3331/159609/3331-159609-0014.flac': \"IT WAS SO TENDER EARNEST AND DEFIANT THAT FANNY FORGOT THE DEFENCE OF HER OWN LOVER IN ADMIRATION OF POLLY'S LOYALTY TO HERS FOR THIS FAITHFUL ALL ABSORBING LOVE WAS A NEW REVELATION TO FANNY WHO WAS USED TO HEARING HER FRIENDS BOAST OF TWO OR THREE LOVERS A YEAR AND CALCULATE THEIR RESPECTIVE VALUES WITH ALMOST AS MUCH COOLNESS AS THE YOUNG MEN DISCUSSED THE FORTUNES OF THE GIRLS THEY WISHED FOR BUT COULD NOT AFFORD TO MARRY\", '/content/librispeech-other/LibriSpeech/test-other/3331/159609/3331-159609-0003.flac': 'IF IT HAD NOT BEEN FOR TWO THINGS I FEAR SHE NEVER WOULD HAVE STOOD A SUMMER IN TOWN BUT SYDNEY OFTEN CALLED TILL HIS VACATION CAME AND A VOLUMINOUS CORRESPONDENCE WITH POLLY BEGUILED THE LONG DAYS', '/content/librispeech-other/LibriSpeech/test-other/3331/159609/3331-159609-0001.flac': 'FORTUNATELY EVERY ONE WAS SO BUSY WITH THE NECESSARY PREPARATIONS THAT THERE WAS NO TIME FOR ROMANCE OF ANY SORT AND THE FOUR YOUNG PEOPLE WORKED TOGETHER AS SOBERLY AND SENSIBLY AS IF ALL SORTS OF EMOTIONS WERE NOT BOTTLED UP IN THEIR RESPECTIVE HEARTS', '/content/librispeech-other/LibriSpeech/test-other/3331/159609/3331-159609-0015.flac': \"I HOPE MARIA BAILEY IS ALL HE THINKS HER SHE ADDED SOFTLY FOR I COULD N'T BEAR TO HAVE HIM DISAPPOINTED AGAIN\", '/content/librispeech-other/LibriSpeech/test-other/3331/159609/3331-159609-0002.flac': 'PITY THAT THE END SHOULD COME SO SOON BUT THE HOUR DID ITS WORK AND WENT ITS WAY LEAVING A CLEARER ATMOSPHERE BEHIND THOUGH THE YOUNG FOLKS DID NOT SEE IT THEN FOR THEIR EYES WERE DIM BECAUSE OF THE PARTINGS THAT MUST BE', '/content/librispeech-other/LibriSpeech/test-other/3331/159609/3331-159609-0009.flac': 'CRIED POLLY WITH THE HEARTIEST SATISFACTION IN HER VOICE', '/content/librispeech-other/LibriSpeech/test-other/3331/159609/3331-159609-0006.flac': \"FORGIVE ME POLLY BUT I CAN'T HELP SAYING IT FOR IT IS THERE AND I WANT TO BE AS TRUE TO YOU AS YOU WERE TO ME IF I CAN\", '/content/librispeech-other/LibriSpeech/test-other/3331/159609/3331-159609-0016.flac': 'SAID FANNY TURNING HOPEFUL ALL AT ONCE', '/content/librispeech-other/LibriSpeech/test-other/3331/159609/3331-159609-0007.flac': 'I TRY NOT TO DECEIVE MYSELF BUT IT DOES SEEM AS IF THERE WAS A CHANCE OF HAPPINESS FOR ME', '/content/librispeech-other/LibriSpeech/test-other/3331/159609/3331-159609-0005.flac': 'NO I M ONLY TIRED HAD A GOOD DEAL TO DO LATELY AND THE DULL WEATHER MAKES ME JUST A TRIFLE BLUE', '/content/librispeech-other/LibriSpeech/test-other/3331/159609/3331-159609-0010.flac': 'POOR POLLY WAS SO TAKEN BY SURPRISE THAT SHE HAD NOT A WORD TO SAY', '/content/librispeech-other/LibriSpeech/test-other/3331/159609/3331-159609-0012.flac': 'ONCE OR TWICE BUT SORT OF JOKINGLY AND I THOUGHT IT WAS ONLY SOME LITTLE FLIRTATION', '/content/librispeech-other/LibriSpeech/test-other/3331/159609/3331-159609-0025.flac': 'BUT IF WORK BASKETS WERE GIFTED WITH POWERS OF SPEECH THEY COULD TELL STORIES MORE TRUE AND TENDER THAN ANY WE READ', '/content/librispeech-other/LibriSpeech/test-other/3331/159609/3331-159609-0023.flac': 'FOR NED WAS SO ABSORBED IN BUSINESS THAT HE IGNORED THE WHOLE BAILEY QUESTION AND LEFT THEM IN UTTER DARKNESS', '/content/librispeech-other/LibriSpeech/test-other/3331/159609/3331-159609-0008.flac': 'THANK HEAVEN FOR THAT', '/content/librispeech-other/LibriSpeech/test-other/3331/159609/3331-159609-0013.flac': 'IT WAS SO STUPID OF ME NOT TO GUESS BEFORE', '/content/librispeech-other/LibriSpeech/test-other/3331/159609/3331-159609-0018.flac': 'BEAR IT PEOPLE ALWAYS DO BEAR THINGS SOMEHOW ANSWERED POLLY LOOKING AS IF SENTENCE HAD BEEN PASSED UPON HER', '/content/librispeech-other/LibriSpeech/test-other/6432/63723/6432-63723-0040.flac': 'ONLY THAT I DARCY HESITATED AND GREW RED', '/content/librispeech-other/LibriSpeech/test-other/6432/63723/6432-63723-0057.flac': 'NOW HARRY KING HAS IT EXCLAIMED COLONEL ASHLEY', '/content/librispeech-other/LibriSpeech/test-other/6432/63723/6432-63723-0045.flac': 'THE STOPPED CLOCKS FOR INSTANCE HAVE YOU ANY THEORY', '/content/librispeech-other/LibriSpeech/test-other/6432/63723/6432-63723-0011.flac': 'HE REMEMBERED THAT CYNTHIA AND GRAFTON HAD ONCE BEEN IN LOVE WITH EACH OTHER', '/content/librispeech-other/LibriSpeech/test-other/6432/63723/6432-63723-0023.flac': 'IN A SMALLER PLACE HE WOULD HAVE BEEN CALLED A SALOON KEEPER', '/content/librispeech-other/LibriSpeech/test-other/6432/63723/6432-63723-0020.flac': 'IT HAD A DOUBLE REPUTATION SO TO SPEAK', '/content/librispeech-other/LibriSpeech/test-other/6432/63723/6432-63723-0034.flac': \"I'M GOING TO RECTIFY THEM BUT IT WILL TAKE TIME\", '/content/librispeech-other/LibriSpeech/test-other/6432/63723/6432-63723-0030.flac': 'BUT IT WAS NOTICED THAT THE OLDER AND MORE CONSERVATIVE FAMILIES WERE LESS OFTEN REPRESENTED AND WHEN THEY WERE IT WAS BY SOME OF THE YOUNGER MEMBERS WHOSE REPUTATIONS WERE ALREADY SMIRCHED OR WHO HAD NOT YET ACQUIRED ANY AND WERE WILLING TO TAKE A CHANCE', '/content/librispeech-other/LibriSpeech/test-other/6432/63723/6432-63723-0035.flac': \"IT'S HARD FOR MISS MASON TOO ALTHOUGH SHE'S BEARING UP LIKE A MAJOR\", '/content/librispeech-other/LibriSpeech/test-other/6432/63723/6432-63723-0009.flac': 'THE COLONEL DID NOT DISCLOSE THE FACT THAT IT WAS NO NEWS TO HIM', '/content/librispeech-other/LibriSpeech/test-other/6432/63723/6432-63723-0010.flac': \"AARON GRAFTON'S STATEMENT WAS BEING UNEXPECTEDLY CONFIRMED\", '/content/librispeech-other/LibriSpeech/test-other/6432/63723/6432-63723-0046.flac': 'THERE WERE THREE OF THEM THE CENTER FIGURE BEING THAT OF HARRY KING AND HE WAS VERY MUCH INTOXICATED', '/content/librispeech-other/LibriSpeech/test-other/6432/63723/6432-63723-0055.flac': 'I WENT OVER THEM THE OTHER DAY AND NOTICED SOME WERE MISSING THOUGH I SAW THEM ALL WHEN I PAID A VISIT TO HER JUST A SHORT TIME BEFORE SHE WAS KILLED', '/content/librispeech-other/LibriSpeech/test-other/6432/63723/6432-63723-0005.flac': \"WELL I DON'T KNOW THAT YOU CAN\", '/content/librispeech-other/LibriSpeech/test-other/6432/63723/6432-63723-0051.flac': 'WHY POLONIUS SOME ONE ASKED', '/content/librispeech-other/LibriSpeech/test-other/6432/63723/6432-63723-0053.flac': 'THERE WAS A RATTLE OF COINS ON THE MAHOGANY BAR AS KING SOUGHT TO DISENTANGLE A SINGLE BILL FROM THE WADDED UP CURRENCY IN HIS POCKET', '/content/librispeech-other/LibriSpeech/test-other/6432/63723/6432-63723-0038.flac': 'THEY TOOK HARRY AWAY A WHILE AGO', '/content/librispeech-other/LibriSpeech/test-other/6432/63723/6432-63723-0024.flac': 'AND IT WAS THIS MAN RICH IT WAS SAID HANDSOME CERTAINLY THAT CYNTHIA RATCHFORD HAD MARRIED', '/content/librispeech-other/LibriSpeech/test-other/6432/63723/6432-63723-0016.flac': \"NO BUT HE WILL OR I'LL SUE HIM AND GET JUDGMENT OH HE'LL PAY ALL RIGHT\", '/content/librispeech-other/LibriSpeech/test-other/6432/63723/6432-63723-0032.flac': \"MEANWHILE COLONEL ASHLEY WAS A VERY BUSY MAN AND TO NO ONE DID HE TELL VERY MUCH ABOUT HIS ACTIVITIES HE SAW DARCY FREQUENTLY AT THE JAIL AND TO THAT YOUNG MAN'S PLEADINGS THAT SOMETHING BE DONE ALWAYS RETURNED THE ANSWER\", '/content/librispeech-other/LibriSpeech/test-other/6432/63723/6432-63723-0022.flac': 'LARCH HIMSELF WAS A PECULIAR CHARACTER', '/content/librispeech-other/LibriSpeech/test-other/6432/63723/6432-63723-0056.flac': 'THAT WAS HERS WENT ON THE JEWELER', '/content/librispeech-other/LibriSpeech/test-other/6432/63723/6432-63723-0001.flac': 'AND WHEN THE FISH WAS LANDED PANTING ON THE GRASS AND SHAG HAD BEEN ROUSED FROM HIS SLUMBER TO SLIP THE NOW LIMP FISH INTO THE CREEL COLONEL ASHLEY GAVE A SIGH OF RELIEF AND REMARKED I THINK I SEE IT NOW', '/content/librispeech-other/LibriSpeech/test-other/6432/63723/6432-63723-0004.flac': \"HOWEVER DON'T THINK I'M NOT INTERESTED IN YOUR CASE I'VE FISHED ENOUGH FOR TO DAY\", '/content/librispeech-other/LibriSpeech/test-other/6432/63723/6432-63723-0039.flac': 'BUT HIS ARE PRETTY UNCERTAIN SHOES TO BE IN JUST THE SAME', '/content/librispeech-other/LibriSpeech/test-other/6432/63723/6432-63723-0028.flac': 'AFTER THE MARRIAGE WHICH WAS A BRILLIANT AND GAY ONE IF NOT HAPPY THE LARCH HOTEL IT COULD HARDLY BE CALLED A HOME BECAME THE SCENE OF MANY FESTIVE OCCASIONS', '/content/librispeech-other/LibriSpeech/test-other/6432/63723/6432-63723-0041.flac': 'GOOD EVENING COLONEL HE CALLED GENIALLY WILL YOU JOIN ME IN A WELSH RABBIT', '/content/librispeech-other/LibriSpeech/test-other/6432/63723/6432-63723-0036.flac': 'SO KING GOT BAIL WHO PUT IT UP', '/content/librispeech-other/LibriSpeech/test-other/6432/63723/6432-63723-0014.flac': 'LARCH BY REFUSING TO APPEAR PRACTICALLY ADMITTED THE CHARGES AGAINST HIM AND DID NOT OPPOSE THE SEPARATION', '/content/librispeech-other/LibriSpeech/test-other/6432/63723/6432-63723-0049.flac': \"I SAID WHERE HAVE YOU BEEN REMARKED THE OTHER WE'VE MISSED YOU\", '/content/librispeech-other/LibriSpeech/test-other/6432/63723/6432-63723-0047.flac': 'THAT IS NOT ALWAYS BUT SOMETIMES IT HAPPENED TO BE SO NOW', '/content/librispeech-other/LibriSpeech/test-other/6432/63723/6432-63723-0025.flac': 'TO THIS WAS THE ANSWER WHISPERED MONEY', '/content/librispeech-other/LibriSpeech/test-other/6432/63723/6432-63723-0027.flac': 'SHE ALSO SAW AN OPPORTUNITY OF PAYING OLD DEBTS AND REAPING SOME REVENGES', '/content/librispeech-other/LibriSpeech/test-other/6432/63723/6432-63723-0012.flac': 'SHE SAID HE HAD STRUCK HER MORE THAN ONCE AND SHE COULD STAND IT NO LONGER', '/content/librispeech-other/LibriSpeech/test-other/6432/63723/6432-63723-0037.flac': 'IT WAS HIGH LARCH', '/content/librispeech-other/LibriSpeech/test-other/6432/63723/6432-63723-0033.flac': \"DON'T WORRY IT WILL COME OUT ALL RIGHT\", '/content/librispeech-other/LibriSpeech/test-other/6432/63723/6432-63723-0002.flac': 'THE REASON SHE ASKED NO ALIMONY INQUIRED KENNETH', '/content/librispeech-other/LibriSpeech/test-other/6432/63723/6432-63723-0026.flac': 'AND IN A WAY IT WAS TRUE', '/content/librispeech-other/LibriSpeech/test-other/6432/63723/6432-63723-0008.flac': \"YOU DON'T MEAN THAT LARCH STRUCK HER THAT THERE WAS PHYSICAL ABUSE DO YOU ASKED THE COLONEL THAT'S WHAT HE DID\", '/content/librispeech-other/LibriSpeech/test-other/6432/63723/6432-63723-0019.flac': 'THE MURDER OF MISSUS DARCY HAD SOME TIME AGO BEEN SHIFTED OFF THE FRONT PAGE THOUGH IT WOULD GET BACK THERE WHEN THE YOUNG JEWELER WAS TRIED', '/content/librispeech-other/LibriSpeech/test-other/6432/63723/6432-63723-0018.flac': 'STILL I WOULD LIKE TO KNOW', '/content/librispeech-other/LibriSpeech/test-other/6432/63723/6432-63723-0000.flac': 'CHUCKLED THE COLONEL AS HE SKILFULLY PLAYED THE LUCKLESS TROUT NOW STRUGGLING TO GET LOOSE FROM THE HOOK', '/content/librispeech-other/LibriSpeech/test-other/6432/63723/6432-63723-0007.flac': \"IT WAS ONE OF WHAT AT FIRST MIGHT BE CALLED REFINED CRUELTY ON HER HUSBAND'S PART DEGENERATING GRADUALLY INTO THAT OF THE BASER SORT\", '/content/librispeech-other/LibriSpeech/test-other/6432/63723/6432-63723-0050.flac': 'I SAID I WAS GOLFING HE WENT ON EXCEEDINGLY DISTINCTLY THOUGH WITH AN EFFORT', '/content/librispeech-other/LibriSpeech/test-other/6432/63723/6432-63723-0013.flac': 'BECAUSE LARCH MADE NO DEFENSE', '/content/librispeech-other/LibriSpeech/test-other/6432/63723/6432-63723-0043.flac': \"I'M AFRAID MY DIGESTION ISN'T QUITE UP TO THAT AS I'VE HAD TO CUT OUT MY FISHING OF LATE\", '/content/librispeech-other/LibriSpeech/test-other/6432/63723/6432-63723-0031.flac': \"IT WOULDN'T DO YOU KNOW AFTER THAT STORY CAME OUT FOR ME AND THE VICE CHANCELLOR WHO SAT IN THE CASE AS WELL AS OTHER JUDGES AND MEMBERS OF THE BAR TO BE SEEN THERE KENNETH EXPLAINED TO THE COLONEL\", '/content/librispeech-other/LibriSpeech/test-other/6432/63723/6432-63723-0054.flac': \"IT'S IT'S AN ODD COIN AN OLD ROMAN ONE THAT MISSUS DARCY HAD IN HER PRIVATE COLLECTION KEPT IN THE JEWELRY STORE SAFE WAS THE WHISPERED ANSWER\", '/content/librispeech-other/LibriSpeech/test-other/6432/63723/6432-63723-0042.flac': 'THANK YOU NO', '/content/librispeech-other/LibriSpeech/test-other/6432/63723/6432-63723-0015.flac': 'SO I HAD TO LET HER HAVE HER WAY AND WE DID NOT ASK THE COURT FOR MONEY THOUGH I HAD NO SUCH SQUEAMISH FEELINGS WHEN IT CAME TO MY COUNSEL FEE', '/content/librispeech-other/LibriSpeech/test-other/6432/63723/6432-63723-0021.flac': 'GRAVE AND EVEN REVEREND CONVENTIONS ASSEMBLED IN ITS BALLROOM AND POLITICIANS OF THE UPPER IF NOT BETTER CLASS WERE FREQUENTLY SEEN IN ITS DINING ROOM OR CAFE', '/content/librispeech-other/LibriSpeech/test-other/6432/63723/6432-63723-0017.flac': 'AND IT TAKES ALL SORTS OF PERSONS TO MAKE IT UP', '/content/librispeech-other/LibriSpeech/test-other/6432/63723/6432-63723-0044.flac': 'NOW AS TO CERTAIN MATTERS IN THE STORE ON THE MORNING OF THE MURDER', '/content/librispeech-other/LibriSpeech/test-other/6432/63723/6432-63723-0048.flac': 'I BEG YOUR PARDON HE SAID IN THE CULTURED TONES HE KNEW SO WELL HOW TO USE YET OF WHICH HE MADE SO LITTLE USE OF LATE', '/content/librispeech-other/LibriSpeech/test-other/6432/63723/6432-63723-0052.flac': 'BECAUSE DEAR FRIEND REPLIED KING SOFTLY HE SOMEWHAT RESEMBLES A CERTAIN PERSON HERE WHO TALKS TOO MUCH BUT WHO IS NOT SO WISE AS HE THINKS', '/content/librispeech-other/LibriSpeech/test-other/6432/63723/6432-63723-0029.flac': 'THEN IT WAS SAID OF LARCH THAT SOON AFTER THE ECHOES OF THE WEDDING CHIMES HAD DIED AWAY HE HAD BEGUN TO TREAT HIS WIFE WITH REFINED CRUELTY THAT HIDDEN AWAY FROM THE PUBLIC UNDERNEATH HIS HABITUAL MANNER THERE WAS THE RAWNESS OF THE BRUTE', '/content/librispeech-other/LibriSpeech/test-other/6432/63723/6432-63723-0003.flac': \"NO I WASN'T THINKING OF THAT\", '/content/librispeech-other/LibriSpeech/test-other/6432/63723/6432-63723-0006.flac': \"IT ISN'T GENERALLY KNOWN WENT ON THE LAWYER THAT THE HOTEL KEEPER'S WIFE HAS LEFT HIM\", '/content/librispeech-other/LibriSpeech/test-other/6432/63722/6432-63722-0051.flac': 'BUT I NEED TO DO A LITTLE MORE SMOKING OUT FIRST NOW I WANT TO THINK', '/content/librispeech-other/LibriSpeech/test-other/6432/63722/6432-63722-0026.flac': 'SURE HELD SO TIGHT WE COULD HARDLY GET IT OUT', '/content/librispeech-other/LibriSpeech/test-other/6432/63722/6432-63722-0054.flac': \"I'D RECOMMEND HIM TO YOU INSTEAD OF BLACKSTONE THANKS LAUGHED KENNETH\", '/content/librispeech-other/LibriSpeech/test-other/6432/63722/6432-63722-0011.flac': \"YOU'RE ON THE DARCY CASE THEY TELL ME IN A WAY YES\", '/content/librispeech-other/LibriSpeech/test-other/6432/63722/6432-63722-0002.flac': \"I'M GOING OFF FISHING I MAY NOT CATCH ANYTHING I MAY NOT WANT TO AFTER I GET THERE\", '/content/librispeech-other/LibriSpeech/test-other/6432/63722/6432-63722-0018.flac': \"AND THE DETECTIVE'S PROFESSIONAL INSTINCTS GOT THE UPPER HAND OF HIS FRIENDLINESS NOT THE LEAST IN THE WORLD NOT AS MUCH AS YOU DO WAS THE COOL ANSWER\", '/content/librispeech-other/LibriSpeech/test-other/6432/63722/6432-63722-0000.flac': \"BUT SCUSE ME DIDN'T YO FIGGER ON DOIN SOME DETECTIN AN GIVE UP FISHIN\", '/content/librispeech-other/LibriSpeech/test-other/6432/63722/6432-63722-0001.flac': 'AND SHAG WITH THE FREEDOM OF AN OLD SERVANT STOOD LOOKING AT HIS MASTER AS IF NOT QUITE UNDERSTANDING THE NEW TWIST THE AFFAIRS HAD TAKEN', '/content/librispeech-other/LibriSpeech/test-other/6432/63722/6432-63722-0044.flac': 'SINGA PHUT WAS THE PANTING ANSWER', '/content/librispeech-other/LibriSpeech/test-other/6432/63722/6432-63722-0046.flac': 'WHAT ARE THE CHANCES OF GETTING HIM OFF LEGALLY IF WE GO AT IT FROM A NEGATIVE STANDPOINT ASKED THE COLONEL', '/content/librispeech-other/LibriSpeech/test-other/6432/63722/6432-63722-0050.flac': 'BUT I WANT TO KNOW JUST WHERE WE STAND NOW I KNOW', '/content/librispeech-other/LibriSpeech/test-other/6432/63722/6432-63722-0033.flac': \"AND I'VE READ ENOUGH ABOUT GERMS TO KNOW THE DANGER I'D ADVISE YOU TO BE CAREFUL\", '/content/librispeech-other/LibriSpeech/test-other/6432/63722/6432-63722-0032.flac': 'YES IT MAY HAVE SOME ROUGH EDGES ON IT', '/content/librispeech-other/LibriSpeech/test-other/6432/63722/6432-63722-0012.flac': \"I'M WORKING IN THE INTERESTS OF THE YOUNG MAN\", '/content/librispeech-other/LibriSpeech/test-other/6432/63722/6432-63722-0057.flac': 'YES IT STILL HOLDS GOOD', '/content/librispeech-other/LibriSpeech/test-other/6432/63722/6432-63722-0024.flac': 'TOWARD DARK A MAN WENT IN TO BUY A LAMP', '/content/librispeech-other/LibriSpeech/test-other/6432/63722/6432-63722-0017.flac': 'LOOK HERE COLONEL DO YOU KNOW ANYTHING ABOUT THIS', '/content/librispeech-other/LibriSpeech/test-other/6432/63722/6432-63722-0008.flac': \"BUT HE HADN'T ANY MORE TO DO WITH IT COLONEL THAN THAT CAT\", '/content/librispeech-other/LibriSpeech/test-other/6432/63722/6432-63722-0031.flac': \"AND DONOVAN'S VOICE WAS PLAINLY SKEPTICAL\", '/content/librispeech-other/LibriSpeech/test-other/6432/63722/6432-63722-0016.flac': 'THE VERY PAIR I WAS GOING TO BUY', '/content/librispeech-other/LibriSpeech/test-other/6432/63722/6432-63722-0042.flac': 'SOME ONE OUT HERE TO SEE YOU', '/content/librispeech-other/LibriSpeech/test-other/6432/63722/6432-63722-0048.flac': \"AT BEST HE WOULD GET OFF WITH A SCOTCH VERDICT OF NOT PROVEN BUT HE DOESN'T WANT THAT NOR DO I\", '/content/librispeech-other/LibriSpeech/test-other/6432/63722/6432-63722-0013.flac': \"IT'S JUST ONE OF THEM COINCIDENCES LIKE\", '/content/librispeech-other/LibriSpeech/test-other/6432/63722/6432-63722-0025.flac': \"HE FOUND THE PLACE WITHOUT A LIGHT IN IT STUMBLED OVER SOMETHING ON THE FLOOR AND THERE WAS ALI'S BODY WITH THE HEAD BUSTED IN AND THIS HEAVY CANDLESTICK NEAR IT\", '/content/librispeech-other/LibriSpeech/test-other/6432/63722/6432-63722-0009.flac': 'PERHAPS NOT ADMITTED COLONEL ASHLEY', '/content/librispeech-other/LibriSpeech/test-other/6432/63722/6432-63722-0038.flac': \"AND DONOVAN TAKE A FRIEND'S ADVICE AND DON'T BE TOO FREE WITH THAT WATCH TOO FREE WITH IT\", '/content/librispeech-other/LibriSpeech/test-other/6432/63722/6432-63722-0040.flac': \"DON'T SCRATCH YOURSELF ON IT WHATEVER YOU DO WHY NOT\", '/content/librispeech-other/LibriSpeech/test-other/6432/63722/6432-63722-0055.flac': 'WHAT IS IT PERHAPS I CAN HELP YOU', '/content/librispeech-other/LibriSpeech/test-other/6432/63722/6432-63722-0022.flac': \"ANYHOW HE AND PHUT DIDN'T GET ALONG VERY WELL IT SEEMS\", '/content/librispeech-other/LibriSpeech/test-other/6432/63722/6432-63722-0034.flac': \"IF YOU DON'T MIND I SHOULD LIKE TO EXAMINE THIS A BIT\", '/content/librispeech-other/LibriSpeech/test-other/6432/63722/6432-63722-0004.flac': 'AND HAVING PUT HIMSELF IN A FAIR WAY AS HE HOPED TO SOLVE SOME OF THE PROBLEMS CONNECTED WITH THE DARCY CASE COLONEL ASHLEY WENT DOWN TO POLICE HEADQUARTERS TO LEARN MORE FACTS IN CONNECTION WITH THE MURDER OF THE EAST INDIAN', '/content/librispeech-other/LibriSpeech/test-other/6432/63722/6432-63722-0006.flac': 'CARROLL WAS TOO MUCH ENGAGED IN WATCHING THE BLUE SMOKE CURL LAZILY UPWARD FROM HIS CIGAR JUST THEN TO SAY MORE', '/content/librispeech-other/LibriSpeech/test-other/6432/63722/6432-63722-0020.flac': \"NOW I'M AFRAID I WON'T BUT HOW DID IT HAPPEN\", '/content/librispeech-other/LibriSpeech/test-other/6432/63722/6432-63722-0027.flac': 'MAYBE THE FIGHT WAS ABOUT WHO OWNED THE WATCH FOR THE DAGOS TALKED IN THEIR FOREIGN LINGO AND NONE OF THE NEIGHBORS COULD TELL WHAT THEY WERE SAYIN I SEE', '/content/librispeech-other/LibriSpeech/test-other/6432/63722/6432-63722-0007.flac': 'ARE YOU GOING TO WORK ON THAT CASE COLONEL', '/content/librispeech-other/LibriSpeech/test-other/6432/63722/6432-63722-0045.flac': \"I WANT TO TALK OVER DARCY'S CASE WITH YOU THE COLONEL HAD SAID AND THE TWO HAD TALKED HAD THOUGHT HAD TALKED AGAIN AND NOW WERE SILENT FOR A TIME\", '/content/librispeech-other/LibriSpeech/test-other/6432/63722/6432-63722-0037.flac': 'AND A CLOSE OBSERVER MIGHT HAVE OBSERVED THAT HE DID NOT TOUCH HIS BARE FINGERS TO THE TIMEPIECE BUT POKED IT ABOUT AND TOUCHED IT HERE AND THERE WITH THE END OF A LEADPENCIL', '/content/librispeech-other/LibriSpeech/test-other/6432/63722/6432-63722-0052.flac': \"IF YOU'LL EXCUSE ME I'LL PRETEND I'M FISHING AND I MAY CATCH SOMETHING\", '/content/librispeech-other/LibriSpeech/test-other/6432/63722/6432-63722-0015.flac': 'GAD EXCLAIMED THE COLONEL', '/content/librispeech-other/LibriSpeech/test-other/6432/63722/6432-63722-0047.flac': 'RATHER A HYPOTHETICAL QUESTION COLONEL BUT I SHOULD SAY IT MIGHT BE A FIFTY FIFTY PROPOSITION', '/content/librispeech-other/LibriSpeech/test-other/6432/63722/6432-63722-0021.flac': \"PHUT I DON'T KNOW WHETHER THAT'S HIS FIRST OR HIS LAST NAME ANYHOW HE HAD A PARTNER NAMED SHERE ALI\", '/content/librispeech-other/LibriSpeech/test-other/6432/63722/6432-63722-0023.flac': 'NEIGHBORS OFTEN HEARD EM SCRAPPIN A LOT AND THIS AFTERNOON THEY WENT AT IT AGAIN HOT AND HEAVY', '/content/librispeech-other/LibriSpeech/test-other/6432/63722/6432-63722-0014.flac': 'BUSTED HIS HEAD IN WITH A HEAVY CANDLESTICK ONE OF A PAIR', '/content/librispeech-other/LibriSpeech/test-other/6432/63722/6432-63722-0041.flac': 'SIMPLY BECAUSE THIS WATCH', '/content/librispeech-other/LibriSpeech/test-other/6432/63722/6432-63722-0036.flac': \"THAT'S RIGHT AGREED THE COLONEL AS HE CONTINUED TO MOVE HIS MAGNIFYING GLASS OVER THE SURFACE OF THE STILL TICKING WATCH\", '/content/librispeech-other/LibriSpeech/test-other/6432/63722/6432-63722-0043.flac': 'ALL RIGHT BE THERE IN A SECOND', '/content/librispeech-other/LibriSpeech/test-other/6432/63722/6432-63722-0053.flac': \"IN FACT I HAVE A FEELING THAT I'LL LAND MY FISH\", '/content/librispeech-other/LibriSpeech/test-other/6432/63722/6432-63722-0059.flac': \"AND THERE'S NO REASON YOU SHOULDN'T KNOW\", '/content/librispeech-other/LibriSpeech/test-other/6432/63722/6432-63722-0035.flac': 'BEFORE THE BIG WIND IN IRELAND SUGGESTED THONG WITH A NOD AT HIS IRISH COMPATRIOT SLIGHTLY LAUGHED THE COLONEL', '/content/librispeech-other/LibriSpeech/test-other/6432/63722/6432-63722-0030.flac': \"YOU'RE NOT AS SQUEAMISH AS ALL THAT ARE YOU JUST BECAUSE IT WAS IN A DEAD MAN'S HAND AND IN A WOMAN'S\", '/content/librispeech-other/LibriSpeech/test-other/6432/63722/6432-63722-0058.flac': 'NO ALIMONY REPEATED THE COLONEL PUZZLED YES JUST THAT', '/content/librispeech-other/LibriSpeech/test-other/6432/63722/6432-63722-0029.flac': \"THAT'S THE WATCH ANNOUNCED THE HEADQUARTERS DETECTIVE REACHING IN FOR IT GOING YET SEE\", '/content/librispeech-other/LibriSpeech/test-other/6432/63722/6432-63722-0005.flac': \"PINKUS AND DONOVAN HAVEN'T THEY CARROLL YEP\", '/content/librispeech-other/LibriSpeech/test-other/6432/63722/6432-63722-0003.flac': 'GET READY SHAG YES SAH COLONEL', '/content/librispeech-other/LibriSpeech/test-other/6432/63722/6432-63722-0049.flac': \"AND YOU I DON'T WANT IT EITHER\", '/content/librispeech-other/LibriSpeech/test-other/6432/63722/6432-63722-0039.flac': 'ASKED THE SURPRISED DETECTIVE YES', '/content/librispeech-other/LibriSpeech/test-other/6432/63722/6432-63722-0019.flac': \"I HAPPENED TO SEE THOSE CANDLESTICKS IN THE WINDOW OF SINGA PHUT'S SHOP THE OTHER DAY AND I MADE UP MY MIND TO BUY THEM WHEN I HAD A CHANCE\", '/content/librispeech-other/LibriSpeech/test-other/6432/63722/6432-63722-0010.flac': \"WE'VE GOT OUR MAN AND THAT'S ALL WE WANT\", '/content/librispeech-other/LibriSpeech/test-other/6432/63722/6432-63722-0028.flac': \"AND THE WATCH HAVE YOU IT YES IT'S HERE\", '/content/librispeech-other/LibriSpeech/test-other/6432/63722/6432-63722-0056.flac': 'THE OLD ADAGE OF TWO HEADS YOU KNOW', '/content/librispeech-other/LibriSpeech/test-other/2609/157645/2609-157645-0008.flac': 'LET THEM SING ANOTHER PSALM SAID THE CURATE', '/content/librispeech-other/LibriSpeech/test-other/2609/157645/2609-157645-0012.flac': 'DAVID DEANS HOWEVER DID NOT AT ALL APPROVE THIS IRREVERENCE', '/content/librispeech-other/LibriSpeech/test-other/2609/157645/2609-157645-0007.flac': 'ONE SUNDAY SAYS MISTER DITCHFIELD HE HAD AN EXTRA PIPE AND JOSHUA THE CLERK TOLD HIM THAT THE PEOPLE WERE GETTING IMPATIENT', '/content/librispeech-other/LibriSpeech/test-other/2609/157645/2609-157645-0002.flac': 'SOMETIMES TOBACCO WAS USED IN CHURCH FOR DISINFECTING OR DEODORIZING PURPOSES', '/content/librispeech-other/LibriSpeech/test-other/2609/157645/2609-157645-0006.flac': 'PARR WAS SUCH A CONTINUAL SMOKER THAT ANYONE WHO CAME INTO HIS COMPANY IF HE HAD NEVER SMOKED BEFORE HAD TO LEARN THE USE OF A PIPE AS A MEANS OF SELF DEFENCE', '/content/librispeech-other/LibriSpeech/test-other/2609/157645/2609-157645-0003.flac': 'BLACKBURN ARCHBISHOP OF YORK WAS A GREAT SMOKER', '/content/librispeech-other/LibriSpeech/test-other/2609/157645/2609-157645-0004.flac': \"ON ONE OCCASION HE WAS AT SAINT MARY'S CHURCH NOTTINGHAM FOR A CONFIRMATION\", '/content/librispeech-other/LibriSpeech/test-other/2609/157645/2609-157645-0005.flac': 'ANOTHER EIGHTEENTH CENTURY CLERICAL WORTHY THE FAMOUS DOCTOR PARR AN INVETERATE SMOKER WAS ACCUSTOMED TO DO WHAT MISTER DISNEY PREVENTED ARCHBISHOP BLACKBURN FROM DOING HE SMOKED IN HIS VESTRY AT HATTON', '/content/librispeech-other/LibriSpeech/test-other/2609/157645/2609-157645-0014.flac': 'WHEN THESE MEN IN THE COURSE OF MY REMONSTRANCE FOUND THAT I WAS NOT GOING TO CONTINUE THE CUSTOM THEY NO LONGER CARED TO BE COMMUNICANTS', '/content/librispeech-other/LibriSpeech/test-other/2609/157645/2609-157645-0013.flac': 'GOING TO CHURCH AT HAYES IN THOSE DAYS MUST HAVE BEEN QUITE AN EXCITING EXPERIENCE', '/content/librispeech-other/LibriSpeech/test-other/2609/157645/2609-157645-0011.flac': 'SIX ARMS THE NEAREST WITHIN REACH PRESENTED WITH AN OBEDIENT START AS MANY TOBACCO POUCHES TO THE MAN OF OFFICE', '/content/librispeech-other/LibriSpeech/test-other/2609/157645/2609-157645-0000.flac': 'EVIDENTLY THE INTENTION WAS TO MAKE THINGS PLEASANT FOR THE ROYAL FOE OF TOBACCO DURING HIS VISIT', '/content/librispeech-other/LibriSpeech/test-other/2609/157645/2609-157645-0009.flac': 'THEY HAVE SIR REPLIED THE CLERK', '/content/librispeech-other/LibriSpeech/test-other/2609/157645/2609-157645-0001.flac': \"THE PROHIBITION IN THE REGULATION QUOTED OF SMOKING IN SAINT MARY'S CHURCH REFERRED IT MAY BE NOTED TO THE ACT WHICH WAS HELD THEREIN\", '/content/librispeech-other/LibriSpeech/test-other/2609/157645/2609-157645-0010.flac': 'THEN LET THEM SING THE HUNDRED AND NINETEENTH REPLIED THE CURATE', '/content/librispeech-other/LibriSpeech/test-other/2609/169640/2609-169640-0019.flac': 'THE CAPTAIN BEHAVED PERFECTLY WELL IN THIS CRITICAL INSTANT COMMANDING A DEAD SILENCE AND THE CLOSEST ATTENTION TO HIS ORDERS', '/content/librispeech-other/LibriSpeech/test-other/2609/169640/2609-169640-0023.flac': 'I DOUBT IF WE TOUCHED A MAN IN THE NEAREST PROA', '/content/librispeech-other/LibriSpeech/test-other/2609/169640/2609-169640-0022.flac': 'THEY WERE LIKE THE YELLS OF FIENDS IN ANGUISH', '/content/librispeech-other/LibriSpeech/test-other/2609/169640/2609-169640-0005.flac': 'AT THAT MOMENT I HEARD A NOISE ONE FAMILIAR TO SEAMEN THAT OF AN OAR FALLING IN A BOAT', '/content/librispeech-other/LibriSpeech/test-other/2609/169640/2609-169640-0011.flac': 'MISTER KITE OBSERVED THIS ALSO AND REMARKED THAT OUR MOVEMENTS HAD BEEN SO PROMPT AS TO TAKE THE RASCALS ABACK', '/content/librispeech-other/LibriSpeech/test-other/2609/169640/2609-169640-0009.flac': 'AS OUR SHEETS WERE ALL FLYING FORWARD AND REMAINED SO FOR A FEW MINUTES IT GAVE ME LEISURE TO LOOK ABOUT', '/content/librispeech-other/LibriSpeech/test-other/2609/169640/2609-169640-0014.flac': 'I HEARD THE RATTLING OF THE BOARDING PIKES TOO AS THEY WERE CUT ADRIFT FROM THE SPANKER BOOM AND FELL UPON THE DECKS', '/content/librispeech-other/LibriSpeech/test-other/2609/169640/2609-169640-0018.flac': 'THE QUESTION WAS NOW WHETHER WE COULD PASS THEM OR NOT BEFORE THEY GOT NEAR ENOUGH TO GRAPPLE', '/content/librispeech-other/LibriSpeech/test-other/2609/169640/2609-169640-0004.flac': 'MISTER MARBLE HE I DO BELIEVE WAS FAIRLY SNOOZING ON THE HEN COOPS BEING LIKE THE SAILS AS ONE MIGHT SAY BARELY ASLEEP', '/content/librispeech-other/LibriSpeech/test-other/2609/169640/2609-169640-0012.flac': 'A BREATHLESS STILLNESS SUCCEEDED', '/content/librispeech-other/LibriSpeech/test-other/2609/169640/2609-169640-0007.flac': 'HE WAS TOO MUCH OF A SEAMAN TO REQUIRE A SECOND LOOK IN ORDER TO ASCERTAIN WHAT WAS TO BE DONE', '/content/librispeech-other/LibriSpeech/test-other/2609/169640/2609-169640-0002.flac': 'FORTUNATELY THE JOHN WAS NOT ONLY FAST BUT SHE MINDED HER HELM AS A LIGHT FOOTED GIRL TURNS IN A LIVELY DANCE', '/content/librispeech-other/LibriSpeech/test-other/2609/169640/2609-169640-0013.flac': 'THE PROAS DID NOT ALTER THEIR COURSE BUT NEARED US FAST', '/content/librispeech-other/LibriSpeech/test-other/2609/169640/2609-169640-0000.flac': 'PROAS IN THAT QUARTER WERE USUALLY DISTRUSTED BY SHIPS IT IS TRUE BUT THE SEA IS FULL OF THEM AND FAR MORE ARE INNOCENT THAN ARE GUILTY OF ANY ACTS OF VIOLENCE', '/content/librispeech-other/LibriSpeech/test-other/2609/169640/2609-169640-0020.flac': 'NOT A SOUL ON BOARD THE JOHN WAS HURT', '/content/librispeech-other/LibriSpeech/test-other/2609/169640/2609-169640-0017.flac': 'THE JOHN BEHAVED BEAUTIFULLY AND CAME ROUND LIKE A TOP', '/content/librispeech-other/LibriSpeech/test-other/2609/169640/2609-169640-0024.flac': 'IN THIS STATE THE SHIP PASSED AHEAD ALL HER CANVAS BEING FULL LEAVING THE PROA MOTIONLESS IN HER WAKE', '/content/librispeech-other/LibriSpeech/test-other/2609/169640/2609-169640-0006.flac': 'I SANG OUT SAIL HO AND CLOSE ABOARD', '/content/librispeech-other/LibriSpeech/test-other/2609/169640/2609-169640-0003.flac': 'I NEVER WAS IN A BETTER STEERING SHIP MOST ESPECIALLY IN MODERATE WEATHER', '/content/librispeech-other/LibriSpeech/test-other/2609/169640/2609-169640-0008.flac': 'ALTHOUGH THEY WENT THREE FEET TO OUR TWO THIS GAVE US A MOMENT OF BREATHING TIME', '/content/librispeech-other/LibriSpeech/test-other/2609/169640/2609-169640-0016.flac': 'THE STILLNESS THAT REIGNED ON BOTH SIDES WAS LIKE THAT OF DEATH', '/content/librispeech-other/LibriSpeech/test-other/2609/169640/2609-169640-0010.flac': 'I SOON SAW BOTH PROAS AND GLAD ENOUGH WAS I TO PERCEIVE THAT THEY HAD NOT APPROACHED MATERIALLY NEARER', '/content/librispeech-other/LibriSpeech/test-other/2609/169640/2609-169640-0015.flac': 'KITE WENT AFT AND RETURNED WITH THREE OR FOUR MUSKETS AND AS MANY PIKES', '/content/librispeech-other/LibriSpeech/test-other/2609/169640/2609-169640-0021.flac': \"ON OUR SIDE WE GAVE THE GENTLEMEN THE FOUR SIXES TWO AT THE NEAREST AND TWO AT THE STERN MOST PROA WHICH WAS STILL NEAR A CABLE'S LENGTH DISTANT\", '/content/librispeech-other/LibriSpeech/test-other/2609/169640/2609-169640-0001.flac': 'AN HOUR AFTER THE SUN HAD SET THE WIND FELL TO A LIGHT AIR THAT JUST KEPT STEERAGE WAY ON THE SHIP', '/content/librispeech-other/LibriSpeech/test-other/2609/156975/2609-156975-0038.flac': 'THE CONSTANT NECESSITY OF MEETING THE DANGERS OF THE WILDERNESS AND OF DEFENDING THE FLOCKS ENTRUSTED TO MOSES CARE DEVELOPED HIS COURAGE AND POWER OF LEADERSHIP AND ACTION', '/content/librispeech-other/LibriSpeech/test-other/2609/156975/2609-156975-0015.flac': 'THE STORY OF MOSES BIRTH AND EARLY CHILDHOOD IS ONE OF THE MOST INTERESTING CHAPTERS IN BIBLICAL HISTORY', '/content/librispeech-other/LibriSpeech/test-other/2609/156975/2609-156975-0010.flac': 'HERE WERE FOUND SEVERAL INSCRIPTIONS BEARING THE EGYPTIAN NAME OF THE CITY P ATUM HOUSE OF THE GOD ATUM', '/content/librispeech-other/LibriSpeech/test-other/2609/156975/2609-156975-0001.flac': 'HOLD ON HOLD FAST HOLD OUT PATIENCE IS GENIUS', '/content/librispeech-other/LibriSpeech/test-other/2609/156975/2609-156975-0004.flac': 'EVERY ONE WHO IS TURBULENT HAS BEEN FOUND BY KING MERNEPTAH THE TESTIMONY OF THE OLDEST BIBLICAL NARRATIVES REGARDING THE SOJOURN OF THE HEBREWS IN EGYPT IS ALSO IN PERFECT ACCORD WITH THE PICTURE WHICH THE CONTEMPORARY EGYPTIAN INSCRIPTIONS GIVE OF THE PERIOD', '/content/librispeech-other/LibriSpeech/test-other/2609/156975/2609-156975-0012.flac': 'THAT THE HEBREWS WERE RESTIVE UNDER THIS TYRANNY WAS NATURAL INEVITABLE', '/content/librispeech-other/LibriSpeech/test-other/2609/156975/2609-156975-0028.flac': 'HERE MOSES LEARNED THE LESSONS THAT WERE ESSENTIAL FOR HIS TRAINING AS THE LEADER AND DELIVERER OF HIS PEOPLE', '/content/librispeech-other/LibriSpeech/test-other/2609/156975/2609-156975-0029.flac': 'AFTER THE CAPTURE OF JERICHO CERTAIN OF THEM WENT UP WITH THE SOUTHERN TRIBES TO CONQUER SOUTHERN PALESTINE', '/content/librispeech-other/LibriSpeech/test-other/2609/156975/2609-156975-0036.flac': 'THE WILDERNESS WITH ITS LURKING FOES AND THE EVER PRESENT DREAD OF HUNGER AND THIRST DEEPENED HIS SENSE OF NEED AND OF DEPENDENCE UPON A POWER ABLE TO GUIDE THE DESTINIES OF MEN', '/content/librispeech-other/LibriSpeech/test-other/2609/156975/2609-156975-0011.flac': 'A CONTEMPORARY INSCRIPTION ALSO STATES THAT HE FOUNDED NEAR PITHUM THE HOUSE OF RAMSES A CITY WITH A ROYAL RESIDENCE AND TEMPLES', '/content/librispeech-other/LibriSpeech/test-other/2609/156975/2609-156975-0002.flac': 'LET US HAVE FAITH THAT RIGHT MAKES MIGHT AND IN THAT FAITH LET US DARE TO DO OUR DUTY AS WE UNDERSTAND IT LINCOLN', '/content/librispeech-other/LibriSpeech/test-other/2609/156975/2609-156975-0007.flac': \"THE STORIES REGARDING JOSEPH THE TRADITIONAL FATHER OF EPHRAIM AND MANASSEH IMPLY THAT THESE STRONG CENTRAL TRIBES POSSIBLY TOGETHER WITH THE SOUTHERN TRIBES OF BENJAMIN AND JUDAH WERE THE CHIEF ACTORS IN THIS OPENING SCENE IN ISRAEL'S HISTORY\", '/content/librispeech-other/LibriSpeech/test-other/2609/156975/2609-156975-0018.flac': 'NATURALLY HE WENT TO THE LAND OF MIDIAN', '/content/librispeech-other/LibriSpeech/test-other/2609/156975/2609-156975-0013.flac': 'WAS ANY OTHER PROCEDURE TO BE EXPECTED FROM A DESPOTIC RULER OF THAT LAND AND DAY', '/content/librispeech-other/LibriSpeech/test-other/2609/156975/2609-156975-0033.flac': 'MOSES IN THE HOME OF THE MIDIAN PRIEST WAS BROUGHT INTO DIRECT AND CONSTANT CONTACT WITH THE JEHOVAH WORSHIP', '/content/librispeech-other/LibriSpeech/test-other/2609/156975/2609-156975-0021.flac': 'ON THE BORDERS OF THE WILDERNESS HE FOUND CERTAIN BEDOUIN HERDSMEN WHO RECEIVED HIM HOSPITABLY', '/content/librispeech-other/LibriSpeech/test-other/2609/156975/2609-156975-0023.flac': 'LATER HE FOUND HIS WAY TO THE COURT OF ONE OF THE LOCAL KINGS IN CENTRAL PALESTINE WHERE HE MARRIED AND BECAME IN TIME A PROSPEROUS LOCAL PRINCE', '/content/librispeech-other/LibriSpeech/test-other/2609/156975/2609-156975-0003.flac': 'THE EGYPTIAN BACKGROUND OF THE BONDAGE', '/content/librispeech-other/LibriSpeech/test-other/2609/156975/2609-156975-0026.flac': 'THE PRIEST OF THE SUB TRIBE OF THE KENITES RECEIVED HIM INTO HIS HOME AND GAVE HIM HIS DAUGHTER IN MARRIAGE', '/content/librispeech-other/LibriSpeech/test-other/2609/156975/2609-156975-0022.flac': 'THESE SAND WANDERERS SENT HIM ON FROM TRIBE TO TRIBE UNTIL HE REACHED THE LAND OF KEDEM EAST OF THE DEAD SEA WHERE HE REMAINED FOR A YEAR AND A HALF', '/content/librispeech-other/LibriSpeech/test-other/2609/156975/2609-156975-0020.flac': 'FROM ABOUT TWO THOUSAND B C', '/content/librispeech-other/LibriSpeech/test-other/2609/156975/2609-156975-0027.flac': 'NOTE THE CHARACTERISTIC ORIENTAL IDEA OF MARRIAGE', '/content/librispeech-other/LibriSpeech/test-other/2609/156975/2609-156975-0031.flac': 'DO THE EARLIEST HEBREW TRADITIONS IMPLY THAT THE ANCESTORS OF THE ISRAELITES WERE WORSHIPPERS OF JEHOVAH', '/content/librispeech-other/LibriSpeech/test-other/2609/156975/2609-156975-0014.flac': 'THE MAKING OF A LOYAL PATRIOT', '/content/librispeech-other/LibriSpeech/test-other/2609/156975/2609-156975-0008.flac': 'THE BIBLICAL NARRATIVES APPARENTLY DISAGREE REGARDING THE DURATION OF THE SOJOURN IN EGYPT', '/content/librispeech-other/LibriSpeech/test-other/2609/156975/2609-156975-0016.flac': 'WAS MOSES JUSTIFIED IN RESISTING THE EGYPTIAN TASKMASTER', '/content/librispeech-other/LibriSpeech/test-other/2609/156975/2609-156975-0035.flac': 'HIS QUEST WAS FOR A JUST AND STRONG GOD ABLE TO DELIVER THE OPPRESSED', '/content/librispeech-other/LibriSpeech/test-other/2609/156975/2609-156975-0005.flac': 'THE ABSENCE OF DETAILED REFERENCE TO THE HEBREWS IS THEREFORE PERFECTLY NATURAL', '/content/librispeech-other/LibriSpeech/test-other/2609/156975/2609-156975-0030.flac': \"MANY MODERN SCHOLARS DRAW THE CONCLUSION FROM THE BIBLICAL NARRATIVE THAT IT WAS FROM THE KENITES THAT MOSES FIRST LEARNED OF YAHWEH OR AS THE DISTINCTIVE NAME OF ISRAEL'S GOD WAS TRANSLATED BY LATER JEWISH SCRIBES JEHOVAH\", '/content/librispeech-other/LibriSpeech/test-other/2609/156975/2609-156975-0019.flac': 'THE WILDERNESS TO THE EAST OF EGYPT HAD FOR CENTURIES BEEN THE PLACE OF REFUGE FOR EGYPTIAN FUGITIVES', '/content/librispeech-other/LibriSpeech/test-other/2609/156975/2609-156975-0037.flac': 'THE PEASANTS OF THE VAST ANTOLIAN PLAIN IN CENTRAL ASIA MINOR STILL CALL EVERY LIFE GIVING SPRING GOD HATH GIVEN', '/content/librispeech-other/LibriSpeech/test-other/2609/156975/2609-156975-0032.flac': 'THE TITLE OF HIS FATHER IN LAW IMPLIES THAT THIS PRIEST MINISTERED AT SOME WILDERNESS SANCTUARY', '/content/librispeech-other/LibriSpeech/test-other/2609/156975/2609-156975-0034.flac': 'THE CRUEL FATE OF HIS PEOPLE AND THE PAINFUL EXPERIENCE IN EGYPT THAT HAD DRIVEN HIM INTO THE WILDERNESS PREPARED HIS MIND TO RECEIVE THIS TRAINING', '/content/librispeech-other/LibriSpeech/test-other/2609/156975/2609-156975-0017.flac': 'IS PEONAGE ALWAYS DISASTROUS NOT ONLY TO ITS VICTIMS BUT ALSO TO THE GOVERNMENT IMPOSING IT', '/content/librispeech-other/LibriSpeech/test-other/2609/156975/2609-156975-0024.flac': 'THE SCHOOL OF THE WILDERNESS', '/content/librispeech-other/LibriSpeech/test-other/2609/156975/2609-156975-0009.flac': 'THE LATER TRADITIONS TEND TO EXTEND THE PERIOD', '/content/librispeech-other/LibriSpeech/test-other/2609/156975/2609-156975-0025.flac': 'THE STORY OF MOSES IS IN MANY WAYS CLOSELY PARALLEL TO THAT OF SINUHIT', '/content/librispeech-other/LibriSpeech/test-other/2609/156975/2609-156975-0000.flac': 'THEN MOSES WAS AFRAID AND SAID SURELY THE THING IS KNOWN', '/content/librispeech-other/LibriSpeech/test-other/2609/156975/2609-156975-0006.flac': 'IT SEEMS PROBABLE THAT NOT ALL BUT ONLY PART OF THE TRIBES WHICH ULTIMATELY COALESCED INTO THE HEBREW NATION FOUND THEIR WAY TO EGYPT', '/content/librispeech-other/LibriSpeech/test-other/7105/2330/7105-2330-0024.flac': 'THE CHIEF ORGANISER RANG OFF', '/content/librispeech-other/LibriSpeech/test-other/7105/2330/7105-2330-0038.flac': \"IT WAS A TUNE THEY HAD ALL HEARD HUNDREDS OF TIMES SO THERE WAS NO DIFFICULTY IN TURNING OUT A PASSABLE IMITATION OF IT TO THE IMPROVISED STRAINS OF I DIDN'T WANT TO DO IT THE PRISONER STRODE FORTH TO FREEDOM\", '/content/librispeech-other/LibriSpeech/test-other/7105/2330/7105-2330-0008.flac': 'THE JURY FIND THE PRISONER GUILTY OF BLOWING UP THE ALBERT HALL', '/content/librispeech-other/LibriSpeech/test-other/7105/2330/7105-2330-0037.flac': \"THE POPULAR SONG OF THE MOMENT REPLIED THE AGITATOR AFTER A MOMENT'S REFLECTION\", '/content/librispeech-other/LibriSpeech/test-other/7105/2330/7105-2330-0039.flac': 'THE WORD OF THE SONG HAD REFERENCE IT WAS UNDERSTOOD TO THE INCARCERATING GOVERNMENT AND NOT TO THE DESTROYER OF THE ALBERT HALL', '/content/librispeech-other/LibriSpeech/test-other/7105/2330/7105-2330-0002.flac': 'THE JURY COULD NOT POSSIBLY FIND THAT THE PRISONER HAD NOT DELIBERATELY AND INTENTIONALLY BLOWN UP THE ALBERT HALL THE QUESTION WAS COULD THEY FIND ANY EXTENUATING CIRCUMSTANCES WHICH WOULD PERMIT OF AN ACQUITTAL', '/content/librispeech-other/LibriSpeech/test-other/7105/2330/7105-2330-0011.flac': \"FIFTEEN HUNDRED SAID THE PRIME MINISTER WITH A SHUDDER IT'S TOO HORRIBLE TO THINK OF\", '/content/librispeech-other/LibriSpeech/test-other/7105/2330/7105-2330-0036.flac': 'LEND US THE INSTRUMENTS SAID THE CHIEF ORGANISER', '/content/librispeech-other/LibriSpeech/test-other/7105/2330/7105-2330-0030.flac': 'IT WAS FROM THE CENTRAL COMMITTEE ROOMS AT NEMESIS', '/content/librispeech-other/LibriSpeech/test-other/7105/2330/7105-2330-0041.flac': 'THE LOCAL TRADE UNIONISTS TOOK OFFENCE AT THE FACT OF CABINET MINISTERS HAVING PERSONALLY ACTED AS STRIKE BREAKERS AND EVEN THE RELEASE OF PLATTERBAFF FAILED TO PACIFY THEM', '/content/librispeech-other/LibriSpeech/test-other/7105/2330/7105-2330-0034.flac': 'DEMANDED THE CHIEF ORGANISER OF THE PRISON GOVERNOR DRUMS CYMBALS THOSE SORT OF THINGS', '/content/librispeech-other/LibriSpeech/test-other/7105/2330/7105-2330-0014.flac': 'NOT LATER THAN SEVEN THIRTY THEN SAID THE CHIEF ORGANISER I HAVE PROMISED THE AGENT DOWN THERE THAT HE SHALL BE ABLE TO DISPLAY POSTERS ANNOUNCING PLATTERBAFF IS OUT BEFORE THE POLL OPENS', '/content/librispeech-other/LibriSpeech/test-other/7105/2330/7105-2330-0033.flac': 'HAVE YOU ANY BAND INSTRUMENTS OF AN EASY NATURE TO PLAY', '/content/librispeech-other/LibriSpeech/test-other/7105/2330/7105-2330-0015.flac': 'HE SAID IT WAS OUR ONLY CHANCE OF GETTING A TELEGRAM RADPROP IS IN TO NIGHT', '/content/librispeech-other/LibriSpeech/test-other/7105/2330/7105-2330-0010.flac': 'AND MAY THE LORD HAVE MERCY ON THE POLL A JUNIOR COUNSEL EXCLAIMED IRREVERENTLY', '/content/librispeech-other/LibriSpeech/test-other/7105/2330/7105-2330-0000.flac': \"UNFORTUNATELY THERE COULD BE NO DOUBT OR MISCONCEPTION AS TO PLATTERBAFF'S GUILT\", '/content/librispeech-other/LibriSpeech/test-other/7105/2330/7105-2330-0031.flac': 'WITHOUT A BAND HE WOULD NOT GO AND THEY HAD NO BAND', '/content/librispeech-other/LibriSpeech/test-other/7105/2330/7105-2330-0004.flac': 'A HEADLONG PARDON ON THE EVE OF A BYE ELECTION WITH THREATS OF A HEAVY VOTING DEFECTION IF IT WERE WITHHELD OR EVEN DELAYED WOULD NOT NECESSARILY BE A SURRENDER BUT IT WOULD LOOK LIKE ONE', '/content/librispeech-other/LibriSpeech/test-other/7105/2330/7105-2330-0025.flac': 'THIS IS NOT A MOMENT FOR STANDING ON DIGNITY HE OBSERVED BLUNTLY MUSICIANS MUST BE SUPPLIED AT ONCE', '/content/librispeech-other/LibriSpeech/test-other/7105/2330/7105-2330-0013.flac': 'SEVEN THIRTY AMENDED THE PRIME MINISTER WE MUST AVOID ANY APPEARANCE OF PRECIPITANCY', '/content/librispeech-other/LibriSpeech/test-other/7105/2330/7105-2330-0026.flac': \"CAN'T YOU GET A STRIKE PERMIT ASKED THE ORGANISER\", '/content/librispeech-other/LibriSpeech/test-other/7105/2330/7105-2330-0019.flac': 'SAID THE PRIME MINISTER WE CAN HARDLY BE SUPPOSED TO SUPPLY A RELEASED PRISONER WITH A BRASS BAND HOW ON EARTH COULD WE DEFEND IT ON THE ESTIMATES', '/content/librispeech-other/LibriSpeech/test-other/7105/2330/7105-2330-0035.flac': \"THE WARDERS HAVE A PRIVATE BAND OF THEIR OWN SAID THE GOVERNOR BUT OF COURSE I COULDN'T ALLOW THE MEN THEMSELVES\", '/content/librispeech-other/LibriSpeech/test-other/7105/2330/7105-2330-0007.flac': 'THE FOREMAN DELIVERED HIS MESSAGE', '/content/librispeech-other/LibriSpeech/test-other/7105/2330/7105-2330-0018.flac': \"HE SAYS HE NEVER HAS LEFT PRISON WITHOUT A BRASS BAND TO PLAY HIM OUT AND HE'S NOT GOING TO GO WITHOUT ONE NOW\", '/content/librispeech-other/LibriSpeech/test-other/7105/2330/7105-2330-0029.flac': 'A TELEGRAM WAS BROUGHT IN', '/content/librispeech-other/LibriSpeech/test-other/7105/2330/7105-2330-0017.flac': \"HE EXCLAIMED WON'T GO\", '/content/librispeech-other/LibriSpeech/test-other/7105/2330/7105-2330-0009.flac': 'THE JURY WISH TO ADD A RIDER DRAWING ATTENTION TO THE FACT THAT A BY ELECTION IS PENDING IN THE PARLIAMENTARY DIVISION OF NEMESIS ON HAND', '/content/librispeech-other/LibriSpeech/test-other/7105/2330/7105-2330-0016.flac': 'DESPITE THE EARLINESS OF THE HOUR A SMALL CROWD HAD GATHERED IN THE STREET OUTSIDE AND THE HORRIBLE MENACING TRELAWNEY REFRAIN OF THE FIFTEEN HUNDRED VOTING MEN CAME IN A STEADY MONOTONOUS CHANT', '/content/librispeech-other/LibriSpeech/test-other/7105/2330/7105-2330-0005.flac': 'HENCE THE ANXIETY IN THE CROWDED COURT AND IN THE LITTLE GROUPS GATHERED ROUND THE TAPE MACHINES IN WHITEHALL AND DOWNING STREET AND OTHER AFFECTED CENTRES', '/content/librispeech-other/LibriSpeech/test-other/7105/2330/7105-2330-0020.flac': \"ANYWAY HE WON'T GO UNLESS HE HAS A BAND\", '/content/librispeech-other/LibriSpeech/test-other/7105/2330/7105-2330-0027.flac': \"I'LL TRY SAID THE HOME SECRETARY AND WENT TO THE TELEPHONE\", '/content/librispeech-other/LibriSpeech/test-other/7105/2330/7105-2330-0028.flac': \"EIGHT O'CLOCK STRUCK THE CROWD OUTSIDE CHANTED WITH AN INCREASING VOLUME OF SOUND WILL VOTE THE OTHER WAY\", '/content/librispeech-other/LibriSpeech/test-other/7105/2330/7105-2330-0003.flac': \"OF COURSE ANY SENTENCE WHICH THE LAW MIGHT FEEL COMPELLED TO INFLICT WOULD BE FOLLOWED BY AN IMMEDIATE PARDON BUT IT WAS HIGHLY DESIRABLE FROM THE GOVERNMENT'S POINT OF VIEW THAT THE NECESSITY FOR SUCH AN EXERCISE OF CLEMENCY SHOULD NOT ARISE\", '/content/librispeech-other/LibriSpeech/test-other/7105/2330/7105-2330-0040.flac': 'THE SEAT WAS LOST AFTER ALL BY A NARROW MAJORITY', '/content/librispeech-other/LibriSpeech/test-other/7105/2330/7105-2330-0023.flac': \"IN HEAVEN'S NAME WHY\", '/content/librispeech-other/LibriSpeech/test-other/7105/2330/7105-2330-0001.flac': 'HE HAD NOT ONLY PLEADED GUILTY BUT HAD EXPRESSED HIS INTENTION OF REPEATING HIS ESCAPADE IN OTHER DIRECTIONS AS SOON AS CIRCUMSTANCES PERMITTED THROUGHOUT THE TRIAL HE WAS BUSY EXAMINING A SMALL MODEL OF THE FREE TRADE HALL IN MANCHESTER', '/content/librispeech-other/LibriSpeech/test-other/7105/2330/7105-2330-0021.flac': 'POLL OPENS IN FIVE MINUTES', '/content/librispeech-other/LibriSpeech/test-other/7105/2330/7105-2330-0022.flac': 'IS PLATTERBAFF OUT YET', '/content/librispeech-other/LibriSpeech/test-other/7105/2330/7105-2330-0012.flac': 'OUR MAJORITY LAST TIME WAS ONLY A THOUSAND AND SEVEN', '/content/librispeech-other/LibriSpeech/test-other/7105/2330/7105-2330-0006.flac': 'THE JURY RETURNED FROM CONSIDERING THEIR VERDICT THERE WAS A FLUTTER AN EXCITED MURMUR A DEATHLIKE HUSH', '/content/librispeech-other/LibriSpeech/test-other/7105/2330/7105-2330-0032.flac': 'A QUARTER PAST TEN HALF PAST', '/content/librispeech-other/LibriSpeech/test-other/7105/2340/7105-2340-0030.flac': 'IT WAS MISSUS PETER WHO ARRIVED FIRST AT AN INSPIRATION HOW DREADFUL TO THINK THERE ARE THIEVES IN THE HOUSE WE KEEP THE DRAWING ROOM LOCKED UP AT NIGHT OF COURSE BUT ANYTHING MIGHT BE CARRIED OFF WHILE WE ARE AT BREAKFAST', '/content/librispeech-other/LibriSpeech/test-other/7105/2340/7105-2340-0023.flac': 'WILFRID WAS LATE IN COMING DOWN TO BREAKFAST AND HIS MANNER SHOWED PLAINLY THAT SOMETHING WAS AMISS', '/content/librispeech-other/LibriSpeech/test-other/7105/2340/7105-2340-0000.flac': \"WITH THAT NOTORIOUS FAILING OF HIS HE WAS NOT THE SORT OF PERSON ONE WANTED IN ONE'S HOUSE\", '/content/librispeech-other/LibriSpeech/test-other/7105/2340/7105-2340-0005.flac': \"A WILFRID PIGEONCOTE HAD COVERED HIMSELF WITH HONOURS IN THE COURSE OF MARLBOROUGH'S CAMPAIGNS AND THE NAME WILFRID HAD BEEN A BAPTISMAL WEAKNESS IN THE FAMILY EVER SINCE THE NEW HEIR TO THE FAMILY DIGNITY AND ESTATES WAS A YOUNG MAN OF ABOUT FIVE AND TWENTY WHO WAS KNOWN MORE BY REPUTATION THAN BY PERSON TO A WIDE CIRCLE OF COUSINS AND KINSFOLK\", '/content/librispeech-other/LibriSpeech/test-other/7105/2340/7105-2340-0012.flac': 'IN THE DRAWING ROOM AFTER DINNER THEIR NERVOUSNESS AND AWKWARDNESS INCREASED', '/content/librispeech-other/LibriSpeech/test-other/7105/2340/7105-2340-0011.flac': 'THE TALK FLITTED NERVOUSLY AND HURRIEDLY FROM ONE IMPERSONAL TOPIC TO ANOTHER', '/content/librispeech-other/LibriSpeech/test-other/7105/2340/7105-2340-0016.flac': 'WE FEEL THAT WE MUST LIVE ON CREAM FOR THE REST OF OUR LIVES', '/content/librispeech-other/LibriSpeech/test-other/7105/2340/7105-2340-0006.flac': 'AND THE REPUTATION WAS AN UNPLEASANT ONE', '/content/librispeech-other/LibriSpeech/test-other/7105/2340/7105-2340-0018.flac': 'I PUT IT DOWN BY THE CLARET JUG SAID WILFRID BUSY WITH ANOTHER OBJECT', '/content/librispeech-other/LibriSpeech/test-other/7105/2340/7105-2340-0010.flac': \"I SUPPOSE HE'S BRINGING US A PRESENT FOR THE SILVER WEDDING GOOD GRACIOUS\", '/content/librispeech-other/LibriSpeech/test-other/7105/2340/7105-2340-0034.flac': 'MISSUS PETER TURNED TO HER GUEST WITH CONFIDENTIAL COYNESS', '/content/librispeech-other/LibriSpeech/test-other/7105/2340/7105-2340-0019.flac': 'VIGILANCE WAS NOT COMPLETELY CROWNED WITH A SENSE OF VICTORY', '/content/librispeech-other/LibriSpeech/test-other/7105/2340/7105-2340-0009.flac': 'SIGNED WILFRID PIGEONCOTE', '/content/librispeech-other/LibriSpeech/test-other/7105/2340/7105-2340-0037.flac': 'BRAVE LITTLE WOMAN SAID PETER WITH A GASP OF RELIEF I COULD NEVER HAVE DONE IT', '/content/librispeech-other/LibriSpeech/test-other/7105/2340/7105-2340-0020.flac': 'AFTER THEY HAD SAID GOOD NIGHT TO THEIR VISITOR MISSUS PETER EXPRESSED HER CONVICTION THAT HE HAD TAKEN SOMETHING', '/content/librispeech-other/LibriSpeech/test-other/7105/2340/7105-2340-0025.flac': 'IT WAS A LITTLE PRESENT FROM MY MOTHER AND MYSELF FOR YOUR SILVER WEDDING', '/content/librispeech-other/LibriSpeech/test-other/7105/2340/7105-2340-0017.flac': 'OF COURSE SOME OF THEM CAN BE CHANGED', '/content/librispeech-other/LibriSpeech/test-other/7105/2340/7105-2340-0001.flac': \"WELL THE FAILING STILL EXISTS DOESN'T IT SAID HER HUSBAND OR DO YOU SUPPOSE A REFORM OF CHARACTER IS ENTAILED ALONG WITH THE ESTATE\", '/content/librispeech-other/LibriSpeech/test-other/7105/2340/7105-2340-0022.flac': \"IT'S THE ONLY THING TO DO\", '/content/librispeech-other/LibriSpeech/test-other/7105/2340/7105-2340-0004.flac': 'WILFRID PIGEONCOTE HAD SUDDENLY BECOME HEIR TO HIS UNCLE SIR WILFRID PIGEONCOTE ON THE DEATH OF HIS COUSIN MAJOR WILFRID PIGEONCOTE WHO HAD SUCCUMBED TO THE AFTER EFFECTS OF A POLO ACCIDENT', '/content/librispeech-other/LibriSpeech/test-other/7105/2340/7105-2340-0015.flac': 'SEVEN CREAM JUGS PUT IN PETER', '/content/librispeech-other/LibriSpeech/test-other/7105/2340/7105-2340-0035.flac': \"PETER'S LITTLE WEAKNESS IT RUNS IN THE FAMILY GOOD LORD\", '/content/librispeech-other/LibriSpeech/test-other/7105/2340/7105-2340-0033.flac': 'PETER DASHED OUT OF THE ROOM WITH GLAD RELIEF HE HAD LIVED SO LONG DURING THE LAST FEW MINUTES THAT A GOLDEN WEDDING SEEMED WITHIN MEASURABLE DISTANCE', '/content/librispeech-other/LibriSpeech/test-other/7105/2340/7105-2340-0026.flac': 'I SHOULD HAVE GIVEN IT TO YOU LAST NIGHT AFTER DINNER ONLY IT HAPPENED TO BE A CREAM JUG AND YOU SEEMED ANNOYED AT HAVING SO MANY DUPLICATES SO I FELT RATHER AWKWARD ABOUT GIVING YOU ANOTHER', '/content/librispeech-other/LibriSpeech/test-other/7105/2340/7105-2340-0014.flac': 'SUCH NICE USEFUL GIFTS A FEW DUPLICATES OF COURSE', '/content/librispeech-other/LibriSpeech/test-other/7105/2340/7105-2340-0029.flac': 'HUSBAND AND WIFE LOOKED BLANKLY AND DESPERATELY AT ONE ANOTHER', '/content/librispeech-other/LibriSpeech/test-other/7105/2340/7105-2340-0021.flac': \"HOW ON EARTH ARE WE TO KNOW SAID PETER THE MEAN PIG HASN'T BROUGHT US A PRESENT AND I'M HANGED IF HE SHALL CARRY ONE OFF\", '/content/librispeech-other/LibriSpeech/test-other/7105/2340/7105-2340-0031.flac': 'SHE ROSE AND WENT OUT HURRIEDLY AS THOUGH TO ASSURE HERSELF THAT THE DRAWING ROOM WAS NOT BEING STRIPPED OF ITS SILVERWARE AND RETURNED A MOMENT LATER BEARING A CREAM JUG IN HER HANDS', '/content/librispeech-other/LibriSpeech/test-other/7105/2340/7105-2340-0024.flac': \"IT'S AN UNPLEASANT THING TO HAVE TO SAY HE BLURTED OUT PRESENTLY BUT I'M AFRAID YOU MUST HAVE A THIEF AMONG YOUR SERVANTS SOMETHING'S BEEN TAKEN OUT OF MY PORTMANTEAU\", '/content/librispeech-other/LibriSpeech/test-other/7105/2340/7105-2340-0003.flac': 'WHEN A MAN IS ABSOLUTELY WEALTHY NOT MERELY WELL TO DO ALL SUSPICION OF SORDID MOTIVE NATURALLY DISAPPEARS THE THING BECOMES MERELY A TIRESOME MALADY', '/content/librispeech-other/LibriSpeech/test-other/7105/2340/7105-2340-0027.flac': 'THE SNATCHER HAD BEEN AN ORPHAN THESE MANY YEARS', '/content/librispeech-other/LibriSpeech/test-other/7105/2340/7105-2340-0007.flac': \"FROM HIS LATE SCHOOLDAYS ONWARD HE HAD BEEN POSSESSED BY AN ACUTE AND OBSTINATE FORM OF KLEPTOMANIA HE HAD THE ACQUISITIVE INSTINCT OF THE COLLECTOR WITHOUT ANY OF THE COLLECTOR'S DISCRIMINATION\", '/content/librispeech-other/LibriSpeech/test-other/7105/2340/7105-2340-0036.flac': \"DO YOU MEAN TO SAY HE'S A KLEPTOMANIAC LIKE COUSIN SNATCHER\", '/content/librispeech-other/LibriSpeech/test-other/7105/2340/7105-2340-0002.flac': 'BESIDES CYNICISM APART HIS BEING RICH WILL MAKE A DIFFERENCE IN THE WAY PEOPLE WILL LOOK AT HIS FAILING', '/content/librispeech-other/LibriSpeech/test-other/7105/2340/7105-2340-0008.flac': \"THE SEARCH USUALLY PRODUCED A LARGE AND VARIED YIELD THIS IS FUNNY SAID PETER PIGEONCOTE TO HIS WIFE SOME HALF HOUR AFTER THEIR CONVERSATION HERE'S A TELEGRAM FROM WILFRID SAYING HE'S PASSING THROUGH HERE IN HIS MOTOR AND WOULD LIKE TO STOP AND PAY US HIS RESPECTS\", '/content/librispeech-other/LibriSpeech/test-other/7105/2340/7105-2340-0013.flac': \"OH WE HAVEN'T SHOWN YOU THE SILVER WEDDING PRESENTS SAID MISSUS PETER SUDDENLY AS THOUGH STRUCK BY A BRILLIANT IDEA FOR ENTERTAINING THE GUEST HERE THEY ALL ARE\", '/content/librispeech-other/LibriSpeech/test-other/7105/2340/7105-2340-0028.flac': 'LADY ERNESTINE PIGEONCOTE HIS MOTHER MOVED IN CIRCLES WHICH WERE ENTIRELY BEYOND THEIR COMPASS OR AMBITIONS AND THE SON WOULD PROBABLY ONE DAY BE AN AMBASSADOR', '/content/librispeech-other/LibriSpeech/test-other/7105/2340/7105-2340-0032.flac': 'THE PIGEONCOTES HAD TURNED PALER THAN EVER MISSUS PETER HAD A FINAL INSPIRATION', '/content/librispeech-other/LibriSpeech/test-other/5764/299665/5764-299665-0060.flac': 'RELIGION HAS ALWAYS BEEN THE ENEMY OF SCIENCE OF INVESTIGATION AND THOUGHT', '/content/librispeech-other/LibriSpeech/test-other/5764/299665/5764-299665-0014.flac': 'DID INFINITE WISDOM INTENTIONALLY PRODUCE THE MICROSCOPIC BEASTS THAT FEED UPON THE OPTIC NERVE THINK OF BLINDING A MAN TO SATISFY THE APPETITE OF A MICROBE', '/content/librispeech-other/LibriSpeech/test-other/5764/299665/5764-299665-0066.flac': 'RELIGION RESTS ON THE IDEA THAT NATURE HAS A MASTER AND THAT THIS MASTER WILL LISTEN TO PRAYER THAT THIS MASTER PUNISHES AND REWARDS THAT HE LOVES PRAISE AND FLATTERY AND HATES THE BRAVE AND FREE', '/content/librispeech-other/LibriSpeech/test-other/5764/299665/5764-299665-0035.flac': 'THEY ARE REGARDED AS GOOD THAT IS TO SAY AS MORAL', '/content/librispeech-other/LibriSpeech/test-other/5764/299665/5764-299665-0068.flac': 'THE STRUCTURE MUST HAVE A BASEMENT', '/content/librispeech-other/LibriSpeech/test-other/5764/299665/5764-299665-0052.flac': 'THEY MUFFLED ALL THE BELLS OF GLADNESS', '/content/librispeech-other/LibriSpeech/test-other/5764/299665/5764-299665-0093.flac': 'THIS CANNOT BE DONE BY TALK OR EXAMPLE', '/content/librispeech-other/LibriSpeech/test-other/5764/299665/5764-299665-0046.flac': 'WHEN THE CHURCH HAD CONTROL WERE MEN MADE BETTER AND HAPPIER', '/content/librispeech-other/LibriSpeech/test-other/5764/299665/5764-299665-0040.flac': 'A MAN PUTS HIMSELF IN THE PLACE OF ANOTHER', '/content/librispeech-other/LibriSpeech/test-other/5764/299665/5764-299665-0074.flac': 'IT FOLLOWS THAT THERE COULD NOT HAVE BEEN ANY INTELLIGENCE ANY DESIGN BACK OF MATTER AND FORCE', '/content/librispeech-other/LibriSpeech/test-other/5764/299665/5764-299665-0020.flac': 'DO WE PROVE HIS GOODNESS BY SHOWING THAT HE HAS OPENED THE EARTH AND SWALLOWED THOUSANDS OF HIS HELPLESS CHILDREN OR THAT WITH THE VOLCANOES HE HAS OVERWHELMED THEM WITH RIVERS OF FIRE', '/content/librispeech-other/LibriSpeech/test-other/5764/299665/5764-299665-0008.flac': 'IS THIS GOD RESPONSIBLE FOR RELIGIOUS PERSECUTION FOR THE INQUISITION FOR THE THUMB SCREW AND RACK AND FOR ALL THE INSTRUMENTS OF TORTURE', '/content/librispeech-other/LibriSpeech/test-other/5764/299665/5764-299665-0065.flac': 'CAN WE RECEIVE VIRTUE OR HONOR AS ALMS', '/content/librispeech-other/LibriSpeech/test-other/5764/299665/5764-299665-0069.flac': 'IF WE BUILD WE MUST BEGIN AT THE BOTTOM', '/content/librispeech-other/LibriSpeech/test-other/5764/299665/5764-299665-0079.flac': 'WE NOW KNOW THAT OUR FIRST PARENTS WERE NOT FOREIGNERS', '/content/librispeech-other/LibriSpeech/test-other/5764/299665/5764-299665-0072.flac': 'IF THESE CORNER STONES ARE FACTS IT FOLLOWS AS A NECESSITY THAT MATTER AND FORCE ARE FROM AND TO ETERNITY THAT THEY CAN NEITHER BE INCREASED NOR DIMINISHED', '/content/librispeech-other/LibriSpeech/test-other/5764/299665/5764-299665-0032.flac': 'IT IS INSISTED BY THESE THEOLOGIANS AND BY MANY OF THE SO CALLED PHILOSOPHERS THAT THIS MORAL SENSE THIS SENSE OF DUTY OF OBLIGATION WAS IMPORTED AND THAT CONSCIENCE IS AN EXOTIC', '/content/librispeech-other/LibriSpeech/test-other/5764/299665/5764-299665-0047.flac': 'WHAT HAS RELIGION DONE FOR HUNGARY OR AUSTRIA', '/content/librispeech-other/LibriSpeech/test-other/5764/299665/5764-299665-0038.flac': 'AS PEOPLE ADVANCE THE REMOTE CONSEQUENCES ARE PERCEIVED', '/content/librispeech-other/LibriSpeech/test-other/5764/299665/5764-299665-0073.flac': 'IT FOLLOWS THAT NOTHING HAS BEEN OR CAN BE CREATED THAT THERE NEVER HAS BEEN OR CAN BE A CREATOR', '/content/librispeech-other/LibriSpeech/test-other/5764/299665/5764-299665-0004.flac': 'WHY DID HE CREATE THE DEFORMED AND HELPLESS WHY DID HE CREATE THE CRIMINAL THE IDIOTIC THE INSANE', '/content/librispeech-other/LibriSpeech/test-other/5764/299665/5764-299665-0067.flac': 'WE MUST HAVE CORNER STONES', '/content/librispeech-other/LibriSpeech/test-other/5764/299665/5764-299665-0090.flac': 'WHY SHOULD MEN AND WOMEN HAVE CHILDREN THAT THEY CANNOT TAKE CARE OF CHILDREN THAT ARE BURDENS AND CURSES WHY', '/content/librispeech-other/LibriSpeech/test-other/5764/299665/5764-299665-0086.flac': 'THEY LIVE BY FRAUD AND VIOLENCE AND BEQUEATH THEIR VICES TO THEIR CHILDREN', '/content/librispeech-other/LibriSpeech/test-other/5764/299665/5764-299665-0031.flac': 'IT IS A RESULT', '/content/librispeech-other/LibriSpeech/test-other/5764/299665/5764-299665-0075.flac': 'I SAY WHAT I THINK', '/content/librispeech-other/LibriSpeech/test-other/5764/299665/5764-299665-0017.flac': 'LIPS RELIGIOUS AND FEARFUL TREMBLINGLY REPEAT THIS PASSAGE THOUGH HE SLAY ME YET WILL I TRUST HIM', '/content/librispeech-other/LibriSpeech/test-other/5764/299665/5764-299665-0062.flac': 'IT HAS NEVER MADE MAN MORAL TEMPERATE INDUSTRIOUS AND HONEST', '/content/librispeech-other/LibriSpeech/test-other/5764/299665/5764-299665-0042.flac': 'MAN JUDGES HIMSELF', '/content/librispeech-other/LibriSpeech/test-other/5764/299665/5764-299665-0080.flac': 'WE NOW KNOW IF WE KNOW ANYTHING THAT THE UNIVERSE IS NATURAL AND THAT MEN AND WOMEN HAVE BEEN NATURALLY PRODUCED', '/content/librispeech-other/LibriSpeech/test-other/5764/299665/5764-299665-0022.flac': 'OUGHT THE SUPERIOR RACES TO THANK GOD THAT THEY ARE NOT THE INFERIOR', '/content/librispeech-other/LibriSpeech/test-other/5764/299665/5764-299665-0053.flac': 'THE RELIGION OF THE PURITAN WAS AN UNADULTERATED CURSE', '/content/librispeech-other/LibriSpeech/test-other/5764/299665/5764-299665-0048.flac': 'COULD THESE COUNTRIES HAVE BEEN WORSE WITHOUT RELIGION', '/content/librispeech-other/LibriSpeech/test-other/5764/299665/5764-299665-0071.flac': 'THE FIRST STONE IS THAT MATTER SUBSTANCE CANNOT BE DESTROYED CANNOT BE ANNIHILATED', '/content/librispeech-other/LibriSpeech/test-other/5764/299665/5764-299665-0033.flac': 'WE LIVE TOGETHER IN FAMILIES TRIBES AND NATIONS', '/content/librispeech-other/LibriSpeech/test-other/5764/299665/5764-299665-0003.flac': 'WHY DID HE CREATE THE INTELLECTUALLY INFERIOR', '/content/librispeech-other/LibriSpeech/test-other/5764/299665/5764-299665-0041.flac': 'THE SENSE OF DUTY BECOMES STRONGER MORE IMPERATIVE', '/content/librispeech-other/LibriSpeech/test-other/5764/299665/5764-299665-0051.flac': 'THEY HATED PLEASURE', '/content/librispeech-other/LibriSpeech/test-other/5764/299665/5764-299665-0057.flac': 'IN OTHER WORDS IT WAS JUST AS FIENDISH JUST AS INFAMOUS AS THE CATHOLIC SPIRIT', '/content/librispeech-other/LibriSpeech/test-other/5764/299665/5764-299665-0044.flac': 'MAN HAS DECEIVED HIMSELF', '/content/librispeech-other/LibriSpeech/test-other/5764/299665/5764-299665-0009.flac': 'DID THIS GOD ALLOW THE CRUEL AND VILE TO DESTROY THE BRAVE AND VIRTUOUS', '/content/librispeech-other/LibriSpeech/test-other/5764/299665/5764-299665-0064.flac': 'CAN WE CURE DISEASE BY SUPPLICATION', '/content/librispeech-other/LibriSpeech/test-other/5764/299665/5764-299665-0056.flac': 'THE QUEEN RECEIVED THE BIBLE KISSED IT AND PLEDGED HERSELF TO DILIGENTLY READ THEREIN', '/content/librispeech-other/LibriSpeech/test-other/5764/299665/5764-299665-0027.flac': 'A MAN WISHING TO GO TO A CERTAIN PLACE COMES TO WHERE THE ROAD DIVIDES', '/content/librispeech-other/LibriSpeech/test-other/5764/299665/5764-299665-0000.flac': 'AFTERWARD IT WAS SUPPOSED THAT HE WAS SATISFIED WITH THE BLOOD OF OXEN LAMBS AND DOVES AND THAT IN EXCHANGE FOR OR ON ACCOUNT OF THESE SACRIFICES THIS GOD GAVE RAIN SUNSHINE AND HARVEST', '/content/librispeech-other/LibriSpeech/test-other/5764/299665/5764-299665-0095.flac': 'THIS FREES WOMAN', '/content/librispeech-other/LibriSpeech/test-other/5764/299665/5764-299665-0088.flac': 'NATURE PRODUCES WITHOUT PURPOSE SUSTAINS WITHOUT INTENTION AND DESTROYS WITHOUT THOUGHT', '/content/librispeech-other/LibriSpeech/test-other/5764/299665/5764-299665-0094.flac': 'THIS IS THE SOLUTION OF THE WHOLE QUESTION', '/content/librispeech-other/LibriSpeech/test-other/5764/299665/5764-299665-0043.flac': 'IN ALL THIS THERE IS NOTHING SUPERNATURAL', '/content/librispeech-other/LibriSpeech/test-other/5764/299665/5764-299665-0005.flac': 'ARE THE FAILURES UNDER OBLIGATION TO THEIR CREATOR', '/content/librispeech-other/LibriSpeech/test-other/5764/299665/5764-299665-0025.flac': 'WHAT IS THIS POWER', '/content/librispeech-other/LibriSpeech/test-other/5764/299665/5764-299665-0076.flac': 'EVERY EVENT HAS PARENTS', '/content/librispeech-other/LibriSpeech/test-other/5764/299665/5764-299665-0010.flac': 'DID HE ALLOW TYRANTS TO SHED THE BLOOD OF PATRIOTS', '/content/librispeech-other/LibriSpeech/test-other/5764/299665/5764-299665-0063.flac': 'ARE CHRISTIANS MORE TEMPERATE NEARER VIRTUOUS NEARER HONEST THAN SAVAGES', '/content/librispeech-other/LibriSpeech/test-other/5764/299665/5764-299665-0061.flac': 'RELIGION HAS NEVER MADE MAN FREE', '/content/librispeech-other/LibriSpeech/test-other/5764/299665/5764-299665-0050.flac': 'WHAT DID CHRISTIANITY DO FOR THEM', '/content/librispeech-other/LibriSpeech/test-other/5764/299665/5764-299665-0055.flac': 'LET ME REFER TO JUST ONE FACT SHOWING THE INFLUENCE OF A BELIEF IN THE BIBLE ON HUMAN BEINGS', '/content/librispeech-other/LibriSpeech/test-other/5764/299665/5764-299665-0077.flac': 'THAT WHICH HAS NOT HAPPENED COULD NOT', '/content/librispeech-other/LibriSpeech/test-other/5764/299665/5764-299665-0054.flac': 'THE PURITAN BELIEVED THE BIBLE TO BE THE WORD OF GOD AND THIS BELIEF HAS ALWAYS MADE THOSE WHO HELD IT CRUEL AND WRETCHED', '/content/librispeech-other/LibriSpeech/test-other/5764/299665/5764-299665-0084.flac': 'WHY HAVE THE REFORMERS FAILED', '/content/librispeech-other/LibriSpeech/test-other/5764/299665/5764-299665-0011.flac': 'CAN WE CONCEIVE OF A DEVIL BASE ENOUGH TO PREFER HIS ENEMIES TO HIS FRIENDS', '/content/librispeech-other/LibriSpeech/test-other/5764/299665/5764-299665-0026.flac': 'MAN ADVANCES AND NECESSARILY ADVANCES THROUGH EXPERIENCE', '/content/librispeech-other/LibriSpeech/test-other/5764/299665/5764-299665-0045.flac': 'HAS CHRISTIANITY DONE GOOD', '/content/librispeech-other/LibriSpeech/test-other/5764/299665/5764-299665-0087.flac': 'FAILURE SEEMS TO BE THE TRADEMARK OF NATURE WHY', '/content/librispeech-other/LibriSpeech/test-other/5764/299665/5764-299665-0070.flac': 'I HAVE A THEORY AND I HAVE FOUR CORNER STONES', '/content/librispeech-other/LibriSpeech/test-other/5764/299665/5764-299665-0039.flac': 'THE IMAGINATION IS CULTIVATED', '/content/librispeech-other/LibriSpeech/test-other/5764/299665/5764-299665-0078.flac': 'IN THE INFINITE CHAIN THERE IS AND THERE CAN BE NO BROKEN NO MISSING LINK', '/content/librispeech-other/LibriSpeech/test-other/5764/299665/5764-299665-0029.flac': 'A CHILD CHARMED BY THE BEAUTY OF THE FLAME GRASPS IT WITH ITS DIMPLED HAND', '/content/librispeech-other/LibriSpeech/test-other/5764/299665/5764-299665-0007.flac': 'IS HE RESPONSIBLE FOR THE CENTURIES OF SLAVERY FOR THE BACKS THAT HAVE BEEN SCARRED WITH THE LASH FOR THE BABES THAT HAVE BEEN SOLD FROM THE BREASTS OF MOTHERS FOR THE FAMILIES THAT HAVE BEEN SEPARATED AND DESTROYED', '/content/librispeech-other/LibriSpeech/test-other/5764/299665/5764-299665-0001.flac': 'WHETHER HE WAS THE CREATOR OF YOURSELF AND MYSELF', '/content/librispeech-other/LibriSpeech/test-other/5764/299665/5764-299665-0018.flac': 'CAN WE SAY THAT HE CARED FOR THE CHILDREN OF MEN', '/content/librispeech-other/LibriSpeech/test-other/5764/299665/5764-299665-0013.flac': 'HOW CAN WE ACCOUNT FOR A WORLD WHERE LIFE FEEDS ON LIFE', '/content/librispeech-other/LibriSpeech/test-other/5764/299665/5764-299665-0059.flac': 'RELIGION HAS BEEN TRIED AND IN ALL COUNTRIES IN ALL TIMES HAS FAILED', '/content/librispeech-other/LibriSpeech/test-other/5764/299665/5764-299665-0024.flac': 'IF THEY GIVE UP ONE GOD THEY IMAGINE ANOTHER', '/content/librispeech-other/LibriSpeech/test-other/5764/299665/5764-299665-0037.flac': 'THE GREATEST OF HUMAN BEINGS HAS SAID CONSCIENCE IS BORN OF LOVE', '/content/librispeech-other/LibriSpeech/test-other/5764/299665/5764-299665-0082.flac': 'WE KNOW THE FOOTSTEPS OF ADVANCE THEY HAVE BEEN TRACED', '/content/librispeech-other/LibriSpeech/test-other/5764/299665/5764-299665-0096.flac': 'POVERTY AND CRIME WILL BE CHILDLESS', '/content/librispeech-other/LibriSpeech/test-other/5764/299665/5764-299665-0012.flac': 'HOW CAN WE ACCOUNT FOR THE WILD BEASTS THAT DEVOUR HUMAN BEINGS FOR THE FANGED SERPENTS WHOSE BITE IS DEATH', '/content/librispeech-other/LibriSpeech/test-other/5764/299665/5764-299665-0081.flac': 'WE KNOW THE PATHS THAT LIFE HAS TRAVELED', '/content/librispeech-other/LibriSpeech/test-other/5764/299665/5764-299665-0092.flac': 'LAW CAN PUNISH BUT IT CAN NEITHER REFORM CRIMINALS NOR PREVENT CRIME', '/content/librispeech-other/LibriSpeech/test-other/5764/299665/5764-299665-0028.flac': 'HE HAS TRIED THAT ROAD AND KNOWS THAT IT IS THE WRONG ROAD', '/content/librispeech-other/LibriSpeech/test-other/5764/299665/5764-299665-0085.flac': 'THEY DEPEND ON THE LORD ON LUCK AND CHARITY', '/content/librispeech-other/LibriSpeech/test-other/5764/299665/5764-299665-0091.flac': 'PASSION IS AND ALWAYS HAS BEEN DEAF', '/content/librispeech-other/LibriSpeech/test-other/5764/299665/5764-299665-0083.flac': 'FOR THOUSANDS OF YEARS MEN AND WOMEN HAVE BEEN TRYING TO REFORM THE WORLD', '/content/librispeech-other/LibriSpeech/test-other/5764/299665/5764-299665-0034.flac': 'THEY ARE PRAISED ADMIRED AND RESPECTED', '/content/librispeech-other/LibriSpeech/test-other/5764/299665/5764-299665-0016.flac': 'FEAR ERECTS THE CATHEDRAL AND BOWS THE HEAD OF MAN IN WORSHIP', '/content/librispeech-other/LibriSpeech/test-other/5764/299665/5764-299665-0021.flac': 'WAS THERE GOODNESS WAS THERE WISDOM IN THIS', '/content/librispeech-other/LibriSpeech/test-other/5764/299665/5764-299665-0097.flac': 'IT IS FAR BETTER TO BE FREE TO LEAVE THE FORTS AND BARRICADES OF FEAR TO STAND ERECT AND FACE THE FUTURE WITH A SMILE', '/content/librispeech-other/LibriSpeech/test-other/5764/299665/5764-299665-0058.flac': 'HAS THE BIBLE MADE THE PEOPLE OF GEORGIA KIND AND MERCIFUL', '/content/librispeech-other/LibriSpeech/test-other/5764/299665/5764-299665-0019.flac': 'CAN WE SAY THAT HIS MERCY ENDURETH FOREVER', '/content/librispeech-other/LibriSpeech/test-other/5764/299665/5764-299665-0089.flac': 'MUST THE WORLD FOREVER REMAIN THE VICTIM OF IGNORANT PASSION', '/content/librispeech-other/LibriSpeech/test-other/5764/299665/5764-299665-0036.flac': 'THE MEMBERS WHO ADD TO THE MISERY OF THE FAMILY THE TRIBE OR THE NATION ARE CONSIDERED BAD MEMBERS', '/content/librispeech-other/LibriSpeech/test-other/5764/299665/5764-299665-0030.flac': 'THE POWER THAT WORKS FOR RIGHTEOUSNESS HAS TAUGHT THE CHILD A LESSON', '/content/librispeech-other/LibriSpeech/test-other/5764/299665/5764-299665-0023.flac': 'MOST PEOPLE CLING TO THE SUPERNATURAL', '/content/librispeech-other/LibriSpeech/test-other/5764/299665/5764-299665-0015.flac': 'FEAR BUILDS THE ALTAR AND OFFERS THE SACRIFICE', '/content/librispeech-other/LibriSpeech/test-other/5764/299665/5764-299665-0002.flac': 'WHETHER ANY PRAYER WAS EVER ANSWERED', '/content/librispeech-other/LibriSpeech/test-other/5764/299665/5764-299665-0049.flac': 'COULD THEY HAVE BEEN WORSE HAD THEY HAD ANY OTHER RELIGION THAN CHRISTIANITY', '/content/librispeech-other/LibriSpeech/test-other/5764/299665/5764-299665-0006.flac': 'IS HE RESPONSIBLE FOR ALL THE WARS THAT HAVE BEEN WAGED FOR ALL THE INNOCENT BLOOD THAT HAS BEEN SHED', '/content/librispeech-other/LibriSpeech/test-other/4852/28319/4852-28319-0016.flac': 'HE SQUATTED ON HIS HAUNCHES EXAMINING THE CARVED WOODEN FIGURE ATTENTIVELY AND FELT CONVINCED THAT ONCE ALIVE THE BOY WOULD BE AN IDEAL AND HAPPY COMPANION', '/content/librispeech-other/LibriSpeech/test-other/4852/28319/4852-28319-0010.flac': 'HIS HEAD SWAM AND HE FELT FAINT AND A LITTLE SICK BUT HE PERSISTED THROUGH THE FINAL WORDS', '/content/librispeech-other/LibriSpeech/test-other/4852/28319/4852-28319-0021.flac': 'DUSK CAME TWO HOURS BEFORE ITS TIME THUNDER SNARLED IN THE SKY', '/content/librispeech-other/LibriSpeech/test-other/4852/28319/4852-28319-0022.flac': 'CERTAIN ELEMENTS WERE TO BE MIXED AND POURED AT THE PROPER TIME', '/content/librispeech-other/LibriSpeech/test-other/4852/28319/4852-28319-0002.flac': 'CHRIS THEREFORE THREW HIMSELF INTO ALL THE PRELIMINARIES OF HIS TASK', '/content/librispeech-other/LibriSpeech/test-other/4852/28319/4852-28319-0017.flac': 'BUT HOW DID ONE CHANGE INANIMATE TO ANIMATE', '/content/librispeech-other/LibriSpeech/test-other/4852/28319/4852-28319-0013.flac': \"THE FIGURE'S SHOES CARVED IN SOME EASTERN STYLE HAD CURVED UP POINTING TOES\", '/content/librispeech-other/LibriSpeech/test-other/4852/28319/4852-28319-0000.flac': 'THE LEARNING OF MAGIC WAS BY NO MEANS EASY', '/content/librispeech-other/LibriSpeech/test-other/4852/28319/4852-28319-0015.flac': 'IF HE WAS TO BE A MAGICIAN COULD HE MAKE THIS BOY COME TO LIFE', '/content/librispeech-other/LibriSpeech/test-other/4852/28319/4852-28319-0026.flac': 'UNDER HIS EYES THE WOODEN FOLDS OF CLOTH BECAME RICH SILK EMBROIDERY GLEAMED IN ITS REALITY UPON THE COAT AND OH THE FACE', '/content/librispeech-other/LibriSpeech/test-other/4852/28319/4852-28319-0014.flac': 'THEN ALL AT ONCE THE IDEA CAME TO CHRIS', '/content/librispeech-other/LibriSpeech/test-other/4852/28319/4852-28319-0008.flac': 'THEN AS NOTHING HAPPENED WITH A VOICE LIKE A WHIP MISTER WICKER SAID START AT ONCE', '/content/librispeech-other/LibriSpeech/test-other/4852/28319/4852-28319-0003.flac': \"ONE AFTERNOON WHEN HE RETURNED AFTER A REST TO MISTER WICKER'S STUDY HE SAW THAT THERE WAS SOMETHING NEW IN THE ROOM A BOWL WITH A GOLDFISH IN IT STOOD ON THE TABLE BUT MISTER WICKER WAS NOT TO BE SEEN\", '/content/librispeech-other/LibriSpeech/test-other/4852/28319/4852-28319-0020.flac': 'THE AFTERNOON RAINY BEFORE INCREASED IN STORM', '/content/librispeech-other/LibriSpeech/test-other/4852/28319/4852-28319-0004.flac': 'WHAT SHALL I DO FIRST', '/content/librispeech-other/LibriSpeech/test-other/4852/28319/4852-28319-0024.flac': 'WITH INFINITE CAUTION CHRIS CLOSED THE DOOR SILENTLY BEHIND HIM AND RUNNING LIGHTLY FORWARD REACHED THE FIGURE OF THE NEGRO BOY', '/content/librispeech-other/LibriSpeech/test-other/4852/28319/4852-28319-0001.flac': 'HE HAD TOLD HIS MASTER AT ONCE ABOUT SIMON GOSLER HIS HORDE OF MONEY AND HIS HIDING PLACES FOR IT', '/content/librispeech-other/LibriSpeech/test-other/4852/28319/4852-28319-0011.flac': \"HE THOUGHT NOT WITHOUT A FEELING OF PRIDE AND COMMENCED EXPERIMENTING WITH HIS TAIL AND FINS WITH SUCH ENTHUSIASM AND DELIGHT THAT SOME LITTLE TIME ELAPSED BEFORE MISTER WICKER'S VOICE BOOMED CLOSE BY\", '/content/librispeech-other/LibriSpeech/test-other/4852/28319/4852-28319-0012.flac': 'SEVENTY FOUR BOOK ONE THE RETURN', '/content/librispeech-other/LibriSpeech/test-other/4852/28319/4852-28319-0023.flac': 'MISTER WICKER BEGAN MOVING ABOUT UPSTAIRS THE FLOORBOARDS CREAKED AND STILL CHRIS COULD NOT LEAVE UNTIL THE POTION FUMED AND GLOWED', '/content/librispeech-other/LibriSpeech/test-other/4852/28319/4852-28319-0007.flac': 'MISTER WICKER WAITED PATIENTLY BESIDE HIM FOR A FEW MOMENTS FOR CHRIS TO GET UP HIS COURAGE', '/content/librispeech-other/LibriSpeech/test-other/4852/28319/4852-28319-0019.flac': 'HE HEARD THE MAGICIAN GOING UP THE SPIRAL STAIRCASE TO HIS ROOM ABOVE AND AFTER CHANGING HIMSELF TO A MOUSE TO SLIP UNDER THE DOOR AND SEE THAT THE ROOM WAS REALLY EMPTY CHRIS RESUMED HIS PROPER SHAPE AND OPENED THE DOORS OF THE CUPBOARD AT THE FAR END OF THE ROOM', '/content/librispeech-other/LibriSpeech/test-other/4852/28319/4852-28319-0006.flac': \"SUPPOSE I CHANGE AND CAN'T CHANGE BACK\", '/content/librispeech-other/LibriSpeech/test-other/4852/28319/4852-28319-0025.flac': 'IT WAS AS IF THE STIFFNESS MELTED', '/content/librispeech-other/LibriSpeech/test-other/4852/28319/4852-28319-0018.flac': \"CHRIS GOT UP AND STOLE BACK TO MISTER WICKER'S DOOR\", '/content/librispeech-other/LibriSpeech/test-other/4852/28319/4852-28319-0009.flac': 'THE SENSATION SPREAD FASTER AND FASTER', '/content/librispeech-other/LibriSpeech/test-other/4852/28319/4852-28319-0027.flac': 'THE WOODEN GRIN LOOSENED THE LARGE EYES TURNED THE HAND HOLDING THE HARD BOUQUET OF CARVED FLOWERS MOVED AND LET THE BOUQUET FALL', '/content/librispeech-other/LibriSpeech/test-other/4852/28319/4852-28319-0005.flac': 'HOW YOU HAVE IMPROVED MY BOY HE EXCLAIMED IT IS NOW TIME FOR YOU TO TRY AND THIS IS AS GOOD A CHANGE AS ANY', '/content/librispeech-other/LibriSpeech/test-other/4852/28330/4852-28330-0007.flac': 'CERTAINLY MY BOY BOOMED OUT THE CAPTAIN HIS BLUE EYES ABRUPTLY KEEN AND PENETRATING', '/content/librispeech-other/LibriSpeech/test-other/4852/28330/4852-28330-0002.flac': 'NEXT NED CILLEY WAS RELIEVED AT THE HELM BY ELBERT JONES WHO TOOK OVER NED WENT ON DOWN', '/content/librispeech-other/LibriSpeech/test-other/4852/28330/4852-28330-0019.flac': 'CAMOUFLAGE WAS NOT A WORD THE CAPTAIN OR ANYONE ELSE OF HIS TIME YET UNDERSTOOD', '/content/librispeech-other/LibriSpeech/test-other/4852/28330/4852-28330-0003.flac': \"IT LOOKS TO ME AS IF IT COULD HAVE BEEN ONE OF SEVERAL PEOPLE AND I'LL BE SWITCHED IF I KNOW WHO I'LL KEEP MY EYES OPEN\", '/content/librispeech-other/LibriSpeech/test-other/4852/28330/4852-28330-0024.flac': 'HE KNEW NOW THAT HIS ABSENCE FOR AS LONG AS HE HAD TO BE AWAY WOULD BE COVERED UP AND SATISFACTORILY ACCOUNTED FOR', '/content/librispeech-other/LibriSpeech/test-other/4852/28330/4852-28330-0020.flac': 'WHAT CAN BE SAID DURING THAT TIME SIR CHRIS THOUGHT TO ASK', '/content/librispeech-other/LibriSpeech/test-other/4852/28330/4852-28330-0017.flac': \"CAPTAIN BLIZZARD'S ROUND PINK FACE CREASED IN HIS WINNING SMILE\", '/content/librispeech-other/LibriSpeech/test-other/4852/28330/4852-28330-0005.flac': \"WE'VE WATER AND FRESH STORES TO TAKE ON THERE\", '/content/librispeech-other/LibriSpeech/test-other/4852/28330/4852-28330-0009.flac': 'HIS FACE FROZE WITH NERVOUSNESS THAT THIS MIGHT NOT DO AS AN ANSWER AND HE STOOD STIFF AND STILL BEFORE CAPTAIN BLIZZARD', '/content/librispeech-other/LibriSpeech/test-other/4852/28330/4852-28330-0015.flac': 'THIS SHIP ITS CARGO AND ITS MEN WILL BE IN YOUR HANDS', '/content/librispeech-other/LibriSpeech/test-other/4852/28330/4852-28330-0010.flac': 'THE CAPTAIN SAT FORWARD IN HIS CHAIR LOOKING AT HIM FOR A LONG MOMENT CONSIDERING', '/content/librispeech-other/LibriSpeech/test-other/4852/28330/4852-28330-0001.flac': \"GUESS MISTER FINNEY WENT TO HIS QUARTERS I DON'T REMEMBER SEEING HIM CROSS THE DECK OR COME OVER THAT WAY AT ALL\", '/content/librispeech-other/LibriSpeech/test-other/4852/28330/4852-28330-0021.flac': 'I AM SOMEWHAT SKILLED IN MEDICAMENTS I HAVE TO BE AS CAPTAIN OF A SHIP AND THE CREW KNOW IT', '/content/librispeech-other/LibriSpeech/test-other/4852/28330/4852-28330-0016.flac': 'YES SIR I THINK I CAN DO IT SAFELY OR I SHOULD NOT TRY SIR', '/content/librispeech-other/LibriSpeech/test-other/4852/28330/4852-28330-0023.flac': 'NOT SINCE HE HAD LEFT MISTER WICKER HAD CHRIS FELT SUCH CONFIDENCE AS HE DID IN THE WORDS AND ACTIONS OF CAPTAIN BLIZZARD', '/content/librispeech-other/LibriSpeech/test-other/4852/28330/4852-28330-0012.flac': 'THIS SHIP IS MORE TO ME THAN WIFE OR MOTHER OR FAMILY', '/content/librispeech-other/LibriSpeech/test-other/4852/28330/4852-28330-0000.flac': 'THEY WENT DOWN TO THEIR QUARTERS FIRST', '/content/librispeech-other/LibriSpeech/test-other/4852/28330/4852-28330-0011.flac': 'THEN HE SAID WELL I DO NOT CARE FOR IT I CANNOT SAY I DO', '/content/librispeech-other/LibriSpeech/test-other/4852/28330/4852-28330-0004.flac': 'THE MIRABELLE WAS NEARING TAHITI', '/content/librispeech-other/LibriSpeech/test-other/4852/28330/4852-28330-0013.flac': 'HE PAUSED FINGERING HIS LOWER LIP AND LOOKING SIDEWAYS IN A REFLECTIVE FASHION AT CHRIS STANDING BEFORE HIM', '/content/librispeech-other/LibriSpeech/test-other/4852/28330/4852-28330-0006.flac': 'CHRIS LOST NO TIME AS SOON AS HE COULD DO IT WITHOUT BEING NOTICED IN HURRYING DOWN TO HIS CABIN', '/content/librispeech-other/LibriSpeech/test-other/4852/28330/4852-28330-0014.flac': 'WE SHALL SAY NO MORE BUT I TRUST YOU UNDERSTAND THE RESPONSIBILITY YOU HAVE', '/content/librispeech-other/LibriSpeech/test-other/4852/28330/4852-28330-0008.flac': 'MISTER FINNEY WILL BE SOME TIME ON DECK WE CANNOT BE OVERHEARD IN HERE', '/content/librispeech-other/LibriSpeech/test-other/4852/28330/4852-28330-0025.flac': 'THEIR CONVERSATION HAD TAKEN SOME LITTLE WHILE', '/content/librispeech-other/LibriSpeech/test-other/4852/28330/4852-28330-0018.flac': 'HE THEN WENT ON TO DESCRIBE WHAT ELSE WAS TO FOLLOW THE COVERING OF THE SHIP WITH LEAVES TO MAKE IT BLEND WITH ITS SURROUNDINGS', '/content/librispeech-other/LibriSpeech/test-other/4852/28330/4852-28330-0022.flac': 'I SHALL SAY THAT YOU ARE IN MY OWN CABIN SO THAT I CAN CARE FOR YOU', '/content/librispeech-other/LibriSpeech/test-other/4852/28312/4852-28312-0015.flac': 'HE GUESSED THERE MUST BE A LIVELY FIRE IN THAT ROOM BEYOND', '/content/librispeech-other/LibriSpeech/test-other/4852/28312/4852-28312-0019.flac': 'THEN IN THAT SECOND HE TURNED AND FACED ABOUT', '/content/librispeech-other/LibriSpeech/test-other/4852/28312/4852-28312-0030.flac': 'THEY MOVED INTO THE INN THE COACH RATTLED OFF TO THE STABLE', '/content/librispeech-other/LibriSpeech/test-other/4852/28312/4852-28312-0009.flac': 'YES SIR HE SAID', '/content/librispeech-other/LibriSpeech/test-other/4852/28312/4852-28312-0016.flac': \"WOULD THAT INTERFERE WITH JAKEY'S GETTING THE JOB SIR\", '/content/librispeech-other/LibriSpeech/test-other/4852/28312/4852-28312-0027.flac': 'A COURTYARD WAS SPARSELY LIT BY A FLARING TORCH OR TWO SHOWING A SWINGING SIGN HUNG ON A POST', '/content/librispeech-other/LibriSpeech/test-other/4852/28312/4852-28312-0005.flac': 'THE DOUBLE FANS OF MINUTE WRINKLES BREAKING FROM EYE CORNER TO TEMPLE AND JOINING WITH THOSE OVER THE CHEEKBONES WERE DRAWN INTO THE HORIZONTAL LINES ACROSS THE DOMED FOREHEAD', '/content/librispeech-other/LibriSpeech/test-other/4852/28312/4852-28312-0011.flac': \"HE'S A SCHOOLMATE OF MINE\", '/content/librispeech-other/LibriSpeech/test-other/4852/28312/4852-28312-0026.flac': \"WHERE THE PEOPLE'S DRUGSTORE HAD STOOD BUT A HALF HOUR BEFORE ROSE THE ROOFS OF WHAT WAS EVIDENTLY AN INN\", '/content/librispeech-other/LibriSpeech/test-other/4852/28312/4852-28312-0031.flac': 'MY WINDOW HAS A POWER FOR THOSE FEW WHO ARE TO SEE', '/content/librispeech-other/LibriSpeech/test-other/4852/28312/4852-28312-0024.flac': 'FLABBERGASTED AND BREATHLESS CHRIS WAS UNAWARE THAT HE HAD MOVED CLOSER TO PEER OUT THE WINDOW IN EVERY DIRECTION', '/content/librispeech-other/LibriSpeech/test-other/4852/28312/4852-28312-0006.flac': \"LITTLE TUFTS OF WHITE FUZZ ABOVE THE EARS WERE ALL THAT REMAINED OF THE ANTIQUARIAN'S HAIR BUT WHAT DREW AND HELD CHRIS'S GAZE WERE THE OLD MAN'S EYES\", '/content/librispeech-other/LibriSpeech/test-other/4852/28312/4852-28312-0002.flac': 'WHAT WITH THE ONE WINDOW AND THE LOWERING DAY OUTSIDE THE LONG NARROW SHOP WAS SOMBER', '/content/librispeech-other/LibriSpeech/test-other/4852/28312/4852-28312-0014.flac': 'WHAT HE SAW WAS A FRESH CHEEKED LAD TALL FOR THIRTEEN STURDY WITH SINCERITY AND GOOD HUMOR IN HIS FACE AND SOMETHING SENSITIVE AND APPEALING ABOUT HIS EYES', '/content/librispeech-other/LibriSpeech/test-other/4852/28312/4852-28312-0003.flac': 'HEAVY HAND HEWN BEAMS CROSSED IT FROM ONE SIDE TO THE OTHER', '/content/librispeech-other/LibriSpeech/test-other/4852/28312/4852-28312-0001.flac': 'SO NOW ALONE UNTIL SOMEONE SHOULD ANSWER THE BELL HE LOOKED EAGERLY IF UNEASILY AROUND HIM', '/content/librispeech-other/LibriSpeech/test-other/4852/28312/4852-28312-0000.flac': \"OF THE MANY TIMES HE HAD EXAMINED MISTER WICKER'S WINDOW AND PORED OVER THE ROPE THE SHIP AND THE NUBIAN BOY HE HAD NEVER GONE INTO MISTER WICKER'S SHOP\", '/content/librispeech-other/LibriSpeech/test-other/4852/28312/4852-28312-0029.flac': 'A COACH WITH ITS TOP PILED HIGH WITH LUGGAGE STAMPED TO A HALT BESIDE THE FLAGGED COURTYARD', '/content/librispeech-other/LibriSpeech/test-other/4852/28312/4852-28312-0022.flac': 'IT WAS NO LONGER THERE NOR WERE THE HIGH WALLS AND SMOKESTACKS OF FACTORIES TO BE SEEN', '/content/librispeech-other/LibriSpeech/test-other/4852/28312/4852-28312-0017.flac': 'BUT EVEN AS HE SLOWLY TURNED THE THOUGHT PIERCED HIS MIND WHY HAD HE NOT SEEN THE REFLECTION OF THE HEADLIGHTS OF THE CARS MOVING UP AROUND THE CORNER OF WATER STREET AND UP THE HILL TOWARD THE TRAFFIC SIGNALS', '/content/librispeech-other/LibriSpeech/test-other/4852/28312/4852-28312-0028.flac': 'THE POST WAS PLANTED AT THE EDGE OF WHAT WAS NOW A BROAD AND MUDDY ROAD', '/content/librispeech-other/LibriSpeech/test-other/4852/28312/4852-28312-0021.flac': 'ACROSS THE WATER WHERE WAS THE FREEWAY', '/content/librispeech-other/LibriSpeech/test-other/4852/28312/4852-28312-0023.flac': 'THE WAREHOUSES WERE STILL THERE', '/content/librispeech-other/LibriSpeech/test-other/4852/28312/4852-28312-0008.flac': 'CHRIS SWALLOWED AND HIS VOICE CAME BACK TO HIM', '/content/librispeech-other/LibriSpeech/test-other/4852/28312/4852-28312-0025.flac': 'NO ELECTRIC SIGNS NO LAMPLIT STREETS', '/content/librispeech-other/LibriSpeech/test-other/4852/28312/4852-28312-0012.flac': 'JAKEY HARRIS HIS NAME IS AND HE REALLY NEEDS THE JOB', '/content/librispeech-other/LibriSpeech/test-other/4852/28312/4852-28312-0018.flac': 'THE ROOM SEEMED OVERLY STILL', '/content/librispeech-other/LibriSpeech/test-other/4852/28312/4852-28312-0020.flac': 'THE WIDE BOW WINDOW WAS THERE BEFORE HIM THE THREE OBJECTS HE LIKED BEST SHOWING FROSTY IN THE MOONLIGHT THAT POURED IN FROM ACROSS THE WATER', '/content/librispeech-other/LibriSpeech/test-other/4852/28312/4852-28312-0013.flac': 'I I JUST WONDERED IF THE PLACE WAS STILL OPEN', '/content/librispeech-other/LibriSpeech/test-other/4852/28312/4852-28312-0004.flac': \"MISTER WICKER'S BACK BEING TOWARD THE SOURCE OF LIGHT CHRIS COULD NOT SEE HIS FACE\", '/content/librispeech-other/LibriSpeech/test-other/4852/28312/4852-28312-0010.flac': 'I SAW YOUR SIGN AND I KNOW A BOY WHO NEEDS THE JOB', '/content/librispeech-other/LibriSpeech/test-other/4852/28312/4852-28312-0007.flac': 'CHRIS BLINKED AND LOOKED AGAIN YES THEY WERE STILL THERE', '/content/librispeech-other/LibriSpeech/test-other/4852/28311/4852-28311-0014.flac': \"CHRIS STARTED OFF ONCE MORE PASSING THE BLEAK LITTLE VICTORIAN CHURCH PERCHED ON THE HILL ABOVE MISTER WICKER'S HOUSE\", '/content/librispeech-other/LibriSpeech/test-other/4852/28311/4852-28311-0001.flac': 'CHRIS LOOKED FROM A NICKEL PLATED FLASHLIGHT TO A CAR JACK AND SPARK PLUG', '/content/librispeech-other/LibriSpeech/test-other/4852/28311/4852-28311-0003.flac': 'O K HE SAID', '/content/librispeech-other/LibriSpeech/test-other/4852/28311/4852-28311-0013.flac': 'AW SHUCKS', '/content/librispeech-other/LibriSpeech/test-other/4852/28311/4852-28311-0004.flac': \"ONLY WHY DIDN'T YOU ASK HIM YOURSELF\", '/content/librispeech-other/LibriSpeech/test-other/4852/28311/4852-28311-0007.flac': 'CHRIS ASKED AND FOR THE FIRST TIME THAT DAY THE HEAVY WEIGHT HE CARRIED WITHIN HIM LIFTED AND LIGHTENED A LITTLE', '/content/librispeech-other/LibriSpeech/test-other/4852/28311/4852-28311-0012.flac': 'MIKE WAS STANDING ON THE CORNER', '/content/librispeech-other/LibriSpeech/test-other/4852/28311/4852-28311-0015.flac': 'AN EMPTY LOT CUT INTO BY CHURCH LANE GAVE A LOOK OF ISOLATION TO THE L SHAPED BRICK BUILDING THAT SERVED MISTER WICKER AS BOTH HOUSE AND PLACE OF BUSINESS', '/content/librispeech-other/LibriSpeech/test-other/4852/28311/4852-28311-0017.flac': 'A LIVID YELLOW STAINED THE HORIZON BEYOND THE FACTORIES AND GRAY CLOUDS LOWERED AND TUMBLED ABOVE', '/content/librispeech-other/LibriSpeech/test-other/4852/28311/4852-28311-0016.flac': 'THE LONGER WING TOWARD THE BACK HAD A BACK DOOR THAT OPENED ONTO WATER STREET THE SPACE BETWEEN THE HOUSE AND WISCONSIN AVENUE HAD BEEN MADE INTO A NEAT OBLONG FLOWER GARDEN FENCED OFF FROM THE SIDEWALK BY BOX SHRUBS AND A WHITE PICKET FENCE', '/content/librispeech-other/LibriSpeech/test-other/4852/28311/4852-28311-0019.flac': 'ALL AT ONCE HE WONDERED HOW HIS MOTHER WAS AND EVERYTHING IN HIM PINCHED AND TIGHTENED ITSELF', '/content/librispeech-other/LibriSpeech/test-other/4852/28311/4852-28311-0009.flac': 'HE WOULD HAVE LIKED TO GET THE JOB FOR JAKEY WHO NEEDED IT BUT SOMEHOW THE TASK OF FACING MISTER WICKER ESPECIALLY NOW THAT THE LIGHT WAS GOING AND DUSK EDGING INTO THE STREETS WAS NOT WHAT CHRIS HAD INTENDED FOR ENDING THE AFTERNOON', '/content/librispeech-other/LibriSpeech/test-other/4852/28311/4852-28311-0022.flac': 'ON THE LEFT THE COIL OF ROPE IN THE CENTER THE MODEL OF A SAILING SHIP IN A GREEN GLASS BOTTLE AND ON THE RIGHT THE WOODEN STATUE OF A NEGRO BOY IN BAGGY TROUSERS TURKISH JACKET AND WHITE TURBAN', '/content/librispeech-other/LibriSpeech/test-other/4852/28311/4852-28311-0000.flac': 'SAY YOU KNOW SUMTHIN', '/content/librispeech-other/LibriSpeech/test-other/4852/28311/4852-28311-0026.flac': 'A SUDDEN CAR HORN WOKE HIM FROM HIS DREAM', '/content/librispeech-other/LibriSpeech/test-other/4852/28311/4852-28311-0005.flac': 'MIKE BECAME UNEASY AND FISHED AN ELASTIC BAND OUT OF HIS POCKET MADE A FLICK OF PAPER AND SENT IT SOARING OUT INTO M STREET', '/content/librispeech-other/LibriSpeech/test-other/4852/28311/4852-28311-0020.flac': 'AT THE FOOT OF THE HILL HE REACHED THE HOUSE', '/content/librispeech-other/LibriSpeech/test-other/4852/28311/4852-28311-0011.flac': \"BETCHA AREN'T GOIN AFTER ALL CHRIS TURNED ON HIM\", '/content/librispeech-other/LibriSpeech/test-other/4852/28311/4852-28311-0010.flac': \"MIKE'S EXPRESSION CHANGED AT ONCE TO ONE OF TRIUMPH BUT CHRIS WAS ONLY PARTLY ENCOURAGED\", '/content/librispeech-other/LibriSpeech/test-other/4852/28311/4852-28311-0002.flac': \"KNOW WHO NEEDS A JOB BAD THAT'S JAKEY HARRIS\", '/content/librispeech-other/LibriSpeech/test-other/4852/28311/4852-28311-0006.flac': 'WELL HE ADMITTED I DID', '/content/librispeech-other/LibriSpeech/test-other/4852/28311/4852-28311-0024.flac': \"HE HAD NEVER SEEN ANYONE GO INTO MISTER WICKER'S SHOP NOW HE THOUGHT OF IT\", '/content/librispeech-other/LibriSpeech/test-other/4852/28311/4852-28311-0008.flac': 'THINK HE REALLY NEEDS IT HE PURSUED', '/content/librispeech-other/LibriSpeech/test-other/4852/28311/4852-28311-0018.flac': 'THE AIR WAS GROWING CHILL AND CHRIS DECIDED TO FINISH HIS JOB', '/content/librispeech-other/LibriSpeech/test-other/4852/28311/4852-28311-0023.flac': 'BUT THE NAME STILL SHOWED AT THE PROW AND MANY A TIME CHRIS SAFE AT HOME IN BED HAD SAILED IMAGINARY VOYAGES IN THE MIRABELLE', '/content/librispeech-other/LibriSpeech/test-other/4852/28311/4852-28311-0025.flac': 'HOW THEN DID HE LIVE AND WHAT DID HE EVER SELL', '/content/librispeech-other/LibriSpeech/test-other/4852/28311/4852-28311-0021.flac': 'THERE WERE THREE THINGS THAT ALWAYS CAUGHT HIS EYE AMID THE LITTER OF DUSTY PIECES', '/content/librispeech-other/LibriSpeech/test-other/2414/159411/2414-159411-0014.flac': 'THREE OUT OF THE SIX HAD GIVEN JUDGMENT AGAINST THE BRAHMAN BUT STILL HE DID NOT LOSE ALL HOPE AND DETERMINED TO ASK THE OTHER THREE', '/content/librispeech-other/LibriSpeech/test-other/2414/159411/2414-159411-0013.flac': 'LET THE TIGER EAT THE MAN FOR MEN HAVE NO PITY', '/content/librispeech-other/LibriSpeech/test-other/2414/159411/2414-159411-0029.flac': 'VERY GOOD SAID THE JACKAL BUT I CANNOT JUDGE WITHOUT UNDERSTANDING THE WHOLE MATTER EXACTLY', '/content/librispeech-other/LibriSpeech/test-other/2414/159411/2414-159411-0028.flac': 'WHY I STOOD SO SAID THE TIGER JUMPING INTO THE CAGE AND MY HEAD WAS ON THIS SIDE', '/content/librispeech-other/LibriSpeech/test-other/2414/159411/2414-159411-0006.flac': 'ON WHAT MUST I GIVE JUDGMENT ASKED THE BANYAN TREE', '/content/librispeech-other/LibriSpeech/test-other/2414/159411/2414-159411-0007.flac': 'THIS TIGER SAID THE BRAHMAN BEGGED ME TO LET HIM OUT OF HIS CAGE TO DRINK A LITTLE WATER AND HE PROMISED NOT TO HURT ME IF I DID SO BUT NOW THAT I HAVE LET HIM OUT HE WISHES TO EAT ME', '/content/librispeech-other/LibriSpeech/test-other/2414/159411/2414-159411-0020.flac': 'THE BRAHMAN GAVE HIMSELF UP AS LOST BUT AGAIN HE PRAYED THE TIGER TO HAVE PATIENCE AND LET HIM ASK THE OPINION OF THE SIXTH JUDGE', '/content/librispeech-other/LibriSpeech/test-other/2414/159411/2414-159411-0002.flac': 'OH FATHER OF MERCY ANSWERED THE TIGER IN TRUTH THAT I WILL NOT', '/content/librispeech-other/LibriSpeech/test-other/2414/159411/2414-159411-0005.flac': 'SO THE BRAHMAN AND THE TIGER WALKED ON TILL THEY CAME TO A BANYAN TREE AND THE BRAHMAN SAID TO IT BANYAN TREE BANYAN TREE HEAR AND GIVE JUDGMENT', '/content/librispeech-other/LibriSpeech/test-other/2414/159411/2414-159411-0026.flac': 'EXACTLY HERE REPLIED THE BRAHMAN', '/content/librispeech-other/LibriSpeech/test-other/2414/159411/2414-159411-0016.flac': 'THE BRAHMAN STATED THE CASE AND THE EAGLE ANSWERED WHENEVER MEN SEE ME THEY TRY TO SHOOT ME THEY CLIMB THE ROCKS AND STEAL AWAY MY LITTLE ONES', '/content/librispeech-other/LibriSpeech/test-other/2414/159411/2414-159411-0010.flac': 'SIR CAMEL SIR CAMEL CRIED THE BRAHMAN HEAR AND GIVE JUDGMENT', '/content/librispeech-other/LibriSpeech/test-other/2414/159411/2414-159411-0025.flac': 'EXACTLY THERE WAS IT ASKED THE JACKAL', '/content/librispeech-other/LibriSpeech/test-other/2414/159411/2414-159411-0035.flac': 'YOUR ROAD LIES THAT WAY AND MINE THIS', '/content/librispeech-other/LibriSpeech/test-other/2414/159411/2414-159411-0027.flac': 'WHERE WAS THE TIGER THEN', '/content/librispeech-other/LibriSpeech/test-other/2414/159411/2414-159411-0017.flac': 'THEN THE TIGER BEGAN TO ROAR AND SAID THE JUDGMENT OF ALL IS AGAINST YOU O BRAHMAN', '/content/librispeech-other/LibriSpeech/test-other/2414/159411/2414-159411-0012.flac': 'IS IT FAIR THAT HE SHOULD DO SO OR NOT', '/content/librispeech-other/LibriSpeech/test-other/2414/159411/2414-159411-0011.flac': 'AT A LITTLE DISTANCE THEY FOUND A BULLOCK LYING BY THE ROADSIDE', '/content/librispeech-other/LibriSpeech/test-other/2414/159411/2414-159411-0023.flac': 'SHOW ME THE PLACE', '/content/librispeech-other/LibriSpeech/test-other/2414/159411/2414-159411-0031.flac': 'THEN SHUT AND BOLT IT SAID THE JACKAL', '/content/librispeech-other/LibriSpeech/test-other/2414/159411/2414-159411-0008.flac': 'IS IT JUST THAT HE SHOULD DO SO OR NO', '/content/librispeech-other/LibriSpeech/test-other/2414/159411/2414-159411-0004.flac': 'THEN THE BRAHMAN TOOK PITY ON HIM AND OPENED THE CAGE DOOR BUT NO SOONER HAD HE DONE SO THAN THE TIGER JUMPING OUT SAID NOW I WILL EAT YOU FIRST AND DRINK THE WATER AFTERWARDS', '/content/librispeech-other/LibriSpeech/test-other/2414/159411/2414-159411-0032.flac': 'WHEN THE BRAHMAN HAD DONE THIS THE JACKAL SAID OH YOU WICKED AND UNGRATEFUL TIGER', '/content/librispeech-other/LibriSpeech/test-other/2414/159411/2414-159411-0024.flac': 'WHEN THEY GOT THERE THE JACKAL SAID NOW BRAHMAN SHOW ME EXACTLY WHERE YOU STOOD', '/content/librispeech-other/LibriSpeech/test-other/2414/159411/2414-159411-0003.flac': 'I WILL NEVER BE SO UNGRATEFUL ONLY LET ME OUT THAT I MAY DRINK SOME WATER AND RETURN', '/content/librispeech-other/LibriSpeech/test-other/2414/159411/2414-159411-0015.flac': 'ON WHAT MUST I GIVE JUDGMENT ASKED THE EAGLE', '/content/librispeech-other/LibriSpeech/test-other/2414/159411/2414-159411-0019.flac': 'BUT THE ALLIGATOR SAID WHENEVER I PUT MY NOSE OUT OF THE WATER MEN TORMENT ME AND TRY TO KILL ME', '/content/librispeech-other/LibriSpeech/test-other/2414/159411/2414-159411-0021.flac': 'NOW THE SIXTH WAS A JACKAL', '/content/librispeech-other/LibriSpeech/test-other/2414/159411/2414-159411-0009.flac': 'LET THE TIGER EAT THE MAN FOR MEN ARE AN UNGRATEFUL RACE', '/content/librispeech-other/LibriSpeech/test-other/2414/159411/2414-159411-0030.flac': 'SHUT AND BOLTED SAID THE BRAHMAN', '/content/librispeech-other/LibriSpeech/test-other/2414/159411/2414-159411-0034.flac': 'PROCEED ON YOUR JOURNEY FRIEND BRAHMAN', '/content/librispeech-other/LibriSpeech/test-other/2414/159411/2414-159411-0001.flac': 'THE BRAHMAN ANSWERED NO I WILL NOT FOR IF I LET YOU OUT OF THE CAGE YOU WILL EAT ME', '/content/librispeech-other/LibriSpeech/test-other/2414/159411/2414-159411-0000.flac': 'ONCE UPON A TIME A BRAHMAN WHO WAS WALKING ALONG THE ROAD CAME UPON AN IRON CAGE IN WHICH A GREAT TIGER HAD BEEN SHUT UP BY THE VILLAGERS WHO CAUGHT HIM', '/content/librispeech-other/LibriSpeech/test-other/2414/159411/2414-159411-0018.flac': 'AFTER THIS THEY SAW AN ALLIGATOR AND THE BRAHMAN RELATED THE MATTER TO HIM HOPING FOR A MORE FAVORABLE VERDICT', '/content/librispeech-other/LibriSpeech/test-other/2414/159411/2414-159411-0022.flac': 'THE BRAHMAN TOLD HIS STORY AND SAID TO HIM UNCLE JACKAL UNCLE JACKAL SAY WHAT IS YOUR JUDGMENT', '/content/librispeech-other/LibriSpeech/test-other/2414/159411/2414-159411-0033.flac': 'WHEN THE GOOD BRAHMAN OPENED YOUR CAGE DOOR IS TO EAT HIM THE ONLY RETURN YOU WOULD MAKE', '/content/librispeech-other/LibriSpeech/test-other/2414/165385/2414-165385-0000.flac': 'THUS ACCOMPLISHED HE EXCITED THE ADMIRATION OF EVERY SILLY COQUETTE AND THE ENVY OF EVERY FLUTTERING COXCOMB BUT BY ALL YOUNG GENTLEMEN AND LADIES OF UNDERSTANDING HE WAS HEARTILY DESPISED AS A MERE CIVILIZED MONKEY', '/content/librispeech-other/LibriSpeech/test-other/2414/165385/2414-165385-0001.flac': 'THAT HIS SOUL MIGHT AFTERWARDS OCCUPY SUCH A STATION AS WOULD BE MOST SUITABLE TO HIS CHARACTER IT WAS SENTENCED TO INHABIT THE BODY OF THAT FINICAL GRINNING AND MISCHIEVOUS LITTLE MIMICK WITH FOUR LEGS WHICH YOU NOW BEHOLD BEFORE YOU', '/content/librispeech-other/LibriSpeech/test-other/2414/128292/2414-128292-0021.flac': 'A HAVEN TOWARDS WHICH MY SAIL IS SET', '/content/librispeech-other/LibriSpeech/test-other/2414/128292/2414-128292-0013.flac': 'MUST I EVER BE ON THE WAY', '/content/librispeech-other/LibriSpeech/test-other/2414/128292/2414-128292-0027.flac': 'THEY SLEEP QUIETLY THEY ENJOY THEIR NEW SECURITY', '/content/librispeech-other/LibriSpeech/test-other/2414/128292/2414-128292-0022.flac': 'FOR IT DO I ASK AND SEEK AND HAVE SOUGHT BUT HAVE NOT FOUND IT', '/content/librispeech-other/LibriSpeech/test-other/2414/128292/2414-128292-0012.flac': 'THOU ART NOT PLEASING UNTO ME', '/content/librispeech-other/LibriSpeech/test-other/2414/128292/2414-128292-0024.flac': 'THOU ART MY SHADOW', '/content/librispeech-other/LibriSpeech/test-other/2414/128292/2414-128292-0031.flac': 'THOU POOR ROVER AND RAMBLER THOU TIRED BUTTERFLY', '/content/librispeech-other/LibriSpeech/test-other/2414/128292/2414-128292-0004.flac': 'THUS SPAKE ZARATHUSTRA TO HIS HEART AND RAN AWAY', '/content/librispeech-other/LibriSpeech/test-other/2414/128292/2414-128292-0028.flac': 'BEWARE LEST IN THE END A NARROW FAITH CAPTURE THEE A HARD RIGOROUS DELUSION', '/content/librispeech-other/LibriSpeech/test-other/2414/128292/2414-128292-0001.flac': 'MY SHADOW CALLETH ME', '/content/librispeech-other/LibriSpeech/test-other/2414/128292/2414-128292-0029.flac': 'FOR NOW EVERYTHING THAT IS NARROW AND FIXED SEDUCETH AND TEMPTETH THEE', '/content/librispeech-other/LibriSpeech/test-other/2414/128292/2414-128292-0015.flac': 'WHEN THE DEVIL CASTETH HIS SKIN DOTH NOT HIS NAME ALSO FALL AWAY IT IS ALSO SKIN', '/content/librispeech-other/LibriSpeech/test-other/2414/128292/2414-128292-0009.flac': 'FOR WHEN ZARATHUSTRA SCRUTINISED HIM WITH HIS GLANCE HE WAS FRIGHTENED AS BY A SUDDEN APPARITION SO SLENDER SWARTHY HOLLOW AND WORN OUT DID THIS FOLLOWER APPEAR', '/content/librispeech-other/LibriSpeech/test-other/2414/128292/2414-128292-0025.flac': 'SAID HE AT LAST SADLY', '/content/librispeech-other/LibriSpeech/test-other/2414/128292/2414-128292-0003.flac': 'LET IT RUN AFTER ME I RUN AWAY FROM IT', '/content/librispeech-other/LibriSpeech/test-other/2414/128292/2414-128292-0026.flac': 'THY DANGER IS NOT SMALL THOU FREE SPIRIT AND WANDERER', '/content/librispeech-other/LibriSpeech/test-other/2414/128292/2414-128292-0010.flac': 'ASKED ZARATHUSTRA VEHEMENTLY WHAT DOEST THOU HERE', '/content/librispeech-other/LibriSpeech/test-other/2414/128292/2414-128292-0014.flac': 'O EARTH THOU HAST BECOME TOO ROUND FOR ME', '/content/librispeech-other/LibriSpeech/test-other/2414/128292/2414-128292-0016.flac': 'THE DEVIL HIMSELF IS PERHAPS SKIN', '/content/librispeech-other/LibriSpeech/test-other/2414/128292/2414-128292-0030.flac': 'THOU HAST LOST THY GOAL', '/content/librispeech-other/LibriSpeech/test-other/2414/128292/2414-128292-0006.flac': 'NOW DO I HEAR SIX OLD FOOLS LEGS RATTLING BEHIND ONE ANOTHER', '/content/librispeech-other/LibriSpeech/test-other/2414/128292/2414-128292-0020.flac': 'HAVE I STILL A GOAL', '/content/librispeech-other/LibriSpeech/test-other/2414/128292/2414-128292-0005.flac': 'VERILY MY FOLLY HATH GROWN BIG IN THE MOUNTAINS', '/content/librispeech-other/LibriSpeech/test-other/2414/128292/2414-128292-0018.flac': 'THEN ONLY DID I HIT THE TRUTH', '/content/librispeech-other/LibriSpeech/test-other/2414/128292/2414-128292-0000.flac': 'WHITHER HATH MY LONESOMENESS GONE SPAKE HE', '/content/librispeech-other/LibriSpeech/test-other/2414/128292/2414-128292-0023.flac': 'O ETERNAL EVERYWHERE O ETERNAL NOWHERE O ETERNAL IN VAIN', '/content/librispeech-other/LibriSpeech/test-other/2414/128292/2414-128292-0019.flac': 'HOW HAVE I STILL INCLINATION', '/content/librispeech-other/LibriSpeech/test-other/2414/128292/2414-128292-0008.flac': 'ALSO METHINKETH THAT AFTER ALL IT HATH LONGER LEGS THAN MINE', '/content/librispeech-other/LibriSpeech/test-other/2414/128292/2414-128292-0032.flac': 'WILT THOU HAVE A REST AND A HOME THIS EVENING', '/content/librispeech-other/LibriSpeech/test-other/2414/128292/2414-128292-0017.flac': 'SOMETIMES I MEANT TO LIE AND BEHOLD', '/content/librispeech-other/LibriSpeech/test-other/2414/128292/2414-128292-0011.flac': 'AND WHY CALLEST THOU THYSELF MY SHADOW', '/content/librispeech-other/LibriSpeech/test-other/2414/128292/2414-128292-0007.flac': 'BUT DOTH ZARATHUSTRA NEED TO BE FRIGHTENED BY HIS SHADOW', '/content/librispeech-other/LibriSpeech/test-other/2414/128292/2414-128292-0002.flac': 'WHAT MATTER ABOUT MY SHADOW', '/content/librispeech-other/LibriSpeech/test-other/2414/128291/2414-128291-0007.flac': 'WHO HATH NOT AT PRESENT HIS HEART HIS MOUTH AND HIS EYES FULL OF DISGUST', '/content/librispeech-other/LibriSpeech/test-other/2414/128291/2414-128291-0013.flac': 'THE KINGDOM OF HEAVEN HOWEVER IS WITH THE KINE AND WHY IS IT NOT WITH THE RICH', '/content/librispeech-other/LibriSpeech/test-other/2414/128291/2414-128291-0011.flac': 'WANTON AVIDITY BILIOUS ENVY CAREWORN REVENGE POPULACE PRIDE ALL THESE STRUCK MINE EYE', '/content/librispeech-other/LibriSpeech/test-other/2414/128291/2414-128291-0015.flac': 'ANSWERED THE OTHER', '/content/librispeech-other/LibriSpeech/test-other/2414/128291/2414-128291-0016.flac': 'THOU KNOWEST IT THYSELF BETTER EVEN THAN I', '/content/librispeech-other/LibriSpeech/test-other/2414/128291/2414-128291-0017.flac': 'THUS SPAKE THE PEACEFUL ONE AND PUFFED HIMSELF AND PERSPIRED WITH HIS WORDS SO THAT THE KINE WONDERED ANEW', '/content/librispeech-other/LibriSpeech/test-other/2414/128291/2414-128291-0021.flac': 'SAID ZARATHUSTRA THOU SHOULDST ALSO SEE MINE ANIMALS MINE EAGLE AND MY SERPENT THEIR LIKE DO NOT AT PRESENT EXIST ON EARTH', '/content/librispeech-other/LibriSpeech/test-other/2414/128291/2414-128291-0026.flac': 'THOU EVIL FLATTERER', '/content/librispeech-other/LibriSpeech/test-other/2414/128291/2414-128291-0001.flac': 'HE ASKED HIMSELF SOMETHING WARM AND LIVING QUICKENETH ME IT MUST BE IN THE NEIGHBOURHOOD', '/content/librispeech-other/LibriSpeech/test-other/2414/128291/2414-128291-0010.flac': 'THE KINE HOWEVER GAZED AT IT ALL AND WONDERED', '/content/librispeech-other/LibriSpeech/test-other/2414/128291/2414-128291-0009.flac': 'BUT BEHOLD THESE KINE', '/content/librispeech-other/LibriSpeech/test-other/2414/128291/2414-128291-0023.flac': 'NOW HOWEVER TAKE LEAVE AT ONCE OF THY KINE THOU STRANGE ONE', '/content/librispeech-other/LibriSpeech/test-other/2414/128291/2414-128291-0004.flac': 'ANSWERED HE THE SAME THAT THOU SEEKEST THOU MISCHIEF MAKER THAT IS TO SAY HAPPINESS UPON EARTH', '/content/librispeech-other/LibriSpeech/test-other/2414/128291/2414-128291-0025.flac': 'FOR THEY ARE THY WARMEST FRIENDS AND PRECEPTORS', '/content/librispeech-other/LibriSpeech/test-other/2414/128291/2414-128291-0018.flac': 'THOU DOEST VIOLENCE TO THYSELF THOU PREACHER ON THE MOUNT WHEN THOU USEST SUCH SEVERE WORDS', '/content/librispeech-other/LibriSpeech/test-other/2414/128291/2414-128291-0020.flac': 'WELL', '/content/librispeech-other/LibriSpeech/test-other/2414/128291/2414-128291-0005.flac': 'FOR I TELL THEE THAT I HAVE ALREADY TALKED HALF A MORNING UNTO THEM AND JUST NOW WERE THEY ABOUT TO GIVE ME THEIR ANSWER', '/content/librispeech-other/LibriSpeech/test-other/2414/128291/2414-128291-0024.flac': 'THOU AMIABLE ONE', '/content/librispeech-other/LibriSpeech/test-other/2414/128291/2414-128291-0019.flac': 'THEY ALSO ABSTAIN FROM ALL HEAVY THOUGHTS WHICH INFLATE THE HEART', '/content/librispeech-other/LibriSpeech/test-other/2414/128291/2414-128291-0003.flac': 'WHAT DO I HERE SEEK', '/content/librispeech-other/LibriSpeech/test-other/2414/128291/2414-128291-0006.flac': 'HE WOULD NOT BE RID OF HIS AFFLICTION', '/content/librispeech-other/LibriSpeech/test-other/2414/128291/2414-128291-0012.flac': 'IT IS NO LONGER TRUE THAT THE POOR ARE BLESSED', '/content/librispeech-other/LibriSpeech/test-other/2414/128291/2414-128291-0000.flac': 'WHAT HATH HAPPENED UNTO ME', '/content/librispeech-other/LibriSpeech/test-other/2414/128291/2414-128291-0002.flac': 'WHEN HOWEVER ZARATHUSTRA WAS QUITE NIGH UNTO THEM THEN DID HE HEAR PLAINLY THAT A HUMAN VOICE SPAKE IN THE MIDST OF THE KINE AND APPARENTLY ALL OF THEM HAD TURNED THEIR HEADS TOWARDS THE SPEAKER', '/content/librispeech-other/LibriSpeech/test-other/2414/128291/2414-128291-0022.flac': 'AND TALK TO MINE ANIMALS OF THE HAPPINESS OF ANIMALS', '/content/librispeech-other/LibriSpeech/test-other/2414/128291/2414-128291-0014.flac': 'WHY DOST THOU TEMPT ME', '/content/librispeech-other/LibriSpeech/test-other/2414/128291/2414-128291-0008.flac': 'THOU ALSO THOU ALSO', '/content/librispeech-other/LibriSpeech/test-other/3997/180297/3997-180297-0012.flac': 'I LISTENED AND I GAZED AT MARGUERITE WITH ADMIRATION', '/content/librispeech-other/LibriSpeech/test-other/3997/180297/3997-180297-0007.flac': 'IS THAT REALLY THE ONLY REASON', '/content/librispeech-other/LibriSpeech/test-other/3997/180297/3997-180297-0030.flac': 'ONE HAS TO BUT HE WANTS MORE THAN THAT WHAT THEN', '/content/librispeech-other/LibriSpeech/test-other/3997/180297/3997-180297-0001.flac': 'YOU IN THE WAY MARGUERITE BUT HOW', '/content/librispeech-other/LibriSpeech/test-other/3997/180297/3997-180297-0000.flac': 'I HAVE NOT COME TO HINDER YOU FROM LEAVING PARIS', '/content/librispeech-other/LibriSpeech/test-other/3997/180297/3997-180297-0005.flac': 'YES BUT BESIDES NOT WISHING TO PUT YOU OUT I WAS SURE THAT IF YOU CAME AS FAR AS MY DOOR YOU WOULD WANT TO COME UP AND AS I COULD NOT LET YOU I DID NOT WISH TO LET YOU GO AWAY BLAMING ME FOR SAYING NO', '/content/librispeech-other/LibriSpeech/test-other/3997/180297/3997-180297-0009.flac': 'HONESTLY DO YOU CARE FOR ME A LITTLE A GREAT DEAL', '/content/librispeech-other/LibriSpeech/test-other/3997/180297/3997-180297-0019.flac': 'IT MEANS LITTLE ENOUGH TO THEM THAT WE SHOULD HAVE TEN LOVERS EXTRA AS LONG AS THEY GET DRESSES OR A BRACELET OUT OF THEM AND THAT THEY CAN DRIVE IN OUR CARRIAGE FROM TIME TO TIME OR COME TO OUR BOX AT THE THEATRE', '/content/librispeech-other/LibriSpeech/test-other/3997/180297/3997-180297-0028.flac': 'LOOK HERE PRUDENCE DO YOU KNOW WHAT HE WANTS SAID MARGUERITE', '/content/librispeech-other/LibriSpeech/test-other/3997/180297/3997-180297-0014.flac': 'TRULY SHE CONTINUED WE POOR CREATURES OF CHANCE HAVE FANTASTIC DESIRES AND INCONCEIVABLE LOVES', '/content/librispeech-other/LibriSpeech/test-other/3997/180297/3997-180297-0024.flac': 'MARGUERITE DO WITH ME AS YOU WILL I AM YOUR SLAVE YOUR DOG BUT IN THE NAME OF HEAVEN TEAR UP THE LETTER WHICH I WROTE TO YOU AND DO NOT MAKE ME LEAVE YOU TO MORROW IT WOULD KILL ME', '/content/librispeech-other/LibriSpeech/test-other/3997/180297/3997-180297-0021.flac': 'I THOUGHT I COULD ACCEPT THE LIFE WHICH HE OFFERED ME BUT WHAT WOULD YOU HAVE', '/content/librispeech-other/LibriSpeech/test-other/3997/180297/3997-180297-0010.flac': 'I FANCIED FOR A MOMENT THAT I MIGHT GIVE MYSELF THAT HAPPINESS FOR SIX MONTHS YOU WOULD NOT HAVE IT YOU INSISTED ON KNOWING THE MEANS', '/content/librispeech-other/LibriSpeech/test-other/3997/180297/3997-180297-0003.flac': 'DURING THIS REMARK MARGUERITE LOOKED AT ME ATTENTIVELY', '/content/librispeech-other/LibriSpeech/test-other/3997/180297/3997-180297-0029.flac': 'HE WANTS YOU TO FORGIVE HIM', '/content/librispeech-other/LibriSpeech/test-other/3997/180297/3997-180297-0002.flac': 'WELL YOU MIGHT HAVE HAD A WOMAN HERE SAID PRUDENCE AND IT WOULD HARDLY HAVE BEEN AMUSING FOR HER TO SEE TWO MORE ARRIVE', '/content/librispeech-other/LibriSpeech/test-other/3997/180297/3997-180297-0026.flac': 'HERE IT IS I HAVE BROUGHT IT BACK', '/content/librispeech-other/LibriSpeech/test-other/3997/180297/3997-180297-0017.flac': 'WE STAND FIRST IN THEIR SELF ESTEEM LAST IN THEIR ESTEEM', '/content/librispeech-other/LibriSpeech/test-other/3997/180297/3997-180297-0018.flac': 'NEVER DO THEY GIVE YOU ADVICE WHICH IS NOT LUCRATIVE', '/content/librispeech-other/LibriSpeech/test-other/3997/180297/3997-180297-0027.flac': 'I TORE THE LETTER INTO FRAGMENTS AND KISSED WITH TEARS THE HAND THAT GAVE IT TO ME', '/content/librispeech-other/LibriSpeech/test-other/3997/180297/3997-180297-0008.flac': 'IF THERE WERE ANY OTHER I WOULD TELL YOU FOR WE ARE NOT TO HAVE ANY SECRETS FROM ONE ANOTHER NOW', '/content/librispeech-other/LibriSpeech/test-other/3997/180297/3997-180297-0031.flac': 'I EMBRACED MARGUERITE UNTIL SHE WAS ALMOST STIFLED', '/content/librispeech-other/LibriSpeech/test-other/3997/180297/3997-180297-0016.flac': 'WE NO LONGER BELONG TO OURSELVES', '/content/librispeech-other/LibriSpeech/test-other/3997/180297/3997-180297-0004.flac': 'MY DEAR PRUDENCE I ANSWERED YOU DO NOT KNOW WHAT YOU ARE SAYING', '/content/librispeech-other/LibriSpeech/test-other/3997/180297/3997-180297-0022.flac': 'WHAT I LOVED IN YOU WAS NOT THE MAN WHO WAS BUT THE MAN WHO WAS GOING TO BE', '/content/librispeech-other/LibriSpeech/test-other/3997/180297/3997-180297-0020.flac': 'SUCH A MAN I FOUND IN THE DUKE BUT THE DUKE IS OLD AND OLD AGE NEITHER PROTECTS NOR CONSOLES', '/content/librispeech-other/LibriSpeech/test-other/3997/180297/3997-180297-0015.flac': 'WE ARE NOT ALLOWED TO HAVE HEARTS UNDER PENALTY OF BEING HOOTED DOWN AND OF RUINING OUR CREDIT', '/content/librispeech-other/LibriSpeech/test-other/3997/180297/3997-180297-0006.flac': 'BECAUSE I AM WATCHED AND THE LEAST SUSPICION MIGHT DO ME THE GREATEST HARM', '/content/librispeech-other/LibriSpeech/test-other/3997/180297/3997-180297-0013.flac': \"WHEN I THOUGHT THAT THIS MARVELLOUS CREATURE WHOSE FEET I HAD ONCE LONGED TO KISS WAS WILLING TO LET ME TAKE MY PLACE IN HER THOUGHTS MY PART IN HER LIFE AND THAT I WAS NOT YET CONTENT WITH WHAT SHE GAVE ME I ASKED IF MAN'S DESIRE HAS INDEED LIMITS WHEN SATISFIED AS PROMPTLY AS MINE HAD BEEN IT REACHED AFTER SOMETHING FURTHER\", '/content/librispeech-other/LibriSpeech/test-other/3997/180297/3997-180297-0011.flac': 'WELL GOOD HEAVENS THE MEANS WERE EASY ENOUGH TO GUESS', '/content/librispeech-other/LibriSpeech/test-other/3997/180297/3997-180297-0025.flac': 'MARGUERITE DREW THE LETTER FROM HER BOSOM AND HANDING IT TO ME WITH A SMILE OF INFINITE SWEETNESS SAID', '/content/librispeech-other/LibriSpeech/test-other/3997/180297/3997-180297-0023.flac': 'MARGUERITE TIRED OUT WITH THIS LONG CONFESSION THREW HERSELF BACK ON THE SOFA AND TO STIFLE A SLIGHT COUGH PUT UP HER HANDKERCHIEF TO HER LIPS AND FROM THAT TO HER EYES', '/content/librispeech-other/LibriSpeech/test-other/3997/182399/3997-182399-0001.flac': 'THIS SOUNDED LIKE ANOTHER STORY', '/content/librispeech-other/LibriSpeech/test-other/3997/182399/3997-182399-0011.flac': 'ONE DAY THIS NO COUNT TRIFLING COUSIN OF GRANDPAP BUZZARD GET COLD IN HIS FEET', '/content/librispeech-other/LibriSpeech/test-other/3997/182399/3997-182399-0000.flac': 'OL MISTAH BUZZARD GRINNED', '/content/librispeech-other/LibriSpeech/test-other/3997/182399/3997-182399-0012.flac': 'IT WAS ON A LIL OL HOUSE A LIL OL TUMBLE DOWN HOUSE', '/content/librispeech-other/LibriSpeech/test-other/3997/182399/3997-182399-0015.flac': \"WILL YO' ALLS PLEASE SPEAK A LIL LOUDER HE HOLLER DOWN THE CHIMNEY JES LIKE THAT\", '/content/librispeech-other/LibriSpeech/test-other/3997/182399/3997-182399-0016.flac': \"YES SAH SHE SHO'LY WAS PLUMB SCARED\", '/content/librispeech-other/LibriSpeech/test-other/3997/182399/3997-182399-0017.flac': 'THEY LIKE TO CHOKE THAT NO COUNT BUZZARD TO DEATH', '/content/librispeech-other/LibriSpeech/test-other/3997/182399/3997-182399-0009.flac': 'EVERYBODY LOOKED AT PETER AND LAUGHED', '/content/librispeech-other/LibriSpeech/test-other/3997/182399/3997-182399-0004.flac': 'PLEASE MISTER BUZZARD PLEASE TELL US THE STORY HE BEGGED', '/content/librispeech-other/LibriSpeech/test-other/3997/182399/3997-182399-0019.flac': 'A LITTLE SIGH OF SATISFACTION WENT AROUND THE CIRCLE OF LISTENERS', '/content/librispeech-other/LibriSpeech/test-other/3997/182399/3997-182399-0002.flac': 'HE WAS CURIOUS ABOUT THAT BLACK HEADED COUSIN OF OL MISTAH BUZZARD VERY CURIOUS INDEED', '/content/librispeech-other/LibriSpeech/test-other/3997/182399/3997-182399-0003.flac': 'ANYWAY HE WOULD FIND OUT', '/content/librispeech-other/LibriSpeech/test-other/3997/182399/3997-182399-0007.flac': \"LIKE MOST NO COUNT PEOPLE HE USED TO MAKE A REGULAR NUISANCE OF HISSELF POKING HIS NOSE INTO EV'YBODY'S BUSINESS AND NEVER TENDING TO HIS OWN\", '/content/librispeech-other/LibriSpeech/test-other/3997/182399/3997-182399-0020.flac': \"IT WAS JUST AS GOOD AS ONE OF GRANDFATHER FROG'S\", '/content/librispeech-other/LibriSpeech/test-other/3997/182399/3997-182399-0014.flac': \"BUT HE DON'T MIND THAT\", '/content/librispeech-other/LibriSpeech/test-other/3997/182399/3997-182399-0008.flac': \"WASN'T ANYTHING GOING ON THAT THIS TRIFLING MEMBER OF THE BUZZARD FAM'LY DIDN'T FIND OUT ABOUT AND MEDDLE IN HE COULD ASK MO QUESTIONS THAN PETER RABBIT CAN AN ANYBODY THAT CAN DO THAT HAS GOT TO ASK A LOT\", '/content/librispeech-other/LibriSpeech/test-other/3997/182399/3997-182399-0006.flac': \"WAY BACK IN THE DAYS WHEN GRANDPAP BUZZARD HAD HIS LIL FALLING OUT WITH OL KING EAGLE AND DONE FLY SO HIGH HE SCO'TCH THE FEATHERS OFFEN HIS HAID HE HAD A COUSIN DID GRANDPAP BUZZARD AND THIS COUSIN WAS JES NATURALLY LAZY AND NO COUNT\", '/content/librispeech-other/LibriSpeech/test-other/3997/182399/3997-182399-0010.flac': 'SO WE UNS SIT ON THE CHIMNEY TOPS WHENEVER OL JACK FROST GETS TO STRAYING DOWN WHERE HE HAVE NO BUSINESS', '/content/librispeech-other/LibriSpeech/test-other/3997/182399/3997-182399-0018.flac': 'WHEN HE GET HOME HE TRY AN TRY TO BRUSH THAT SOOT OFF BUT IT DONE GET INTO THE SKIN AN IT STAY THERE', '/content/librispeech-other/LibriSpeech/test-other/3997/182399/3997-182399-0005.flac': \"NOW OL MISTAH BUZZARD IS NATURALLY GOOD NATURED AND ACCOMMODATING AND WHEN PETER BEGGED SO HARD HE JUST COULDN'T FIND IT IN HIS HEART TO REFUSE\", '/content/librispeech-other/LibriSpeech/test-other/3997/182399/3997-182399-0013.flac': 'WHY HE JES STRETCH HIS FOOL HAID AS FAR DOWN THAT CHIMNEY AS HE CAN AN LISTEN AN LISTEN', '/content/librispeech-other/LibriSpeech/test-other/3997/180294/3997-180294-0025.flac': 'ONLY ONE REMAINED EMPTY THE STAGE BOX', '/content/librispeech-other/LibriSpeech/test-other/3997/180294/3997-180294-0029.flac': 'YOU SHOULD GO TO BED SHE REPLIED WITH THAT IRONICAL AIR WHICH WENT SO WELL WITH HER DELICATE AND WITTY FACE', '/content/librispeech-other/LibriSpeech/test-other/3997/180294/3997-180294-0000.flac': 'THE DUKE COMES EVERY MORNING THEY WILL TELL HIM WHEN HE COMES THAT I AM ASLEEP AND PERHAPS HE WILL WAIT UNTIL I WAKE', '/content/librispeech-other/LibriSpeech/test-other/3997/180294/3997-180294-0005.flac': \"NOW GO I CAN'T KEEP MY EYES OPEN\", '/content/librispeech-other/LibriSpeech/test-other/3997/180294/3997-180294-0009.flac': 'THEN HOW SURELY MUST THEY DESIRE THE WORLD WHICH IS HIDDEN FROM THEM HOW SURELY MUST THEY FIND IT TEMPTING HOW SURELY MUST THEY LISTEN TO THE FIRST VOICE WHICH COMES TO TELL ITS SECRETS THROUGH THEIR BARS AND BLESS THE HAND WHICH IS THE FIRST TO RAISE A CORNER OF THE MYSTERIOUS VEIL', '/content/librispeech-other/LibriSpeech/test-other/3997/180294/3997-180294-0003.flac': 'THERE ARE BOLTS ON THE DOOR WRETCH', '/content/librispeech-other/LibriSpeech/test-other/3997/180294/3997-180294-0032.flac': \"BECAUSE YOU DON'T LIKE SEEING HIM\", '/content/librispeech-other/LibriSpeech/test-other/3997/180294/3997-180294-0023.flac': \"COME DURING THE THIRD ENTR'ACTE\", '/content/librispeech-other/LibriSpeech/test-other/3997/180294/3997-180294-0019.flac': \"THE WOMAN BECOMES THE MAN'S MISTRESS AND LOVES HIM\", '/content/librispeech-other/LibriSpeech/test-other/3997/180294/3997-180294-0028.flac': 'WHAT IS THE MATTER WITH YOU TO NIGHT SAID MARGUERITE RISING AND COMING TO THE BACK OF THE BOX AND KISSING ME ON THE FOREHEAD', '/content/librispeech-other/LibriSpeech/test-other/3997/180294/3997-180294-0004.flac': \"I DON'T KNOW HOW IT IS BUT IT SEEMS TO ME AS IF I DO\", '/content/librispeech-other/LibriSpeech/test-other/3997/180294/3997-180294-0010.flac': 'WITH THEM THE BODY HAS WORN OUT THE SOUL THE SENSES HAVE BURNED UP THE HEART DISSIPATION HAS BLUNTED THE FEELINGS', '/content/librispeech-other/LibriSpeech/test-other/3997/180294/3997-180294-0007.flac': 'EDUCATION FAMILY FEELING THE SENSE OF DUTY THE FAMILY ARE STRONG SENTINELS BUT THERE ARE NO SENTINELS SO VIGILANT AS NOT TO BE DECEIVED BY A GIRL OF SIXTEEN TO WHOM NATURE BY THE VOICE OF THE MAN SHE LOVES GIVES THE FIRST COUNSELS OF LOVE ALL THE MORE ARDENT BECAUSE THEY SEEM SO PURE', '/content/librispeech-other/LibriSpeech/test-other/3997/180294/3997-180294-0031.flac': 'YOU STILL LOVE ME CAN YOU ASK', '/content/librispeech-other/LibriSpeech/test-other/3997/180294/3997-180294-0001.flac': 'YES BUT IF I SHOULD ALREADY ASK FOR SOMETHING WHAT', '/content/librispeech-other/LibriSpeech/test-other/3997/180294/3997-180294-0021.flac': 'MY WHOLE BEING WAS EXALTED INTO JOY AT THE MEMORY OF THE WORDS WE HAD EXCHANGED DURING THAT FIRST NIGHT', '/content/librispeech-other/LibriSpeech/test-other/3997/180294/3997-180294-0024.flac': 'THE BOXES FILLED ONE AFTER ANOTHER', '/content/librispeech-other/LibriSpeech/test-other/3997/180294/3997-180294-0013.flac': 'THEY KNOW NOT WHAT PROOF TO GIVE', '/content/librispeech-other/LibriSpeech/test-other/3997/180294/3997-180294-0008.flac': 'THE MORE A GIRL BELIEVES IN GOODNESS THE MORE EASILY WILL SHE GIVE WAY IF NOT TO HER LOVER AT LEAST TO LOVE FOR BEING WITHOUT MISTRUST SHE IS WITHOUT FORCE AND TO WIN HER LOVE IS A TRIUMPH THAT CAN BE GAINED BY ANY YOUNG MAN OF FIVE AND TWENTY SEE HOW YOUNG GIRLS ARE WATCHED AND GUARDED', '/content/librispeech-other/LibriSpeech/test-other/3997/180294/3997-180294-0018.flac': 'WHEN I REACHED HOME I WAS IN A STATE OF MAD GAIETY', '/content/librispeech-other/LibriSpeech/test-other/3997/180294/3997-180294-0006.flac': 'IT SEEMED TO ME AS IF THIS SLEEPING CITY BELONGED TO ME I SEARCHED MY MEMORY FOR THE NAMES OF THOSE WHOSE HAPPINESS I HAD ONCE ENVIED AND I COULD NOT RECALL ONE WITHOUT FINDING MYSELF THE HAPPIER', '/content/librispeech-other/LibriSpeech/test-other/3997/180294/3997-180294-0016.flac': 'BUT WHEN THE MAN WHO INSPIRES THIS REDEEMING LOVE IS GREAT ENOUGH IN SOUL TO RECEIVE IT WITHOUT REMEMBERING THE PAST WHEN HE GIVES HIMSELF UP TO IT WHEN IN SHORT HE LOVES AS HE IS LOVED THIS MAN DRAINS AT ONE DRAUGHT ALL EARTHLY EMOTIONS AND AFTER SUCH A LOVE HIS HEART WILL BE CLOSED TO EVERY OTHER', '/content/librispeech-other/LibriSpeech/test-other/3997/180294/3997-180294-0014.flac': 'IN ORDER TO DISTURB THE LABOURERS IN THE FIELD WAS ONE DAY DEVOURED BY A WOLF BECAUSE THOSE WHOM HE HAD SO OFTEN DECEIVED NO LONGER BELIEVED IN HIS CRIES FOR HELP', '/content/librispeech-other/LibriSpeech/test-other/3997/180294/3997-180294-0033.flac': 'NONETHELESS I WAS VERY UNHAPPY ALL THE REST OF THE EVENING AND WENT AWAY VERY SADLY AFTER HAVING SEEN PRUDENCE THE COUNT AND MARGUERITE GET INTO THE CARRIAGE WHICH WAS WAITING FOR THEM AT THE DOOR', '/content/librispeech-other/LibriSpeech/test-other/3997/180294/3997-180294-0012.flac': 'WHEN A CREATURE WHO HAS ALL HER PAST TO REPROACH HERSELF WITH IS TAKEN ALL AT ONCE BY A PROFOUND SINCERE IRRESISTIBLE LOVE OF WHICH SHE HAD NEVER FELT HERSELF CAPABLE WHEN SHE HAS CONFESSED HER LOVE HOW ABSOLUTELY THE MAN WHOM SHE LOVES DOMINATES HER', '/content/librispeech-other/LibriSpeech/test-other/3997/180294/3997-180294-0002.flac': \"WELL DO IT FOR ME FOR I SWEAR TO YOU THAT I DON'T LOVE YOU AS THE OTHERS HAVE LOVED YOU\", '/content/librispeech-other/LibriSpeech/test-other/3997/180294/3997-180294-0017.flac': 'BUT TO RETURN TO THE FIRST DAY OF MY LIAISON', '/content/librispeech-other/LibriSpeech/test-other/3997/180294/3997-180294-0022.flac': 'HERE ARE MY ORDERS TO NIGHT AT THE VAUDEVILLE', '/content/librispeech-other/LibriSpeech/test-other/3997/180294/3997-180294-0027.flac': 'DID SHE LOVE ME ENOUGH TO BELIEVE THAT THE MORE BEAUTIFUL SHE LOOKED THE HAPPIER I SHOULD BE', '/content/librispeech-other/LibriSpeech/test-other/3997/180294/3997-180294-0020.flac': 'HOW WHY', '/content/librispeech-other/LibriSpeech/test-other/3997/180294/3997-180294-0015.flac': 'IT IS THE SAME WITH THESE UNHAPPY WOMEN WHEN THEY LOVE SERIOUSLY', '/content/librispeech-other/LibriSpeech/test-other/3997/180294/3997-180294-0030.flac': 'WHERE AT HOME', '/content/librispeech-other/LibriSpeech/test-other/3997/180294/3997-180294-0026.flac': 'AT THE BEGINNING OF THE THIRD ACT I HEARD THE DOOR OF THE BOX ON WHICH MY EYES HAD BEEN ALMOST CONSTANTLY FIXED OPEN AND MARGUERITE APPEARED', '/content/librispeech-other/LibriSpeech/test-other/3997/180294/3997-180294-0011.flac': 'THEY LOVE BY PROFESSION AND NOT BY INSTINCT', '/content/librispeech-other/LibriSpeech/test-other/1998/29455/1998-29455-0003.flac': 'SWELP ME HE SAID HELPLESSLY', '/content/librispeech-other/LibriSpeech/test-other/1998/29455/1998-29455-0017.flac': 'THE TWO TRAVELLERS WERE LEFT FACING EACH OTHER THE RICHER BY A PENNY AND OH WONDERFUL GOOD FORTUNE A WHOLE HALF CROWN', '/content/librispeech-other/LibriSpeech/test-other/1998/29455/1998-29455-0030.flac': \"I AIN'T SURE AS I ADN'T BETTER STICK TO THE ROAD AND KEEP AWAY FROM OLD ANDS LIKE YOU JIM\", '/content/librispeech-other/LibriSpeech/test-other/1998/29455/1998-29455-0033.flac': 'SEE THAT BLOKE JUST NOW SAID MISTER BEALE YUSS SAID DICKIE', '/content/librispeech-other/LibriSpeech/test-other/1998/29455/1998-29455-0012.flac': 'I LIKE YOU NEXTER MY OWN DADDY AND MISTER BAXTER NEXT DOOR', '/content/librispeech-other/LibriSpeech/test-other/1998/29455/1998-29455-0019.flac': \"YOU STICK TO THAT SAID BEALE RADIANT WITH DELIGHT YOU'RE A FAIR MASTERPIECE YOU ARE YOU EARNED IT HONEST IF EVER A KID DONE\", '/content/librispeech-other/LibriSpeech/test-other/1998/29455/1998-29455-0034.flac': 'WELL YOU NEVER SEE IM', '/content/librispeech-other/LibriSpeech/test-other/1998/29455/1998-29455-0036.flac': 'DICKIE WAS FULL OF QUESTIONS BUT MISTER BEALE HAD NO ANSWERS FOR THEM', '/content/librispeech-other/LibriSpeech/test-other/1998/29455/1998-29455-0001.flac': \"WHAT'S ALL THAT THERE DICKIE ASKED POINTING TO THE ODD KNOBBLY BUNDLES OF ALL SORTS AND SHAPES TIED ON TO THE PERAMBULATOR'S FRONT\", '/content/librispeech-other/LibriSpeech/test-other/1998/29455/1998-29455-0025.flac': \"WHICH THIS AIN'T NOT BY NO MEANS\", '/content/librispeech-other/LibriSpeech/test-other/1998/29455/1998-29455-0010.flac': \"THIS LIFE OF THE RABBIT AS DESCRIBED BY MISTER BEALE WAS THE CHILD'S FIRST GLIMPSE OF FREEDOM I'D LIKE TO BE A RABBIT\", '/content/librispeech-other/LibriSpeech/test-other/1998/29455/1998-29455-0028.flac': 'BLESSED IF I EVER SEE SUCH A NIPPER HE SAID OVER AND OVER AGAIN', '/content/librispeech-other/LibriSpeech/test-other/1998/29455/1998-29455-0014.flac': 'DICKIE QUICK TO IMITATE TOUCHED HIS', '/content/librispeech-other/LibriSpeech/test-other/1998/29455/1998-29455-0026.flac': 'THE NIGHT IS FULL OF INTERESTING LITTLE SOUNDS THAT WILL NOT AT FIRST LET YOU SLEEP THE RUSTLE OF LITTLE WILD THINGS IN THE HEDGES THE BARKING OF DOGS IN DISTANT FARMS THE CHIRP OF CRICKETS AND THE CROAKING OF FROGS', '/content/librispeech-other/LibriSpeech/test-other/1998/29455/1998-29455-0031.flac': \"I OPE E'S CLEVER ENOUGH TO DO WOT E'S TOLD KEEP IS MUG SHUT THAT'S ALL\", '/content/librispeech-other/LibriSpeech/test-other/1998/29455/1998-29455-0009.flac': 'HOW BEAUTIFUL SAID DICKIE WRIGGLING WITH DELIGHT', '/content/librispeech-other/LibriSpeech/test-other/1998/29455/1998-29455-0002.flac': \"TELL YER WHAT MATE LOOKS TO ME AS IF I'D TOOK A FANCY TO YOU\", '/content/librispeech-other/LibriSpeech/test-other/1998/29455/1998-29455-0015.flac': \"POOR LITTLE MAN SAID THE LADY YOU MISS YOUR MOTHER DON'T YOU\", '/content/librispeech-other/LibriSpeech/test-other/1998/29455/1998-29455-0011.flac': \"OW'M I TO WHEEL THE BLOOMIN PRAM IF YOU GOES ON LIKE AS IF YOU WAS A BAG OF EELS\", '/content/librispeech-other/LibriSpeech/test-other/1998/29455/1998-29455-0007.flac': 'HI THERE GOES A RABBIT', '/content/librispeech-other/LibriSpeech/test-other/1998/29455/1998-29455-0027.flac': 'THE NEW GAME OF BEGGING AND INVENTING STORIES TO INTEREST THE PEOPLE FROM WHOM IT WAS WORTH WHILE TO BEG WENT ON GAILY DAY BY DAY AND WEEK BY WEEK AND DICKIE BY CONSTANT PRACTICE GREW SO CLEVER AT TAKING HIS PART IN THE ACTING THAT MISTER BEALE WAS QUITE DAZED WITH ADMIRATION', '/content/librispeech-other/LibriSpeech/test-other/1998/29455/1998-29455-0021.flac': 'PLEASE DO NOT BE TOO SHOCKED', '/content/librispeech-other/LibriSpeech/test-other/1998/29455/1998-29455-0037.flac': \"NOR WAS IT SUNDAY ON WHICH THEY TOOK A REST AND WASHED THEIR SHIRTS ACCORDING TO MISTER BEALE'S RULE OF LIFE\", '/content/librispeech-other/LibriSpeech/test-other/1998/29455/1998-29455-0039.flac': \"WHAT'S THAT THERE SAID DICKIE\", '/content/librispeech-other/LibriSpeech/test-other/1998/29455/1998-29455-0005.flac': \"THEY'RE ONLY WEEDS SAID BEALE\", '/content/librispeech-other/LibriSpeech/test-other/1998/29455/1998-29455-0008.flac': 'SEE IM CROST THE ROAD THERE SEE HIM', '/content/librispeech-other/LibriSpeech/test-other/1998/29455/1998-29455-0013.flac': \"THAT'S ALL RIGHT SAID MISTER BEALE AWKWARDLY\", '/content/librispeech-other/LibriSpeech/test-other/1998/29455/1998-29455-0029.flac': 'CLEVER AS A TRAINDAWG E IS AN ALL OUTER IS OWN EAD', '/content/librispeech-other/LibriSpeech/test-other/1998/29455/1998-29455-0004.flac': 'OH LOOK SAID DICKIE THE FLOWERS', '/content/librispeech-other/LibriSpeech/test-other/1998/29455/1998-29455-0032.flac': \"IF E'S STRAIGHT E'LL DO FOR ME AND IF HE AIN'T I'LL DO FOR IM SEE\", '/content/librispeech-other/LibriSpeech/test-other/1998/29455/1998-29455-0022.flac': 'REMEMBER THAT NEITHER OF THEM KNEW ANY BETTER', '/content/librispeech-other/LibriSpeech/test-other/1998/29455/1998-29455-0038.flac': 'THEY DID NOT STAY THERE BUT WALKED OUT ACROSS THE DOWNS WHERE THE SKYLARKS WERE SINGING AND ON A DIP OF THE DOWNS CAME UPON GREAT STONE WALLS AND TOWERS VERY STRONG AND GRAY', '/content/librispeech-other/LibriSpeech/test-other/1998/29455/1998-29455-0035.flac': 'IF ANY ONE ARSTS YOU IF YOU EVER SEE IM YOU NEVER SET EYES ON IM IN ALL YOUR BORN NOT TO REMEMBER IM', '/content/librispeech-other/LibriSpeech/test-other/1998/29455/1998-29455-0024.flac': 'BUT YOU SAID THE BED WITH THE GREEN CURTAINS URGED DICKIE', '/content/librispeech-other/LibriSpeech/test-other/1998/29455/1998-29455-0020.flac': 'THEY WENT ON UP THE HILL AS HAPPY AS ANY ONE NEED WISH TO BE', '/content/librispeech-other/LibriSpeech/test-other/1998/29455/1998-29455-0016.flac': 'OH WELL DONE LITTLE UN SAID MISTER BEALE TO HIMSELF', '/content/librispeech-other/LibriSpeech/test-other/1998/29455/1998-29455-0000.flac': 'THE SINGING AND LAUGHING WENT ON LONG AFTER HE HAD FALLEN ASLEEP AND IF LATER IN THE EVENING THERE WERE LOUD VOICED ARGUMENTS OR QUARRELS EVEN DICKIE DID NOT HEAR THEM', '/content/librispeech-other/LibriSpeech/test-other/1998/29455/1998-29455-0006.flac': \"BUT I SHALL HAVE THEM WHILE THEY'RE ALIVE SAID DICKIE AS HE HAD SAID TO THE PAWNBROKER ABOUT THE MOONFLOWERS\", '/content/librispeech-other/LibriSpeech/test-other/1998/29455/1998-29455-0018.flac': \"NO I NEVER SAID DICKIE ERE'S THE STEEVER\", '/content/librispeech-other/LibriSpeech/test-other/1998/29455/1998-29455-0023.flac': 'TO THE ELDER TRAMP LIES AND BEGGING WERE NATURAL MEANS OF LIVELIHOOD', '/content/librispeech-other/LibriSpeech/test-other/1998/29454/1998-29454-0015.flac': 'SHE WAS WAITIN FOR THE WOOD TO BOIL THE KETTLE WHEN I COME OUT MOTHER', '/content/librispeech-other/LibriSpeech/test-other/1998/29454/1998-29454-0032.flac': 'I SEE THAT THERE IN A BOOK SAID DICKIE CHARMED', '/content/librispeech-other/LibriSpeech/test-other/1998/29454/1998-29454-0001.flac': \"PERUSAL SAID THE PAWNBROKER THAT'S THE WAY TO PERNOUNCE IT\", '/content/librispeech-other/LibriSpeech/test-other/1998/29454/1998-29454-0020.flac': 'NO SAID DICKIE OH NO NO I NEVER', '/content/librispeech-other/LibriSpeech/test-other/1998/29454/1998-29454-0035.flac': 'ADVENTURES I SHOULD THINK SO', '/content/librispeech-other/LibriSpeech/test-other/1998/29454/1998-29454-0039.flac': \"SO YOU SHALL SAID MISTER BEALE A REG'LER WASH ALL OVER THIS VERY NIGHT I ALWAYS LIKE A WASH MESELF\", '/content/librispeech-other/LibriSpeech/test-other/1998/29454/1998-29454-0042.flac': 'YOU ARE GOOD SAID DICKIE I DO LIKE YOU', '/content/librispeech-other/LibriSpeech/test-other/1998/29454/1998-29454-0009.flac': 'HERE WE ARE SAID THE MAN', '/content/librispeech-other/LibriSpeech/test-other/1998/29454/1998-29454-0007.flac': \"WHAT'S UP MATEY LOST YOUR WAY DICKIE EXPLAINED\", '/content/librispeech-other/LibriSpeech/test-other/1998/29454/1998-29454-0044.flac': 'BLESS ME SAID MISTER BEALE UNCOMFORTABLY WELL THERE', '/content/librispeech-other/LibriSpeech/test-other/1998/29454/1998-29454-0028.flac': 'GET IT WROTE DOWN THEN DONE', '/content/librispeech-other/LibriSpeech/test-other/1998/29454/1998-29454-0008.flac': 'WHEN HE SAID AVE I BIN ASLEEP', '/content/librispeech-other/LibriSpeech/test-other/1998/29454/1998-29454-0023.flac': \"THE MAN'S MANNER WAS SO KIND AND HEARTY THE WHOLE ADVENTURE WAS SO WONDERFUL AND NEW IS IT COUNTRY WHERE YOU GOING\", '/content/librispeech-other/LibriSpeech/test-other/1998/29454/1998-29454-0038.flac': 'DICKIE ALWAYS REMEMBERED THAT MOMENT', '/content/librispeech-other/LibriSpeech/test-other/1998/29454/1998-29454-0019.flac': \"I WOULDN'T GO OME NOT IF I WAS YOU SAID THE MAN\", '/content/librispeech-other/LibriSpeech/test-other/1998/29454/1998-29454-0045.flac': \"STEP OUT SONNY OR WE'LL NEVER GET THERE THIS SIDE CHRISTMAS\", '/content/librispeech-other/LibriSpeech/test-other/1998/29454/1998-29454-0036.flac': 'AH SAID DICKIE AND A FULL SILENCE FELL BETWEEN THEM', '/content/librispeech-other/LibriSpeech/test-other/1998/29454/1998-29454-0006.flac': 'HE LOOKED ABOUT HIM AND KNEW THAT HE DID NOT AT ALL KNOW WHERE HE WAS', '/content/librispeech-other/LibriSpeech/test-other/1998/29454/1998-29454-0041.flac': \"IF YOU'RE CLEAN THEY SAY HONEST POVERTY AN IF YOU'RE DIRTY THEY SAY SERVE YOU RIGHT\", '/content/librispeech-other/LibriSpeech/test-other/1998/29454/1998-29454-0016.flac': \"AIN'T BAD WHEN SHE'S IN A GOOD TEMPER\", '/content/librispeech-other/LibriSpeech/test-other/1998/29454/1998-29454-0003.flac': 'HE GOT IT UP AND PUSHED HIS TREASURES AS FAR IN AS HE COULD ALONG THE ROUGH CRUMBLY SURFACE OF THE LATH AND PLASTER', '/content/librispeech-other/LibriSpeech/test-other/1998/29454/1998-29454-0022.flac': \"WELL THAT'LL SHOW YOU THE SORT OF MAN I AM\", '/content/librispeech-other/LibriSpeech/test-other/1998/29454/1998-29454-0026.flac': 'HE TOOK OUT OF HIS POCKET A NEW ENVELOPE A NEW SHEET OF PAPER AND A NEW PENCIL READY SHARPENED BY MACHINERY', '/content/librispeech-other/LibriSpeech/test-other/1998/29454/1998-29454-0018.flac': \"I GOT TO STICK IT SAID DICKIE SADLY I'D BEST BE GETTING HOME\", '/content/librispeech-other/LibriSpeech/test-other/1998/29454/1998-29454-0030.flac': \"NOW WE'RE SQUARE HE SAID\", '/content/librispeech-other/LibriSpeech/test-other/1998/29454/1998-29454-0012.flac': 'AND THE TEA AND ALL AN THE EGG', '/content/librispeech-other/LibriSpeech/test-other/1998/29454/1998-29454-0040.flac': \"SOME BLOKES THINK IT PAYS TO BE DIRTY BUT IT DON'T\", '/content/librispeech-other/LibriSpeech/test-other/1998/29454/1998-29454-0046.flac': \"WELL YOU'LL KNOW ALL ABOUT IT PRESENTLY\", '/content/librispeech-other/LibriSpeech/test-other/1998/29454/1998-29454-0010.flac': \"NOT EXACKLY SAID THE MAN BUT IT'S ALL RIGHT\", '/content/librispeech-other/LibriSpeech/test-other/1998/29454/1998-29454-0025.flac': 'A BIRD PAUSED IN ITS FLIGHT ON A BRANCH QUITE CLOSE AND CLUNG THERE SWAYING', '/content/librispeech-other/LibriSpeech/test-other/1998/29454/1998-29454-0024.flac': 'THE SUN SHOT LONG GOLDEN BEAMS THROUGH THE GAPS IN THE HEDGE', '/content/librispeech-other/LibriSpeech/test-other/1998/29454/1998-29454-0037.flac': 'THAT WAS CHARMING BUT IT WAS PLEASANT TOO TO WASH THE MUD OFF ON THE WET GRASS', '/content/librispeech-other/LibriSpeech/test-other/1998/29454/1998-29454-0011.flac': 'WHEN IT WAS OVER THE MAN ASKED DICKIE IF HE COULD WALK A LITTLE WAY AND WHEN DICKIE SAID HE COULD THEY SET OUT IN THE MOST FRIENDLY WAY SIDE BY SIDE', '/content/librispeech-other/LibriSpeech/test-other/1998/29454/1998-29454-0043.flac': 'I KNOW YOU WILL SAID DICKIE WITH ENTHUSIASM I KNOW OW GOOD YOU ARE', '/content/librispeech-other/LibriSpeech/test-other/1998/29454/1998-29454-0021.flac': \"I AIN'T IT YER HAVE I LIKE WHAT YER AUNT DO\", '/content/librispeech-other/LibriSpeech/test-other/1998/29454/1998-29454-0017.flac': \"THAT AIN'T WHAT SHE'LL BE IN WHEN YOU GETS BACK\", '/content/librispeech-other/LibriSpeech/test-other/1998/29454/1998-29454-0000.flac': 'A THOUSAND BLESSINGS FROM A GRATEFUL HEART', '/content/librispeech-other/LibriSpeech/test-other/1998/29454/1998-29454-0004.flac': 'WHEN DICKIE CAME DOWN HIS AUNT SLIGHTLY SLAPPED HIM AND HE TOOK THE HALFPENNY AND LIMPED OFF OBEDIENTLY', '/content/librispeech-other/LibriSpeech/test-other/1998/29454/1998-29454-0029.flac': 'THEN HE FOLDED IT AND PUT IT IN HIS POCKET', '/content/librispeech-other/LibriSpeech/test-other/1998/29454/1998-29454-0002.flac': 'HIS BOOKS TOLD HIM THAT TREASURE IS BEST HIDDEN UNDER LOOSE BOARDS UNLESS OF COURSE YOUR HOUSE HAS A SECRET PANEL WHICH HIS HAD NOT', '/content/librispeech-other/LibriSpeech/test-other/1998/29454/1998-29454-0034.flac': \"WILD ONES AIN'T ALF THE SIZE I LAY\", '/content/librispeech-other/LibriSpeech/test-other/1998/29454/1998-29454-0033.flac': 'HE REWARD THE WAKE THE LAST OF THE ENGLISH AND I WUNNERED WHAT IT STOOD FOR', '/content/librispeech-other/LibriSpeech/test-other/1998/29454/1998-29454-0031.flac': 'THEY COULD PUT A MAN AWAY FOR LESS THAN THAT', '/content/librispeech-other/LibriSpeech/test-other/1998/29454/1998-29454-0014.flac': 'I SHALL CATCH IT A FAIR TREAT AS IT IS', '/content/librispeech-other/LibriSpeech/test-other/1998/29454/1998-29454-0013.flac': 'AND THIS IS THE PRETTIEST PLACE EVER I SEE', '/content/librispeech-other/LibriSpeech/test-other/1998/29454/1998-29454-0027.flac': 'AN I ASKS YOU LET ME COME ALONGER YOU GOT THAT', '/content/librispeech-other/LibriSpeech/test-other/1998/29454/1998-29454-0005.flac': 'HE HAD NEVER SEEN ONE BEFORE AND IT INTERESTED HIM EXTREMELY', '/content/librispeech-other/LibriSpeech/test-other/1998/15444/1998-15444-0000.flac': \"IF CALLED TO A CASE SUPPOSED OR SUSPECTED TO BE ONE OF POISONING THE MEDICAL MAN HAS TWO DUTIES TO PERFORM TO SAVE THE PATIENT'S LIFE AND TO PLACE HIMSELF IN A POSITION TO GIVE EVIDENCE IF CALLED ON TO DO SO\", '/content/librispeech-other/LibriSpeech/test-other/1998/15444/1998-15444-0007.flac': 'THE BEST EMETIC IS THAT WHICH IS AT HAND', '/content/librispeech-other/LibriSpeech/test-other/1998/15444/1998-15444-0013.flac': 'ANTIDOTES ARE USUALLY GIVEN HYPODERMICALLY OR IF BY MOUTH IN THE FORM OF TABLETS', '/content/librispeech-other/LibriSpeech/test-other/1998/15444/1998-15444-0026.flac': 'BOIL THE FINELY DIVIDED SUBSTANCE WITH ABOUT ONE EIGHTH ITS BULK OF PURE HYDROCHLORIC ACID ADD FROM TIME TO TIME POTASSIC CHLORATE UNTIL THE SOLIDS ARE REDUCED TO A STRAW YELLOW FLUID', '/content/librispeech-other/LibriSpeech/test-other/1998/15444/1998-15444-0022.flac': 'EVAPORATE THE FILTRATE TO A SYRUP AND EXTRACT WITH SUCCESSIVE PORTIONS OF ABSOLUTE ALCOHOL', '/content/librispeech-other/LibriSpeech/test-other/1998/15444/1998-15444-0017.flac': 'THIS PROCESS IS BASED UPON THE PRINCIPLE THAT THE SALTS OF THE ALKALOIDS ARE SOLUBLE IN ALCOHOL AND WATER AND INSOLUBLE IN ETHER', '/content/librispeech-other/LibriSpeech/test-other/1998/15444/1998-15444-0018.flac': 'THE PURE ALKALOIDS WITH THE EXCEPTION OF MORPHINE IN ITS CRYSTALLINE FORM ARE SOLUBLE IN ETHER', '/content/librispeech-other/LibriSpeech/test-other/1998/15444/1998-15444-0016.flac': 'FOR THE SEPARATION OF AN ALKALOID THE FOLLOWING IS THE PROCESS OF STAS OTTO', '/content/librispeech-other/LibriSpeech/test-other/1998/15444/1998-15444-0019.flac': 'TWO COOL THE MIXTURE AND FILTER WASH THE RESIDUE WITH STRONG ALCOHOL AND MIX THE FILTRATES', '/content/librispeech-other/LibriSpeech/test-other/1998/15444/1998-15444-0008.flac': 'THE DOSE FOR AN ADULT IS TEN MINIMS', '/content/librispeech-other/LibriSpeech/test-other/1998/15444/1998-15444-0005.flac': 'IF THE MEDICAL PRACTITIONER IS IN DOUBT ON ANY POINT HE SHOULD OBTAIN TECHNICAL ASSISTANCE FROM SOMEONE WHO HAS PAID ATTENTION TO THE SUBJECT', '/content/librispeech-other/LibriSpeech/test-other/1998/15444/1998-15444-0025.flac': 'TO PURIFY IT ADD A SMALL QUANTITY OF DILUTE SULPHURIC ACID AND AFTER EVAPORATING TO THREE QUARTERS OF ITS BULK ADD A SATURATED SOLUTION OF CARBONATE OF POTASH OR SODA', '/content/librispeech-other/LibriSpeech/test-other/1998/15444/1998-15444-0021.flac': 'ON THE EVAPORATION OF THE ALCOHOL THE RESINOUS AND FATTY MATTERS SEPARATE', '/content/librispeech-other/LibriSpeech/test-other/1998/15444/1998-15444-0003.flac': 'IN MAKING A POST MORTEM EXAMINATION THE ALIMENTARY CANAL SHOULD BE REMOVED AND PRESERVED FOR FURTHER INVESTIGATION', '/content/librispeech-other/LibriSpeech/test-other/1998/15444/1998-15444-0012.flac': 'THE TUBE SHOULD BE EXAMINED TO SEE THAT IT IS NOT BROKEN OR CRACKED AS ACCIDENTS HAVE HAPPENED FROM NEGLECTING THIS PRECAUTION', '/content/librispeech-other/LibriSpeech/test-other/1998/15444/1998-15444-0011.flac': 'IN USING THE ELASTIC STOMACH TUBE SOME FLUID SHOULD BE INTRODUCED INTO THE STOMACH BEFORE ATTEMPTING TO EMPTY IT OR A PORTION OF THE MUCOUS MEMBRANE MAY BE SUCKED INTO THE APERTURE', '/content/librispeech-other/LibriSpeech/test-other/1998/15444/1998-15444-0020.flac': 'THE RESIDUE MAY BE SET ASIDE FOR THE DETECTION OF THE METALLIC POISONS IF SUSPECTED EXPEL THE ALCOHOL BY CAREFUL EVAPORATION', '/content/librispeech-other/LibriSpeech/test-other/1998/15444/1998-15444-0027.flac': 'THE RESIDUE OF THE MATERIAL AFTER DIGESTION WITH HYDROCHLORIC ACID AND POTASSIUM CHLORATE MAY HAVE TO BE EXAMINED FOR SILVER LEAD AND BARIUM', '/content/librispeech-other/LibriSpeech/test-other/1998/15444/1998-15444-0014.flac': 'IN THE ABSENCE OF A HYPODERMIC SYRINGE THE REMEDY MAY BE GIVEN BY THE RECTUM', '/content/librispeech-other/LibriSpeech/test-other/1998/15444/1998-15444-0010.flac': 'TICKLING THE FAUCES WITH A FEATHER MAY EXCITE VOMITING', '/content/librispeech-other/LibriSpeech/test-other/1998/15444/1998-15444-0015.flac': 'NOTICE THE SMELL COLOUR AND GENERAL APPEARANCE OF THE MATTER SUBMITTED FOR EXAMINATION', '/content/librispeech-other/LibriSpeech/test-other/1998/15444/1998-15444-0004.flac': 'THE GUT AND THE GULLET BEING CUT ACROSS BETWEEN THESE LIGATURES THE STOMACH MAY BE REMOVED ENTIRE WITHOUT SPILLING ITS CONTENTS', '/content/librispeech-other/LibriSpeech/test-other/1998/15444/1998-15444-0002.flac': 'HE SHOULD NOTICE THE POSITION AND TEMPERATURE OF THE BODY THE CONDITION OF RIGOR MORTIS MARKS OF VIOLENCE APPEARANCE OF LIPS AND MOUTH', '/content/librispeech-other/LibriSpeech/test-other/1998/15444/1998-15444-0006.flac': 'IN A CASE OF ATTEMPTED SUICIDE BY POISONING IS IT THE DUTY OF THE DOCTOR TO INFORM THE POLICE', '/content/librispeech-other/LibriSpeech/test-other/1998/15444/1998-15444-0009.flac': 'APOMORPHINE IS NOT ALLIED IN PHYSIOLOGICAL ACTION TO MORPHINE AND MAY BE GIVEN IN CASES OF NARCOTIC POISONING', '/content/librispeech-other/LibriSpeech/test-other/1998/15444/1998-15444-0023.flac': 'SEPARATE THE ETHEREAL SOLUTION AND EVAPORATE', '/content/librispeech-other/LibriSpeech/test-other/1998/15444/1998-15444-0001.flac': 'HE SHOULD MAKE INQUIRIES AS TO SYMPTOMS AND TIME AT WHICH FOOD OR MEDICINE WAS LAST TAKEN', '/content/librispeech-other/LibriSpeech/test-other/1998/15444/1998-15444-0024.flac': 'FIVE A PART OF THIS ETHEREAL SOLUTION IS POURED INTO A WATCH GLASS AND ALLOWED TO EVAPORATE', '/content/librispeech-other/LibriSpeech/test-other/7902/96591/7902-96591-0006.flac': 'PRAY PRAY SAY YOU WILL NOT ARCHY WAS SILENT', '/content/librispeech-other/LibriSpeech/test-other/7902/96591/7902-96591-0022.flac': \"HE WENT AND TRIED TO FORCE HIS HEAD THROUGH RECALLING AS HE DID THAT WHERE A PERSON'S HEAD WOULD GO THE REST OF THE BODY WOULD PASS\", '/content/librispeech-other/LibriSpeech/test-other/7902/96591/7902-96591-0002.flac': 'AND AND YOU HAVE NOT FOUND OUT ANYTHING CAME IN QUICK FRIGHTENED TONES', '/content/librispeech-other/LibriSpeech/test-other/7902/96591/7902-96591-0020.flac': 'SYMPATHY AND PITY FOR THE DWELLERS IN THE HOZE WERE COMPLETELY GONE NOW AND HE SET HIS TEETH FAST AND MENTALLY CALLED HIMSELF A WEAK IDIOT FOR EVER THINKING ABOUT SUCH PEOPLE', '/content/librispeech-other/LibriSpeech/test-other/7902/96591/7902-96591-0014.flac': 'THE KICK HE HAD RECEIVED WAS A FORETASTE OF WHAT HE MIGHT EXPECT AND AFTER A LITTLE CONSIDERATION HE CAME TO THE CONCLUSION THAT HIS DUTY WAS TO ESCAPE AND GET BACK TO THE CUTTER AS QUICKLY AS HE COULD', '/content/librispeech-other/LibriSpeech/test-other/7902/96591/7902-96591-0024.flac': 'A FELLOW WHO WAS SHUT UP IN PRISON FOR LIFE MIGHT DO IT HE SAID BUT NOT IN A CASE LIKE THIS', '/content/librispeech-other/LibriSpeech/test-other/7902/96591/7902-96591-0000.flac': 'I AM FROM THE CUTTER LYING OFF THE COAST', '/content/librispeech-other/LibriSpeech/test-other/7902/96591/7902-96591-0010.flac': 'COLD WATER CAME ON THIS IDEA DIRECTLY AS HE RECALLED THE FACT THAT THE DARKNESS WAS INTENSE AND CELIA COULD NOT HAVE SEEN HIM', '/content/librispeech-other/LibriSpeech/test-other/7902/96591/7902-96591-0018.flac': 'YES IF OTHER WAYS FAILED HE COULD ESCAPE UP THE CHIMNEY', '/content/librispeech-other/LibriSpeech/test-other/7902/96591/7902-96591-0007.flac': 'THEN AS ARCHY STOOD IN THE DARK LITERALLY AGHAST WITH ASTONISHMENT HE HEARD THE FAINT RUSTLING ONCE MORE AND AGAIN ALL WAS SILENT', '/content/librispeech-other/LibriSpeech/test-other/7902/96591/7902-96591-0005.flac': 'HE COULD NOT HELP IT HE HATES THE SMUGGLERS YOU SHALL NOT TELL', '/content/librispeech-other/LibriSpeech/test-other/7902/96591/7902-96591-0021.flac': 'A NARROW TABLE AGAINST THE WALL IN TWO PLACES', '/content/librispeech-other/LibriSpeech/test-other/7902/96591/7902-96591-0017.flac': 'NEXT MOMENT AS HE FELT HIS WAY ABOUT HIS HAND TOUCHED AN OLD FASHIONED MARBLE MANTELPIECE FIREPLACE CHIMNEY', '/content/librispeech-other/LibriSpeech/test-other/7902/96591/7902-96591-0016.flac': 'THE WINDOW WAS BARRED BUT HE WENT TO IT AND TRIED THE BARS ONE BY ONE TO FIND THEM ALL SOLIDLY FITTED INTO THE STONE SILL', '/content/librispeech-other/LibriSpeech/test-other/7902/96591/7902-96591-0001.flac': \"DON'T CRY HE SAID I WAS OBLIGED TO COME\", '/content/librispeech-other/LibriSpeech/test-other/7902/96591/7902-96591-0003.flac': 'I WISH YOU WOULD BELIEVE ME THAT I AM IN AS GREAT TROUBLE ABOUT IT AS YOU ARE', '/content/librispeech-other/LibriSpeech/test-other/7902/96591/7902-96591-0019.flac': 'NO THAT WAS TOO BAD HE COULD NOT DO THAT', '/content/librispeech-other/LibriSpeech/test-other/7902/96591/7902-96591-0004.flac': 'THAT MY FATHER SIR RISDON GRAEME HAS SMUGGLED GOODS HERE', '/content/librispeech-other/LibriSpeech/test-other/7902/96591/7902-96591-0008.flac': 'HE LAUGHED BUT IT WAS A CURIOUS KIND OF LAUGH FULL OF VEXATION INJURED AMOUR PROPRE AS THE FRENCH CALL OUR LOVE OF OUR OWN DIGNITY OF WHICH ARCHIBALD RAYSTOKE IN THE FULL FLUSH OF HIS YOUNG BELIEF IN HIS IMPORTANCE AS A BRITISH OFFICER HAD A PRETTY GOOD STOCK', '/content/librispeech-other/LibriSpeech/test-other/7902/96591/7902-96591-0023.flac': 'BUT THERE WAS NO CHANCE FOR HIS BODY THERE THE HEAD WOULD NOT GO FIRST', '/content/librispeech-other/LibriSpeech/test-other/7902/96591/7902-96591-0015.flac': \"TO DO THIS HE MUST SCHEME LIE HID TILL MORNING THEN MAKE FOR THE NEAREST POINT AND SIGNAL FOR HELP UNLESS A BOAT'S CREW WERE ALREADY SEARCHING FOR HIM HOW TO ESCAPE\", '/content/librispeech-other/LibriSpeech/test-other/7902/96591/7902-96591-0009.flac': 'IT ALL COMES OF DRESSING UP IN THIS STUPID WAY LIKE A ROUGH FISHER LAD', '/content/librispeech-other/LibriSpeech/test-other/7902/96591/7902-96591-0013.flac': \"NO HE THOUGHT TO HIMSELF I DON'T BELIEVE THEY WOULD KILL ME BUT THEY WOULD KNOCK ME ABOUT\", '/content/librispeech-other/LibriSpeech/test-other/7902/96591/7902-96591-0011.flac': \"I'LL SOON SHOW THEM THAT I AM NOT GOING TO BE PLAYED WITH\", '/content/librispeech-other/LibriSpeech/test-other/7902/96591/7902-96591-0012.flac': 'FOR IT SUDDENLY OCCURRED TO HIM THAT HE WAS NOT ONLY A PRISONER BUT A PRISONER IN THE POWER OF A VERY RECKLESS SET OF PEOPLE WHO WOULD STOP AT NOTHING', '/content/librispeech-other/LibriSpeech/test-other/7902/96595/7902-96595-0012.flac': 'I SAID A LAD BOUT SEVENTEEN IN A RED CAP LIKE YOURS SAID GURR VERY SHORTLY', '/content/librispeech-other/LibriSpeech/test-other/7902/96595/7902-96595-0018.flac': 'GURR SALUTED AND STATED HIS BUSINESS WHILE THE BARONET WHO HAD TURNED SALLOWER AND MORE CAREWORN THAN HIS LOT DREW A BREATH FULL OF RELIEF ONE OF YOUR SHIP BOYS HE SAID', '/content/librispeech-other/LibriSpeech/test-other/7902/96595/7902-96595-0016.flac': 'GURR TURNED AWAY IMPATIENTLY AGAIN AND SIGNING TO HIS MEN TO FOLLOW THEY ALL BEGAN TO TRAMP UP THE STEEP TRACK LEADING TOWARD THE HOZE WITH THE RABBITS SCUTTLING AWAY AMONG THE FURZE AND SHOWING THEIR WHITE COTTONY TAILS FOR A MOMENT AS THEY DARTED DOWN INTO THEIR HOLES', '/content/librispeech-other/LibriSpeech/test-other/7902/96595/7902-96595-0024.flac': 'LADY GRAEME LOOKED GHASTLY', '/content/librispeech-other/LibriSpeech/test-other/7902/96595/7902-96595-0013.flac': \"THE MAN SHOOK HIS HEAD AND STARED AS IF HE DIDN'T HALF UNDERSTAND THE DRIFT OF WHAT WAS SAID\", '/content/librispeech-other/LibriSpeech/test-other/7902/96595/7902-96595-0021.flac': 'BEG PARDON SIR BUT CAN YOU AS A GENTLEMAN ASSURE ME THAT HE IS NOT HERE CERTAINLY SAID SIR RISDON', '/content/librispeech-other/LibriSpeech/test-other/7902/96595/7902-96595-0023.flac': 'SIR RISDON WAS SILENT', '/content/librispeech-other/LibriSpeech/test-other/7902/96595/7902-96595-0005.flac': \"SAY MESTER GURR SIR WHICH THANKFUL I AM TO YOU FOR SPEAKING SO BUT YOU DON'T REALLY THINK AS HE HAS COME TO HARM\", '/content/librispeech-other/LibriSpeech/test-other/7902/96595/7902-96595-0008.flac': \"IF YOU'D LET ME FINISH YOU'D KNOW SAID GURR GRUFFLY ONE OF OUR BOYS IS MISSING SEEN HIM UP HERE\", '/content/librispeech-other/LibriSpeech/test-other/7902/96595/7902-96595-0009.flac': \"BOY BOUT SEVENTEEN WITH A RED CAP NO SIR INDEED I'VE NOT\", '/content/librispeech-other/LibriSpeech/test-other/7902/96595/7902-96595-0011.flac': 'IF SHE KNEW EVIL HAD COME TO THE POOR LAD HER FACE WOULD TELL TALES LIKE PRINT', '/content/librispeech-other/LibriSpeech/test-other/7902/96595/7902-96595-0006.flac': \"I HOPE NOT DICK I HOPE NOT BUT SMUGGLERS DON'T STAND AT ANYTHING SOMETIMES\", '/content/librispeech-other/LibriSpeech/test-other/7902/96595/7902-96595-0002.flac': 'WHAT CHUCKED HIM OFF YONDER', '/content/librispeech-other/LibriSpeech/test-other/7902/96595/7902-96595-0003.flac': 'GURR GLANCED ROUND TO SEE IF THE MEN WERE LOOKING AND THEN SAID RATHER HUSKILY BUT KINDLY', '/content/librispeech-other/LibriSpeech/test-other/7902/96595/7902-96595-0020.flac': 'I HAVE SEEN NO ONE ANSWERING TO THE DESCRIPTION HERE', '/content/librispeech-other/LibriSpeech/test-other/7902/96595/7902-96595-0015.flac': \"EH I SAY WHERE'S YOUR MASTER\", '/content/librispeech-other/LibriSpeech/test-other/7902/96595/7902-96595-0004.flac': 'AH EJACULATED DICK SADLY', '/content/librispeech-other/LibriSpeech/test-other/7902/96595/7902-96595-0001.flac': \"MISTER RAYSTOKE SIR DON'T BE A FOOL\", '/content/librispeech-other/LibriSpeech/test-other/7902/96595/7902-96595-0014.flac': \"HERE MY LAD WHERE'S YOUR MASTER\", '/content/librispeech-other/LibriSpeech/test-other/7902/96595/7902-96595-0025.flac': 'YOU DO NOT KNOW NO', '/content/librispeech-other/LibriSpeech/test-other/7902/96595/7902-96595-0017.flac': \"I DUNNO MUTTERED DICK AND A MAN CAN'T BE SURE\", '/content/librispeech-other/LibriSpeech/test-other/7902/96595/7902-96595-0019.flac': 'A LAD LOOKING LIKE A COMMON SAILOR AND WEARING A RED CAP NO SAID SIR RISDON', '/content/librispeech-other/LibriSpeech/test-other/7902/96595/7902-96595-0022.flac': 'SURELY CRIED SIR RISDON EXCITEDLY', '/content/librispeech-other/LibriSpeech/test-other/7902/96595/7902-96595-0010.flac': \"DON'T KNOW AS HE HAS BEEN SEEN ABOUT HERE DO YOU SAID GURR LOOKING AT HER SEARCHINGLY NO SIR\", '/content/librispeech-other/LibriSpeech/test-other/7902/96595/7902-96595-0000.flac': \"SAY MESTER GURR SAID DICK AFTER ONE OF THESE SEARCHES HE WOULDN'T RUN AWAY WHAT\", '/content/librispeech-other/LibriSpeech/test-other/7902/96595/7902-96595-0007.flac': \"I DO ASSURE YOU THERE'S NOTHING HERE BUT WHAT YOU MAY SEE\", '/content/librispeech-other/LibriSpeech/test-other/7902/96592/7902-96592-0048.flac': \"BIT OF A MIDDY FED ON SALT TACK AND WEEVILLY BISCUIT TALK OF GIVING ME ROPE'S END\", '/content/librispeech-other/LibriSpeech/test-other/7902/96592/7902-96592-0044.flac': 'I SAY YOU DO LOOK A RUM UN JUST LIKE A BIG MONKEY IN A SHOW', '/content/librispeech-other/LibriSpeech/test-other/7902/96592/7902-96592-0028.flac': 'A HAPPY INSPIRATION HAD COME AND PLACING ONE HAND UPON HIS BREAST HE THRUST IN THE OTHER GAVE A TUG AND DREW OUT HIS LITTLE CURVED DIRK GLANCED AT THE EDGE RAN TO THE WINDOW AND BEGAN TO CUT AT ONE OF THE BARS LABOUR IN VAIN', '/content/librispeech-other/LibriSpeech/test-other/7902/96592/7902-96592-0034.flac': \"GUINEA SAID THE BOY THINK I'D DO IT FOR A GUINEA WELL THEN TWO\", '/content/librispeech-other/LibriSpeech/test-other/7902/96592/7902-96592-0020.flac': 'NONSENSE', '/content/librispeech-other/LibriSpeech/test-other/7902/96592/7902-96592-0008.flac': 'AND WHY DID ANDY CALL MISTER GURR FATHER', '/content/librispeech-other/LibriSpeech/test-other/7902/96592/7902-96592-0050.flac': \"TO HIS ASTONISHMENT THE BOY DID NOT FLINCH BUT THRUST HIS OWN ARMS THROUGH PLACING THEM ABOUT THE MIDDY'S WAIST CLENCHING HIS HANDS BEHIND AND UTTERING A SHARP WHISTLE\", '/content/librispeech-other/LibriSpeech/test-other/7902/96592/7902-96592-0032.flac': \"NO I CAN'T PART WITH THAT HA HA HA LAUGHED THE BOY JEERINGLY\", '/content/librispeech-other/LibriSpeech/test-other/7902/96592/7902-96592-0041.flac': 'ARCHY CHECKED HIMSELF AND THE BOY LAUGHED', '/content/librispeech-other/LibriSpeech/test-other/7902/96592/7902-96592-0010.flac': \"AND I'M HUNGRY TOO TIME I WAS UP I SUPPOSE\", '/content/librispeech-other/LibriSpeech/test-other/7902/96592/7902-96592-0046.flac': \"YOU ROPE'S END ME HE SAID\", '/content/librispeech-other/LibriSpeech/test-other/7902/96592/7902-96592-0029.flac': 'HE DIVIDED THE PAINT AND PRODUCED A FEW SQUEAKS AND GRATING SOUNDS AS HE REALISED THAT THE ATTEMPT WAS MADNESS', '/content/librispeech-other/LibriSpeech/test-other/7902/96592/7902-96592-0042.flac': \"IT WAS YOUR TURN YESTERDAY IT'S MINE TO DAY WHAT A GAME\", '/content/librispeech-other/LibriSpeech/test-other/7902/96592/7902-96592-0009.flac': 'THERE WAS AN INTERVAL OF THINKING OVER THIS KNOTTY QUESTION DURING WHICH THE LOW WHISTLING WENT ON', '/content/librispeech-other/LibriSpeech/test-other/7902/96592/7902-96592-0039.flac': 'I TOLD YOU A FISHER BOY CRIED ARCHY IMPATIENTLY BUT TRYING NOT TO OFFEND HIS VISITOR WHO POSSESSED THE POWER OF CONFERRING FREEDOM BY SPEAKING SHARPLY', '/content/librispeech-other/LibriSpeech/test-other/7902/96592/7902-96592-0040.flac': 'NOT YOU LOOK LIKE A WILD BEAST IN A CAGE LIKE A MONKEY YOU INSOLENT', '/content/librispeech-other/LibriSpeech/test-other/7902/96592/7902-96592-0007.flac': 'BUT HOW QUEER FOR MISTER GURR TO BE TALKING LIKE THAT TO ANDREW TEAL THE BOY WHO HELPED THE COOK', '/content/librispeech-other/LibriSpeech/test-other/7902/96592/7902-96592-0016.flac': 'HULLO HE SAID WHO ARE YOU', '/content/librispeech-other/LibriSpeech/test-other/7902/96592/7902-96592-0025.flac': 'ARCHY STEPPED BACK TO THE DOOR LISTENING BUT THERE WAS NOT A SOUND', '/content/librispeech-other/LibriSpeech/test-other/7902/96592/7902-96592-0013.flac': 'ONCE OUT OF THAT ROOM HE COULD RAN AND BY DAYLIGHT THE SMUGGLERS DARE NOT HUNT HIM DOWN', '/content/librispeech-other/LibriSpeech/test-other/7902/96592/7902-96592-0033.flac': \"BUT I'LL YES I'LL GIVE YOU A GUINEA IF YOU WILL LET ME OUT\", '/content/librispeech-other/LibriSpeech/test-other/7902/96592/7902-96592-0014.flac': \"OH THOSE BARS HE MENTALLY EXCLAIMED AND HE WAS ADVANCING TOWARD THEM WHEN JUST AS HE DREW NEAR THERE WAS A RUSTLING NOISE UNDER THE WINDOW A COUPLE OF HANDS SEIZED THE BARS THERE WAS A SCRATCHING OF BOOT TOES AGAINST STONE WORK AND RAM'S FACE APPEARED TO GAZE INTO THE ROOM BY INTENTION BUT INTO THE ASTONISHED COUNTENANCE OF THE YOUNG MIDSHIPMAN INSTEAD\", '/content/librispeech-other/LibriSpeech/test-other/7902/96592/7902-96592-0022.flac': \"THINK I DON'T KNOW YOU MISTER ORFICER\", '/content/librispeech-other/LibriSpeech/test-other/7902/96592/7902-96592-0011.flac': 'NO HE WAS NOT DREAMING FOR HE WAS LOOKING OUT ON THE SEA OVER WHICH A FAINT MIST HUNG LIKE WREATHS OF SMOKE', '/content/librispeech-other/LibriSpeech/test-other/7902/96592/7902-96592-0049.flac': 'ONCE MORE WILL YOU COME AND LET ME OUT NO', '/content/librispeech-other/LibriSpeech/test-other/7902/96592/7902-96592-0001.flac': \"I'M GOING HOME TO BREAKFAST\", '/content/librispeech-other/LibriSpeech/test-other/7902/96592/7902-96592-0027.flac': 'NOTHING BUT THE CHIMNEY PRESENTED ITSELF', '/content/librispeech-other/LibriSpeech/test-other/7902/96592/7902-96592-0018.flac': 'I SAW YOU LAST NIGHT AND WONDERED WHOSE BOY YOU WAS', '/content/librispeech-other/LibriSpeech/test-other/7902/96592/7902-96592-0043.flac': \"YOU LAUGHED AND FLEERED AT ME WHEN I WAS ON THE CUTTER'S DECK\", '/content/librispeech-other/LibriSpeech/test-other/7902/96592/7902-96592-0006.flac': 'WHAT A QUEER DREAM HE THOUGHT TO HIMSELF', '/content/librispeech-other/LibriSpeech/test-other/7902/96592/7902-96592-0037.flac': \"WHY YOUR CLOTHES DON'T FIT YOU AND YOUR CAP'S PUT ON ALL SKEW REW\", '/content/librispeech-other/LibriSpeech/test-other/7902/96592/7902-96592-0021.flac': \"WON'T DO SAID RAM GRINNING\", '/content/librispeech-other/LibriSpeech/test-other/7902/96592/7902-96592-0026.flac': 'HE HAS GONE TO GIVE THE ALARM THOUGHT THE PRISONER AND HE LOOKED EXCITEDLY ROUND FOR A WAY OF ESCAPE', '/content/librispeech-other/LibriSpeech/test-other/7902/96592/7902-96592-0038.flac': 'NEVER MIND ABOUT THAT LET ME OUT OF THIS PLACE', '/content/librispeech-other/LibriSpeech/test-other/7902/96592/7902-96592-0047.flac': 'WHY I COULD TIE YOU UP IN A KNOT AND HEAVE YOU OFF THE CLIFF ANY DAY WHAT A GAME', '/content/librispeech-other/LibriSpeech/test-other/7902/96592/7902-96592-0015.flac': 'RAM WAS THE FIRST TO RECOVER FROM HIS SURPRISE', '/content/librispeech-other/LibriSpeech/test-other/7902/96592/7902-96592-0030.flac': 'THE RESULT WAS NOT VERY SATISFACTORY BUT SUFFICIENTLY SO TO MAKE HIM ESSAY THE BAR OF THE WINDOW ONCE MORE PRODUCING A GRATING EAR ASSAILING SOUND AS HE FOUND THAT NOW HE DID MAKE A LITTLE IMPRESSION SO LITTLE THOUGH THAT THE PROBABILITY WAS IF HE KEPT ON WORKING WELL FOR TWENTY FOUR HOURS HE WOULD NOT GET THROUGH', '/content/librispeech-other/LibriSpeech/test-other/7902/96592/7902-96592-0017.flac': 'GO ROUND AND OPEN THE DOOR I WAS SHUT IN LAST NIGHT BY MISTAKE', '/content/librispeech-other/LibriSpeech/test-other/7902/96592/7902-96592-0004.flac': \"TELL HIM NOT TO BE UNEASY TIS ALL RIGHT AND I'LL HAVE EVERYTHING CLEAR AWAY TO NIGHT\", '/content/librispeech-other/LibriSpeech/test-other/7902/96592/7902-96592-0012.flac': 'WHAT DID THEY SAY FALSE ALARM TELL SIR RISDON THEY WOULD CLEAR ALL AWAY TO NIGHT SEE IF ANYTHING HAD BEEN LEFT ABOUT LOBSTER BOAT', '/content/librispeech-other/LibriSpeech/test-other/7902/96592/7902-96592-0045.flac': 'RAM SHOWED HIS WHITE TEETH AS HE BURST OUT WITH A LONG LOW FIT OF LAUGHTER', '/content/librispeech-other/LibriSpeech/test-other/7902/96592/7902-96592-0005.flac': 'THE DULL SOUND OF DEPARTING STEPS AND A LOW WHISTLING SOUND COMING DOWN THROUGH THE SKYLIGHT WINDOW INTO THE CABIN WHERE ARCHY RAYSTOKE LAY WITH HIS HEAVY EYELIDS PRESSED DOWN BY SLEEP', '/content/librispeech-other/LibriSpeech/test-other/7902/96592/7902-96592-0003.flac': \"STOP HERE TILL SIR RISDON COMES DOWN AND TELL HIM I'M VERY SORRY THAT WE SHOULD HAVE CLEARED OUT LAST NIGHT ONLY A BORN FOOL SAW JERRY NANDY'S LOBSTER BOAT COMING INTO THE COVE AND CAME RUNNING TO SAY IT WAS A PARTY FROM THE CUTTER YES FATHER\", '/content/librispeech-other/LibriSpeech/test-other/7902/96592/7902-96592-0019.flac': 'IT WAS YOU FATHER KICKED FOR SHIRKING AND MY WELL I HARDLY KNOWED YOU', '/content/librispeech-other/LibriSpeech/test-other/7902/96592/7902-96592-0036.flac': 'NOT YOU ONLY A SHAM', '/content/librispeech-other/LibriSpeech/test-other/7902/96592/7902-96592-0023.flac': \"WON'T DO SAID RAM QUICKLY I KNOW YOU\", '/content/librispeech-other/LibriSpeech/test-other/7902/96592/7902-96592-0031.flac': 'BUT AT THE END OF FIVE MINUTES HE STOPPED AND THRUST BACK THE DIRK INTO ITS SHEATH', '/content/librispeech-other/LibriSpeech/test-other/7902/96592/7902-96592-0002.flac': 'SHALL I COME TOO FATHER NO', '/content/librispeech-other/LibriSpeech/test-other/7902/96592/7902-96592-0000.flac': \"SURE YOU'VE LOOKED ROUND EVERYWHERE BOY YES FATHER QUITE\", '/content/librispeech-other/LibriSpeech/test-other/7902/96592/7902-96592-0024.flac': \"BEEN PLAYING THE SPY THAT'S WHAT YOU'VE BEEN DOING WHO LOCKED YOU IN\", '/content/librispeech-other/LibriSpeech/test-other/7902/96592/7902-96592-0035.flac': \"BE QUICK THERE'S A GOOD FELLOW I WANT TO GET AWAY AT ONCE\", '/content/librispeech-other/LibriSpeech/test-other/7902/96594/7902-96594-0012.flac': 'NO WAIT ANOTHER HALF HOUR', '/content/librispeech-other/LibriSpeech/test-other/7902/96594/7902-96594-0021.flac': 'HOPPING ABOUT LIKE A CAT ON HOT BRICKS', '/content/librispeech-other/LibriSpeech/test-other/7902/96594/7902-96594-0028.flac': 'AT LAST THE LITTLE LIEUTENANT COULD BEAR THE ANXIETY NO LONGER', '/content/librispeech-other/LibriSpeech/test-other/7902/96594/7902-96594-0029.flac': 'PIPE AWAY THE MEN TO THAT BOAT THERE HE SAID AND AS THE CREW SPRANG IN', '/content/librispeech-other/LibriSpeech/test-other/7902/96594/7902-96594-0010.flac': \"BEG PARDON SIR DIDN'T MEAN ANY HARM\", '/content/librispeech-other/LibriSpeech/test-other/7902/96594/7902-96594-0000.flac': 'SEEMED IN GOOD SPIRITS LAST NIGHT MISTER GURR EH', '/content/librispeech-other/LibriSpeech/test-other/7902/96594/7902-96594-0027.flac': 'HE SWUNG ROUND WALKED AFT AND BEGAN SWEEPING THE SHORE AGAIN WITH HIS GLASS WHILE THE MASTER AND DICK EXCHANGED GLANCES WHICH MEANT A GREAT DEAL', '/content/librispeech-other/LibriSpeech/test-other/7902/96594/7902-96594-0003.flac': \"THAT'S RIGHT OF COURSE WELL ARMED\", '/content/librispeech-other/LibriSpeech/test-other/7902/96594/7902-96594-0008.flac': 'WELL SIR SAID THE MASTER HESITATING SMUGGLERS ARE SMUGGLERS', '/content/librispeech-other/LibriSpeech/test-other/7902/96594/7902-96594-0017.flac': \"SAY AWK WARD IN FUTURE NOT AWK'ARD\", '/content/librispeech-other/LibriSpeech/test-other/7902/96594/7902-96594-0018.flac': 'I MEAN ALL ALONE BY MYSELF SIR', '/content/librispeech-other/LibriSpeech/test-other/7902/96594/7902-96594-0006.flac': 'SO SHALL WE YET SIR', '/content/librispeech-other/LibriSpeech/test-other/7902/96594/7902-96594-0001.flac': 'YES SIR BUT HE MAY TURN UP ON THE CLIFF AT ANY MOMENT', '/content/librispeech-other/LibriSpeech/test-other/7902/96594/7902-96594-0025.flac': 'NO WAIT', '/content/librispeech-other/LibriSpeech/test-other/7902/96594/7902-96594-0009.flac': 'CERTAINLY SIR SMUGGLERS ARE SMUGGLERS INDEED', '/content/librispeech-other/LibriSpeech/test-other/7902/96594/7902-96594-0004.flac': 'SOON AS THE SIGNAL COMES WE SHALL PUSH OFF', '/content/librispeech-other/LibriSpeech/test-other/7902/96594/7902-96594-0002.flac': 'YES MEN QUITE READY YES SIR', '/content/librispeech-other/LibriSpeech/test-other/7902/96594/7902-96594-0016.flac': 'YES SIR OF COURSE', '/content/librispeech-other/LibriSpeech/test-other/7902/96594/7902-96594-0020.flac': \"THEN WHAT DID YOU MEAN SPEAK OUT AND DON'T DO THE DOUBLE SHUFFLE ALL OVER MY CLEAN DECK NO SIR\", '/content/librispeech-other/LibriSpeech/test-other/7902/96594/7902-96594-0030.flac': \"NOW MISTER GURR HE SAID I'M ONLY GOING TO SAY ONE THING TO YOU IN THE WAY OF INSTRUCTIONS YES SIR\", '/content/librispeech-other/LibriSpeech/test-other/7902/96594/7902-96594-0023.flac': \"BEG PARDON DIDN'T MEAN NOWT SIR SAID THE SAILOR TOUCHING HIS FORELOCK\", '/content/librispeech-other/LibriSpeech/test-other/7902/96594/7902-96594-0019.flac': \"WHAT FOR THERE AREN'T A PUBLIC HOUSE FOR TEN MILES DIDN'T MEAN THAT\", '/content/librispeech-other/LibriSpeech/test-other/7902/96594/7902-96594-0013.flac': 'VERY ILL ADVISED THING TO DO', '/content/librispeech-other/LibriSpeech/test-other/7902/96594/7902-96594-0011.flac': \"I'M GETTING VERY ANXIOUS ABOUT MISTER RAYSTOKE START AT ONCE SIR\", '/content/librispeech-other/LibriSpeech/test-other/7902/96594/7902-96594-0024.flac': 'YES SIR SAID THE MAN HUMBLY SHALL I GO AT ONCE SIR', '/content/librispeech-other/LibriSpeech/test-other/7902/96594/7902-96594-0022.flac': 'NOW THEN WHY DO YOU WANT TO GO ASHORE', '/content/librispeech-other/LibriSpeech/test-other/7902/96594/7902-96594-0032.flac': 'STEADY MY LADS STEADY CRIED THE MASTER KEEP STROKE AND THEN HE BEGAN TO MAKE PLANS AS TO HIS FIRST PROCEEDINGS ON GETTING ASHORE', '/content/librispeech-other/LibriSpeech/test-other/7902/96594/7902-96594-0005.flac': 'AWKWARD BIT O COUNTRY SIR SIX MILES ROW BEFORE YOU CAN FIND A PLACE TO LAND', '/content/librispeech-other/LibriSpeech/test-other/7902/96594/7902-96594-0014.flac': 'THEN I MUST REQUEST THAT YOU WILL NOT MAKE IT AGAIN VERY TRUE', '/content/librispeech-other/LibriSpeech/test-other/7902/96594/7902-96594-0015.flac': 'AWK WARD MISTER GURR AWKWARD', '/content/librispeech-other/LibriSpeech/test-other/7902/96594/7902-96594-0031.flac': 'BEG PARDON SIR SAID THE MASTER DEPRECATINGLY', '/content/librispeech-other/LibriSpeech/test-other/7902/96594/7902-96594-0007.flac': \"YOU DON'T THINK MISTER GURR THAT THEY WOULD DARE TO INJURE HIM IF HE WAS SO UNLUCKY AS TO BE CAUGHT\", '/content/librispeech-other/LibriSpeech/test-other/7902/96594/7902-96594-0026.flac': 'KEEP A SHARP LOOK OUT ON THE CLIFF TO SEE IF MISTER RAYSTOKE IS MAKING SIGNALS FOR A BOAT', '/content/librispeech-other/LibriSpeech/test-other/8188/269288/8188-269288-0020.flac': \"WELL READ IT IN PEACE SAID LESLIE I WON'T DISTURB YOU\", '/content/librispeech-other/LibriSpeech/test-other/8188/269288/8188-269288-0048.flac': 'SHE GOT INTO BED AS SHE SPOKE AND WRAPPED THE CLOTHES TIGHTLY ROUND HER', '/content/librispeech-other/LibriSpeech/test-other/8188/269288/8188-269288-0049.flac': \"CAN'T YOU MANAGE WITH A CANDLE JUST FOR ONCE\", '/content/librispeech-other/LibriSpeech/test-other/8188/269288/8188-269288-0056.flac': 'THERE WAS NO REPLY BUT THE SOUND OF HURRYING STEPS CAME QUICKER AND QUICKER NOW AND THEN THEY WERE INTERRUPTED BY A GROAN', '/content/librispeech-other/LibriSpeech/test-other/8188/269288/8188-269288-0007.flac': \"IT IS THIS IF BY ANY CHANCE YOU DON'T LEAVE SAINT WODE'S ANNIE I HOPE YOU WILL ALLOW ME TO BE YOUR ROOMFELLOW AGAIN NEXT TERM\", '/content/librispeech-other/LibriSpeech/test-other/8188/269288/8188-269288-0018.flac': 'HER FACE GREW SUDDENLY WHITE AS DEATH WHAT IS IT DEAR', '/content/librispeech-other/LibriSpeech/test-other/8188/269288/8188-269288-0021.flac': 'I AM TRULY GLAD IT HAS COME', '/content/librispeech-other/LibriSpeech/test-other/8188/269288/8188-269288-0016.flac': 'HER EYES SHONE WITH PLEASURE AT THE ANTICIPATION OF THE DELIGHTFUL TIME SHE WOULD HAVE REVELING IN THE HOME NEWS THE OTHER LETTER WAS DIRECTED TO ANNIE COLCHESTER', '/content/librispeech-other/LibriSpeech/test-other/8188/269288/8188-269288-0003.flac': 'SHE HAD NO IDEA OF ALLOWING HERSELF TO BREAK DOWN', '/content/librispeech-other/LibriSpeech/test-other/8188/269288/8188-269288-0047.flac': 'I AM SLEEPY I SHALL SLEEP', '/content/librispeech-other/LibriSpeech/test-other/8188/269288/8188-269288-0032.flac': 'WHAT CAN SHE BE DOING OUT BY HERSELF', '/content/librispeech-other/LibriSpeech/test-other/8188/269288/8188-269288-0014.flac': 'THESE LETTERS HAVE JUST COME FOR YOU AND ANNIE COLCHESTER SHE SAID AND AS I WAS COMING UPSTAIRS I THOUGHT I WOULD LEAVE THEM WITH YOU', '/content/librispeech-other/LibriSpeech/test-other/8188/269288/8188-269288-0046.flac': \"DO YOU WANT TO KILL ME DON'T TALK ANY MORE\", '/content/librispeech-other/LibriSpeech/test-other/8188/269288/8188-269288-0050.flac': 'CERTAINLY SAID LESLIE', '/content/librispeech-other/LibriSpeech/test-other/8188/269288/8188-269288-0034.flac': \"ANNIE'S EYES WERE VERY BRIGHT HER CHEEKS WERE NO LONGER PALE AND THERE WAS A BRILLIANT COLOR IN THEM\", '/content/librispeech-other/LibriSpeech/test-other/8188/269288/8188-269288-0023.flac': \"DON'T NOTICE ME REPLIED ANNIE\", '/content/librispeech-other/LibriSpeech/test-other/8188/269288/8188-269288-0024.flac': 'I MUST GO INTO THE GROUNDS THE AIR IS STIFLING', '/content/librispeech-other/LibriSpeech/test-other/8188/269288/8188-269288-0038.flac': \"I MEAN THAT I DON'T WANT YOU TO BEGIN TO ASK QUESTIONS\", '/content/librispeech-other/LibriSpeech/test-other/8188/269288/8188-269288-0045.flac': 'DRINK THAT SHE SAID', '/content/librispeech-other/LibriSpeech/test-other/8188/269288/8188-269288-0057.flac': 'OH THIS WILL KILL ME MY HEART WILL BREAK THIS WILL KILL ME', '/content/librispeech-other/LibriSpeech/test-other/8188/269288/8188-269288-0006.flac': \"I WON'T BE THE CONSTANT WORRY AND PLAGUE OF YOUR LIFE\", '/content/librispeech-other/LibriSpeech/test-other/8188/269288/8188-269288-0012.flac': 'LESLIE OPENED THE DOOR', '/content/librispeech-other/LibriSpeech/test-other/8188/269288/8188-269288-0005.flac': 'WHY YOU WILL BE PARTING FROM ME YOU KNOW', '/content/librispeech-other/LibriSpeech/test-other/8188/269288/8188-269288-0030.flac': 'LESLIE WENT TO THE WINDOW AND FLUNG IT OPEN SHE PUT HER HEAD OUT AND TRIED TO PEER INTO THE DARKNESS BUT THE MOON HAD ALREADY SET AND SHE COULD NOT SEE MORE THAN A COUPLE OF YARDS IN FRONT OF HER', '/content/librispeech-other/LibriSpeech/test-other/8188/269288/8188-269288-0055.flac': 'ANNIE IS THAT YOU SHE CALLED OUT', '/content/librispeech-other/LibriSpeech/test-other/8188/269288/8188-269288-0054.flac': 'TIRED OUT LESLIE HERSELF DROPPED ASLEEP', '/content/librispeech-other/LibriSpeech/test-other/8188/269288/8188-269288-0053.flac': 'ANNIE DID NOT MEAN TO CONFIDE IN ANYONE THAT NIGHT AND THE KINDEST THING WAS TO LEAVE HER ALONE', '/content/librispeech-other/LibriSpeech/test-other/8188/269288/8188-269288-0042.flac': \"DON'T SAID ANNIE\", '/content/librispeech-other/LibriSpeech/test-other/8188/269288/8188-269288-0027.flac': 'JUST AFTER MIDNIGHT SHE ROSE WITH A SIGH TO PREPARE FOR BED', '/content/librispeech-other/LibriSpeech/test-other/8188/269288/8188-269288-0009.flac': 'BUT SHE ADDED ABRUPTLY YOU SPEAK OF SOMETHING WHICH MUST NOT TAKE PLACE', '/content/librispeech-other/LibriSpeech/test-other/8188/269288/8188-269288-0019.flac': 'I HAVE BEEN STARVING OR RATHER I HAVE BEEN THIRSTING', '/content/librispeech-other/LibriSpeech/test-other/8188/269288/8188-269288-0040.flac': \"DON'T TALK TO ME LESLIE DON'T SAY A SINGLE WORD\", '/content/librispeech-other/LibriSpeech/test-other/8188/269288/8188-269288-0037.flac': \"DON'T BEGIN WHAT DO YOU MEAN\", '/content/librispeech-other/LibriSpeech/test-other/8188/269288/8188-269288-0044.flac': 'ANNIE STARED VACANTLY AT THE COCOA THEN SHE UTTERED A LAUGH', '/content/librispeech-other/LibriSpeech/test-other/8188/269288/8188-269288-0001.flac': 'LESLIE DETERMINED TO TRY FOR HONORS IN ENGLISH LANGUAGE AND LITERATURE', '/content/librispeech-other/LibriSpeech/test-other/8188/269288/8188-269288-0052.flac': \"ANNIE'S MANNER WAS VERY MYSTERIOUS\", '/content/librispeech-other/LibriSpeech/test-other/8188/269288/8188-269288-0041.flac': 'I SHALL GO OFF TO SLEEP THAT IS ALL I CARE FOR', '/content/librispeech-other/LibriSpeech/test-other/8188/269288/8188-269288-0004.flac': 'WHAT DO YOU MEAN REPLIED LESLIE', '/content/librispeech-other/LibriSpeech/test-other/8188/269288/8188-269288-0008.flac': 'SAID ANNIE A FLASH OF LIGHT COMING INTO HER EYES AND THEN LEAVING THEM', '/content/librispeech-other/LibriSpeech/test-other/8188/269288/8188-269288-0035.flac': 'SHE DID NOT TAKE THE LEAST NOTICE OF LESLIE BUT GOING INTO THE ROOM SHUT THE DOOR', '/content/librispeech-other/LibriSpeech/test-other/8188/269288/8188-269288-0036.flac': \"DON'T BEGIN SAID ANNIE\", '/content/librispeech-other/LibriSpeech/test-other/8188/269288/8188-269288-0039.flac': 'I WALKED UP AND DOWN AS FAST AS EVER I COULD OUTSIDE IN ORDER TO MAKE MYSELF SLEEPY', '/content/librispeech-other/LibriSpeech/test-other/8188/269288/8188-269288-0010.flac': \"I MUST PASS IN HONORS IF I DON'T I SHALL DIE\", '/content/librispeech-other/LibriSpeech/test-other/8188/269288/8188-269288-0022.flac': 'LESLIE SEATED HERSELF WITH HER BACK TO HER COMPANION AND OPENED HER OWN LETTERS', '/content/librispeech-other/LibriSpeech/test-other/8188/269288/8188-269288-0029.flac': 'NOW I REMEMBER SHE GOT A LETTER WHICH UPSET HER VERY MUCH AND WENT OUT', '/content/librispeech-other/LibriSpeech/test-other/8188/269288/8188-269288-0013.flac': 'JANE HERIOT STOOD WITHOUT', '/content/librispeech-other/LibriSpeech/test-other/8188/269288/8188-269288-0025.flac': 'BUT THEY ARE JUST SHUTTING UP', '/content/librispeech-other/LibriSpeech/test-other/8188/269288/8188-269288-0028.flac': 'SHE LOOKED ROUND THE ROOM', '/content/librispeech-other/LibriSpeech/test-other/8188/269288/8188-269288-0033.flac': 'LESLIE LEFT THE ROOM BUT SHE HAD SCARCELY GONE A DOZEN PACES DOWN THE CORRIDOR BEFORE SHE MET ANNIE RETURNING', '/content/librispeech-other/LibriSpeech/test-other/8188/269288/8188-269288-0002.flac': \"HER TASTES ALL LAY IN THIS DIRECTION HER IDEA BEING BY AND BY TO FOLLOW HER MOTHER'S PROFESSION OF JOURNALISM FOR WHICH SHE ALREADY SHOWED CONSIDERABLE APTITUDE\", '/content/librispeech-other/LibriSpeech/test-other/8188/269288/8188-269288-0000.flac': 'ANNIE COLCHESTER HAD BEGUN TO MAKE FRIENDS WITH LESLIE', '/content/librispeech-other/LibriSpeech/test-other/8188/269288/8188-269288-0015.flac': 'LESLIE THANKED HER AND EAGERLY GRASPED THE LITTLE PARCEL', '/content/librispeech-other/LibriSpeech/test-other/8188/269288/8188-269288-0011.flac': 'A FEW MOMENTS LATER THERE CAME A TAP AT THE DOOR', '/content/librispeech-other/LibriSpeech/test-other/8188/269288/8188-269288-0051.flac': 'SHE TURNED OFF THE LIGHT AND LIT A CANDLE WHICH SHE PUT BEHIND HER SCREEN THEN PREPARED TO GET INTO BED', '/content/librispeech-other/LibriSpeech/test-other/8188/269288/8188-269288-0017.flac': 'HERE IS A LETTER FOR YOU ANNIE CRIED LESLIE', '/content/librispeech-other/LibriSpeech/test-other/8188/269288/8188-269288-0026.flac': 'I SHALL GO I KNOW A WAY', '/content/librispeech-other/LibriSpeech/test-other/8188/269288/8188-269288-0043.flac': 'NOW DRINK THIS AT ONCE SHE SAID IN A VOICE OF AUTHORITY IF YOU REALLY WISH TO SLEEP', '/content/librispeech-other/LibriSpeech/test-other/8188/269288/8188-269288-0031.flac': 'SHE IS A VERY QUEER ERRATIC CREATURE AND THAT LETTER THERE WAS BAD NEWS IN THAT LETTER', '/content/librispeech-other/LibriSpeech/test-other/8188/269290/8188-269290-0007.flac': 'I WANT TO BE ALONE GO', '/content/librispeech-other/LibriSpeech/test-other/8188/269290/8188-269290-0018.flac': 'WHAT CAN THIS MEAN SHE SAID TO HERSELF', '/content/librispeech-other/LibriSpeech/test-other/8188/269290/8188-269290-0001.flac': 'IMMEDIATELY AFTER DINNER THAT EVENING LESLIE RAN UP TO HER ROOM TO MAKE PREPARATIONS FOR HER VISIT TO EAST HALL', '/content/librispeech-other/LibriSpeech/test-other/8188/269290/8188-269290-0057.flac': 'I WILL TELL HER', '/content/librispeech-other/LibriSpeech/test-other/8188/269290/8188-269290-0034.flac': 'MISS LAUDERDALE WAS STANDING WITH THE OTHER TUTORS AND PRINCIPALS OF THE DIFFERENT HALLS ON A RAISED PLATFORM', '/content/librispeech-other/LibriSpeech/test-other/8188/269290/8188-269290-0028.flac': 'SHE WILL GET INTO AN AWFUL SCRAPE', '/content/librispeech-other/LibriSpeech/test-other/8188/269290/8188-269290-0055.flac': 'EXCUSES MAKE NO DIFFERENCE', '/content/librispeech-other/LibriSpeech/test-other/8188/269290/8188-269290-0009.flac': 'YOU FRET ME BEYOND ENDURANCE', '/content/librispeech-other/LibriSpeech/test-other/8188/269290/8188-269290-0021.flac': 'YOU SEE ALL THE GIRLS EXCEPT EILEEN AND MARJORIE LAUGH AT HER AND THAT SEEMS TO ME TO MAKE HER WORSE', '/content/librispeech-other/LibriSpeech/test-other/8188/269290/8188-269290-0015.flac': \"OH I WON'T LOCK YOU OUT SHE SAID BUT I MUST HAVE THE KEY\", '/content/librispeech-other/LibriSpeech/test-other/8188/269290/8188-269290-0038.flac': 'SHE UTTERED HER STRANGE REMARK STANDING UP', '/content/librispeech-other/LibriSpeech/test-other/8188/269290/8188-269290-0054.flac': 'I MUST SEE HER MYSELF EARLY IN THE MORNING AND I AM QUITE SURE THAT NOTHING WILL SATISFY MISS LAUDERDALE EXCEPT A VERY AMPLE APOLOGY AND A FULL EXPLANATION OF THE REASON WHY SHE ABSENTED HERSELF', '/content/librispeech-other/LibriSpeech/test-other/8188/269290/8188-269290-0035.flac': 'THEN A ROLL CALL WAS GONE THROUGH BY ONE OF THE TUTORS THE ONLY ABSENTEE WAS ANNIE COLCHESTER', '/content/librispeech-other/LibriSpeech/test-other/8188/269290/8188-269290-0029.flac': \"I AM SURE SHE IS ILL SHE WORKS TOO HARD AND SHE BUT THERE I DON'T KNOW THAT I OUGHT TO SAY ANY MORE\", '/content/librispeech-other/LibriSpeech/test-other/8188/269290/8188-269290-0027.flac': 'REFUSES TO COME SHE CRIED', '/content/librispeech-other/LibriSpeech/test-other/8188/269290/8188-269290-0022.flac': 'SOME DAY JANE YOU MUST SEE HER', '/content/librispeech-other/LibriSpeech/test-other/8188/269290/8188-269290-0016.flac': \"JANE HERIOT'S VOICE WAS HEARD IN THE PASSAGE\", '/content/librispeech-other/LibriSpeech/test-other/8188/269290/8188-269290-0053.flac': 'I AM AFRAID I AM REPLIED LESLIE DISTRESS NOW IN HER TONE', '/content/librispeech-other/LibriSpeech/test-other/8188/269290/8188-269290-0036.flac': 'THE PHYSICAL PART OF YOUR TRAINING AND ALSO THE MENTAL PART ARE ABUNDANTLY SUPPLIED IN THIS GREAT HOUSE OF LEARNING SHE CONTINUED BUT THE SPIRITUAL PART IT SEEMS TO ME OUGHT NOW TO BE STRENGTHENED', '/content/librispeech-other/LibriSpeech/test-other/8188/269290/8188-269290-0013.flac': 'HAVE THE GOODNESS TO FIND IT AND PUT IT BACK', '/content/librispeech-other/LibriSpeech/test-other/8188/269290/8188-269290-0052.flac': 'I SEE BY YOUR FACE MISS GILROY THAT YOU ARE DISTRESSED ABOUT SOMETHING ARE YOU KEEPING ANYTHING BACK', '/content/librispeech-other/LibriSpeech/test-other/8188/269290/8188-269290-0042.flac': \"AM I MY BROTHER'S KEEPER\", '/content/librispeech-other/LibriSpeech/test-other/8188/269290/8188-269290-0020.flac': 'OH I SHALL NEVER DO THAT REPLIED LESLIE', '/content/librispeech-other/LibriSpeech/test-other/8188/269290/8188-269290-0011.flac': 'LESLIE WAS JUST CLOSING THE DOOR BEHIND HER WHEN ANNIE CALLED AFTER HER', '/content/librispeech-other/LibriSpeech/test-other/8188/269290/8188-269290-0051.flac': 'ANNIE COLCHESTER IS YOUR ROOMFELLOW IS SHE NOT SHE SAID', '/content/librispeech-other/LibriSpeech/test-other/8188/269290/8188-269290-0049.flac': \"IT WAS PAST TEN O'CLOCK WHEN SHE LEFT THE HALL\", '/content/librispeech-other/LibriSpeech/test-other/8188/269290/8188-269290-0003.flac': 'EVERY STUDENT IS TO BE IN EAST HALL AT HALF PAST EIGHT', '/content/librispeech-other/LibriSpeech/test-other/8188/269290/8188-269290-0043.flac': 'YOU ASK SHE CONTINUED', '/content/librispeech-other/LibriSpeech/test-other/8188/269290/8188-269290-0004.flac': \"IT DOESN'T MATTER REPLIED ANNIE WHETHER IT IS AN ORDER OR NOT I'M NOT COMING SAY NOTHING ABOUT ME PLEASE\", '/content/librispeech-other/LibriSpeech/test-other/8188/269290/8188-269290-0023.flac': 'IF YOU ARE IN LONDON DURING THE SUMMER YOU MUST COME AND PAY US A VISIT WILL YOU', '/content/librispeech-other/LibriSpeech/test-other/8188/269290/8188-269290-0045.flac': 'THE WORLD SAYS NO I AM NOT BUT GOD SAYS YES YOU ARE', '/content/librispeech-other/LibriSpeech/test-other/8188/269290/8188-269290-0008.flac': \"I KNOW YOU DON'T QUITE MEAN WHAT YOU SAY SAID LESLIE BUT OF COURSE IF YOU REALLY WISH ME\", '/content/librispeech-other/LibriSpeech/test-other/8188/269290/8188-269290-0039.flac': 'MARJORIE AND EILEEN WERE CLOSE TO HER', '/content/librispeech-other/LibriSpeech/test-other/8188/269290/8188-269290-0000.flac': 'THE GUILD OF SAINT ELIZABETH', '/content/librispeech-other/LibriSpeech/test-other/8188/269290/8188-269290-0017.flac': 'AS SHE WALKED DOWN THE CORRIDOR SHE HEARD IT BEING TURNED IN THE LOCK', '/content/librispeech-other/LibriSpeech/test-other/8188/269290/8188-269290-0033.flac': 'BUT MARJORIE AND EILEEN HAD ALREADY DEPARTED AND LESLIE AND JANE FOUND THEMSELVES AMONG THE LAST STUDENTS TO ARRIVE AT THE GREAT EAST HALL', '/content/librispeech-other/LibriSpeech/test-other/8188/269290/8188-269290-0046.flac': 'ALL MEN ARE YOUR BROTHERS', '/content/librispeech-other/LibriSpeech/test-other/8188/269290/8188-269290-0025.flac': 'I BELIEVE POOR ANNIE IS DREADFULLY UNHAPPY', '/content/librispeech-other/LibriSpeech/test-other/8188/269290/8188-269290-0026.flac': \"THAT'S JUST IT JANE THAT IS WHAT FRIGHTENS ME SHE REFUSES TO COME\", '/content/librispeech-other/LibriSpeech/test-other/8188/269290/8188-269290-0031.flac': 'DO COME ANNIE DO', '/content/librispeech-other/LibriSpeech/test-other/8188/269290/8188-269290-0010.flac': 'WRAPPING A PRETTY BLUE SHAWL ROUND HER HEAD AND SHOULDERS SHE TURNED TO ANNIE', '/content/librispeech-other/LibriSpeech/test-other/8188/269290/8188-269290-0056.flac': 'THE GIRL WHO BREAKS THE RULES HAS TO BE PUNISHED', '/content/librispeech-other/LibriSpeech/test-other/8188/269290/8188-269290-0006.flac': \"YOU DON'T KNOW WHAT A TRIAL IT IS FOR ME TO HAVE YOU HERE\", '/content/librispeech-other/LibriSpeech/test-other/8188/269290/8188-269290-0040.flac': 'I WILL TALK WITH YOU BELLE ACHESON PRESENTLY SHE SAID', '/content/librispeech-other/LibriSpeech/test-other/8188/269290/8188-269290-0014.flac': \"BUT DON'T LOCK ME OUT PLEASE ANNIE\", '/content/librispeech-other/LibriSpeech/test-other/8188/269290/8188-269290-0005.flac': 'IT BURNED AS IF WITH FEVER', '/content/librispeech-other/LibriSpeech/test-other/8188/269290/8188-269290-0024.flac': 'THAT IS IF YOU CARE TO CONFIDE IN ME', '/content/librispeech-other/LibriSpeech/test-other/8188/269290/8188-269290-0044.flac': 'GOD ANSWERS TO EACH OF YOU YOU ARE', '/content/librispeech-other/LibriSpeech/test-other/8188/269290/8188-269290-0047.flac': 'FOR ALL WHO SIN ALL WHO SUFFER YOU ARE TO A CERTAIN EXTENT RESPONSIBLE', '/content/librispeech-other/LibriSpeech/test-other/8188/269290/8188-269290-0037.flac': 'HEAR HEAR AND ONCE AGAIN HEAR', '/content/librispeech-other/LibriSpeech/test-other/8188/269290/8188-269290-0050.flac': 'JUST AS SHE WAS DOING SO MISS FRERE CAME UP', '/content/librispeech-other/LibriSpeech/test-other/8188/269290/8188-269290-0019.flac': \"OH I WON'T PRESS YOU REPLIED JANE\", '/content/librispeech-other/LibriSpeech/test-other/8188/269290/8188-269290-0002.flac': \"I'M NOT COMING SAID ANNIE\", '/content/librispeech-other/LibriSpeech/test-other/8188/269290/8188-269290-0041.flac': 'THE NAMES OF PROPOSED MEMBERS ARE TO BE SUBMITTED TO ME BEFORE THIS DAY WEEK', '/content/librispeech-other/LibriSpeech/test-other/8188/269290/8188-269290-0030.flac': \"I'LL WAIT FOR YOU HERE SAID LESLIE\", '/content/librispeech-other/LibriSpeech/test-other/8188/269290/8188-269290-0032.flac': 'SCARCELY LIKELY REPLIED LESLIE SHE TOLD ME SHE WAS DETERMINED NOT TO COME TO THE MEETING', '/content/librispeech-other/LibriSpeech/test-other/8188/269290/8188-269290-0048.flac': 'AFTER THE ADDRESS THE GIRLS THEMSELVES WERE ENCOURAGED TO SPEAK AND A VERY ANIMATED DISCUSSION FOLLOWED', '/content/librispeech-other/LibriSpeech/test-other/8188/269290/8188-269290-0012.flac': 'I TOOK IT OUT SAID LESLIE TOOK IT OUT', '/content/librispeech-other/LibriSpeech/test-other/8188/274364/8188-274364-0003.flac': 'THE COURT WHICH CONSISTED OF THE CHIEF OFFICERS OF THE ARMY FOUND THE CRIME TO BE CAPITAL AND CONDEMNED THAT NOBLEMAN TO LOSE HIS HEAD', '/content/librispeech-other/LibriSpeech/test-other/8188/274364/8188-274364-0004.flac': 'WHERE THE TOKEN BY WHICH I SHOULD DISCOVER IT', '/content/librispeech-other/LibriSpeech/test-other/8188/274364/8188-274364-0010.flac': 'THE KING PROPOSES THIS DIFFICULTY BUT HOW CAN I UNDERTAKE OFFENSIVE WAR IF I HAVE NO MORE MONEY', '/content/librispeech-other/LibriSpeech/test-other/8188/274364/8188-274364-0005.flac': 'IT IS NOW FULL TWO HUNDRED AND FORTY YEARS SINCE TREASONS WERE DEFINED AND SO LONG HAS IT BEEN SINCE ANY MAN WAS TOUCHED TO THIS EXTENT UPON THIS CRIME BEFORE MYSELF', '/content/librispeech-other/LibriSpeech/test-other/8188/274364/8188-274364-0001.flac': \"IN THE GOVERNMENT OF IRELAND HIS ADMINISTRATION HAD BEEN EQUALLY PROMOTIVE OF HIS MASTER'S INTEREST AND THAT OF THE SUBJECTS COMMITTED TO HIS CARE\", '/content/librispeech-other/LibriSpeech/test-other/8188/274364/8188-274364-0009.flac': 'YOUNG VANE FALLING UPON THIS PAPER OF NOTES DEEMED THE MATTER OF THE UTMOST IMPORTANCE AND IMMEDIATELY COMMUNICATED IT TO PYM WHO NOW PRODUCED THE PAPER BEFORE THE HOUSE OF COMMONS', '/content/librispeech-other/LibriSpeech/test-other/8188/274364/8188-274364-0008.flac': 'MY LORDS I HAVE NOW TROUBLED YOUR LORDSHIPS A GREAT DEAL LONGER THAN I SHOULD HAVE DONE', '/content/librispeech-other/LibriSpeech/test-other/8188/274364/8188-274364-0002.flac': 'THE CASE OF LORD MOUNTNORRIS OF ALL THOSE WHICH WERE COLLECTED WITH SO MUCH INDUSTRY IS THE MOST FLAGRANT AND THE LEAST EXCUSABLE', '/content/librispeech-other/LibriSpeech/test-other/8188/274364/8188-274364-0011.flac': 'YOUR MAJESTY HAVING TRIED THE AFFECTIONS OF YOUR PEOPLE YOU ARE ABSOLVED AND LOOSE FROM ALL RULES OF GOVERNMENT AND MAY DO WHAT POWER WILL ADMIT', '/content/librispeech-other/LibriSpeech/test-other/8188/274364/8188-274364-0000.flac': 'THE COMMONS ALSO VOTED THAT THE NEW CREATED PEERS OUGHT TO HAVE NO VOICE IN THIS TRIAL BECAUSE THE ACCUSATION BEING AGREED TO WHILE THEY WERE COMMONERS THEIR CONSENT TO IT WAS IMPLIED WITH THAT OF ALL THE COMMONS OF ENGLAND', '/content/librispeech-other/LibriSpeech/test-other/8188/274364/8188-274364-0007.flac': 'HOWEVER THESE GENTLEMEN AT THE BAR SAY THEY SPEAK FOR THE COMMONWEALTH AND THEY BELIEVE SO YET UNDER FAVOR IT IS I WHO IN THIS PARTICULAR SPEAK FOR THE COMMONWEALTH', '/content/librispeech-other/LibriSpeech/test-other/8188/274364/8188-274364-0006.flac': 'LET US NOT TO OUR OWN DESTRUCTION AWAKE THOSE SLEEPING LIONS BY RATTLING UP A COMPANY OF OLD RECORDS WHICH HAVE LAIN FOR SO MANY AGES BY THE WALL FORGOTTEN AND NEGLECTED', '/content/librispeech-other/LibriSpeech/test-other/2033/164914/2033-164914-0015.flac': 'NOW WHEN THE FIREMAN HEARD THESE WORDS HE FEARED FOR ZAU AL MAKAN AND WEPT WITH EXCEEDING WEEPING AND SAID TO THE EUNUCH BY ALLAH IT WAS NOT I AND I KNOW HIM NOT', '/content/librispeech-other/LibriSpeech/test-other/2033/164914/2033-164914-0013.flac': 'WHEN IT WAS THE SEVENTY THIRD NIGHT', '/content/librispeech-other/LibriSpeech/test-other/2033/164914/2033-164914-0008.flac': 'WHEN NUZHAT AL ZAMAN HEARD THE FIRST IMPROVISATION SHE CALLED TO MIND HER FATHER AND HER MOTHER AND HER BROTHER AND THEIR WHILOME HOME THEN SHE WEPT AND CRIED AT THE EUNUCH AND SAID TO HIM WOE TO THEE', '/content/librispeech-other/LibriSpeech/test-other/2033/164914/2033-164914-0007.flac': 'AND HE ALSO IMPROVISED THE TWO FOLLOWING DISTICHS', '/content/librispeech-other/LibriSpeech/test-other/2033/164914/2033-164914-0006.flac': 'WHAT AILS THEE THEN THAT THOU MUST NEEDS RECITE VERSES SEEING THAT WE ARE TIRED OUT WITH WALKING AND WATCHING AND ALL THE FOLK ARE ASLEEP FOR THEY REQUIRE SLEEP TO REST THEM OF THEIR FATIGUE', '/content/librispeech-other/LibriSpeech/test-other/2033/164914/2033-164914-0017.flac': \"THEN HE KISSED THE EUNUCH'S HEAD AND SPAKE HIM FAIR TILL HE WENT AWAY BUT THE CASTRATO FETCHED A ROUND AND RETURNING SECRETLY CAME AND STOOD BEHIND THE FIREMAN FEARING TO GO BACK TO HIS MISTRESS WITHOUT TIDINGS\", '/content/librispeech-other/LibriSpeech/test-other/2033/164914/2033-164914-0002.flac': 'THEN SAID THE EUNUCH ART THOU HE WHO REPEATED POETRY BUT NOW AND MY LADY HEARD HIM', '/content/librispeech-other/LibriSpeech/test-other/2033/164914/2033-164914-0018.flac': \"I SAY WHAT MADE MY IGNOMY WHATE'ER THE BITTER CUP I DRAIN FAR BE FRO ME THAT LAND TO FLEE NOR WILL I BOW TO THOSE WHO BLAME AND FOR SUCH LOVE WOULD DEAL ME SHAME\", '/content/librispeech-other/LibriSpeech/test-other/2033/164914/2033-164914-0020.flac': 'O MY LORD CONTINUED THE EUNUCH AND SHAHRAZAD PERCEIVED THE DAWN OF DAY AND CEASED TO SAY HER PERMITTED SAY', '/content/librispeech-other/LibriSpeech/test-other/2033/164914/2033-164914-0000.flac': 'REPLIED HE OF A TRUTH I HEARD HIM NOT AND I WOT HIM NOT AND FOLKS ARE ALL SLEEPING', '/content/librispeech-other/LibriSpeech/test-other/2033/164914/2033-164914-0009.flac': 'HE WHO RECITED THE FIRST TIME HATH RECITED A SECOND TIME AND I HEARD HIM HARD BY', '/content/librispeech-other/LibriSpeech/test-other/2033/164914/2033-164914-0022.flac': 'THEN THE EUNUCH WENT OUT TO ZAU AL MAKAN AND SAID TO HIM RECITE WHAT VERSES THOU KNOWEST FOR MY LADY IS HERE HARD BY LISTENING TO THEE AND AFTER I WILL ASK THEE OF THY NAME AND THY NATIVE COUNTRY AND THY CONDITION', '/content/librispeech-other/LibriSpeech/test-other/2033/164914/2033-164914-0021.flac': 'WE WILL DO THEE NO UPRIGHT O MY SON NOR WRONG THEE IN AUGHT BUT OUR OBJECT IS THAT THOU BEND THY GRACIOUS STEPS WITH ME TO MY MISTRESS TO RECEIVE HER ANSWER AND RETURN IN WEAL AND SAFETY AND THOU SHALT HAVE A HANDSOME PRESENT AS ONE WHO BRINGETH GOOD NEWS', '/content/librispeech-other/LibriSpeech/test-other/2033/164914/2033-164914-0012.flac': 'RETURN QUICKLY AND LINGER NOT', '/content/librispeech-other/LibriSpeech/test-other/2033/164914/2033-164914-0011.flac': 'BUT TAKE THESE HUNDRED DINERS AND GIVE THEM TO THE SINGER AND BRING HIM TO ME GENTLY AND DO HIM NO HURT', '/content/librispeech-other/LibriSpeech/test-other/2033/164914/2033-164914-0001.flac': 'BUT SHE SAID WHOMSOEVER THOU SEEST AWAKE HE IS THE RECITER', '/content/librispeech-other/LibriSpeech/test-other/2033/164914/2033-164914-0019.flac': 'THEN SAID THE EUNUCH TO ZAU AL MAKAN PEACE BE WITH THEE O MY LORD', '/content/librispeech-other/LibriSpeech/test-other/2033/164914/2033-164914-0005.flac': 'TELL ME WHAT HAPPENED QUOTH ZAU AL MAKAN', '/content/librispeech-other/LibriSpeech/test-other/2033/164914/2033-164914-0014.flac': 'BUT THE EUNUCH SAID I WILL NOT LEAVE THEE TILL THOU SHOW ME WHO IT WAS THAT RECITED THE VERSES FOR I DREAD RETURNING TO MY LADY WITHOUT HIM', '/content/librispeech-other/LibriSpeech/test-other/2033/164914/2033-164914-0010.flac': 'BY ALLAH AN THOU FETCH HIM NOT TO ME I WILL ASSUREDLY ROUSE THE CHAMBERLAIN ON THEE AND HE SHALL BEAT THEE AND CAST THEE OUT', '/content/librispeech-other/LibriSpeech/test-other/2033/164914/2033-164914-0004.flac': 'BY ALLAH REPLIED THE FIREMAN I TELL THEE THE TRUTH', '/content/librispeech-other/LibriSpeech/test-other/2033/164914/2033-164914-0003.flac': 'REJOINED THE EUNUCH WHO THEN WAS THE RECITER POINT HIM OUT TO ME', '/content/librispeech-other/LibriSpeech/test-other/2033/164914/2033-164914-0016.flac': 'SO GO THOU TO THY STATION AND IF THOU AGAIN MEET ANY ONE AFTER THIS HOUR RECITING AUGHT OF POETRY WHETHER HE BE NEAR OR FAR IT WILL BE I OR SOME ONE I KNOW AND THOU SHALT NOT LEARN OF HIM BUT BY ME', '/content/librispeech-other/LibriSpeech/test-other/2033/164915/2033-164915-0009.flac': 'WHY DIDST THOU SAY I NEVER REPEATED THESE COUPLETS NOR DO I KNOW WHO REPEATED THEM WHEN IT WAS THY COMPANION', '/content/librispeech-other/LibriSpeech/test-other/2033/164915/2033-164915-0014.flac': 'SO FARE YE FORWARDS NO HARM SHALL BEFAL YOU TILL YOU JOIN HIS GRAND WAZIR DANDAN', '/content/librispeech-other/LibriSpeech/test-other/2033/164915/2033-164915-0013.flac': \"AND HE ANSWERED I AM THE CHAMBERLAIN OF THE EMIR OF DAMASCUS KING SHARRKAN SON OF OMAR BIN AL NU'UMAN LORD OF BAGHDAD AND OF THE LAND OF KHORASAN AND I BRING TRIBUTE AND PRESENTS FROM HIM TO HIS FATHER IN BAGHDAD\", '/content/librispeech-other/LibriSpeech/test-other/2033/164915/2033-164915-0010.flac': 'BUT NOW I WILL NOT LEAVE THEE BETWEEN THIS PLACE AND BAGHDAD AND WHAT BETIDETH THY COMRADE SHALL BETIDE THEE', '/content/librispeech-other/LibriSpeech/test-other/2033/164915/2033-164915-0003.flac': 'AFTER A WHILE THEY CAME TO THEMSELVES AND NUZHAT AL ZAMAN REJOICED WITH EXCEEDING JOY OPPRESSION AND DEPRESSION LEFT HER AND GLADNESS TOOK THE MASTERY OF HER AND SHE REPEATED THESE VERSES', '/content/librispeech-other/LibriSpeech/test-other/2033/164915/2033-164915-0000.flac': 'AND ALSO THESE', '/content/librispeech-other/LibriSpeech/test-other/2033/164915/2033-164915-0017.flac': 'AND AMONGST THEM WERE SOME WHO WOULD HAVE CHOSEN THE CADET ZAU AL MAKAN FOR QUOTH THEY HIS NAME BE LIGHT OF THE PLACE AND HE HATH A SISTER NUZHAT AL ZAMAN HIGHS THE DELIGHT OF THE TIME BUT THEY SET OUT FIVE YEARS AGO FOR AL HIJAZ AND NONE WOTTETH WHAT IS BECOME OF THEM', '/content/librispeech-other/LibriSpeech/test-other/2033/164915/2033-164915-0002.flac': 'WHEN THE EUNUCH SAW THIS CASE HE WONDERED AT THEM AND THROWING OVER THEM SOMEWHAT TO COVER THEM WAITED TILL THEY SHOULD RECOVER', '/content/librispeech-other/LibriSpeech/test-other/2033/164915/2033-164915-0011.flac': 'TWAS AS I FEARED THE COMING ILLS DISCERNING BUT UNTO ALLAH WE ARE ALL RETURNING', '/content/librispeech-other/LibriSpeech/test-other/2033/164915/2033-164915-0016.flac': \"SO IT WAS AGREED THAT WE GO TO DAMASCUS AND FETCH THENCE THE KING'S SON SHARRKAN AND MAKE HIM SULTAN OVER HIS FATHER'S REALM\", '/content/librispeech-other/LibriSpeech/test-other/2033/164915/2033-164915-0004.flac': 'ACCORDINGLY SHE TOLD HIM ALL THAT HAD COME TO HER SINCE THEIR SEPARATION AT THE KHAN AND WHAT HAD HAPPENED TO HER WITH THE BADAWI HOW THE MERCHANT HAD BOUGHT HER OF HIM AND HAD TAKEN HER TO HER BROTHER SHARRKAN AND HAD SOLD HER TO HIM HOW HE HAD FREED HER AT THE TIME OF BUYING HOW HE HAD MADE A MARRIAGE CONTRACT WITH HER AND HAD GONE IN TO HER AND HOW THE KING THEIR SIRE HAD SENT AND ASKED FOR HER FROM SHARRKAN', '/content/librispeech-other/LibriSpeech/test-other/2033/164915/2033-164915-0006.flac': 'THE CHAMBERLAIN CALLED THE CASTRATO AND CHARGED HIM TO DO ACCORDINGLY SO HE REPLIED I HEAR AND I OBEY AND HE TOOK HIS PAGES WITH HIM AND WENT OUT IN SEARCH OF THE STOKER TILL HE FOUND HIM IN THE REAR OF THE CARAVAN GIRTHING HIS ASS AND PREPARING FOR FLIGHT', '/content/librispeech-other/LibriSpeech/test-other/2033/164915/2033-164915-0015.flac': 'THEN HE BADE HIM BE SEATED AND QUESTIONED HIM AND HE REPLIED THAT HE WAS CHAMBERLAIN TO THE EMIR OF DAMASCUS AND WAS BOUND TO KING OMAR WITH PRESENTS AND THE TRIBUTE OF SYRIA', '/content/librispeech-other/LibriSpeech/test-other/2033/164915/2033-164915-0001.flac': 'THEN SHE THREW HERSELF UPON HIM AND HE GATHERED HER TO HIS BOSOM AND THE TWAIN FELL DOWN IN A FAINTING FIT', '/content/librispeech-other/LibriSpeech/test-other/2033/164915/2033-164915-0007.flac': 'SHE SAID IT HATH REACHED ME O AUSPICIOUS KING THAT WHEN THE STOKER GIRTHED HIS ASS FOR FLIGHT AND BESPAKE HIMSELF SAYING OH WOULD I KNEW WHAT IS BECOME OF HIM', '/content/librispeech-other/LibriSpeech/test-other/2033/164915/2033-164915-0005.flac': 'BUT NOW GO TO THY MASTER AND BRING HIM QUICKLY TO ME', '/content/librispeech-other/LibriSpeech/test-other/2033/164915/2033-164915-0008.flac': 'I BELIEVE HE HATH DENOUNCED ME TO THE EUNUCH HENCE THESE PAGES ET ABOUT ME AND HE HATH MADE ME AN ACCOMPLICE IN HIS CRIME', '/content/librispeech-other/LibriSpeech/test-other/2033/164915/2033-164915-0012.flac': 'THEN THE EUNUCH CRIED UPON THE PAGES SAYING TAKE HIM OFF THE ASS', '/content/librispeech-other/LibriSpeech/test-other/2033/164916/2033-164916-0009.flac': 'MOREOVER THE SULTAN COMMANDED HIS WAZIR DANDAN CALL A TEN DAYS HALT OF THE ARMY THAT HE MIGHT BE PRIVATE WITH HIM AND LEARN FROM HIM HOW AND WHEREFORE HIS FATHER HAD BEEN SLAIN', '/content/librispeech-other/LibriSpeech/test-other/2033/164916/2033-164916-0005.flac': 'AFTER AWHILE THE DUST DISPERSED AND THERE APPEARED UNDER IT THE ARMY OF BAGHDAD AND KHORASAN A CONQUERING HOST LIKE THE FULL TIDE SEA AND SHAHRAZAD PERCEIVED THE DAWN OF DAY AND CEASED TO SAY HER PERMITTED SAY', '/content/librispeech-other/LibriSpeech/test-other/2033/164916/2033-164916-0004.flac': 'THEN HE ADDED O MY UNCLE HOW SHALL I DO WITH MY BROTHER SHARRKAN', '/content/librispeech-other/LibriSpeech/test-other/2033/164916/2033-164916-0002.flac': 'WHEN THE MINISTER HEARD THESE WORDS HE REJOICED WITH GREAT JOY AND SAID O CHAMBERLAIN TELL ME THE TALE OF THE TWAIN AND WHAT BEFEL THEM AND THE CAUSE OF THEIR LONG ABSENCE', '/content/librispeech-other/LibriSpeech/test-other/2033/164916/2033-164916-0006.flac': 'WHEN IT WAS THE SEVENTY EIGHTH NIGHT', '/content/librispeech-other/LibriSpeech/test-other/2033/164916/2033-164916-0008.flac': 'LASTLY THE MINISTER WENT IN AND KISSED THE GROUND BEFORE ZAU AL MAKAN WHO ROSE TO MEET HIM SAYING WELCOME O WAZIR AND SIRE SANS PEER', '/content/librispeech-other/LibriSpeech/test-other/2033/164916/2033-164916-0010.flac': 'HE THEN REPAIRED TO THE HEART OF THE ENCAMPMENT AND ORDERED THE HOST TO HALT TEN DAYS', '/content/librispeech-other/LibriSpeech/test-other/2033/164916/2033-164916-0003.flac': 'ZAU AL MAKAN BOWED HIS HEAD AWHILE AND THEN SAID I ACCEPT THIS POSITION FOR INDEED THERE WAS NO REFUSING AND HE WAS CERTIFIED THAT THE CHAMBERLAIN HAD COUNSELLED HIM WELL AND WISELY AND SET HIM ON THE RIGHT WAY', '/content/librispeech-other/LibriSpeech/test-other/2033/164916/2033-164916-0000.flac': 'SO HE TURNED TO THE WAZIR DANDAN AND SAID TO HIM VERILY YOUR TALE IS A WONDER OF WONDERS', '/content/librispeech-other/LibriSpeech/test-other/2033/164916/2033-164916-0007.flac': 'AND IN IT ALL REJOICED AT THE ACCESSION OF THE LIGHT OF THE PLACE', '/content/librispeech-other/LibriSpeech/test-other/2033/164916/2033-164916-0001.flac': 'KNOW O CHIEF WAZIR THAT HERE WHERE YOU HAVE ENCOUNTERED ME ALLAH HATH GIVEN YOU REST FROM FATIGUE AND BRINGETH YOU YOUR DESIRE AFTER THE EASIEST OF FASHIONS FOR THAT HIS ALMIGHTY WILL RESTORETH TO YOU ZAU AL MAKAN AND HIS SISTER NUZHAT AL ZAMAN WHEREBY WE WILL SETTLE THE MATTER AS WE EASILY CAN', '/content/librispeech-other/LibriSpeech/test-other/5442/41168/5442-41168-0005.flac': \"THE CONFIDENCE OF THE MONARCH NO CHECKING THE ACCOUNTS OF THE MARSHAL HE'S NOT A CASHIER BUT THAT'S NOT THE POINT\", '/content/librispeech-other/LibriSpeech/test-other/5442/41168/5442-41168-0024.flac': 'AND THE MARSHAL DISAPPEARED THROUGH A SIDE DOOR', '/content/librispeech-other/LibriSpeech/test-other/5442/41168/5442-41168-0013.flac': 'LEVIN ADVANCED BUT UTTERLY FORGETTING WHAT HE WAS TO DO AND MUCH EMBARRASSED HE TURNED TO SERGEY IVANOVITCH WITH THE QUESTION WHERE AM I TO PUT IT', '/content/librispeech-other/LibriSpeech/test-other/5442/41168/5442-41168-0002.flac': 'HE WAS SHOUTING FOR THE VERY COURSE SERGEY IVANOVITCH HAD PROPOSED BUT IT WAS EVIDENT THAT HE HATED HIM AND ALL HIS PARTY AND THIS FEELING OF HATRED SPREAD THROUGH THE WHOLE PARTY AND ROUSED IN OPPOSITION TO IT THE SAME VINDICTIVENESS THOUGH IN A MORE SEEMLY FORM ON THE OTHER SIDE', '/content/librispeech-other/LibriSpeech/test-other/5442/41168/5442-41168-0012.flac': 'HE PARTICULARLY LIKED THE WAY ONE GRAY WHISKERED WAITER WHO SHOWED HIS SCORN FOR THE OTHER YOUNGER ONES AND WAS JEERED AT BY THEM WAS TEACHING THEM HOW TO FOLD UP NAPKINS PROPERLY', '/content/librispeech-other/LibriSpeech/test-other/5442/41168/5442-41168-0026.flac': 'TWO NOBLE GENTLEMEN WHO HAD A WEAKNESS FOR STRONG DRINK HAD BEEN MADE DRUNK BY THE PARTISANS OF SNETKOV AND A THIRD HAD BEEN ROBBED OF HIS UNIFORM', '/content/librispeech-other/LibriSpeech/test-other/5442/41168/5442-41168-0016.flac': 'HAVING PUT IT IN HE RECOLLECTED THAT HE OUGHT TO HAVE THRUST HIS LEFT HAND TOO AND SO HE THRUST IT IN THOUGH TOO LATE AND STILL MORE OVERCOME WITH CONFUSION HE BEAT A HASTY RETREAT INTO THE BACKGROUND', '/content/librispeech-other/LibriSpeech/test-other/5442/41168/5442-41168-0006.flac': 'VOTES PLEASE BEASTLY', '/content/librispeech-other/LibriSpeech/test-other/5442/41168/5442-41168-0000.flac': 'THE ACT SAID THAT IN CASE OF DIFFERENCE OF OPINION THERE MUST BE A BALLOT', '/content/librispeech-other/LibriSpeech/test-other/5442/41168/5442-41168-0021.flac': 'IN REPLY SNETKOV SPOKE OF THE TRUST THE NOBLEMEN OF THE PROVINCE HAD PLACED IN HIM THE AFFECTION THEY HAD SHOWN HIM WHICH HE DID NOT DESERVE AS HIS ONLY MERIT HAD BEEN HIS ATTACHMENT TO THE NOBILITY TO WHOM HE HAD DEVOTED TWELVE YEARS OF SERVICE', '/content/librispeech-other/LibriSpeech/test-other/5442/41168/5442-41168-0003.flac': 'SHOUTS WERE RAISED AND FOR A MOMENT ALL WAS CONFUSION SO THAT THE MARSHAL OF THE PROVINCE HAD TO CALL FOR ORDER A BALLOT', '/content/librispeech-other/LibriSpeech/test-other/5442/41168/5442-41168-0017.flac': 'A HUNDRED AND TWENTY SIX FOR ADMISSION NINETY EIGHT AGAINST', '/content/librispeech-other/LibriSpeech/test-other/5442/41168/5442-41168-0010.flac': 'BUT LEVIN FORGOT ALL THAT AND IT WAS PAINFUL TO HIM TO SEE ALL THESE EXCELLENT PERSONS FOR WHOM HE HAD A RESPECT IN SUCH AN UNPLEASANT AND VICIOUS STATE OF EXCITEMENT', '/content/librispeech-other/LibriSpeech/test-other/5442/41168/5442-41168-0023.flac': 'IF THERE ARE MEN YOUNGER AND MORE DESERVING THAN I LET THEM SERVE', '/content/librispeech-other/LibriSpeech/test-other/5442/41168/5442-41168-0015.flac': \"THAT IS A MATTER FOR EACH MAN'S OWN DECISION HE SAID SEVERELY\", '/content/librispeech-other/LibriSpeech/test-other/5442/41168/5442-41168-0018.flac': 'SANG OUT THE VOICE OF THE SECRETARY WHO COULD NOT PRONOUNCE THE LETTER R', '/content/librispeech-other/LibriSpeech/test-other/5442/41168/5442-41168-0020.flac': 'BUT THE OLD PARTY DID NOT CONSIDER THEMSELVES CONQUERED', '/content/librispeech-other/LibriSpeech/test-other/5442/41168/5442-41168-0011.flac': 'TO ESCAPE FROM THIS PAINFUL FEELING HE WENT AWAY INTO THE OTHER ROOM WHERE THERE WAS NOBODY EXCEPT THE WAITERS AT THE REFRESHMENT BAR', '/content/librispeech-other/LibriSpeech/test-other/5442/41168/5442-41168-0022.flac': \"THIS EXPRESSION IN THE MARSHAL'S FACE WAS PARTICULARLY TOUCHING TO LEVIN BECAUSE ONLY THE DAY BEFORE HE HAD BEEN AT HIS HOUSE ABOUT HIS TRUSTEE BUSINESS AND HAD SEEN HIM IN ALL HIS GRANDEUR A KIND HEARTED FATHERLY MAN\", '/content/librispeech-other/LibriSpeech/test-other/5442/41168/5442-41168-0025.flac': 'THEY WERE TO PROCEED IMMEDIATELY TO THE ELECTION', '/content/librispeech-other/LibriSpeech/test-other/5442/41168/5442-41168-0014.flac': 'SERGEY IVANOVITCH FROWNED', '/content/librispeech-other/LibriSpeech/test-other/5442/41168/5442-41168-0009.flac': \"HE FORGOT AS SERGEY IVANOVITCH EXPLAINED TO HIM AFTERWARDS THIS SYLLOGISM THAT IT WAS NECESSARY FOR THE PUBLIC GOOD TO GET RID OF THE MARSHAL OF THE PROVINCE THAT TO GET RID OF THE MARSHAL IT WAS NECESSARY TO HAVE A MAJORITY OF VOTES THAT TO GET A MAJORITY OF VOTES IT WAS NECESSARY TO SECURE FLEROV'S RIGHT TO VOTE THAT TO SECURE THE RECOGNITION OF FLEROV'S RIGHT TO VOTE THEY MUST DECIDE ON THE INTERPRETATION TO BE PUT ON THE ACT\", '/content/librispeech-other/LibriSpeech/test-other/5442/41168/5442-41168-0007.flac': 'THEY EXPRESSED THE MOST IMPLACABLE HATRED', '/content/librispeech-other/LibriSpeech/test-other/5442/41168/5442-41168-0001.flac': 'HE WENT UP TO THE TABLE AND STRIKING IT WITH HIS FINGER RING HE SHOUTED LOUDLY A BALLOT', '/content/librispeech-other/LibriSpeech/test-other/5442/41168/5442-41168-0004.flac': 'WE SHED OUR BLOOD FOR OUR COUNTRY', '/content/librispeech-other/LibriSpeech/test-other/5442/41168/5442-41168-0008.flac': 'LEVIN DID NOT IN THE LEAST UNDERSTAND WHAT WAS THE MATTER AND HE MARVELED AT THE PASSION WITH WHICH IT WAS DISPUTED WHETHER OR NOT THE DECISION ABOUT FLEROV SHOULD BE PUT TO THE VOTE', '/content/librispeech-other/LibriSpeech/test-other/5442/41168/5442-41168-0027.flac': 'ON LEARNING THIS THE NEW PARTY HAD MADE HASTE DURING THE DISPUTE ABOUT FLEROV TO SEND SOME OF THEIR MEN IN A SLEDGE TO CLOTHE THE STRIPPED GENTLEMAN AND TO BRING ALONG ONE OF THE INTOXICATED TO THE MEETING', '/content/librispeech-other/LibriSpeech/test-other/5442/41168/5442-41168-0019.flac': 'THEN THERE WAS A LAUGH A BUTTON AND TWO NUTS WERE FOUND IN THE BOX', '/content/librispeech-other/LibriSpeech/test-other/5442/32873/5442-32873-0002.flac': 'A SLAVE ONLY THINK A SLAVE', '/content/librispeech-other/LibriSpeech/test-other/5442/32873/5442-32873-0018.flac': 'LUKE STUCK ON HIS GREASY WIDEAWAKE AND IN A FEW MINUTES MORE THE DOG CART WAS TRUNDLED OUT INTO THE LANE AND THE HORSE HARNESSED WENT BETWEEN THE SHAFTS WITH THAT WONDERFUL CHEERFULNESS WITH WHICH THEY BEAR TO BE CALLED UP UNDER STARTLING CIRCUMSTANCES AT UNSEASONABLE HOURS', '/content/librispeech-other/LibriSpeech/test-other/5442/32873/5442-32873-0016.flac': 'HERE WERE THE FLOW OF SOUL AND OF STOUT LONG PIPES LONG YARNS AND TOLERABLY LONG CREDITS AND THE HUMBLE SCAPEGRACES OF THE TOWN RESORTED THITHER FOR THE PLEASURES OF A CLUB LIFE AND OFTEN REVELLED DEEP INTO THE SMALL HOURS OF THE MORNING', '/content/librispeech-other/LibriSpeech/test-other/5442/32873/5442-32873-0001.flac': 'THERE WAS A VERY NATURAL SAVAGERY AND DEJECTION THERE AND A WILD LEER IN HIS YELLOW EYES RACHEL SAT DOWN', '/content/librispeech-other/LibriSpeech/test-other/5442/32873/5442-32873-0015.flac': 'BUT LUKE WAS NOT THERE AND CAPTAIN LAKE RECOLLECTING HIS HABITS AND HIS HAUNT HURRIED ON TO THE SILVER LION WHICH HAS ITS GABLE TOWARDS THE COMMON ONLY ABOUT A HUNDRED STEPS AWAY FOR DISTANCES ARE NOT GREAT IN GYLINGDEN', '/content/librispeech-other/LibriSpeech/test-other/5442/32873/5442-32873-0005.flac': 'STANLEY STANLEY IT WOULD BE MERCY TO KILL ME SHE BROKE OUT AGAIN', '/content/librispeech-other/LibriSpeech/test-other/5442/32873/5442-32873-0008.flac': 'THERE WAS NOTHING VERY BROTHERLY IN HIS LOOK AS HE PEERED INTO HER PALE SHARP FEATURES DURING THE PROCESS', '/content/librispeech-other/LibriSpeech/test-other/5442/32873/5442-32873-0010.flac': 'AND SHE THREW BACK HER VEIL AND GOING HURRIEDLY TO THE TOILET MECHANICALLY SURVEYED HERSELF IN THE GLASS', '/content/librispeech-other/LibriSpeech/test-other/5442/32873/5442-32873-0004.flac': 'OH FRIGHTFUL FRIGHTFUL', '/content/librispeech-other/LibriSpeech/test-other/5442/32873/5442-32873-0012.flac': \"I'LL STAY HERE THAT IS IN THE DRAWING ROOM SHE ANSWERED AND THE FACE WAS WITHDRAWN\", '/content/librispeech-other/LibriSpeech/test-other/5442/32873/5442-32873-0007.flac': 'WHEN HE CAME BACK TO THE DRAWING ROOM A TOILET BOTTLE OF EAU DE COLOGNE IN HIS HAND WITH HER LACE HANDKERCHIEF HE BATHED HER TEMPLES AND FOREHEAD', '/content/librispeech-other/LibriSpeech/test-other/5442/32873/5442-32873-0011.flac': 'RACHEL LAKE RACHEL LAKE WHAT ARE YOU NOW', '/content/librispeech-other/LibriSpeech/test-other/5442/32873/5442-32873-0000.flac': 'CAPTAIN LAKE DID NOT LOOK AT ALL LIKE A LONDON DANDY NOW', '/content/librispeech-other/LibriSpeech/test-other/5442/32873/5442-32873-0006.flac': 'BRIGHT AND NATTY WERE THE CHINTZ CURTAINS AND THE LITTLE TOILET SET OUT NOT INELEGANTLY AND HER PET PIPING GOLDFINCH ASLEEP ON HIS PERCH WITH HIS BIT OF SUGAR BETWEEN THE WIRES OF HIS CAGE HER PILLOW SO WHITE AND UNPRESSED WITH ITS LITTLE EDGING OF LACE', '/content/librispeech-other/LibriSpeech/test-other/5442/32873/5442-32873-0017.flac': \"LOSE NO TIME AND I'LL GIVE YOU HALF A CROWN\", '/content/librispeech-other/LibriSpeech/test-other/5442/32873/5442-32873-0014.flac': \"LUKE TOOK CARE OF MISTER LARKIN'S DOGS AND GROOMED MISTER WYLDER'S HORSE AND CLEANED UP HIS DOG CART FOR MARK BEING CLOSE ABOUT MONEY AND FINDING THAT THE THING WAS TO BE DONE MORE CHEAPLY THAT WAY PUT UP HIS HORSE AND DOG CART IN THE POST OFFICE PREMISES AND SO EVADED THE LIVERY CHARGES OF THE BRANDON ARMS\", '/content/librispeech-other/LibriSpeech/test-other/5442/32873/5442-32873-0003.flac': 'OH FRIGHTFUL FRIGHTFUL IS IT A DREAM', '/content/librispeech-other/LibriSpeech/test-other/5442/32873/5442-32873-0009.flac': \"THERE DON'T MIND ME SHE SAID SHARPLY AND GETTING UP SHE LOOKED DOWN AT HER DRESS AND THIN SHOES AND SEEMING TO RECOLLECT HERSELF SHE TOOK THE CANDLE HE HAD JUST SET DOWN AND WENT SWIFTLY TO HER ROOM\", '/content/librispeech-other/LibriSpeech/test-other/5442/32873/5442-32873-0013.flac': 'HE SLACKENED HIS PACE AND TAPPED SHARPLY AT THE LITTLE WINDOW OF THAT MODEST POST OFFICE AT WHICH THE YOUNG LADIES IN THE PONY CARRIAGE HAD PULLED UP THE DAY BEFORE AND WITHIN WHICH LUKE WAGGOT WAS WONT TO SLEEP IN A SORT OF WOODEN BOX THAT FOLDED UP AND APPEARED TO BE A CHEST OF DRAWERS ALL DAY', '/content/librispeech-other/LibriSpeech/test-other/5442/32873/5442-32873-0019.flac': \"IF I THOUGHT YOU'D FAIL ME NOW TAMAR I SHOULD NEVER COME BACK GOOD NIGHT TAMAR\", '/content/librispeech-other/LibriSpeech/test-other/5442/41169/5442-41169-0017.flac': \"BUT ONE'S WORK IS THROWN IN FOR NOTHING\", '/content/librispeech-other/LibriSpeech/test-other/5442/41169/5442-41169-0004.flac': 'THESE PERSONS WERE UNMISTAKABLY SEEKING A PLACE WHERE THEY COULD TALK WITHOUT BEING OVERHEARD', '/content/librispeech-other/LibriSpeech/test-other/5442/41169/5442-41169-0012.flac': \"AND THEN TO TELL THE TRUTH THERE'S ONE'S OWN INTERESTS\", '/content/librispeech-other/LibriSpeech/test-other/5442/41169/5442-41169-0011.flac': \"IT'S A MORAL OBLIGATION OF A SORT\", '/content/librispeech-other/LibriSpeech/test-other/5442/41169/5442-41169-0001.flac': 'HE WENT TO THE WINDOW AND SAT DOWN SCANNING THE GROUPS AND LISTENING TO WHAT WAS BEING SAID AROUND HIM', '/content/librispeech-other/LibriSpeech/test-other/5442/41169/5442-41169-0010.flac': 'THEN TOO ONE MUST KEEP UP CONNECTIONS', '/content/librispeech-other/LibriSpeech/test-other/5442/41169/5442-41169-0003.flac': 'I HAVE TOLD HIM SO BUT IT MAKES NO DIFFERENCE ONLY THINK OF IT', '/content/librispeech-other/LibriSpeech/test-other/5442/41169/5442-41169-0008.flac': 'WHY WHAT IS THERE TO UNDERSTAND', '/content/librispeech-other/LibriSpeech/test-other/5442/41169/5442-41169-0019.flac': \"AND WHAT'S MORE THE LANDOWNER WENT ON LEANING HIS ELBOWS ON THE WINDOW AND CHATTING ON MY SON I MUST TELL YOU HAS NO TASTE FOR IT\", '/content/librispeech-other/LibriSpeech/test-other/5442/41169/5442-41169-0030.flac': \"THERE'S THE PEASANTS TOO I WONDER AT THEM SOMETIMES ANY GOOD PEASANT TRIES TO TAKE ALL THE LAND HE CAN\", '/content/librispeech-other/LibriSpeech/test-other/5442/41169/5442-41169-0018.flac': 'OH WELL ONE DOES IT WHAT WOULD YOU HAVE', '/content/librispeech-other/LibriSpeech/test-other/5442/41169/5442-41169-0005.flac': 'SHALL WE GO ON YOUR EXCELLENCY FINE CHAMPAGNE', '/content/librispeech-other/LibriSpeech/test-other/5442/41169/5442-41169-0006.flac': \"LAST YEAR AT OUR DISTRICT MARSHAL NIKOLAY IVANOVITCH'S\", '/content/librispeech-other/LibriSpeech/test-other/5442/41169/5442-41169-0031.flac': 'WITHOUT A RETURN TOO AT A SIMPLE LOSS', '/content/librispeech-other/LibriSpeech/test-other/5442/41169/5442-41169-0022.flac': \"TO MY THINKING I'D CUT DOWN THAT LIME TREE\", '/content/librispeech-other/LibriSpeech/test-other/5442/41169/5442-41169-0007.flac': 'OH STILL JUST THE SAME ALWAYS AT A LOSS THE LANDOWNER ANSWERED WITH A RESIGNED SMILE BUT WITH AN EXPRESSION OF SERENITY AND CONVICTION THAT SO IT MUST BE', '/content/librispeech-other/LibriSpeech/test-other/5442/41169/5442-41169-0026.flac': 'THE LANDOWNER CHUCKLED UNDER HIS WHITE MUSTACHES', '/content/librispeech-other/LibriSpeech/test-other/5442/41169/5442-41169-0029.flac': \"THERE'S A CLASS INSTINCT TOO OF WHAT ONE OUGHT AND OUGHTN'T TO DO\", '/content/librispeech-other/LibriSpeech/test-other/5442/41169/5442-41169-0015.flac': \"IF WE'RE LAYING OUT A GARDEN PLANNING ONE BEFORE THE HOUSE YOU KNOW AND THERE YOU'VE A TREE THAT'S STOOD FOR CENTURIES IN THE VERY SPOT OLD AND GNARLED IT MAY BE AND YET YOU DON'T CUT DOWN THE OLD FELLOW TO MAKE ROOM FOR THE FLOWERBEDS BUT LAY OUT YOUR BEDS SO AS TO TAKE ADVANTAGE OF THE TREE\", '/content/librispeech-other/LibriSpeech/test-other/5442/41169/5442-41169-0016.flac': 'WELL AND HOW IS YOUR LAND DOING', '/content/librispeech-other/LibriSpeech/test-other/5442/41169/5442-41169-0021.flac': \"WE WALKED ABOUT THE FIELDS AND THE GARDEN NO SAID HE STEPAN VASSILIEVITCH EVERYTHING'S WELL LOOKED AFTER BUT YOUR GARDEN'S NEGLECTED\", '/content/librispeech-other/LibriSpeech/test-other/5442/41169/5442-41169-0020.flac': \"SO THERE'LL BE NO ONE TO KEEP IT UP AND YET ONE DOES IT\", '/content/librispeech-other/LibriSpeech/test-other/5442/41169/5442-41169-0002.flac': \"HE'S SUCH A BLACKGUARD\", '/content/librispeech-other/LibriSpeech/test-other/5442/41169/5442-41169-0027.flac': \"WHY DON'T WE CUT DOWN OUR PARKS FOR TIMBER\", '/content/librispeech-other/LibriSpeech/test-other/5442/41169/5442-41169-0024.flac': \"YOU'RE MARRIED I'VE HEARD SAID THE LANDOWNER\", '/content/librispeech-other/LibriSpeech/test-other/5442/41169/5442-41169-0009.flac': \"THERE'S NO MEANING IN IT AT ALL\", '/content/librispeech-other/LibriSpeech/test-other/5442/41169/5442-41169-0014.flac': 'THAT IT MAY BE BUT STILL IT OUGHT TO BE TREATED A LITTLE MORE RESPECTFULLY', '/content/librispeech-other/LibriSpeech/test-other/5442/41169/5442-41169-0000.flac': \"LEVIN DID NOT CARE TO EAT AND HE WAS NOT SMOKING HE DID NOT WANT TO JOIN HIS OWN FRIENDS THAT IS SERGEY IVANOVITCH STEPAN ARKADYEVITCH SVIAZHSKY AND THE REST BECAUSE VRONSKY IN HIS EQUERRY'S UNIFORM WAS STANDING WITH THEM IN EAGER CONVERSATION\", '/content/librispeech-other/LibriSpeech/test-other/5442/41169/5442-41169-0025.flac': \"YES IT'S RATHER STRANGE HE WENT ON\", '/content/librispeech-other/LibriSpeech/test-other/5442/41169/5442-41169-0023.flac': \"HERE YOU'VE THOUSANDS OF LIMES AND EACH WOULD MAKE TWO GOOD BUNDLES OF BARK\", '/content/librispeech-other/LibriSpeech/test-other/5442/41169/5442-41169-0013.flac': \"THEY'RE PROPRIETORS OF A SORT BUT WE'RE THE LANDOWNERS\", '/content/librispeech-other/LibriSpeech/test-other/5442/41169/5442-41169-0028.flac': 'SAID LEVIN RETURNING TO A THOUGHT THAT HAD STRUCK HIM', '/content/librispeech-other/LibriSpeech/test-other/6128/63241/6128-63241-0010.flac': 'SHE HAD ERECTED IT INTO A SORT OF RULE OF CONDUCT THAT WHENEVER SHE SAW A RISK SHE WAS TO TAKE IT AND SHE HAD FREQUENT HUMILIATIONS AT FINDING HERSELF SAFE AFTER ALL', '/content/librispeech-other/LibriSpeech/test-other/6128/63241/6128-63241-0012.flac': 'HE WAS TOO SIMPLE TOO MISSISSIPPIAN FOR THAT SHE WAS ALMOST DISAPPOINTED', '/content/librispeech-other/LibriSpeech/test-other/6128/63241/6128-63241-0004.flac': 'SHE COULD NOT DEFEND HERSELF AGAINST A RICH ADMIRATION A KIND OF TENDERNESS OF ENVY OF ANY ONE WHO HAD BEEN SO HAPPY AS TO HAVE THAT OPPORTUNITY', '/content/librispeech-other/LibriSpeech/test-other/6128/63241/6128-63241-0006.flac': 'THE STATE OF MISSISSIPPI SEEMED TO HIM THE STATE OF DESPAIR SO HE SURRENDERED THE REMNANTS OF HIS PATRIMONY TO HIS MOTHER AND SISTERS AND AT NEARLY THIRTY YEARS OF AGE ALIGHTED FOR THE FIRST TIME IN NEW YORK IN THE COSTUME OF HIS PROVINCE WITH FIFTY DOLLARS IN HIS POCKET AND A GNAWING HUNGER IN HIS HEART', '/content/librispeech-other/LibriSpeech/test-other/6128/63241/6128-63241-0009.flac': 'OLIVE HAD A FEAR OF EVERYTHING BUT HER GREATEST FEAR WAS OF BEING AFRAID', '/content/librispeech-other/LibriSpeech/test-other/6128/63241/6128-63241-0011.flac': 'SHE WAS PERFECTLY SAFE AFTER WRITING TO BASIL RANSOM AND INDEED IT WAS DIFFICULT TO SEE WHAT HE COULD HAVE DONE TO HER EXCEPT THANK HER HE WAS ONLY EXCEPTIONALLY SUPERLATIVE FOR HER LETTER AND ASSURE HER THAT HE WOULD COME AND SEE HER THE FIRST TIME HIS BUSINESS HE WAS BEGINNING TO GET A LITTLE SHOULD TAKE HIM TO BOSTON', '/content/librispeech-other/LibriSpeech/test-other/6128/63241/6128-63241-0007.flac': 'IT WAS IN THE FEMALE LINE AS BASIL RANSOM HAD WRITTEN IN ANSWERING HER LETTER WITH A GOOD DEAL OF FORM AND FLOURISH HE SPOKE AS IF THEY HAD BEEN ROYAL HOUSES', '/content/librispeech-other/LibriSpeech/test-other/6128/63241/6128-63241-0005.flac': 'HIS FAMILY WAS RUINED THEY HAD LOST THEIR SLAVES THEIR PROPERTY THEIR FRIENDS AND RELATIONS THEIR HOME HAD TASTED OF ALL THE CRUELTY OF DEFEAT', '/content/librispeech-other/LibriSpeech/test-other/6128/63241/6128-63241-0003.flac': 'HE WAS SORRY FOR HER BUT HE SAW IN A FLASH THAT NO ONE COULD HELP HER THAT WAS WHAT MADE HER TRAGIC', '/content/librispeech-other/LibriSpeech/test-other/6128/63241/6128-63241-0001.flac': \"THE WOMEN HE HAD HITHERTO KNOWN HAD BEEN MAINLY OF HIS OWN SOFT CLIME AND IT WAS NOT OFTEN THEY EXHIBITED THE TENDENCY HE DETECTED AND CURSORILY DEPLORED IN MISSUS LUNA'S SISTER\", '/content/librispeech-other/LibriSpeech/test-other/6128/63241/6128-63241-0008.flac': 'IF IT HAD BEEN POSSIBLE TO SEND MISSUS RANSOM MONEY OR EVEN CLOTHES SHE WOULD HAVE LIKED THAT BUT SHE HAD NO MEANS OF ASCERTAINING HOW SUCH AN OFFERING WOULD BE TAKEN', '/content/librispeech-other/LibriSpeech/test-other/6128/63241/6128-63241-0002.flac': 'RANSOM WAS PLEASED WITH THE VISION OF THAT REMEDY IT MUST BE REPEATED THAT HE WAS VERY PROVINCIAL', '/content/librispeech-other/LibriSpeech/test-other/6128/63241/6128-63241-0013.flac': 'OF ALL THINGS IN THE WORLD CONTENTION WAS MOST SWEET TO HER THOUGH WHY IT IS HARD TO IMAGINE FOR IT ALWAYS COST HER TEARS HEADACHES A DAY OR TWO IN BED ACUTE EMOTION AND IT WAS VERY POSSIBLE BASIL RANSOM WOULD NOT CARE TO CONTEND', '/content/librispeech-other/LibriSpeech/test-other/6128/63241/6128-63241-0000.flac': 'POOR RANSOM ANNOUNCED THIS FACT TO HIMSELF AS IF HE HAD MADE A GREAT DISCOVERY BUT IN REALITY HE HAD NEVER BEEN SO BOEOTIAN AS AT THAT MOMENT', '/content/librispeech-other/LibriSpeech/test-other/6128/63244/6128-63244-0019.flac': 'THEY WERE HER SISTERS THEY WERE HER OWN AND THE DAY OF THEIR DELIVERY HAD DAWNED', '/content/librispeech-other/LibriSpeech/test-other/6128/63244/6128-63244-0009.flac': 'CHARLIE WAS A YOUNG MAN IN A WHITE OVERCOAT AND A PAPER COLLAR IT WAS FOR HIM IN THE LAST ANALYSIS THAT THEY CARED MUCH THE MOST', '/content/librispeech-other/LibriSpeech/test-other/6128/63244/6128-63244-0003.flac': 'WITH HER IMMENSE SYMPATHY FOR REFORM SHE FOUND HERSELF SO OFTEN WISHING THAT REFORMERS WERE A LITTLE DIFFERENT', '/content/librispeech-other/LibriSpeech/test-other/6128/63244/6128-63244-0022.flac': 'IT WAS NOT CLEAR TO THIS INTERESTING GIRL IN WHAT MANNER SUCH A SACRIFICE AS THIS LAST WOULD BE REQUIRED OF HER BUT SHE SAW THE MATTER THROUGH A KIND OF SUNRISE MIST OF EMOTION WHICH MADE DANGER AS ROSY AS SUCCESS', '/content/librispeech-other/LibriSpeech/test-other/6128/63244/6128-63244-0007.flac': 'SHE WISHED TO WORK IN ANOTHER FIELD SHE HAD LONG BEEN PREOCCUPIED WITH THE ROMANCE OF THE PEOPLE', '/content/librispeech-other/LibriSpeech/test-other/6128/63244/6128-63244-0010.flac': 'OLIVE CHANCELLOR WONDERED HOW MISSUS FARRINDER WOULD TREAT THAT BRANCH OF THE QUESTION', '/content/librispeech-other/LibriSpeech/test-other/6128/63244/6128-63244-0020.flac': 'THIS WAS THE ONLY SACRED CAUSE THIS WAS THE GREAT THE JUST REVOLUTION IT MUST TRIUMPH IT MUST SWEEP EVERYTHING BEFORE IT IT MUST EXACT FROM THE OTHER THE BRUTAL BLOOD STAINED RAVENING RACE THE LAST PARTICLE OF EXPIATION', '/content/librispeech-other/LibriSpeech/test-other/6128/63244/6128-63244-0021.flac': 'THEY WOULD BE NAMES OF WOMEN WEAK INSULTED PERSECUTED BUT DEVOTED IN EVERY PULSE OF THEIR BEING TO THE CAUSE AND ASKING NO BETTER FATE THAN TO DIE FOR IT', '/content/librispeech-other/LibriSpeech/test-other/6128/63244/6128-63244-0013.flac': 'RAISE THE STANDARD AMONG THEM AND BRING ME A THOUSAND NAMES', '/content/librispeech-other/LibriSpeech/test-other/6128/63244/6128-63244-0012.flac': 'OUR MOVEMENT IS FOR ALL IT APPEALS TO THE MOST DELICATE LADIES', '/content/librispeech-other/LibriSpeech/test-other/6128/63244/6128-63244-0016.flac': 'I WANT TO BE NEAR TO THEM TO HELP THEM', '/content/librispeech-other/LibriSpeech/test-other/6128/63244/6128-63244-0024.flac': 'OLIVE CHANCELLOR LOOKED AT HER WITH LOVE REMEMBERED THAT SHE HAD NEVER IN HER LONG UNREWARDED WEARY LIFE HAD A THOUGHT OR AN IMPULSE FOR HERSELF', '/content/librispeech-other/LibriSpeech/test-other/6128/63244/6128-63244-0018.flac': 'THE UNHAPPINESS OF WOMEN', '/content/librispeech-other/LibriSpeech/test-other/6128/63244/6128-63244-0004.flac': 'OLIVE HATED TO HEAR THAT FINE AVENUE TALKED ABOUT AS IF IT WERE SUCH A REMARKABLE PLACE AND TO LIVE THERE WERE A PROOF OF WORLDLY GLORY', '/content/librispeech-other/LibriSpeech/test-other/6128/63244/6128-63244-0017.flac': 'IT WAS ONE THING TO CHOOSE FOR HERSELF BUT NOW THE GREAT REPRESENTATIVE OF THE ENFRANCHISEMENT OF THEIR SEX FROM EVERY FORM OF BONDAGE HAD CHOSEN FOR HER', '/content/librispeech-other/LibriSpeech/test-other/6128/63244/6128-63244-0006.flac': 'SHE KNEW HER PLACE IN THE BOSTON HIERARCHY AND IT WAS NOT WHAT MISSUS FARRINDER SUPPOSED SO THAT THERE WAS A WANT OF PERSPECTIVE IN TALKING TO HER AS IF SHE HAD BEEN A REPRESENTATIVE OF THE ARISTOCRACY', '/content/librispeech-other/LibriSpeech/test-other/6128/63244/6128-63244-0005.flac': 'ALL SORTS OF INFERIOR PEOPLE LIVED THERE AND SO BRILLIANT A WOMAN AS MISSUS FARRINDER WHO LIVED AT ROXBURY OUGHT NOT TO MIX THINGS UP', '/content/librispeech-other/LibriSpeech/test-other/6128/63244/6128-63244-0025.flac': 'SHE HAD BEEN CONSUMED BY THE PASSION OF SYMPATHY IT HAD CRUMPLED HER INTO AS MANY CREASES AS AN OLD GLAZED DISTENDED GLOVE', '/content/librispeech-other/LibriSpeech/test-other/6128/63244/6128-63244-0023.flac': 'WHEN MISS BIRDSEYE APPROACHED IT TRANSFIGURED HER FAMILIAR HER COMICAL SHAPE AND MADE THE POOR LITTLE HUMANITARY HACK SEEM ALREADY A MARTYR', '/content/librispeech-other/LibriSpeech/test-other/6128/63244/6128-63244-0008.flac': 'THIS MIGHT SEEM ONE OF THE MOST ACCESSIBLE OF PLEASURES BUT IN POINT OF FACT SHE HAD NOT FOUND IT SO', '/content/librispeech-other/LibriSpeech/test-other/6128/63244/6128-63244-0000.flac': 'MISS CHANCELLOR HERSELF HAD THOUGHT SO MUCH ON THE VITAL SUBJECT WOULD NOT SHE MAKE A FEW REMARKS AND GIVE THEM SOME OF HER EXPERIENCES', '/content/librispeech-other/LibriSpeech/test-other/6128/63244/6128-63244-0015.flac': 'SAID OLIVE CHANCELLOR WITH A FACE WHICH SEEMED TO PLEAD FOR A REMISSION OF RESPONSIBILITY', '/content/librispeech-other/LibriSpeech/test-other/6128/63244/6128-63244-0011.flac': 'IF IT BE NECESSARY WE ARE PREPARED TO TAKE CERTAIN STEPS TO CONCILIATE THE SHRINKING', '/content/librispeech-other/LibriSpeech/test-other/6128/63244/6128-63244-0001.flac': 'HOW DID THE LADIES ON BEACON STREET FEEL ABOUT THE BALLOT', '/content/librispeech-other/LibriSpeech/test-other/6128/63244/6128-63244-0002.flac': 'PERHAPS SHE COULD SPEAK FOR THEM MORE THAN FOR SOME OTHERS', '/content/librispeech-other/LibriSpeech/test-other/6128/63244/6128-63244-0014.flac': 'I LOOK AFTER THE DETAILS AS WELL AS THE BIG CURRENTS MISSUS FARRINDER ADDED IN A TONE AS EXPLANATORY AS COULD BE EXPECTED OF SUCH A WOMAN AND WITH A SMILE OF WHICH THE SWEETNESS WAS THRILLING TO HER LISTENER', '/content/librispeech-other/LibriSpeech/test-other/6128/63240/6128-63240-0004.flac': 'HE WAS TALL AND LEAN AND DRESSED THROUGHOUT IN BLACK HIS SHIRT COLLAR WAS LOW AND WIDE AND THE TRIANGLE OF LINEN A LITTLE CRUMPLED EXHIBITED BY THE OPENING OF HIS WAISTCOAT WAS ADORNED BY A PIN CONTAINING A SMALL RED STONE', '/content/librispeech-other/LibriSpeech/test-other/6128/63240/6128-63240-0010.flac': 'WELL SO IT IS THEY ARE ALL WITCHES AND WIZARDS MEDIUMS AND SPIRIT RAPPERS AND ROARING RADICALS', '/content/librispeech-other/LibriSpeech/test-other/6128/63240/6128-63240-0005.flac': 'IN SPITE OF THIS DECORATION THE YOUNG MAN LOOKED POOR AS POOR AS A YOUNG MAN COULD LOOK WHO HAD SUCH A FINE HEAD AND SUCH MAGNIFICENT EYES', '/content/librispeech-other/LibriSpeech/test-other/6128/63240/6128-63240-0009.flac': 'AND HE TOOK UP HIS HAT VAGUELY A SOFT BLACK HAT WITH A LOW CROWN AND AN IMMENSE STRAIGHT BRIM', '/content/librispeech-other/LibriSpeech/test-other/6128/63240/6128-63240-0011.flac': 'IF YOU ARE GOING TO DINE WITH HER YOU HAD BETTER KNOW IT OH MURDER', '/content/librispeech-other/LibriSpeech/test-other/6128/63240/6128-63240-0015.flac': \"NO I HAVEN'T BEEN ANYWHERE\", '/content/librispeech-other/LibriSpeech/test-other/6128/63240/6128-63240-0012.flac': 'HE LOOKED AT MISSUS LUNA WITH INTELLIGENT INCREDULITY', '/content/librispeech-other/LibriSpeech/test-other/6128/63240/6128-63240-0026.flac': \"I SHALL BE BACK VERY LATE WE ARE GOING TO A THEATRE PARTY THAT'S WHY WE DINE SO EARLY\", '/content/librispeech-other/LibriSpeech/test-other/6128/63240/6128-63240-0027.flac': \"MISSUS LUNA'S FAMILIARITY EXTENDED EVEN TO HER SISTER SHE REMARKED TO MISS CHANCELLOR THAT SHE LOOKED AS IF SHE WERE GOT UP FOR A SEA VOYAGE\", '/content/librispeech-other/LibriSpeech/test-other/6128/63240/6128-63240-0020.flac': \"ONE DIDN'T EVEN KNOW WHAT ONE HAD COME BACK FOR\", '/content/librispeech-other/LibriSpeech/test-other/6128/63240/6128-63240-0014.flac': 'HAVE YOU BEEN IN EUROPE', '/content/librispeech-other/LibriSpeech/test-other/6128/63240/6128-63240-0001.flac': 'THAT HAS AN UNFLATTERING SOUND FOR ME SAID THE YOUNG MAN', '/content/librispeech-other/LibriSpeech/test-other/6128/63240/6128-63240-0016.flac': 'SHE HATES IT SHE WOULD LIKE TO ABOLISH IT', '/content/librispeech-other/LibriSpeech/test-other/6128/63240/6128-63240-0017.flac': 'THIS LAST REMARK HE MADE AT A VENTURE FOR HE HAD NATURALLY NOT DEVOTED ANY SUPPOSITION WHATEVER TO MISSUS LUNA', '/content/librispeech-other/LibriSpeech/test-other/6128/63240/6128-63240-0019.flac': \"AND MISSUS LUNA ADDED THAT NOW SHE WAS BACK SHE DIDN'T KNOW WHAT SHE SHOULD DO\", '/content/librispeech-other/LibriSpeech/test-other/6128/63240/6128-63240-0006.flac': 'THOSE OF BASIL RANSOM WERE DARK DEEP AND GLOWING HIS HEAD HAD A CHARACTER OF ELEVATION WHICH FAIRLY ADDED TO HIS STATURE IT WAS A HEAD TO BE SEEN ABOVE THE LEVEL OF A CROWD ON SOME JUDICIAL BENCH OR POLITICAL PLATFORM OR EVEN ON A BRONZE MEDAL', '/content/librispeech-other/LibriSpeech/test-other/6128/63240/6128-63240-0022.flac': 'THAT WAS ONE COMFORT WITH OLIVE SHE NEVER WENT THROUGH ANY FORMS', '/content/librispeech-other/LibriSpeech/test-other/6128/63240/6128-63240-0025.flac': \"HE OBSERVED THAT MISS CHANCELLOR'S HAND WAS AT ONCE COLD AND LIMP SHE MERELY PLACED IT IN HIS WITHOUT EXERTING THE SMALLEST PRESSURE\", '/content/librispeech-other/LibriSpeech/test-other/6128/63240/6128-63240-0021.flac': \"BESIDES OLIVE DIDN'T WANT HER IN BOSTON AND DIDN'T GO THROUGH THE FORM OF SAYING SO\", '/content/librispeech-other/LibriSpeech/test-other/6128/63240/6128-63240-0007.flac': 'THESE THINGS THE EYES ESPECIALLY WITH THEIR SMOULDERING FIRE MIGHT HAVE INDICATED THAT HE WAS TO BE A GREAT AMERICAN STATESMAN OR ON THE OTHER HAND THEY MIGHT SIMPLY HAVE PROVED THAT HE CAME FROM CAROLINA OR ALABAMA', '/content/librispeech-other/LibriSpeech/test-other/6128/63240/6128-63240-0018.flac': 'ARE YOU VERY AMBITIOUS YOU LOOK AS IF YOU WERE', '/content/librispeech-other/LibriSpeech/test-other/6128/63240/6128-63240-0023.flac': 'SHE STOOD THERE LOOKING CONSCIOUSLY AND RATHER SERIOUSLY AT MISTER RANSOM A SMILE OF EXCEEDING FAINTNESS PLAYED ABOUT HER LIPS IT WAS JUST PERCEPTIBLE ENOUGH TO LIGHT UP THE NATIVE GRAVITY OF HER FACE', '/content/librispeech-other/LibriSpeech/test-other/6128/63240/6128-63240-0003.flac': 'JUST AS I AM THE VISITOR INQUIRED PRESENTING HIMSELF WITH RATHER A WORK A DAY ASPECT', '/content/librispeech-other/LibriSpeech/test-other/6128/63240/6128-63240-0002.flac': 'SHE IS WILLING TO RISK THAT', '/content/librispeech-other/LibriSpeech/test-other/6128/63240/6128-63240-0008.flac': 'AND YET THE READER WHO LIKES A COMPLETE IMAGE WHO DESIRES TO READ WITH THE SENSES AS WELL AS WITH THE REASON IS ENTREATED NOT TO FORGET THAT HE PROLONGED HIS CONSONANTS AND SWALLOWED HIS VOWELS THAT HE WAS GUILTY OF ELISIONS AND INTERPOLATIONS WHICH WERE EQUALLY UNEXPECTED AND THAT HIS DISCOURSE WAS PERVADED BY SOMETHING SULTRY AND VAST SOMETHING ALMOST AFRICAN IN ITS RICH BASKING TONE SOMETHING THAT SUGGESTED THE TEEMING EXPANSE OF THE COTTON FIELD', '/content/librispeech-other/LibriSpeech/test-other/6128/63240/6128-63240-0000.flac': 'THE GENTLEMAN HAD NOT EVEN NEEDED TO SIT DOWN TO BECOME INTERESTED APPARENTLY HE HAD TAKEN UP THE VOLUME FROM A TABLE AS SOON AS HE CAME IN AND STANDING THERE AFTER A SINGLE GLANCE ROUND THE APARTMENT HAD LOST HIMSELF IN ITS PAGES', '/content/librispeech-other/LibriSpeech/test-other/6128/63240/6128-63240-0013.flac': 'SHE WAS ATTRACTIVE AND IMPERTINENT ESPECIALLY THE LATTER', '/content/librispeech-other/LibriSpeech/test-other/6128/63240/6128-63240-0024.flac': \"HER VOICE WAS LOW AND AGREEABLE A CULTIVATED VOICE AND SHE EXTENDED A SLENDER WHITE HAND TO HER VISITOR WHO REMARKED WITH SOME SOLEMNITY HE FELT A CERTAIN GUILT OF PARTICIPATION IN MISSUS LUNA'S INDISCRETION THAT HE WAS INTENSELY HAPPY TO MAKE HER ACQUAINTANCE\", '/content/librispeech-other/LibriSpeech/test-other/3538/142836/3538-142836-0020.flac': 'THE THOUSAND AND ONE ORNAMENTAL DISHES THAT ADORN THE TABLES OF THE WEALTHY SHOULD BE PURCHASED FROM THE CONFECTIONER THEY CANNOT PROFITABLY BE MADE AT HOME', '/content/librispeech-other/LibriSpeech/test-other/3538/142836/3538-142836-0014.flac': 'MARMALADES JAMS AND FRUIT PASTES ARE OF THE SAME NATURE AND ARE NOW IN VERY GENERAL REQUEST', '/content/librispeech-other/LibriSpeech/test-other/3538/142836/3538-142836-0009.flac': 'BOIL THEM UP THREE DAYS SUCCESSIVELY SKIMMING EACH TIME AND THEY WILL THEN BE FINISHED AND IN A STATE FIT TO BE PUT INTO POTS FOR USE', '/content/librispeech-other/LibriSpeech/test-other/3538/142836/3538-142836-0013.flac': 'IN THIS WAY IT IS ALSO THAT ORANGE AND LEMON CHIPS ARE PRESERVED', '/content/librispeech-other/LibriSpeech/test-other/3538/142836/3538-142836-0004.flac': 'IF YOU DIP THE FINGER INTO THE SYRUP AND APPLY IT TO THE THUMB THE TENACITY OF THE SYRUP WILL ON SEPARATING THE FINGER AND THUMB AFFORD A THREAD WHICH SHORTLY BREAKS THIS IS THE LITTLE THREAD', '/content/librispeech-other/LibriSpeech/test-other/3538/142836/3538-142836-0015.flac': 'MARMALADES AND JAMS DIFFER LITTLE FROM EACH OTHER THEY ARE PRESERVES OF A HALF LIQUID CONSISTENCY MADE BY BOILING THE PULP OF FRUITS AND SOMETIMES PART OF THE RINDS WITH SUGAR', '/content/librispeech-other/LibriSpeech/test-other/3538/142836/3538-142836-0002.flac': 'FRUIT GATHERED IN WET OR FOGGY WEATHER WILL SOON BE MILDEWED AND BE OF NO SERVICE FOR PRESERVES', '/content/librispeech-other/LibriSpeech/test-other/3538/142836/3538-142836-0012.flac': 'THEY SHOULD BE DRIED IN THE STOVE OR OVEN ON A SIEVE AND TURNED EVERY SIX OR EIGHT HOURS FRESH POWDERED SUGAR BEING SIFTED OVER THEM EVERY TIME THEY ARE TURNED', '/content/librispeech-other/LibriSpeech/test-other/3538/142836/3538-142836-0026.flac': 'THEY SHOULD BE TAKEN IMMEDIATELY AFTER THE REPAST OR SOME HOURS AFTER BECAUSE THE TAKING THESE SUBSTANCES DURING THE PROCESS OF DIGESTION IS APT TO PROVOKE INDISPOSITION', '/content/librispeech-other/LibriSpeech/test-other/3538/142836/3538-142836-0017.flac': 'IN ALL THE OPERATIONS FOR PRESERVE MAKING WHEN THE PRESERVING PAN IS USED IT SHOULD NOT BE PLACED ON THE FIRE BUT ON A TRIVET UNLESS THE JAM IS MADE ON A HOT PLATE WHEN THIS IS NOT NECESSARY', '/content/librispeech-other/LibriSpeech/test-other/3538/142836/3538-142836-0000.flac': 'GENERAL OBSERVATIONS ON PRESERVES CONFECTIONARY ICES AND DESSERT DISHES', '/content/librispeech-other/LibriSpeech/test-other/3538/142836/3538-142836-0006.flac': 'IT IS CONSIDERED TO BE SUFFICIENTLY BOILED WHEN SOME TAKEN UP IN A SPOON POURS OUT LIKE OIL', '/content/librispeech-other/LibriSpeech/test-other/3538/142836/3538-142836-0018.flac': 'CONFECTIONARY FIFTEEN O EIGHT', '/content/librispeech-other/LibriSpeech/test-other/3538/142836/3538-142836-0023.flac': 'ICES', '/content/librispeech-other/LibriSpeech/test-other/3538/142836/3538-142836-0011.flac': 'FROM THIS EXAMPLE THE PROCESS OF PRESERVING FRUITS BY SYRUP WILL BE EASILY COMPREHENDED', '/content/librispeech-other/LibriSpeech/test-other/3538/142836/3538-142836-0010.flac': 'THE REASON WHY THE FRUIT IS EMPTIED OUT OF THE PRESERVING PAN INTO AN EARTHEN PAN IS THAT THE ACID OF THE FRUIT ACTS UPON THE COPPER OF WHICH THE PRESERVING PANS ARE USUALLY MADE', '/content/librispeech-other/LibriSpeech/test-other/3538/142836/3538-142836-0021.flac': 'HOWEVER AS LATE AS THE REIGNS OF OUR TWO LAST GEORGES FABULOUS SUMS WERE OFTEN EXPENDED UPON FANCIFUL DESSERTS', '/content/librispeech-other/LibriSpeech/test-other/3538/142836/3538-142836-0001.flac': 'THE EXPENSE OF PRESERVING THEM WITH SUGAR IS A SERIOUS OBJECTION FOR EXCEPT THE SUGAR IS USED IN CONSIDERABLE QUANTITIES THE SUCCESS IS VERY UNCERTAIN', '/content/librispeech-other/LibriSpeech/test-other/3538/142836/3538-142836-0005.flac': 'LET IT BOIL UP AGAIN THEN TAKE IT OFF AND REMOVE CAREFULLY THE SCUM THAT HAS RISEN', '/content/librispeech-other/LibriSpeech/test-other/3538/142836/3538-142836-0022.flac': 'THE SHAPE OF THE DISHES VARIES AT DIFFERENT PERIODS THE PREVAILING FASHION AT PRESENT BEING OVAL AND CIRCULAR DISHES ON STEMS', '/content/librispeech-other/LibriSpeech/test-other/3538/142836/3538-142836-0024.flac': 'AT DESSERTS OR AT SOME EVENING PARTIES ICES ARE SCARCELY TO BE DISPENSED WITH', '/content/librispeech-other/LibriSpeech/test-other/3538/142836/3538-142836-0003.flac': 'BUT TO DISTINGUISH THESE PROPERLY REQUIRES VERY GREAT ATTENTION AND CONSIDERABLE EXPERIENCE', '/content/librispeech-other/LibriSpeech/test-other/3538/142836/3538-142836-0016.flac': 'THAT THEY MAY KEEP IT IS NECESSARY NOT TO BE SPARING OF SUGAR FIFTEEN O THREE', '/content/librispeech-other/LibriSpeech/test-other/3538/142836/3538-142836-0008.flac': 'FOURTEEN NINETY NINE', '/content/librispeech-other/LibriSpeech/test-other/3538/142836/3538-142836-0007.flac': 'BEFORE SUGAR WAS IN USE HONEY WAS EMPLOYED TO PRESERVE MANY VEGETABLE PRODUCTIONS THOUGH THIS SUBSTANCE HAS NOW GIVEN WAY TO THE JUICE OF THE SUGAR CANE', '/content/librispeech-other/LibriSpeech/test-other/3538/142836/3538-142836-0019.flac': 'IN SPEAKING OF CONFECTIONARY IT SHOULD BE REMARKED THAT ALL THE VARIOUS PREPARATIONS ABOVE NAMED COME STRICTLY SPEAKING UNDER THAT HEAD FOR THE VARIOUS FRUITS FLOWERS HERBS ROOTS AND JUICES WHICH WHEN BOILED WITH SUGAR WERE FORMERLY EMPLOYED IN PHARMACY AS WELL AS FOR SWEETMEATS WERE CALLED CONFECTIONS FROM THE LATIN WORD CONFICERE TO MAKE UP BUT THE TERM CONFECTIONARY EMBRACES A VERY LARGE CLASS INDEED OF SWEET FOOD MANY KINDS OF WHICH SHOULD NOT BE ATTEMPTED IN THE ORDINARY CUISINE', '/content/librispeech-other/LibriSpeech/test-other/3538/142836/3538-142836-0025.flac': 'THE SPADDLE IS GENERALLY MADE OF COPPER KEPT BRIGHT AND CLEAN', '/content/librispeech-other/LibriSpeech/test-other/3538/163622/3538-163622-0016.flac': 'YES NOW I SEE SOMETHING THAT IS WHITE SAID CINDERLAD', '/content/librispeech-other/LibriSpeech/test-other/3538/163622/3538-163622-0021.flac': 'AND NOW INQUIRED THE FOAL SEEST THOU NOTHING NOW', '/content/librispeech-other/LibriSpeech/test-other/3538/163622/3538-163622-0001.flac': 'THE YOUTH THOUGHT THAT IT WAS VERY EASY WORK TO WATCH THE FOALS AND THAT HE COULD DO IT WELL ENOUGH', '/content/librispeech-other/LibriSpeech/test-other/3538/163622/3538-163622-0018.flac': 'CINDERLAD TRIED BUT COULD NOT DO IT SO HE HAD TO TAKE A DRAUGHT FROM THE PITCHER AND THEN ONE MORE AND AFTER THAT STILL ANOTHER AND THEN HE WAS ABLE TO WIELD THE SWORD WITH PERFECT EASE', '/content/librispeech-other/LibriSpeech/test-other/3538/163622/3538-163622-0002.flac': 'HAST THOU WATCHED FAITHFULLY AND WELL THE WHOLE DAY LONG SAID THE KING WHEN THE LAD CAME INTO HIS PRESENCE IN THE EVENING', '/content/librispeech-other/LibriSpeech/test-other/3538/163622/3538-163622-0014.flac': 'AND THUS THEY JOURNEYED ONWARDS A LONG LONG WAY', '/content/librispeech-other/LibriSpeech/test-other/3538/163622/3538-163622-0006.flac': 'WHEN HE HAD RUN AFTER THE FOALS FOR A LONG LONG TIME AND WAS HOT AND TIRED HE PASSED BY A CLEFT IN THE ROCK WHERE AN OLD WOMAN WAS SITTING SPINNING WITH A DISTAFF AND SHE CALLED TO HIM', '/content/librispeech-other/LibriSpeech/test-other/3538/163622/3538-163622-0013.flac': 'I WOULD MUCH RATHER HAVE THE PRINCESS SAID CINDERLAD', '/content/librispeech-other/LibriSpeech/test-other/3538/163622/3538-163622-0017.flac': 'IT LOOKS LIKE THE TRUNK OF A GREAT THICK BIRCH TREE', '/content/librispeech-other/LibriSpeech/test-other/3538/163622/3538-163622-0024.flac': 'I HAVE DONE MY BEST REPLIED CINDERLAD', '/content/librispeech-other/LibriSpeech/test-other/3538/163622/3538-163622-0010.flac': 'ON THE THIRD DAY CINDERLAD WANTED TO SET OUT', '/content/librispeech-other/LibriSpeech/test-other/3538/163622/3538-163622-0015.flac': 'WHEN THEY HAD GONE THUS FOR A LONG LONG WAY THE FOAL AGAIN ASKED DOST THOU SEE ANYTHING NOW', '/content/librispeech-other/LibriSpeech/test-other/3538/163622/3538-163622-0000.flac': 'WILT THOU SERVE ME AND WATCH MY SEVEN FOALS ASKED THE KING', '/content/librispeech-other/LibriSpeech/test-other/3538/163622/3538-163622-0007.flac': 'COME HITHER COME HITHER MY HANDSOME SON AND LET ME COMB YOUR HAIR', '/content/librispeech-other/LibriSpeech/test-other/3538/163622/3538-163622-0020.flac': 'WHEN THEY HAD TRAVELLED A LONG LONG WAY THE FOAL SAID DOST THOU SEE ANYTHING', '/content/librispeech-other/LibriSpeech/test-other/3538/163622/3538-163622-0004.flac': 'HE HAD GONE OUT ONCE TO SEEK A PLACE HE SAID BUT NEVER WOULD HE DO SUCH A THING AGAIN', '/content/librispeech-other/LibriSpeech/test-other/3538/163622/3538-163622-0003.flac': 'YES THAT I HAVE SAID THE YOUTH', '/content/librispeech-other/LibriSpeech/test-other/3538/163622/3538-163622-0011.flac': 'THE TWO BROTHERS LAUGHED AT HIM AND HIS FATHER AND MOTHER BEGGED HIM NOT TO GO BUT ALL TO NO PURPOSE AND CINDERLAD SET OUT ON HIS WAY', '/content/librispeech-other/LibriSpeech/test-other/3538/163622/3538-163622-0022.flac': 'NOW THEN SAID THE FOAL DOST THOU NOT SEE ANYTHING NOW', '/content/librispeech-other/LibriSpeech/test-other/3538/163622/3538-163622-0005.flac': 'THEN THE KING PROMISED HIM THE SAME PUNISHMENT AND THE SAME REWARD THAT HE HAD PROMISED HIS BROTHER', '/content/librispeech-other/LibriSpeech/test-other/3538/163622/3538-163622-0012.flac': 'I AM WALKING ABOUT IN SEARCH OF A PLACE SAID CINDERLAD', '/content/librispeech-other/LibriSpeech/test-other/3538/163622/3538-163622-0019.flac': 'FOR WE ARE BROTHERS OF THE PRINCESS WHOM THOU ART TO HAVE WHEN THOU CANST TELL THE KING WHAT WE EAT AND DRINK BUT THERE IS A MIGHTY TROLL WHO HAS CAST A SPELL OVER US', '/content/librispeech-other/LibriSpeech/test-other/3538/163622/3538-163622-0023.flac': 'THAT IS A RIVER SAID THE FOAL AND WE HAVE TO CROSS IT', '/content/librispeech-other/LibriSpeech/test-other/3538/163622/3538-163622-0008.flac': 'THE YOUTH LIKED THE THOUGHT OF THIS LET THE FOALS RUN WHERE THEY CHOSE AND SEATED HIMSELF IN THE CLEFT OF THE ROCK BY THE SIDE OF THE OLD HAG', '/content/librispeech-other/LibriSpeech/test-other/3538/163622/3538-163622-0009.flac': 'SO THERE HE SAT WITH HIS HEAD ON HER LAP TAKING HIS EASE THE LIVELONG DAY', '/content/librispeech-other/LibriSpeech/test-other/3538/163624/3538-163624-0024.flac': \"FOR ONE DAY WHEN BRYNHILD AND GUDRUN WERE BATHING BRYNHILD WADED FARTHEST OUT INTO THE RIVER AND SAID SHE DID THAT TO SHOW SHE WAS GUIRUN'S SUPERIOR\", '/content/librispeech-other/LibriSpeech/test-other/3538/163624/3538-163624-0001.flac': 'THE OLD KING WENT OUT AND FOUGHT BRAVELY BUT AT LAST HIS SWORD BROKE AND HE WAS WOUNDED AND HIS MEN FLED', '/content/librispeech-other/LibriSpeech/test-other/3538/163624/3538-163624-0012.flac': 'BUT SIGURD WAITED TILL HALF OF HIM HAD CRAWLED OVER THE PIT AND THEN HE THRUST THE SWORD GRAM RIGHT INTO HIS VERY HEART', '/content/librispeech-other/LibriSpeech/test-other/3538/163624/3538-163624-0007.flac': 'ONLY ONE RING WAS LEFT WHICH THE DWARF WORE AND EVEN THAT WAS TAKEN FROM HIM', '/content/librispeech-other/LibriSpeech/test-other/3538/163624/3538-163624-0016.flac': \"THEN SIGURD RODE BACK AND MET REGIN AND REGIN ASKED HIM TO ROAST FAFNIR'S HEART AND LET HIM TASTE OF IT\", '/content/librispeech-other/LibriSpeech/test-other/3538/163624/3538-163624-0005.flac': 'HE IS NO BIGGER THAN OTHER DRAGONS SAID THE TUTOR AND IF YOU WERE AS BRAVE AS YOUR FATHER YOU WOULD NOT FEAR HIM', '/content/librispeech-other/LibriSpeech/test-other/3538/163624/3538-163624-0003.flac': 'SO HE ASKED THE QUEEN HOW DO YOU KNOW IN THE DARK OF NIGHT WHETHER THE HOURS ARE WEARING TO THE MORNING AND SHE SAID', '/content/librispeech-other/LibriSpeech/test-other/3538/163624/3538-163624-0015.flac': 'DIE THOU FAFNIR AND THEN FAFNIR DIED', '/content/librispeech-other/LibriSpeech/test-other/3538/163624/3538-163624-0014.flac': 'BUT ALL MEN DIE AND NO BRAVE MAN LETS DEATH FRIGHTEN HIM FROM HIS DESIRE', '/content/librispeech-other/LibriSpeech/test-other/3538/163624/3538-163624-0004.flac': 'THEN THE OLD MAN SAID DRIVE ALL THE HORSES INTO THE RIVER AND CHOOSE THE ONE THAT SWIMS ACROSS', '/content/librispeech-other/LibriSpeech/test-other/3538/163624/3538-163624-0025.flac': 'FOR HER HUSBAND SHE SAID HAD RIDDEN THROUGH THE FLAME WHEN NO OTHER MAN DARED FACE IT', '/content/librispeech-other/LibriSpeech/test-other/3538/163624/3538-163624-0010.flac': 'SO SIGURD SAID THAT SWORD WOULD DO', '/content/librispeech-other/LibriSpeech/test-other/3538/163624/3538-163624-0000.flac': 'ONCE UPON A TIME THERE WAS A KING IN THE NORTH WHO HAD WON MANY WARS BUT NOW HE WAS OLD', '/content/librispeech-other/LibriSpeech/test-other/3538/163624/3538-163624-0002.flac': 'BUT IN THE NIGHT WHEN THE BATTLE WAS OVER HIS YOUNG WIFE CAME OUT AND SEARCHED FOR HIM AMONG THE SLAIN AND AT LAST SHE FOUND HIM AND ASKED WHETHER HE MIGHT BE HEALED', '/content/librispeech-other/LibriSpeech/test-other/3538/163624/3538-163624-0022.flac': 'THEN SIGURD RODE AWAY AND HE CAME TO THE HOUSE OF A KING WHO HAD A FAIR DAUGHTER', '/content/librispeech-other/LibriSpeech/test-other/3538/163624/3538-163624-0018.flac': \"THERE IS SIGURD ROASTING FAFNIR'S HEART FOR ANOTHER WHEN HE SHOULD TASTE OF IT HIMSELF AND LEARN ALL WISDOM\", '/content/librispeech-other/LibriSpeech/test-other/3538/163624/3538-163624-0021.flac': 'THEN HE TOOK THE HELMET OFF THE HEAD OF THE SLEEPER AND BEHOLD SHE WAS A MOST BEAUTIFUL LADY', '/content/librispeech-other/LibriSpeech/test-other/3538/163624/3538-163624-0011.flac': 'THEN HE SAW THE TRACK WHICH THE DRAGON MADE WHEN HE WENT TO A CLIFF TO DRINK AND THE TRACK WAS AS IF A GREAT RIVER HAD ROLLED ALONG AND LEFT A DEEP VALLEY', '/content/librispeech-other/LibriSpeech/test-other/3538/163624/3538-163624-0017.flac': 'SO SIGURD PUT THE HEART OF FAFNIR ON A STAKE AND ROASTED IT', '/content/librispeech-other/LibriSpeech/test-other/3538/163624/3538-163624-0020.flac': 'THERE MUST SHE SLEEP TILL THOU COMEST FOR HER WAKING RISE UP AND RIDE FOR NOW SURE SHE WILL SWEAR THE VOW FEARLESS OF BREAKING', '/content/librispeech-other/LibriSpeech/test-other/3538/163624/3538-163624-0008.flac': 'SO REGIN MADE A SWORD AND SIGURD TRIED IT WITH A BLOW ON A LUMP OF IRON AND THE SWORD BROKE', '/content/librispeech-other/LibriSpeech/test-other/3538/163624/3538-163624-0023.flac': \"THEN BRYNHILD'S FATHER TOLD GUNNAR THAT SHE WOULD MARRY NONE BUT HIM WHO COULD RIDE THE FLAME IN FRONT OF HER ENCHANTED TOWER AND THITHER THEY RODE AND GUNNAR SET HIS HORSE AT THE FLAME BUT HE WOULD NOT FACE IT\", '/content/librispeech-other/LibriSpeech/test-other/3538/163624/3538-163624-0006.flac': 'THEN THE PERSON WHO HAD KILLED OTTER WENT DOWN AND CAUGHT THE DWARF WHO OWNED ALL THE TREASURE AND TOOK IT FROM HIM', '/content/librispeech-other/LibriSpeech/test-other/3538/163624/3538-163624-0026.flac': 'NOT LONG TO WAIT HE SAID TILL THE BITTER SWORD STANDS FAST IN MY HEART AND THOU WILL NOT LIVE LONG WHEN I AM DEAD', '/content/librispeech-other/LibriSpeech/test-other/3538/163624/3538-163624-0013.flac': 'SIGURD SAID I WOULD TOUCH NONE OF IT IF BY LOSING IT I SHOULD NEVER DIE', '/content/librispeech-other/LibriSpeech/test-other/3538/163624/3538-163624-0019.flac': 'THAT LET HIM DO AND THEN RIDE OVER HINDFELL TO THE PLACE WHERE BRYNHILD SLEEPS', '/content/librispeech-other/LibriSpeech/test-other/3538/163624/3538-163624-0009.flac': \"THEN SIGURD WENT TO HIS MOTHER AND ASKED FOR THE BROKEN PIECES OF HIS FATHER'S BLADE AND GAVE THEM TO REGIN\", '/content/librispeech-other/LibriSpeech/test-other/3538/163619/3538-163619-0009.flac': 'ON THE FIRST THURSDAY NIGHT AFTER THIS A BEAUTIFUL MAIDEN CAME INTO THE KITCHEN OF THE PALACE AND BEGGED THE KITCHEN MAID WHO SLEPT THERE TO LEND HER A BRUSH', '/content/librispeech-other/LibriSpeech/test-other/3538/163619/3538-163619-0004.flac': 'WHEN THE KING ENTERED AND SAW IT HE STOOD STILL AS IF HE WERE IN FETTERS AND COULD NOT STIR FROM THE SPOT FOR THE PICTURE SEEMED TO HIM SO BEAUTIFUL', '/content/librispeech-other/LibriSpeech/test-other/3538/163619/3538-163619-0000.flac': 'THERE WAS ONCE ON A TIME A WIDOWER WHO HAD A SON AND A DAUGHTER BY HIS FIRST WIFE', '/content/librispeech-other/LibriSpeech/test-other/3538/163619/3538-163619-0013.flac': 'THIS TIME ALSO AS BEFORE SHE BORROWED A BRUSH AND BRUSHED HER HAIR WITH IT AND THE GOLD DROPPED DOWN AS SHE DID IT AND AGAIN SHE SENT THE DOG OUT THREE TIMES AND WHEN DAY DAWNED SHE DEPARTED BUT AS SHE WAS GOING SHE SAID AS SHE HAD SAID BEFORE I SHALL COME ONCE MORE AND THEN NEVER AGAIN', '/content/librispeech-other/LibriSpeech/test-other/3538/163619/3538-163619-0001.flac': \"FROM THE VERY DAY THAT THE NEW WIFE CAME INTO THE HOUSE THERE WAS NO PEACE FOR THE MAN'S CHILDREN AND NOT A CORNER TO BE FOUND WHERE THEY COULD GET ANY REST SO THE BOY THOUGHT THAT THE BEST THING HE COULD DO WAS TO GO OUT INTO THE WORLD AND TRY TO EARN HIS OWN BREAD\", '/content/librispeech-other/LibriSpeech/test-other/3538/163619/3538-163619-0002.flac': 'BUT HIS SISTER WHO WAS STILL AT HOME FARED WORSE AND WORSE', '/content/librispeech-other/LibriSpeech/test-other/3538/163619/3538-163619-0014.flac': 'NO ONE CAN TELL HOW DELIGHTED THE KING WAS TO GET RID OF THAT HIDEOUS BUSHY BRIDE AND GET A QUEEN WHO WAS BRIGHT AND BEAUTIFUL AS DAY ITSELF', '/content/librispeech-other/LibriSpeech/test-other/3538/163619/3538-163619-0012.flac': 'I SHALL COME TWICE MORE AND THEN NEVER AGAIN SAID SHE', '/content/librispeech-other/LibriSpeech/test-other/3538/163619/3538-163619-0011.flac': \"OUT ON THEE UGLY BUSHY BRIDE SLEEPING SO SOFT BY THE YOUNG KING'S SIDE ON SAND AND STONES MY BED I MAKE AND MY BROTHER SLEEPS WITH THE COLD SNAKE UNPITIED AND UNWEPT\", '/content/librispeech-other/LibriSpeech/test-other/3538/163619/3538-163619-0010.flac': 'SHE BEGGED VERY PRETTILY AND GOT IT AND THEN SHE BRUSHED HER HAIR AND THE GOLD DROPPED FROM IT', '/content/librispeech-other/LibriSpeech/test-other/3538/163619/3538-163619-0006.flac': 'AT LAST THEY CAME IN SIGHT OF LAND', '/content/librispeech-other/LibriSpeech/test-other/3538/163619/3538-163619-0007.flac': \"WELL IF MY BROTHER SAYS SO I MUST DO IT SAID THE MAN'S DAUGHTER AND SHE FLUNG HER CASKET INTO THE SEA\", '/content/librispeech-other/LibriSpeech/test-other/3538/163619/3538-163619-0008.flac': 'WHAT IS MY BROTHER SAYING ASKED HIS SISTER AGAIN', '/content/librispeech-other/LibriSpeech/test-other/3538/163619/3538-163619-0005.flac': \"THE YOUTH PROMISED TO MAKE ALL THE HASTE HE COULD AND SET FORTH FROM THE KING'S PALACE\", '/content/librispeech-other/LibriSpeech/test-other/3538/163619/3538-163619-0003.flac': 'KISS ME GIRL SAID THE HEAD', '/content/librispeech-other/LibriSpeech/test-other/5484/24317/5484-24317-0024.flac': 'HE WINKED AT HER AND MADE A SIGNIFICANT GESTURE AS HE SPOKE AND THEN INFORMED THE BLIND ARTIST HOW GRACIOUSLY ARSINOE HAD REMEMBERED HIM WHEN SHE HEARD OF THE REMEDY BY WHOSE AID MANY A WONDERFUL CURE OF BLIND EYES HAD BEEN MADE IN RHODES', '/content/librispeech-other/LibriSpeech/test-other/5484/24317/5484-24317-0021.flac': 'HOW LONG HE KEPT YOU WAITING FOR THE FIRST WORD CONCERNING A WORK WHICH JUSTLY TRANSPORTED THE WHOLE CITY WITH DELIGHT', '/content/librispeech-other/LibriSpeech/test-other/5484/24317/5484-24317-0029.flac': 'A WOMAN WHO YEARNS FOR THE REGARD OF ALL MEN AND MAKES LOVE A TOY EASILY LESSENS THE DEMANDS SHE IMPOSES UPON INDIVIDUALS', '/content/librispeech-other/LibriSpeech/test-other/5484/24317/5484-24317-0019.flac': 'LET US HOPE THAT YOU WILL MAKE THIS THREE LEAVED CLOVER THE LUCK PROMISING FOUR LEAVED ONE', '/content/librispeech-other/LibriSpeech/test-other/5484/24317/5484-24317-0011.flac': \"THE PLACE BY HERMON'S SIDE WHICH ALTHEA HAD CHOSEN FOR HERSELF WOULD THEN BE GIVEN UP TO ARSINOE\", '/content/librispeech-other/LibriSpeech/test-other/5484/24317/5484-24317-0010.flac': 'WHEN HERMON ENTERED THE RESIDENCE OF THE GRAMMATEUS IN THE PALACE THE GUESTS HAD ALREADY ASSEMBLED', '/content/librispeech-other/LibriSpeech/test-other/5484/24317/5484-24317-0006.flac': 'SINCE HIS RETURN FROM THE ORACLE THE FEAR THAT THE RESCUED DEMETER MIGHT YET BE THE WORK OF MYRTILUS HAD AGAIN MASTERED HIM', '/content/librispeech-other/LibriSpeech/test-other/5484/24317/5484-24317-0027.flac': \"THE RHODIAN WAS JUST BEGINNING TO PRAISE ARSINOE ALSO AS A SPECIAL FRIEND AND CONNOISSEUR OF THE SCULPTOR'S ART WHEN CRATES HERMON'S FELLOW STUDENT ASKED THE BLIND ARTIST IN BEHALF OF HIS BEAUTIFUL COMPANION WHY HIS DEMETER WAS PLACED UPON A PEDESTAL WHICH TO OTHERS AS WELL AS HIMSELF SEEMED TOO HIGH FOR THE SIZE OF THE STATUE\", '/content/librispeech-other/LibriSpeech/test-other/5484/24317/5484-24317-0023.flac': 'THAT IS GOING TOO FAR REPLIED HERMON', '/content/librispeech-other/LibriSpeech/test-other/5484/24317/5484-24317-0028.flac': 'YET WHAT MATTERED IT EVEN IF THESE MISERABLE PEOPLE CONSIDERED THEMSELVES DECEIVED AND POINTED THE FINGER OF SCORN AT HIM', '/content/librispeech-other/LibriSpeech/test-other/5484/24317/5484-24317-0004.flac': 'THE BANQUET WAS TO BEGIN IN A FEW HOURS YET HE COULD NOT LET THE DAY PASS WITHOUT SEEING DAPHNE AND TELLING HER THE WORDS OF THE ORACLE', '/content/librispeech-other/LibriSpeech/test-other/5484/24317/5484-24317-0001.flac': 'BUT HERMON WAS NOT IN THE MOOD TO SHARE A JOYOUS REVEL AND HE FRANKLY SAID SO ALTHOUGH IMMEDIATELY AFTER HIS RETURN HE HAD ACCEPTED THE INVITATION TO THE FESTIVAL WHICH THE WHOLE FELLOWSHIP OF ARTISTS WOULD GIVE THE FOLLOWING DAY IN HONOUR OF THE SEVENTIETH BIRTHDAY OF THE OLD SCULPTOR EUPHRANOR', '/content/librispeech-other/LibriSpeech/test-other/5484/24317/5484-24317-0025.flac': 'THE ROYAL LADY HAD INQUIRED ABOUT HIM AND HIS SUFFERINGS WITH ALMOST SISTERLY INTEREST AND ALTHEA EAGERLY CONFIRMED THE STATEMENT', '/content/librispeech-other/LibriSpeech/test-other/5484/24317/5484-24317-0030.flac': \"ONLY EVEN THOUGH LOVE HAS WHOLLY DISAPPEARED SHE STILL CLAIMS CONSIDERATION AND ALTHEA DID NOT WISH TO LOSE HERMON'S REGARD\", '/content/librispeech-other/LibriSpeech/test-other/5484/24317/5484-24317-0013.flac': 'A STRANGER OUT OF HIS OWN SPHERE HE FELT CHILLED AMONG THESE CLOSELY UNITED MEN AND WOMEN TO WHOM NO TIE BOUND HIM SAVE THE PRESENCE OF THE SAME HOST', '/content/librispeech-other/LibriSpeech/test-other/5484/24317/5484-24317-0000.flac': 'WHEN HE CAME FROM THE BATH PROCLUS VISITED HIM AGAIN', '/content/librispeech-other/LibriSpeech/test-other/5484/24317/5484-24317-0017.flac': \"WE WOMEN ARE ONLY AS OLD AS WE LOOK AND THE LEECHES AND TIRING WOMEN OF THIS BEAUTY OF FORTY PRACTISE ARTS WHICH GIVE HER THE APPEARANCE OF TWENTY FIVE YET PERHAPS THE KING VALUES HER INTELLECT MORE THAN HER PERSON AND THE WISDOM OF A HUNDRED SERPENTS IS CERTAINLY UNITED IN THIS WOMAN'S HEAD\", '/content/librispeech-other/LibriSpeech/test-other/5484/24317/5484-24317-0015.flac': \"HIS SON HAD BEEN THIS ROYAL DAME'S FIRST HUSBAND AND SHE HAD DESERTED HIM TO MARRY LYSIMACHUS THE AGED KING OF THRACE\", '/content/librispeech-other/LibriSpeech/test-other/5484/24317/5484-24317-0012.flac': 'TRUE AN INTERESTING CONVERSATION STILL HAD POWER TO CHARM HIM BUT OFTEN DURING ITS CONTINUANCE THE FULL CONSCIOUSNESS OF HIS MISFORTUNE FORCED ITSELF UPON HIS MIND FOR THE MAJORITY OF THE SUBJECTS DISCUSSED BY THE ARTISTS CAME TO THEM THROUGH THE MEDIUM OF SIGHT AND REFERRED TO NEW CREATIONS OF ARCHITECTURE SCULPTURE AND PAINTING FROM WHOSE ENJOYMENT HIS BLINDNESS DEBARRED HIM', '/content/librispeech-other/LibriSpeech/test-other/5484/24317/5484-24317-0032.flac': 'THOUGH SO LOUD A DENIAL IS WRITTEN ON YOUR FACE I PERSIST IN MY CONVICTION AND THAT NO IDLE DELUSION ENSNARES ME I CAN PROVE', '/content/librispeech-other/LibriSpeech/test-other/5484/24317/5484-24317-0003.flac': 'SO THE ARTIST FOUND HIMSELF OBLIGED TO RELINQUISH HIS OPPOSITION', '/content/librispeech-other/LibriSpeech/test-other/5484/24317/5484-24317-0020.flac': 'YOUR UNCLE TOO HAS OFTEN WITH PRAISEWORTHY GENEROSITY HELPED ARSINOE IN MANY AN EMBARRASSMENT', '/content/librispeech-other/LibriSpeech/test-other/5484/24317/5484-24317-0009.flac': 'HITHERTO THE MERCHANT HAD BEEN INDUCED IT IS TRUE TO ADVANCE LARGE SUMS OF MONEY TO THE QUEEN BUT THE LOYAL DEVOTION WHICH HE SHOWED TO HER ROYAL HUSBAND HAD RENDERED IT IMPOSSIBLE TO GIVE HIM EVEN A HINT OF THE CONSPIRACY', '/content/librispeech-other/LibriSpeech/test-other/5484/24317/5484-24317-0031.flac': 'HOW INDIFFERENT YOU LOOK BUT I TELL YOU HER DEEP BLUE EYES FLASHED AS SHE SPOKE THAT SO LONG AS YOU WERE STILL A GENUINE CREATING ARTIST THE CASE WAS DIFFERENT', '/content/librispeech-other/LibriSpeech/test-other/5484/24317/5484-24317-0007.flac': 'THE APPROVAL AS WELL AS THE DOUBTS WHICH IT AROUSED IN OTHERS STRENGTHENED HIS OPINION ALTHOUGH EVEN NOW HE COULD NOT SUCCEED IN BRINGING IT INTO HARMONY WITH THE FACTS', '/content/librispeech-other/LibriSpeech/test-other/5484/24317/5484-24317-0033.flac': 'IT WAS NAY IT COULD HAVE BEEN NOTHING ELSE THAT VERY SPIDER', '/content/librispeech-other/LibriSpeech/test-other/5484/24317/5484-24317-0014.flac': \"CRATES HAD REALLY BEEN INVITED IN ORDER TO WIN HIM OVER TO THE QUEEN'S CAUSE BUT CHARMING FAIR HAIRED NICO HAD BEEN COMMISSIONED BY THE CONSPIRATORS TO PERSUADE HIM TO SING ARSINOE'S PRAISES AMONG HIS PROFESSIONAL ASSOCIATES\", '/content/librispeech-other/LibriSpeech/test-other/5484/24317/5484-24317-0018.flac': 'THE THREE MOST TRUSTWORTHY ONES ARE HERE AMYNTAS THE LEECH CHRYSIPPUS AND THE ADMIRABLE PROCLUS', '/content/librispeech-other/LibriSpeech/test-other/5484/24317/5484-24317-0008.flac': 'THEN HE WENT DIRECTLY TO THE NEIGHBOURING PALACE THE QUEEN MIGHT HAVE APPEARED ALREADY AND IT WOULD NOT DO TO KEEP HER WAITING', '/content/librispeech-other/LibriSpeech/test-other/5484/24317/5484-24317-0002.flac': 'SHE WOULD APPEAR HERSELF AT DESSERT AND THE BANQUET MUST THEREFORE BEGIN AT AN UNUSUALLY EARLY HOUR', '/content/librispeech-other/LibriSpeech/test-other/5484/24317/5484-24317-0026.flac': 'HERMON LISTENED TO THE PAIR IN SILENCE', '/content/librispeech-other/LibriSpeech/test-other/5484/24317/5484-24317-0016.flac': \"THE KING'S SISTER THE OBJECT OF HIS LOVE CRIED HERMON INCREDULOUSLY\", '/content/librispeech-other/LibriSpeech/test-other/5484/24317/5484-24317-0022.flac': 'WHEN HE DID FINALLY SUMMON YOU HE SAID THINGS WHICH MUST HAVE WOUNDED YOU', '/content/librispeech-other/LibriSpeech/test-other/5484/24317/5484-24317-0005.flac': 'HE LONGED WITH ARDENT YEARNING FOR THE SOUND OF HER VOICE AND STILL MORE TO UNBURDEN HIS SORELY TROUBLED SOUL TO HER', '/content/librispeech-other/LibriSpeech/test-other/5484/24318/5484-24318-0020.flac': 'I LOVE YOU AND HAVE LOVED YOU ALWAYS', '/content/librispeech-other/LibriSpeech/test-other/5484/24318/5484-24318-0027.flac': 'SO ARCHIAS INTENDED TO LEAVE THE CITY ON ONE OF HIS OWN SHIPS THAT VERY DAY', '/content/librispeech-other/LibriSpeech/test-other/5484/24318/5484-24318-0024.flac': 'WHAT A TERRIBLE ORDEAL AGAIN AWAITS YOU', '/content/librispeech-other/LibriSpeech/test-other/5484/24318/5484-24318-0037.flac': 'HONOUR TO MYRTILUS AND HIS ART BUT HE TRUSTED THIS NOBLE FESTAL ASSEMBLAGE WOULD PARDON THE UNINTENTIONAL DECEPTION AND AID HIS PRAYER FOR RECOVERY', '/content/librispeech-other/LibriSpeech/test-other/5484/24318/5484-24318-0023.flac': 'THEN DAPHNE RAISED HER FACE TO HIS ASKING SO THE DEMETER IS THE WORK OF MYRTILUS', '/content/librispeech-other/LibriSpeech/test-other/5484/24318/5484-24318-0016.flac': 'DAPHNE AGAIN PLEADED FOR THE LIBERATION OF THE PRISONERS BUT PHILIPPUS SILENCED HER WITH THE GRAVE EXCLAMATION THE ORDER OF THE KING', '/content/librispeech-other/LibriSpeech/test-other/5484/24318/5484-24318-0021.flac': 'DAPHNE EXCLAIMED TENDERLY WHAT MORE IS NEEDED', '/content/librispeech-other/LibriSpeech/test-other/5484/24318/5484-24318-0019.flac': 'HE MIGHT NOW HAVE BEEN PERMITTED TO BIND FOREVER TO HIS LIFE THE WOMAN WHO HAD JUST RESCUED HIM FROM THE GREATEST DANGER BUT THE CONFESSION HE MUST MAKE TO HIS FELLOW ARTISTS IN THE PALAESTRA THE FOLLOWING MORNING STILL SEALED HIS LIPS YET IN THIS HOUR HE FELT THAT HE WAS UNITED TO HER AND OUGHT NOT TO CONCEAL WHAT AWAITED HIM SO OBEYING A STRONG IMPULSE HE EXCLAIMED YOU KNOW THAT I LOVE YOU', '/content/librispeech-other/LibriSpeech/test-other/5484/24318/5484-24318-0010.flac': 'YET IT WAS NO ILLUSION THAT DECEIVED HIM', '/content/librispeech-other/LibriSpeech/test-other/5484/24318/5484-24318-0032.flac': \"EVEN DAPHNE'S IMAGE AND WHAT THREATENED HER FATHER AND HER WITH HIM RECEDED FAR INTO THE BACKGROUND\", '/content/librispeech-other/LibriSpeech/test-other/5484/24318/5484-24318-0022.flac': 'BUT HERMON WITH DROOPING HEAD MURMURED TO MORROW I SHALL NO LONGER BE WHAT I AM NOW', '/content/librispeech-other/LibriSpeech/test-other/5484/24318/5484-24318-0028.flac': 'HE HIMSELF ON THE WAY TO EXPOSE HIMSELF TO THE MALICE AND MOCKERY OF THE WHOLE CITY', '/content/librispeech-other/LibriSpeech/test-other/5484/24318/5484-24318-0030.flac': 'BESIDES HE KNEW THAT THE OBJECT OF HIS LOVE WOULD NOT PART FROM HIM WITHOUT GRANTING HIM ONE LAST WORD', '/content/librispeech-other/LibriSpeech/test-other/5484/24318/5484-24318-0012.flac': 'SOMETIMES WITH TOUCHING ENTREATY SOMETIMES WITH IMPERIOUS COMMAND SHE PROTESTED AFTER GIVING HIM HER NAME THAT THIS MATTER COULD BE NOTHING BUT AN UNFORTUNATE MISTAKE', '/content/librispeech-other/LibriSpeech/test-other/5484/24318/5484-24318-0034.flac': 'THE EGYPTIAN OBEYED AND HIS MASTER CROSSED THE WIDE SPACE STREWN WITH SAND AND APPROACHED THE STAGE WHICH HAD BEEN ERECTED FOR THE FESTAL PERFORMANCES EVEN HAD HIS EYES RETAINED THE POWER OF SIGHT HIS BLOOD WAS COURSING SO WILDLY THROUGH HIS VEINS THAT HE MIGHT PERHAPS HAVE BEEN UNABLE TO DISTINGUISH THE STATUES AROUND HIM AND THE THOUSANDS OF SPECTATORS WHO CROWDED CLOSELY TOGETHER RICHLY GARLANDED THEIR CHEEKS GLOWING WITH ENTHUSIASM SURROUNDED THE ARENA HERMON', '/content/librispeech-other/LibriSpeech/test-other/5484/24318/5484-24318-0008.flac': 'BUT IF HE WERE DESTINED TO MEET HIS MYRTILUS AND HIS MOTHER IN THE WORLD BEYOND THE GRAVE WHAT HAD HE NOT TO TELL THEM HOW SURE HE WAS OF FINDING A JOYFUL RECEPTION THERE FROM BOTH', '/content/librispeech-other/LibriSpeech/test-other/5484/24318/5484-24318-0033.flac': 'HE WAS APPEARING BEFORE HIS COMPANIONS ONLY TO GIVE TRUTH ITS JUST DUE', '/content/librispeech-other/LibriSpeech/test-other/5484/24318/5484-24318-0007.flac': 'IF HE HAD PASSED INTO ANNIHILATION HE HERMON WISHED TO FOLLOW HIM THITHER AND ANNIHILATION CERTAINLY MEANT REDEMPTION FROM PAIN AND MISERY', '/content/librispeech-other/LibriSpeech/test-other/5484/24318/5484-24318-0025.flac': 'AND I FOOL BLINDED ALSO IN MIND COULD BE VEXED WITH YOU FOR IT', '/content/librispeech-other/LibriSpeech/test-other/5484/24318/5484-24318-0000.flac': 'NOT A SOUND IF YOU VALUE YOUR LIVES', '/content/librispeech-other/LibriSpeech/test-other/5484/24318/5484-24318-0036.flac': 'EVEN WHILE HE BELIEVED HIMSELF TO BE THE CREATOR OF THE DEMETER HE HAD BEEN SERIOUSLY TROUBLED BY THE PRAISE OF SO MANY CRITICS BECAUSE IT HAD EXPOSED HIM TO THE SUSPICION OF HAVING BECOME FAITHLESS TO HIS ART AND HIS NATURE', '/content/librispeech-other/LibriSpeech/test-other/5484/24318/5484-24318-0013.flac': \"LASTLY WITH EARNEST WARMTH SHE BESOUGHT HIM BEFORE TAKING THE PRISONERS AWAY TO PERMIT HER TO SPEAK TO THE COMMANDING GENERAL PHILIPPUS HER FATHER'S GUEST WHO SHE WAS CERTAIN WAS IN THE PALACE\", '/content/librispeech-other/LibriSpeech/test-other/5484/24318/5484-24318-0002.flac': \"WAS HE TO BE LED TO THE EXECUTIONER'S BLOCK\", '/content/librispeech-other/LibriSpeech/test-other/5484/24318/5484-24318-0031.flac': 'ON THE WAY HIS HEART THROBBED ALMOST TO BURSTING', '/content/librispeech-other/LibriSpeech/test-other/5484/24318/5484-24318-0009.flac': 'THE POWER WHICH DELIVERED HIM OVER TO DEATH JUST AT THAT MOMENT WAS NOT NEMESIS NO IT WAS A KINDLY DEITY', '/content/librispeech-other/LibriSpeech/test-other/5484/24318/5484-24318-0015.flac': 'TO MORROW YOU SHALL CONFESS TO ME WHO TREACHEROUSLY DIRECTED YOU TO THIS DANGEROUS PATH', '/content/librispeech-other/LibriSpeech/test-other/5484/24318/5484-24318-0004.flac': 'OUGHT HE NOT TO GREET THIS SUDDEN END AS A BOON FROM THE IMMORTALS', '/content/librispeech-other/LibriSpeech/test-other/5484/24318/5484-24318-0017.flac': 'AS SOON AS THE CAPTIVE ARTIST WAS ALONE WITH THE WOMAN HE LOVED HE CLASPED HER HAND POURING FORTH INCOHERENT WORDS OF THE MOST ARDENT GRATITUDE AND WHEN HE FELT HER WARMLY RETURN THE PRESSURE HE COULD NOT RESTRAIN THE DESIRE TO CLASP HER TO HIS HEART', '/content/librispeech-other/LibriSpeech/test-other/5484/24318/5484-24318-0026.flac': 'BRING THIS BEFORE YOUR MIND AND EVERYTHING ELSE THAT YOU MUST ACCEPT WITH IT IF YOU CONSENT WHEN THE TIME ARRIVES TO BECOME MINE CONCEAL AND PALLIATE NOTHING', '/content/librispeech-other/LibriSpeech/test-other/5484/24318/5484-24318-0029.flac': \"HIS HEART CONTRACTED PAINFULLY AND HIS SOLICITUDE ABOUT HIS UNCLE'S FATE INCREASED WHEN PHILIPPUS INFORMED HIM THAT THE CONSPIRATORS HAD BEEN ARRESTED AT THE BANQUET AND HEADED BY AMYNTAS THE RHODIAN CHRYSIPPUS AND PROCLUS HAD PERISHED BY THE EXECUTIONER'S SWORD AT SUNRISE\", '/content/librispeech-other/LibriSpeech/test-other/5484/24318/5484-24318-0005.flac': 'DID IT NOT SPARE HIM A HUMILIATION AS GREAT AND PAINFUL AS COULD BE IMAGINED', '/content/librispeech-other/LibriSpeech/test-other/5484/24318/5484-24318-0001.flac': 'TO OFFER RESISTANCE WOULD HAVE BEEN MADNESS FOR EVEN HERMON PERCEIVED BY THE LOUD CLANKING OF WEAPONS AROUND THEM THE GREATLY SUPERIOR POWER OF THE ENEMY AND THEY WERE ACTING BY THE ORDERS OF THE KING TO THE PRISON NEAR THE PLACE OF EXECUTION', '/content/librispeech-other/LibriSpeech/test-other/5484/24318/5484-24318-0011.flac': 'AGAIN HE HEARD THE BELOVED VOICE AND THIS TIME IT ADDRESSED NOT ONLY HIM BUT WITH THE UTMOST HASTE THE COMMANDER OF THE SOLDIERS', '/content/librispeech-other/LibriSpeech/test-other/5484/24318/5484-24318-0006.flac': 'WHATEVER MIGHT AWAIT HIM HE DESIRED NO BETTER FATE', '/content/librispeech-other/LibriSpeech/test-other/5484/24318/5484-24318-0014.flac': 'CRIED HERMON IN GRATEFUL AGITATION BUT SHE WOULD NOT LISTEN TO HIM AND FOLLOWED THE SOLDIER WHOM THE CAPTAIN DETAILED TO GUIDE HER INTO THE PALACE', '/content/librispeech-other/LibriSpeech/test-other/5484/24318/5484-24318-0035.flac': 'SHOUTED HIS FRIEND SOTELES IN JOYFUL SURPRISE IN THE MIDST OF THIS PAINFUL WALK HERMON', '/content/librispeech-other/LibriSpeech/test-other/5484/24318/5484-24318-0003.flac': 'WHAT PLEASURE HAD LIFE TO OFFER HIM THE BLIND MAN WHO WAS ALREADY DEAD TO HIS ART', '/content/librispeech-other/LibriSpeech/test-other/5484/24318/5484-24318-0018.flac': 'IN SPITE OF HIS DEEP MENTAL DISTRESS HE COULD HAVE SHOUTED ALOUD IN HIS DELIGHT AND GRATITUDE', '/content/librispeech-other/LibriSpeech/test-other/8131/117017/8131-117017-0006.flac': \"I'M REFORMED I'M GOING STRAIGHT\", '/content/librispeech-other/LibriSpeech/test-other/8131/117017/8131-117017-0008.flac': 'ONE LOOK WAS ENOUGH THE WORK PAPERS HAD THE TELLTALE OVER THICKENING OF THE SIGNATURE THAT HAD SHOWED UP ON OTHER PAPERS OBVIOUSLY FORGERIES', '/content/librispeech-other/LibriSpeech/test-other/8131/117017/8131-117017-0013.flac': 'THERE MUST HAVE BEEN OVER TWO THOUSAND CREDITS IN THE WALLET', '/content/librispeech-other/LibriSpeech/test-other/8131/117017/8131-117017-0031.flac': 'THE CAPTAIN LOOKED COMPLETELY BEATEN AS HE CAME INTO THE ROOM AND DROPPED ONTO THE BENCH', '/content/librispeech-other/LibriSpeech/test-other/8131/117017/8131-117017-0032.flac': 'GO ON ACCEPT DAMN IT', '/content/librispeech-other/LibriSpeech/test-other/8131/117017/8131-117017-0005.flac': \"YOU CAN'T DO IT TO ME\", '/content/librispeech-other/LibriSpeech/test-other/8131/117017/8131-117017-0003.flac': 'GORDON HIT THE SIGNAL SWITCH AND THE MARSPEAKER LET OUT A SHRILL WHISTLE', '/content/librispeech-other/LibriSpeech/test-other/8131/117017/8131-117017-0021.flac': 'A THOUSAND INTEREST AT TEN PER CENT A WEEK STANDARD RIGHT', '/content/librispeech-other/LibriSpeech/test-other/8131/117017/8131-117017-0028.flac': 'THE KID POCKETED THE MONEY CHEERFULLY NODDING', '/content/librispeech-other/LibriSpeech/test-other/8131/117017/8131-117017-0011.flac': 'JENKINS THE OTHER COP HAD BEEN HOLDING THE WALLET', '/content/librispeech-other/LibriSpeech/test-other/8131/117017/8131-117017-0000.flac': 'IT WAS NIGHT OUTSIDE AND THE PHOSPHOR BULBS AT THE CORNERS GLOWED DIMLY GIVING HIM BARELY ENOUGH LIGHT BY WHICH TO LOCATE THE WAY TO THE EXTEMPORIZED PRECINCT HOUSE', '/content/librispeech-other/LibriSpeech/test-other/8131/117017/8131-117017-0007.flac': \"YOU DAMNED COPS CAN'T O'NEILL WAS BLUBBERING\", '/content/librispeech-other/LibriSpeech/test-other/8131/117017/8131-117017-0025.flac': \"FOR A SECOND IZZY'S FACE WENT BLANK THEN HE CHUCKLED\", '/content/librispeech-other/LibriSpeech/test-other/8131/117017/8131-117017-0002.flac': \"AND THE SLOW DOUBTFUL RESPECT ON THE FACES OF THE CITIZENS AS THEY NODDED TO HIM WAS EVEN MORE PROOF THAT HALEY'S SYSTEM WAS WORKING\", '/content/librispeech-other/LibriSpeech/test-other/8131/117017/8131-117017-0023.flac': 'HUH IZZY TURNED IT OVER AND SHOOK HIS HEAD', '/content/librispeech-other/LibriSpeech/test-other/8131/117017/8131-117017-0010.flac': 'WHEN IT WAS OVER THE TWO PICKED UP THEIR WHIMPERING CAPTIVE', '/content/librispeech-other/LibriSpeech/test-other/8131/117017/8131-117017-0009.flac': \"SOME TURNED AWAY AS GORDON AND THE OTHER COP WENT TO WORK BUT MOST OF THEM WEREN'T SQUEAMISH\", '/content/librispeech-other/LibriSpeech/test-other/8131/117017/8131-117017-0019.flac': 'ELEVEN HUNDRED FIFTY CREDITS', '/content/librispeech-other/LibriSpeech/test-other/8131/117017/8131-117017-0001.flac': 'IT HAD PROBABLY BEEN YEARS SINCE ANY HAD DARED RISK IT AFTER THE SUN WENT DOWN', '/content/librispeech-other/LibriSpeech/test-other/8131/117017/8131-117017-0017.flac': 'THE LITTLE MAN SHOOK HIS HEAD HIS ANCIENT EIGHTEEN YEAR OLD FACE TURNING SOBER NOPE', '/content/librispeech-other/LibriSpeech/test-other/8131/117017/8131-117017-0030.flac': \"AND IF ANY OF THE OTHER COPS HAD PRIVATE RACKETS OF THEIR OWN IZZY WAS UNDOUBTEDLY THE MAN TO FIND IT OUT AND USE THE INFORMATION WITH A BEAT SUCH AS THAT EVEN GOING HALVES AND WITH ALL THE GRAFT TO THE UPPER BRACKETS HE'D STILL BE ABLE TO MAKE HIS PILE IN A MATTER OF MONTHS\", '/content/librispeech-other/LibriSpeech/test-other/8131/117017/8131-117017-0014.flac': 'WHEN GORDON AND JENKINS CAME BACK MURDOCH TOSSED THE MONEY TO THEM SPLIT IT', '/content/librispeech-other/LibriSpeech/test-other/8131/117017/8131-117017-0016.flac': 'LIKE THIS SOCIAL CALL GORDON ASKED HIM', '/content/librispeech-other/LibriSpeech/test-other/8131/117017/8131-117017-0027.flac': 'THANKS IZZY THANKS YOURSELF', '/content/librispeech-other/LibriSpeech/test-other/8131/117017/8131-117017-0004.flac': 'GUNS SUDDENLY SEEMED TO BE FLOURISHING EVERYWHERE', '/content/librispeech-other/LibriSpeech/test-other/8131/117017/8131-117017-0022.flac': 'GORDON HAD HEARD OF THE FRIENDLY INTEREST CHARGED ON THE SIDE HERE BUT HE SHOOK HIS HEAD WRONG IZZY', '/content/librispeech-other/LibriSpeech/test-other/8131/117017/8131-117017-0020.flac': \"YOU DIDN'T PAY UP YOUR PLEDGE TO THE CAMPAIGN FUND SO I HADDA FILL IN\", '/content/librispeech-other/LibriSpeech/test-other/8131/117017/8131-117017-0018.flac': \"YOU OWE ME SOME BILLS GOV'NOR\", '/content/librispeech-other/LibriSpeech/test-other/8131/117017/8131-117017-0012.flac': 'MUST OF BEEN MAKING A BIG CONTACT IN SOMETHING FIFTY FIFTY', '/content/librispeech-other/LibriSpeech/test-other/8131/117017/8131-117017-0029.flac': 'THE LITTLE GUY KNEW MARS AS FEW OTHERS DID APPARENTLY FROM ALL SIDES', '/content/librispeech-other/LibriSpeech/test-other/8131/117017/8131-117017-0026.flac': 'HE PULLED OUT THE BILLS AND HANDED THEM OVER', '/content/librispeech-other/LibriSpeech/test-other/8131/117017/8131-117017-0024.flac': \"NOW SHOW ME WHERE I SIGNED ANY AGREEMENT SAYING I'D PAY YOU BACK\", '/content/librispeech-other/LibriSpeech/test-other/8131/117017/8131-117017-0015.flac': \"WHATEVER COMES TO HAND GOV'NOR\", '/content/librispeech-other/LibriSpeech/test-other/8131/117029/8131-117029-0019.flac': 'BUT HIS OLD EYES WERE GLINTING', '/content/librispeech-other/LibriSpeech/test-other/8131/117029/8131-117029-0017.flac': \"THERE'S A ROCKET WAITING TO TRANSSHIP YOU TO THE MOON ON THE WAY TO MERCURY RIGHT NOW GORDON SIGHED\", '/content/librispeech-other/LibriSpeech/test-other/8131/117029/8131-117029-0012.flac': \"THERE WAS A GRIN ON THE OTHER'S FACE\", '/content/librispeech-other/LibriSpeech/test-other/8131/117029/8131-117029-0009.flac': \"THOUGHT YOU'D BE IN THE CHIPS\", '/content/librispeech-other/LibriSpeech/test-other/8131/117029/8131-117029-0013.flac': \"FINALLY GOT OUR ORDERS FOR YOU IT'S MERCURY\", '/content/librispeech-other/LibriSpeech/test-other/8131/117029/8131-117029-0021.flac': \"I I OH DRAT IT I'M GETTING OLD IZZY YOU TELL HIM\", '/content/librispeech-other/LibriSpeech/test-other/8131/117029/8131-117029-0011.flac': 'GUESS A MAN GETS USED TO ANYTHING HELL MAYBE I CAN HIRE SOME BUMS TO SIT AROUND AND WHOOP IT UP WHEN THE SHIPS COME IN AND BILL THIS AS A REAL OLD MARTIAN DEN OF SIN', '/content/librispeech-other/LibriSpeech/test-other/8131/117029/8131-117029-0005.flac': 'THEY HAD BEEN LUCKY', '/content/librispeech-other/LibriSpeech/test-other/8131/117029/8131-117029-0014.flac': 'WE SENT TWENTY OTHERS THE SAME WAY AND THEY FAILED', '/content/librispeech-other/LibriSpeech/test-other/8131/117029/8131-117029-0000.flac': 'THERE WAS A MAN COMING FROM EARTH ON A SECOND SHIP WHO WOULD SEE HIM', '/content/librispeech-other/LibriSpeech/test-other/8131/117029/8131-117029-0016.flac': \"YOU CAN'T STAY HERE\", '/content/librispeech-other/LibriSpeech/test-other/8131/117029/8131-117029-0002.flac': 'ONLY GORDON AND SHEILA WERE LEFT', '/content/librispeech-other/LibriSpeech/test-other/8131/117029/8131-117029-0022.flac': \"HE GRABBED GORDON'S HAND AND WADDLED DOWN THE LANDING PLANK IZZY SHOOK HIS HEAD\", '/content/librispeech-other/LibriSpeech/test-other/8131/117029/8131-117029-0015.flac': \"LET'S SAY YOU'VE SHIFTED SOME OF THE MISERY AROUND A BIT AND GIVEN THEM A CHANCE TO DO BETTER\", '/content/librispeech-other/LibriSpeech/test-other/8131/117029/8131-117029-0003.flac': 'CREDIT HAD BEEN ESTABLISHED AGAIN AND THE BUSINESSES WERE OPEN', '/content/librispeech-other/LibriSpeech/test-other/8131/117029/8131-117029-0018.flac': \"AND I'VE PAID HER THE PAY WE OWE YOU FROM THE TIME YOU BEGAN USING YOUR BADGE SHE'S OUT SHOPPING\", '/content/librispeech-other/LibriSpeech/test-other/8131/117029/8131-117029-0007.flac': 'FATS PLACE WAS STILL OPEN THOUGH THE CROOKED TABLES HAD BEEN REMOVED GORDON DROPPED TO A STOOL SLIPPING OFF HIS HELMET', '/content/librispeech-other/LibriSpeech/test-other/8131/117029/8131-117029-0020.flac': \"DID YOU THINK WE'D LET YOU GO WITHOUT SEEING YOU OFF COBBER HE ASKED\", '/content/librispeech-other/LibriSpeech/test-other/8131/117029/8131-117029-0001.flac': 'THE LITTLE PUBLISHER WAS BACK AT THE CRUSADER AGAIN', '/content/librispeech-other/LibriSpeech/test-other/8131/117029/8131-117029-0010.flac': \"THAT'S MARS GORDON ECHOED THE OTHER'S COMMENT WHY DON'T YOU PULL OFF THE PLANET FATS YOU COULD GO BACK TO EARTH I'D GUESS THE OTHER NODDED\", '/content/librispeech-other/LibriSpeech/test-other/8131/117029/8131-117029-0008.flac': 'HE REACHED AUTOMATICALLY FOR THE GLASS OF ETHER NEEDLED BEER', '/content/librispeech-other/LibriSpeech/test-other/8131/117029/8131-117029-0006.flac': \"SCHULBERG'S VOLUNTEERS WERE OFFICIAL NOW\", '/content/librispeech-other/LibriSpeech/test-other/8131/117029/8131-117029-0004.flac': 'GORDON CAME TO A ROW OF TEMPORARY BUBBLES INDIVIDUAL DWELLINGS BUILT LIKE THE DOME BUT OPAQUE FOR PRIVACY', '/content/librispeech-other/LibriSpeech/test-other/8131/117016/8131-117016-0008.flac': 'THE PRESSURE WAS ENOUGH TO GET THEM FOR HIM', '/content/librispeech-other/LibriSpeech/test-other/8131/117016/8131-117016-0041.flac': 'GET A STRETCHER AND TAKE HIM WHEREVER HE BELONGS HE ORDERED', '/content/librispeech-other/LibriSpeech/test-other/8131/117016/8131-117016-0042.flac': 'BUT THE CAPTAIN STIRRED FINALLY SIGHING', '/content/librispeech-other/LibriSpeech/test-other/8131/117016/8131-117016-0017.flac': 'FOR A SECOND GORDON CURSED HIMSELF', '/content/librispeech-other/LibriSpeech/test-other/8131/117016/8131-117016-0051.flac': \"NO YOU'RE A FIRSTER HE CAN'T LOSE\", '/content/librispeech-other/LibriSpeech/test-other/8131/117016/8131-117016-0057.flac': 'BUT YOU GOT EARTH IDEAS OF THE STUFF LIKE I HAD ONCE', '/content/librispeech-other/LibriSpeech/test-other/8131/117016/8131-117016-0052.flac': 'AND THEN HELL IS GOING TO POP AND THIS WHOLE PLANET MAY BE BLOWN WIDE OPEN', '/content/librispeech-other/LibriSpeech/test-other/8131/117016/8131-117016-0033.flac': \"THE CAPTAIN'S FACE WAS AS SICK AS GORDON FELT\", '/content/librispeech-other/LibriSpeech/test-other/8131/117016/8131-117016-0046.flac': \"BRUCE GORDON GRIMACED I'VE GOT A YELLOW TICKET FROM SECURITY\", '/content/librispeech-other/LibriSpeech/test-other/8131/117016/8131-117016-0007.flac': 'CAPTAIN MURDOCH WAS AN UNKNOWN FACTOR AND NOW WAS ASKING FOR MORE MEN', '/content/librispeech-other/LibriSpeech/test-other/8131/117016/8131-117016-0048.flac': 'WHAT MAKES YOU THINK WAYNE WILL BE RE ELECTED', '/content/librispeech-other/LibriSpeech/test-other/8131/117016/8131-117016-0049.flac': 'NOBODY WANTS HIM EXCEPT A GANG OF CROOKS AND THOSE IN POWER', '/content/librispeech-other/LibriSpeech/test-other/8131/117016/8131-117016-0002.flac': 'SOME OF MARS LAWS DATED FROM THE TIME WHEN LAW ENFORCEMENT HAD BEEN HAMPERED BY LACK OF MEN RATHER THAN BY THE TYPE OF MEN', '/content/librispeech-other/LibriSpeech/test-other/8131/117016/8131-117016-0030.flac': \"WE'RE NOT USING WAGONS MURDOCH TOLD HIM LINE THEM UP\", '/content/librispeech-other/LibriSpeech/test-other/8131/117016/8131-117016-0029.flac': 'TO FIND A PHONE AND CALL THE WAGON', '/content/librispeech-other/LibriSpeech/test-other/8131/117016/8131-117016-0053.flac': 'IT FITTED WITH THE DIRE PREDICTIONS OF SECURITY AND WITH THE SPYING GORDON WAS GOING TO DO ACCORDING TO THEM', '/content/librispeech-other/LibriSpeech/test-other/8131/117016/8131-117016-0014.flac': \"THE REST OF YOU CAN TEAM UP ANY WAY YOU WANT TONIGHT PICK ANY ROUTE THAT'S OPEN OKAY MEN LET'S GO\", '/content/librispeech-other/LibriSpeech/test-other/8131/117016/8131-117016-0050.flac': 'EVER SEE A MARTIAN ELECTION', '/content/librispeech-other/LibriSpeech/test-other/8131/117016/8131-117016-0060.flac': \"THIS COULD LEAD TO ABUSES AS HE'D SEEN ON EARTH\", '/content/librispeech-other/LibriSpeech/test-other/8131/117016/8131-117016-0058.flac': 'THE GROUPS GREW MORE EXPERIENCED AND MURDOCH WAS TRAINING A NEW SQUAD EVERY NIGHT', '/content/librispeech-other/LibriSpeech/test-other/8131/117016/8131-117016-0035.flac': \"COLONEL THEY'D KILL ME I DON'T KNOW\", '/content/librispeech-other/LibriSpeech/test-other/8131/117016/8131-117016-0027.flac': 'HE BROUGHT HIM TO THE GROUND WITH A SINGLE BLOW ACROSS THE KIDNEYS', '/content/librispeech-other/LibriSpeech/test-other/8131/117016/8131-117016-0031.flac': 'IF THEY TRIED TO RUN THEY WERE HIT FROM BEHIND IF THEY STOOD STILL THEY WERE CLUBBED CAREFULLY', '/content/librispeech-other/LibriSpeech/test-other/8131/117016/8131-117016-0037.flac': \"IF HE SHOULD TURN UP DEAD I'LL KNOW YOU BOYS ARE RESPONSIBLE AND I'LL FIND YOU\", '/content/librispeech-other/LibriSpeech/test-other/8131/117016/8131-117016-0019.flac': 'NOBODY HAD TRIED TO GET IN TOUCH WITH HIM', '/content/librispeech-other/LibriSpeech/test-other/8131/117016/8131-117016-0040.flac': \"IN THE THIRD ONE BRUCE GORDON SPOTTED ONE OF THE MEN WHO'D BEEN BEATEN BEFORE\", '/content/librispeech-other/LibriSpeech/test-other/8131/117016/8131-117016-0055.flac': \"COST EM MORE BUT THEY'D BE RESPECTABLE\", '/content/librispeech-other/LibriSpeech/test-other/8131/117016/8131-117016-0056.flac': 'BECAUSE IZZY IS ALWAYS HONEST ACCORDING TO HOW HE SEES IT', '/content/librispeech-other/LibriSpeech/test-other/8131/117016/8131-117016-0025.flac': 'HE SWALLOWED THE SENTIMENT HIS OWN CLUB WAS MOVING NOW', '/content/librispeech-other/LibriSpeech/test-other/8131/117016/8131-117016-0000.flac': 'CAPTAIN MURDOCH', '/content/librispeech-other/LibriSpeech/test-other/8131/117016/8131-117016-0009.flac': 'GORDON REPORTED FOR WORK WITH A SENSE OF THE BOTTOM FALLING OUT MIXED WITH A VAGUE RELIEF', '/content/librispeech-other/LibriSpeech/test-other/8131/117016/8131-117016-0034.flac': 'I WANT THE NAME OF EVERY MAN IN THE GANG YOU CAN REMEMBER HE TOLD THE MAN', '/content/librispeech-other/LibriSpeech/test-other/8131/117016/8131-117016-0005.flac': 'THEY WERE SAFE FROM PROTECTION RACKETEERS THERE NONE BOTHERED TO COME SO FAR OUT', '/content/librispeech-other/LibriSpeech/test-other/8131/117016/8131-117016-0032.flac': 'MURDOCH INDICATED ONE WHO STOOD WITH HIS SHOULDERS SHAKING AND TEARS RUNNING DOWN HIS CHEEKS', '/content/librispeech-other/LibriSpeech/test-other/8131/117016/8131-117016-0022.flac': 'THERE WAS NO CHANCE TO SAVE THE CITIZEN WHO WAS DYING FROM LACK OF AIR', '/content/librispeech-other/LibriSpeech/test-other/8131/117016/8131-117016-0003.flac': 'THE STONEWALL GANG NUMBERED PERHAPS FIVE HUNDRED', '/content/librispeech-other/LibriSpeech/test-other/8131/117016/8131-117016-0015.flac': \"BRUCE GORDON GRINNED SLOWLY AS HE SWUNG THE STICK AND MURDOCH'S EYES FELL ON HIM EARTH COP\", '/content/librispeech-other/LibriSpeech/test-other/8131/117016/8131-117016-0044.flac': 'BUT THE STONEWALL GANG IS BACKING WAYNE', '/content/librispeech-other/LibriSpeech/test-other/8131/117016/8131-117016-0039.flac': 'MURDOCH SENT ONE OF THE MEN TO PICK UP A SECOND SQUAD OF SIX AND THEN A THIRD', '/content/librispeech-other/LibriSpeech/test-other/8131/117016/8131-117016-0012.flac': \"THE FIRST MAN MAKING A SHAKEDOWN WILL GET THE SAME TREATMENT WE'RE GOING TO USE ON THE STONEWALL BOYS YOU'LL GET DOUBLE PAY HERE AND YOU CAN LIVE ON IT\", '/content/librispeech-other/LibriSpeech/test-other/8131/117016/8131-117016-0018.flac': 'HE BEGAN WONDERING ABOUT SECURITY THEN', '/content/librispeech-other/LibriSpeech/test-other/8131/117016/8131-117016-0054.flac': 'HE WAS GETTING EVEN FATTER NOW THAT HE WAS EATING BETTER FOOD FROM THE FAIR RESTAURANT AROUND THE CORNER', '/content/librispeech-other/LibriSpeech/test-other/8131/117016/8131-117016-0020.flac': 'THERE WAS A CRUDE LIGHTING SYSTEM HERE PUT UP BY THE CITIZENS AT THE FRONT OF EACH BUILDING A DIM PHOSPHOR BULB GLOWED WHEN DARKNESS FELL THEY WOULD HAVE NOTHING ELSE TO SEE BY', '/content/librispeech-other/LibriSpeech/test-other/8131/117016/8131-117016-0016.flac': 'TWO YEARS GORDON ADMITTED', '/content/librispeech-other/LibriSpeech/test-other/8131/117016/8131-117016-0026.flac': 'THE OTHER FOUR COPS HAD COME IN RELUCTANTLY', '/content/librispeech-other/LibriSpeech/test-other/8131/117016/8131-117016-0043.flac': \"NO THE COPS THEY'RE GIVING ME WE'RE COVERED GORDON\", '/content/librispeech-other/LibriSpeech/test-other/8131/117016/8131-117016-0028.flac': 'THEY ROUNDED UP THE MEN OF THE GANG AND ONE OF THE COPS STARTED OFF', '/content/librispeech-other/LibriSpeech/test-other/8131/117016/8131-117016-0036.flac': 'MURDOCH TOOK HIS NOD AS EVIDENCE ENOUGH AND TURNED TO THE WRETCHED TOUGHS', '/content/librispeech-other/LibriSpeech/test-other/8131/117016/8131-117016-0004.flac': 'EVEN DERELICTS AND FAILURES HAD TO EAT THERE WERE STORES AND SHOPS THROUGHOUT THE DISTRICT WHICH EKED OUT SOME KIND OF A MARGINAL LIVING', '/content/librispeech-other/LibriSpeech/test-other/8131/117016/8131-117016-0024.flac': \"GORDON'S EYES POPPED AT THAT\", '/content/librispeech-other/LibriSpeech/test-other/8131/117016/8131-117016-0045.flac': \"BUT IT'S GOING TO BE TOUGH ON THEM\", '/content/librispeech-other/LibriSpeech/test-other/8131/117016/8131-117016-0006.flac': 'THE SHOPKEEPERS AND SOME OF THE LESS UNFORTUNATE PEOPLE THERE HAD PROTESTED LOUD ENOUGH TO REACH CLEAR BACK TO EARTH', '/content/librispeech-other/LibriSpeech/test-other/8131/117016/8131-117016-0059.flac': \"IT WASN'T EXACTLY LEGAL BUT NOTHING WAS HERE\", '/content/librispeech-other/LibriSpeech/test-other/8131/117016/8131-117016-0011.flac': 'YOUR JOB IS TO PROTECT THE CITIZENS HERE AND THAT MEANS EVERYONE NOT BREAKING THE LAWS WHETHER YOU FEEL LIKE IT OR NOT NO GRAFT', '/content/librispeech-other/LibriSpeech/test-other/8131/117016/8131-117016-0021.flac': 'MOVING IN TWO GROUPS OF THREES AT OPPOSITE SIDES OF THE STREET THEY BEGAN THEIR BEAT', '/content/librispeech-other/LibriSpeech/test-other/8131/117016/8131-117016-0023.flac': 'GORDON FELT THE SOLID PLEASURE OF THE FINELY TURNED CLUB IN HIS HANDS', '/content/librispeech-other/LibriSpeech/test-other/8131/117016/8131-117016-0001.flac': 'BUT MARSPORT HAD FLOURISHED ENOUGH TO KILL IT OFF', '/content/librispeech-other/LibriSpeech/test-other/8131/117016/8131-117016-0061.flac': \"BUT THERE PROBABLY WOULDN'T BE TIME FOR IT IF MAYOR WAYNE WAS RE ELECTED\", '/content/librispeech-other/LibriSpeech/test-other/8131/117016/8131-117016-0038.flac': 'TROUBLE BEGAN BREWING SHORTLY AFTER THOUGH', '/content/librispeech-other/LibriSpeech/test-other/8131/117016/8131-117016-0047.flac': 'MURDOCH BLINKED HE DROPPED HIS EYES SLOWLY', '/content/librispeech-other/LibriSpeech/test-other/8131/117016/8131-117016-0010.flac': \"I'VE GOT A FREE HAND AND WE'RE GOING TO RUN THIS THE WAY WE WOULD ON EARTH\", '/content/librispeech-other/LibriSpeech/test-other/8131/117016/8131-117016-0013.flac': 'HE PICKED OUT FIVE OF THE MEN INCLUDING GORDON YOU FIVE WILL COME WITH ME', '/content/librispeech-other/LibriSpeech/test-other/6070/63485/6070-63485-0007.flac': 'OH AH TO LAY A TRAP TO CATCH US REPLIED THE THIEF', '/content/librispeech-other/LibriSpeech/test-other/6070/63485/6070-63485-0008.flac': 'THEN ADDRESSING THOMAS SEYTON YOU KNOW THE PLAIN OF SAINT DENIS', '/content/librispeech-other/LibriSpeech/test-other/6070/63485/6070-63485-0013.flac': 'OLD BOY IT WILL PAY FOR LOOKING AFTER', '/content/librispeech-other/LibriSpeech/test-other/6070/63485/6070-63485-0012.flac': \"LET'S GO AND MEET HIM\", '/content/librispeech-other/LibriSpeech/test-other/6070/63485/6070-63485-0014.flac': 'WELL MY WIFE SHALL BE THERE SAID THE SCHOOLMASTER YOU WILL TELL HER WHAT YOU WANT AND I SHALL SEE', '/content/librispeech-other/LibriSpeech/test-other/6070/63485/6070-63485-0004.flac': 'IN AN INSTANT THE SCHOOLMASTER WITH A LEAP RESEMBLING IN STRENGTH AND AGILITY THE SPRING OF A TIGER SEIZED SEYTON WITH ONE HAND BY THE THROAT AND EXCLAIMED YOUR MONEY OR I WILL FLING YOU INTO THIS HOLE', '/content/librispeech-other/LibriSpeech/test-other/6070/63485/6070-63485-0015.flac': 'IN THE PLAIN OF SAINT DENIS', '/content/librispeech-other/LibriSpeech/test-other/6070/63485/6070-63485-0005.flac': 'NO SAID THE OLD BRUTE GRUMBLINGLY NO NOT ONE RING WHAT A SHAME', '/content/librispeech-other/LibriSpeech/test-other/6070/63485/6070-63485-0000.flac': \"THEY'RE DONE FOR SAID THE SCHOOLMASTER IN A LOW KEY TO THE CHOUETTE OUT WITH YOUR VITRIOL AND MIND YOUR EYE\", '/content/librispeech-other/LibriSpeech/test-other/6070/63485/6070-63485-0017.flac': 'HE HAD FORGOTTEN THE ADDRESS OF THE SELF STYLED FAN PAINTER', '/content/librispeech-other/LibriSpeech/test-other/6070/63485/6070-63485-0001.flac': 'THE TWO MONSTERS TOOK OFF THEIR SHOES AND MOVED STEALTHILY ALONG KEEPING IN THE SHADOWS OF THE HOUSES', '/content/librispeech-other/LibriSpeech/test-other/6070/63485/6070-63485-0009.flac': 'DID YOU SEE IN THE CABARET WE HAVE JUST LEFT FOR I KNOW YOU AGAIN THE MAN WHOM THE CHARCOAL MAN CAME TO SEEK', '/content/librispeech-other/LibriSpeech/test-other/6070/63485/6070-63485-0016.flac': 'BETWEEN SAINT OUEN AND THE ROAD OF LA REVOLTE AT THE END OF THE ROAD AGREED', '/content/librispeech-other/LibriSpeech/test-other/6070/63485/6070-63485-0002.flac': 'BY MEANS OF THIS STRATAGEM THEY FOLLOWED SO CLOSELY THAT ALTHOUGH WITHIN A FEW STEPS OF SARAH AND TOM THEY DID NOT HEAR THEM', '/content/librispeech-other/LibriSpeech/test-other/6070/63485/6070-63485-0010.flac': \"CRIED THE SCHOOLMASTER A THOUSAND FRANCS AND I'LL KILL HIM\", '/content/librispeech-other/LibriSpeech/test-other/6070/63485/6070-63485-0018.flac': 'THE FIACRE STARTED', '/content/librispeech-other/LibriSpeech/test-other/6070/63485/6070-63485-0011.flac': 'WRETCH I DO NOT SEEK HIS LIFE REPLIED SARAH TO THE SCHOOLMASTER', '/content/librispeech-other/LibriSpeech/test-other/6070/63485/6070-63485-0006.flac': 'TOM SEYTON DID NOT LOSE HIS PRESENCE OF MIND DURING THIS SCENE RAPIDLY AND UNEXPECTEDLY AS IT HAD OCCURRED', '/content/librispeech-other/LibriSpeech/test-other/6070/63485/6070-63485-0003.flac': 'SARAH AND HER BROTHER HAVING AGAIN PASSED BY THE TAPIS FRANC ARRIVED CLOSE TO THE DILAPIDATED HOUSE WHICH WAS PARTLY IN RUINS AND ITS OPENED CELLARS FORMED A KIND OF GULF ALONG WHICH THE STREET RAN IN THAT DIRECTION', '/content/librispeech-other/LibriSpeech/test-other/6070/86744/6070-86744-0022.flac': 'TALKING OF COUNTRIES REPLIED FRANZ OF WHAT COUNTRY IS THE COUNT WHAT IS HIS NATIVE TONGUE WHENCE DOES HE DERIVE HIS IMMENSE FORTUNE AND WHAT WERE THOSE EVENTS OF HIS EARLY LIFE A LIFE AS MARVELLOUS AS UNKNOWN THAT HAVE TINCTURED HIS SUCCEEDING YEARS WITH SO DARK AND GLOOMY A MISANTHROPY', '/content/librispeech-other/LibriSpeech/test-other/6070/86744/6070-86744-0004.flac': 'THEN IT IS SETTLED SAID THE COUNT AND I GIVE YOU MY SOLEMN ASSURANCE THAT I ONLY WAITED AN OPPORTUNITY LIKE THE PRESENT TO REALIZE PLANS THAT I HAVE LONG MEDITATED', '/content/librispeech-other/LibriSpeech/test-other/6070/86744/6070-86744-0001.flac': 'MY VERY GOOD FRIEND AND EXCELLENT NEIGHBOR REPLIED THE COUNT WITH A SMILE YOU REALLY EXAGGERATE MY TRIFLING EXERTIONS', '/content/librispeech-other/LibriSpeech/test-other/6070/86744/6070-86744-0021.flac': 'WHY REALLY THE THING SEEMS TO ME SIMPLE ENOUGH', '/content/librispeech-other/LibriSpeech/test-other/6070/86744/6070-86744-0023.flac': 'CERTAINLY THESE ARE QUESTIONS THAT IN YOUR PLACE I SHOULD LIKE TO HAVE ANSWERED', '/content/librispeech-other/LibriSpeech/test-other/6070/86744/6070-86744-0000.flac': \"FRANZ WHO SEEMED ATTRACTED BY SOME INVISIBLE INFLUENCE TOWARDS THE COUNT IN WHICH TERROR WAS STRANGELY MINGLED FELT AN EXTREME RELUCTANCE TO PERMIT HIS FRIEND TO BE EXPOSED ALONE TO THE SINGULAR FASCINATION THAT THIS MYSTERIOUS PERSONAGE SEEMED TO EXERCISE OVER HIM AND THEREFORE MADE NO OBJECTION TO ALBERT'S REQUEST BUT AT ONCE ACCOMPANIED HIM TO THE DESIRED SPOT AND AFTER A SHORT DELAY THE COUNT JOINED THEM IN THE SALON\", '/content/librispeech-other/LibriSpeech/test-other/6070/86744/6070-86744-0029.flac': 'AND NOW MY DEAR FRANZ LET US TALK OF SOMETHING ELSE', '/content/librispeech-other/LibriSpeech/test-other/6070/86744/6070-86744-0003.flac': 'I CAN SCARCELY CREDIT IT', '/content/librispeech-other/LibriSpeech/test-other/6070/86744/6070-86744-0009.flac': 'THAT DEPENDS WHEN DO YOU LEAVE', '/content/librispeech-other/LibriSpeech/test-other/6070/86744/6070-86744-0018.flac': 'HE DWELT WITH CONSIDERABLE FORCE AND ENERGY ON THE ALMOST MAGICAL HOSPITALITY HE HAD RECEIVED FROM THE COUNT AND THE MAGNIFICENCE OF HIS ENTERTAINMENT IN THE GROTTO OF THE THOUSAND AND ONE NIGHTS HE RECOUNTED WITH CIRCUMSTANTIAL EXACTITUDE ALL THE PARTICULARS OF THE SUPPER THE HASHISH THE STATUES THE DREAM AND HOW AT HIS AWAKENING THERE REMAINED NO PROOF OR TRACE OF ALL THESE EVENTS SAVE THE SMALL YACHT SEEN IN THE DISTANT HORIZON DRIVING UNDER FULL SAIL TOWARD PORTO VECCHIO', '/content/librispeech-other/LibriSpeech/test-other/6070/86744/6070-86744-0014.flac': 'WHAT IS THE MATTER ASKED ALBERT OF FRANZ WHEN THEY HAD RETURNED TO THEIR OWN APARTMENTS YOU SEEM MORE THAN COMMONLY THOUGHTFUL', '/content/librispeech-other/LibriSpeech/test-other/6070/86744/6070-86744-0002.flac': 'MY FATHER THE COMTE DE MORCERF ALTHOUGH OF SPANISH ORIGIN POSSESSES CONSIDERABLE INFLUENCE BOTH AT THE COURT OF FRANCE AND MADRID AND I UNHESITATINGLY PLACE THE BEST SERVICES OF MYSELF AND ALL TO WHOM MY LIFE IS DEAR AT YOUR DISPOSAL', '/content/librispeech-other/LibriSpeech/test-other/6070/86744/6070-86744-0016.flac': 'DID YOU EVER MEET HIM PREVIOUSLY TO COMING HITHER', '/content/librispeech-other/LibriSpeech/test-other/6070/86744/6070-86744-0028.flac': 'WELL SAID FRANZ WITH A SIGH DO AS YOU PLEASE MY DEAR VISCOUNT FOR YOUR ARGUMENTS ARE BEYOND MY POWERS OF REFUTATION', '/content/librispeech-other/LibriSpeech/test-other/6070/86744/6070-86744-0010.flac': 'FOR FRANCE NO FOR VENICE I SHALL REMAIN IN ITALY FOR ANOTHER YEAR OR TWO', '/content/librispeech-other/LibriSpeech/test-other/6070/86744/6070-86744-0026.flac': 'I CONFESS HE ASKED ME NONE NO HE MERELY CAME AND FREED ME FROM THE HANDS OF SIGNOR VAMPA WHERE I CAN ASSURE YOU IN SPITE OF ALL MY OUTWARD APPEARANCE OF EASE AND UNCONCERN I DID NOT VERY PARTICULARLY CARE TO REMAIN', '/content/librispeech-other/LibriSpeech/test-other/6070/86744/6070-86744-0017.flac': 'UPON MY HONOR THEN LISTEN TO ME', '/content/librispeech-other/LibriSpeech/test-other/6070/86744/6070-86744-0025.flac': 'WHAT ARE HIS MEANS OF EXISTENCE WHAT IS HIS BIRTHPLACE OF WHAT COUNTRY IS HE A NATIVE', '/content/librispeech-other/LibriSpeech/test-other/6070/86744/6070-86744-0007.flac': \"I RESIDE IN MY FATHER'S HOUSE BUT OCCUPY A PAVILION AT THE FARTHER SIDE OF THE COURT YARD ENTIRELY SEPARATED FROM THE MAIN BUILDING\", '/content/librispeech-other/LibriSpeech/test-other/6070/86744/6070-86744-0006.flac': \"SO BE IT THEN REPLIED THE COUNT AND EXTENDING HIS HAND TOWARDS A CALENDAR SUSPENDED NEAR THE CHIMNEY PIECE HE SAID TO DAY IS THE TWENTY FIRST OF FEBRUARY AND DRAWING OUT HIS WATCH ADDED IT IS EXACTLY HALF PAST TEN O'CLOCK NOW PROMISE ME TO REMEMBER THIS AND EXPECT ME THE TWENTY FIRST OF MAY AT THE SAME HOUR IN THE FORENOON\", '/content/librispeech-other/LibriSpeech/test-other/6070/86744/6070-86744-0024.flac': \"MY DEAR FRANZ REPLIED ALBERT WHEN UPON RECEIPT OF MY LETTER YOU FOUND THE NECESSITY OF ASKING THE COUNT'S ASSISTANCE YOU PROMPTLY WENT TO HIM SAYING MY FRIEND ALBERT DE MORCERF IS IN DANGER HELP ME TO DELIVER HIM\", '/content/librispeech-other/LibriSpeech/test-other/6070/86744/6070-86744-0027.flac': \"AND THIS TIME IT MUST BE CONFESSED THAT CONTRARY TO THE USUAL STATE OF AFFAIRS IN DISCUSSIONS BETWEEN THE YOUNG MEN THE EFFECTIVE ARGUMENTS WERE ALL ON ALBERT'S SIDE\", '/content/librispeech-other/LibriSpeech/test-other/6070/86744/6070-86744-0012.flac': 'I FEAR I SHALL NOT HAVE THAT HONOR', '/content/librispeech-other/LibriSpeech/test-other/6070/86744/6070-86744-0020.flac': 'BUT SAID FRANZ THE CORSICAN BANDITS THAT WERE AMONG THE CREW OF HIS VESSEL', '/content/librispeech-other/LibriSpeech/test-other/6070/86744/6070-86744-0013.flac': 'WELL SINCE WE MUST PART SAID THE COUNT HOLDING OUT A HAND TO EACH OF THE YOUNG MEN ALLOW ME TO WISH YOU BOTH A SAFE AND PLEASANT JOURNEY', '/content/librispeech-other/LibriSpeech/test-other/6070/86744/6070-86744-0008.flac': 'NOW THEN SAID THE COUNT RETURNING HIS TABLETS TO HIS POCKET MAKE YOURSELF PERFECTLY EASY THE HAND OF YOUR TIME PIECE WILL NOT BE MORE ACCURATE IN MARKING THE TIME THAN MYSELF', '/content/librispeech-other/LibriSpeech/test-other/6070/86744/6070-86744-0019.flac': 'THEN HE DETAILED THE CONVERSATION OVERHEARD BY HIM AT THE COLOSSEUM BETWEEN THE COUNT AND VAMPA IN WHICH THE COUNT HAD PROMISED TO OBTAIN THE RELEASE OF THE BANDIT PEPPINO AN ENGAGEMENT WHICH AS OUR READERS ARE AWARE HE MOST FAITHFULLY FULFILLED', '/content/librispeech-other/LibriSpeech/test-other/6070/86744/6070-86744-0005.flac': 'SHALL WE MAKE A POSITIVE APPOINTMENT FOR A PARTICULAR DAY AND HOUR INQUIRED THE COUNT ONLY LET ME WARN YOU THAT I AM PROVERBIAL FOR MY PUNCTILIOUS EXACTITUDE IN KEEPING MY ENGAGEMENTS DAY FOR DAY HOUR FOR HOUR SAID ALBERT THAT WILL SUIT ME TO A DOT', '/content/librispeech-other/LibriSpeech/test-other/6070/86744/6070-86744-0011.flac': 'THEN WE SHALL NOT MEET IN PARIS', '/content/librispeech-other/LibriSpeech/test-other/6070/86744/6070-86744-0015.flac': 'I WILL CONFESS TO YOU ALBERT REPLIED FRANZ THE COUNT IS A VERY SINGULAR PERSON AND THE APPOINTMENT YOU HAVE MADE TO MEET HIM IN PARIS FILLS ME WITH A THOUSAND APPREHENSIONS', '/content/librispeech-other/LibriSpeech/test-other/6070/86745/6070-86745-0001.flac': 'SHRUBS AND CREEPING PLANTS COVERED THE WINDOWS AND HID FROM THE GARDEN AND COURT THESE TWO APARTMENTS THE ONLY ROOMS INTO WHICH AS THEY WERE ON THE GROUND FLOOR THE PRYING EYES OF THE CURIOUS COULD PENETRATE', '/content/librispeech-other/LibriSpeech/test-other/6070/86745/6070-86745-0006.flac': 'THE VALET LEFT THE ROOM', '/content/librispeech-other/LibriSpeech/test-other/6070/86745/6070-86745-0009.flac': 'NO NO MY DEAR FELLOW DO NOT CONFOUND OUR PLANS', '/content/librispeech-other/LibriSpeech/test-other/6070/86745/6070-86745-0008.flac': 'YOU WHOM I EXPECTED LAST YOU ARRIVE AT FIVE MINUTES TO TEN WHEN THE TIME FIXED WAS HALF PAST', '/content/librispeech-other/LibriSpeech/test-other/6070/86745/6070-86745-0018.flac': 'COME COME THAT IS NOT BAD SAID LUCIEN', '/content/librispeech-other/LibriSpeech/test-other/6070/86745/6070-86745-0003.flac': 'WAIT THEN DURING THE DAY TELL ROSA THAT WHEN I LEAVE THE OPERA I WILL SUP WITH HER AS SHE WISHES', '/content/librispeech-other/LibriSpeech/test-other/6070/86745/6070-86745-0016.flac': 'IN THE ENTIRE POLITICAL WORLD OF WHICH YOU ARE ONE OF THE LEADERS', '/content/librispeech-other/LibriSpeech/test-other/6070/86745/6070-86745-0012.flac': 'I RETURNED HOME AT DAYBREAK AND STROVE TO SLEEP BUT MY HEAD ACHED AND I GOT UP TO HAVE A RIDE FOR AN HOUR', '/content/librispeech-other/LibriSpeech/test-other/6070/86745/6070-86745-0000.flac': \"THEN SHOULD ANYTHING APPEAR TO MERIT A MORE MINUTE EXAMINATION ALBERT DE MORCERF COULD FOLLOW UP HIS RESEARCHES BY MEANS OF A SMALL GATE SIMILAR TO THAT CLOSE TO THE CONCIERGE'S DOOR AND WHICH MERITS A PARTICULAR DESCRIPTION\", '/content/librispeech-other/LibriSpeech/test-other/6070/86745/6070-86745-0004.flac': 'VERY WELL AT HALF PAST TEN', '/content/librispeech-other/LibriSpeech/test-other/6070/86745/6070-86745-0015.flac': 'ABOUT WHAT ABOUT THE PAPERS', '/content/librispeech-other/LibriSpeech/test-other/6070/86745/6070-86745-0007.flac': 'GOOD MORNING LUCIEN GOOD MORNING SAID ALBERT YOUR PUNCTUALITY REALLY ALARMS ME', '/content/librispeech-other/LibriSpeech/test-other/6070/86745/6070-86745-0011.flac': 'IT IS FOR THAT REASON YOU SEE ME SO EARLY', '/content/librispeech-other/LibriSpeech/test-other/6070/86745/6070-86745-0013.flac': 'PESTE I WILL DO NOTHING OF THE KIND THE MOMENT THEY COME FROM GOVERNMENT YOU WOULD FIND THEM EXECRABLE', '/content/librispeech-other/LibriSpeech/test-other/6070/86745/6070-86745-0005.flac': 'IS THE COUNTESS UP YET', '/content/librispeech-other/LibriSpeech/test-other/6070/86745/6070-86745-0002.flac': \"AT A QUARTER TO TEN A VALET ENTERED HE COMPOSED WITH A LITTLE GROOM NAMED JOHN AND WHO ONLY SPOKE ENGLISH ALL ALBERT'S ESTABLISHMENT ALTHOUGH THE COOK OF THE HOTEL WAS ALWAYS AT HIS SERVICE AND ON GREAT OCCASIONS THE COUNT'S CHASSEUR ALSO\", '/content/librispeech-other/LibriSpeech/test-other/6070/86745/6070-86745-0019.flac': 'WITH YOUR TALENTS YOU WOULD MAKE YOUR FORTUNE IN THREE OR FOUR YEARS', '/content/librispeech-other/LibriSpeech/test-other/6070/86745/6070-86745-0017.flac': 'THEY SAY THAT IT IS QUITE FAIR AND THAT SOWING SO MUCH RED YOU OUGHT TO REAP A LITTLE BLUE', '/content/librispeech-other/LibriSpeech/test-other/6070/86745/6070-86745-0014.flac': 'BESIDES THAT DOES NOT CONCERN THE HOME BUT THE FINANCIAL DEPARTMENT', '/content/librispeech-other/LibriSpeech/test-other/6070/86745/6070-86745-0010.flac': 'YES HE HAS NOT MUCH TO COMPLAIN OF BOURGES IS THE CAPITAL OF CHARLES SEVEN'}\n"
          ]
        }
      ]
    },
    {
      "cell_type": "markdown",
      "metadata": {
        "id": "gzNb1cZzvxUh"
      },
      "source": [
        "### Encoder-Decoder with attention\n",
        "One of the popular way to approach speech recognition is via an encoder-decoder architecture. \n",
        "The **encoder** is fed by a sequence of speech features (or from the raw samples directly) and generates a sequence of states h.\n",
        "The **decoder** is fed by the last hidden state and outputs the N output tokens.\n",
        "The decoder is often autoregressive (i.e., the previous output is fed back into the input). Decoding is stopped when the end-of-sentence (eos) token is predicted.\n",
        "The encoder and decoders can be based on any neural architectures (e.g., RNN, CNN, Transformers, or a combination of them). \n",
        "\n",
        "The **attention** creates dynamic connections across encoder and decoder states. SpeechBrain supports different types of attention such as *content* or *location-aware* for RNN-based systems and *key-value*-based for Transformers.\n",
        "To improve the convergence often a CTC loss is applied on the top of the encoder."
      ]
    },
    {
      "cell_type": "markdown",
      "metadata": {
        "id": "QuZ9OY_tYopV"
      },
      "source": [
        "#### RNN Language Model\n",
        "\n",
        "Applying deep learning for end-to-end ASR allows the model to learn from the data instead of relying on heavily engineered features, allowing the models to learn from the data directly.\n",
        "\n",
        "\n",
        "**Pipeline description**\n",
        "\n",
        "This ASR system is composed with 3 different but linked blocks:\n",
        "\n",
        "* Tokenizer (unigram) that transforms words into subword units and trained with the train transcriptions of LibriSpeech.\n",
        "    \n",
        "* Neural language model (Recurrent Neural Net Language Model (RNNLM) is a type of neural network language models which contains the RNNs in the network. Since an RNN can deal with the variable length inputs, it is suitable for modeling the sequential data such as sentences in natural language trained on the full 10M words dataset.\n",
        "    \n",
        "* Acoustic model (CRDNN (Convolutional Recurrent Deep Neural Networks) + CTC (Connectionist Temporal Classification)/Attention). The CRDNN architecture is made of N blocks of convolutional neural networks with normalization and pooling on the frequency domain. Then, a bidirectional LSTM is connected to a final DNN to obtain the final acoustic representation that is given to the CTC and attention decoders.\n",
        "\n",
        "* **Gated recurrent units (GRUs)** are a gating mechanism in recurrent neural networks, introduced in 2014 by Kyunghyun Cho et al. The GRU is like a long short-term memory (LSTM) with a forget gate, but has fewer parameters than LSTM, as it lacks an output gate. GRU's performance on certain tasks of polyphonic music modeling, speech signal modeling and natural language processing was found to be similar to that of LSTM. GRUs have been shown to exhibit better performance on certain smaller and less frequent datasets. For more details refer to the following [link](https://en.wikipedia.org/wiki/Gated_recurrent_unit)\n",
        "\n",
        "* The Loss function used is **Negative Log-Likelihood Loss (NLL):** \n",
        "$ loss(x,y) = -log(y)$.\n",
        "\n",
        "* NLL loss maximizes the overall probability of the data. It penalizes the model when it predicts the correct class with smaller probabilities and incentivizes when the prediction is made with higher probability. The logrithm does the penalizing part here. Smaller the probabilities, higher will be its logrithm. The negative sign is used here because the probabilities lie in the range [0, 1] and the logrithms of values in this range is negative. So it makes the loss value to be positive.\n",
        "\n",
        "* Learning rate scheduler seek to adjust the learning rate during training by reducing the learning rate according to a pre-defined scheduler.\n",
        "\n",
        "**Note:** Refer to the following [link](https://towardsdatascience.com/audio-deep-learning-made-simple-automatic-speech-recognition-asr-how-it-works-716cfce4c706) for more details of CRDNN and CTC \n",
        "\n",
        "\n",
        "<center>\n",
        "<img src=\"https://cdn.iisc.talentsprint.com/DLFA/Experiment_related_data/RNNLM.png\" width=800px/>\n",
        "</center>\n",
        "<br><br>\n",
        "\n",
        "\n"
      ]
    },
    {
      "cell_type": "markdown",
      "metadata": {
        "id": "P8J9fDH2ZShe"
      },
      "source": [
        "#### Transformer for LibriSpeech (with Transformer Language Model) \n",
        "\n",
        "**Pipeline description**\n",
        "\n",
        "This ASR system is composed of 3 different linked blocks:\n",
        "\n",
        "* Tokenizer (unigram) that transforms words into subword units and trained with the train transcriptions of LibriSpeech.\n",
        "    \n",
        "* Neural language model (Transformer LM) trained on the full 10M words dataset.\n",
        "    \n",
        "* Acoustic model made of a transformer encoder and a joint decoder with CTC (Connectionist Temporal Classification) + transformer. Hence, the decoding also incorporates the CTC probabilities.\n",
        "\n",
        "* Connectionist Temporal Classification (CTC Loss), is simply a loss function that is used to train Neural Networks, like Cross-Entropy and so on. It is used at problems, where having aligned data is an issue, like Speech Recognition. By using CTC, there is no need for aligned data. That is because it can assign a probability for any label, given an input. This means it only requires an audio file as input and a corresponding transcription.  But how can CTC assign a probability for any label, just given an input? CTC is \"alignment-free“. It works by summing over the probability of all possible alignments between the input and the label.\n",
        "\n",
        "\n",
        "The Speech-Transformer transforms the speech feature sequence to the corresponding character sequence. The feature sequence which is longer than the output character sequence is constructed from 2-dimensional spectrograms with time and frequency dimensions. More specifically, CNNs are used to exploit the structure locality of spectrograms and mitigate the length mismatch by striding along time.\n",
        "\n",
        "In the Speech Transformer, 2D attention is used in order to attend at both the frequency and the time dimensions. The queries, keys, and values are extracted from convolutional neural networks and fed to the two self-attention modules.\n",
        "\n",
        "\n",
        "\n",
        "<center>\n",
        "<img src=\"https://cdn.iisc.talentsprint.com/DLFA/Experiment_related_data/Speech_Transformer.png\" width=600px/>\n",
        "</center>\n",
        "<br><br>\n"
      ]
    },
    {
      "cell_type": "markdown",
      "metadata": {
        "id": "5zHdMpe3ZWmm"
      },
      "source": [
        "#### Wav2vec 2.0 with CTC/Attention trained on CommonVoice English (No LM) \n",
        "\n",
        "**Pipeline description**\n",
        "\n",
        "\n",
        "This ASR system is composed of 2 different but linked blocks:\n",
        "\n",
        "*   Tokenizer (unigram) that transforms words into subword units and trained with the train transcriptions (train.tsv) of CommonVoice (EN).\n",
        "*   Acoustic model (wav2vec2.0 + CTC/Attention). A pretrained wav2vec 2.0 model (wav2vec2-lv60-large) is combined with two DNN layers and finetuned on CommonVoice En. The obtained final acoustic representation is given to the CTC and attention decoders.\n",
        "\n",
        "\n",
        "<center>\n",
        "<img src=\"https://cdn.iisc.talentsprint.com/DLFA/Experiment_related_data/Wav2vec.png\" width=800px/>\n",
        "</center>\n",
        "<br><br>\n",
        "\n",
        " *   Left: the structure of wav2vec2.0 and corresponding self-training criterion. It contains a stack of convolution layers and self-attention layers; \n",
        "\n",
        " *   Right: two decoding branches that apply wav2vec2.0 to ASR tasks with additional projection or decoder,\n",
        "which is trained with CTC or cross-entropy loss respectively.\n",
        "\n",
        "wav2vec2.0 consists of multiple convolution layers and self-attention layers. This structure is widely\n",
        "used in recent end-to-end ASR models. Convolution layers down-sample speech X and generate more compressed latent representation Z. Specifically, Z represents the\n",
        "raw audio signals X sampled by 16k with a stride of about\n",
        "20ms and a receptive field of 25ms. Self-attention layers\n",
        "build contextualized representations C and capture high level\n",
        "content from input Z. Their strong context dependency modeling ability empowers the model to make the right choices\n",
        "during the following contrastive training given the masked Z.\n",
        "    \n"
      ]
    },
    {
      "cell_type": "code",
      "metadata": {
        "id": "yV0PVyQgIn8N",
        "colab": {
          "base_uri": "https://localhost:8080/"
        },
        "outputId": "cb96929a-bda4-44d5-c6da-49caf0afc57c"
      },
      "source": [
        "# Listing the model names and the pretrained model and links used \n",
        "asr.list_models()"
      ],
      "execution_count": null,
      "outputs": [
        {
          "output_type": "stream",
          "name": "stdout",
          "text": [
            "+--------------+--------------+--------------+--------------+------------------+\n",
            "|  model name  |     ASR      |      LM      |  pretrained  |       link       |\n",
            "+--------------+--------------+--------------+--------------+------------------+\n",
            "|     rnn      |     RNN      |     RNN      | LibriSpeech  | https://huggingf |\n",
            "|              |              |              |              | ace.co/speechbra |\n",
            "|              |              |              |              | in/asr-crdnn-rnn |\n",
            "|              |              |              |              |  lm-librispeech  |\n",
            "+--------------+--------------+--------------+--------------+------------------+\n",
            "| transformers | Transformers | Transformers | LibriSpeech  | https://huggingf |\n",
            "|              |              |              |              | ace.co/speechbra |\n",
            "|              |              |              |              | in/asr-transform |\n",
            "|              |              |              |              | er-transformerlm |\n",
            "|              |              |              |              |   -librispeech   |\n",
            "+--------------+--------------+--------------+--------------+------------------+\n",
            "|   wav2vec    |   Wav2vec    | Transformers | Common-voice |  https://hugging |\n",
            "|              |              |              |              | face.co/speechbr |\n",
            "|              |              |              |              | ain/asr-wav2vec2 |\n",
            "|              |              |              |              | -commonvoice-en  |\n",
            "+--------------+--------------+--------------+--------------+------------------+\n"
          ]
        }
      ]
    },
    {
      "cell_type": "markdown",
      "metadata": {
        "id": "n6pF6ldqC2lH"
      },
      "source": [
        "### Loading the pretrained EncoderDecoderASR \n",
        "\n",
        "From the `speechbrain.pretrained` we are loading a ready-to-use Encoder-Decoder ASR model. The class can be used either to run only the encoder (encode()) to extract features or to run the entire encoder-decoder model (transcribe()) to transcribe speech.\n",
        "\n",
        "For more details refer to the following [link](https://speechbrain.readthedocs.io/en/latest/API/speechbrain.pretrained.interfaces.html#module-speechbrain.pretrained.interfaces) about speechbrain.pretrained"
      ]
    },
    {
      "cell_type": "code",
      "metadata": {
        "id": "ebKVJVpuOxDk"
      },
      "source": [
        "# The EncoderDecoderASR works as as wrapper while passing the 'rnn', 'transformers' and 'wav2vec'\n",
        "from speechbrain.pretrained import EncoderDecoderASR"
      ],
      "execution_count": null,
      "outputs": []
    },
    {
      "cell_type": "code",
      "metadata": {
        "id": "yGSMe-Ipf7tj"
      },
      "source": [
        "# Select the model name\n",
        "source, savedir = asr.select_model('rnn')"
      ],
      "execution_count": null,
      "outputs": []
    },
    {
      "cell_type": "code",
      "metadata": {
        "id": "umkgy6MErjBb",
        "colab": {
          "base_uri": "https://localhost:8080/",
          "height": 177,
          "referenced_widgets": [
            "2af61e5bef51456697e059025150e52a",
            "0ee491144940486abf08d5a27063469b",
            "52965450bcaa4eb98aeec95629d7d322",
            "bbf3f2c766e24471a10640e3a50fb036",
            "e40cf6b216e14dc9bf972b061e5c1d4b",
            "5beeec94bd3642bca5e199bbc5f904c4",
            "890fe35e3b354aaeac29288fb2a2c3e3",
            "282e758326de43c5ab854104f73fc85b",
            "e64edaeedcad47afa86fa225685ea7ee",
            "42f28a3cf727419f8e4bce1deeda512b",
            "cbcdc587bcf245da979ab267f956939d",
            "fd5d9298f26d4f3eb12c6882d4433a46",
            "90b1053636954df7b88b1829c94705a4",
            "8795de2db7d742b4ab5a5d7310e1d5bd",
            "3680402ba95f4629a6339e8251fe0768",
            "1a0eca3a930c4913beb163736b26dff3",
            "daa0f069cf944d8c8b67fe8fe0ab2087",
            "8da1991da08c47c397c721b1831e4a03",
            "6ca5dad0c1f9461cb06cb88be608fdb5",
            "35f6c263174b4beab0c75457f87c9987",
            "1dac1c6b31914c14babd8d24666b03f1",
            "cc12b7c211544904af9e5d3518a6def0",
            "23597cdd49564d8eb7d9b6b9cd46ea2e",
            "319559e1d54943d08164837e95e950a9",
            "83ef39bd10114cc38311288d433aa706",
            "e0e19da2dfe9425390b85b77485ad19b",
            "ea191379ff0946ebada352cdda21c29d",
            "6740610ca222482e851c902b889d1f2d",
            "861a5ad2962049dc992c131761f33633",
            "9666771d909d4af3a0544bef35579416",
            "2e36f5ffb4774e25a690b0481312b25c",
            "247fff7e833842bf9504b1be5913f002",
            "7a86d5936fa947d09ee91fed2f303da6",
            "de92342f05354b0987763b6495d37d98",
            "cea0b40d994640c1aa3acab63ffaaa66",
            "83769461eea24c0b92c55bdc0d6711d0",
            "109f1e1b47fd44bbb3757d5305cd6977",
            "63d156705ffa4948ac07e8fcdb21f1e2",
            "735c9d252edb4dd0b67c5ac580fdb0fd",
            "492c4271109249af80e06ba90d9b9bd1",
            "7bdfb9465a1d449bbb39198a667dd8a6",
            "6d8974372808491184b7ba63f7b1d409",
            "e6868fe1cc1b480b90913e9ad1d27608",
            "e8fd7f4a367d466ca2f94519f7796b43",
            "7c24c85e827b48e0b41058f2a397adc9",
            "3f22c65e6c5f4fbfbbc43f6f3b8e17c3",
            "228231dcd6594da8a434623b58ac52f4",
            "dce5cbe28e7e4e4eb51a627e2c56aa1d",
            "d4483e7eaaab43978419261714d030fc",
            "f2916d2247054037b5b12d1c06c4a2b4",
            "6e218e29d58c4cb8bb06ce47ccdd03de",
            "fb4b2c9c4ca9480ea0c16533cd582222",
            "fca5e273c4c64b05ad4a6da7e5d05efa",
            "f577fe7d593246059f2bc0f183b055cd",
            "85674777bd7b42b489321bba90507209"
          ]
        },
        "outputId": "4d08df6c-9c7b-4792-fc57-77c597271505"
      },
      "source": [
        "# A ready-to-use Encoder-Decoder ASR model \n",
        "# The hyper parameter to pass are - source: The location to use for finding the model\n",
        "# savedir (str or Path) – Where to store the pretraining material. \n",
        "asr_model = EncoderDecoderASR.from_hparams(source=source,savedir=savedir, run_opts={\"device\":\"cuda\"})"
      ],
      "execution_count": null,
      "outputs": [
        {
          "output_type": "display_data",
          "data": {
            "application/vnd.jupyter.widget-view+json": {
              "model_id": "2af61e5bef51456697e059025150e52a",
              "version_minor": 0,
              "version_major": 2
            },
            "text/plain": [
              "Downloading:   0%|          | 0.00/4.49k [00:00<?, ?B/s]"
            ]
          },
          "metadata": {}
        },
        {
          "output_type": "display_data",
          "data": {
            "application/vnd.jupyter.widget-view+json": {
              "model_id": "fd5d9298f26d4f3eb12c6882d4433a46",
              "version_minor": 0,
              "version_major": 2
            },
            "text/plain": [
              "Downloading:   0%|          | 0.00/1.41k [00:00<?, ?B/s]"
            ]
          },
          "metadata": {}
        },
        {
          "output_type": "display_data",
          "data": {
            "application/vnd.jupyter.widget-view+json": {
              "model_id": "23597cdd49564d8eb7d9b6b9cd46ea2e",
              "version_minor": 0,
              "version_major": 2
            },
            "text/plain": [
              "Downloading:   0%|          | 0.00/480M [00:00<?, ?B/s]"
            ]
          },
          "metadata": {}
        },
        {
          "output_type": "display_data",
          "data": {
            "application/vnd.jupyter.widget-view+json": {
              "model_id": "de92342f05354b0987763b6495d37d98",
              "version_minor": 0,
              "version_major": 2
            },
            "text/plain": [
              "Downloading:   0%|          | 0.00/212M [00:00<?, ?B/s]"
            ]
          },
          "metadata": {}
        },
        {
          "output_type": "display_data",
          "data": {
            "application/vnd.jupyter.widget-view+json": {
              "model_id": "7c24c85e827b48e0b41058f2a397adc9",
              "version_minor": 0,
              "version_major": 2
            },
            "text/plain": [
              "Downloading:   0%|          | 0.00/253k [00:00<?, ?B/s]"
            ]
          },
          "metadata": {}
        }
      ]
    },
    {
      "cell_type": "code",
      "metadata": {
        "id": "g_h9exnBO8wo",
        "colab": {
          "base_uri": "https://localhost:8080/",
          "height": 97
        },
        "outputId": "d28c4543-c501-4c96-c06f-d8568ed9616a"
      },
      "source": [
        "# Record your own audio and after recording click on stop button\n",
        "sr, y = utils.get_audio()     "
      ],
      "execution_count": null,
      "outputs": [
        {
          "output_type": "display_data",
          "data": {
            "text/html": [
              "\n",
              "<script>\n",
              "var my_div = document.createElement(\"DIV\");\n",
              "var my_p = document.createElement(\"P\");\n",
              "var my_btn = document.createElement(\"BUTTON\");\n",
              "var t = document.createTextNode(\"Press to start recording\");\n",
              "\n",
              "my_btn.appendChild(t);\n",
              "//my_p.appendChild(my_btn);\n",
              "my_div.appendChild(my_btn);\n",
              "document.body.appendChild(my_div);\n",
              "\n",
              "var base64data = 0;\n",
              "var reader;\n",
              "var recorder, gumStream;\n",
              "var recordButton = my_btn;\n",
              "\n",
              "var handleSuccess = function(stream) {\n",
              "  gumStream = stream;\n",
              "  var options = {\n",
              "    //bitsPerSecond: 8000, //chrome seems to ignore, always 48k\n",
              "    mimeType : 'audio/webm;codecs=opus'\n",
              "    //mimeType : 'audio/webm;codecs=pcm'\n",
              "  };\n",
              "  //recorder = new MediaRecorder(stream, options);\n",
              "  recorder = new MediaRecorder(stream);\n",
              "  recorder.ondataavailable = function(e) {\n",
              "    var url = URL.createObjectURL(e.data);\n",
              "    var preview = document.createElement('audio');\n",
              "    preview.controls = true;\n",
              "    preview.src = url;\n",
              "    document.body.appendChild(preview);\n",
              "\n",
              "    reader = new FileReader();\n",
              "    reader.readAsDataURL(e.data);\n",
              "    reader.onloadend = function() {\n",
              "      base64data = reader.result;\n",
              "      //console.log(\"Inside FileReader:\" + base64data);\n",
              "    }\n",
              "  };\n",
              "  recorder.start();\n",
              "  };\n",
              "\n",
              "recordButton.innerText = \"Recording... press to stop\";\n",
              "\n",
              "navigator.mediaDevices.getUserMedia({audio: true}).then(handleSuccess);\n",
              "\n",
              "\n",
              "function toggleRecording() {\n",
              "  if (recorder && recorder.state == \"recording\") {\n",
              "      recorder.stop();\n",
              "      gumStream.getAudioTracks()[0].stop();\n",
              "      recordButton.innerText = \"Saved!\"\n",
              "  }\n",
              "}\n",
              "\n",
              "// https://stackoverflow.com/a/951057\n",
              "function sleep(ms) {\n",
              "  return new Promise(resolve => setTimeout(resolve, ms));\n",
              "}\n",
              "\n",
              "var data = new Promise(resolve=>{\n",
              "//recordButton.addEventListener(\"click\", toggleRecording);\n",
              "recordButton.onclick = ()=>{\n",
              "toggleRecording()\n",
              "\n",
              "sleep(2000).then(() => {\n",
              "  // wait 2000ms for the data to be available...\n",
              "  // ideally this should use something like await...\n",
              "  //console.log(\"Inside data:\" + base64data)\n",
              "  resolve(base64data.toString())\n",
              "\n",
              "});\n",
              "\n",
              "}\n",
              "});\n",
              "\n",
              "</script>\n"
            ],
            "text/plain": [
              "<IPython.core.display.HTML object>"
            ]
          },
          "metadata": {}
        }
      ]
    },
    {
      "cell_type": "code",
      "metadata": {
        "id": "EJzg_oG8r7qn",
        "colab": {
          "base_uri": "https://localhost:8080/"
        },
        "outputId": "0d37d372-96c7-41be-cfaa-cf2d8630d005"
      },
      "source": [
        "# Print the Sampling Rate\n",
        "print(sr)"
      ],
      "execution_count": null,
      "outputs": [
        {
          "output_type": "stream",
          "name": "stdout",
          "text": [
            "48000\n"
          ]
        }
      ]
    },
    {
      "cell_type": "code",
      "metadata": {
        "id": "1haZO6TEYYOj",
        "colab": {
          "base_uri": "https://localhost:8080/",
          "height": 52
        },
        "outputId": "a21b2a37-8b51-4087-c50b-d0058485082e"
      },
      "source": [
        "# Save the recorded audio samples\n",
        "utils.save_audio(y, sr, path='./temp.flac')\n",
        "\n",
        "# Transcribes the given audio file into a sequence of words\n",
        "# Parameters: path (str) – Path to audio file which to transcribe.\n",
        "# Returns: The audiofile transcription produced by the ASR model\n",
        "asr_model.transcribe_file('./temp.flac')"
      ],
      "execution_count": null,
      "outputs": [
        {
          "output_type": "stream",
          "name": "stdout",
          "text": [
            "Audio saved at ./temp.flac...\n"
          ]
        },
        {
          "output_type": "execute_result",
          "data": {
            "application/vnd.google.colaboratory.intrinsic+json": {
              "type": "string"
            },
            "text/plain": [
              "'FELLOWS HOW ARE YOU'"
            ]
          },
          "metadata": {},
          "execution_count": 22
        }
      ]
    },
    {
      "cell_type": "markdown",
      "metadata": {
        "id": "V5YJjQ9jbAe6"
      },
      "source": [
        "### Evaluate different ASR models "
      ]
    },
    {
      "cell_type": "code",
      "metadata": {
        "id": "c-yI2lWhwb7k"
      },
      "source": [
        "# Define the batch size\n",
        "batch_size = 1\n",
        "\n",
        "# Limit the total number of files to be considered\n",
        "limit_samples = 10\n",
        "\n",
        "# Select one of the model name for testing\n",
        "# ASR modelnames: 'rnn', 'transformer', 'wav2vec'\n",
        "# Check the performance of different ASR models\n",
        "modelname = 'rnn'\n",
        "\n",
        "source, savedir = asr.select_model(modelname)\n",
        "asr_model = EncoderDecoderASR.from_hparams(source=source,savedir=savedir, run_opts={\"device\":\"cuda\"})"
      ],
      "execution_count": null,
      "outputs": []
    },
    {
      "cell_type": "markdown",
      "metadata": {
        "id": "wiTXRI9P1jYn"
      },
      "source": [
        "#### The Levenshtein Distance Algorithm\n",
        "\n",
        "The Levenshtein distance is a string metric for measuring the difference between two sequences. Informally, the Levenshtein distance between two words is the minimum number of single-character edits (i.e. insertions, deletions, or substitutions) required to change one word into the other. It is named after Vladimir Levenshtein, who discovered this equation in 1965.\n",
        "\n",
        "Levenshtein distance may also be referred to as **edit distance**, although it may also denote a larger family of distance metrics. It is closely related to pairwise string alignments.\n",
        "\n",
        "#### Definition\n",
        "\n",
        "\n",
        "Mathematically, the Levenshtein distance between two strings, $a$ and $b$ (of length $|a|$ and $|b|$ respectively), is given by lev $(a,b)$ where:\n",
        "\n",
        "<center>\n",
        "<img src=\"https://cdn.iisc.talentsprint.com/DLFA/Experiment_related_data/Levenshtein_distance.png\" width=600px/>\n",
        "</center>\n",
        "\n",
        "where the $tail$ of some string $x$ is a string of all but the first character of $x$ and $|x|$ is the $n$th character of the string $x$, starting with character 0.\n",
        "\n",
        "Note that the first element in the minimum corresponds to deletion (from a to b), the second to insertion and the third to replacement.\n",
        "\n",
        "For more details refer to the following [link](https://en.wikipedia.org/wiki/Levenshtein_distance) and \n",
        "\n",
        "To understand an example refer to the following [link](https://medium.com/@ethannam/understanding-the-levenshtein-distance-equation-for-beginners-c4285a5604f0)"
      ]
    },
    {
      "cell_type": "markdown",
      "metadata": {
        "id": "fYGQB5wKIaHx"
      },
      "source": [
        "#### Metrics — Word Error Rate (WER) \n",
        "\n",
        "After training our network, we must evaluate how well it performs. A commonly used metric for Speech-to-Text problems is the Word Error Rate (and Character Error Rate). It compares the predicted output and the target transcript, word by word (or character by character) to figure out the number of differences between them.\n",
        "\n",
        "A difference could be a word that is present in the transcript but missing from the prediction (counted as a Deletion), a word that is not in the transcript but has been added into the prediction (an Insertion), or a word that is altered between the prediction and the transcript (a Substitution).\n",
        "\n",
        "\n",
        "<center>\n",
        "<img src=\"https://cdn.iisc.talentsprint.com/DLFA/Experiment_related_data/WER.png\" width=600px/>\n",
        "</center>\n",
        "$\\hspace{6cm} \\text {Count the Insertions, Deletions, and Substitutions between the Transcript and the Prediction}$\n",
        "<br><br>\n",
        "\n",
        "The metric used is the percent of differences relative to the total number of words.\n",
        "\n",
        "\n",
        "\n",
        "Word\\_Error\\_Rate = $\\frac{I \\ + D \\ + S}{N}$ = $\\frac{1 \\ + 1 \\ + 1}{6}$ = $0.5$\n",
        "\n",
        "Where,\n",
        "\n",
        "*   'I' is the number of word insertions,\n",
        "*   'D' is the number of word deletions,\n",
        "*   'S' is the number of word substitutions, and\n",
        "*   'N' is the total number of words in the target\n",
        "\n",
        "\n",
        "\n",
        "\n",
        "\n"
      ]
    },
    {
      "cell_type": "code",
      "metadata": {
        "id": "kt0UE9Hs8ZYO",
        "colab": {
          "base_uri": "https://localhost:8080/"
        },
        "outputId": "3ffba068-24fd-4e83-be6a-cf4f96789c16"
      },
      "source": [
        "# Here we evaluate/test the ASR model on the batches of speech files\n",
        "def batch_evaluate(dict, datasetname, modelname):\n",
        "\n",
        "    # Total length of the audio text samples\n",
        "    total_samples = len(dict)\n",
        "    # print(list(dict.keys()))\n",
        "\n",
        "    total_iter =  total_samples if limit_samples == None else limit_samples\n",
        "    print(f'{total_samples} audio-text pairs found in test set')\n",
        "    print(f'Evaluating {total_iter} pairs')\n",
        "\n",
        "    cer, wer = [], []\n",
        "    while(len(cer) < limit_samples):\n",
        "\n",
        "        # Audio files (.mp3 or .wav or .flac)\n",
        "        audio_batch = list(dict.keys())[len(cer):len(cer)+batch_size]\n",
        "\n",
        "        # Transcriptions corresponding to the audio batch\n",
        "        text_batch = list(dict.values())[len(cer):len(cer)+batch_size]\n",
        "\n",
        "        sigs, lens = [], []\n",
        "        # Loop through each audio file for the batches of audio samples\n",
        "        for audio_file in audio_batch:\n",
        "            # we use torchaudio.load() to convert the wav files to tensors. torchaudio.load() returns a tuple containing the newly \n",
        "            # created tensor along with the sampling frequency of the audio file (16000kHz)\n",
        "            # It returns Tuple[torch.Tensor, int], an output tensor of size `[C x L]` or `[L x C]` where L is the number\n",
        "            # of audio frames and C is the number of channels. An integer which is the sample rate of the audio.\n",
        "            # It consists of a sequence of numbers, each representing a measurement of the intensity or amplitude of the sound at a particular moment in time. \n",
        "            # The number of such measurements is determined by the sampling rate.\n",
        "            snt, fs = torchaudio.load(audio_file)\n",
        "            sigs.append(snt.squeeze())\n",
        "            lens.append(snt.shape[1])\n",
        "\n",
        "        # pad_sequence stacks a list of Tensors along a new dimension, and pads them to equal length. \n",
        "        # For example, if the input is list of sequences with size L x * and if batch_first is False, and T x B x * otherwise.\n",
        "        # B is batch size. It is equal to the number of elements in sequences. T is length of the longest sequence. \n",
        "        # L is length of the sequence. * is any number of trailing dimensions, including none.\n",
        "        # Make all tensor in a batch the same length by padding with zeros\n",
        "        batch = pad_sequence(sigs, batch_first=True, padding_value=0.0)\n",
        "        lens = torch.Tensor(lens) / batch.shape[1]\n",
        "\n",
        "        # transcribe_batch: Transcribes the input audio into a sequence of words\n",
        "        # which returns: list – Each waveform in the batch transcribed.\n",
        "        # tensor – Each predicted token id\n",
        "        preds = asr_model.transcribe_batch(batch, lens)[0]\n",
        "        \n",
        "        for i in range(len(audio_batch)):\n",
        "            # Calculate the word error rate (WER) and character error rate (CER)\n",
        "            # The Levenshtein distance is a number that tells you how different two strings are\n",
        "            # The higher the number, the more different the two strings are\n",
        "            cer_val, wer_val, cer_, wer_ = find_wer_and_cer(preds[i], text_batch[i])\n",
        "            cer.append(cer_val)\n",
        "            wer.append(wer_val)\n",
        "    print('\\ndataset:', datasetname)\n",
        "    print('model:', modelname)\n",
        "    print('CER:', sum(cer)/len(cer))\n",
        "    print('WER:', sum(wer)/len(wer))\n",
        "    return cer, wer\n",
        "\n",
        "# Call the above defined function with the audio text samples\n",
        "# 'dataset_name' is the librispeech-clean\n",
        "# 'modelname' is the rnn\n",
        "cer, wer = batch_evaluate(audio_text_dict, dataset_name, modelname)"
      ],
      "execution_count": null,
      "outputs": [
        {
          "output_type": "stream",
          "name": "stdout",
          "text": [
            "2939 audio-text pairs found in test set\n",
            "Evaluating 10 pairs\n",
            "\n",
            "dataset: librispeech-other\n",
            "model: rnn\n",
            "CER: 5.516108496757032\n",
            "WER: 13.307844078280809\n"
          ]
        }
      ]
    },
    {
      "cell_type": "markdown",
      "metadata": {
        "id": "k_5LIM-KsaPQ"
      },
      "source": [
        "**Exercise:** Evalaute different models on the test data and see the performance of word error rate and character error rate"
      ]
    },
    {
      "cell_type": "markdown",
      "metadata": {
        "id": "FvcHptmvyQbq"
      },
      "source": [
        "Above, we saw how to use the pretrained EncoderDecoderASR model from speechbrain and also listed the datasets to test using the ASR models. Now, we will retrain/finetune the ASR model and see the performance."
      ]
    },
    {
      "cell_type": "markdown",
      "metadata": {
        "id": "ain77zK40hIm"
      },
      "source": [
        "### Importing the required packages"
      ]
    },
    {
      "cell_type": "code",
      "metadata": {
        "id": "4H6tYmeBy03v"
      },
      "source": [
        "import speechbrain as sb\n",
        "# The shutil module offers a number of high-level operations on files and collections of files\n",
        "import shutil\n",
        "import json\n",
        "import os\n",
        "from pathlib import Path\n",
        "# 'DynamicItemDataset' Dataset that reads, wrangles, and produces dicts.\n",
        "from speechbrain.dataio.dataset import DynamicItemDataset"
      ],
      "execution_count": null,
      "outputs": []
    },
    {
      "cell_type": "markdown",
      "metadata": {
        "id": "CNcL36uw0rKG"
      },
      "source": [
        "### Loading and unpacking the data"
      ]
    },
    {
      "cell_type": "code",
      "metadata": {
        "id": "rWAXCqu4y_BB"
      },
      "source": [
        "# Load the commonvoice-clean data\n",
        "dataset_name = 'commonvoice-clean'\n",
        "unpacked_path = utils.unpack_from_drive(dataset_name)\n",
        "audio_text_dict = utils.data_parse_cv(unpacked_path)"
      ],
      "execution_count": null,
      "outputs": []
    },
    {
      "cell_type": "code",
      "metadata": {
        "id": "PsvICzSF09ID"
      },
      "source": [
        "# Create a folder named 'cv' and copy the .mp3 files to the cv-dev folder\n",
        "shutil.unpack_archive('ASR_datasets/train_set/cv-dev.zip', 'cv')"
      ],
      "execution_count": null,
      "outputs": []
    },
    {
      "cell_type": "markdown",
      "metadata": {
        "id": "3gNi6Hu36ft6"
      },
      "source": [
        "### Formatting the speech files of commonvoice dataset\n",
        "\n",
        "The commonvoice data contains the speech files in `.mp3` format and the `transcript.csv`. Now we have to map the .mp3 to the transcription based on the speech id which returns a the speech files in a dictionary format."
      ]
    },
    {
      "cell_type": "code",
      "metadata": {
        "id": "IL_G5qZT0_XV"
      },
      "source": [
        "def data_parse_cv(path):\n",
        "\n",
        "    # Get the transcript files for the speech samples .mp3\n",
        "    files = get_files(path, '.csv')\n",
        "\n",
        "    # Read the .mp3 files\n",
        "    with open(files[0], 'r') as f:\n",
        "        data = f.read()\n",
        "\n",
        "    # Split the .mp3 files and the corresponding transcription    \n",
        "    data = [data_ for data_ in data.split('\\n') if len(data_)>0][1:]\n",
        "    \n",
        "    # Mapping the the speech samples in a dictionary form as (key:value) pair\n",
        "    mapping = {os.path.join(path, data_.split(',')[0].split('/')[-1]): data_.split(',')[1] for data_ in data}\n",
        "    return mapping\n",
        "\n",
        "def get_files(path, extension):\n",
        "    if isinstance(path, str): path = Path(path).expanduser().resolve()\n",
        "    return [str(n) for n in list(path.rglob(f'*{extension}'))]"
      ],
      "execution_count": null,
      "outputs": []
    },
    {
      "cell_type": "code",
      "metadata": {
        "id": "sm7TuQXy2Akt"
      },
      "source": [
        "# Call the 'data_parse_cv' function defined above which returns the key:value pair of speech sample and the transcription \n",
        "ddict = data_parse_cv('cv/cv-dev')\n",
        "examples = {}\n",
        "\n",
        "for idx, key in enumerate(ddict): \n",
        "\n",
        "    # Take the .mp3 files which has the transcriptions less than 5 words\n",
        "    if len(ddict[key].split(' ')) < 5:\n",
        "\n",
        "        # Split the 'key' with utterance id from the .mp3 files\n",
        "        utt_id = key.split('-')[-1][:-4]\n",
        "\n",
        "        # Formatting the dictionary with the below attributes which our model expects\n",
        "        examples[utt_id] = {\"file_path\": key,\n",
        "                            \"words\": ddict[key].upper(),\n",
        "                            \"spkID\": f\"speaker_{idx}\",\n",
        "                            \"length\": torchaudio.info(key).num_frames\n",
        "                            }\n",
        "# Print the number of speech files in the dataset\n",
        "print(len(examples))\n",
        "\n",
        "# Saving the Formatted data to .json file\n",
        "with open(\"data.json\", \"w\") as f:\n",
        "    json.dump(examples, f, indent=4)"
      ],
      "execution_count": null,
      "outputs": []
    },
    {
      "cell_type": "markdown",
      "metadata": {
        "id": "YGn0VxKRwmIp"
      },
      "source": [
        "The pretrained ASR contains the following fiels `asr.ckpt`, `hyperparams.yaml`, `lm.ckpt`, `normalizer.ckpt`, `tokenizer.ckpt`"
      ]
    },
    {
      "cell_type": "code",
      "metadata": {
        "id": "NH6cpRyYb6uN"
      },
      "source": [
        "# Loadin the pretrained EncoderDecoderASR model and saving it in the 'pretrained_ASR' directory\n",
        "asr_model = EncoderDecoderASR.from_hparams(source=\"speechbrain/asr-crdnn-rnnlm-librispeech\", savedir=\"./pretrained_ASR\")\n",
        "\n",
        "# Here we update the existing hyperparamters of hyperparams.yaml in the ASR model which is under 'pretrained_ASR'\n",
        "# Model: E2E ASR with attention-based ASR\n",
        "# Encoder: CRDNN (Convolutional Recurrent Neural Network) model\n",
        "# Decoder: GRU + beamsearch + RNNLM\n",
        "# Here we can finetune the feature parameters, model parameters, decoder paramters etc...\n",
        "# Copy the updated hyperparams.yaml to the 'pretrained_ASR' directory\n",
        "!cp ASR_TTS/ASR_TTS/hyperyaml.yaml /content/pretrained_ASR/hyperparams.yaml\n",
        "asr_model = EncoderDecoderASR.from_hparams(source=\"speechbrain/asr-crdnn-rnnlm-librispeech\", savedir=\"./pretrained_ASR\", run_opts={\"device\":\"cuda\"}) "
      ],
      "execution_count": null,
      "outputs": []
    },
    {
      "cell_type": "markdown",
      "metadata": {
        "id": "CvSQFuJA1Fgk"
      },
      "source": [
        "### Load the json data\n",
        "\n",
        "Here we are loading the speech files from `data.json` and sort the key's by selcting only 395 words, Next we read the audio files which takes the path and provides the signal\n",
        "\n",
        "Refer to the following  [link](https://speechbrain.readthedocs.io/en/latest/API/speechbrain.dataio.dataset.html#speechbrain.dataio.dataset.DynamicItemDataset) for DynamicItemDataset"
      ]
    },
    {
      "cell_type": "code",
      "metadata": {
        "id": "K9P3vyu6_En6"
      },
      "source": [
        "if not os.path.exists('cv'):\n",
        "    shutil.unpack_archive('ASR_datasets/test_set/cv-dev.zip', 'cv')\n",
        "\n",
        "# Define the dataset to load the json data manifest file\n",
        "dataset = DynamicItemDataset.from_json(\"data.json\")\n",
        "\n",
        "# Sort the dataset by the length of the .mp3 files and the number of sentences to be considered as 395\n",
        "# Define datasets sorted by ascending lengths for efficiency\n",
        "dataset = dataset.filtered_sorted(sort_key=\"length\", select_n=395)\n",
        "\n",
        "# Audio Loading from json file which takes the path of the speech sample \n",
        "dataset.add_dynamic_item(sb.dataio.dataio.read_audio, takes=\"file_path\", provides=\"signal\")"
      ],
      "execution_count": null,
      "outputs": []
    },
    {
      "cell_type": "code",
      "metadata": {
        "id": "4grMnuVnAPXH"
      },
      "source": [
        "# Define text processing pipeline. We start from the raw text and then\n",
        "# encode it using the tokenizer. The tokens with BOS(begin of sentence) are used for feeding\n",
        "# decoder during training, the tokens with EOS(end of sentence) for computing the cost function.\n",
        "\n",
        "# It takes words and provides the \"words\", \"tokens_list\", \"tokens_bos\", \"tokens_eos\", \"tokens\"\n",
        "@sb.utils.data_pipeline.takes(\"words\")\n",
        "@sb.utils.data_pipeline.provides(\n",
        "        \"words\", \"tokens_list\", \"tokens_bos\", \"tokens_eos\", \"tokens\")\n",
        "\n",
        "def text_pipeline(words):\n",
        "    yield words\n",
        "    # Tokenize the words \n",
        "    tokens_list = asr_model.tokenizer.encode_as_ids(words)\n",
        "    yield tokens_list\n",
        "    # Add the index at the begining and ending of the sentences \n",
        "    tokens_bos = torch.LongTensor([asr_model.hparams.bos_index] + (tokens_list))\n",
        "    yield tokens_bos\n",
        "    tokens_eos = torch.LongTensor(tokens_list + [asr_model.hparams.eos_index]) # we use same eos and bos indexes as in pretrained model\n",
        "    yield tokens_eos\n",
        "    # Returns the list of unique token ids for the words\n",
        "    tokens = torch.LongTensor(tokens_list)\n",
        "    yield tokens\n",
        "\n",
        "dataset.add_dynamic_item(text_pipeline)\n",
        "# Set output keys to add into the batch. The batch variable will contain all these fields (e.g, id, signal, wordss,..)\n",
        "dataset.set_output_keys([\"id\", \"signal\", \"words\", \"tokens_list\", \"tokens_bos\", \"tokens_eos\", \"tokens\"])\n",
        "dataset[2]"
      ],
      "execution_count": null,
      "outputs": []
    },
    {
      "cell_type": "markdown",
      "metadata": {
        "id": "J70uv0U2Dxvr"
      },
      "source": [
        "### Finetuning the EncoderDecoderASR model\n",
        "\n",
        "#### `on_stage_start`\n",
        "\n",
        "It starts the epoch iteration and prepares for iterating the train data. To adjust the preparation one can override the `on_stage_start` method, which will allow for things like creating containers to store training statistics.\n",
        "\n",
        "#### `on_stage_end`\n",
        "\n",
        "At the end of the training loop, the `on_stage_end` method is called for potential cleanup operations, such as reporting training statistics.\n",
        "\n",
        "\n",
        "One key component of deep learning is iterating the dataset multiple times and performing parameter updates. This process is sometimes called the \"training loop\" and there are usually many stages to this loop. SpeechBrain provides a convenient framework for organizing the training loop, in the form of a class known as the \"Brain\" class, implemented in `speechbrain/core.py`. In each recipe, we sub-class this class and override the methods for which the default implementation doesn't do what is required for that particular recipe.\n",
        "\n",
        "The primary method for this class is the `fit()` method, which takes a set of data and iterates it many times and performs updates to a model. In order to use `fit()`, a minimum of two methods must be defined in the sub-class: `compute_forward()` and `compute_objectives()`. These methods define the computation of the model to generate predictions, as well as the loss terms needed to find a gradient.\n",
        "\n",
        "#### Forward Computations\n",
        "\n",
        "In the Brain class we have to define some important methods such as:\n",
        "\n",
        "**compute_forward**, that specifies all the computations needed to transform the input waveform into the output posterior probabilities)\n",
        "\n",
        "**compute_objective**, which computes the loss function given the labels and the predictions performed by the model.\n"
      ]
    },
    {
      "cell_type": "code",
      "metadata": {
        "id": "82tA9HecAqmM"
      },
      "source": [
        "class EncDecFineTune(sb.Brain):\n",
        "\n",
        "    def on_stage_start(self, stage, epoch):\n",
        "        # Select the current stage (that can be sb.Stage.TRAIN, sb.Stage.VALID, or sb.Stage.TEST)\n",
        "        if stage == sb.Stage.TRAIN:\n",
        "            # The modules to be passed through our model\n",
        "            for module in [self.modules.enc, self.modules.emb, self.modules.dec, self.modules.seq_lin]:\n",
        "                # Unfreeze the weights of the pretrained model\n",
        "                for p in module.parameters():\n",
        "                    p.requires_grad = True\n",
        "\n",
        "    def on_stage_end(self, stage, a, aa):\n",
        "        self.checkpointer.save_and_keep_only()\n",
        "\n",
        "    def compute_forward(self, batch, stage): \n",
        "        \"\"\" \n",
        "        Predicts the next word given the previous ones..\n",
        "\n",
        "        Arguments\n",
        "        ---------\n",
        "        batch : PaddedBatch\n",
        "            This batch object contains all the relevant tensors for computation.\n",
        "        stage : sb.Stage\n",
        "            One of sb.Stage.TRAIN, sb.Stage.VALID, or sb.Stage.TEST.\n",
        "\n",
        "        Returns\n",
        "        -------\n",
        "        predictions : dict\n",
        "            At training time it returns predicted seq2seq log probabilities.\n",
        "            If needed it also returns the ctc output log probabilities.\n",
        "            At validation/test time, it returns the predicted tokens as well.\n",
        "        \"\"\"\n",
        "     \n",
        "        # We first move the batch to the appropriate device. \n",
        "        self.device = 'cuda'\n",
        "        batch = batch.to(self.device)\n",
        "\n",
        "        # batch.signal returns a batch of waveforms [batch, time, channels] or [batch, time] and the relative lengths\n",
        "        wavs, wav_lens = batch.signal\n",
        "\n",
        "        # We just put the batch on the right device and feed the encoded tokens into the model. We feed the tokens with <bos> into the model\n",
        "        # When adding the <bos> token, in fact, we shift all the tokens by one element. \n",
        "        # This way, our input corresponds to the previous token while our model tries to predict the current one\n",
        "        tokens_bos, _ = batch.tokens_bos\n",
        "        wavs, wav_lens = wavs.to(self.device), wav_lens.to(self.device)\n",
        "        \n",
        "        # Extracting the features\n",
        "        feats = self.modules.compute_features(wavs)\n",
        "\n",
        "        # Feature normalization (mean and std)\n",
        "        feats = self.modules.normalize(feats, wav_lens)\n",
        "\n",
        "        # Encode the features with our CRDNN(Convolutional Recurrent Deep Neural Network) encoder\n",
        "        x = self.modules.enc(feats)\n",
        "\n",
        "        # Embed tokens and pass tokens & encoded signal to decoder\n",
        "        e_in = self.modules.emb(tokens_bos) \n",
        "\n",
        "        # we feed our encoded states into an autoregressive attention-based decoder that performs some predictions over the tokens\n",
        "        h, _ = self.modules.dec(e_in, x, wav_lens)\n",
        "\n",
        "        # Linear transformation on the top of the decoder\n",
        "        # Output layer for seq2seq log-probabilities\n",
        "        logits = self.modules.seq_lin(h)\n",
        "\n",
        "        # Find the softmax (for log posteriors computation)\n",
        "        p_seq = self.hparams.log_softmax(logits)\n",
        "        return p_seq, wav_lens\n",
        "\n",
        "    def compute_objectives(self, predictions, batch, stage): \n",
        "        \"\"\" \n",
        "        Predicts the next word given the previous ones..\n",
        "\n",
        "        Arguments\n",
        "        ---------\n",
        "        batch : PaddedBatch\n",
        "            This batch object contains all the relevant tensors for computation.\n",
        "        stage : sb.Stage\n",
        "            One of sb.Stage.TRAIN, sb.Stage.VALID, or sb.Stage.TEST.\n",
        "\n",
        "        Returns\n",
        "        -------\n",
        "        predictions : dict\n",
        "            At training time it returns predicted seq2seq log probabilities.\n",
        "            If needed it also returns the ctc output log probabilities.\n",
        "            At validation/test time, it returns the predicted tokens as well.\n",
        "        \"\"\"\n",
        "        # We first move the batch to the appropriate device. \n",
        "  \n",
        "        p_seq, wav_lens = predictions\n",
        "        ids = batch.id\n",
        "        tokens_eos, tokens_eos_lens = batch.tokens_eos\n",
        "        tokens, tokens_lens = batch.tokens\n",
        "        loss = self.hparams.seq_cost(\n",
        "            p_seq, tokens_eos, tokens_eos_lens)\n",
        "        return loss\n",
        "\n",
        "    def fit_batch(self, batch):\n",
        "        \"\"\" The fit_batch trains each batch of data (by computing the gradient with the backward method \n",
        "          and the updates with step one). The on_stage_end, is called at the end of each stage \n",
        "          (e.g, at the end of each training epoch) and mainly takes care of statistic management, learning rate annealing, and checkpointing\n",
        "      \n",
        "        \"\"\"\n",
        "        # Get the predictions by setting the stage to train\n",
        "        predictions = self.compute_forward(batch, sb.Stage.TRAIN)\n",
        "        # Compute the loss\n",
        "        loss = self.compute_objectives(predictions, batch, sb.Stage.TRAIN)\n",
        "        # Do the backward pass\n",
        "        loss.backward()\n",
        "        if self.check_gradients(loss):\n",
        "            self.optimizer.step()\n",
        "        self.optimizer.zero_grad()\n",
        "        return loss.detach()\n",
        "\n",
        "# Trainer initialization with the modules\n",
        "modules = {\"enc\": asr_model.modules.encoder.model, \n",
        "           \"emb\": asr_model.hparams.emb,\n",
        "           \"dec\": asr_model.hparams.dec,\n",
        "           \"compute_features\": asr_model.modules.encoder.compute_features, # we use the same features \n",
        "           \"normalize\": asr_model.modules.encoder.normalize,\n",
        "           \"seq_lin\": asr_model.hparams.seq_lin}\n",
        "\n",
        "# Set the hyperparameters: Cost function used for training the model is nll_loss\n",
        "# softmax function is used along with the nll_loss\n",
        "# label_smoothing is a regularization method to penalize overconfident predictions and improve generalization and \n",
        "# It has been used in many state-of-the-art models, including image classification, language translation, and speech recognition\n",
        "hparams = {\"seq_cost\": lambda x, y, z: sb.nnet.losses.nll_loss(x, y, z, label_smoothing = 0.1),\n",
        "            \"log_softmax\": sb.nnet.activations.Softmax(apply_log=True), \"device\":'cuda:0'}\n",
        "\n",
        "# Call the function with modeules and the optimizer \n",
        "# This optimizer (SGD) will be constructed by the Brain class after all parameters\n",
        "# are moved to the correct device. Then it will be added to the checkpointer. \n",
        "# This object is used for saving the state of training both so that it\n",
        "# can be resumed if it gets interrupted, and also so that the best checkpoint\n",
        "# can be later loaded for evaluation or inference          \n",
        "brain = EncDecFineTune(modules, hparams=hparams, opt_class=lambda x: torch.optim.SGD(x, 1e-5), checkpointer=asr_model.hparams.checkpointer)\n",
        "brain.tokenizer = asr_model.tokenizer"
      ],
      "execution_count": null,
      "outputs": []
    },
    {
      "cell_type": "markdown",
      "metadata": {
        "id": "rXbIfzS0jigc"
      },
      "source": [
        "### Train the model on commonvoice-clean dataset\n"
      ]
    },
    {
      "cell_type": "code",
      "metadata": {
        "id": "ePHezEDoBexm"
      },
      "source": [
        "# Train the model\n",
        "# Increase no of epochs to see the change in performance\n",
        "num_epochs = 4\n",
        "batch_size = 1\n",
        "brain.fit(range(num_epochs), train_set=dataset, \n",
        "          train_loader_kwargs={\"batch_size\": batch_size, \"drop_last\":True, \"shuffle\": False})"
      ],
      "execution_count": null,
      "outputs": []
    },
    {
      "cell_type": "code",
      "metadata": {
        "id": "-RV1_LfkCXUx"
      },
      "source": [
        "# Saving the checkpoint and copying it to the asr.cpt\n",
        "!cp save/*/model.ckpt pretrained_ASR/asr.ckpt "
      ],
      "execution_count": null,
      "outputs": []
    },
    {
      "cell_type": "markdown",
      "metadata": {
        "id": "g-Fs3WBSkcUc"
      },
      "source": [
        "### Evaluate the model"
      ]
    },
    {
      "cell_type": "code",
      "metadata": {
        "id": "JIAhUcJACbjt"
      },
      "source": [
        "# Test the model on commonvoice-clean with the above trained EncoderDecoderASR with above saved checkpoints\n",
        "limit_samples = 100\n",
        "asr_model = EncoderDecoderASR.from_hparams(source=\"speechbrain/asr-crdnn-rnnlm-librispeech\", savedir=\"./pretrained_ASR\",run_opts={\"device\":\"cuda\"})\n",
        "# Evaluate the model on the testset\n",
        "cer, wer = batch_evaluate(audio_text_dict, dataset_name, 'rnn')"
      ],
      "execution_count": null,
      "outputs": []
    },
    {
      "cell_type": "markdown",
      "metadata": {
        "id": "VHfHdGCP_n6Y"
      },
      "source": [
        "### Please answer the questions below to complete the experiment:\n",
        "\n",
        "\n"
      ]
    },
    {
      "cell_type": "markdown",
      "metadata": {
        "id": "tRwvwQ8_VbWR"
      },
      "source": [
        "#### Consider the following statements about Attention and answer Q1.\n",
        "\n",
        "A. Given a set of vector values, and a vector query, attention is a technique to compute a weighted sum of the values, independent of the query.\n",
        "\n",
        "B.  Given a set of vector values, and a vector query, attention is a technique to compute a weighted sum of the values, dependent on the query.\n",
        "\n",
        "C. Given a set of vector values, and a vector query, attention is a technique to compute a weighted sum of the values, independent of the weights.\n",
        "\n",
        "D. Given a set of vector values, and a vector query, attention is a technique to compute a weighted sum of the values, dependent on the weights."
      ]
    },
    {
      "cell_type": "code",
      "metadata": {
        "id": "NHDYadgG-RHl",
        "cellView": "form"
      },
      "source": [
        "#@title Q.1. Which of the following statements is TRUE for attention?\n",
        "Answer1 = \"\" #@param [\"\",\"Only A\",\"Only B\",\"Only D\",\"Both A and C\",\"Both C and D\"]\n"
      ],
      "execution_count": null,
      "outputs": []
    },
    {
      "cell_type": "markdown",
      "metadata": {
        "id": "BZFB-LkeKSjL"
      },
      "source": [
        "#### Consider the following statements about Connectionist temporal classification (CTC) and answer Q2.\n",
        "\n",
        "A. Connectionist temporal classification was introduced to provide a method of training RNNs to “label unsegmented sequences indirectly,”\n",
        "\n",
        "B. Connectionist temporal classification was introduced to provide a method of training RNNs to “label segmented sequences directly,”\n",
        "\n",
        "C. Connectionist temporal classification was introduced to provide a method of training RNNs to “label segmented sequences indirectly,”\n",
        "\n",
        "D. Connectionist temporal classification was introduced to provide a method of training RNNs to “label unsegmented sequences directly,”"
      ]
    },
    {
      "cell_type": "code",
      "metadata": {
        "id": "Qu3sufDD7pu1",
        "cellView": "form"
      },
      "source": [
        "#@title Q.2. Which of the following statements is TRUE for Connectionist Temporal Classification? \n",
        "Answer2 = \"\" #@param [\"\",\"Only A\",\"Only C\",\"Only D\",\"Both A and C\",\"Both B and D\"]\n"
      ],
      "execution_count": null,
      "outputs": []
    },
    {
      "cell_type": "code",
      "metadata": {
        "id": "NMzKSbLIgFzQ"
      },
      "source": [
        "#@title How was the experiment? { run: \"auto\", form-width: \"500px\", display-mode: \"form\" }\n",
        "Complexity = \"\" #@param [\"\",\"Too Simple, I am wasting time\", \"Good, But Not Challenging for me\", \"Good and Challenging for me\", \"Was Tough, but I did it\", \"Too Difficult for me\"]\n"
      ],
      "execution_count": null,
      "outputs": []
    },
    {
      "cell_type": "code",
      "metadata": {
        "id": "DjcH1VWSFI2l"
      },
      "source": [
        "#@title If it was too easy, what more would you have liked to be added? If it was very difficult, what would you have liked to have been removed? { run: \"auto\", display-mode: \"form\" }\n",
        "Additional = \"\" #@param {type:\"string\"}\n"
      ],
      "execution_count": null,
      "outputs": []
    },
    {
      "cell_type": "code",
      "metadata": {
        "id": "4VBk_4VTAxCM"
      },
      "source": [
        "#@title Can you identify the concepts from the lecture which this experiment covered? { run: \"auto\", vertical-output: true, display-mode: \"form\" }\n",
        "Concepts = \"\" #@param [\"\",\"Yes\", \"No\"]\n"
      ],
      "execution_count": null,
      "outputs": []
    },
    {
      "cell_type": "code",
      "metadata": {
        "id": "XH91cL1JWH7m"
      },
      "source": [
        "#@title  Text and image description/explanation and code comments within the experiment: { run: \"auto\", vertical-output: true, display-mode: \"form\" }\n",
        "Comments = \"\" #@param [\"\",\"Very Useful\", \"Somewhat Useful\", \"Not Useful\", \"Didn't use\"]\n"
      ],
      "execution_count": null,
      "outputs": []
    },
    {
      "cell_type": "code",
      "metadata": {
        "id": "z8xLqj7VWIKW"
      },
      "source": [
        "#@title Mentor Support: { run: \"auto\", vertical-output: true, display-mode: \"form\" }\n",
        "Mentor_support = \"\" #@param [\"\",\"Very Useful\", \"Somewhat Useful\", \"Not Useful\", \"Didn't use\"]\n"
      ],
      "execution_count": null,
      "outputs": []
    },
    {
      "cell_type": "code",
      "metadata": {
        "cellView": "form",
        "id": "FzAZHt1zw-Y-"
      },
      "source": [
        "#@title Run this cell to submit your notebook for grading { vertical-output: true }\n",
        "try:\n",
        "  if submission_id:\n",
        "      return_id = submit_notebook()\n",
        "      if return_id : submission_id = return_id\n",
        "  else:\n",
        "      print(\"Please complete the setup first.\")\n",
        "except NameError:\n",
        "  print (\"Please complete the setup first.\")"
      ],
      "execution_count": null,
      "outputs": []
    }
  ]
}