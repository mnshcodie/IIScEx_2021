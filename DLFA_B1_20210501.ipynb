{
  "nbformat": 4,
  "nbformat_minor": 0,
  "metadata": {
    "colab": {
      "name": "DLFA-B1-20210501.ipynb",
      "private_outputs": true,
      "provenance": [],
      "include_colab_link": true
    },
    "kernelspec": {
      "name": "python3",
      "display_name": "Python 3"
    },
    "language_info": {
      "name": "python"
    }
  },
  "cells": [
    {
      "cell_type": "markdown",
      "metadata": {
        "id": "view-in-github",
        "colab_type": "text"
      },
      "source": [
        "<a href=\"https://colab.research.google.com/github/mnshcodie/IIScEx_2021/blob/main/DLFA_B1_20210501.ipynb\" target=\"_parent\"><img src=\"https://colab.research.google.com/assets/colab-badge.svg\" alt=\"Open In Colab\"/></a>"
      ]
    },
    {
      "cell_type": "code",
      "metadata": {
        "id": "j98dXt0WXqDP"
      },
      "source": [
        "ls"
      ],
      "execution_count": null,
      "outputs": []
    },
    {
      "cell_type": "markdown",
      "metadata": {
        "id": "CSb9cDYgl8GD"
      },
      "source": [
        "Connect to google drive"
      ]
    },
    {
      "cell_type": "code",
      "metadata": {
        "id": "NZzFlOkIX3xL"
      },
      "source": [
        "ls"
      ],
      "execution_count": null,
      "outputs": []
    },
    {
      "cell_type": "code",
      "metadata": {
        "id": "V-EvMdkSaAxs"
      },
      "source": [
        "!head ghw.csv"
      ],
      "execution_count": null,
      "outputs": []
    },
    {
      "cell_type": "code",
      "metadata": {
        "id": "JiDsIiApaX2o"
      },
      "source": [
        "firstLine = True\n",
        "data = []\n",
        "with open(\"ghw.csv\") as qq:\n",
        "    for line in qq:\n",
        "        if firstLine:\n",
        "            firstLine = False\n",
        "        else:\n",
        "            data.append(line)    "
      ],
      "execution_count": null,
      "outputs": []
    },
    {
      "cell_type": "code",
      "metadata": {
        "id": "w2PEsk_EcEWM"
      },
      "source": [
        "data[:10]"
      ],
      "execution_count": null,
      "outputs": []
    },
    {
      "cell_type": "code",
      "metadata": {
        "id": "dcrs8kSrcFn-"
      },
      "source": [
        "firstLine = True\n",
        "QUOTE, COMMA, SPACE = '\"', ',', ' '\n",
        "data = []\n",
        "with open(\"ghw.csv\") as qq:\n",
        "    for line in qq:\n",
        "        if firstLine:\n",
        "            firstLine = False\n",
        "        else:\n",
        "            g, h, w = line.strip().split(COMMA)\n",
        "            data.append([g.strip(QUOTE), h, w])    "
      ],
      "execution_count": null,
      "outputs": []
    },
    {
      "cell_type": "code",
      "metadata": {
        "id": "ze8xUC3qdyxi"
      },
      "source": [
        "data[:10]"
      ],
      "execution_count": null,
      "outputs": []
    },
    {
      "cell_type": "code",
      "metadata": {
        "id": "hYx8kjKzeCym"
      },
      "source": [
        "firstLine = True\n",
        "QUOTE, COMMA, SPACE = '\"', ',', ' '\n",
        "data = []\n",
        "with open(\"ghw.csv\") as qq:\n",
        "    for line in qq:\n",
        "        if firstLine:\n",
        "            firstLine = False\n",
        "        else:\n",
        "            g, h, w = line.strip().split(COMMA)\n",
        "            g, h, w = g.strip(QUOTE), float(h), float(w)\n",
        "            data.append([g, h, w])    "
      ],
      "execution_count": null,
      "outputs": []
    },
    {
      "cell_type": "code",
      "metadata": {
        "id": "OxQLNvtkecRg"
      },
      "source": [
        "data[:10]"
      ],
      "execution_count": null,
      "outputs": []
    },
    {
      "cell_type": "code",
      "metadata": {
        "id": "hzaseEhseefL"
      },
      "source": [
        "firstLine = True\n",
        "INCHES2CM, POUNDS2KG = 2.54, 0.454\n",
        "QUOTE, COMMA, SPACE = '\"', ',', ' '\n",
        "data = []\n",
        "with open(\"ghw.csv\") as qq:\n",
        "    for line in qq:\n",
        "        if firstLine:\n",
        "            firstLine = False\n",
        "        else:\n",
        "            g, h, w = line.strip().split(COMMA)\n",
        "            g, h, w = g.strip(QUOTE), int(float(h) * INCHES2CM + 0.5), int(float(w) * POUNDS2KG + 0.5)\n",
        "            data.append([g, h, w])    "
      ],
      "execution_count": null,
      "outputs": []
    },
    {
      "cell_type": "code",
      "metadata": {
        "id": "GoOuDtFMfGON"
      },
      "source": [
        "data[:10]"
      ],
      "execution_count": null,
      "outputs": []
    },
    {
      "cell_type": "code",
      "metadata": {
        "id": "fu9vtBnefHku"
      },
      "source": [
        "INCHES2CM, POUNDS2KG = 2.54, 0.454\n",
        "def inches2cm(s: str) -> int:\n",
        "    return int(INCHES2CM * float(s) + 0.5)\n",
        "def pounds2kg(s: str) -> int:\n",
        "    return int(POUNDS2KG * float(s) + 0.5)"
      ],
      "execution_count": null,
      "outputs": []
    },
    {
      "cell_type": "code",
      "metadata": {
        "id": "r-_4yQ_ffuaW"
      },
      "source": [
        "firstLine = True\n",
        "QUOTE, COMMA, SPACE = '\"', ',', ' '\n",
        "data = []\n",
        "with open(\"ghw.csv\") as qq:\n",
        "    for line in qq:\n",
        "        if firstLine:\n",
        "            firstLine = False\n",
        "        else:\n",
        "            g, h, w = line.strip().split(COMMA)\n",
        "            g, h, w = g.strip(QUOTE), inches2cm(h), pounds2kg(w)\n",
        "            data.append([g, h, w])    "
      ],
      "execution_count": null,
      "outputs": []
    },
    {
      "cell_type": "code",
      "metadata": {
        "id": "-YhPm5ykf_Xt"
      },
      "source": [
        "data[:10]"
      ],
      "execution_count": null,
      "outputs": []
    },
    {
      "cell_type": "markdown",
      "metadata": {
        "id": "LB3ahdQngAjB"
      },
      "source": [
        "# Enter the Pandas!"
      ]
    },
    {
      "cell_type": "code",
      "metadata": {
        "id": "EnGT-dSJn4zi"
      },
      "source": [
        "import pandas as pd"
      ],
      "execution_count": null,
      "outputs": []
    },
    {
      "cell_type": "code",
      "metadata": {
        "id": "oaqTUFoAou6Z"
      },
      "source": [
        "pd.read_csv(\"ghw.csv\")"
      ],
      "execution_count": null,
      "outputs": []
    },
    {
      "cell_type": "code",
      "metadata": {
        "id": "-ecDLCMroyrf"
      },
      "source": [
        "data = pd.read_csv(\"ghw.csv\")"
      ],
      "execution_count": null,
      "outputs": []
    },
    {
      "cell_type": "code",
      "metadata": {
        "id": "Off7sS6npPhZ"
      },
      "source": [
        "data.describe()"
      ],
      "execution_count": null,
      "outputs": []
    },
    {
      "cell_type": "code",
      "metadata": {
        "id": "WqaUFls-pRI0"
      },
      "source": [
        "data[\"Gender\"]"
      ],
      "execution_count": null,
      "outputs": []
    },
    {
      "cell_type": "code",
      "metadata": {
        "id": "TtjKylUupyKM"
      },
      "source": [
        "data[\"Height\"]"
      ],
      "execution_count": null,
      "outputs": []
    },
    {
      "cell_type": "code",
      "metadata": {
        "id": "DItSWZbop3X4"
      },
      "source": [
        "data.Weight"
      ],
      "execution_count": null,
      "outputs": []
    },
    {
      "cell_type": "code",
      "metadata": {
        "id": "QHjH3Uyzp5i4"
      },
      "source": [
        "type(data)"
      ],
      "execution_count": null,
      "outputs": []
    },
    {
      "cell_type": "code",
      "metadata": {
        "id": "6X2DV8MiqnXk"
      },
      "source": [
        "INCHES2CM, POUNDS2KG = 2.54, 0.454\n",
        "def inches2cm(s: str) -> int:\n",
        "    return int(INCHES2CM * float(s) + 0.5)\n",
        "def pounds2kg(s: str) -> int:\n",
        "    return int(POUNDS2KG * float(s) + 0.5)"
      ],
      "execution_count": null,
      "outputs": []
    },
    {
      "cell_type": "code",
      "metadata": {
        "id": "OgtLYOPuqFtA"
      },
      "source": [
        "data = pd.read_csv(\"ghw.csv\", converters={\"Height\":inches2cm, \"Weight\":pounds2kg})"
      ],
      "execution_count": null,
      "outputs": []
    },
    {
      "cell_type": "code",
      "metadata": {
        "id": "ET3nJCsjq7BS"
      },
      "source": [
        "data[:10]"
      ],
      "execution_count": null,
      "outputs": []
    },
    {
      "cell_type": "code",
      "metadata": {
        "id": "U6-7m7QQrRmh"
      },
      "source": [
        "data = pd.read_csv(\"ghw.csv\", header=0, names=[\"Gen\", \"Ht\", \"Wt\"],converters={\"Ht\":inches2cm, \"Wt\":pounds2kg})"
      ],
      "execution_count": null,
      "outputs": []
    },
    {
      "cell_type": "code",
      "metadata": {
        "id": "qJUuUbp5siF6"
      },
      "source": [
        "data[:10]"
      ],
      "execution_count": null,
      "outputs": []
    },
    {
      "cell_type": "code",
      "metadata": {
        "id": "ZNv3LT3OsjXh"
      },
      "source": [
        "pd.read_csv?"
      ],
      "execution_count": null,
      "outputs": []
    },
    {
      "cell_type": "code",
      "metadata": {
        "id": "p5luQoxvs-ux"
      },
      "source": [
        "male = data[data.Gen==\"Male\"]"
      ],
      "execution_count": null,
      "outputs": []
    },
    {
      "cell_type": "code",
      "metadata": {
        "id": "3ugNp4WpvAj4"
      },
      "source": [
        "male.describe()"
      ],
      "execution_count": null,
      "outputs": []
    },
    {
      "cell_type": "code",
      "metadata": {
        "id": "e_CazxojvFbg"
      },
      "source": [
        "set(data.Gen)"
      ],
      "execution_count": null,
      "outputs": []
    },
    {
      "cell_type": "code",
      "metadata": {
        "id": "005lla2uvLYf"
      },
      "source": [
        "set(male.Gen)"
      ],
      "execution_count": null,
      "outputs": []
    },
    {
      "cell_type": "code",
      "metadata": {
        "id": "msiEW3rBvSxl"
      },
      "source": [
        "tall = data[data.Ht >= 170]"
      ],
      "execution_count": null,
      "outputs": []
    },
    {
      "cell_type": "code",
      "metadata": {
        "id": "U0VTQOodvbaB"
      },
      "source": [
        "tall.describe()"
      ],
      "execution_count": null,
      "outputs": []
    },
    {
      "cell_type": "code",
      "metadata": {
        "id": "51qK1ulCvc0t"
      },
      "source": [
        "heavy = data[data.Wt >= 100]"
      ],
      "execution_count": null,
      "outputs": []
    },
    {
      "cell_type": "code",
      "metadata": {
        "id": "RxrN4Feav0GQ"
      },
      "source": [
        "heavy.describe()"
      ],
      "execution_count": null,
      "outputs": []
    },
    {
      "cell_type": "code",
      "metadata": {
        "id": "QX_pIJtmv14A"
      },
      "source": [
        "stats = heavy.describe()"
      ],
      "execution_count": null,
      "outputs": []
    },
    {
      "cell_type": "code",
      "metadata": {
        "id": "bOMd6UHxwJfz"
      },
      "source": [
        "type(stats)"
      ],
      "execution_count": null,
      "outputs": []
    },
    {
      "cell_type": "code",
      "metadata": {
        "id": "r8uODTYjwKzV"
      },
      "source": [
        "stats"
      ],
      "execution_count": null,
      "outputs": []
    },
    {
      "cell_type": "code",
      "metadata": {
        "id": "L9UmPUOnwRzm"
      },
      "source": [
        "stats.count()"
      ],
      "execution_count": null,
      "outputs": []
    },
    {
      "cell_type": "code",
      "metadata": {
        "id": "Yi2YbmC5wlwd"
      },
      "source": [
        "male = data[data.Gen==\"Male\"]\n",
        "female = data[data.Gen==\"Female\"]\n",
        "tall = data[data.Ht >= 180]\n",
        "heavy = data[data.Wt >= 100]"
      ],
      "execution_count": null,
      "outputs": []
    },
    {
      "cell_type": "code",
      "metadata": {
        "id": "IGmLRk6L28Lu"
      },
      "source": [
        "import matplotlib.pyplot as plt"
      ],
      "execution_count": null,
      "outputs": []
    },
    {
      "cell_type": "code",
      "metadata": {
        "id": "aB3HUvxX3Jpp"
      },
      "source": [
        "import numpy as np"
      ],
      "execution_count": null,
      "outputs": []
    },
    {
      "cell_type": "code",
      "metadata": {
        "id": "picvga4s3OAg"
      },
      "source": [
        "x = np.linspace(-4 * np.pi, 4 * np.pi, num=100)"
      ],
      "execution_count": null,
      "outputs": []
    },
    {
      "cell_type": "code",
      "metadata": {
        "id": "SbRWNI3D3RMv"
      },
      "source": [
        "y = x * np.sin(x)"
      ],
      "execution_count": null,
      "outputs": []
    },
    {
      "cell_type": "code",
      "metadata": {
        "id": "eWVp7McT3gIb"
      },
      "source": [
        "plt.plot(x, y)"
      ],
      "execution_count": null,
      "outputs": []
    },
    {
      "cell_type": "code",
      "metadata": {
        "id": "K6w2xhzN3kzR"
      },
      "source": [
        "type(x)"
      ],
      "execution_count": null,
      "outputs": []
    },
    {
      "cell_type": "code",
      "metadata": {
        "id": "q9VQNiuw315k"
      },
      "source": [
        "xx = np.linspace(-4 * np.pi, 4 * np.pi, num=20)"
      ],
      "execution_count": null,
      "outputs": []
    },
    {
      "cell_type": "code",
      "metadata": {
        "id": "G5COuOJr5EKU"
      },
      "source": [
        "xx"
      ],
      "execution_count": null,
      "outputs": []
    },
    {
      "cell_type": "code",
      "metadata": {
        "id": "-_Qlt0UO5EyD"
      },
      "source": [
        "xx + 2"
      ],
      "execution_count": null,
      "outputs": []
    },
    {
      "cell_type": "code",
      "metadata": {
        "id": "-ZeZj6W55GSb"
      },
      "source": [
        "xx * 10"
      ],
      "execution_count": null,
      "outputs": []
    },
    {
      "cell_type": "code",
      "metadata": {
        "id": "RFWPTUJ25PD5"
      },
      "source": [
        "import matplotlib as mp"
      ],
      "execution_count": null,
      "outputs": []
    },
    {
      "cell_type": "markdown",
      "metadata": {
        "id": "WGQTNzcs50e1"
      },
      "source": [
        "10, 5, 16, 8, 4, 2, 1, ?"
      ]
    },
    {
      "cell_type": "markdown",
      "metadata": {
        "id": "Bg01N9Kf6h8y"
      },
      "source": [
        "25, 76, 38, 19, 58, 29, 88, 44, 22, 11, 34, 17, 52, 26, 13, 40, 20, 10, 5, 16, 8, 4, 2, 1, 4, 2, 1 ..."
      ]
    },
    {
      "cell_type": "markdown",
      "metadata": {
        "id": "OVFmjBLp65wV"
      },
      "source": [
        "Collatz\n",
        "\n",
        "Collatz, Kakutani, Ulam\n",
        "\n",
        "Hailstone"
      ]
    },
    {
      "cell_type": "code",
      "metadata": {
        "id": "9w1IR69X7Uqt"
      },
      "source": [
        "%matplotlib inline\n",
        "import matplotlib.pyplot as plt"
      ],
      "execution_count": null,
      "outputs": []
    },
    {
      "cell_type": "code",
      "metadata": {
        "id": "DJQpAO537-uf"
      },
      "source": [
        "plt.xlabel(\"XXXX\")\n",
        "plt.plot(y, x)"
      ],
      "execution_count": null,
      "outputs": []
    },
    {
      "cell_type": "code",
      "metadata": {
        "id": "OmKg3YWD8HCR"
      },
      "source": [
        ""
      ],
      "execution_count": null,
      "outputs": []
    }
  ]
}